{
 "cells": [
  {
   "cell_type": "code",
   "execution_count": 1,
   "id": "57ddc186",
   "metadata": {
    "execution": {
     "iopub.execute_input": "2024-12-26T20:51:17.294422Z",
     "iopub.status.busy": "2024-12-26T20:51:17.293960Z",
     "iopub.status.idle": "2024-12-26T20:51:19.756700Z",
     "shell.execute_reply": "2024-12-26T20:51:19.755029Z"
    },
    "papermill": {
     "duration": 2.482958,
     "end_time": "2024-12-26T20:51:19.760767",
     "exception": false,
     "start_time": "2024-12-26T20:51:17.277809",
     "status": "completed"
    },
    "tags": []
   },
   "outputs": [
    {
     "name": "stdout",
     "output_type": "stream",
     "text": [
      "Requirement already satisfied: torch in /sciclone/data10/iahewababarand/.venv/lib/python3.9/site-packages (2.5.1)\r\n",
      "Requirement already satisfied: datasets in /sciclone/data10/iahewababarand/.venv/lib/python3.9/site-packages (3.1.0)\r\n",
      "Requirement already satisfied: filelock in /sciclone/data10/iahewababarand/.venv/lib/python3.9/site-packages (from torch) (3.16.1)\r\n",
      "Requirement already satisfied: typing-extensions>=4.8.0 in /sciclone/data10/iahewababarand/.venv/lib/python3.9/site-packages (from torch) (4.12.2)\r\n",
      "Requirement already satisfied: networkx in /sciclone/data10/iahewababarand/.venv/lib/python3.9/site-packages (from torch) (3.2.1)\r\n",
      "Requirement already satisfied: jinja2 in /sciclone/data10/iahewababarand/.venv/lib/python3.9/site-packages (from torch) (3.1.4)\r\n",
      "Requirement already satisfied: fsspec in /sciclone/data10/iahewababarand/.venv/lib/python3.9/site-packages (from torch) (2024.9.0)\r\n",
      "Requirement already satisfied: nvidia-cuda-nvrtc-cu12==12.4.127 in /sciclone/data10/iahewababarand/.venv/lib/python3.9/site-packages (from torch) (12.4.127)\r\n",
      "Requirement already satisfied: nvidia-cuda-runtime-cu12==12.4.127 in /sciclone/data10/iahewababarand/.venv/lib/python3.9/site-packages (from torch) (12.4.127)\r\n",
      "Requirement already satisfied: nvidia-cuda-cupti-cu12==12.4.127 in /sciclone/data10/iahewababarand/.venv/lib/python3.9/site-packages (from torch) (12.4.127)\r\n",
      "Requirement already satisfied: nvidia-cudnn-cu12==9.1.0.70 in /sciclone/data10/iahewababarand/.venv/lib/python3.9/site-packages (from torch) (9.1.0.70)\r\n",
      "Requirement already satisfied: nvidia-cublas-cu12==12.4.5.8 in /sciclone/data10/iahewababarand/.venv/lib/python3.9/site-packages (from torch) (12.4.5.8)\r\n",
      "Requirement already satisfied: nvidia-cufft-cu12==11.2.1.3 in /sciclone/data10/iahewababarand/.venv/lib/python3.9/site-packages (from torch) (11.2.1.3)\r\n",
      "Requirement already satisfied: nvidia-curand-cu12==10.3.5.147 in /sciclone/data10/iahewababarand/.venv/lib/python3.9/site-packages (from torch) (10.3.5.147)\r\n",
      "Requirement already satisfied: nvidia-cusolver-cu12==11.6.1.9 in /sciclone/data10/iahewababarand/.venv/lib/python3.9/site-packages (from torch) (11.6.1.9)\r\n"
     ]
    },
    {
     "name": "stdout",
     "output_type": "stream",
     "text": [
      "Requirement already satisfied: nvidia-cusparse-cu12==12.3.1.170 in /sciclone/data10/iahewababarand/.venv/lib/python3.9/site-packages (from torch) (12.3.1.170)\r\n",
      "Requirement already satisfied: nvidia-nccl-cu12==2.21.5 in /sciclone/data10/iahewababarand/.venv/lib/python3.9/site-packages (from torch) (2.21.5)\r\n",
      "Requirement already satisfied: nvidia-nvtx-cu12==12.4.127 in /sciclone/data10/iahewababarand/.venv/lib/python3.9/site-packages (from torch) (12.4.127)\r\n",
      "Requirement already satisfied: nvidia-nvjitlink-cu12==12.4.127 in /sciclone/data10/iahewababarand/.venv/lib/python3.9/site-packages (from torch) (12.4.127)\r\n",
      "Requirement already satisfied: triton==3.1.0 in /sciclone/data10/iahewababarand/.venv/lib/python3.9/site-packages (from torch) (3.1.0)\r\n",
      "Requirement already satisfied: sympy==1.13.1 in /sciclone/data10/iahewababarand/.venv/lib/python3.9/site-packages (from torch) (1.13.1)\r\n",
      "Requirement already satisfied: mpmath<1.4,>=1.1.0 in /sciclone/data10/iahewababarand/.venv/lib/python3.9/site-packages (from sympy==1.13.1->torch) (1.3.0)\r\n"
     ]
    },
    {
     "name": "stdout",
     "output_type": "stream",
     "text": [
      "Requirement already satisfied: numpy>=1.17 in /sciclone/data10/iahewababarand/.venv/lib/python3.9/site-packages (from datasets) (2.0.2)\r\n",
      "Requirement already satisfied: pyarrow>=15.0.0 in /sciclone/data10/iahewababarand/.venv/lib/python3.9/site-packages (from datasets) (18.0.0)\r\n",
      "Requirement already satisfied: dill<0.3.9,>=0.3.0 in /sciclone/data10/iahewababarand/.venv/lib/python3.9/site-packages (from datasets) (0.3.8)\r\n",
      "Requirement already satisfied: pandas in /sciclone/data10/iahewababarand/.venv/lib/python3.9/site-packages (from datasets) (2.2.3)\r\n",
      "Requirement already satisfied: requests>=2.32.2 in /sciclone/data10/iahewababarand/.venv/lib/python3.9/site-packages (from datasets) (2.32.3)\r\n",
      "Requirement already satisfied: tqdm>=4.66.3 in /sciclone/data10/iahewababarand/.venv/lib/python3.9/site-packages (from datasets) (4.66.6)\r\n",
      "Requirement already satisfied: xxhash in /sciclone/data10/iahewababarand/.venv/lib/python3.9/site-packages (from datasets) (3.5.0)\r\n",
      "Requirement already satisfied: multiprocess<0.70.17 in /sciclone/data10/iahewababarand/.venv/lib/python3.9/site-packages (from datasets) (0.70.16)\r\n",
      "Requirement already satisfied: aiohttp in /sciclone/data10/iahewababarand/.venv/lib/python3.9/site-packages (from datasets) (3.10.10)\r\n",
      "Requirement already satisfied: huggingface-hub>=0.23.0 in /sciclone/data10/iahewababarand/.venv/lib/python3.9/site-packages (from datasets) (0.26.2)\r\n",
      "Requirement already satisfied: packaging in /sciclone/data10/iahewababarand/.venv/lib/python3.9/site-packages (from datasets) (24.1)\r\n",
      "Requirement already satisfied: pyyaml>=5.1 in /sciclone/data10/iahewababarand/.venv/lib/python3.9/site-packages (from datasets) (6.0.2)\r\n"
     ]
    },
    {
     "name": "stdout",
     "output_type": "stream",
     "text": [
      "Requirement already satisfied: aiohappyeyeballs>=2.3.0 in /sciclone/data10/iahewababarand/.venv/lib/python3.9/site-packages (from aiohttp->datasets) (2.4.3)\r\n",
      "Requirement already satisfied: aiosignal>=1.1.2 in /sciclone/data10/iahewababarand/.venv/lib/python3.9/site-packages (from aiohttp->datasets) (1.3.1)\r\n",
      "Requirement already satisfied: attrs>=17.3.0 in /sciclone/data10/iahewababarand/.venv/lib/python3.9/site-packages (from aiohttp->datasets) (24.2.0)\r\n",
      "Requirement already satisfied: frozenlist>=1.1.1 in /sciclone/data10/iahewababarand/.venv/lib/python3.9/site-packages (from aiohttp->datasets) (1.5.0)\r\n",
      "Requirement already satisfied: multidict<7.0,>=4.5 in /sciclone/data10/iahewababarand/.venv/lib/python3.9/site-packages (from aiohttp->datasets) (6.1.0)\r\n",
      "Requirement already satisfied: yarl<2.0,>=1.12.0 in /sciclone/data10/iahewababarand/.venv/lib/python3.9/site-packages (from aiohttp->datasets) (1.17.1)\r\n",
      "Requirement already satisfied: async-timeout<5.0,>=4.0 in /sciclone/data10/iahewababarand/.venv/lib/python3.9/site-packages (from aiohttp->datasets) (4.0.3)\r\n"
     ]
    },
    {
     "name": "stdout",
     "output_type": "stream",
     "text": [
      "Requirement already satisfied: charset-normalizer<4,>=2 in /sciclone/data10/iahewababarand/.venv/lib/python3.9/site-packages (from requests>=2.32.2->datasets) (3.4.0)\r\n",
      "Requirement already satisfied: idna<4,>=2.5 in /sciclone/data10/iahewababarand/.venv/lib/python3.9/site-packages (from requests>=2.32.2->datasets) (3.10)\r\n",
      "Requirement already satisfied: urllib3<3,>=1.21.1 in /sciclone/data10/iahewababarand/.venv/lib/python3.9/site-packages (from requests>=2.32.2->datasets) (1.26.20)\r\n",
      "Requirement already satisfied: certifi>=2017.4.17 in /sciclone/data10/iahewababarand/.venv/lib/python3.9/site-packages (from requests>=2.32.2->datasets) (2024.8.30)\r\n"
     ]
    },
    {
     "name": "stdout",
     "output_type": "stream",
     "text": [
      "Requirement already satisfied: MarkupSafe>=2.0 in /sciclone/data10/iahewababarand/.venv/lib/python3.9/site-packages (from jinja2->torch) (3.0.2)\r\n",
      "Requirement already satisfied: python-dateutil>=2.8.2 in /sciclone/data10/iahewababarand/.venv/lib/python3.9/site-packages (from pandas->datasets) (2.9.0.post0)\r\n",
      "Requirement already satisfied: pytz>=2020.1 in /sciclone/data10/iahewababarand/.venv/lib/python3.9/site-packages (from pandas->datasets) (2024.2)\r\n",
      "Requirement already satisfied: tzdata>=2022.7 in /sciclone/data10/iahewababarand/.venv/lib/python3.9/site-packages (from pandas->datasets) (2024.2)\r\n"
     ]
    },
    {
     "name": "stdout",
     "output_type": "stream",
     "text": [
      "Requirement already satisfied: six>=1.5 in /sciclone/data10/iahewababarand/.venv/lib/python3.9/site-packages (from python-dateutil>=2.8.2->pandas->datasets) (1.16.0)\r\n"
     ]
    },
    {
     "name": "stdout",
     "output_type": "stream",
     "text": [
      "Requirement already satisfied: propcache>=0.2.0 in /sciclone/data10/iahewababarand/.venv/lib/python3.9/site-packages (from yarl<2.0,>=1.12.0->aiohttp->datasets) (0.2.0)\r\n"
     ]
    },
    {
     "name": "stdout",
     "output_type": "stream",
     "text": [
      "Note: you may need to restart the kernel to use updated packages.\n"
     ]
    }
   ],
   "source": [
    "pip install torch datasets"
   ]
  },
  {
   "cell_type": "code",
   "execution_count": 2,
   "id": "57961ed4",
   "metadata": {
    "execution": {
     "iopub.execute_input": "2024-12-26T20:51:19.784855Z",
     "iopub.status.busy": "2024-12-26T20:51:19.784486Z",
     "iopub.status.idle": "2024-12-26T20:51:26.230478Z",
     "shell.execute_reply": "2024-12-26T20:51:26.228573Z"
    },
    "papermill": {
     "duration": 6.460088,
     "end_time": "2024-12-26T20:51:26.234299",
     "exception": false,
     "start_time": "2024-12-26T20:51:19.774211",
     "status": "completed"
    },
    "tags": []
   },
   "outputs": [],
   "source": [
    "import torch\n",
    "import torch.nn as nn\n",
    "import pandas as pd\n",
    "import json\n",
    "from torch.utils.data import Dataset, DataLoader, random_split\n",
    "import re\n",
    "from sklearn.utils import shuffle"
   ]
  },
  {
   "cell_type": "code",
   "execution_count": 3,
   "id": "68a36291",
   "metadata": {
    "execution": {
     "iopub.execute_input": "2024-12-26T20:51:26.259835Z",
     "iopub.status.busy": "2024-12-26T20:51:26.258989Z",
     "iopub.status.idle": "2024-12-26T20:51:35.546788Z",
     "shell.execute_reply": "2024-12-26T20:51:35.545364Z"
    },
    "papermill": {
     "duration": 9.300049,
     "end_time": "2024-12-26T20:51:35.547733",
     "exception": false,
     "start_time": "2024-12-26T20:51:26.247684",
     "status": "completed"
    },
    "tags": []
   },
   "outputs": [
    {
     "data": {
      "text/html": [
       "<div>\n",
       "<style scoped>\n",
       "    .dataframe tbody tr th:only-of-type {\n",
       "        vertical-align: middle;\n",
       "    }\n",
       "\n",
       "    .dataframe tbody tr th {\n",
       "        vertical-align: top;\n",
       "    }\n",
       "\n",
       "    .dataframe thead th {\n",
       "        text-align: right;\n",
       "    }\n",
       "</style>\n",
       "<table border=\"1\" class=\"dataframe\">\n",
       "  <thead>\n",
       "    <tr style=\"text-align: right;\">\n",
       "      <th></th>\n",
       "      <th>content_syntactic_blocstring</th>\n",
       "      <th>action_blocstring</th>\n",
       "      <th>changes_list_content_syntactic_</th>\n",
       "      <th>changes_list_action</th>\n",
       "      <th>src</th>\n",
       "      <th>userId</th>\n",
       "      <th>user_class</th>\n",
       "      <th>tweet_count</th>\n",
       "      <th>change_content_syntactic</th>\n",
       "      <th>change_action</th>\n",
       "      <th>change_change_dynamic_score</th>\n",
       "      <th>highest_change_in_content_syntactic</th>\n",
       "      <th>lowest_change_in_content_syntactic</th>\n",
       "      <th>standard_deviation_of_content_syntactic</th>\n",
       "      <th>highest_change_in_action</th>\n",
       "      <th>lowest_change_in_action</th>\n",
       "      <th>standard_deviation_of_action</th>\n",
       "      <th>diversity_action</th>\n",
       "      <th>diversity_content_syntactic</th>\n",
       "      <th>diversity_change_dynamics_score</th>\n",
       "    </tr>\n",
       "  </thead>\n",
       "  <tbody>\n",
       "    <tr>\n",
       "      <th>0</th>\n",
       "      <td>(mmmmmmmmqt)(mmmmmmmmqt)(mmmmmmmmqt)(mmmmmmmmq...</td>\n",
       "      <td>rprp⚀pr□prrprrrprpprprprprprpprprprp□rprprprrr...</td>\n",
       "      <td>[0.683772233983162, 0.00647286670992131, 0.801...</td>\n",
       "      <td>{'content_syntactic': [0.683772233983162, 0.00...</td>\n",
       "      <td>astroturf</td>\n",
       "      <td>146048090</td>\n",
       "      <td>bot</td>\n",
       "      <td>274</td>\n",
       "      <td>0.556376</td>\n",
       "      <td>0.297313</td>\n",
       "      <td>1.024345</td>\n",
       "      <td>0.938307</td>\n",
       "      <td>0.006473</td>\n",
       "      <td>0.275047</td>\n",
       "      <td>0.901294</td>\n",
       "      <td>0.054951</td>\n",
       "      <td>0.200933</td>\n",
       "      <td>0.653102</td>\n",
       "      <td>0.652532</td>\n",
       "      <td>0.450906</td>\n",
       "    </tr>\n",
       "    <tr>\n",
       "      <th>1</th>\n",
       "      <td>(mmmmmmmqt)(mmmmmmmqt)(mmmmmmmqt)(mmmmmmmqt)(m...</td>\n",
       "      <td>r□pr□rr□rp⚀r⚀TTTTTTT□r⚀p⚀π□p|⚀rr⚀rr⚀rr□r⚀r|⚀p⚀...</td>\n",
       "      <td>[0.0600874600144512, 0.022936062507937005, 0.0...</td>\n",
       "      <td>{'content_syntactic': [0.0600874600144512, 0.0...</td>\n",
       "      <td>astroturf</td>\n",
       "      <td>797927149856403456</td>\n",
       "      <td>bot</td>\n",
       "      <td>275</td>\n",
       "      <td>0.427565</td>\n",
       "      <td>0.484909</td>\n",
       "      <td>0.711994</td>\n",
       "      <td>1.000000</td>\n",
       "      <td>0.004220</td>\n",
       "      <td>0.356787</td>\n",
       "      <td>0.989180</td>\n",
       "      <td>0.068479</td>\n",
       "      <td>0.291316</td>\n",
       "      <td>0.707387</td>\n",
       "      <td>0.693840</td>\n",
       "      <td>0.151417</td>\n",
       "    </tr>\n",
       "    <tr>\n",
       "      <th>2</th>\n",
       "      <td>(mmt)(mmt)(qt)(qt)(qt)(mqt)(qt)(t)(qt)(qt)(Em)...</td>\n",
       "      <td>r□r⚀r⚀rr□rrr□r□r⚀rrr⚀r|⚁rrrrr□rrrrrr□rpprrrp□r...</td>\n",
       "      <td>[0.4050577935998917, 0.2173762078750736, 0.181...</td>\n",
       "      <td>{'content_syntactic': [0.4050577935998917, 0.2...</td>\n",
       "      <td>astroturf</td>\n",
       "      <td>1046169889138868225</td>\n",
       "      <td>bot</td>\n",
       "      <td>277</td>\n",
       "      <td>0.442671</td>\n",
       "      <td>0.284123</td>\n",
       "      <td>1.405920</td>\n",
       "      <td>1.000000</td>\n",
       "      <td>0.015253</td>\n",
       "      <td>0.265496</td>\n",
       "      <td>0.913974</td>\n",
       "      <td>0.045573</td>\n",
       "      <td>0.204972</td>\n",
       "      <td>0.676182</td>\n",
       "      <td>0.644029</td>\n",
       "      <td>0.297367</td>\n",
       "    </tr>\n",
       "    <tr>\n",
       "      <th>3</th>\n",
       "      <td>(mmt)(mmmmmmqt)(mmmmmmmmmqt)(mmt)(mmt)(qt)(mmm...</td>\n",
       "      <td>prrpp□rrrrrrrrrrrrrr□rr□rrr□rrprrrrrrr□prrrrrr...</td>\n",
       "      <td>[0.6288092648051271, 0.17944110183186945, 1.0,...</td>\n",
       "      <td>{'content_syntactic': [0.6288092648051271, 0.1...</td>\n",
       "      <td>astroturf</td>\n",
       "      <td>1085010463128195073</td>\n",
       "      <td>bot</td>\n",
       "      <td>244</td>\n",
       "      <td>0.368786</td>\n",
       "      <td>0.419595</td>\n",
       "      <td>1.029069</td>\n",
       "      <td>1.000000</td>\n",
       "      <td>0.111362</td>\n",
       "      <td>0.206134</td>\n",
       "      <td>1.000000</td>\n",
       "      <td>0.049906</td>\n",
       "      <td>0.306818</td>\n",
       "      <td>0.698081</td>\n",
       "      <td>0.620676</td>\n",
       "      <td>0.211830</td>\n",
       "    </tr>\n",
       "    <tr>\n",
       "      <th>4</th>\n",
       "      <td>(mmmmmmmqt)|(Em)|(t)(mmqt)(mt)(mmt)|(qt)(HUqt)...</td>\n",
       "      <td>p|⚁p|⚀p□p□p□p|⚁rrrrrrrrpr□prrprr□rrrprrprrrprp...</td>\n",
       "      <td>[1.0, 1.0, 0.7298648986655512, 0.8616571072267...</td>\n",
       "      <td>{'content_syntactic': [1.0, 1.0, 0.72986489866...</td>\n",
       "      <td>astroturf</td>\n",
       "      <td>1613166488</td>\n",
       "      <td>bot</td>\n",
       "      <td>245</td>\n",
       "      <td>0.618332</td>\n",
       "      <td>0.353069</td>\n",
       "      <td>0.605766</td>\n",
       "      <td>1.000000</td>\n",
       "      <td>0.209196</td>\n",
       "      <td>0.253005</td>\n",
       "      <td>0.849471</td>\n",
       "      <td>0.075654</td>\n",
       "      <td>0.199506</td>\n",
       "      <td>0.680286</td>\n",
       "      <td>0.766445</td>\n",
       "      <td>0.627025</td>\n",
       "    </tr>\n",
       "  </tbody>\n",
       "</table>\n",
       "</div>"
      ],
      "text/plain": [
       "                        content_syntactic_blocstring  \\\n",
       "0  (mmmmmmmmqt)(mmmmmmmmqt)(mmmmmmmmqt)(mmmmmmmmq...   \n",
       "1  (mmmmmmmqt)(mmmmmmmqt)(mmmmmmmqt)(mmmmmmmqt)(m...   \n",
       "2  (mmt)(mmt)(qt)(qt)(qt)(mqt)(qt)(t)(qt)(qt)(Em)...   \n",
       "3  (mmt)(mmmmmmqt)(mmmmmmmmmqt)(mmt)(mmt)(qt)(mmm...   \n",
       "4  (mmmmmmmqt)|(Em)|(t)(mmqt)(mt)(mmt)|(qt)(HUqt)...   \n",
       "\n",
       "                                   action_blocstring  \\\n",
       "0  rprp⚀pr□prrprrrprpprprprprprpprprprp□rprprprrr...   \n",
       "1  r□pr□rr□rp⚀r⚀TTTTTTT□r⚀p⚀π□p|⚀rr⚀rr⚀rr□r⚀r|⚀p⚀...   \n",
       "2  r□r⚀r⚀rr□rrr□r□r⚀rrr⚀r|⚁rrrrr□rrrrrr□rpprrrp□r...   \n",
       "3  prrpp□rrrrrrrrrrrrrr□rr□rrr□rrprrrrrrr□prrrrrr...   \n",
       "4  p|⚁p|⚀p□p□p□p|⚁rrrrrrrrpr□prrprr□rrrprrprrrprp...   \n",
       "\n",
       "                     changes_list_content_syntactic_  \\\n",
       "0  [0.683772233983162, 0.00647286670992131, 0.801...   \n",
       "1  [0.0600874600144512, 0.022936062507937005, 0.0...   \n",
       "2  [0.4050577935998917, 0.2173762078750736, 0.181...   \n",
       "3  [0.6288092648051271, 0.17944110183186945, 1.0,...   \n",
       "4  [1.0, 1.0, 0.7298648986655512, 0.8616571072267...   \n",
       "\n",
       "                                 changes_list_action        src  \\\n",
       "0  {'content_syntactic': [0.683772233983162, 0.00...  astroturf   \n",
       "1  {'content_syntactic': [0.0600874600144512, 0.0...  astroturf   \n",
       "2  {'content_syntactic': [0.4050577935998917, 0.2...  astroturf   \n",
       "3  {'content_syntactic': [0.6288092648051271, 0.1...  astroturf   \n",
       "4  {'content_syntactic': [1.0, 1.0, 0.72986489866...  astroturf   \n",
       "\n",
       "                userId user_class  tweet_count  change_content_syntactic  \\\n",
       "0            146048090        bot          274                  0.556376   \n",
       "1   797927149856403456        bot          275                  0.427565   \n",
       "2  1046169889138868225        bot          277                  0.442671   \n",
       "3  1085010463128195073        bot          244                  0.368786   \n",
       "4           1613166488        bot          245                  0.618332   \n",
       "\n",
       "   change_action  change_change_dynamic_score  \\\n",
       "0       0.297313                     1.024345   \n",
       "1       0.484909                     0.711994   \n",
       "2       0.284123                     1.405920   \n",
       "3       0.419595                     1.029069   \n",
       "4       0.353069                     0.605766   \n",
       "\n",
       "   highest_change_in_content_syntactic  lowest_change_in_content_syntactic  \\\n",
       "0                             0.938307                            0.006473   \n",
       "1                             1.000000                            0.004220   \n",
       "2                             1.000000                            0.015253   \n",
       "3                             1.000000                            0.111362   \n",
       "4                             1.000000                            0.209196   \n",
       "\n",
       "   standard_deviation_of_content_syntactic  highest_change_in_action  \\\n",
       "0                                 0.275047                  0.901294   \n",
       "1                                 0.356787                  0.989180   \n",
       "2                                 0.265496                  0.913974   \n",
       "3                                 0.206134                  1.000000   \n",
       "4                                 0.253005                  0.849471   \n",
       "\n",
       "   lowest_change_in_action  standard_deviation_of_action  diversity_action  \\\n",
       "0                 0.054951                      0.200933          0.653102   \n",
       "1                 0.068479                      0.291316          0.707387   \n",
       "2                 0.045573                      0.204972          0.676182   \n",
       "3                 0.049906                      0.306818          0.698081   \n",
       "4                 0.075654                      0.199506          0.680286   \n",
       "\n",
       "   diversity_content_syntactic  diversity_change_dynamics_score  \n",
       "0                     0.652532                         0.450906  \n",
       "1                     0.693840                         0.151417  \n",
       "2                     0.644029                         0.297367  \n",
       "3                     0.620676                         0.211830  \n",
       "4                     0.766445                         0.627025  "
      ]
     },
     "execution_count": 3,
     "metadata": {},
     "output_type": "execute_result"
    }
   ],
   "source": [
    "def get_data(filename):\n",
    "    \n",
    "    with open(filename, 'r', encoding='utf-8') as file:\n",
    "        data = json.load(file)\n",
    "\n",
    "    df = pd.DataFrame(data)\n",
    "    return df\n",
    "\n",
    "data = get_data('output_file copy.json')\n",
    "# data = get_data('./rnn/only_action_method/output_file copy.json')\n",
    "\n",
    "data.head()"
   ]
  },
  {
   "cell_type": "code",
   "execution_count": 4,
   "id": "79634415",
   "metadata": {
    "execution": {
     "iopub.execute_input": "2024-12-26T20:51:35.559596Z",
     "iopub.status.busy": "2024-12-26T20:51:35.558992Z",
     "iopub.status.idle": "2024-12-26T20:51:35.637194Z",
     "shell.execute_reply": "2024-12-26T20:51:35.636241Z"
    },
    "papermill": {
     "duration": 0.085016,
     "end_time": "2024-12-26T20:51:35.638077",
     "exception": false,
     "start_time": "2024-12-26T20:51:35.553061",
     "status": "completed"
    },
    "tags": []
   },
   "outputs": [
    {
     "name": "stdout",
     "output_type": "stream",
     "text": [
      "Original class distribution:\n",
      "user_class\n",
      "bot      32041\n",
      "human    27704\n",
      "Name: count, dtype: int64\n",
      "Balanced class distribution:\n",
      "user_class\n",
      "human    27704\n",
      "bot      27704\n",
      "Name: count, dtype: int64\n"
     ]
    }
   ],
   "source": [
    "print(\"Original class distribution:\")\n",
    "print(data['user_class'].value_counts())\n",
    "\n",
    "# Separate data by user_class\n",
    "bots = data[data['user_class'] == 'bot']\n",
    "humans = data[data['user_class'] == 'human']\n",
    "\n",
    "# Select the minimum class size\n",
    "min_class_size = min(len(bots), len(humans))\n",
    "\n",
    "# Downsample each class to the minimum class size\n",
    "bots_balanced = bots.sample(n=min_class_size, random_state=1)\n",
    "humans_balanced = humans.sample(n=min_class_size, random_state=1)\n",
    "\n",
    "# Combine the balanced classes\n",
    "balanced_data = pd.concat([bots_balanced, humans_balanced])\n",
    "\n",
    "# Shuffle the data\n",
    "balanced_data = shuffle(balanced_data, random_state=1).reset_index(drop=True)\n",
    "\n",
    "print(\"Balanced class distribution:\")\n",
    "print(balanced_data['user_class'].value_counts())\n",
    "\n",
    "data = balanced_data"
   ]
  },
  {
   "cell_type": "code",
   "execution_count": 5,
   "id": "9f3cd74d",
   "metadata": {
    "execution": {
     "iopub.execute_input": "2024-12-26T20:51:35.648676Z",
     "iopub.status.busy": "2024-12-26T20:51:35.648077Z",
     "iopub.status.idle": "2024-12-26T20:51:35.680018Z",
     "shell.execute_reply": "2024-12-26T20:51:35.679162Z"
    },
    "papermill": {
     "duration": 0.03814,
     "end_time": "2024-12-26T20:51:35.680804",
     "exception": false,
     "start_time": "2024-12-26T20:51:35.642664",
     "status": "completed"
    },
    "tags": []
   },
   "outputs": [
    {
     "data": {
      "text/plain": [
       "array(['astroturf', 'botometer-feedback-19', 'botwiki-19', 'celebrity-19',\n",
       "       'cresci-17', 'cresci-rtbust-19', 'cresci-stock-18', 'gilani-17',\n",
       "       'midterm-18', 'political-bots-19', 'pronbots-19', 'varol-17',\n",
       "       'vendor-purchased-19', 'verified-19'], dtype=object)"
      ]
     },
     "execution_count": 5,
     "metadata": {},
     "output_type": "execute_result"
    }
   ],
   "source": [
    "import numpy as np\n",
    "np.unique(data['src'])"
   ]
  },
  {
   "cell_type": "code",
   "execution_count": 6,
   "id": "020e57e8",
   "metadata": {
    "execution": {
     "iopub.execute_input": "2024-12-26T20:51:35.690787Z",
     "iopub.status.busy": "2024-12-26T20:51:35.690217Z",
     "iopub.status.idle": "2024-12-26T20:51:35.694954Z",
     "shell.execute_reply": "2024-12-26T20:51:35.693648Z"
    },
    "papermill": {
     "duration": 0.010589,
     "end_time": "2024-12-26T20:51:35.695709",
     "exception": false,
     "start_time": "2024-12-26T20:51:35.685120",
     "status": "completed"
    },
    "tags": []
   },
   "outputs": [
    {
     "name": "stdout",
     "output_type": "stream",
     "text": [
      "data shape (55408, 20)\n",
      "columns Index(['content_syntactic_blocstring', 'action_blocstring',\n",
      "       'changes_list_content_syntactic_', 'changes_list_action', 'src',\n",
      "       'userId', 'user_class', 'tweet_count', 'change_content_syntactic',\n",
      "       'change_action', 'change_change_dynamic_score',\n",
      "       'highest_change_in_content_syntactic',\n",
      "       'lowest_change_in_content_syntactic',\n",
      "       'standard_deviation_of_content_syntactic', 'highest_change_in_action',\n",
      "       'lowest_change_in_action', 'standard_deviation_of_action',\n",
      "       'diversity_action', 'diversity_content_syntactic',\n",
      "       'diversity_change_dynamics_score'],\n",
      "      dtype='object')\n"
     ]
    }
   ],
   "source": [
    "print(\"data shape\", data.shape)\n",
    "print(\"columns\", data.columns)"
   ]
  },
  {
   "cell_type": "code",
   "execution_count": 7,
   "id": "3427022c",
   "metadata": {
    "execution": {
     "iopub.execute_input": "2024-12-26T20:51:35.705617Z",
     "iopub.status.busy": "2024-12-26T20:51:35.705340Z",
     "iopub.status.idle": "2024-12-26T20:51:35.714162Z",
     "shell.execute_reply": "2024-12-26T20:51:35.713160Z"
    },
    "papermill": {
     "duration": 0.014577,
     "end_time": "2024-12-26T20:51:35.714914",
     "exception": false,
     "start_time": "2024-12-26T20:51:35.700337",
     "status": "completed"
    },
    "tags": []
   },
   "outputs": [],
   "source": [
    "class UserDataset(Dataset):\n",
    "    def __init__(self, data):\n",
    "        self.data = data\n",
    "    \n",
    "    def __len__(self):\n",
    "        return len(self.data)\n",
    "    \n",
    "    def __getitem__(self, idx):\n",
    "        text = self.data.loc[idx, 'action_blocstring'][:200]\n",
    "        label = 1 if self.data.loc[idx, 'user_class'] == 'bot' else 0\n",
    "        return {\n",
    "            'text': text, \n",
    "            'label': label \n",
    "        }\n",
    "\n",
    "dataset = UserDataset(data)\n",
    "\n",
    "train_size = int(0.7 * len(dataset))\n",
    "val_size = int(0.15 * len(dataset))\n",
    "test_size = len(dataset) - train_size - val_size\n",
    "\n",
    "train_dataset, val_dataset, test_dataset = random_split(dataset, [train_size, val_size, test_size])\n",
    "\n",
    "train_loader = DataLoader(train_dataset, batch_size=32, shuffle=True)\n",
    "val_loader = DataLoader(val_dataset, batch_size=32, shuffle=False)\n",
    "test_loader = DataLoader(test_dataset, batch_size=32, shuffle=False)\n",
    "\n",
    "# Example usage: Iterate through the test loader\n",
    "# for batch in val_loader:\n",
    "#     print(batch['text'], batch['label'])\n"
   ]
  },
  {
   "cell_type": "code",
   "execution_count": 8,
   "id": "70600ef6",
   "metadata": {
    "execution": {
     "iopub.execute_input": "2024-12-26T20:51:35.724801Z",
     "iopub.status.busy": "2024-12-26T20:51:35.724531Z",
     "iopub.status.idle": "2024-12-26T20:51:36.646496Z",
     "shell.execute_reply": "2024-12-26T20:51:36.645755Z"
    },
    "papermill": {
     "duration": 0.927621,
     "end_time": "2024-12-26T20:51:36.647266",
     "exception": false,
     "start_time": "2024-12-26T20:51:35.719645",
     "status": "completed"
    },
    "tags": []
   },
   "outputs": [
    {
     "name": "stdout",
     "output_type": "stream",
     "text": [
      "Vocab-size: 15\n",
      "vocab {'<pad>': 0, '<unk>': 1, '|': 2, 'r': 3, 'T': 4, '⚁': 5, '⚀': 6, '□': 7, 'p': 8, '⚂': 9, '⚃': 10, 'π': 11, '⚄': 12, 'ρ': 13, '⚅': 14}\n"
     ]
    }
   ],
   "source": [
    "# Counter: subclass of Python's dictionary used for counting hashable objects, in this case, tokens (words).\n",
    "# OrderedDict: subclass of Python's dictionary that remembers the insertion order of keys. It is used to store tokens in a specific order based on frequency.\n",
    "from collections import Counter, OrderedDict\n",
    "# re: A module for working with regular expressions, used to manipulate and clean text.\n",
    "import re\n",
    "\n",
    "# Token counts and vocab creation\n",
    "# Initializes an empty Counter object to hold the frequency of each token in the dataset.\n",
    "token_counts = Counter()\n",
    "\n",
    "# Define tokenizer\n",
    "def tokenizer(text):\n",
    "\n",
    "    #  replace | with \" \"\n",
    "    # text = text.replace(\"|\", \" \")\n",
    "\n",
    "    return list(text)\n",
    "\n",
    "# Tokenize the training data and populate token_counts\n",
    "for entry in train_dataset:  # Assuming train_dataset is a dataset with 'text'\n",
    "    line = entry['text']\n",
    "    tokens = tokenizer(line)\n",
    "    token_counts.update(tokens)\n",
    "\n",
    "# Sort tokens by frequency\n",
    "# token_counts.items() returns the tokens and their respective counts as a list of tuples (e.g., [(token1, count1), (token2, count2), ...])\n",
    "# key=lambda x: x[1] means that the sorting is based on the count (x[1]), which is the second element of each tuple\n",
    "# reverse=True means that the most frequent tokens appear first in the sorted list.\n",
    "sorted_by_freq_tuples = sorted(token_counts.items(), key=lambda x: x[1], reverse=True)\n",
    "\n",
    "# Create an ordered dictionary for the vocab\n",
    "ordered_dict = OrderedDict(sorted_by_freq_tuples)\n",
    "\n",
    "# The padding token (pad) is used to ensure that all sequences in a batch have the same length.\n",
    "# The unknown token (unk) is used to represent words that are not found in the model's vocabulary (the top 69021 words in your case).\n",
    "# Any word that doesn't appear in the vocabulary is replaced by the unk token during tokenization.\n",
    "# This is critical for handling unseen words during inference, where the model encounters words that were not present in the training data.\n",
    "# Create vocab dictionary with special tokens\n",
    "# Initializes the vocab dictionary with two special tokens\n",
    "vocab = {\"<pad>\": 0, \"<unk>\": 1}\n",
    "\n",
    "for idx, (token, count) in enumerate(ordered_dict.items(), start=2):  # Start from 2 to skip the special tokens\n",
    "    vocab[token] = idx\n",
    "\n",
    "\n",
    "# Print the vocabulary size (should be 69023)\n",
    "print('Vocab-size:', len(vocab))\n",
    "print('vocab', vocab)\n",
    "# --- Rationale:\n",
    "#\n",
    "# By assigning frequent words lower indices, we can optimize memory and computational efficiency.\n",
    "# Words that appear infrequently can either be assigned higher indices (in case we want to keep them) or omitted from the vocabulary entirely."
   ]
  },
  {
   "cell_type": "code",
   "execution_count": 9,
   "id": "facd9e15",
   "metadata": {
    "execution": {
     "iopub.execute_input": "2024-12-26T20:51:36.658993Z",
     "iopub.status.busy": "2024-12-26T20:51:36.658412Z",
     "iopub.status.idle": "2024-12-26T20:51:36.663374Z",
     "shell.execute_reply": "2024-12-26T20:51:36.662433Z"
    },
    "papermill": {
     "duration": 0.011403,
     "end_time": "2024-12-26T20:51:36.664130",
     "exception": false,
     "start_time": "2024-12-26T20:51:36.652727",
     "status": "completed"
    },
    "tags": []
   },
   "outputs": [
    {
     "name": "stdout",
     "output_type": "stream",
     "text": [
      "[1, 4, 1, 1, 1, 1, 1, 1, 2, 1, 9, 1, 1, 4, 1, 1, 1, 1, 1, 1, 2, 1, 14, 1, 1, 4, 1, 1, 1, 1, 1, 1, 1, 1, 7, 1, 1, 4, 1, 1, 1, 1, 1, 1, 1, 4, 1, 1, 1, 1, 1, 1, 1, 1, 7, 1, 1, 3, 1, 1, 1, 1, 1, 1, 1, 1, 6, 1, 1, 3, 1, 1, 1, 1, 1, 1, 1, 1, 6, 1, 1, 3, 1, 1, 1, 1, 1, 1, 1, 1, 1, 2, 1, 6, 1, 1, 3, 1, 1, 1, 1, 1, 1, 1, 2, 1, 6, 1, 1, 3, 1, 1, 1, 1, 1, 1, 1, 1, 1, 7, 1]\n"
     ]
    }
   ],
   "source": [
    "# action T|⚂T|⚅T□TT□r⚀r⚀r|⚀r|⚀r□r⚀r|⚂rTT□r□r⚀r□r|⚀r⚀r⚀r\n",
    "\n",
    "# content (t)|(t)|(Et)(E)(Et)(qt)(Et)(EHUt)|(Et)|(mUt)(HHHHHHt)(qt)|(qt)(E)(Et)(mmmqt)(Et)(HUt)(Ut)|(qt)(mqt)(EHUt)\n",
    "\n",
    "# text (T -> t)|(⚂)(T -> t)|(⚅)(T -> Et)(□)(T -> E)(T -> Et)(□)(r -> qt)(⚀)(r -> Et)(⚀)(r -> EHUt)|(⚀)(r -> Et)|(⚀)(r -> mUt)(□)\n",
    "\n",
    "def encode(tokens):\n",
    "    #If the token does not exist in the vocab, the function returns the index of the <unk>\n",
    "    return [vocab.get(token, vocab[\"<unk>\"]) for token in tokens]\n",
    "# Example usage\n",
    "print(encode(tokenizer('(T -> t)|(⚂)(T -> t)|(⚅)(T -> Et)(□)(T -> E)(T -> Et)(□)(r -> qt)(⚀)(r -> Et)(⚀)(r -> EHUt)|(⚀)(r -> Et)|(⚀)(r -> mUt)(□)')))  # Should output something like [11, 7, 35, 457]"
   ]
  },
  {
   "cell_type": "code",
   "execution_count": 10,
   "id": "a7d60e77",
   "metadata": {
    "execution": {
     "iopub.execute_input": "2024-12-26T20:51:36.673828Z",
     "iopub.status.busy": "2024-12-26T20:51:36.673559Z",
     "iopub.status.idle": "2024-12-26T20:51:36.810390Z",
     "shell.execute_reply": "2024-12-26T20:51:36.809700Z"
    },
    "papermill": {
     "duration": 0.142732,
     "end_time": "2024-12-26T20:51:36.811170",
     "exception": false,
     "start_time": "2024-12-26T20:51:36.668438",
     "status": "completed"
    },
    "tags": []
   },
   "outputs": [],
   "source": [
    "if not torch.cuda.is_available():\n",
    "    print(\"Warning: this code may be very slow on CPU\")"
   ]
  },
  {
   "cell_type": "code",
   "execution_count": 11,
   "id": "9a2afca2",
   "metadata": {
    "execution": {
     "iopub.execute_input": "2024-12-26T20:51:36.822361Z",
     "iopub.status.busy": "2024-12-26T20:51:36.821800Z",
     "iopub.status.idle": "2024-12-26T20:51:36.827418Z",
     "shell.execute_reply": "2024-12-26T20:51:36.826731Z"
    },
    "papermill": {
     "duration": 0.012063,
     "end_time": "2024-12-26T20:51:36.828195",
     "exception": false,
     "start_time": "2024-12-26T20:51:36.816132",
     "status": "completed"
    },
    "tags": []
   },
   "outputs": [],
   "source": [
    "device = torch.device(\"cuda\" if torch.cuda.is_available() else \"cpu\")\n",
    "\n",
    "# Use the manual vocab creation process from earlier\n",
    "# Assuming `vocab` and `tokenizer` are already defined\n",
    "\n",
    "#text_pipeline = lambda x: [vocab[token] for token in tokenizer(x)]\n",
    "# Updated text pipeline\n",
    "text_pipeline = lambda x: [vocab.get(token, vocab[\"<unk>\"]) for token in tokenizer(x)]\n",
    "\n",
    "label_pipeline = lambda x: float(x)  # Convert to float to match the output\n",
    "\n",
    "# Batch collation function\n",
    "def collate_batch(batch):\n",
    "    label_list, text_list, lengths = [], [], []\n",
    "    for entry in batch:  # Each 'entry' is a dictionary with 'text' and 'label'\n",
    "        _label = entry['label']\n",
    "        _text = entry['text']\n",
    "\n",
    "        # Process labels and text\n",
    "        label_list.append(label_pipeline(_label))  # Convert labels using label_pipeline\n",
    "        processed_text = torch.tensor(text_pipeline(_text), dtype=torch.int64)  # Convert text to indices\n",
    "\n",
    "        # Store processed text and its length\n",
    "        text_list.append(processed_text)\n",
    "        lengths.append(processed_text.size(0))\n",
    "\n",
    "    # Convert lists to tensors and pad sequences\n",
    "    label_list = torch.tensor(label_list)\n",
    "    lengths = torch.tensor(lengths)\n",
    "    padded_text_list = nn.utils.rnn.pad_sequence(text_list, batch_first=True)\n",
    "\n",
    "    return padded_text_list.to(device), label_list.to(device), lengths.to(device)"
   ]
  },
  {
   "cell_type": "code",
   "execution_count": 12,
   "id": "784b4a6f",
   "metadata": {
    "execution": {
     "iopub.execute_input": "2024-12-26T20:51:36.838486Z",
     "iopub.status.busy": "2024-12-26T20:51:36.838222Z",
     "iopub.status.idle": "2024-12-26T20:51:37.210466Z",
     "shell.execute_reply": "2024-12-26T20:51:37.209624Z"
    },
    "papermill": {
     "duration": 0.3787,
     "end_time": "2024-12-26T20:51:37.211373",
     "exception": false,
     "start_time": "2024-12-26T20:51:36.832673",
     "status": "completed"
    },
    "tags": []
   },
   "outputs": [
    {
     "name": "stdout",
     "output_type": "stream",
     "text": [
      "Text batch: tensor([[ 4,  6,  4,  2,  5,  4,  2,  5,  4,  2,  5,  4,  2,  5,  4,  2,  5,  4,\n",
      "          7,  4,  2,  9,  4,  7,  4,  2,  5,  4,  2,  6,  4,  6,  4,  2,  5,  4,\n",
      "          2,  5,  4,  2,  5,  4,  2,  5,  4,  7,  4,  2,  9,  4,  2, 10,  4,  2,\n",
      "          5,  4,  2,  5,  4,  2,  9,  4,  2,  5,  4,  2,  5,  4,  2,  5,  4,  2,\n",
      "          5,  4,  6,  4,  2,  5,  4,  2,  5,  4,  6,  4,  2,  5,  4,  2,  5,  4,\n",
      "          6,  4,  2,  5,  4,  2,  5,  4,  7,  4,  2,  5,  4,  2,  5,  4,  2,  5,\n",
      "          4,  2,  5,  4,  2,  5,  4,  6,  4,  2,  5,  4,  2,  5,  4,  2,  5,  4,\n",
      "          2,  5,  4,  2,  6,  4,  2,  9,  4,  2,  9,  4,  2,  6,  4,  7,  4,  6,\n",
      "          4,  2,  9,  4,  2,  5,  4,  2,  5,  4,  2,  5,  4,  2,  5,  4,  2,  5,\n",
      "          4,  2,  5,  4,  2,  5,  4,  2,  5,  4,  2,  5,  4,  2,  6,  4,  6,  4,\n",
      "          2,  5,  4,  2,  5,  4,  2,  5,  4,  2,  5,  4,  6,  4,  7,  4,  2,  5,\n",
      "          4,  2],\n",
      "        [ 4,  4,  7,  4,  7,  4,  6,  3,  3,  3,  6,  3,  7,  3,  6,  3,  2,  6,\n",
      "          3,  7,  3,  2, 10,  4,  7,  4,  7,  4,  3,  7,  4,  2,  6,  3,  7,  3,\n",
      "          6,  3,  7,  3,  6,  3,  6,  3,  7,  3,  7,  3,  2,  6,  3,  2,  9,  4,\n",
      "          7,  4,  6,  3,  6,  3,  2,  6,  3,  6,  3,  2,  6,  3,  7,  3,  0,  0,\n",
      "          0,  0,  0,  0,  0,  0,  0,  0,  0,  0,  0,  0,  0,  0,  0,  0,  0,  0,\n",
      "          0,  0,  0,  0,  0,  0,  0,  0,  0,  0,  0,  0,  0,  0,  0,  0,  0,  0,\n",
      "          0,  0,  0,  0,  0,  0,  0,  0,  0,  0,  0,  0,  0,  0,  0,  0,  0,  0,\n",
      "          0,  0,  0,  0,  0,  0,  0,  0,  0,  0,  0,  0,  0,  0,  0,  0,  0,  0,\n",
      "          0,  0,  0,  0,  0,  0,  0,  0,  0,  0,  0,  0,  0,  0,  0,  0,  0,  0,\n",
      "          0,  0,  0,  0,  0,  0,  0,  0,  0,  0,  0,  0,  0,  0,  0,  0,  0,  0,\n",
      "          0,  0,  0,  0,  0,  0,  0,  0,  0,  0,  0,  0,  0,  0,  0,  0,  0,  0,\n",
      "          0,  0],\n",
      "        [ 4,  7,  4,  2, 10,  4,  2, 14,  4,  7,  4,  7,  4,  2,  6,  3,  7,  3,\n",
      "          7,  3,  6,  3,  6,  3,  2,  6,  3,  2,  6,  3,  6,  3,  6,  3,  2,  9,\n",
      "          4,  6,  4,  3,  4,  6,  3,  3,  2,  6,  3,  2,  6,  3,  6,  3,  3,  7,\n",
      "          3,  2,  9,  4,  7,  4,  7,  4,  6,  3,  2,  5,  3,  6,  3,  7,  3,  2,\n",
      "          6,  3,  6,  3,  6,  3,  2,  9,  4,  4,  4,  4,  6,  3,  6,  3,  3,  7,\n",
      "          3,  7,  3,  2,  6,  3,  6,  3,  3,  6,  3,  6,  3,  7,  3,  2,  5,  4,\n",
      "          2,  7,  3,  7,  4,  6,  3,  2,  6,  3,  3,  7,  3,  6,  3,  6,  3,  7,\n",
      "          3,  7,  3,  6,  3,  2,  5,  4,  7,  4,  6,  3,  2,  9,  4,  3,  4,  4,\n",
      "          7,  3,  7,  3,  3,  6,  3,  7,  4,  7,  3,  2,  6,  3,  6,  3,  6,  3,\n",
      "          7,  3,  2,  9,  4,  4,  4,  4,  7,  3,  6,  3,  3,  6,  3,  6,  3,  2,\n",
      "          6,  3,  2,  6,  3,  6,  3,  6,  3,  3,  6,  3,  2,  5,  4,  3,  7,  4,\n",
      "          4,  7],\n",
      "        [ 8,  2, 14,  4,  7,  4,  7,  4,  4,  6,  3,  3,  7,  3,  7,  3,  2,  6,\n",
      "          3,  6,  3,  2,  6,  3,  2, 10,  4,  7,  4,  7,  4,  4,  6,  3,  6,  3,\n",
      "          7,  8,  8,  8,  8,  2,  6,  4,  7,  8,  6,  3,  7,  3,  7,  3,  3,  7,\n",
      "          3,  0,  0,  0,  0,  0,  0,  0,  0,  0,  0,  0,  0,  0,  0,  0,  0,  0,\n",
      "          0,  0,  0,  0,  0,  0,  0,  0,  0,  0,  0,  0,  0,  0,  0,  0,  0,  0,\n",
      "          0,  0,  0,  0,  0,  0,  0,  0,  0,  0,  0,  0,  0,  0,  0,  0,  0,  0,\n",
      "          0,  0,  0,  0,  0,  0,  0,  0,  0,  0,  0,  0,  0,  0,  0,  0,  0,  0,\n",
      "          0,  0,  0,  0,  0,  0,  0,  0,  0,  0,  0,  0,  0,  0,  0,  0,  0,  0,\n",
      "          0,  0,  0,  0,  0,  0,  0,  0,  0,  0,  0,  0,  0,  0,  0,  0,  0,  0,\n",
      "          0,  0,  0,  0,  0,  0,  0,  0,  0,  0,  0,  0,  0,  0,  0,  0,  0,  0,\n",
      "          0,  0,  0,  0,  0,  0,  0,  0,  0,  0,  0,  0,  0,  0,  0,  0,  0,  0,\n",
      "          0,  0]], device='cuda:0')\n",
      "Label batch: tensor([1., 1., 1., 1.], device='cuda:0')\n",
      "Length batch: tensor([200,  70, 200,  55], device='cuda:0')\n",
      "Text batch shape: torch.Size([4, 200])\n"
     ]
    }
   ],
   "source": [
    "#-----  Example usage with DataLoader -----#\n",
    "## Take a small batch\n",
    "\n",
    "dataloader = DataLoader(train_dataset, batch_size=4, shuffle=False, collate_fn=collate_batch)\n",
    "text_batch, label_batch, length_batch = next(iter(dataloader))\n",
    "\n",
    "# Print the output batch\n",
    "print(\"Text batch:\", text_batch)\n",
    "print(\"Label batch:\", label_batch)\n",
    "print(\"Length batch:\", length_batch)\n",
    "print(\"Text batch shape:\", text_batch.shape)"
   ]
  },
  {
   "cell_type": "code",
   "execution_count": 13,
   "id": "02cf9567",
   "metadata": {
    "execution": {
     "iopub.execute_input": "2024-12-26T20:51:37.223749Z",
     "iopub.status.busy": "2024-12-26T20:51:37.223139Z",
     "iopub.status.idle": "2024-12-26T20:51:37.227525Z",
     "shell.execute_reply": "2024-12-26T20:51:37.226658Z"
    },
    "papermill": {
     "duration": 0.011582,
     "end_time": "2024-12-26T20:51:37.228297",
     "exception": false,
     "start_time": "2024-12-26T20:51:37.216715",
     "status": "completed"
    },
    "tags": []
   },
   "outputs": [],
   "source": [
    "## Batching the datasets\n",
    "batch_size = 32\n",
    "vocab_size = len(vocab)\n",
    "\n",
    "train_dl = DataLoader(train_dataset, batch_size=batch_size,\n",
    "                      shuffle=True, collate_fn=collate_batch)\n",
    "val_dl = DataLoader(val_dataset, batch_size=batch_size,\n",
    "                      shuffle=False, collate_fn=collate_batch)\n",
    "test_dl = DataLoader(test_dataset, batch_size=batch_size,\n",
    "                     shuffle=False, collate_fn=collate_batch)"
   ]
  },
  {
   "cell_type": "code",
   "execution_count": 14,
   "id": "4c68bb56",
   "metadata": {
    "execution": {
     "iopub.execute_input": "2024-12-26T20:51:37.238482Z",
     "iopub.status.busy": "2024-12-26T20:51:37.238212Z",
     "iopub.status.idle": "2024-12-26T20:51:37.244354Z",
     "shell.execute_reply": "2024-12-26T20:51:37.243651Z"
    },
    "papermill": {
     "duration": 0.012374,
     "end_time": "2024-12-26T20:51:37.245119",
     "exception": false,
     "start_time": "2024-12-26T20:51:37.232745",
     "status": "completed"
    },
    "tags": []
   },
   "outputs": [],
   "source": [
    "class RNN(nn.Module):\n",
    "    def __init__(self, vocab_size, embed_dim, rnn_hidden_size, fc_hidden_size, num_layers=2, dropout_rate=0.5):\n",
    "        super().__init__()\n",
    "        self.embedding = nn.Embedding(vocab_size, embed_dim, padding_idx=0)\n",
    "        self.rnn = nn.LSTM(embed_dim, rnn_hidden_size, num_layers=num_layers, \n",
    "                           batch_first=True, dropout=dropout_rate)  # Add num_layers and dropout between layers\n",
    "        self.dropout = nn.Dropout(dropout_rate)  # Explicit dropout layer\n",
    "        self.fc1 = nn.Linear(rnn_hidden_size, fc_hidden_size)\n",
    "        self.relu = nn.ReLU()\n",
    "        self.fc2 = nn.Linear(fc_hidden_size, 1)\n",
    "        self.sigmoid = nn.Sigmoid()\n",
    "\n",
    "    def forward(self, text, lengths):\n",
    "        # Embedding Layer\n",
    "        out = self.embedding(text)\n",
    "        \n",
    "        # Pack the padded sequence\n",
    "        out = nn.utils.rnn.pack_padded_sequence(out, lengths.cpu().numpy(), \n",
    "                                                enforce_sorted=False, batch_first=True)\n",
    "        \n",
    "        # LSTM Layers\n",
    "        out, (hidden, cell) = self.rnn(out)\n",
    "        \n",
    "        # Take the hidden state of the last layer\n",
    "        out = hidden[-1, :, :]  # Shape: (batch_size, rnn_hidden_size)\n",
    "        \n",
    "        # Fully Connected Layers\n",
    "        out = self.fc1(out)\n",
    "        out = self.relu(out)\n",
    "        out = self.dropout(out)  # Dropout for FC layer\n",
    "        out = self.fc2(out)\n",
    "        out = self.sigmoid(out)\n",
    "        \n",
    "        return out"
   ]
  },
  {
   "cell_type": "code",
   "execution_count": 15,
   "id": "1d3abc70",
   "metadata": {
    "execution": {
     "iopub.execute_input": "2024-12-26T20:51:37.255954Z",
     "iopub.status.busy": "2024-12-26T20:51:37.255686Z",
     "iopub.status.idle": "2024-12-26T20:51:37.260455Z",
     "shell.execute_reply": "2024-12-26T20:51:37.260104Z"
    },
    "papermill": {
     "duration": 0.011644,
     "end_time": "2024-12-26T20:51:37.261217",
     "exception": false,
     "start_time": "2024-12-26T20:51:37.249573",
     "status": "completed"
    },
    "tags": []
   },
   "outputs": [],
   "source": [
    "def train_epoch(dataloader, model, optimizer, loss_fn):\n",
    "    model.train()\n",
    "    total_acc, total_loss = 0, 0\n",
    "    for text_batch, label_batch, lengths in dataloader:  # Loop through batches in dataloader\n",
    "        optimizer.zero_grad()\n",
    "        pred = model(text_batch, lengths)[:, 0]\n",
    "        loss = loss_fn(pred, label_batch)\n",
    "        loss.backward()\n",
    "        optimizer.step()\n",
    "        total_acc += ((pred >= 0.5).float() == label_batch).float().sum().item()\n",
    "        total_loss += loss.item() * label_batch.size(0)\n",
    "    return total_acc / len(dataloader.dataset), total_loss / len(dataloader.dataset)\n",
    "\n",
    "def evaluate_epoch(dataloader, model, loss_fn):\n",
    "    model.eval()\n",
    "    total_acc, total_loss = 0, 0\n",
    "    with torch.no_grad():\n",
    "        for text_batch, label_batch, lengths in dataloader:  # Loop through batches in dataloader\n",
    "            pred = model(text_batch, lengths)[:, 0]\n",
    "            loss = loss_fn(pred, label_batch)\n",
    "            total_acc += ((pred >= 0.5).float() == label_batch).float().sum().item()\n",
    "            total_loss += loss.item() * label_batch.size(0)\n",
    "    return total_acc / len(dataloader.dataset), total_loss / len(dataloader.dataset)"
   ]
  },
  {
   "cell_type": "code",
   "execution_count": 16,
   "id": "d6c68902",
   "metadata": {
    "execution": {
     "iopub.execute_input": "2024-12-26T20:51:37.270559Z",
     "iopub.status.busy": "2024-12-26T20:51:37.270413Z",
     "iopub.status.idle": "2024-12-27T06:23:55.299665Z",
     "shell.execute_reply": "2024-12-27T06:23:55.298659Z"
    },
    "papermill": {
     "duration": 34338.060705,
     "end_time": "2024-12-27T06:23:55.326450",
     "exception": false,
     "start_time": "2024-12-26T20:51:37.265745",
     "status": "completed"
    },
    "tags": []
   },
   "outputs": [
    {
     "name": "stdout",
     "output_type": "stream",
     "text": [
      "Testing with lr=0.001, embed_dim=16, rnn_hidden_size=32, fc_hidden_size=32, num_layers=1, dropout_rate=0\n"
     ]
    },
    {
     "name": "stdout",
     "output_type": "stream",
     "text": [
      "{'lr': 0.001, 'embed_dim': 16, 'rnn_hidden_size': 32, 'fc_hidden_size': 32, 'num_layers': 1, 'dropout_rate': 0, 'val_accuracy': 0.8347972566478161}\n",
      "Testing with lr=0.001, embed_dim=16, rnn_hidden_size=32, fc_hidden_size=32, num_layers=1, dropout_rate=0.3\n"
     ]
    },
    {
     "name": "stderr",
     "output_type": "stream",
     "text": [
      "/sciclone/data10/iahewababarand/.venv/lib64/python3.9/site-packages/torch/nn/modules/rnn.py:123: UserWarning: dropout option adds dropout after all but last recurrent layer, so non-zero dropout expects num_layers greater than 1, but got dropout=0.3 and num_layers=1\n",
      "  warnings.warn(\n"
     ]
    },
    {
     "name": "stdout",
     "output_type": "stream",
     "text": [
      "{'lr': 0.001, 'embed_dim': 16, 'rnn_hidden_size': 32, 'fc_hidden_size': 32, 'num_layers': 1, 'dropout_rate': 0.3, 'val_accuracy': 0.8559740103477319}\n",
      "Testing with lr=0.001, embed_dim=16, rnn_hidden_size=32, fc_hidden_size=32, num_layers=1, dropout_rate=0.5\n"
     ]
    },
    {
     "name": "stderr",
     "output_type": "stream",
     "text": [
      "/sciclone/data10/iahewababarand/.venv/lib64/python3.9/site-packages/torch/nn/modules/rnn.py:123: UserWarning: dropout option adds dropout after all but last recurrent layer, so non-zero dropout expects num_layers greater than 1, but got dropout=0.5 and num_layers=1\n",
      "  warnings.warn(\n"
     ]
    },
    {
     "name": "stdout",
     "output_type": "stream",
     "text": [
      "{'lr': 0.001, 'embed_dim': 16, 'rnn_hidden_size': 32, 'fc_hidden_size': 32, 'num_layers': 1, 'dropout_rate': 0.5, 'val_accuracy': 0.8760678618698111}\n",
      "Testing with lr=0.001, embed_dim=16, rnn_hidden_size=32, fc_hidden_size=32, num_layers=2, dropout_rate=0\n"
     ]
    },
    {
     "name": "stdout",
     "output_type": "stream",
     "text": [
      "{'lr': 0.001, 'embed_dim': 16, 'rnn_hidden_size': 32, 'fc_hidden_size': 32, 'num_layers': 2, 'dropout_rate': 0, 'val_accuracy': 0.8475514378534472}\n",
      "Testing with lr=0.001, embed_dim=16, rnn_hidden_size=32, fc_hidden_size=32, num_layers=2, dropout_rate=0.3\n"
     ]
    },
    {
     "name": "stdout",
     "output_type": "stream",
     "text": [
      "{'lr': 0.001, 'embed_dim': 16, 'rnn_hidden_size': 32, 'fc_hidden_size': 32, 'num_layers': 2, 'dropout_rate': 0.3, 'val_accuracy': 0.8035134159547588}\n",
      "Testing with lr=0.001, embed_dim=16, rnn_hidden_size=32, fc_hidden_size=32, num_layers=2, dropout_rate=0.5\n"
     ]
    },
    {
     "name": "stdout",
     "output_type": "stream",
     "text": [
      "{'lr': 0.001, 'embed_dim': 16, 'rnn_hidden_size': 32, 'fc_hidden_size': 32, 'num_layers': 2, 'dropout_rate': 0.5, 'val_accuracy': 0.8662014198050776}\n",
      "Testing with lr=0.001, embed_dim=16, rnn_hidden_size=32, fc_hidden_size=32, num_layers=3, dropout_rate=0\n"
     ]
    },
    {
     "name": "stdout",
     "output_type": "stream",
     "text": [
      "{'lr': 0.001, 'embed_dim': 16, 'rnn_hidden_size': 32, 'fc_hidden_size': 32, 'num_layers': 3, 'dropout_rate': 0, 'val_accuracy': 0.8726988328720973}\n",
      "Testing with lr=0.001, embed_dim=16, rnn_hidden_size=32, fc_hidden_size=32, num_layers=3, dropout_rate=0.3\n"
     ]
    },
    {
     "name": "stdout",
     "output_type": "stream",
     "text": [
      "{'lr': 0.001, 'embed_dim': 16, 'rnn_hidden_size': 32, 'fc_hidden_size': 32, 'num_layers': 3, 'dropout_rate': 0.3, 'val_accuracy': 0.8213211406569606}\n",
      "Testing with lr=0.001, embed_dim=16, rnn_hidden_size=32, fc_hidden_size=32, num_layers=3, dropout_rate=0.5\n"
     ]
    },
    {
     "name": "stdout",
     "output_type": "stream",
     "text": [
      "{'lr': 0.001, 'embed_dim': 16, 'rnn_hidden_size': 32, 'fc_hidden_size': 32, 'num_layers': 3, 'dropout_rate': 0.5, 'val_accuracy': 0.8548911081698953}\n",
      "Testing with lr=0.001, embed_dim=16, rnn_hidden_size=32, fc_hidden_size=64, num_layers=1, dropout_rate=0\n"
     ]
    },
    {
     "name": "stdout",
     "output_type": "stream",
     "text": [
      "{'lr': 0.001, 'embed_dim': 16, 'rnn_hidden_size': 32, 'fc_hidden_size': 64, 'num_layers': 1, 'dropout_rate': 0, 'val_accuracy': 0.8528456262784262}\n",
      "Testing with lr=0.001, embed_dim=16, rnn_hidden_size=32, fc_hidden_size=64, num_layers=1, dropout_rate=0.3\n"
     ]
    },
    {
     "name": "stdout",
     "output_type": "stream",
     "text": [
      "{'lr': 0.001, 'embed_dim': 16, 'rnn_hidden_size': 32, 'fc_hidden_size': 64, 'num_layers': 1, 'dropout_rate': 0.3, 'val_accuracy': 0.8479124052460595}\n",
      "Testing with lr=0.001, embed_dim=16, rnn_hidden_size=32, fc_hidden_size=64, num_layers=1, dropout_rate=0.5\n"
     ]
    },
    {
     "name": "stdout",
     "output_type": "stream",
     "text": [
      "{'lr': 0.001, 'embed_dim': 16, 'rnn_hidden_size': 32, 'fc_hidden_size': 64, 'num_layers': 1, 'dropout_rate': 0.5, 'val_accuracy': 0.8675249669113223}\n",
      "Testing with lr=0.001, embed_dim=16, rnn_hidden_size=32, fc_hidden_size=64, num_layers=2, dropout_rate=0\n"
     ]
    },
    {
     "name": "stdout",
     "output_type": "stream",
     "text": [
      "{'lr': 0.001, 'embed_dim': 16, 'rnn_hidden_size': 32, 'fc_hidden_size': 64, 'num_layers': 2, 'dropout_rate': 0, 'val_accuracy': 0.875827216941403}\n",
      "Testing with lr=0.001, embed_dim=16, rnn_hidden_size=32, fc_hidden_size=64, num_layers=2, dropout_rate=0.3\n"
     ]
    },
    {
     "name": "stdout",
     "output_type": "stream",
     "text": [
      "{'lr': 0.001, 'embed_dim': 16, 'rnn_hidden_size': 32, 'fc_hidden_size': 64, 'num_layers': 2, 'dropout_rate': 0.3, 'val_accuracy': 0.8618698110937312}\n",
      "Testing with lr=0.001, embed_dim=16, rnn_hidden_size=32, fc_hidden_size=64, num_layers=2, dropout_rate=0.5\n"
     ]
    },
    {
     "name": "stdout",
     "output_type": "stream",
     "text": [
      "{'lr': 0.001, 'embed_dim': 16, 'rnn_hidden_size': 32, 'fc_hidden_size': 64, 'num_layers': 2, 'dropout_rate': 0.5, 'val_accuracy': 0.8136205029479003}\n",
      "Testing with lr=0.001, embed_dim=16, rnn_hidden_size=32, fc_hidden_size=64, num_layers=3, dropout_rate=0\n"
     ]
    },
    {
     "name": "stdout",
     "output_type": "stream",
     "text": [
      "{'lr': 0.001, 'embed_dim': 16, 'rnn_hidden_size': 32, 'fc_hidden_size': 64, 'num_layers': 3, 'dropout_rate': 0, 'val_accuracy': 0.8690891589459752}\n",
      "Testing with lr=0.001, embed_dim=16, rnn_hidden_size=32, fc_hidden_size=64, num_layers=3, dropout_rate=0.3\n"
     ]
    },
    {
     "name": "stdout",
     "output_type": "stream",
     "text": [
      "{'lr': 0.001, 'embed_dim': 16, 'rnn_hidden_size': 32, 'fc_hidden_size': 64, 'num_layers': 3, 'dropout_rate': 0.3, 'val_accuracy': 0.861629166165323}\n",
      "Testing with lr=0.001, embed_dim=16, rnn_hidden_size=32, fc_hidden_size=64, num_layers=3, dropout_rate=0.5\n"
     ]
    },
    {
     "name": "stdout",
     "output_type": "stream",
     "text": [
      "{'lr': 0.001, 'embed_dim': 16, 'rnn_hidden_size': 32, 'fc_hidden_size': 64, 'num_layers': 3, 'dropout_rate': 0.5, 'val_accuracy': 0.8319095175069185}\n",
      "Testing with lr=0.001, embed_dim=16, rnn_hidden_size=32, fc_hidden_size=128, num_layers=1, dropout_rate=0\n"
     ]
    },
    {
     "name": "stdout",
     "output_type": "stream",
     "text": [
      "{'lr': 0.001, 'embed_dim': 16, 'rnn_hidden_size': 32, 'fc_hidden_size': 128, 'num_layers': 1, 'dropout_rate': 0, 'val_accuracy': 0.8747443147635664}\n",
      "Testing with lr=0.001, embed_dim=16, rnn_hidden_size=32, fc_hidden_size=128, num_layers=1, dropout_rate=0.3\n"
     ]
    },
    {
     "name": "stdout",
     "output_type": "stream",
     "text": [
      "{'lr': 0.001, 'embed_dim': 16, 'rnn_hidden_size': 32, 'fc_hidden_size': 128, 'num_layers': 1, 'dropout_rate': 0.3, 'val_accuracy': 0.8664420647334857}\n",
      "Testing with lr=0.001, embed_dim=16, rnn_hidden_size=32, fc_hidden_size=128, num_layers=1, dropout_rate=0.5\n"
     ]
    },
    {
     "name": "stdout",
     "output_type": "stream",
     "text": [
      "{'lr': 0.001, 'embed_dim': 16, 'rnn_hidden_size': 32, 'fc_hidden_size': 128, 'num_layers': 1, 'dropout_rate': 0.5, 'val_accuracy': 0.8520033690289978}\n",
      "Testing with lr=0.001, embed_dim=16, rnn_hidden_size=32, fc_hidden_size=128, num_layers=2, dropout_rate=0\n"
     ]
    },
    {
     "name": "stdout",
     "output_type": "stream",
     "text": [
      "{'lr': 0.001, 'embed_dim': 16, 'rnn_hidden_size': 32, 'fc_hidden_size': 128, 'num_layers': 2, 'dropout_rate': 0, 'val_accuracy': 0.8773914089760558}\n",
      "Testing with lr=0.001, embed_dim=16, rnn_hidden_size=32, fc_hidden_size=128, num_layers=2, dropout_rate=0.3\n"
     ]
    },
    {
     "name": "stdout",
     "output_type": "stream",
     "text": [
      "{'lr': 0.001, 'embed_dim': 16, 'rnn_hidden_size': 32, 'fc_hidden_size': 128, 'num_layers': 2, 'dropout_rate': 0.3, 'val_accuracy': 0.8658404524124654}\n",
      "Testing with lr=0.001, embed_dim=16, rnn_hidden_size=32, fc_hidden_size=128, num_layers=2, dropout_rate=0.5\n"
     ]
    },
    {
     "name": "stdout",
     "output_type": "stream",
     "text": [
      "{'lr': 0.001, 'embed_dim': 16, 'rnn_hidden_size': 32, 'fc_hidden_size': 128, 'num_layers': 2, 'dropout_rate': 0.5, 'val_accuracy': 0.8654794850198532}\n",
      "Testing with lr=0.001, embed_dim=16, rnn_hidden_size=32, fc_hidden_size=128, num_layers=3, dropout_rate=0\n"
     ]
    },
    {
     "name": "stdout",
     "output_type": "stream",
     "text": [
      "{'lr': 0.001, 'embed_dim': 16, 'rnn_hidden_size': 32, 'fc_hidden_size': 128, 'num_layers': 3, 'dropout_rate': 0, 'val_accuracy': 0.879316568403321}\n",
      "Testing with lr=0.001, embed_dim=16, rnn_hidden_size=32, fc_hidden_size=128, num_layers=3, dropout_rate=0.3\n"
     ]
    },
    {
     "name": "stdout",
     "output_type": "stream",
     "text": [
      "{'lr': 0.001, 'embed_dim': 16, 'rnn_hidden_size': 32, 'fc_hidden_size': 128, 'num_layers': 3, 'dropout_rate': 0.3, 'val_accuracy': 0.8769101191192396}\n",
      "Testing with lr=0.001, embed_dim=16, rnn_hidden_size=32, fc_hidden_size=128, num_layers=3, dropout_rate=0.5\n"
     ]
    },
    {
     "name": "stdout",
     "output_type": "stream",
     "text": [
      "{'lr': 0.001, 'embed_dim': 16, 'rnn_hidden_size': 32, 'fc_hidden_size': 128, 'num_layers': 3, 'dropout_rate': 0.5, 'val_accuracy': 0.8627120683431597}\n",
      "Testing with lr=0.001, embed_dim=16, rnn_hidden_size=64, fc_hidden_size=32, num_layers=1, dropout_rate=0\n"
     ]
    },
    {
     "name": "stdout",
     "output_type": "stream",
     "text": [
      "{'lr': 0.001, 'embed_dim': 16, 'rnn_hidden_size': 64, 'fc_hidden_size': 32, 'num_layers': 1, 'dropout_rate': 0, 'val_accuracy': 0.877632053904464}\n",
      "Testing with lr=0.001, embed_dim=16, rnn_hidden_size=64, fc_hidden_size=32, num_layers=1, dropout_rate=0.3\n"
     ]
    },
    {
     "name": "stdout",
     "output_type": "stream",
     "text": [
      "{'lr': 0.001, 'embed_dim': 16, 'rnn_hidden_size': 64, 'fc_hidden_size': 32, 'num_layers': 1, 'dropout_rate': 0.3, 'val_accuracy': 0.8625917458789556}\n",
      "Testing with lr=0.001, embed_dim=16, rnn_hidden_size=64, fc_hidden_size=32, num_layers=1, dropout_rate=0.5\n"
     ]
    },
    {
     "name": "stdout",
     "output_type": "stream",
     "text": [
      "{'lr': 0.001, 'embed_dim': 16, 'rnn_hidden_size': 64, 'fc_hidden_size': 32, 'num_layers': 1, 'dropout_rate': 0.5, 'val_accuracy': 0.7786066658645169}\n",
      "Testing with lr=0.001, embed_dim=16, rnn_hidden_size=64, fc_hidden_size=32, num_layers=2, dropout_rate=0\n"
     ]
    },
    {
     "name": "stdout",
     "output_type": "stream",
     "text": [
      "{'lr': 0.001, 'embed_dim': 16, 'rnn_hidden_size': 64, 'fc_hidden_size': 32, 'num_layers': 2, 'dropout_rate': 0, 'val_accuracy': 0.8754662495487907}\n",
      "Testing with lr=0.001, embed_dim=16, rnn_hidden_size=64, fc_hidden_size=32, num_layers=2, dropout_rate=0.3\n"
     ]
    },
    {
     "name": "stdout",
     "output_type": "stream",
     "text": [
      "{'lr': 0.001, 'embed_dim': 16, 'rnn_hidden_size': 64, 'fc_hidden_size': 32, 'num_layers': 2, 'dropout_rate': 0.3, 'val_accuracy': 0.8724581879436891}\n",
      "Testing with lr=0.001, embed_dim=16, rnn_hidden_size=64, fc_hidden_size=32, num_layers=2, dropout_rate=0.5\n"
     ]
    },
    {
     "name": "stdout",
     "output_type": "stream",
     "text": [
      "{'lr': 0.001, 'embed_dim': 16, 'rnn_hidden_size': 64, 'fc_hidden_size': 32, 'num_layers': 2, 'dropout_rate': 0.5, 'val_accuracy': 0.8635543255925882}\n",
      "Testing with lr=0.001, embed_dim=16, rnn_hidden_size=64, fc_hidden_size=32, num_layers=3, dropout_rate=0\n"
     ]
    },
    {
     "name": "stdout",
     "output_type": "stream",
     "text": [
      "{'lr': 0.001, 'embed_dim': 16, 'rnn_hidden_size': 64, 'fc_hidden_size': 32, 'num_layers': 3, 'dropout_rate': 0, 'val_accuracy': 0.8785946336180965}\n",
      "Testing with lr=0.001, embed_dim=16, rnn_hidden_size=64, fc_hidden_size=32, num_layers=3, dropout_rate=0.3\n"
     ]
    },
    {
     "name": "stdout",
     "output_type": "stream",
     "text": [
      "{'lr': 0.001, 'embed_dim': 16, 'rnn_hidden_size': 64, 'fc_hidden_size': 32, 'num_layers': 3, 'dropout_rate': 0.3, 'val_accuracy': 0.8751052821561786}\n",
      "Testing with lr=0.001, embed_dim=16, rnn_hidden_size=64, fc_hidden_size=32, num_layers=3, dropout_rate=0.5\n"
     ]
    },
    {
     "name": "stdout",
     "output_type": "stream",
     "text": [
      "{'lr': 0.001, 'embed_dim': 16, 'rnn_hidden_size': 64, 'fc_hidden_size': 32, 'num_layers': 3, 'dropout_rate': 0.5, 'val_accuracy': 0.8749849596919745}\n",
      "Testing with lr=0.001, embed_dim=16, rnn_hidden_size=64, fc_hidden_size=64, num_layers=1, dropout_rate=0\n"
     ]
    },
    {
     "name": "stdout",
     "output_type": "stream",
     "text": [
      "{'lr': 0.001, 'embed_dim': 16, 'rnn_hidden_size': 64, 'fc_hidden_size': 64, 'num_layers': 1, 'dropout_rate': 0, 'val_accuracy': 0.866923354590302}\n",
      "Testing with lr=0.001, embed_dim=16, rnn_hidden_size=64, fc_hidden_size=64, num_layers=1, dropout_rate=0.3\n"
     ]
    },
    {
     "name": "stdout",
     "output_type": "stream",
     "text": [
      "{'lr': 0.001, 'embed_dim': 16, 'rnn_hidden_size': 64, 'fc_hidden_size': 64, 'num_layers': 1, 'dropout_rate': 0.3, 'val_accuracy': 0.8470701479966309}\n",
      "Testing with lr=0.001, embed_dim=16, rnn_hidden_size=64, fc_hidden_size=64, num_layers=1, dropout_rate=0.5\n"
     ]
    },
    {
     "name": "stdout",
     "output_type": "stream",
     "text": [
      "{'lr': 0.001, 'embed_dim': 16, 'rnn_hidden_size': 64, 'fc_hidden_size': 64, 'num_layers': 1, 'dropout_rate': 0.5, 'val_accuracy': 0.8660810973408736}\n",
      "Testing with lr=0.001, embed_dim=16, rnn_hidden_size=64, fc_hidden_size=64, num_layers=2, dropout_rate=0\n"
     ]
    },
    {
     "name": "stdout",
     "output_type": "stream",
     "text": [
      "{'lr': 0.001, 'embed_dim': 16, 'rnn_hidden_size': 64, 'fc_hidden_size': 64, 'num_layers': 2, 'dropout_rate': 0, 'val_accuracy': 0.8696907712669956}\n",
      "Testing with lr=0.001, embed_dim=16, rnn_hidden_size=64, fc_hidden_size=64, num_layers=2, dropout_rate=0.3\n"
     ]
    },
    {
     "name": "stdout",
     "output_type": "stream",
     "text": [
      "{'lr': 0.001, 'embed_dim': 16, 'rnn_hidden_size': 64, 'fc_hidden_size': 64, 'num_layers': 2, 'dropout_rate': 0.3, 'val_accuracy': 0.8689688364817711}\n",
      "Testing with lr=0.001, embed_dim=16, rnn_hidden_size=64, fc_hidden_size=64, num_layers=2, dropout_rate=0.5\n"
     ]
    },
    {
     "name": "stdout",
     "output_type": "stream",
     "text": [
      "{'lr': 0.001, 'embed_dim': 16, 'rnn_hidden_size': 64, 'fc_hidden_size': 64, 'num_layers': 2, 'dropout_rate': 0.5, 'val_accuracy': 0.8785946336180965}\n",
      "Testing with lr=0.001, embed_dim=16, rnn_hidden_size=64, fc_hidden_size=64, num_layers=3, dropout_rate=0\n"
     ]
    },
    {
     "name": "stdout",
     "output_type": "stream",
     "text": [
      "{'lr': 0.001, 'embed_dim': 16, 'rnn_hidden_size': 64, 'fc_hidden_size': 64, 'num_layers': 3, 'dropout_rate': 0, 'val_accuracy': 0.8818433401516063}\n",
      "Testing with lr=0.001, embed_dim=16, rnn_hidden_size=64, fc_hidden_size=64, num_layers=3, dropout_rate=0.3\n"
     ]
    },
    {
     "name": "stdout",
     "output_type": "stream",
     "text": [
      "{'lr': 0.001, 'embed_dim': 16, 'rnn_hidden_size': 64, 'fc_hidden_size': 64, 'num_layers': 3, 'dropout_rate': 0.3, 'val_accuracy': 0.8284201660450006}\n",
      "Testing with lr=0.001, embed_dim=16, rnn_hidden_size=64, fc_hidden_size=64, num_layers=3, dropout_rate=0.5\n"
     ]
    },
    {
     "name": "stdout",
     "output_type": "stream",
     "text": [
      "{'lr': 0.001, 'embed_dim': 16, 'rnn_hidden_size': 64, 'fc_hidden_size': 64, 'num_layers': 3, 'dropout_rate': 0.5, 'val_accuracy': 0.8332330646131633}\n",
      "Testing with lr=0.001, embed_dim=16, rnn_hidden_size=64, fc_hidden_size=128, num_layers=1, dropout_rate=0\n"
     ]
    },
    {
     "name": "stdout",
     "output_type": "stream",
     "text": [
      "{'lr': 0.001, 'embed_dim': 16, 'rnn_hidden_size': 64, 'fc_hidden_size': 128, 'num_layers': 1, 'dropout_rate': 0, 'val_accuracy': 0.8369630610034894}\n",
      "Testing with lr=0.001, embed_dim=16, rnn_hidden_size=64, fc_hidden_size=128, num_layers=1, dropout_rate=0.3\n"
     ]
    },
    {
     "name": "stdout",
     "output_type": "stream",
     "text": [
      "{'lr': 0.001, 'embed_dim': 16, 'rnn_hidden_size': 64, 'fc_hidden_size': 128, 'num_layers': 1, 'dropout_rate': 0.3, 'val_accuracy': 0.868607869089159}\n",
      "Testing with lr=0.001, embed_dim=16, rnn_hidden_size=64, fc_hidden_size=128, num_layers=1, dropout_rate=0.5\n"
     ]
    },
    {
     "name": "stdout",
     "output_type": "stream",
     "text": [
      "{'lr': 0.001, 'embed_dim': 16, 'rnn_hidden_size': 64, 'fc_hidden_size': 128, 'num_layers': 1, 'dropout_rate': 0.5, 'val_accuracy': 0.8628323908073637}\n",
      "Testing with lr=0.001, embed_dim=16, rnn_hidden_size=64, fc_hidden_size=128, num_layers=2, dropout_rate=0\n"
     ]
    },
    {
     "name": "stdout",
     "output_type": "stream",
     "text": [
      "{'lr': 0.001, 'embed_dim': 16, 'rnn_hidden_size': 64, 'fc_hidden_size': 128, 'num_layers': 2, 'dropout_rate': 0, 'val_accuracy': 0.879436890867525}\n",
      "Testing with lr=0.001, embed_dim=16, rnn_hidden_size=64, fc_hidden_size=128, num_layers=2, dropout_rate=0.3\n"
     ]
    },
    {
     "name": "stdout",
     "output_type": "stream",
     "text": [
      "{'lr': 0.001, 'embed_dim': 16, 'rnn_hidden_size': 64, 'fc_hidden_size': 128, 'num_layers': 2, 'dropout_rate': 0.3, 'val_accuracy': 0.8766694741908314}\n",
      "Testing with lr=0.001, embed_dim=16, rnn_hidden_size=64, fc_hidden_size=128, num_layers=2, dropout_rate=0.5\n"
     ]
    },
    {
     "name": "stdout",
     "output_type": "stream",
     "text": [
      "{'lr': 0.001, 'embed_dim': 16, 'rnn_hidden_size': 64, 'fc_hidden_size': 128, 'num_layers': 2, 'dropout_rate': 0.5, 'val_accuracy': 0.8706533509806281}\n",
      "Testing with lr=0.001, embed_dim=16, rnn_hidden_size=64, fc_hidden_size=128, num_layers=3, dropout_rate=0\n"
     ]
    },
    {
     "name": "stdout",
     "output_type": "stream",
     "text": [
      "{'lr': 0.001, 'embed_dim': 16, 'rnn_hidden_size': 64, 'fc_hidden_size': 128, 'num_layers': 3, 'dropout_rate': 0, 'val_accuracy': 0.8730598002647094}\n",
      "Testing with lr=0.001, embed_dim=16, rnn_hidden_size=64, fc_hidden_size=128, num_layers=3, dropout_rate=0.3\n"
     ]
    },
    {
     "name": "stdout",
     "output_type": "stream",
     "text": [
      "{'lr': 0.001, 'embed_dim': 16, 'rnn_hidden_size': 64, 'fc_hidden_size': 128, 'num_layers': 3, 'dropout_rate': 0.3, 'val_accuracy': 0.8796775357959331}\n",
      "Testing with lr=0.001, embed_dim=16, rnn_hidden_size=64, fc_hidden_size=128, num_layers=3, dropout_rate=0.5\n"
     ]
    },
    {
     "name": "stdout",
     "output_type": "stream",
     "text": [
      "{'lr': 0.001, 'embed_dim': 16, 'rnn_hidden_size': 64, 'fc_hidden_size': 128, 'num_layers': 3, 'dropout_rate': 0.5, 'val_accuracy': 0.8771507640476477}\n",
      "Testing with lr=0.001, embed_dim=16, rnn_hidden_size=128, fc_hidden_size=32, num_layers=1, dropout_rate=0\n"
     ]
    },
    {
     "name": "stdout",
     "output_type": "stream",
     "text": [
      "{'lr': 0.001, 'embed_dim': 16, 'rnn_hidden_size': 128, 'fc_hidden_size': 32, 'num_layers': 1, 'dropout_rate': 0, 'val_accuracy': 0.8701720611238118}\n",
      "Testing with lr=0.001, embed_dim=16, rnn_hidden_size=128, fc_hidden_size=32, num_layers=1, dropout_rate=0.3\n"
     ]
    },
    {
     "name": "stdout",
     "output_type": "stream",
     "text": [
      "{'lr': 0.001, 'embed_dim': 16, 'rnn_hidden_size': 128, 'fc_hidden_size': 32, 'num_layers': 1, 'dropout_rate': 0.3, 'val_accuracy': 0.8828059198652388}\n",
      "Testing with lr=0.001, embed_dim=16, rnn_hidden_size=128, fc_hidden_size=32, num_layers=1, dropout_rate=0.5\n"
     ]
    },
    {
     "name": "stdout",
     "output_type": "stream",
     "text": [
      "{'lr': 0.001, 'embed_dim': 16, 'rnn_hidden_size': 128, 'fc_hidden_size': 32, 'num_layers': 1, 'dropout_rate': 0.5, 'val_accuracy': 0.8737817350499338}\n",
      "Testing with lr=0.001, embed_dim=16, rnn_hidden_size=128, fc_hidden_size=32, num_layers=2, dropout_rate=0\n"
     ]
    },
    {
     "name": "stdout",
     "output_type": "stream",
     "text": [
      "{'lr': 0.001, 'embed_dim': 16, 'rnn_hidden_size': 128, 'fc_hidden_size': 32, 'num_layers': 2, 'dropout_rate': 0, 'val_accuracy': 0.8842497894356877}\n",
      "Testing with lr=0.001, embed_dim=16, rnn_hidden_size=128, fc_hidden_size=32, num_layers=2, dropout_rate=0.3\n"
     ]
    },
    {
     "name": "stdout",
     "output_type": "stream",
     "text": [
      "{'lr': 0.001, 'embed_dim': 16, 'rnn_hidden_size': 128, 'fc_hidden_size': 32, 'num_layers': 2, 'dropout_rate': 0.3, 'val_accuracy': 0.8790759234749128}\n",
      "Testing with lr=0.001, embed_dim=16, rnn_hidden_size=128, fc_hidden_size=32, num_layers=2, dropout_rate=0.5\n"
     ]
    },
    {
     "name": "stdout",
     "output_type": "stream",
     "text": [
      "{'lr': 0.001, 'embed_dim': 16, 'rnn_hidden_size': 128, 'fc_hidden_size': 32, 'num_layers': 2, 'dropout_rate': 0.5, 'val_accuracy': 0.8816026952231981}\n",
      "Testing with lr=0.001, embed_dim=16, rnn_hidden_size=128, fc_hidden_size=32, num_layers=3, dropout_rate=0\n"
     ]
    },
    {
     "name": "stdout",
     "output_type": "stream",
     "text": [
      "{'lr': 0.001, 'embed_dim': 16, 'rnn_hidden_size': 128, 'fc_hidden_size': 32, 'num_layers': 3, 'dropout_rate': 0, 'val_accuracy': 0.86331368066418}\n",
      "Testing with lr=0.001, embed_dim=16, rnn_hidden_size=128, fc_hidden_size=32, num_layers=3, dropout_rate=0.3\n"
     ]
    },
    {
     "name": "stdout",
     "output_type": "stream",
     "text": [
      "{'lr': 0.001, 'embed_dim': 16, 'rnn_hidden_size': 128, 'fc_hidden_size': 32, 'num_layers': 3, 'dropout_rate': 0.3, 'val_accuracy': 0.872337865479485}\n",
      "Testing with lr=0.001, embed_dim=16, rnn_hidden_size=128, fc_hidden_size=32, num_layers=3, dropout_rate=0.5\n"
     ]
    },
    {
     "name": "stdout",
     "output_type": "stream",
     "text": [
      "{'lr': 0.001, 'embed_dim': 16, 'rnn_hidden_size': 128, 'fc_hidden_size': 32, 'num_layers': 3, 'dropout_rate': 0.5, 'val_accuracy': 0.8501985320659368}\n",
      "Testing with lr=0.001, embed_dim=16, rnn_hidden_size=128, fc_hidden_size=64, num_layers=1, dropout_rate=0\n"
     ]
    },
    {
     "name": "stdout",
     "output_type": "stream",
     "text": [
      "{'lr': 0.001, 'embed_dim': 16, 'rnn_hidden_size': 128, 'fc_hidden_size': 64, 'num_layers': 1, 'dropout_rate': 0, 'val_accuracy': 0.8752256046203827}\n",
      "Testing with lr=0.001, embed_dim=16, rnn_hidden_size=128, fc_hidden_size=64, num_layers=1, dropout_rate=0.3\n"
     ]
    },
    {
     "name": "stdout",
     "output_type": "stream",
     "text": [
      "{'lr': 0.001, 'embed_dim': 16, 'rnn_hidden_size': 128, 'fc_hidden_size': 64, 'num_layers': 1, 'dropout_rate': 0.3, 'val_accuracy': 0.8788352785465047}\n",
      "Testing with lr=0.001, embed_dim=16, rnn_hidden_size=128, fc_hidden_size=64, num_layers=1, dropout_rate=0.5\n"
     ]
    },
    {
     "name": "stdout",
     "output_type": "stream",
     "text": [
      "{'lr': 0.001, 'embed_dim': 16, 'rnn_hidden_size': 128, 'fc_hidden_size': 64, 'num_layers': 1, 'dropout_rate': 0.5, 'val_accuracy': 0.8788352785465047}\n",
      "Testing with lr=0.001, embed_dim=16, rnn_hidden_size=128, fc_hidden_size=64, num_layers=2, dropout_rate=0\n"
     ]
    },
    {
     "name": "stdout",
     "output_type": "stream",
     "text": [
      "{'lr': 0.001, 'embed_dim': 16, 'rnn_hidden_size': 128, 'fc_hidden_size': 64, 'num_layers': 2, 'dropout_rate': 0, 'val_accuracy': 0.8702923835880159}\n",
      "Testing with lr=0.001, embed_dim=16, rnn_hidden_size=128, fc_hidden_size=64, num_layers=2, dropout_rate=0.3\n"
     ]
    },
    {
     "name": "stdout",
     "output_type": "stream",
     "text": [
      "{'lr': 0.001, 'embed_dim': 16, 'rnn_hidden_size': 128, 'fc_hidden_size': 64, 'num_layers': 2, 'dropout_rate': 0.3, 'val_accuracy': 0.875827216941403}\n",
      "Testing with lr=0.001, embed_dim=16, rnn_hidden_size=128, fc_hidden_size=64, num_layers=2, dropout_rate=0.5\n"
     ]
    },
    {
     "name": "stdout",
     "output_type": "stream",
     "text": [
      "{'lr': 0.001, 'embed_dim': 16, 'rnn_hidden_size': 128, 'fc_hidden_size': 64, 'num_layers': 2, 'dropout_rate': 0.5, 'val_accuracy': 0.8820839850800144}\n",
      "Testing with lr=0.001, embed_dim=16, rnn_hidden_size=128, fc_hidden_size=64, num_layers=3, dropout_rate=0\n"
     ]
    },
    {
     "name": "stdout",
     "output_type": "stream",
     "text": [
      "{'lr': 0.001, 'embed_dim': 16, 'rnn_hidden_size': 128, 'fc_hidden_size': 64, 'num_layers': 3, 'dropout_rate': 0, 'val_accuracy': 0.8800385031885453}\n",
      "Testing with lr=0.001, embed_dim=16, rnn_hidden_size=128, fc_hidden_size=64, num_layers=3, dropout_rate=0.3\n"
     ]
    },
    {
     "name": "stdout",
     "output_type": "stream",
     "text": [
      "{'lr': 0.001, 'embed_dim': 16, 'rnn_hidden_size': 128, 'fc_hidden_size': 64, 'num_layers': 3, 'dropout_rate': 0.3, 'val_accuracy': 0.8714956082300566}\n",
      "Testing with lr=0.001, embed_dim=16, rnn_hidden_size=128, fc_hidden_size=64, num_layers=3, dropout_rate=0.5\n"
     ]
    },
    {
     "name": "stdout",
     "output_type": "stream",
     "text": [
      "{'lr': 0.001, 'embed_dim': 16, 'rnn_hidden_size': 128, 'fc_hidden_size': 64, 'num_layers': 3, 'dropout_rate': 0.5, 'val_accuracy': 0.8587414270244255}\n",
      "Testing with lr=0.001, embed_dim=16, rnn_hidden_size=128, fc_hidden_size=128, num_layers=1, dropout_rate=0\n"
     ]
    },
    {
     "name": "stdout",
     "output_type": "stream",
     "text": [
      "{'lr': 0.001, 'embed_dim': 16, 'rnn_hidden_size': 128, 'fc_hidden_size': 128, 'num_layers': 1, 'dropout_rate': 0, 'val_accuracy': 0.8769101191192396}\n",
      "Testing with lr=0.001, embed_dim=16, rnn_hidden_size=128, fc_hidden_size=128, num_layers=1, dropout_rate=0.3\n"
     ]
    },
    {
     "name": "stdout",
     "output_type": "stream",
     "text": [
      "{'lr': 0.001, 'embed_dim': 16, 'rnn_hidden_size': 128, 'fc_hidden_size': 128, 'num_layers': 1, 'dropout_rate': 0.3, 'val_accuracy': 0.8711346408374443}\n",
      "Testing with lr=0.001, embed_dim=16, rnn_hidden_size=128, fc_hidden_size=128, num_layers=1, dropout_rate=0.5\n"
     ]
    },
    {
     "name": "stdout",
     "output_type": "stream",
     "text": [
      "{'lr': 0.001, 'embed_dim': 16, 'rnn_hidden_size': 128, 'fc_hidden_size': 128, 'num_layers': 1, 'dropout_rate': 0.5, 'val_accuracy': 0.8773914089760558}\n",
      "Testing with lr=0.001, embed_dim=16, rnn_hidden_size=128, fc_hidden_size=128, num_layers=2, dropout_rate=0\n"
     ]
    },
    {
     "name": "stdout",
     "output_type": "stream",
     "text": [
      "{'lr': 0.001, 'embed_dim': 16, 'rnn_hidden_size': 128, 'fc_hidden_size': 128, 'num_layers': 2, 'dropout_rate': 0, 'val_accuracy': 0.8459872458187944}\n",
      "Testing with lr=0.001, embed_dim=16, rnn_hidden_size=128, fc_hidden_size=128, num_layers=2, dropout_rate=0.3\n"
     ]
    },
    {
     "name": "stdout",
     "output_type": "stream",
     "text": [
      "{'lr': 0.001, 'embed_dim': 16, 'rnn_hidden_size': 128, 'fc_hidden_size': 128, 'num_layers': 2, 'dropout_rate': 0.3, 'val_accuracy': 0.8855733365419324}\n",
      "Testing with lr=0.001, embed_dim=16, rnn_hidden_size=128, fc_hidden_size=128, num_layers=2, dropout_rate=0.5\n"
     ]
    },
    {
     "name": "stdout",
     "output_type": "stream",
     "text": [
      "{'lr': 0.001, 'embed_dim': 16, 'rnn_hidden_size': 128, 'fc_hidden_size': 128, 'num_layers': 2, 'dropout_rate': 0.5, 'val_accuracy': 0.8782336662254843}\n",
      "Testing with lr=0.001, embed_dim=16, rnn_hidden_size=128, fc_hidden_size=128, num_layers=3, dropout_rate=0\n"
     ]
    },
    {
     "name": "stdout",
     "output_type": "stream",
     "text": [
      "{'lr': 0.001, 'embed_dim': 16, 'rnn_hidden_size': 128, 'fc_hidden_size': 128, 'num_layers': 3, 'dropout_rate': 0, 'val_accuracy': 0.8824449524726267}\n",
      "Testing with lr=0.001, embed_dim=16, rnn_hidden_size=128, fc_hidden_size=128, num_layers=3, dropout_rate=0.3\n"
     ]
    },
    {
     "name": "stdout",
     "output_type": "stream",
     "text": [
      "{'lr': 0.001, 'embed_dim': 16, 'rnn_hidden_size': 128, 'fc_hidden_size': 128, 'num_layers': 3, 'dropout_rate': 0.3, 'val_accuracy': 0.867043677054506}\n",
      "Testing with lr=0.001, embed_dim=16, rnn_hidden_size=128, fc_hidden_size=128, num_layers=3, dropout_rate=0.5\n"
     ]
    },
    {
     "name": "stdout",
     "output_type": "stream",
     "text": [
      "{'lr': 0.001, 'embed_dim': 16, 'rnn_hidden_size': 128, 'fc_hidden_size': 128, 'num_layers': 3, 'dropout_rate': 0.5, 'val_accuracy': 0.8594633618096499}\n",
      "Testing with lr=0.001, embed_dim=32, rnn_hidden_size=32, fc_hidden_size=32, num_layers=1, dropout_rate=0\n"
     ]
    },
    {
     "name": "stdout",
     "output_type": "stream",
     "text": [
      "{'lr': 0.001, 'embed_dim': 32, 'rnn_hidden_size': 32, 'fc_hidden_size': 32, 'num_layers': 1, 'dropout_rate': 0, 'val_accuracy': 0.8735410901215257}\n",
      "Testing with lr=0.001, embed_dim=32, rnn_hidden_size=32, fc_hidden_size=32, num_layers=1, dropout_rate=0.3\n"
     ]
    },
    {
     "name": "stdout",
     "output_type": "stream",
     "text": [
      "{'lr': 0.001, 'embed_dim': 32, 'rnn_hidden_size': 32, 'fc_hidden_size': 32, 'num_layers': 1, 'dropout_rate': 0.3, 'val_accuracy': 0.8675249669113223}\n",
      "Testing with lr=0.001, embed_dim=32, rnn_hidden_size=32, fc_hidden_size=32, num_layers=1, dropout_rate=0.5\n"
     ]
    },
    {
     "name": "stdout",
     "output_type": "stream",
     "text": [
      "{'lr': 0.001, 'embed_dim': 32, 'rnn_hidden_size': 32, 'fc_hidden_size': 32, 'num_layers': 1, 'dropout_rate': 0.5, 'val_accuracy': 0.8700517386596077}\n",
      "Testing with lr=0.001, embed_dim=32, rnn_hidden_size=32, fc_hidden_size=32, num_layers=2, dropout_rate=0\n"
     ]
    },
    {
     "name": "stdout",
     "output_type": "stream",
     "text": [
      "{'lr': 0.001, 'embed_dim': 32, 'rnn_hidden_size': 32, 'fc_hidden_size': 32, 'num_layers': 2, 'dropout_rate': 0, 'val_accuracy': 0.8694501263385874}\n",
      "Testing with lr=0.001, embed_dim=32, rnn_hidden_size=32, fc_hidden_size=32, num_layers=2, dropout_rate=0.3\n"
     ]
    },
    {
     "name": "stdout",
     "output_type": "stream",
     "text": [
      "{'lr': 0.001, 'embed_dim': 32, 'rnn_hidden_size': 32, 'fc_hidden_size': 32, 'num_layers': 2, 'dropout_rate': 0.3, 'val_accuracy': 0.8468295030682228}\n",
      "Testing with lr=0.001, embed_dim=32, rnn_hidden_size=32, fc_hidden_size=32, num_layers=2, dropout_rate=0.5\n"
     ]
    },
    {
     "name": "stdout",
     "output_type": "stream",
     "text": [
      "{'lr': 0.001, 'embed_dim': 32, 'rnn_hidden_size': 32, 'fc_hidden_size': 32, 'num_layers': 2, 'dropout_rate': 0.5, 'val_accuracy': 0.861629166165323}\n",
      "Testing with lr=0.001, embed_dim=32, rnn_hidden_size=32, fc_hidden_size=32, num_layers=3, dropout_rate=0\n"
     ]
    },
    {
     "name": "stdout",
     "output_type": "stream",
     "text": [
      "{'lr': 0.001, 'embed_dim': 32, 'rnn_hidden_size': 32, 'fc_hidden_size': 32, 'num_layers': 3, 'dropout_rate': 0, 'val_accuracy': 0.8628323908073637}\n",
      "Testing with lr=0.001, embed_dim=32, rnn_hidden_size=32, fc_hidden_size=32, num_layers=3, dropout_rate=0.3\n"
     ]
    },
    {
     "name": "stdout",
     "output_type": "stream",
     "text": [
      "{'lr': 0.001, 'embed_dim': 32, 'rnn_hidden_size': 32, 'fc_hidden_size': 32, 'num_layers': 3, 'dropout_rate': 0.3, 'val_accuracy': 0.8533269161352425}\n",
      "Testing with lr=0.001, embed_dim=32, rnn_hidden_size=32, fc_hidden_size=32, num_layers=3, dropout_rate=0.5\n"
     ]
    },
    {
     "name": "stdout",
     "output_type": "stream",
     "text": [
      "{'lr': 0.001, 'embed_dim': 32, 'rnn_hidden_size': 32, 'fc_hidden_size': 32, 'num_layers': 3, 'dropout_rate': 0.5, 'val_accuracy': 0.8266153290819396}\n",
      "Testing with lr=0.001, embed_dim=32, rnn_hidden_size=32, fc_hidden_size=64, num_layers=1, dropout_rate=0\n"
     ]
    },
    {
     "name": "stdout",
     "output_type": "stream",
     "text": [
      "{'lr': 0.001, 'embed_dim': 32, 'rnn_hidden_size': 32, 'fc_hidden_size': 64, 'num_layers': 1, 'dropout_rate': 0, 'val_accuracy': 0.8787149560823005}\n",
      "Testing with lr=0.001, embed_dim=32, rnn_hidden_size=32, fc_hidden_size=64, num_layers=1, dropout_rate=0.3\n"
     ]
    },
    {
     "name": "stdout",
     "output_type": "stream",
     "text": [
      "{'lr': 0.001, 'embed_dim': 32, 'rnn_hidden_size': 32, 'fc_hidden_size': 64, 'num_layers': 1, 'dropout_rate': 0.3, 'val_accuracy': 0.8708939959090363}\n",
      "Testing with lr=0.001, embed_dim=32, rnn_hidden_size=32, fc_hidden_size=64, num_layers=1, dropout_rate=0.5\n"
     ]
    },
    {
     "name": "stdout",
     "output_type": "stream",
     "text": [
      "{'lr': 0.001, 'embed_dim': 32, 'rnn_hidden_size': 32, 'fc_hidden_size': 64, 'num_layers': 1, 'dropout_rate': 0.5, 'val_accuracy': 0.8731801227289135}\n",
      "Testing with lr=0.001, embed_dim=32, rnn_hidden_size=32, fc_hidden_size=64, num_layers=2, dropout_rate=0\n"
     ]
    },
    {
     "name": "stdout",
     "output_type": "stream",
     "text": [
      "{'lr': 0.001, 'embed_dim': 32, 'rnn_hidden_size': 32, 'fc_hidden_size': 64, 'num_layers': 2, 'dropout_rate': 0, 'val_accuracy': 0.8743833473709541}\n",
      "Testing with lr=0.001, embed_dim=32, rnn_hidden_size=32, fc_hidden_size=64, num_layers=2, dropout_rate=0.3\n"
     ]
    },
    {
     "name": "stdout",
     "output_type": "stream",
     "text": [
      "{'lr': 0.001, 'embed_dim': 32, 'rnn_hidden_size': 32, 'fc_hidden_size': 64, 'num_layers': 2, 'dropout_rate': 0.3, 'val_accuracy': 0.8699314161954037}\n",
      "Testing with lr=0.001, embed_dim=32, rnn_hidden_size=32, fc_hidden_size=64, num_layers=2, dropout_rate=0.5\n"
     ]
    },
    {
     "name": "stdout",
     "output_type": "stream",
     "text": [
      "{'lr': 0.001, 'embed_dim': 32, 'rnn_hidden_size': 32, 'fc_hidden_size': 64, 'num_layers': 2, 'dropout_rate': 0.5, 'val_accuracy': 0.8617494886295272}\n",
      "Testing with lr=0.001, embed_dim=32, rnn_hidden_size=32, fc_hidden_size=64, num_layers=3, dropout_rate=0\n"
     ]
    },
    {
     "name": "stdout",
     "output_type": "stream",
     "text": [
      "{'lr': 0.001, 'embed_dim': 32, 'rnn_hidden_size': 32, 'fc_hidden_size': 64, 'num_layers': 3, 'dropout_rate': 0, 'val_accuracy': 0.8693298038743833}\n",
      "Testing with lr=0.001, embed_dim=32, rnn_hidden_size=32, fc_hidden_size=64, num_layers=3, dropout_rate=0.3\n"
     ]
    },
    {
     "name": "stdout",
     "output_type": "stream",
     "text": [
      "{'lr': 0.001, 'embed_dim': 32, 'rnn_hidden_size': 32, 'fc_hidden_size': 64, 'num_layers': 3, 'dropout_rate': 0.3, 'val_accuracy': 0.8731801227289135}\n",
      "Testing with lr=0.001, embed_dim=32, rnn_hidden_size=32, fc_hidden_size=64, num_layers=3, dropout_rate=0.5\n"
     ]
    },
    {
     "name": "stdout",
     "output_type": "stream",
     "text": [
      "{'lr': 0.001, 'embed_dim': 32, 'rnn_hidden_size': 32, 'fc_hidden_size': 64, 'num_layers': 3, 'dropout_rate': 0.5, 'val_accuracy': 0.859824329202262}\n",
      "Testing with lr=0.001, embed_dim=32, rnn_hidden_size=32, fc_hidden_size=128, num_layers=1, dropout_rate=0\n"
     ]
    },
    {
     "name": "stdout",
     "output_type": "stream",
     "text": [
      "{'lr': 0.001, 'embed_dim': 32, 'rnn_hidden_size': 32, 'fc_hidden_size': 128, 'num_layers': 1, 'dropout_rate': 0, 'val_accuracy': 0.875947539405607}\n",
      "Testing with lr=0.001, embed_dim=32, rnn_hidden_size=32, fc_hidden_size=128, num_layers=1, dropout_rate=0.3\n"
     ]
    },
    {
     "name": "stdout",
     "output_type": "stream",
     "text": [
      "{'lr': 0.001, 'embed_dim': 32, 'rnn_hidden_size': 32, 'fc_hidden_size': 128, 'num_layers': 1, 'dropout_rate': 0.3, 'val_accuracy': 0.8803994705811575}\n",
      "Testing with lr=0.001, embed_dim=32, rnn_hidden_size=32, fc_hidden_size=128, num_layers=1, dropout_rate=0.5\n"
     ]
    },
    {
     "name": "stdout",
     "output_type": "stream",
     "text": [
      "{'lr': 0.001, 'embed_dim': 32, 'rnn_hidden_size': 32, 'fc_hidden_size': 128, 'num_layers': 1, 'dropout_rate': 0.5, 'val_accuracy': 0.877632053904464}\n",
      "Testing with lr=0.001, embed_dim=32, rnn_hidden_size=32, fc_hidden_size=128, num_layers=2, dropout_rate=0\n"
     ]
    },
    {
     "name": "stdout",
     "output_type": "stream",
     "text": [
      "{'lr': 0.001, 'embed_dim': 32, 'rnn_hidden_size': 32, 'fc_hidden_size': 128, 'num_layers': 2, 'dropout_rate': 0, 'val_accuracy': 0.879316568403321}\n",
      "Testing with lr=0.001, embed_dim=32, rnn_hidden_size=32, fc_hidden_size=128, num_layers=2, dropout_rate=0.3\n"
     ]
    },
    {
     "name": "stdout",
     "output_type": "stream",
     "text": [
      "{'lr': 0.001, 'embed_dim': 32, 'rnn_hidden_size': 32, 'fc_hidden_size': 128, 'num_layers': 2, 'dropout_rate': 0.3, 'val_accuracy': 0.8805197930453615}\n",
      "Testing with lr=0.001, embed_dim=32, rnn_hidden_size=32, fc_hidden_size=128, num_layers=2, dropout_rate=0.5\n"
     ]
    },
    {
     "name": "stdout",
     "output_type": "stream",
     "text": [
      "{'lr': 0.001, 'embed_dim': 32, 'rnn_hidden_size': 32, 'fc_hidden_size': 128, 'num_layers': 2, 'dropout_rate': 0.5, 'val_accuracy': 0.8275779087955721}\n",
      "Testing with lr=0.001, embed_dim=32, rnn_hidden_size=32, fc_hidden_size=128, num_layers=3, dropout_rate=0\n"
     ]
    },
    {
     "name": "stdout",
     "output_type": "stream",
     "text": [
      "{'lr': 0.001, 'embed_dim': 32, 'rnn_hidden_size': 32, 'fc_hidden_size': 128, 'num_layers': 3, 'dropout_rate': 0, 'val_accuracy': 0.8819636626158104}\n",
      "Testing with lr=0.001, embed_dim=32, rnn_hidden_size=32, fc_hidden_size=128, num_layers=3, dropout_rate=0.3\n"
     ]
    },
    {
     "name": "stdout",
     "output_type": "stream",
     "text": [
      "{'lr': 0.001, 'embed_dim': 32, 'rnn_hidden_size': 32, 'fc_hidden_size': 128, 'num_layers': 3, 'dropout_rate': 0.3, 'val_accuracy': 0.8831668872578511}\n",
      "Testing with lr=0.001, embed_dim=32, rnn_hidden_size=32, fc_hidden_size=128, num_layers=3, dropout_rate=0.5\n"
     ]
    },
    {
     "name": "stdout",
     "output_type": "stream",
     "text": [
      "{'lr': 0.001, 'embed_dim': 32, 'rnn_hidden_size': 32, 'fc_hidden_size': 128, 'num_layers': 3, 'dropout_rate': 0.5, 'val_accuracy': 0.8621104560221393}\n",
      "Testing with lr=0.001, embed_dim=32, rnn_hidden_size=64, fc_hidden_size=32, num_layers=1, dropout_rate=0\n"
     ]
    },
    {
     "name": "stdout",
     "output_type": "stream",
     "text": [
      "{'lr': 0.001, 'embed_dim': 32, 'rnn_hidden_size': 64, 'fc_hidden_size': 32, 'num_layers': 1, 'dropout_rate': 0, 'val_accuracy': 0.8729394778005054}\n",
      "Testing with lr=0.001, embed_dim=32, rnn_hidden_size=64, fc_hidden_size=32, num_layers=1, dropout_rate=0.3\n"
     ]
    },
    {
     "name": "stdout",
     "output_type": "stream",
     "text": [
      "{'lr': 0.001, 'embed_dim': 32, 'rnn_hidden_size': 64, 'fc_hidden_size': 32, 'num_layers': 1, 'dropout_rate': 0.3, 'val_accuracy': 0.8757068944771988}\n",
      "Testing with lr=0.001, embed_dim=32, rnn_hidden_size=64, fc_hidden_size=32, num_layers=1, dropout_rate=0.5\n"
     ]
    },
    {
     "name": "stdout",
     "output_type": "stream",
     "text": [
      "{'lr': 0.001, 'embed_dim': 32, 'rnn_hidden_size': 64, 'fc_hidden_size': 32, 'num_layers': 1, 'dropout_rate': 0.5, 'val_accuracy': 0.8749849596919745}\n",
      "Testing with lr=0.001, embed_dim=32, rnn_hidden_size=64, fc_hidden_size=32, num_layers=2, dropout_rate=0\n"
     ]
    },
    {
     "name": "stdout",
     "output_type": "stream",
     "text": [
      "{'lr': 0.001, 'embed_dim': 32, 'rnn_hidden_size': 64, 'fc_hidden_size': 32, 'num_layers': 2, 'dropout_rate': 0, 'val_accuracy': 0.8820839850800144}\n",
      "Testing with lr=0.001, embed_dim=32, rnn_hidden_size=64, fc_hidden_size=32, num_layers=2, dropout_rate=0.3\n"
     ]
    },
    {
     "name": "stdout",
     "output_type": "stream",
     "text": [
      "{'lr': 0.001, 'embed_dim': 32, 'rnn_hidden_size': 64, 'fc_hidden_size': 32, 'num_layers': 2, 'dropout_rate': 0.3, 'val_accuracy': 0.8554927204909156}\n",
      "Testing with lr=0.001, embed_dim=32, rnn_hidden_size=64, fc_hidden_size=32, num_layers=2, dropout_rate=0.5\n"
     ]
    },
    {
     "name": "stdout",
     "output_type": "stream",
     "text": [
      "{'lr': 0.001, 'embed_dim': 32, 'rnn_hidden_size': 64, 'fc_hidden_size': 32, 'num_layers': 2, 'dropout_rate': 0.5, 'val_accuracy': 0.8702923835880159}\n",
      "Testing with lr=0.001, embed_dim=32, rnn_hidden_size=64, fc_hidden_size=32, num_layers=3, dropout_rate=0\n"
     ]
    },
    {
     "name": "stdout",
     "output_type": "stream",
     "text": [
      "{'lr': 0.001, 'embed_dim': 32, 'rnn_hidden_size': 64, 'fc_hidden_size': 32, 'num_layers': 3, 'dropout_rate': 0, 'val_accuracy': 0.8713752857658524}\n",
      "Testing with lr=0.001, embed_dim=32, rnn_hidden_size=64, fc_hidden_size=32, num_layers=3, dropout_rate=0.3\n"
     ]
    },
    {
     "name": "stdout",
     "output_type": "stream",
     "text": [
      "{'lr': 0.001, 'embed_dim': 32, 'rnn_hidden_size': 64, 'fc_hidden_size': 32, 'num_layers': 3, 'dropout_rate': 0.3, 'val_accuracy': 0.8716159306942606}\n",
      "Testing with lr=0.001, embed_dim=32, rnn_hidden_size=64, fc_hidden_size=32, num_layers=3, dropout_rate=0.5\n"
     ]
    },
    {
     "name": "stdout",
     "output_type": "stream",
     "text": [
      "{'lr': 0.001, 'embed_dim': 32, 'rnn_hidden_size': 64, 'fc_hidden_size': 32, 'num_layers': 3, 'dropout_rate': 0.5, 'val_accuracy': 0.875827216941403}\n",
      "Testing with lr=0.001, embed_dim=32, rnn_hidden_size=64, fc_hidden_size=64, num_layers=1, dropout_rate=0\n"
     ]
    },
    {
     "name": "stdout",
     "output_type": "stream",
     "text": [
      "{'lr': 0.001, 'embed_dim': 32, 'rnn_hidden_size': 64, 'fc_hidden_size': 64, 'num_layers': 1, 'dropout_rate': 0, 'val_accuracy': 0.881121405366382}\n",
      "Testing with lr=0.001, embed_dim=32, rnn_hidden_size=64, fc_hidden_size=64, num_layers=1, dropout_rate=0.3\n"
     ]
    },
    {
     "name": "stdout",
     "output_type": "stream",
     "text": [
      "{'lr': 0.001, 'embed_dim': 32, 'rnn_hidden_size': 64, 'fc_hidden_size': 64, 'num_layers': 1, 'dropout_rate': 0.3, 'val_accuracy': 0.8817230176874022}\n",
      "Testing with lr=0.001, embed_dim=32, rnn_hidden_size=64, fc_hidden_size=64, num_layers=1, dropout_rate=0.5\n"
     ]
    },
    {
     "name": "stdout",
     "output_type": "stream",
     "text": [
      "{'lr': 0.001, 'embed_dim': 32, 'rnn_hidden_size': 64, 'fc_hidden_size': 64, 'num_layers': 1, 'dropout_rate': 0.5, 'val_accuracy': 0.877752376368668}\n",
      "Testing with lr=0.001, embed_dim=32, rnn_hidden_size=64, fc_hidden_size=64, num_layers=2, dropout_rate=0\n"
     ]
    },
    {
     "name": "stdout",
     "output_type": "stream",
     "text": [
      "{'lr': 0.001, 'embed_dim': 32, 'rnn_hidden_size': 64, 'fc_hidden_size': 64, 'num_layers': 2, 'dropout_rate': 0, 'val_accuracy': 0.8799181807243412}\n",
      "Testing with lr=0.001, embed_dim=32, rnn_hidden_size=64, fc_hidden_size=64, num_layers=2, dropout_rate=0.3\n"
     ]
    },
    {
     "name": "stdout",
     "output_type": "stream",
     "text": [
      "{'lr': 0.001, 'embed_dim': 32, 'rnn_hidden_size': 64, 'fc_hidden_size': 64, 'num_layers': 2, 'dropout_rate': 0.3, 'val_accuracy': 0.8765491517266274}\n",
      "Testing with lr=0.001, embed_dim=32, rnn_hidden_size=64, fc_hidden_size=64, num_layers=2, dropout_rate=0.5\n"
     ]
    },
    {
     "name": "stdout",
     "output_type": "stream",
     "text": [
      "{'lr': 0.001, 'embed_dim': 32, 'rnn_hidden_size': 64, 'fc_hidden_size': 64, 'num_layers': 2, 'dropout_rate': 0.5, 'val_accuracy': 0.8818433401516063}\n",
      "Testing with lr=0.001, embed_dim=32, rnn_hidden_size=64, fc_hidden_size=64, num_layers=3, dropout_rate=0\n"
     ]
    },
    {
     "name": "stdout",
     "output_type": "stream",
     "text": [
      "{'lr': 0.001, 'embed_dim': 32, 'rnn_hidden_size': 64, 'fc_hidden_size': 64, 'num_layers': 3, 'dropout_rate': 0, 'val_accuracy': 0.8375646733245097}\n",
      "Testing with lr=0.001, embed_dim=32, rnn_hidden_size=64, fc_hidden_size=64, num_layers=3, dropout_rate=0.3\n"
     ]
    },
    {
     "name": "stdout",
     "output_type": "stream",
     "text": [
      "{'lr': 0.001, 'embed_dim': 32, 'rnn_hidden_size': 64, 'fc_hidden_size': 64, 'num_layers': 3, 'dropout_rate': 0.3, 'val_accuracy': 0.8693298038743833}\n",
      "Testing with lr=0.001, embed_dim=32, rnn_hidden_size=64, fc_hidden_size=64, num_layers=3, dropout_rate=0.5\n"
     ]
    },
    {
     "name": "stdout",
     "output_type": "stream",
     "text": [
      "{'lr': 0.001, 'embed_dim': 32, 'rnn_hidden_size': 64, 'fc_hidden_size': 64, 'num_layers': 3, 'dropout_rate': 0.5, 'val_accuracy': 0.8783539886896884}\n",
      "Testing with lr=0.001, embed_dim=32, rnn_hidden_size=64, fc_hidden_size=128, num_layers=1, dropout_rate=0\n"
     ]
    },
    {
     "name": "stdout",
     "output_type": "stream",
     "text": [
      "{'lr': 0.001, 'embed_dim': 32, 'rnn_hidden_size': 64, 'fc_hidden_size': 128, 'num_layers': 1, 'dropout_rate': 0, 'val_accuracy': 0.881241727830586}\n",
      "Testing with lr=0.001, embed_dim=32, rnn_hidden_size=64, fc_hidden_size=128, num_layers=1, dropout_rate=0.3\n"
     ]
    },
    {
     "name": "stdout",
     "output_type": "stream",
     "text": [
      "{'lr': 0.001, 'embed_dim': 32, 'rnn_hidden_size': 64, 'fc_hidden_size': 128, 'num_layers': 1, 'dropout_rate': 0.3, 'val_accuracy': 0.884851401756708}\n",
      "Testing with lr=0.001, embed_dim=32, rnn_hidden_size=64, fc_hidden_size=128, num_layers=1, dropout_rate=0.5\n"
     ]
    },
    {
     "name": "stdout",
     "output_type": "stream",
     "text": [
      "{'lr': 0.001, 'embed_dim': 32, 'rnn_hidden_size': 64, 'fc_hidden_size': 128, 'num_layers': 1, 'dropout_rate': 0.5, 'val_accuracy': 0.8832872097220551}\n",
      "Testing with lr=0.001, embed_dim=32, rnn_hidden_size=64, fc_hidden_size=128, num_layers=2, dropout_rate=0\n"
     ]
    },
    {
     "name": "stdout",
     "output_type": "stream",
     "text": [
      "{'lr': 0.001, 'embed_dim': 32, 'rnn_hidden_size': 64, 'fc_hidden_size': 128, 'num_layers': 2, 'dropout_rate': 0, 'val_accuracy': 0.8831668872578511}\n",
      "Testing with lr=0.001, embed_dim=32, rnn_hidden_size=64, fc_hidden_size=128, num_layers=2, dropout_rate=0.3\n"
     ]
    },
    {
     "name": "stdout",
     "output_type": "stream",
     "text": [
      "{'lr': 0.001, 'embed_dim': 32, 'rnn_hidden_size': 64, 'fc_hidden_size': 128, 'num_layers': 2, 'dropout_rate': 0.3, 'val_accuracy': 0.8773914089760558}\n",
      "Testing with lr=0.001, embed_dim=32, rnn_hidden_size=64, fc_hidden_size=128, num_layers=2, dropout_rate=0.5\n"
     ]
    },
    {
     "name": "stdout",
     "output_type": "stream",
     "text": [
      "{'lr': 0.001, 'embed_dim': 32, 'rnn_hidden_size': 64, 'fc_hidden_size': 128, 'num_layers': 2, 'dropout_rate': 0.5, 'val_accuracy': 0.8471904704608351}\n",
      "Testing with lr=0.001, embed_dim=32, rnn_hidden_size=64, fc_hidden_size=128, num_layers=3, dropout_rate=0\n"
     ]
    },
    {
     "name": "stdout",
     "output_type": "stream",
     "text": [
      "{'lr': 0.001, 'embed_dim': 32, 'rnn_hidden_size': 64, 'fc_hidden_size': 128, 'num_layers': 3, 'dropout_rate': 0, 'val_accuracy': 0.8835278546504632}\n",
      "Testing with lr=0.001, embed_dim=32, rnn_hidden_size=64, fc_hidden_size=128, num_layers=3, dropout_rate=0.3\n"
     ]
    },
    {
     "name": "stdout",
     "output_type": "stream",
     "text": [
      "{'lr': 0.001, 'embed_dim': 32, 'rnn_hidden_size': 64, 'fc_hidden_size': 128, 'num_layers': 3, 'dropout_rate': 0.3, 'val_accuracy': 0.8701720611238118}\n",
      "Testing with lr=0.001, embed_dim=32, rnn_hidden_size=64, fc_hidden_size=128, num_layers=3, dropout_rate=0.5\n"
     ]
    },
    {
     "name": "stdout",
     "output_type": "stream",
     "text": [
      "{'lr': 0.001, 'embed_dim': 32, 'rnn_hidden_size': 64, 'fc_hidden_size': 128, 'num_layers': 3, 'dropout_rate': 0.5, 'val_accuracy': 0.8600649741306702}\n",
      "Testing with lr=0.001, embed_dim=32, rnn_hidden_size=128, fc_hidden_size=32, num_layers=1, dropout_rate=0\n"
     ]
    },
    {
     "name": "stdout",
     "output_type": "stream",
     "text": [
      "{'lr': 0.001, 'embed_dim': 32, 'rnn_hidden_size': 128, 'fc_hidden_size': 32, 'num_layers': 1, 'dropout_rate': 0, 'val_accuracy': 0.8842497894356877}\n",
      "Testing with lr=0.001, embed_dim=32, rnn_hidden_size=128, fc_hidden_size=32, num_layers=1, dropout_rate=0.3\n"
     ]
    },
    {
     "name": "stdout",
     "output_type": "stream",
     "text": [
      "{'lr': 0.001, 'embed_dim': 32, 'rnn_hidden_size': 128, 'fc_hidden_size': 32, 'num_layers': 1, 'dropout_rate': 0.3, 'val_accuracy': 0.8789556010107087}\n",
      "Testing with lr=0.001, embed_dim=32, rnn_hidden_size=128, fc_hidden_size=32, num_layers=1, dropout_rate=0.5\n"
     ]
    },
    {
     "name": "stdout",
     "output_type": "stream",
     "text": [
      "{'lr': 0.001, 'embed_dim': 32, 'rnn_hidden_size': 128, 'fc_hidden_size': 32, 'num_layers': 1, 'dropout_rate': 0.5, 'val_accuracy': 0.8775117314402598}\n",
      "Testing with lr=0.001, embed_dim=32, rnn_hidden_size=128, fc_hidden_size=32, num_layers=2, dropout_rate=0\n"
     ]
    },
    {
     "name": "stdout",
     "output_type": "stream",
     "text": [
      "{'lr': 0.001, 'embed_dim': 32, 'rnn_hidden_size': 128, 'fc_hidden_size': 32, 'num_layers': 2, 'dropout_rate': 0, 'val_accuracy': 0.8823246300084225}\n",
      "Testing with lr=0.001, embed_dim=32, rnn_hidden_size=128, fc_hidden_size=32, num_layers=2, dropout_rate=0.3\n"
     ]
    },
    {
     "name": "stdout",
     "output_type": "stream",
     "text": [
      "{'lr': 0.001, 'embed_dim': 32, 'rnn_hidden_size': 128, 'fc_hidden_size': 32, 'num_layers': 2, 'dropout_rate': 0.3, 'val_accuracy': 0.8825652749368307}\n",
      "Testing with lr=0.001, embed_dim=32, rnn_hidden_size=128, fc_hidden_size=32, num_layers=2, dropout_rate=0.5\n"
     ]
    },
    {
     "name": "stdout",
     "output_type": "stream",
     "text": [
      "{'lr': 0.001, 'embed_dim': 32, 'rnn_hidden_size': 128, 'fc_hidden_size': 32, 'num_layers': 2, 'dropout_rate': 0.5, 'val_accuracy': 0.883046564793647}\n",
      "Testing with lr=0.001, embed_dim=32, rnn_hidden_size=128, fc_hidden_size=32, num_layers=3, dropout_rate=0\n"
     ]
    },
    {
     "name": "stdout",
     "output_type": "stream",
     "text": [
      "{'lr': 0.001, 'embed_dim': 32, 'rnn_hidden_size': 128, 'fc_hidden_size': 32, 'num_layers': 3, 'dropout_rate': 0, 'val_accuracy': 0.8702923835880159}\n",
      "Testing with lr=0.001, embed_dim=32, rnn_hidden_size=128, fc_hidden_size=32, num_layers=3, dropout_rate=0.3\n"
     ]
    },
    {
     "name": "stdout",
     "output_type": "stream",
     "text": [
      "{'lr': 0.001, 'embed_dim': 32, 'rnn_hidden_size': 128, 'fc_hidden_size': 32, 'num_layers': 3, 'dropout_rate': 0.3, 'val_accuracy': 0.8854530140777284}\n",
      "Testing with lr=0.001, embed_dim=32, rnn_hidden_size=128, fc_hidden_size=32, num_layers=3, dropout_rate=0.5\n"
     ]
    },
    {
     "name": "stdout",
     "output_type": "stream",
     "text": [
      "{'lr': 0.001, 'embed_dim': 32, 'rnn_hidden_size': 128, 'fc_hidden_size': 32, 'num_layers': 3, 'dropout_rate': 0.5, 'val_accuracy': 0.8720972205510769}\n",
      "Testing with lr=0.001, embed_dim=32, rnn_hidden_size=128, fc_hidden_size=64, num_layers=1, dropout_rate=0\n"
     ]
    },
    {
     "name": "stdout",
     "output_type": "stream",
     "text": [
      "{'lr': 0.001, 'embed_dim': 32, 'rnn_hidden_size': 128, 'fc_hidden_size': 64, 'num_layers': 1, 'dropout_rate': 0, 'val_accuracy': 0.8783539886896884}\n",
      "Testing with lr=0.001, embed_dim=32, rnn_hidden_size=128, fc_hidden_size=64, num_layers=1, dropout_rate=0.3\n"
     ]
    },
    {
     "name": "stdout",
     "output_type": "stream",
     "text": [
      "{'lr': 0.001, 'embed_dim': 32, 'rnn_hidden_size': 128, 'fc_hidden_size': 64, 'num_layers': 1, 'dropout_rate': 0.3, 'val_accuracy': 0.874022379978342}\n",
      "Testing with lr=0.001, embed_dim=32, rnn_hidden_size=128, fc_hidden_size=64, num_layers=1, dropout_rate=0.5\n"
     ]
    },
    {
     "name": "stdout",
     "output_type": "stream",
     "text": [
      "{'lr': 0.001, 'embed_dim': 32, 'rnn_hidden_size': 128, 'fc_hidden_size': 64, 'num_layers': 1, 'dropout_rate': 0.5, 'val_accuracy': 0.8835278546504632}\n",
      "Testing with lr=0.001, embed_dim=32, rnn_hidden_size=128, fc_hidden_size=64, num_layers=2, dropout_rate=0\n"
     ]
    },
    {
     "name": "stdout",
     "output_type": "stream",
     "text": [
      "{'lr': 0.001, 'embed_dim': 32, 'rnn_hidden_size': 128, 'fc_hidden_size': 64, 'num_layers': 2, 'dropout_rate': 0, 'val_accuracy': 0.8843701118998917}\n",
      "Testing with lr=0.001, embed_dim=32, rnn_hidden_size=128, fc_hidden_size=64, num_layers=2, dropout_rate=0.3\n"
     ]
    },
    {
     "name": "stdout",
     "output_type": "stream",
     "text": [
      "{'lr': 0.001, 'embed_dim': 32, 'rnn_hidden_size': 128, 'fc_hidden_size': 64, 'num_layers': 2, 'dropout_rate': 0.3, 'val_accuracy': 0.8874984959691975}\n",
      "Testing with lr=0.001, embed_dim=32, rnn_hidden_size=128, fc_hidden_size=64, num_layers=2, dropout_rate=0.5\n"
     ]
    },
    {
     "name": "stdout",
     "output_type": "stream",
     "text": [
      "{'lr': 0.001, 'embed_dim': 32, 'rnn_hidden_size': 128, 'fc_hidden_size': 64, 'num_layers': 2, 'dropout_rate': 0.5, 'val_accuracy': 0.882926242329443}\n",
      "Testing with lr=0.001, embed_dim=32, rnn_hidden_size=128, fc_hidden_size=64, num_layers=3, dropout_rate=0\n"
     ]
    },
    {
     "name": "stdout",
     "output_type": "stream",
     "text": [
      "{'lr': 0.001, 'embed_dim': 32, 'rnn_hidden_size': 128, 'fc_hidden_size': 64, 'num_layers': 3, 'dropout_rate': 0, 'val_accuracy': 0.8853326916135242}\n",
      "Testing with lr=0.001, embed_dim=32, rnn_hidden_size=128, fc_hidden_size=64, num_layers=3, dropout_rate=0.3\n"
     ]
    },
    {
     "name": "stdout",
     "output_type": "stream",
     "text": [
      "{'lr': 0.001, 'embed_dim': 32, 'rnn_hidden_size': 128, 'fc_hidden_size': 64, 'num_layers': 3, 'dropout_rate': 0.3, 'val_accuracy': 0.8847310792925039}\n",
      "Testing with lr=0.001, embed_dim=32, rnn_hidden_size=128, fc_hidden_size=64, num_layers=3, dropout_rate=0.5\n"
     ]
    },
    {
     "name": "stdout",
     "output_type": "stream",
     "text": [
      "{'lr': 0.001, 'embed_dim': 32, 'rnn_hidden_size': 128, 'fc_hidden_size': 64, 'num_layers': 3, 'dropout_rate': 0.5, 'val_accuracy': 0.8796775357959331}\n",
      "Testing with lr=0.001, embed_dim=32, rnn_hidden_size=128, fc_hidden_size=128, num_layers=1, dropout_rate=0\n"
     ]
    },
    {
     "name": "stdout",
     "output_type": "stream",
     "text": [
      "{'lr': 0.001, 'embed_dim': 32, 'rnn_hidden_size': 128, 'fc_hidden_size': 128, 'num_layers': 1, 'dropout_rate': 0, 'val_accuracy': 0.8772710865118518}\n",
      "Testing with lr=0.001, embed_dim=32, rnn_hidden_size=128, fc_hidden_size=128, num_layers=1, dropout_rate=0.3\n"
     ]
    },
    {
     "name": "stdout",
     "output_type": "stream",
     "text": [
      "{'lr': 0.001, 'embed_dim': 32, 'rnn_hidden_size': 128, 'fc_hidden_size': 128, 'num_layers': 1, 'dropout_rate': 0.3, 'val_accuracy': 0.8735410901215257}\n",
      "Testing with lr=0.001, embed_dim=32, rnn_hidden_size=128, fc_hidden_size=128, num_layers=1, dropout_rate=0.5\n"
     ]
    },
    {
     "name": "stdout",
     "output_type": "stream",
     "text": [
      "{'lr': 0.001, 'embed_dim': 32, 'rnn_hidden_size': 128, 'fc_hidden_size': 128, 'num_layers': 1, 'dropout_rate': 0.5, 'val_accuracy': 0.8805197930453615}\n",
      "Testing with lr=0.001, embed_dim=32, rnn_hidden_size=128, fc_hidden_size=128, num_layers=2, dropout_rate=0\n"
     ]
    },
    {
     "name": "stdout",
     "output_type": "stream",
     "text": [
      "{'lr': 0.001, 'embed_dim': 32, 'rnn_hidden_size': 128, 'fc_hidden_size': 128, 'num_layers': 2, 'dropout_rate': 0, 'val_accuracy': 0.879436890867525}\n",
      "Testing with lr=0.001, embed_dim=32, rnn_hidden_size=128, fc_hidden_size=128, num_layers=2, dropout_rate=0.3\n"
     ]
    },
    {
     "name": "stdout",
     "output_type": "stream",
     "text": [
      "{'lr': 0.001, 'embed_dim': 32, 'rnn_hidden_size': 128, 'fc_hidden_size': 128, 'num_layers': 2, 'dropout_rate': 0.3, 'val_accuracy': 0.874142702442546}\n",
      "Testing with lr=0.001, embed_dim=32, rnn_hidden_size=128, fc_hidden_size=128, num_layers=2, dropout_rate=0.5\n"
     ]
    },
    {
     "name": "stdout",
     "output_type": "stream",
     "text": [
      "{'lr': 0.001, 'embed_dim': 32, 'rnn_hidden_size': 128, 'fc_hidden_size': 128, 'num_layers': 2, 'dropout_rate': 0.5, 'val_accuracy': 0.8826855974010348}\n",
      "Testing with lr=0.001, embed_dim=32, rnn_hidden_size=128, fc_hidden_size=128, num_layers=3, dropout_rate=0\n"
     ]
    },
    {
     "name": "stdout",
     "output_type": "stream",
     "text": [
      "{'lr': 0.001, 'embed_dim': 32, 'rnn_hidden_size': 128, 'fc_hidden_size': 128, 'num_layers': 3, 'dropout_rate': 0, 'val_accuracy': 0.879436890867525}\n",
      "Testing with lr=0.001, embed_dim=32, rnn_hidden_size=128, fc_hidden_size=128, num_layers=3, dropout_rate=0.3\n"
     ]
    },
    {
     "name": "stdout",
     "output_type": "stream",
     "text": [
      "{'lr': 0.001, 'embed_dim': 32, 'rnn_hidden_size': 128, 'fc_hidden_size': 128, 'num_layers': 3, 'dropout_rate': 0.3, 'val_accuracy': 0.8828059198652388}\n",
      "Testing with lr=0.001, embed_dim=32, rnn_hidden_size=128, fc_hidden_size=128, num_layers=3, dropout_rate=0.5\n"
     ]
    },
    {
     "name": "stdout",
     "output_type": "stream",
     "text": [
      "{'lr': 0.001, 'embed_dim': 32, 'rnn_hidden_size': 128, 'fc_hidden_size': 128, 'num_layers': 3, 'dropout_rate': 0.5, 'val_accuracy': 0.8852123691493202}\n",
      "Testing with lr=0.001, embed_dim=64, rnn_hidden_size=32, fc_hidden_size=32, num_layers=1, dropout_rate=0\n"
     ]
    },
    {
     "name": "stdout",
     "output_type": "stream",
     "text": [
      "{'lr': 0.001, 'embed_dim': 64, 'rnn_hidden_size': 32, 'fc_hidden_size': 32, 'num_layers': 1, 'dropout_rate': 0, 'val_accuracy': 0.8825652749368307}\n",
      "Testing with lr=0.001, embed_dim=64, rnn_hidden_size=32, fc_hidden_size=32, num_layers=1, dropout_rate=0.3\n"
     ]
    },
    {
     "name": "stdout",
     "output_type": "stream",
     "text": [
      "{'lr': 0.001, 'embed_dim': 64, 'rnn_hidden_size': 32, 'fc_hidden_size': 32, 'num_layers': 1, 'dropout_rate': 0.3, 'val_accuracy': 0.8824449524726267}\n",
      "Testing with lr=0.001, embed_dim=64, rnn_hidden_size=32, fc_hidden_size=32, num_layers=1, dropout_rate=0.5\n"
     ]
    },
    {
     "name": "stdout",
     "output_type": "stream",
     "text": [
      "{'lr': 0.001, 'embed_dim': 64, 'rnn_hidden_size': 32, 'fc_hidden_size': 32, 'num_layers': 1, 'dropout_rate': 0.5, 'val_accuracy': 0.8764288292624233}\n",
      "Testing with lr=0.001, embed_dim=64, rnn_hidden_size=32, fc_hidden_size=32, num_layers=2, dropout_rate=0\n"
     ]
    },
    {
     "name": "stdout",
     "output_type": "stream",
     "text": [
      "{'lr': 0.001, 'embed_dim': 64, 'rnn_hidden_size': 32, 'fc_hidden_size': 32, 'num_layers': 2, 'dropout_rate': 0, 'val_accuracy': 0.8836481771146673}\n",
      "Testing with lr=0.001, embed_dim=64, rnn_hidden_size=32, fc_hidden_size=32, num_layers=2, dropout_rate=0.3\n"
     ]
    },
    {
     "name": "stdout",
     "output_type": "stream",
     "text": [
      "{'lr': 0.001, 'embed_dim': 64, 'rnn_hidden_size': 32, 'fc_hidden_size': 32, 'num_layers': 2, 'dropout_rate': 0.3, 'val_accuracy': 0.8825652749368307}\n",
      "Testing with lr=0.001, embed_dim=64, rnn_hidden_size=32, fc_hidden_size=32, num_layers=2, dropout_rate=0.5\n"
     ]
    },
    {
     "name": "stdout",
     "output_type": "stream",
     "text": [
      "{'lr': 0.001, 'embed_dim': 64, 'rnn_hidden_size': 32, 'fc_hidden_size': 32, 'num_layers': 2, 'dropout_rate': 0.5, 'val_accuracy': 0.8808807604379738}\n",
      "Testing with lr=0.001, embed_dim=64, rnn_hidden_size=32, fc_hidden_size=32, num_layers=3, dropout_rate=0\n"
     ]
    },
    {
     "name": "stdout",
     "output_type": "stream",
     "text": [
      "{'lr': 0.001, 'embed_dim': 64, 'rnn_hidden_size': 32, 'fc_hidden_size': 32, 'num_layers': 3, 'dropout_rate': 0, 'val_accuracy': 0.8781133437612803}\n",
      "Testing with lr=0.001, embed_dim=64, rnn_hidden_size=32, fc_hidden_size=32, num_layers=3, dropout_rate=0.3\n"
     ]
    },
    {
     "name": "stdout",
     "output_type": "stream",
     "text": [
      "{'lr': 0.001, 'embed_dim': 64, 'rnn_hidden_size': 32, 'fc_hidden_size': 32, 'num_layers': 3, 'dropout_rate': 0.3, 'val_accuracy': 0.8689688364817711}\n",
      "Testing with lr=0.001, embed_dim=64, rnn_hidden_size=32, fc_hidden_size=32, num_layers=3, dropout_rate=0.5\n"
     ]
    },
    {
     "name": "stdout",
     "output_type": "stream",
     "text": [
      "{'lr': 0.001, 'embed_dim': 64, 'rnn_hidden_size': 32, 'fc_hidden_size': 32, 'num_layers': 3, 'dropout_rate': 0.5, 'val_accuracy': 0.8769101191192396}\n",
      "Testing with lr=0.001, embed_dim=64, rnn_hidden_size=32, fc_hidden_size=64, num_layers=1, dropout_rate=0\n"
     ]
    },
    {
     "name": "stdout",
     "output_type": "stream",
     "text": [
      "{'lr': 0.001, 'embed_dim': 64, 'rnn_hidden_size': 32, 'fc_hidden_size': 64, 'num_layers': 1, 'dropout_rate': 0, 'val_accuracy': 0.8781133437612803}\n",
      "Testing with lr=0.001, embed_dim=64, rnn_hidden_size=32, fc_hidden_size=64, num_layers=1, dropout_rate=0.3\n"
     ]
    },
    {
     "name": "stdout",
     "output_type": "stream",
     "text": [
      "{'lr': 0.001, 'embed_dim': 64, 'rnn_hidden_size': 32, 'fc_hidden_size': 64, 'num_layers': 1, 'dropout_rate': 0.3, 'val_accuracy': 0.8800385031885453}\n",
      "Testing with lr=0.001, embed_dim=64, rnn_hidden_size=32, fc_hidden_size=64, num_layers=1, dropout_rate=0.5\n"
     ]
    },
    {
     "name": "stdout",
     "output_type": "stream",
     "text": [
      "{'lr': 0.001, 'embed_dim': 64, 'rnn_hidden_size': 32, 'fc_hidden_size': 64, 'num_layers': 1, 'dropout_rate': 0.5, 'val_accuracy': 0.8871375285765852}\n",
      "Testing with lr=0.001, embed_dim=64, rnn_hidden_size=32, fc_hidden_size=64, num_layers=2, dropout_rate=0\n"
     ]
    },
    {
     "name": "stdout",
     "output_type": "stream",
     "text": [
      "{'lr': 0.001, 'embed_dim': 64, 'rnn_hidden_size': 32, 'fc_hidden_size': 64, 'num_layers': 2, 'dropout_rate': 0, 'val_accuracy': 0.8767897966550355}\n",
      "Testing with lr=0.001, embed_dim=64, rnn_hidden_size=32, fc_hidden_size=64, num_layers=2, dropout_rate=0.3\n"
     ]
    },
    {
     "name": "stdout",
     "output_type": "stream",
     "text": [
      "{'lr': 0.001, 'embed_dim': 64, 'rnn_hidden_size': 32, 'fc_hidden_size': 64, 'num_layers': 2, 'dropout_rate': 0.3, 'val_accuracy': 0.8813620502947901}\n",
      "Testing with lr=0.001, embed_dim=64, rnn_hidden_size=32, fc_hidden_size=64, num_layers=2, dropout_rate=0.5\n"
     ]
    },
    {
     "name": "stdout",
     "output_type": "stream",
     "text": [
      "{'lr': 0.001, 'embed_dim': 64, 'rnn_hidden_size': 32, 'fc_hidden_size': 64, 'num_layers': 2, 'dropout_rate': 0.5, 'val_accuracy': 0.8772710865118518}\n",
      "Testing with lr=0.001, embed_dim=64, rnn_hidden_size=32, fc_hidden_size=64, num_layers=3, dropout_rate=0\n"
     ]
    },
    {
     "name": "stdout",
     "output_type": "stream",
     "text": [
      "{'lr': 0.001, 'embed_dim': 64, 'rnn_hidden_size': 32, 'fc_hidden_size': 64, 'num_layers': 3, 'dropout_rate': 0, 'val_accuracy': 0.8690891589459752}\n",
      "Testing with lr=0.001, embed_dim=64, rnn_hidden_size=32, fc_hidden_size=64, num_layers=3, dropout_rate=0.3\n"
     ]
    },
    {
     "name": "stdout",
     "output_type": "stream",
     "text": [
      "{'lr': 0.001, 'embed_dim': 64, 'rnn_hidden_size': 32, 'fc_hidden_size': 64, 'num_layers': 3, 'dropout_rate': 0.3, 'val_accuracy': 0.877632053904464}\n",
      "Testing with lr=0.001, embed_dim=64, rnn_hidden_size=32, fc_hidden_size=64, num_layers=3, dropout_rate=0.5\n"
     ]
    },
    {
     "name": "stdout",
     "output_type": "stream",
     "text": [
      "{'lr': 0.001, 'embed_dim': 64, 'rnn_hidden_size': 32, 'fc_hidden_size': 64, 'num_layers': 3, 'dropout_rate': 0.5, 'val_accuracy': 0.874142702442546}\n",
      "Testing with lr=0.001, embed_dim=64, rnn_hidden_size=32, fc_hidden_size=128, num_layers=1, dropout_rate=0\n"
     ]
    },
    {
     "name": "stdout",
     "output_type": "stream",
     "text": [
      "{'lr': 0.001, 'embed_dim': 64, 'rnn_hidden_size': 32, 'fc_hidden_size': 128, 'num_layers': 1, 'dropout_rate': 0, 'val_accuracy': 0.877632053904464}\n",
      "Testing with lr=0.001, embed_dim=64, rnn_hidden_size=32, fc_hidden_size=128, num_layers=1, dropout_rate=0.3\n"
     ]
    },
    {
     "name": "stdout",
     "output_type": "stream",
     "text": [
      "{'lr': 0.001, 'embed_dim': 64, 'rnn_hidden_size': 32, 'fc_hidden_size': 128, 'num_layers': 1, 'dropout_rate': 0.3, 'val_accuracy': 0.8820839850800144}\n",
      "Testing with lr=0.001, embed_dim=64, rnn_hidden_size=32, fc_hidden_size=128, num_layers=1, dropout_rate=0.5\n"
     ]
    },
    {
     "name": "stdout",
     "output_type": "stream",
     "text": [
      "{'lr': 0.001, 'embed_dim': 64, 'rnn_hidden_size': 32, 'fc_hidden_size': 128, 'num_layers': 1, 'dropout_rate': 0.5, 'val_accuracy': 0.877752376368668}\n",
      "Testing with lr=0.001, embed_dim=64, rnn_hidden_size=32, fc_hidden_size=128, num_layers=2, dropout_rate=0\n"
     ]
    },
    {
     "name": "stdout",
     "output_type": "stream",
     "text": [
      "{'lr': 0.001, 'embed_dim': 64, 'rnn_hidden_size': 32, 'fc_hidden_size': 128, 'num_layers': 2, 'dropout_rate': 0, 'val_accuracy': 0.8818433401516063}\n",
      "Testing with lr=0.001, embed_dim=64, rnn_hidden_size=32, fc_hidden_size=128, num_layers=2, dropout_rate=0.3\n"
     ]
    },
    {
     "name": "stdout",
     "output_type": "stream",
     "text": [
      "{'lr': 0.001, 'embed_dim': 64, 'rnn_hidden_size': 32, 'fc_hidden_size': 128, 'num_layers': 2, 'dropout_rate': 0.3, 'val_accuracy': 0.8731801227289135}\n",
      "Testing with lr=0.001, embed_dim=64, rnn_hidden_size=32, fc_hidden_size=128, num_layers=2, dropout_rate=0.5\n"
     ]
    },
    {
     "name": "stdout",
     "output_type": "stream",
     "text": [
      "{'lr': 0.001, 'embed_dim': 64, 'rnn_hidden_size': 32, 'fc_hidden_size': 128, 'num_layers': 2, 'dropout_rate': 0.5, 'val_accuracy': 0.8747443147635664}\n",
      "Testing with lr=0.001, embed_dim=64, rnn_hidden_size=32, fc_hidden_size=128, num_layers=3, dropout_rate=0\n"
     ]
    },
    {
     "name": "stdout",
     "output_type": "stream",
     "text": [
      "{'lr': 0.001, 'embed_dim': 64, 'rnn_hidden_size': 32, 'fc_hidden_size': 128, 'num_layers': 3, 'dropout_rate': 0, 'val_accuracy': 0.8807604379737697}\n",
      "Testing with lr=0.001, embed_dim=64, rnn_hidden_size=32, fc_hidden_size=128, num_layers=3, dropout_rate=0.3\n"
     ]
    },
    {
     "name": "stdout",
     "output_type": "stream",
     "text": [
      "{'lr': 0.001, 'embed_dim': 64, 'rnn_hidden_size': 32, 'fc_hidden_size': 128, 'num_layers': 3, 'dropout_rate': 0.3, 'val_accuracy': 0.8728191553363013}\n",
      "Testing with lr=0.001, embed_dim=64, rnn_hidden_size=32, fc_hidden_size=128, num_layers=3, dropout_rate=0.5\n"
     ]
    },
    {
     "name": "stdout",
     "output_type": "stream",
     "text": [
      "{'lr': 0.001, 'embed_dim': 64, 'rnn_hidden_size': 32, 'fc_hidden_size': 128, 'num_layers': 3, 'dropout_rate': 0.5, 'val_accuracy': 0.8841294669714835}\n",
      "Testing with lr=0.001, embed_dim=64, rnn_hidden_size=64, fc_hidden_size=32, num_layers=1, dropout_rate=0\n"
     ]
    },
    {
     "name": "stdout",
     "output_type": "stream",
     "text": [
      "{'lr': 0.001, 'embed_dim': 64, 'rnn_hidden_size': 64, 'fc_hidden_size': 32, 'num_layers': 1, 'dropout_rate': 0, 'val_accuracy': 0.8807604379737697}\n",
      "Testing with lr=0.001, embed_dim=64, rnn_hidden_size=64, fc_hidden_size=32, num_layers=1, dropout_rate=0.3\n"
     ]
    },
    {
     "name": "stdout",
     "output_type": "stream",
     "text": [
      "{'lr': 0.001, 'embed_dim': 64, 'rnn_hidden_size': 64, 'fc_hidden_size': 32, 'num_layers': 1, 'dropout_rate': 0.3, 'val_accuracy': 0.8834075321862592}\n",
      "Testing with lr=0.001, embed_dim=64, rnn_hidden_size=64, fc_hidden_size=32, num_layers=1, dropout_rate=0.5\n"
     ]
    },
    {
     "name": "stdout",
     "output_type": "stream",
     "text": [
      "{'lr': 0.001, 'embed_dim': 64, 'rnn_hidden_size': 64, 'fc_hidden_size': 32, 'num_layers': 1, 'dropout_rate': 0.5, 'val_accuracy': 0.856094332811936}\n",
      "Testing with lr=0.001, embed_dim=64, rnn_hidden_size=64, fc_hidden_size=32, num_layers=2, dropout_rate=0\n"
     ]
    },
    {
     "name": "stdout",
     "output_type": "stream",
     "text": [
      "{'lr': 0.001, 'embed_dim': 64, 'rnn_hidden_size': 64, 'fc_hidden_size': 32, 'num_layers': 2, 'dropout_rate': 0, 'val_accuracy': 0.8803994705811575}\n",
      "Testing with lr=0.001, embed_dim=64, rnn_hidden_size=64, fc_hidden_size=32, num_layers=2, dropout_rate=0.3\n"
     ]
    },
    {
     "name": "stdout",
     "output_type": "stream",
     "text": [
      "{'lr': 0.001, 'embed_dim': 64, 'rnn_hidden_size': 64, 'fc_hidden_size': 32, 'num_layers': 2, 'dropout_rate': 0.3, 'val_accuracy': 0.8799181807243412}\n",
      "Testing with lr=0.001, embed_dim=64, rnn_hidden_size=64, fc_hidden_size=32, num_layers=2, dropout_rate=0.5\n"
     ]
    },
    {
     "name": "stdout",
     "output_type": "stream",
     "text": [
      "{'lr': 0.001, 'embed_dim': 64, 'rnn_hidden_size': 64, 'fc_hidden_size': 32, 'num_layers': 2, 'dropout_rate': 0.5, 'val_accuracy': 0.8828059198652388}\n",
      "Testing with lr=0.001, embed_dim=64, rnn_hidden_size=64, fc_hidden_size=32, num_layers=3, dropout_rate=0\n"
     ]
    },
    {
     "name": "stdout",
     "output_type": "stream",
     "text": [
      "{'lr': 0.001, 'embed_dim': 64, 'rnn_hidden_size': 64, 'fc_hidden_size': 32, 'num_layers': 3, 'dropout_rate': 0, 'val_accuracy': 0.8865359162555649}\n",
      "Testing with lr=0.001, embed_dim=64, rnn_hidden_size=64, fc_hidden_size=32, num_layers=3, dropout_rate=0.3\n"
     ]
    },
    {
     "name": "stdout",
     "output_type": "stream",
     "text": [
      "{'lr': 0.001, 'embed_dim': 64, 'rnn_hidden_size': 64, 'fc_hidden_size': 32, 'num_layers': 3, 'dropout_rate': 0.3, 'val_accuracy': 0.8868968836481771}\n",
      "Testing with lr=0.001, embed_dim=64, rnn_hidden_size=64, fc_hidden_size=32, num_layers=3, dropout_rate=0.5\n"
     ]
    },
    {
     "name": "stdout",
     "output_type": "stream",
     "text": [
      "{'lr': 0.001, 'embed_dim': 64, 'rnn_hidden_size': 64, 'fc_hidden_size': 32, 'num_layers': 3, 'dropout_rate': 0.5, 'val_accuracy': 0.882926242329443}\n",
      "Testing with lr=0.001, embed_dim=64, rnn_hidden_size=64, fc_hidden_size=64, num_layers=1, dropout_rate=0\n"
     ]
    },
    {
     "name": "stdout",
     "output_type": "stream",
     "text": [
      "{'lr': 0.001, 'embed_dim': 64, 'rnn_hidden_size': 64, 'fc_hidden_size': 64, 'num_layers': 1, 'dropout_rate': 0, 'val_accuracy': 0.881241727830586}\n",
      "Testing with lr=0.001, embed_dim=64, rnn_hidden_size=64, fc_hidden_size=64, num_layers=1, dropout_rate=0.3\n"
     ]
    },
    {
     "name": "stdout",
     "output_type": "stream",
     "text": [
      "{'lr': 0.001, 'embed_dim': 64, 'rnn_hidden_size': 64, 'fc_hidden_size': 64, 'num_layers': 1, 'dropout_rate': 0.3, 'val_accuracy': 0.8814823727589941}\n",
      "Testing with lr=0.001, embed_dim=64, rnn_hidden_size=64, fc_hidden_size=64, num_layers=1, dropout_rate=0.5\n"
     ]
    },
    {
     "name": "stdout",
     "output_type": "stream",
     "text": [
      "{'lr': 0.001, 'embed_dim': 64, 'rnn_hidden_size': 64, 'fc_hidden_size': 64, 'num_layers': 1, 'dropout_rate': 0.5, 'val_accuracy': 0.8844904343640958}\n",
      "Testing with lr=0.001, embed_dim=64, rnn_hidden_size=64, fc_hidden_size=64, num_layers=2, dropout_rate=0\n"
     ]
    },
    {
     "name": "stdout",
     "output_type": "stream",
     "text": [
      "{'lr': 0.001, 'embed_dim': 64, 'rnn_hidden_size': 64, 'fc_hidden_size': 64, 'num_layers': 2, 'dropout_rate': 0, 'val_accuracy': 0.8871375285765852}\n",
      "Testing with lr=0.001, embed_dim=64, rnn_hidden_size=64, fc_hidden_size=64, num_layers=2, dropout_rate=0.3\n"
     ]
    },
    {
     "name": "stdout",
     "output_type": "stream",
     "text": [
      "{'lr': 0.001, 'embed_dim': 64, 'rnn_hidden_size': 64, 'fc_hidden_size': 64, 'num_layers': 2, 'dropout_rate': 0.3, 'val_accuracy': 0.8755865720129948}\n",
      "Testing with lr=0.001, embed_dim=64, rnn_hidden_size=64, fc_hidden_size=64, num_layers=2, dropout_rate=0.5\n"
     ]
    },
    {
     "name": "stdout",
     "output_type": "stream",
     "text": [
      "{'lr': 0.001, 'embed_dim': 64, 'rnn_hidden_size': 64, 'fc_hidden_size': 64, 'num_layers': 2, 'dropout_rate': 0.5, 'val_accuracy': 0.8802791481169534}\n",
      "Testing with lr=0.001, embed_dim=64, rnn_hidden_size=64, fc_hidden_size=64, num_layers=3, dropout_rate=0\n"
     ]
    },
    {
     "name": "stdout",
     "output_type": "stream",
     "text": [
      "{'lr': 0.001, 'embed_dim': 64, 'rnn_hidden_size': 64, 'fc_hidden_size': 64, 'num_layers': 3, 'dropout_rate': 0, 'val_accuracy': 0.861629166165323}\n",
      "Testing with lr=0.001, embed_dim=64, rnn_hidden_size=64, fc_hidden_size=64, num_layers=3, dropout_rate=0.3\n"
     ]
    },
    {
     "name": "stdout",
     "output_type": "stream",
     "text": [
      "{'lr': 0.001, 'embed_dim': 64, 'rnn_hidden_size': 64, 'fc_hidden_size': 64, 'num_layers': 3, 'dropout_rate': 0.3, 'val_accuracy': 0.884851401756708}\n",
      "Testing with lr=0.001, embed_dim=64, rnn_hidden_size=64, fc_hidden_size=64, num_layers=3, dropout_rate=0.5\n"
     ]
    },
    {
     "name": "stdout",
     "output_type": "stream",
     "text": [
      "{'lr': 0.001, 'embed_dim': 64, 'rnn_hidden_size': 64, 'fc_hidden_size': 64, 'num_layers': 3, 'dropout_rate': 0.5, 'val_accuracy': 0.8840091445072795}\n",
      "Testing with lr=0.001, embed_dim=64, rnn_hidden_size=64, fc_hidden_size=128, num_layers=1, dropout_rate=0\n"
     ]
    },
    {
     "name": "stdout",
     "output_type": "stream",
     "text": [
      "{'lr': 0.001, 'embed_dim': 64, 'rnn_hidden_size': 64, 'fc_hidden_size': 128, 'num_layers': 1, 'dropout_rate': 0, 'val_accuracy': 0.8837684995788714}\n",
      "Testing with lr=0.001, embed_dim=64, rnn_hidden_size=64, fc_hidden_size=128, num_layers=1, dropout_rate=0.3\n"
     ]
    },
    {
     "name": "stdout",
     "output_type": "stream",
     "text": [
      "{'lr': 0.001, 'embed_dim': 64, 'rnn_hidden_size': 64, 'fc_hidden_size': 128, 'num_layers': 1, 'dropout_rate': 0.3, 'val_accuracy': 0.8752256046203827}\n",
      "Testing with lr=0.001, embed_dim=64, rnn_hidden_size=64, fc_hidden_size=128, num_layers=1, dropout_rate=0.5\n"
     ]
    },
    {
     "name": "stdout",
     "output_type": "stream",
     "text": [
      "{'lr': 0.001, 'embed_dim': 64, 'rnn_hidden_size': 64, 'fc_hidden_size': 128, 'num_layers': 1, 'dropout_rate': 0.5, 'val_accuracy': 0.8808807604379738}\n",
      "Testing with lr=0.001, embed_dim=64, rnn_hidden_size=64, fc_hidden_size=128, num_layers=2, dropout_rate=0\n"
     ]
    },
    {
     "name": "stdout",
     "output_type": "stream",
     "text": [
      "{'lr': 0.001, 'embed_dim': 64, 'rnn_hidden_size': 64, 'fc_hidden_size': 128, 'num_layers': 2, 'dropout_rate': 0, 'val_accuracy': 0.8841294669714835}\n",
      "Testing with lr=0.001, embed_dim=64, rnn_hidden_size=64, fc_hidden_size=128, num_layers=2, dropout_rate=0.3\n"
     ]
    },
    {
     "name": "stdout",
     "output_type": "stream",
     "text": [
      "{'lr': 0.001, 'embed_dim': 64, 'rnn_hidden_size': 64, 'fc_hidden_size': 128, 'num_layers': 2, 'dropout_rate': 0.3, 'val_accuracy': 0.8864155937913608}\n",
      "Testing with lr=0.001, embed_dim=64, rnn_hidden_size=64, fc_hidden_size=128, num_layers=2, dropout_rate=0.5\n"
     ]
    },
    {
     "name": "stdout",
     "output_type": "stream",
     "text": [
      "{'lr': 0.001, 'embed_dim': 64, 'rnn_hidden_size': 64, 'fc_hidden_size': 128, 'num_layers': 2, 'dropout_rate': 0.5, 'val_accuracy': 0.881241727830586}\n",
      "Testing with lr=0.001, embed_dim=64, rnn_hidden_size=64, fc_hidden_size=128, num_layers=3, dropout_rate=0\n"
     ]
    },
    {
     "name": "stdout",
     "output_type": "stream",
     "text": [
      "{'lr': 0.001, 'embed_dim': 64, 'rnn_hidden_size': 64, 'fc_hidden_size': 128, 'num_layers': 3, 'dropout_rate': 0, 'val_accuracy': 0.8800385031885453}\n",
      "Testing with lr=0.001, embed_dim=64, rnn_hidden_size=64, fc_hidden_size=128, num_layers=3, dropout_rate=0.3\n"
     ]
    },
    {
     "name": "stdout",
     "output_type": "stream",
     "text": [
      "{'lr': 0.001, 'embed_dim': 64, 'rnn_hidden_size': 64, 'fc_hidden_size': 128, 'num_layers': 3, 'dropout_rate': 0.3, 'val_accuracy': 0.8694501263385874}\n",
      "Testing with lr=0.001, embed_dim=64, rnn_hidden_size=64, fc_hidden_size=128, num_layers=3, dropout_rate=0.5\n"
     ]
    },
    {
     "name": "stdout",
     "output_type": "stream",
     "text": [
      "{'lr': 0.001, 'embed_dim': 64, 'rnn_hidden_size': 64, 'fc_hidden_size': 128, 'num_layers': 3, 'dropout_rate': 0.5, 'val_accuracy': 0.881241727830586}\n",
      "Testing with lr=0.001, embed_dim=64, rnn_hidden_size=128, fc_hidden_size=32, num_layers=1, dropout_rate=0\n"
     ]
    },
    {
     "name": "stdout",
     "output_type": "stream",
     "text": [
      "{'lr': 0.001, 'embed_dim': 64, 'rnn_hidden_size': 128, 'fc_hidden_size': 32, 'num_layers': 1, 'dropout_rate': 0, 'val_accuracy': 0.8885813981470341}\n",
      "Testing with lr=0.001, embed_dim=64, rnn_hidden_size=128, fc_hidden_size=32, num_layers=1, dropout_rate=0.3\n"
     ]
    },
    {
     "name": "stdout",
     "output_type": "stream",
     "text": [
      "{'lr': 0.001, 'embed_dim': 64, 'rnn_hidden_size': 128, 'fc_hidden_size': 32, 'num_layers': 1, 'dropout_rate': 0.3, 'val_accuracy': 0.8844904343640958}\n",
      "Testing with lr=0.001, embed_dim=64, rnn_hidden_size=128, fc_hidden_size=32, num_layers=1, dropout_rate=0.5\n"
     ]
    },
    {
     "name": "stdout",
     "output_type": "stream",
     "text": [
      "{'lr': 0.001, 'embed_dim': 64, 'rnn_hidden_size': 128, 'fc_hidden_size': 32, 'num_layers': 1, 'dropout_rate': 0.5, 'val_accuracy': 0.8865359162555649}\n",
      "Testing with lr=0.001, embed_dim=64, rnn_hidden_size=128, fc_hidden_size=32, num_layers=2, dropout_rate=0\n"
     ]
    },
    {
     "name": "stdout",
     "output_type": "stream",
     "text": [
      "{'lr': 0.001, 'embed_dim': 64, 'rnn_hidden_size': 128, 'fc_hidden_size': 32, 'num_layers': 2, 'dropout_rate': 0, 'val_accuracy': 0.8790759234749128}\n",
      "Testing with lr=0.001, embed_dim=64, rnn_hidden_size=128, fc_hidden_size=32, num_layers=2, dropout_rate=0.3\n"
     ]
    },
    {
     "name": "stdout",
     "output_type": "stream",
     "text": [
      "{'lr': 0.001, 'embed_dim': 64, 'rnn_hidden_size': 128, 'fc_hidden_size': 32, 'num_layers': 2, 'dropout_rate': 0.3, 'val_accuracy': 0.8712549633016484}\n",
      "Testing with lr=0.001, embed_dim=64, rnn_hidden_size=128, fc_hidden_size=32, num_layers=2, dropout_rate=0.5\n"
     ]
    },
    {
     "name": "stdout",
     "output_type": "stream",
     "text": [
      "{'lr': 0.001, 'embed_dim': 64, 'rnn_hidden_size': 128, 'fc_hidden_size': 32, 'num_layers': 2, 'dropout_rate': 0.5, 'val_accuracy': 0.882926242329443}\n",
      "Testing with lr=0.001, embed_dim=64, rnn_hidden_size=128, fc_hidden_size=32, num_layers=3, dropout_rate=0\n"
     ]
    },
    {
     "name": "stdout",
     "output_type": "stream",
     "text": [
      "{'lr': 0.001, 'embed_dim': 64, 'rnn_hidden_size': 128, 'fc_hidden_size': 32, 'num_layers': 3, 'dropout_rate': 0, 'val_accuracy': 0.8838888220430754}\n",
      "Testing with lr=0.001, embed_dim=64, rnn_hidden_size=128, fc_hidden_size=32, num_layers=3, dropout_rate=0.3\n"
     ]
    },
    {
     "name": "stdout",
     "output_type": "stream",
     "text": [
      "{'lr': 0.001, 'embed_dim': 64, 'rnn_hidden_size': 128, 'fc_hidden_size': 32, 'num_layers': 3, 'dropout_rate': 0.3, 'val_accuracy': 0.8773914089760558}\n",
      "Testing with lr=0.001, embed_dim=64, rnn_hidden_size=128, fc_hidden_size=32, num_layers=3, dropout_rate=0.5\n"
     ]
    },
    {
     "name": "stdout",
     "output_type": "stream",
     "text": [
      "{'lr': 0.001, 'embed_dim': 64, 'rnn_hidden_size': 128, 'fc_hidden_size': 32, 'num_layers': 3, 'dropout_rate': 0.5, 'val_accuracy': 0.8838888220430754}\n",
      "Testing with lr=0.001, embed_dim=64, rnn_hidden_size=128, fc_hidden_size=64, num_layers=1, dropout_rate=0\n"
     ]
    },
    {
     "name": "stdout",
     "output_type": "stream",
     "text": [
      "{'lr': 0.001, 'embed_dim': 64, 'rnn_hidden_size': 128, 'fc_hidden_size': 64, 'num_layers': 1, 'dropout_rate': 0, 'val_accuracy': 0.8832872097220551}\n",
      "Testing with lr=0.001, embed_dim=64, rnn_hidden_size=128, fc_hidden_size=64, num_layers=1, dropout_rate=0.3\n"
     ]
    },
    {
     "name": "stdout",
     "output_type": "stream",
     "text": [
      "{'lr': 0.001, 'embed_dim': 64, 'rnn_hidden_size': 128, 'fc_hidden_size': 64, 'num_layers': 1, 'dropout_rate': 0.3, 'val_accuracy': 0.8865359162555649}\n",
      "Testing with lr=0.001, embed_dim=64, rnn_hidden_size=128, fc_hidden_size=64, num_layers=1, dropout_rate=0.5\n"
     ]
    },
    {
     "name": "stdout",
     "output_type": "stream",
     "text": [
      "{'lr': 0.001, 'embed_dim': 64, 'rnn_hidden_size': 128, 'fc_hidden_size': 64, 'num_layers': 1, 'dropout_rate': 0.5, 'val_accuracy': 0.879436890867525}\n",
      "Testing with lr=0.001, embed_dim=64, rnn_hidden_size=128, fc_hidden_size=64, num_layers=2, dropout_rate=0\n"
     ]
    },
    {
     "name": "stdout",
     "output_type": "stream",
     "text": [
      "{'lr': 0.001, 'embed_dim': 64, 'rnn_hidden_size': 128, 'fc_hidden_size': 64, 'num_layers': 2, 'dropout_rate': 0, 'val_accuracy': 0.8843701118998917}\n",
      "Testing with lr=0.001, embed_dim=64, rnn_hidden_size=128, fc_hidden_size=64, num_layers=2, dropout_rate=0.3\n"
     ]
    },
    {
     "name": "stdout",
     "output_type": "stream",
     "text": [
      "{'lr': 0.001, 'embed_dim': 64, 'rnn_hidden_size': 128, 'fc_hidden_size': 64, 'num_layers': 2, 'dropout_rate': 0.3, 'val_accuracy': 0.8725785104078931}\n",
      "Testing with lr=0.001, embed_dim=64, rnn_hidden_size=128, fc_hidden_size=64, num_layers=2, dropout_rate=0.5\n"
     ]
    },
    {
     "name": "stdout",
     "output_type": "stream",
     "text": [
      "{'lr': 0.001, 'embed_dim': 64, 'rnn_hidden_size': 128, 'fc_hidden_size': 64, 'num_layers': 2, 'dropout_rate': 0.5, 'val_accuracy': 0.8801588256527494}\n",
      "Testing with lr=0.001, embed_dim=64, rnn_hidden_size=128, fc_hidden_size=64, num_layers=3, dropout_rate=0\n"
     ]
    },
    {
     "name": "stdout",
     "output_type": "stream",
     "text": [
      "{'lr': 0.001, 'embed_dim': 64, 'rnn_hidden_size': 128, 'fc_hidden_size': 64, 'num_layers': 3, 'dropout_rate': 0, 'val_accuracy': 0.8826855974010348}\n",
      "Testing with lr=0.001, embed_dim=64, rnn_hidden_size=128, fc_hidden_size=64, num_layers=3, dropout_rate=0.3\n"
     ]
    },
    {
     "name": "stdout",
     "output_type": "stream",
     "text": [
      "{'lr': 0.001, 'embed_dim': 64, 'rnn_hidden_size': 128, 'fc_hidden_size': 64, 'num_layers': 3, 'dropout_rate': 0.3, 'val_accuracy': 0.865238840091445}\n",
      "Testing with lr=0.001, embed_dim=64, rnn_hidden_size=128, fc_hidden_size=64, num_layers=3, dropout_rate=0.5\n"
     ]
    },
    {
     "name": "stdout",
     "output_type": "stream",
     "text": [
      "{'lr': 0.001, 'embed_dim': 64, 'rnn_hidden_size': 128, 'fc_hidden_size': 64, 'num_layers': 3, 'dropout_rate': 0.5, 'val_accuracy': 0.8842497894356877}\n",
      "Testing with lr=0.001, embed_dim=64, rnn_hidden_size=128, fc_hidden_size=128, num_layers=1, dropout_rate=0\n"
     ]
    },
    {
     "name": "stdout",
     "output_type": "stream",
     "text": [
      "{'lr': 0.001, 'embed_dim': 64, 'rnn_hidden_size': 128, 'fc_hidden_size': 128, 'num_layers': 1, 'dropout_rate': 0, 'val_accuracy': 0.8856936590061364}\n",
      "Testing with lr=0.001, embed_dim=64, rnn_hidden_size=128, fc_hidden_size=128, num_layers=1, dropout_rate=0.3\n"
     ]
    },
    {
     "name": "stdout",
     "output_type": "stream",
     "text": [
      "{'lr': 0.001, 'embed_dim': 64, 'rnn_hidden_size': 128, 'fc_hidden_size': 128, 'num_layers': 1, 'dropout_rate': 0.3, 'val_accuracy': 0.8846107568282998}\n",
      "Testing with lr=0.001, embed_dim=64, rnn_hidden_size=128, fc_hidden_size=128, num_layers=1, dropout_rate=0.5\n"
     ]
    },
    {
     "name": "stdout",
     "output_type": "stream",
     "text": [
      "{'lr': 0.001, 'embed_dim': 64, 'rnn_hidden_size': 128, 'fc_hidden_size': 128, 'num_layers': 1, 'dropout_rate': 0.5, 'val_accuracy': 0.8840091445072795}\n",
      "Testing with lr=0.001, embed_dim=64, rnn_hidden_size=128, fc_hidden_size=128, num_layers=2, dropout_rate=0\n"
     ]
    },
    {
     "name": "stdout",
     "output_type": "stream",
     "text": [
      "{'lr': 0.001, 'embed_dim': 64, 'rnn_hidden_size': 128, 'fc_hidden_size': 128, 'num_layers': 2, 'dropout_rate': 0, 'val_accuracy': 0.8819636626158104}\n",
      "Testing with lr=0.001, embed_dim=64, rnn_hidden_size=128, fc_hidden_size=128, num_layers=2, dropout_rate=0.3\n"
     ]
    },
    {
     "name": "stdout",
     "output_type": "stream",
     "text": [
      "{'lr': 0.001, 'embed_dim': 64, 'rnn_hidden_size': 128, 'fc_hidden_size': 128, 'num_layers': 2, 'dropout_rate': 0.3, 'val_accuracy': 0.8860546263987487}\n",
      "Testing with lr=0.001, embed_dim=64, rnn_hidden_size=128, fc_hidden_size=128, num_layers=2, dropout_rate=0.5\n"
     ]
    },
    {
     "name": "stdout",
     "output_type": "stream",
     "text": [
      "{'lr': 0.001, 'embed_dim': 64, 'rnn_hidden_size': 128, 'fc_hidden_size': 128, 'num_layers': 2, 'dropout_rate': 0.5, 'val_accuracy': 0.8828059198652388}\n",
      "Testing with lr=0.001, embed_dim=64, rnn_hidden_size=128, fc_hidden_size=128, num_layers=3, dropout_rate=0\n"
     ]
    },
    {
     "name": "stdout",
     "output_type": "stream",
     "text": [
      "{'lr': 0.001, 'embed_dim': 64, 'rnn_hidden_size': 128, 'fc_hidden_size': 128, 'num_layers': 3, 'dropout_rate': 0, 'val_accuracy': 0.8849717242209121}\n",
      "Testing with lr=0.001, embed_dim=64, rnn_hidden_size=128, fc_hidden_size=128, num_layers=3, dropout_rate=0.3\n"
     ]
    },
    {
     "name": "stdout",
     "output_type": "stream",
     "text": [
      "{'lr': 0.001, 'embed_dim': 64, 'rnn_hidden_size': 128, 'fc_hidden_size': 128, 'num_layers': 3, 'dropout_rate': 0.3, 'val_accuracy': 0.8820839850800144}\n",
      "Testing with lr=0.001, embed_dim=64, rnn_hidden_size=128, fc_hidden_size=128, num_layers=3, dropout_rate=0.5\n"
     ]
    },
    {
     "name": "stdout",
     "output_type": "stream",
     "text": [
      "{'lr': 0.001, 'embed_dim': 64, 'rnn_hidden_size': 128, 'fc_hidden_size': 128, 'num_layers': 3, 'dropout_rate': 0.5, 'val_accuracy': 0.879316568403321}\n",
      "Testing with lr=0.0001, embed_dim=16, rnn_hidden_size=32, fc_hidden_size=32, num_layers=1, dropout_rate=0\n"
     ]
    },
    {
     "name": "stdout",
     "output_type": "stream",
     "text": [
      "{'lr': 0.0001, 'embed_dim': 16, 'rnn_hidden_size': 32, 'fc_hidden_size': 32, 'num_layers': 1, 'dropout_rate': 0, 'val_accuracy': 0.8051979304536157}\n",
      "Testing with lr=0.0001, embed_dim=16, rnn_hidden_size=32, fc_hidden_size=32, num_layers=1, dropout_rate=0.3\n"
     ]
    },
    {
     "name": "stdout",
     "output_type": "stream",
     "text": [
      "{'lr': 0.0001, 'embed_dim': 16, 'rnn_hidden_size': 32, 'fc_hidden_size': 32, 'num_layers': 1, 'dropout_rate': 0.3, 'val_accuracy': 0.7950908434604741}\n",
      "Testing with lr=0.0001, embed_dim=16, rnn_hidden_size=32, fc_hidden_size=32, num_layers=1, dropout_rate=0.5\n"
     ]
    },
    {
     "name": "stdout",
     "output_type": "stream",
     "text": [
      "{'lr': 0.0001, 'embed_dim': 16, 'rnn_hidden_size': 32, 'fc_hidden_size': 32, 'num_layers': 1, 'dropout_rate': 0.5, 'val_accuracy': 0.7847431115389243}\n",
      "Testing with lr=0.0001, embed_dim=16, rnn_hidden_size=32, fc_hidden_size=32, num_layers=2, dropout_rate=0\n"
     ]
    },
    {
     "name": "stdout",
     "output_type": "stream",
     "text": [
      "{'lr': 0.0001, 'embed_dim': 16, 'rnn_hidden_size': 32, 'fc_hidden_size': 32, 'num_layers': 2, 'dropout_rate': 0, 'val_accuracy': 0.83816628564553}\n",
      "Testing with lr=0.0001, embed_dim=16, rnn_hidden_size=32, fc_hidden_size=32, num_layers=2, dropout_rate=0.3\n"
     ]
    },
    {
     "name": "stdout",
     "output_type": "stream",
     "text": [
      "{'lr': 0.0001, 'embed_dim': 16, 'rnn_hidden_size': 32, 'fc_hidden_size': 32, 'num_layers': 2, 'dropout_rate': 0.3, 'val_accuracy': 0.8485140175670798}\n",
      "Testing with lr=0.0001, embed_dim=16, rnn_hidden_size=32, fc_hidden_size=32, num_layers=2, dropout_rate=0.5\n"
     ]
    },
    {
     "name": "stdout",
     "output_type": "stream",
     "text": [
      "{'lr': 0.0001, 'embed_dim': 16, 'rnn_hidden_size': 32, 'fc_hidden_size': 32, 'num_layers': 2, 'dropout_rate': 0.5, 'val_accuracy': 0.8096498616291662}\n",
      "Testing with lr=0.0001, embed_dim=16, rnn_hidden_size=32, fc_hidden_size=32, num_layers=3, dropout_rate=0\n"
     ]
    },
    {
     "name": "stdout",
     "output_type": "stream",
     "text": [
      "{'lr': 0.0001, 'embed_dim': 16, 'rnn_hidden_size': 32, 'fc_hidden_size': 32, 'num_layers': 3, 'dropout_rate': 0, 'val_accuracy': 0.8349175791120202}\n",
      "Testing with lr=0.0001, embed_dim=16, rnn_hidden_size=32, fc_hidden_size=32, num_layers=3, dropout_rate=0.3\n"
     ]
    },
    {
     "name": "stdout",
     "output_type": "stream",
     "text": [
      "{'lr': 0.0001, 'embed_dim': 16, 'rnn_hidden_size': 32, 'fc_hidden_size': 32, 'num_layers': 3, 'dropout_rate': 0.3, 'val_accuracy': 0.8172301768740223}\n",
      "Testing with lr=0.0001, embed_dim=16, rnn_hidden_size=32, fc_hidden_size=32, num_layers=3, dropout_rate=0.5\n"
     ]
    },
    {
     "name": "stdout",
     "output_type": "stream",
     "text": [
      "{'lr': 0.0001, 'embed_dim': 16, 'rnn_hidden_size': 32, 'fc_hidden_size': 32, 'num_layers': 3, 'dropout_rate': 0.5, 'val_accuracy': 0.8139814703405126}\n",
      "Testing with lr=0.0001, embed_dim=16, rnn_hidden_size=32, fc_hidden_size=64, num_layers=1, dropout_rate=0\n"
     ]
    },
    {
     "name": "stdout",
     "output_type": "stream",
     "text": [
      "{'lr': 0.0001, 'embed_dim': 16, 'rnn_hidden_size': 32, 'fc_hidden_size': 64, 'num_layers': 1, 'dropout_rate': 0, 'val_accuracy': 0.7965347130309228}\n",
      "Testing with lr=0.0001, embed_dim=16, rnn_hidden_size=32, fc_hidden_size=64, num_layers=1, dropout_rate=0.3\n"
     ]
    },
    {
     "name": "stdout",
     "output_type": "stream",
     "text": [
      "{'lr': 0.0001, 'embed_dim': 16, 'rnn_hidden_size': 32, 'fc_hidden_size': 64, 'num_layers': 1, 'dropout_rate': 0.3, 'val_accuracy': 0.8118156659848393}\n",
      "Testing with lr=0.0001, embed_dim=16, rnn_hidden_size=32, fc_hidden_size=64, num_layers=1, dropout_rate=0.5\n"
     ]
    },
    {
     "name": "stdout",
     "output_type": "stream",
     "text": [
      "{'lr': 0.0001, 'embed_dim': 16, 'rnn_hidden_size': 32, 'fc_hidden_size': 64, 'num_layers': 1, 'dropout_rate': 0.5, 'val_accuracy': 0.8214414631211647}\n",
      "Testing with lr=0.0001, embed_dim=16, rnn_hidden_size=32, fc_hidden_size=64, num_layers=2, dropout_rate=0\n"
     ]
    },
    {
     "name": "stdout",
     "output_type": "stream",
     "text": [
      "{'lr': 0.0001, 'embed_dim': 16, 'rnn_hidden_size': 32, 'fc_hidden_size': 64, 'num_layers': 2, 'dropout_rate': 0, 'val_accuracy': 0.8320298399711226}\n",
      "Testing with lr=0.0001, embed_dim=16, rnn_hidden_size=32, fc_hidden_size=64, num_layers=2, dropout_rate=0.3\n"
     ]
    },
    {
     "name": "stdout",
     "output_type": "stream",
     "text": [
      "{'lr': 0.0001, 'embed_dim': 16, 'rnn_hidden_size': 32, 'fc_hidden_size': 64, 'num_layers': 2, 'dropout_rate': 0.3, 'val_accuracy': 0.8497172422091205}\n",
      "Testing with lr=0.0001, embed_dim=16, rnn_hidden_size=32, fc_hidden_size=64, num_layers=2, dropout_rate=0.5\n"
     ]
    },
    {
     "name": "stdout",
     "output_type": "stream",
     "text": [
      "{'lr': 0.0001, 'embed_dim': 16, 'rnn_hidden_size': 32, 'fc_hidden_size': 64, 'num_layers': 2, 'dropout_rate': 0.5, 'val_accuracy': 0.8427385392852845}\n",
      "Testing with lr=0.0001, embed_dim=16, rnn_hidden_size=32, fc_hidden_size=64, num_layers=3, dropout_rate=0\n"
     ]
    },
    {
     "name": "stdout",
     "output_type": "stream",
     "text": [
      "{'lr': 0.0001, 'embed_dim': 16, 'rnn_hidden_size': 32, 'fc_hidden_size': 64, 'num_layers': 3, 'dropout_rate': 0, 'val_accuracy': 0.8192756587654915}\n",
      "Testing with lr=0.0001, embed_dim=16, rnn_hidden_size=32, fc_hidden_size=64, num_layers=3, dropout_rate=0.3\n"
     ]
    },
    {
     "name": "stdout",
     "output_type": "stream",
     "text": [
      "{'lr': 0.0001, 'embed_dim': 16, 'rnn_hidden_size': 32, 'fc_hidden_size': 64, 'num_layers': 3, 'dropout_rate': 0.3, 'val_accuracy': 0.8173504993382265}\n",
      "Testing with lr=0.0001, embed_dim=16, rnn_hidden_size=32, fc_hidden_size=64, num_layers=3, dropout_rate=0.5\n"
     ]
    },
    {
     "name": "stdout",
     "output_type": "stream",
     "text": [
      "{'lr': 0.0001, 'embed_dim': 16, 'rnn_hidden_size': 32, 'fc_hidden_size': 64, 'num_layers': 3, 'dropout_rate': 0.5, 'val_accuracy': 0.8352785465046324}\n",
      "Testing with lr=0.0001, embed_dim=16, rnn_hidden_size=32, fc_hidden_size=128, num_layers=1, dropout_rate=0\n"
     ]
    },
    {
     "name": "stdout",
     "output_type": "stream",
     "text": [
      "{'lr': 0.0001, 'embed_dim': 16, 'rnn_hidden_size': 32, 'fc_hidden_size': 128, 'num_layers': 1, 'dropout_rate': 0, 'val_accuracy': 0.8299843580796534}\n",
      "Testing with lr=0.0001, embed_dim=16, rnn_hidden_size=32, fc_hidden_size=128, num_layers=1, dropout_rate=0.3\n"
     ]
    },
    {
     "name": "stdout",
     "output_type": "stream",
     "text": [
      "{'lr': 0.0001, 'embed_dim': 16, 'rnn_hidden_size': 32, 'fc_hidden_size': 128, 'num_layers': 1, 'dropout_rate': 0.3, 'val_accuracy': 0.8393695102875707}\n",
      "Testing with lr=0.0001, embed_dim=16, rnn_hidden_size=32, fc_hidden_size=128, num_layers=1, dropout_rate=0.5\n"
     ]
    },
    {
     "name": "stdout",
     "output_type": "stream",
     "text": [
      "{'lr': 0.0001, 'embed_dim': 16, 'rnn_hidden_size': 32, 'fc_hidden_size': 128, 'num_layers': 1, 'dropout_rate': 0.5, 'val_accuracy': 0.7964143905667188}\n",
      "Testing with lr=0.0001, embed_dim=16, rnn_hidden_size=32, fc_hidden_size=128, num_layers=2, dropout_rate=0\n"
     ]
    },
    {
     "name": "stdout",
     "output_type": "stream",
     "text": [
      "{'lr': 0.0001, 'embed_dim': 16, 'rnn_hidden_size': 32, 'fc_hidden_size': 128, 'num_layers': 2, 'dropout_rate': 0, 'val_accuracy': 0.8090482493081458}\n",
      "Testing with lr=0.0001, embed_dim=16, rnn_hidden_size=32, fc_hidden_size=128, num_layers=2, dropout_rate=0.3\n"
     ]
    },
    {
     "name": "stdout",
     "output_type": "stream",
     "text": [
      "{'lr': 0.0001, 'embed_dim': 16, 'rnn_hidden_size': 32, 'fc_hidden_size': 128, 'num_layers': 2, 'dropout_rate': 0.3, 'val_accuracy': 0.7899169774996992}\n",
      "Testing with lr=0.0001, embed_dim=16, rnn_hidden_size=32, fc_hidden_size=128, num_layers=2, dropout_rate=0.5\n"
     ]
    },
    {
     "name": "stdout",
     "output_type": "stream",
     "text": [
      "{'lr': 0.0001, 'embed_dim': 16, 'rnn_hidden_size': 32, 'fc_hidden_size': 128, 'num_layers': 2, 'dropout_rate': 0.5, 'val_accuracy': 0.8050776079894116}\n",
      "Testing with lr=0.0001, embed_dim=16, rnn_hidden_size=32, fc_hidden_size=128, num_layers=3, dropout_rate=0\n"
     ]
    },
    {
     "name": "stdout",
     "output_type": "stream",
     "text": [
      "{'lr': 0.0001, 'embed_dim': 16, 'rnn_hidden_size': 32, 'fc_hidden_size': 128, 'num_layers': 3, 'dropout_rate': 0, 'val_accuracy': 0.807604379737697}\n",
      "Testing with lr=0.0001, embed_dim=16, rnn_hidden_size=32, fc_hidden_size=128, num_layers=3, dropout_rate=0.3\n"
     ]
    },
    {
     "name": "stdout",
     "output_type": "stream",
     "text": [
      "{'lr': 0.0001, 'embed_dim': 16, 'rnn_hidden_size': 32, 'fc_hidden_size': 128, 'num_layers': 3, 'dropout_rate': 0.3, 'val_accuracy': 0.8068824449524726}\n",
      "Testing with lr=0.0001, embed_dim=16, rnn_hidden_size=32, fc_hidden_size=128, num_layers=3, dropout_rate=0.5\n"
     ]
    },
    {
     "name": "stdout",
     "output_type": "stream",
     "text": [
      "{'lr': 0.0001, 'embed_dim': 16, 'rnn_hidden_size': 32, 'fc_hidden_size': 128, 'num_layers': 3, 'dropout_rate': 0.5, 'val_accuracy': 0.8062808326314523}\n",
      "Testing with lr=0.0001, embed_dim=16, rnn_hidden_size=64, fc_hidden_size=32, num_layers=1, dropout_rate=0\n"
     ]
    },
    {
     "name": "stdout",
     "output_type": "stream",
     "text": [
      "{'lr': 0.0001, 'embed_dim': 16, 'rnn_hidden_size': 64, 'fc_hidden_size': 32, 'num_layers': 1, 'dropout_rate': 0, 'val_accuracy': 0.7709060281554566}\n",
      "Testing with lr=0.0001, embed_dim=16, rnn_hidden_size=64, fc_hidden_size=32, num_layers=1, dropout_rate=0.3\n"
     ]
    },
    {
     "name": "stdout",
     "output_type": "stream",
     "text": [
      "{'lr': 0.0001, 'embed_dim': 16, 'rnn_hidden_size': 64, 'fc_hidden_size': 32, 'num_layers': 1, 'dropout_rate': 0.3, 'val_accuracy': 0.7896763325712911}\n",
      "Testing with lr=0.0001, embed_dim=16, rnn_hidden_size=64, fc_hidden_size=32, num_layers=1, dropout_rate=0.5\n"
     ]
    },
    {
     "name": "stdout",
     "output_type": "stream",
     "text": [
      "{'lr': 0.0001, 'embed_dim': 16, 'rnn_hidden_size': 64, 'fc_hidden_size': 32, 'num_layers': 1, 'dropout_rate': 0.5, 'val_accuracy': 0.8284201660450006}\n",
      "Testing with lr=0.0001, embed_dim=16, rnn_hidden_size=64, fc_hidden_size=32, num_layers=2, dropout_rate=0\n"
     ]
    },
    {
     "name": "stdout",
     "output_type": "stream",
     "text": [
      "{'lr': 0.0001, 'embed_dim': 16, 'rnn_hidden_size': 64, 'fc_hidden_size': 32, 'num_layers': 2, 'dropout_rate': 0, 'val_accuracy': 0.8037540608831669}\n",
      "Testing with lr=0.0001, embed_dim=16, rnn_hidden_size=64, fc_hidden_size=32, num_layers=2, dropout_rate=0.3\n"
     ]
    },
    {
     "name": "stdout",
     "output_type": "stream",
     "text": [
      "{'lr': 0.0001, 'embed_dim': 16, 'rnn_hidden_size': 64, 'fc_hidden_size': 32, 'num_layers': 2, 'dropout_rate': 0.3, 'val_accuracy': 0.8021898688485141}\n",
      "Testing with lr=0.0001, embed_dim=16, rnn_hidden_size=64, fc_hidden_size=32, num_layers=2, dropout_rate=0.5\n"
     ]
    },
    {
     "name": "stdout",
     "output_type": "stream",
     "text": [
      "{'lr': 0.0001, 'embed_dim': 16, 'rnn_hidden_size': 64, 'fc_hidden_size': 32, 'num_layers': 2, 'dropout_rate': 0.5, 'val_accuracy': 0.7825773071832511}\n",
      "Testing with lr=0.0001, embed_dim=16, rnn_hidden_size=64, fc_hidden_size=32, num_layers=3, dropout_rate=0\n"
     ]
    },
    {
     "name": "stdout",
     "output_type": "stream",
     "text": [
      "{'lr': 0.0001, 'embed_dim': 16, 'rnn_hidden_size': 64, 'fc_hidden_size': 32, 'num_layers': 3, 'dropout_rate': 0, 'val_accuracy': 0.8169895319456143}\n",
      "Testing with lr=0.0001, embed_dim=16, rnn_hidden_size=64, fc_hidden_size=32, num_layers=3, dropout_rate=0.3\n"
     ]
    },
    {
     "name": "stdout",
     "output_type": "stream",
     "text": [
      "{'lr': 0.0001, 'embed_dim': 16, 'rnn_hidden_size': 64, 'fc_hidden_size': 32, 'num_layers': 3, 'dropout_rate': 0.3, 'val_accuracy': 0.7959331007099025}\n",
      "Testing with lr=0.0001, embed_dim=16, rnn_hidden_size=64, fc_hidden_size=32, num_layers=3, dropout_rate=0.5\n"
     ]
    },
    {
     "name": "stdout",
     "output_type": "stream",
     "text": [
      "{'lr': 0.0001, 'embed_dim': 16, 'rnn_hidden_size': 64, 'fc_hidden_size': 32, 'num_layers': 3, 'dropout_rate': 0.5, 'val_accuracy': 0.8358801588256527}\n",
      "Testing with lr=0.0001, embed_dim=16, rnn_hidden_size=64, fc_hidden_size=64, num_layers=1, dropout_rate=0\n"
     ]
    },
    {
     "name": "stdout",
     "output_type": "stream",
     "text": [
      "{'lr': 0.0001, 'embed_dim': 16, 'rnn_hidden_size': 64, 'fc_hidden_size': 64, 'num_layers': 1, 'dropout_rate': 0, 'val_accuracy': 0.8138611478763085}\n",
      "Testing with lr=0.0001, embed_dim=16, rnn_hidden_size=64, fc_hidden_size=64, num_layers=1, dropout_rate=0.3\n"
     ]
    },
    {
     "name": "stdout",
     "output_type": "stream",
     "text": [
      "{'lr': 0.0001, 'embed_dim': 16, 'rnn_hidden_size': 64, 'fc_hidden_size': 64, 'num_layers': 1, 'dropout_rate': 0.3, 'val_accuracy': 0.8495969197449164}\n",
      "Testing with lr=0.0001, embed_dim=16, rnn_hidden_size=64, fc_hidden_size=64, num_layers=1, dropout_rate=0.5\n"
     ]
    },
    {
     "name": "stdout",
     "output_type": "stream",
     "text": [
      "{'lr': 0.0001, 'embed_dim': 16, 'rnn_hidden_size': 64, 'fc_hidden_size': 64, 'num_layers': 1, 'dropout_rate': 0.5, 'val_accuracy': 0.8409337023222235}\n",
      "Testing with lr=0.0001, embed_dim=16, rnn_hidden_size=64, fc_hidden_size=64, num_layers=2, dropout_rate=0\n"
     ]
    },
    {
     "name": "stdout",
     "output_type": "stream",
     "text": [
      "{'lr': 0.0001, 'embed_dim': 16, 'rnn_hidden_size': 64, 'fc_hidden_size': 64, 'num_layers': 2, 'dropout_rate': 0, 'val_accuracy': 0.8325111298279388}\n",
      "Testing with lr=0.0001, embed_dim=16, rnn_hidden_size=64, fc_hidden_size=64, num_layers=2, dropout_rate=0.3\n"
     ]
    },
    {
     "name": "stdout",
     "output_type": "stream",
     "text": [
      "{'lr': 0.0001, 'embed_dim': 16, 'rnn_hidden_size': 64, 'fc_hidden_size': 64, 'num_layers': 2, 'dropout_rate': 0.3, 'val_accuracy': 0.7633257129106004}\n",
      "Testing with lr=0.0001, embed_dim=16, rnn_hidden_size=64, fc_hidden_size=64, num_layers=2, dropout_rate=0.5\n"
     ]
    },
    {
     "name": "stdout",
     "output_type": "stream",
     "text": [
      "{'lr': 0.0001, 'embed_dim': 16, 'rnn_hidden_size': 64, 'fc_hidden_size': 64, 'num_layers': 2, 'dropout_rate': 0.5, 'val_accuracy': 0.8088076043797376}\n",
      "Testing with lr=0.0001, embed_dim=16, rnn_hidden_size=64, fc_hidden_size=64, num_layers=3, dropout_rate=0\n"
     ]
    },
    {
     "name": "stdout",
     "output_type": "stream",
     "text": [
      "{'lr': 0.0001, 'embed_dim': 16, 'rnn_hidden_size': 64, 'fc_hidden_size': 64, 'num_layers': 3, 'dropout_rate': 0, 'val_accuracy': 0.8098905065575743}\n",
      "Testing with lr=0.0001, embed_dim=16, rnn_hidden_size=64, fc_hidden_size=64, num_layers=3, dropout_rate=0.3\n"
     ]
    },
    {
     "name": "stdout",
     "output_type": "stream",
     "text": [
      "{'lr': 0.0001, 'embed_dim': 16, 'rnn_hidden_size': 64, 'fc_hidden_size': 64, 'num_layers': 3, 'dropout_rate': 0.3, 'val_accuracy': 0.8007459992780652}\n",
      "Testing with lr=0.0001, embed_dim=16, rnn_hidden_size=64, fc_hidden_size=64, num_layers=3, dropout_rate=0.5\n"
     ]
    },
    {
     "name": "stdout",
     "output_type": "stream",
     "text": [
      "{'lr': 0.0001, 'embed_dim': 16, 'rnn_hidden_size': 64, 'fc_hidden_size': 64, 'num_layers': 3, 'dropout_rate': 0.5, 'val_accuracy': 0.8066418000240645}\n",
      "Testing with lr=0.0001, embed_dim=16, rnn_hidden_size=64, fc_hidden_size=128, num_layers=1, dropout_rate=0\n"
     ]
    },
    {
     "name": "stdout",
     "output_type": "stream",
     "text": [
      "{'lr': 0.0001, 'embed_dim': 16, 'rnn_hidden_size': 64, 'fc_hidden_size': 128, 'num_layers': 1, 'dropout_rate': 0, 'val_accuracy': 0.809409216700758}\n",
      "Testing with lr=0.0001, embed_dim=16, rnn_hidden_size=64, fc_hidden_size=128, num_layers=1, dropout_rate=0.3\n"
     ]
    },
    {
     "name": "stdout",
     "output_type": "stream",
     "text": [
      "{'lr': 0.0001, 'embed_dim': 16, 'rnn_hidden_size': 64, 'fc_hidden_size': 128, 'num_layers': 1, 'dropout_rate': 0.3, 'val_accuracy': 0.7938876188184334}\n",
      "Testing with lr=0.0001, embed_dim=16, rnn_hidden_size=64, fc_hidden_size=128, num_layers=1, dropout_rate=0.5\n"
     ]
    },
    {
     "name": "stdout",
     "output_type": "stream",
     "text": [
      "{'lr': 0.0001, 'embed_dim': 16, 'rnn_hidden_size': 64, 'fc_hidden_size': 128, 'num_layers': 1, 'dropout_rate': 0.5, 'val_accuracy': 0.8546504632414872}\n",
      "Testing with lr=0.0001, embed_dim=16, rnn_hidden_size=64, fc_hidden_size=128, num_layers=2, dropout_rate=0\n"
     ]
    },
    {
     "name": "stdout",
     "output_type": "stream",
     "text": [
      "{'lr': 0.0001, 'embed_dim': 16, 'rnn_hidden_size': 64, 'fc_hidden_size': 128, 'num_layers': 2, 'dropout_rate': 0, 'val_accuracy': 0.7873902057514138}\n",
      "Testing with lr=0.0001, embed_dim=16, rnn_hidden_size=64, fc_hidden_size=128, num_layers=2, dropout_rate=0.3\n"
     ]
    },
    {
     "name": "stdout",
     "output_type": "stream",
     "text": [
      "{'lr': 0.0001, 'embed_dim': 16, 'rnn_hidden_size': 64, 'fc_hidden_size': 128, 'num_layers': 2, 'dropout_rate': 0.3, 'val_accuracy': 0.8218024305137769}\n",
      "Testing with lr=0.0001, embed_dim=16, rnn_hidden_size=64, fc_hidden_size=128, num_layers=2, dropout_rate=0.5\n"
     ]
    },
    {
     "name": "stdout",
     "output_type": "stream",
     "text": [
      "{'lr': 0.0001, 'embed_dim': 16, 'rnn_hidden_size': 64, 'fc_hidden_size': 128, 'num_layers': 2, 'dropout_rate': 0.5, 'val_accuracy': 0.7816147274696186}\n",
      "Testing with lr=0.0001, embed_dim=16, rnn_hidden_size=64, fc_hidden_size=128, num_layers=3, dropout_rate=0\n"
     ]
    },
    {
     "name": "stdout",
     "output_type": "stream",
     "text": [
      "{'lr': 0.0001, 'embed_dim': 16, 'rnn_hidden_size': 64, 'fc_hidden_size': 128, 'num_layers': 3, 'dropout_rate': 0, 'val_accuracy': 0.7257851040789315}\n",
      "Testing with lr=0.0001, embed_dim=16, rnn_hidden_size=64, fc_hidden_size=128, num_layers=3, dropout_rate=0.3\n"
     ]
    },
    {
     "name": "stdout",
     "output_type": "stream",
     "text": [
      "{'lr': 0.0001, 'embed_dim': 16, 'rnn_hidden_size': 64, 'fc_hidden_size': 128, 'num_layers': 3, 'dropout_rate': 0.3, 'val_accuracy': 0.7982192275297798}\n",
      "Testing with lr=0.0001, embed_dim=16, rnn_hidden_size=64, fc_hidden_size=128, num_layers=3, dropout_rate=0.5\n"
     ]
    },
    {
     "name": "stdout",
     "output_type": "stream",
     "text": [
      "{'lr': 0.0001, 'embed_dim': 16, 'rnn_hidden_size': 64, 'fc_hidden_size': 128, 'num_layers': 3, 'dropout_rate': 0.5, 'val_accuracy': 0.829021778366021}\n",
      "Testing with lr=0.0001, embed_dim=16, rnn_hidden_size=128, fc_hidden_size=32, num_layers=1, dropout_rate=0\n"
     ]
    },
    {
     "name": "stdout",
     "output_type": "stream",
     "text": [
      "{'lr': 0.0001, 'embed_dim': 16, 'rnn_hidden_size': 128, 'fc_hidden_size': 32, 'num_layers': 1, 'dropout_rate': 0, 'val_accuracy': 0.7598363614486825}\n",
      "Testing with lr=0.0001, embed_dim=16, rnn_hidden_size=128, fc_hidden_size=32, num_layers=1, dropout_rate=0.3\n"
     ]
    },
    {
     "name": "stdout",
     "output_type": "stream",
     "text": [
      "{'lr': 0.0001, 'embed_dim': 16, 'rnn_hidden_size': 128, 'fc_hidden_size': 32, 'num_layers': 1, 'dropout_rate': 0.3, 'val_accuracy': 0.8109734087354109}\n",
      "Testing with lr=0.0001, embed_dim=16, rnn_hidden_size=128, fc_hidden_size=32, num_layers=1, dropout_rate=0.5\n"
     ]
    },
    {
     "name": "stdout",
     "output_type": "stream",
     "text": [
      "{'lr': 0.0001, 'embed_dim': 16, 'rnn_hidden_size': 128, 'fc_hidden_size': 32, 'num_layers': 1, 'dropout_rate': 0.5, 'val_accuracy': 0.7674166766935386}\n",
      "Testing with lr=0.0001, embed_dim=16, rnn_hidden_size=128, fc_hidden_size=32, num_layers=2, dropout_rate=0\n"
     ]
    },
    {
     "name": "stdout",
     "output_type": "stream",
     "text": [
      "{'lr': 0.0001, 'embed_dim': 16, 'rnn_hidden_size': 128, 'fc_hidden_size': 32, 'num_layers': 2, 'dropout_rate': 0, 'val_accuracy': 0.8296233906870413}\n",
      "Testing with lr=0.0001, embed_dim=16, rnn_hidden_size=128, fc_hidden_size=32, num_layers=2, dropout_rate=0.3\n"
     ]
    },
    {
     "name": "stdout",
     "output_type": "stream",
     "text": [
      "{'lr': 0.0001, 'embed_dim': 16, 'rnn_hidden_size': 128, 'fc_hidden_size': 32, 'num_layers': 2, 'dropout_rate': 0.3, 'val_accuracy': 0.7978582601371677}\n",
      "Testing with lr=0.0001, embed_dim=16, rnn_hidden_size=128, fc_hidden_size=32, num_layers=2, dropout_rate=0.5\n"
     ]
    },
    {
     "name": "stdout",
     "output_type": "stream",
     "text": [
      "{'lr': 0.0001, 'embed_dim': 16, 'rnn_hidden_size': 128, 'fc_hidden_size': 32, 'num_layers': 2, 'dropout_rate': 0.5, 'val_accuracy': 0.8038743833473709}\n",
      "Testing with lr=0.0001, embed_dim=16, rnn_hidden_size=128, fc_hidden_size=32, num_layers=3, dropout_rate=0\n"
     ]
    },
    {
     "name": "stdout",
     "output_type": "stream",
     "text": [
      "{'lr': 0.0001, 'embed_dim': 16, 'rnn_hidden_size': 128, 'fc_hidden_size': 32, 'num_layers': 3, 'dropout_rate': 0, 'val_accuracy': 0.7247022019010949}\n",
      "Testing with lr=0.0001, embed_dim=16, rnn_hidden_size=128, fc_hidden_size=32, num_layers=3, dropout_rate=0.3\n"
     ]
    },
    {
     "name": "stdout",
     "output_type": "stream",
     "text": [
      "{'lr': 0.0001, 'embed_dim': 16, 'rnn_hidden_size': 128, 'fc_hidden_size': 32, 'num_layers': 3, 'dropout_rate': 0.3, 'val_accuracy': 0.8100108290217783}\n",
      "Testing with lr=0.0001, embed_dim=16, rnn_hidden_size=128, fc_hidden_size=32, num_layers=3, dropout_rate=0.5\n"
     ]
    },
    {
     "name": "stdout",
     "output_type": "stream",
     "text": [
      "{'lr': 0.0001, 'embed_dim': 16, 'rnn_hidden_size': 128, 'fc_hidden_size': 32, 'num_layers': 3, 'dropout_rate': 0.5, 'val_accuracy': 0.809409216700758}\n",
      "Testing with lr=0.0001, embed_dim=16, rnn_hidden_size=128, fc_hidden_size=64, num_layers=1, dropout_rate=0\n"
     ]
    },
    {
     "name": "stdout",
     "output_type": "stream",
     "text": [
      "{'lr': 0.0001, 'embed_dim': 16, 'rnn_hidden_size': 128, 'fc_hidden_size': 64, 'num_layers': 1, 'dropout_rate': 0, 'val_accuracy': 0.7569486223077848}\n",
      "Testing with lr=0.0001, embed_dim=16, rnn_hidden_size=128, fc_hidden_size=64, num_layers=1, dropout_rate=0.3\n"
     ]
    },
    {
     "name": "stdout",
     "output_type": "stream",
     "text": [
      "{'lr': 0.0001, 'embed_dim': 16, 'rnn_hidden_size': 128, 'fc_hidden_size': 64, 'num_layers': 1, 'dropout_rate': 0.3, 'val_accuracy': 0.7672963542293346}\n",
      "Testing with lr=0.0001, embed_dim=16, rnn_hidden_size=128, fc_hidden_size=64, num_layers=1, dropout_rate=0.5\n"
     ]
    },
    {
     "name": "stdout",
     "output_type": "stream",
     "text": [
      "{'lr': 0.0001, 'embed_dim': 16, 'rnn_hidden_size': 128, 'fc_hidden_size': 64, 'num_layers': 1, 'dropout_rate': 0.5, 'val_accuracy': 0.8014679340632896}\n",
      "Testing with lr=0.0001, embed_dim=16, rnn_hidden_size=128, fc_hidden_size=64, num_layers=2, dropout_rate=0\n"
     ]
    },
    {
     "name": "stdout",
     "output_type": "stream",
     "text": [
      "{'lr': 0.0001, 'embed_dim': 16, 'rnn_hidden_size': 128, 'fc_hidden_size': 64, 'num_layers': 2, 'dropout_rate': 0, 'val_accuracy': 0.8410540247864277}\n",
      "Testing with lr=0.0001, embed_dim=16, rnn_hidden_size=128, fc_hidden_size=64, num_layers=2, dropout_rate=0.3\n"
     ]
    },
    {
     "name": "stdout",
     "output_type": "stream",
     "text": [
      "{'lr': 0.0001, 'embed_dim': 16, 'rnn_hidden_size': 128, 'fc_hidden_size': 64, 'num_layers': 2, 'dropout_rate': 0.3, 'val_accuracy': 0.8163879196245939}\n",
      "Testing with lr=0.0001, embed_dim=16, rnn_hidden_size=128, fc_hidden_size=64, num_layers=2, dropout_rate=0.5\n"
     ]
    },
    {
     "name": "stdout",
     "output_type": "stream",
     "text": [
      "{'lr': 0.0001, 'embed_dim': 16, 'rnn_hidden_size': 128, 'fc_hidden_size': 64, 'num_layers': 2, 'dropout_rate': 0.5, 'val_accuracy': 0.8315485501143064}\n",
      "Testing with lr=0.0001, embed_dim=16, rnn_hidden_size=128, fc_hidden_size=64, num_layers=3, dropout_rate=0\n"
     ]
    },
    {
     "name": "stdout",
     "output_type": "stream",
     "text": [
      "{'lr': 0.0001, 'embed_dim': 16, 'rnn_hidden_size': 128, 'fc_hidden_size': 64, 'num_layers': 3, 'dropout_rate': 0, 'val_accuracy': 0.8136205029479003}\n",
      "Testing with lr=0.0001, embed_dim=16, rnn_hidden_size=128, fc_hidden_size=64, num_layers=3, dropout_rate=0.3\n"
     ]
    },
    {
     "name": "stdout",
     "output_type": "stream",
     "text": [
      "{'lr': 0.0001, 'embed_dim': 16, 'rnn_hidden_size': 128, 'fc_hidden_size': 64, 'num_layers': 3, 'dropout_rate': 0.3, 'val_accuracy': 0.8254121044398989}\n",
      "Testing with lr=0.0001, embed_dim=16, rnn_hidden_size=128, fc_hidden_size=64, num_layers=3, dropout_rate=0.5\n"
     ]
    },
    {
     "name": "stdout",
     "output_type": "stream",
     "text": [
      "{'lr': 0.0001, 'embed_dim': 16, 'rnn_hidden_size': 128, 'fc_hidden_size': 64, 'num_layers': 3, 'dropout_rate': 0.5, 'val_accuracy': 0.8373240283961015}\n",
      "Testing with lr=0.0001, embed_dim=16, rnn_hidden_size=128, fc_hidden_size=128, num_layers=1, dropout_rate=0\n"
     ]
    },
    {
     "name": "stdout",
     "output_type": "stream",
     "text": [
      "{'lr': 0.0001, 'embed_dim': 16, 'rnn_hidden_size': 128, 'fc_hidden_size': 128, 'num_layers': 1, 'dropout_rate': 0, 'val_accuracy': 0.7883527854650463}\n",
      "Testing with lr=0.0001, embed_dim=16, rnn_hidden_size=128, fc_hidden_size=128, num_layers=1, dropout_rate=0.3\n"
     ]
    },
    {
     "name": "stdout",
     "output_type": "stream",
     "text": [
      "{'lr': 0.0001, 'embed_dim': 16, 'rnn_hidden_size': 128, 'fc_hidden_size': 128, 'num_layers': 1, 'dropout_rate': 0.3, 'val_accuracy': 0.8039947058115751}\n",
      "Testing with lr=0.0001, embed_dim=16, rnn_hidden_size=128, fc_hidden_size=128, num_layers=1, dropout_rate=0.5\n"
     ]
    },
    {
     "name": "stdout",
     "output_type": "stream",
     "text": [
      "{'lr': 0.0001, 'embed_dim': 16, 'rnn_hidden_size': 128, 'fc_hidden_size': 128, 'num_layers': 1, 'dropout_rate': 0.5, 'val_accuracy': 0.7929250391048008}\n",
      "Testing with lr=0.0001, embed_dim=16, rnn_hidden_size=128, fc_hidden_size=128, num_layers=2, dropout_rate=0\n"
     ]
    },
    {
     "name": "stdout",
     "output_type": "stream",
     "text": [
      "{'lr': 0.0001, 'embed_dim': 16, 'rnn_hidden_size': 128, 'fc_hidden_size': 128, 'num_layers': 2, 'dropout_rate': 0, 'val_accuracy': 0.7639273252316208}\n",
      "Testing with lr=0.0001, embed_dim=16, rnn_hidden_size=128, fc_hidden_size=128, num_layers=2, dropout_rate=0.3\n"
     ]
    },
    {
     "name": "stdout",
     "output_type": "stream",
     "text": [
      "{'lr': 0.0001, 'embed_dim': 16, 'rnn_hidden_size': 128, 'fc_hidden_size': 128, 'num_layers': 2, 'dropout_rate': 0.3, 'val_accuracy': 0.8109734087354109}\n",
      "Testing with lr=0.0001, embed_dim=16, rnn_hidden_size=128, fc_hidden_size=128, num_layers=2, dropout_rate=0.5\n"
     ]
    },
    {
     "name": "stdout",
     "output_type": "stream",
     "text": [
      "{'lr': 0.0001, 'embed_dim': 16, 'rnn_hidden_size': 128, 'fc_hidden_size': 128, 'num_layers': 2, 'dropout_rate': 0.5, 'val_accuracy': 0.7484057273492961}\n",
      "Testing with lr=0.0001, embed_dim=16, rnn_hidden_size=128, fc_hidden_size=128, num_layers=3, dropout_rate=0\n"
     ]
    },
    {
     "name": "stdout",
     "output_type": "stream",
     "text": [
      "{'lr': 0.0001, 'embed_dim': 16, 'rnn_hidden_size': 128, 'fc_hidden_size': 128, 'num_layers': 3, 'dropout_rate': 0, 'val_accuracy': 0.8102514739501865}\n",
      "Testing with lr=0.0001, embed_dim=16, rnn_hidden_size=128, fc_hidden_size=128, num_layers=3, dropout_rate=0.3\n"
     ]
    },
    {
     "name": "stdout",
     "output_type": "stream",
     "text": [
      "{'lr': 0.0001, 'embed_dim': 16, 'rnn_hidden_size': 128, 'fc_hidden_size': 128, 'num_layers': 3, 'dropout_rate': 0.3, 'val_accuracy': 0.8370833834676934}\n",
      "Testing with lr=0.0001, embed_dim=16, rnn_hidden_size=128, fc_hidden_size=128, num_layers=3, dropout_rate=0.5\n"
     ]
    },
    {
     "name": "stdout",
     "output_type": "stream",
     "text": [
      "{'lr': 0.0001, 'embed_dim': 16, 'rnn_hidden_size': 128, 'fc_hidden_size': 128, 'num_layers': 3, 'dropout_rate': 0.5, 'val_accuracy': 0.8061605101672482}\n",
      "Testing with lr=0.0001, embed_dim=32, rnn_hidden_size=32, fc_hidden_size=32, num_layers=1, dropout_rate=0\n"
     ]
    },
    {
     "name": "stdout",
     "output_type": "stream",
     "text": [
      "{'lr': 0.0001, 'embed_dim': 32, 'rnn_hidden_size': 32, 'fc_hidden_size': 32, 'num_layers': 1, 'dropout_rate': 0, 'val_accuracy': 0.8647575502346289}\n",
      "Testing with lr=0.0001, embed_dim=32, rnn_hidden_size=32, fc_hidden_size=32, num_layers=1, dropout_rate=0.3\n"
     ]
    },
    {
     "name": "stdout",
     "output_type": "stream",
     "text": [
      "{'lr': 0.0001, 'embed_dim': 32, 'rnn_hidden_size': 32, 'fc_hidden_size': 32, 'num_layers': 1, 'dropout_rate': 0.3, 'val_accuracy': 0.8506798219227529}\n",
      "Testing with lr=0.0001, embed_dim=32, rnn_hidden_size=32, fc_hidden_size=32, num_layers=1, dropout_rate=0.5\n"
     ]
    },
    {
     "name": "stdout",
     "output_type": "stream",
     "text": [
      "{'lr': 0.0001, 'embed_dim': 32, 'rnn_hidden_size': 32, 'fc_hidden_size': 32, 'num_layers': 1, 'dropout_rate': 0.5, 'val_accuracy': 0.8186740464444712}\n",
      "Testing with lr=0.0001, embed_dim=32, rnn_hidden_size=32, fc_hidden_size=32, num_layers=2, dropout_rate=0\n"
     ]
    },
    {
     "name": "stdout",
     "output_type": "stream",
     "text": [
      "{'lr': 0.0001, 'embed_dim': 32, 'rnn_hidden_size': 32, 'fc_hidden_size': 32, 'num_layers': 2, 'dropout_rate': 0, 'val_accuracy': 0.8212008181927566}\n",
      "Testing with lr=0.0001, embed_dim=32, rnn_hidden_size=32, fc_hidden_size=32, num_layers=2, dropout_rate=0.3\n"
     ]
    },
    {
     "name": "stdout",
     "output_type": "stream",
     "text": [
      "{'lr': 0.0001, 'embed_dim': 32, 'rnn_hidden_size': 32, 'fc_hidden_size': 32, 'num_layers': 2, 'dropout_rate': 0.3, 'val_accuracy': 0.8385272530381422}\n",
      "Testing with lr=0.0001, embed_dim=32, rnn_hidden_size=32, fc_hidden_size=32, num_layers=2, dropout_rate=0.5\n"
     ]
    },
    {
     "name": "stdout",
     "output_type": "stream",
     "text": [
      "{'lr': 0.0001, 'embed_dim': 32, 'rnn_hidden_size': 32, 'fc_hidden_size': 32, 'num_layers': 2, 'dropout_rate': 0.5, 'val_accuracy': 0.8645169053062207}\n",
      "Testing with lr=0.0001, embed_dim=32, rnn_hidden_size=32, fc_hidden_size=32, num_layers=3, dropout_rate=0\n"
     ]
    },
    {
     "name": "stdout",
     "output_type": "stream",
     "text": [
      "{'lr': 0.0001, 'embed_dim': 32, 'rnn_hidden_size': 32, 'fc_hidden_size': 32, 'num_layers': 3, 'dropout_rate': 0, 'val_accuracy': 0.7853447238599447}\n",
      "Testing with lr=0.0001, embed_dim=32, rnn_hidden_size=32, fc_hidden_size=32, num_layers=3, dropout_rate=0.3\n"
     ]
    },
    {
     "name": "stdout",
     "output_type": "stream",
     "text": [
      "{'lr': 0.0001, 'embed_dim': 32, 'rnn_hidden_size': 32, 'fc_hidden_size': 32, 'num_layers': 3, 'dropout_rate': 0.3, 'val_accuracy': 0.8197569486223077}\n",
      "Testing with lr=0.0001, embed_dim=32, rnn_hidden_size=32, fc_hidden_size=32, num_layers=3, dropout_rate=0.5\n"
     ]
    },
    {
     "name": "stdout",
     "output_type": "stream",
     "text": [
      "{'lr': 0.0001, 'embed_dim': 32, 'rnn_hidden_size': 32, 'fc_hidden_size': 32, 'num_layers': 3, 'dropout_rate': 0.5, 'val_accuracy': 0.8162675971603899}\n",
      "Testing with lr=0.0001, embed_dim=32, rnn_hidden_size=32, fc_hidden_size=64, num_layers=1, dropout_rate=0\n"
     ]
    },
    {
     "name": "stdout",
     "output_type": "stream",
     "text": [
      "{'lr': 0.0001, 'embed_dim': 32, 'rnn_hidden_size': 32, 'fc_hidden_size': 64, 'num_layers': 1, 'dropout_rate': 0, 'val_accuracy': 0.809409216700758}\n",
      "Testing with lr=0.0001, embed_dim=32, rnn_hidden_size=32, fc_hidden_size=64, num_layers=1, dropout_rate=0.3\n"
     ]
    },
    {
     "name": "stdout",
     "output_type": "stream",
     "text": [
      "{'lr': 0.0001, 'embed_dim': 32, 'rnn_hidden_size': 32, 'fc_hidden_size': 64, 'num_layers': 1, 'dropout_rate': 0.3, 'val_accuracy': 0.8280591986523884}\n",
      "Testing with lr=0.0001, embed_dim=32, rnn_hidden_size=32, fc_hidden_size=64, num_layers=1, dropout_rate=0.5\n"
     ]
    },
    {
     "name": "stdout",
     "output_type": "stream",
     "text": [
      "{'lr': 0.0001, 'embed_dim': 32, 'rnn_hidden_size': 32, 'fc_hidden_size': 64, 'num_layers': 1, 'dropout_rate': 0.5, 'val_accuracy': 0.8098905065575743}\n",
      "Testing with lr=0.0001, embed_dim=32, rnn_hidden_size=32, fc_hidden_size=64, num_layers=2, dropout_rate=0\n"
     ]
    },
    {
     "name": "stdout",
     "output_type": "stream",
     "text": [
      "{'lr': 0.0001, 'embed_dim': 32, 'rnn_hidden_size': 32, 'fc_hidden_size': 64, 'num_layers': 2, 'dropout_rate': 0, 'val_accuracy': 0.8402117675369991}\n",
      "Testing with lr=0.0001, embed_dim=32, rnn_hidden_size=32, fc_hidden_size=64, num_layers=2, dropout_rate=0.3\n"
     ]
    },
    {
     "name": "stdout",
     "output_type": "stream",
     "text": [
      "{'lr': 0.0001, 'embed_dim': 32, 'rnn_hidden_size': 32, 'fc_hidden_size': 64, 'num_layers': 2, 'dropout_rate': 0.3, 'val_accuracy': 0.8280591986523884}\n",
      "Testing with lr=0.0001, embed_dim=32, rnn_hidden_size=32, fc_hidden_size=64, num_layers=2, dropout_rate=0.5\n"
     ]
    },
    {
     "name": "stdout",
     "output_type": "stream",
     "text": [
      "{'lr': 0.0001, 'embed_dim': 32, 'rnn_hidden_size': 32, 'fc_hidden_size': 64, 'num_layers': 2, 'dropout_rate': 0.5, 'val_accuracy': 0.8471904704608351}\n",
      "Testing with lr=0.0001, embed_dim=32, rnn_hidden_size=32, fc_hidden_size=64, num_layers=3, dropout_rate=0\n"
     ]
    },
    {
     "name": "stdout",
     "output_type": "stream",
     "text": [
      "{'lr': 0.0001, 'embed_dim': 32, 'rnn_hidden_size': 32, 'fc_hidden_size': 64, 'num_layers': 3, 'dropout_rate': 0, 'val_accuracy': 0.8574178799181807}\n",
      "Testing with lr=0.0001, embed_dim=32, rnn_hidden_size=32, fc_hidden_size=64, num_layers=3, dropout_rate=0.3\n"
     ]
    },
    {
     "name": "stdout",
     "output_type": "stream",
     "text": [
      "{'lr': 0.0001, 'embed_dim': 32, 'rnn_hidden_size': 32, 'fc_hidden_size': 64, 'num_layers': 3, 'dropout_rate': 0.3, 'val_accuracy': 0.8563349777403442}\n",
      "Testing with lr=0.0001, embed_dim=32, rnn_hidden_size=32, fc_hidden_size=64, num_layers=3, dropout_rate=0.5\n"
     ]
    },
    {
     "name": "stdout",
     "output_type": "stream",
     "text": [
      "{'lr': 0.0001, 'embed_dim': 32, 'rnn_hidden_size': 32, 'fc_hidden_size': 64, 'num_layers': 3, 'dropout_rate': 0.5, 'val_accuracy': 0.8610275538443027}\n",
      "Testing with lr=0.0001, embed_dim=32, rnn_hidden_size=32, fc_hidden_size=128, num_layers=1, dropout_rate=0\n"
     ]
    },
    {
     "name": "stdout",
     "output_type": "stream",
     "text": [
      "{'lr': 0.0001, 'embed_dim': 32, 'rnn_hidden_size': 32, 'fc_hidden_size': 128, 'num_layers': 1, 'dropout_rate': 0, 'val_accuracy': 0.8518830465647936}\n",
      "Testing with lr=0.0001, embed_dim=32, rnn_hidden_size=32, fc_hidden_size=128, num_layers=1, dropout_rate=0.3\n"
     ]
    },
    {
     "name": "stdout",
     "output_type": "stream",
     "text": [
      "{'lr': 0.0001, 'embed_dim': 32, 'rnn_hidden_size': 32, 'fc_hidden_size': 128, 'num_layers': 1, 'dropout_rate': 0.3, 'val_accuracy': 0.8303453254722657}\n",
      "Testing with lr=0.0001, embed_dim=32, rnn_hidden_size=32, fc_hidden_size=128, num_layers=1, dropout_rate=0.5\n"
     ]
    },
    {
     "name": "stdout",
     "output_type": "stream",
     "text": [
      "{'lr': 0.0001, 'embed_dim': 32, 'rnn_hidden_size': 32, 'fc_hidden_size': 128, 'num_layers': 1, 'dropout_rate': 0.5, 'val_accuracy': 0.8397304776801829}\n",
      "Testing with lr=0.0001, embed_dim=32, rnn_hidden_size=32, fc_hidden_size=128, num_layers=2, dropout_rate=0\n"
     ]
    },
    {
     "name": "stdout",
     "output_type": "stream",
     "text": [
      "{'lr': 0.0001, 'embed_dim': 32, 'rnn_hidden_size': 32, 'fc_hidden_size': 128, 'num_layers': 2, 'dropout_rate': 0, 'val_accuracy': 0.8231259776200217}\n",
      "Testing with lr=0.0001, embed_dim=32, rnn_hidden_size=32, fc_hidden_size=128, num_layers=2, dropout_rate=0.3\n"
     ]
    },
    {
     "name": "stdout",
     "output_type": "stream",
     "text": [
      "{'lr': 0.0001, 'embed_dim': 32, 'rnn_hidden_size': 32, 'fc_hidden_size': 128, 'num_layers': 2, 'dropout_rate': 0.3, 'val_accuracy': 0.8405727349296114}\n",
      "Testing with lr=0.0001, embed_dim=32, rnn_hidden_size=32, fc_hidden_size=128, num_layers=2, dropout_rate=0.5\n"
     ]
    },
    {
     "name": "stdout",
     "output_type": "stream",
     "text": [
      "{'lr': 0.0001, 'embed_dim': 32, 'rnn_hidden_size': 32, 'fc_hidden_size': 128, 'num_layers': 2, 'dropout_rate': 0.5, 'val_accuracy': 0.8023101913127181}\n",
      "Testing with lr=0.0001, embed_dim=32, rnn_hidden_size=32, fc_hidden_size=128, num_layers=3, dropout_rate=0\n"
     ]
    },
    {
     "name": "stdout",
     "output_type": "stream",
     "text": [
      "{'lr': 0.0001, 'embed_dim': 32, 'rnn_hidden_size': 32, 'fc_hidden_size': 128, 'num_layers': 3, 'dropout_rate': 0, 'val_accuracy': 0.8563349777403442}\n",
      "Testing with lr=0.0001, embed_dim=32, rnn_hidden_size=32, fc_hidden_size=128, num_layers=3, dropout_rate=0.3\n"
     ]
    },
    {
     "name": "stdout",
     "output_type": "stream",
     "text": [
      "{'lr': 0.0001, 'embed_dim': 32, 'rnn_hidden_size': 32, 'fc_hidden_size': 128, 'num_layers': 3, 'dropout_rate': 0.3, 'val_accuracy': 0.8719768980868728}\n",
      "Testing with lr=0.0001, embed_dim=32, rnn_hidden_size=32, fc_hidden_size=128, num_layers=3, dropout_rate=0.5\n"
     ]
    },
    {
     "name": "stdout",
     "output_type": "stream",
     "text": [
      "{'lr': 0.0001, 'embed_dim': 32, 'rnn_hidden_size': 32, 'fc_hidden_size': 128, 'num_layers': 3, 'dropout_rate': 0.5, 'val_accuracy': 0.8547707857056912}\n",
      "Testing with lr=0.0001, embed_dim=32, rnn_hidden_size=64, fc_hidden_size=32, num_layers=1, dropout_rate=0\n"
     ]
    },
    {
     "name": "stdout",
     "output_type": "stream",
     "text": [
      "{'lr': 0.0001, 'embed_dim': 32, 'rnn_hidden_size': 64, 'fc_hidden_size': 32, 'num_layers': 1, 'dropout_rate': 0, 'val_accuracy': 0.8239682348694501}\n",
      "Testing with lr=0.0001, embed_dim=32, rnn_hidden_size=64, fc_hidden_size=32, num_layers=1, dropout_rate=0.3\n"
     ]
    },
    {
     "name": "stdout",
     "output_type": "stream",
     "text": [
      "{'lr': 0.0001, 'embed_dim': 32, 'rnn_hidden_size': 64, 'fc_hidden_size': 32, 'num_layers': 1, 'dropout_rate': 0.3, 'val_accuracy': 0.8077247022019011}\n",
      "Testing with lr=0.0001, embed_dim=32, rnn_hidden_size=64, fc_hidden_size=32, num_layers=1, dropout_rate=0.5\n"
     ]
    },
    {
     "name": "stdout",
     "output_type": "stream",
     "text": [
      "{'lr': 0.0001, 'embed_dim': 32, 'rnn_hidden_size': 64, 'fc_hidden_size': 32, 'num_layers': 1, 'dropout_rate': 0.5, 'val_accuracy': 0.8079653471303092}\n",
      "Testing with lr=0.0001, embed_dim=32, rnn_hidden_size=64, fc_hidden_size=32, num_layers=2, dropout_rate=0\n"
     ]
    },
    {
     "name": "stdout",
     "output_type": "stream",
     "text": [
      "{'lr': 0.0001, 'embed_dim': 32, 'rnn_hidden_size': 64, 'fc_hidden_size': 32, 'num_layers': 2, 'dropout_rate': 0, 'val_accuracy': 0.81301889062688}\n",
      "Testing with lr=0.0001, embed_dim=32, rnn_hidden_size=64, fc_hidden_size=32, num_layers=2, dropout_rate=0.3\n"
     ]
    },
    {
     "name": "stdout",
     "output_type": "stream",
     "text": [
      "{'lr': 0.0001, 'embed_dim': 32, 'rnn_hidden_size': 64, 'fc_hidden_size': 32, 'num_layers': 2, 'dropout_rate': 0.3, 'val_accuracy': 0.8143424377331248}\n",
      "Testing with lr=0.0001, embed_dim=32, rnn_hidden_size=64, fc_hidden_size=32, num_layers=2, dropout_rate=0.5\n"
     ]
    },
    {
     "name": "stdout",
     "output_type": "stream",
     "text": [
      "{'lr': 0.0001, 'embed_dim': 32, 'rnn_hidden_size': 64, 'fc_hidden_size': 32, 'num_layers': 2, 'dropout_rate': 0.5, 'val_accuracy': 0.8321501624353267}\n",
      "Testing with lr=0.0001, embed_dim=32, rnn_hidden_size=64, fc_hidden_size=32, num_layers=3, dropout_rate=0\n"
     ]
    },
    {
     "name": "stdout",
     "output_type": "stream",
     "text": [
      "{'lr': 0.0001, 'embed_dim': 32, 'rnn_hidden_size': 64, 'fc_hidden_size': 32, 'num_layers': 3, 'dropout_rate': 0, 'val_accuracy': 0.8103717964143906}\n",
      "Testing with lr=0.0001, embed_dim=32, rnn_hidden_size=64, fc_hidden_size=32, num_layers=3, dropout_rate=0.3\n"
     ]
    },
    {
     "name": "stdout",
     "output_type": "stream",
     "text": [
      "{'lr': 0.0001, 'embed_dim': 32, 'rnn_hidden_size': 64, 'fc_hidden_size': 32, 'num_layers': 3, 'dropout_rate': 0.3, 'val_accuracy': 0.841655637107448}\n",
      "Testing with lr=0.0001, embed_dim=32, rnn_hidden_size=64, fc_hidden_size=32, num_layers=3, dropout_rate=0.5\n"
     ]
    },
    {
     "name": "stdout",
     "output_type": "stream",
     "text": [
      "{'lr': 0.0001, 'embed_dim': 32, 'rnn_hidden_size': 64, 'fc_hidden_size': 32, 'num_layers': 3, 'dropout_rate': 0.5, 'val_accuracy': 0.830826615329082}\n",
      "Testing with lr=0.0001, embed_dim=32, rnn_hidden_size=64, fc_hidden_size=64, num_layers=1, dropout_rate=0\n"
     ]
    },
    {
     "name": "stdout",
     "output_type": "stream",
     "text": [
      "{'lr': 0.0001, 'embed_dim': 32, 'rnn_hidden_size': 64, 'fc_hidden_size': 64, 'num_layers': 1, 'dropout_rate': 0, 'val_accuracy': 0.8051979304536157}\n",
      "Testing with lr=0.0001, embed_dim=32, rnn_hidden_size=64, fc_hidden_size=64, num_layers=1, dropout_rate=0.3\n"
     ]
    },
    {
     "name": "stdout",
     "output_type": "stream",
     "text": [
      "{'lr': 0.0001, 'embed_dim': 32, 'rnn_hidden_size': 64, 'fc_hidden_size': 64, 'num_layers': 1, 'dropout_rate': 0.3, 'val_accuracy': 0.7757189267236193}\n",
      "Testing with lr=0.0001, embed_dim=32, rnn_hidden_size=64, fc_hidden_size=64, num_layers=1, dropout_rate=0.5\n"
     ]
    },
    {
     "name": "stdout",
     "output_type": "stream",
     "text": [
      "{'lr': 0.0001, 'embed_dim': 32, 'rnn_hidden_size': 64, 'fc_hidden_size': 64, 'num_layers': 1, 'dropout_rate': 0.5, 'val_accuracy': 0.8320298399711226}\n",
      "Testing with lr=0.0001, embed_dim=32, rnn_hidden_size=64, fc_hidden_size=64, num_layers=2, dropout_rate=0\n"
     ]
    },
    {
     "name": "stdout",
     "output_type": "stream",
     "text": [
      "{'lr': 0.0001, 'embed_dim': 32, 'rnn_hidden_size': 64, 'fc_hidden_size': 64, 'num_layers': 2, 'dropout_rate': 0, 'val_accuracy': 0.7790879557213332}\n",
      "Testing with lr=0.0001, embed_dim=32, rnn_hidden_size=64, fc_hidden_size=64, num_layers=2, dropout_rate=0.3\n"
     ]
    },
    {
     "name": "stdout",
     "output_type": "stream",
     "text": [
      "{'lr': 0.0001, 'embed_dim': 32, 'rnn_hidden_size': 64, 'fc_hidden_size': 64, 'num_layers': 2, 'dropout_rate': 0.3, 'val_accuracy': 0.829142100830225}\n",
      "Testing with lr=0.0001, embed_dim=32, rnn_hidden_size=64, fc_hidden_size=64, num_layers=2, dropout_rate=0.5\n"
     ]
    },
    {
     "name": "stdout",
     "output_type": "stream",
     "text": [
      "{'lr': 0.0001, 'embed_dim': 32, 'rnn_hidden_size': 64, 'fc_hidden_size': 64, 'num_layers': 2, 'dropout_rate': 0.5, 'val_accuracy': 0.775237636866803}\n",
      "Testing with lr=0.0001, embed_dim=32, rnn_hidden_size=64, fc_hidden_size=64, num_layers=3, dropout_rate=0\n"
     ]
    },
    {
     "name": "stdout",
     "output_type": "stream",
     "text": [
      "{'lr': 0.0001, 'embed_dim': 32, 'rnn_hidden_size': 64, 'fc_hidden_size': 64, 'num_layers': 3, 'dropout_rate': 0, 'val_accuracy': 0.572012994826134}\n",
      "Testing with lr=0.0001, embed_dim=32, rnn_hidden_size=64, fc_hidden_size=64, num_layers=3, dropout_rate=0.3\n"
     ]
    },
    {
     "name": "stdout",
     "output_type": "stream",
     "text": [
      "{'lr': 0.0001, 'embed_dim': 32, 'rnn_hidden_size': 64, 'fc_hidden_size': 64, 'num_layers': 3, 'dropout_rate': 0.3, 'val_accuracy': 0.8351582240404284}\n",
      "Testing with lr=0.0001, embed_dim=32, rnn_hidden_size=64, fc_hidden_size=64, num_layers=3, dropout_rate=0.5\n"
     ]
    },
    {
     "name": "stdout",
     "output_type": "stream",
     "text": [
      "{'lr': 0.0001, 'embed_dim': 32, 'rnn_hidden_size': 64, 'fc_hidden_size': 64, 'num_layers': 3, 'dropout_rate': 0.5, 'val_accuracy': 0.7936469738900253}\n",
      "Testing with lr=0.0001, embed_dim=32, rnn_hidden_size=64, fc_hidden_size=128, num_layers=1, dropout_rate=0\n"
     ]
    },
    {
     "name": "stdout",
     "output_type": "stream",
     "text": [
      "{'lr': 0.0001, 'embed_dim': 32, 'rnn_hidden_size': 64, 'fc_hidden_size': 128, 'num_layers': 1, 'dropout_rate': 0, 'val_accuracy': 0.8681265792323427}\n",
      "Testing with lr=0.0001, embed_dim=32, rnn_hidden_size=64, fc_hidden_size=128, num_layers=1, dropout_rate=0.3\n"
     ]
    },
    {
     "name": "stdout",
     "output_type": "stream",
     "text": [
      "{'lr': 0.0001, 'embed_dim': 32, 'rnn_hidden_size': 64, 'fc_hidden_size': 128, 'num_layers': 1, 'dropout_rate': 0.3, 'val_accuracy': 0.8078450246661052}\n",
      "Testing with lr=0.0001, embed_dim=32, rnn_hidden_size=64, fc_hidden_size=128, num_layers=1, dropout_rate=0.5\n"
     ]
    },
    {
     "name": "stdout",
     "output_type": "stream",
     "text": [
      "{'lr': 0.0001, 'embed_dim': 32, 'rnn_hidden_size': 64, 'fc_hidden_size': 128, 'num_layers': 1, 'dropout_rate': 0.5, 'val_accuracy': 0.8171098544098183}\n",
      "Testing with lr=0.0001, embed_dim=32, rnn_hidden_size=64, fc_hidden_size=128, num_layers=2, dropout_rate=0\n"
     ]
    },
    {
     "name": "stdout",
     "output_type": "stream",
     "text": [
      "{'lr': 0.0001, 'embed_dim': 32, 'rnn_hidden_size': 64, 'fc_hidden_size': 128, 'num_layers': 2, 'dropout_rate': 0, 'val_accuracy': 0.8066418000240645}\n",
      "Testing with lr=0.0001, embed_dim=32, rnn_hidden_size=64, fc_hidden_size=128, num_layers=2, dropout_rate=0.3\n"
     ]
    },
    {
     "name": "stdout",
     "output_type": "stream",
     "text": [
      "{'lr': 0.0001, 'embed_dim': 32, 'rnn_hidden_size': 64, 'fc_hidden_size': 128, 'num_layers': 2, 'dropout_rate': 0.3, 'val_accuracy': 0.8311875827216941}\n",
      "Testing with lr=0.0001, embed_dim=32, rnn_hidden_size=64, fc_hidden_size=128, num_layers=2, dropout_rate=0.5\n"
     ]
    },
    {
     "name": "stdout",
     "output_type": "stream",
     "text": [
      "{'lr': 0.0001, 'embed_dim': 32, 'rnn_hidden_size': 64, 'fc_hidden_size': 128, 'num_layers': 2, 'dropout_rate': 0.5, 'val_accuracy': 0.8357598363614487}\n",
      "Testing with lr=0.0001, embed_dim=32, rnn_hidden_size=64, fc_hidden_size=128, num_layers=3, dropout_rate=0\n"
     ]
    },
    {
     "name": "stdout",
     "output_type": "stream",
     "text": [
      "{'lr': 0.0001, 'embed_dim': 32, 'rnn_hidden_size': 64, 'fc_hidden_size': 128, 'num_layers': 3, 'dropout_rate': 0, 'val_accuracy': 0.8331127421489593}\n",
      "Testing with lr=0.0001, embed_dim=32, rnn_hidden_size=64, fc_hidden_size=128, num_layers=3, dropout_rate=0.3\n"
     ]
    },
    {
     "name": "stdout",
     "output_type": "stream",
     "text": [
      "{'lr': 0.0001, 'embed_dim': 32, 'rnn_hidden_size': 64, 'fc_hidden_size': 128, 'num_layers': 3, 'dropout_rate': 0.3, 'val_accuracy': 0.8432198291421008}\n",
      "Testing with lr=0.0001, embed_dim=32, rnn_hidden_size=64, fc_hidden_size=128, num_layers=3, dropout_rate=0.5\n"
     ]
    },
    {
     "name": "stdout",
     "output_type": "stream",
     "text": [
      "{'lr': 0.0001, 'embed_dim': 32, 'rnn_hidden_size': 64, 'fc_hidden_size': 128, 'num_layers': 3, 'dropout_rate': 0.5, 'val_accuracy': 0.8546504632414872}\n",
      "Testing with lr=0.0001, embed_dim=32, rnn_hidden_size=128, fc_hidden_size=32, num_layers=1, dropout_rate=0\n"
     ]
    },
    {
     "name": "stdout",
     "output_type": "stream",
     "text": [
      "{'lr': 0.0001, 'embed_dim': 32, 'rnn_hidden_size': 128, 'fc_hidden_size': 32, 'num_layers': 1, 'dropout_rate': 0, 'val_accuracy': 0.8173504993382265}\n",
      "Testing with lr=0.0001, embed_dim=32, rnn_hidden_size=128, fc_hidden_size=32, num_layers=1, dropout_rate=0.3\n"
     ]
    },
    {
     "name": "stdout",
     "output_type": "stream",
     "text": [
      "{'lr': 0.0001, 'embed_dim': 32, 'rnn_hidden_size': 128, 'fc_hidden_size': 32, 'num_layers': 1, 'dropout_rate': 0.3, 'val_accuracy': 0.8132595355552882}\n",
      "Testing with lr=0.0001, embed_dim=32, rnn_hidden_size=128, fc_hidden_size=32, num_layers=1, dropout_rate=0.5\n"
     ]
    },
    {
     "name": "stdout",
     "output_type": "stream",
     "text": [
      "{'lr': 0.0001, 'embed_dim': 32, 'rnn_hidden_size': 128, 'fc_hidden_size': 32, 'num_layers': 1, 'dropout_rate': 0.5, 'val_accuracy': 0.8090482493081458}\n",
      "Testing with lr=0.0001, embed_dim=32, rnn_hidden_size=128, fc_hidden_size=32, num_layers=2, dropout_rate=0\n"
     ]
    },
    {
     "name": "stdout",
     "output_type": "stream",
     "text": [
      "{'lr': 0.0001, 'embed_dim': 32, 'rnn_hidden_size': 128, 'fc_hidden_size': 32, 'num_layers': 2, 'dropout_rate': 0, 'val_accuracy': 0.8113343761280231}\n",
      "Testing with lr=0.0001, embed_dim=32, rnn_hidden_size=128, fc_hidden_size=32, num_layers=2, dropout_rate=0.3\n"
     ]
    },
    {
     "name": "stdout",
     "output_type": "stream",
     "text": [
      "{'lr': 0.0001, 'embed_dim': 32, 'rnn_hidden_size': 128, 'fc_hidden_size': 32, 'num_layers': 2, 'dropout_rate': 0.3, 'val_accuracy': 0.786066658645169}\n",
      "Testing with lr=0.0001, embed_dim=32, rnn_hidden_size=128, fc_hidden_size=32, num_layers=2, dropout_rate=0.5\n"
     ]
    },
    {
     "name": "stdout",
     "output_type": "stream",
     "text": [
      "{'lr': 0.0001, 'embed_dim': 32, 'rnn_hidden_size': 128, 'fc_hidden_size': 32, 'num_layers': 2, 'dropout_rate': 0.5, 'val_accuracy': 0.8254121044398989}\n",
      "Testing with lr=0.0001, embed_dim=32, rnn_hidden_size=128, fc_hidden_size=32, num_layers=3, dropout_rate=0\n"
     ]
    },
    {
     "name": "stdout",
     "output_type": "stream",
     "text": [
      "{'lr': 0.0001, 'embed_dim': 32, 'rnn_hidden_size': 128, 'fc_hidden_size': 32, 'num_layers': 3, 'dropout_rate': 0, 'val_accuracy': 0.8266153290819396}\n",
      "Testing with lr=0.0001, embed_dim=32, rnn_hidden_size=128, fc_hidden_size=32, num_layers=3, dropout_rate=0.3\n"
     ]
    },
    {
     "name": "stdout",
     "output_type": "stream",
     "text": [
      "{'lr': 0.0001, 'embed_dim': 32, 'rnn_hidden_size': 128, 'fc_hidden_size': 32, 'num_layers': 3, 'dropout_rate': 0.3, 'val_accuracy': 0.7929250391048008}\n",
      "Testing with lr=0.0001, embed_dim=32, rnn_hidden_size=128, fc_hidden_size=32, num_layers=3, dropout_rate=0.5\n"
     ]
    },
    {
     "name": "stdout",
     "output_type": "stream",
     "text": [
      "{'lr': 0.0001, 'embed_dim': 32, 'rnn_hidden_size': 128, 'fc_hidden_size': 32, 'num_layers': 3, 'dropout_rate': 0.5, 'val_accuracy': 0.8364817711466731}\n",
      "Testing with lr=0.0001, embed_dim=32, rnn_hidden_size=128, fc_hidden_size=64, num_layers=1, dropout_rate=0\n"
     ]
    },
    {
     "name": "stdout",
     "output_type": "stream",
     "text": [
      "{'lr': 0.0001, 'embed_dim': 32, 'rnn_hidden_size': 128, 'fc_hidden_size': 64, 'num_layers': 1, 'dropout_rate': 0, 'val_accuracy': 0.7883527854650463}\n",
      "Testing with lr=0.0001, embed_dim=32, rnn_hidden_size=128, fc_hidden_size=64, num_layers=1, dropout_rate=0.3\n"
     ]
    },
    {
     "name": "stdout",
     "output_type": "stream",
     "text": [
      "{'lr': 0.0001, 'embed_dim': 32, 'rnn_hidden_size': 128, 'fc_hidden_size': 64, 'num_layers': 1, 'dropout_rate': 0.3, 'val_accuracy': 0.8132595355552882}\n",
      "Testing with lr=0.0001, embed_dim=32, rnn_hidden_size=128, fc_hidden_size=64, num_layers=1, dropout_rate=0.5\n"
     ]
    },
    {
     "name": "stdout",
     "output_type": "stream",
     "text": [
      "{'lr': 0.0001, 'embed_dim': 32, 'rnn_hidden_size': 128, 'fc_hidden_size': 64, 'num_layers': 1, 'dropout_rate': 0.5, 'val_accuracy': 0.8368427385392853}\n",
      "Testing with lr=0.0001, embed_dim=32, rnn_hidden_size=128, fc_hidden_size=64, num_layers=2, dropout_rate=0\n"
     ]
    },
    {
     "name": "stdout",
     "output_type": "stream",
     "text": [
      "{'lr': 0.0001, 'embed_dim': 32, 'rnn_hidden_size': 128, 'fc_hidden_size': 64, 'num_layers': 2, 'dropout_rate': 0, 'val_accuracy': 0.8474311153892432}\n",
      "Testing with lr=0.0001, embed_dim=32, rnn_hidden_size=128, fc_hidden_size=64, num_layers=2, dropout_rate=0.3\n"
     ]
    },
    {
     "name": "stdout",
     "output_type": "stream",
     "text": [
      "{'lr': 0.0001, 'embed_dim': 32, 'rnn_hidden_size': 128, 'fc_hidden_size': 64, 'num_layers': 2, 'dropout_rate': 0.3, 'val_accuracy': 0.8230056551558176}\n",
      "Testing with lr=0.0001, embed_dim=32, rnn_hidden_size=128, fc_hidden_size=64, num_layers=2, dropout_rate=0.5\n"
     ]
    },
    {
     "name": "stdout",
     "output_type": "stream",
     "text": [
      "{'lr': 0.0001, 'embed_dim': 32, 'rnn_hidden_size': 128, 'fc_hidden_size': 64, 'num_layers': 2, 'dropout_rate': 0.5, 'val_accuracy': 0.843460474070509}\n",
      "Testing with lr=0.0001, embed_dim=32, rnn_hidden_size=128, fc_hidden_size=64, num_layers=3, dropout_rate=0\n"
     ]
    },
    {
     "name": "stdout",
     "output_type": "stream",
     "text": [
      "{'lr': 0.0001, 'embed_dim': 32, 'rnn_hidden_size': 128, 'fc_hidden_size': 64, 'num_layers': 3, 'dropout_rate': 0, 'val_accuracy': 0.8467091806040188}\n",
      "Testing with lr=0.0001, embed_dim=32, rnn_hidden_size=128, fc_hidden_size=64, num_layers=3, dropout_rate=0.3\n"
     ]
    },
    {
     "name": "stdout",
     "output_type": "stream",
     "text": [
      "{'lr': 0.0001, 'embed_dim': 32, 'rnn_hidden_size': 128, 'fc_hidden_size': 64, 'num_layers': 3, 'dropout_rate': 0.3, 'val_accuracy': 0.8177114667308386}\n",
      "Testing with lr=0.0001, embed_dim=32, rnn_hidden_size=128, fc_hidden_size=64, num_layers=3, dropout_rate=0.5\n"
     ]
    },
    {
     "name": "stdout",
     "output_type": "stream",
     "text": [
      "{'lr': 0.0001, 'embed_dim': 32, 'rnn_hidden_size': 128, 'fc_hidden_size': 64, 'num_layers': 3, 'dropout_rate': 0.5, 'val_accuracy': 0.857899169774997}\n",
      "Testing with lr=0.0001, embed_dim=32, rnn_hidden_size=128, fc_hidden_size=128, num_layers=1, dropout_rate=0\n"
     ]
    },
    {
     "name": "stdout",
     "output_type": "stream",
     "text": [
      "{'lr': 0.0001, 'embed_dim': 32, 'rnn_hidden_size': 128, 'fc_hidden_size': 128, 'num_layers': 1, 'dropout_rate': 0, 'val_accuracy': 0.796775357959331}\n",
      "Testing with lr=0.0001, embed_dim=32, rnn_hidden_size=128, fc_hidden_size=128, num_layers=1, dropout_rate=0.3\n"
     ]
    },
    {
     "name": "stdout",
     "output_type": "stream",
     "text": [
      "{'lr': 0.0001, 'embed_dim': 32, 'rnn_hidden_size': 128, 'fc_hidden_size': 128, 'num_layers': 1, 'dropout_rate': 0.3, 'val_accuracy': 0.8553723980267116}\n",
      "Testing with lr=0.0001, embed_dim=32, rnn_hidden_size=128, fc_hidden_size=128, num_layers=1, dropout_rate=0.5\n"
     ]
    },
    {
     "name": "stdout",
     "output_type": "stream",
     "text": [
      "{'lr': 0.0001, 'embed_dim': 32, 'rnn_hidden_size': 128, 'fc_hidden_size': 128, 'num_layers': 1, 'dropout_rate': 0.5, 'val_accuracy': 0.8388882204307544}\n",
      "Testing with lr=0.0001, embed_dim=32, rnn_hidden_size=128, fc_hidden_size=128, num_layers=2, dropout_rate=0\n"
     ]
    },
    {
     "name": "stdout",
     "output_type": "stream",
     "text": [
      "{'lr': 0.0001, 'embed_dim': 32, 'rnn_hidden_size': 128, 'fc_hidden_size': 128, 'num_layers': 2, 'dropout_rate': 0, 'val_accuracy': 0.8213211406569606}\n",
      "Testing with lr=0.0001, embed_dim=32, rnn_hidden_size=128, fc_hidden_size=128, num_layers=2, dropout_rate=0.3\n"
     ]
    },
    {
     "name": "stdout",
     "output_type": "stream",
     "text": [
      "{'lr': 0.0001, 'embed_dim': 32, 'rnn_hidden_size': 128, 'fc_hidden_size': 128, 'num_layers': 2, 'dropout_rate': 0.3, 'val_accuracy': 0.8310672602574901}\n",
      "Testing with lr=0.0001, embed_dim=32, rnn_hidden_size=128, fc_hidden_size=128, num_layers=2, dropout_rate=0.5\n"
     ]
    },
    {
     "name": "stdout",
     "output_type": "stream",
     "text": [
      "{'lr': 0.0001, 'embed_dim': 32, 'rnn_hidden_size': 128, 'fc_hidden_size': 128, 'num_layers': 2, 'dropout_rate': 0.5, 'val_accuracy': 0.8585007820960173}\n",
      "Testing with lr=0.0001, embed_dim=32, rnn_hidden_size=128, fc_hidden_size=128, num_layers=3, dropout_rate=0\n"
     ]
    },
    {
     "name": "stdout",
     "output_type": "stream",
     "text": [
      "{'lr': 0.0001, 'embed_dim': 32, 'rnn_hidden_size': 128, 'fc_hidden_size': 128, 'num_layers': 3, 'dropout_rate': 0, 'val_accuracy': 0.85621465527614}\n",
      "Testing with lr=0.0001, embed_dim=32, rnn_hidden_size=128, fc_hidden_size=128, num_layers=3, dropout_rate=0.3\n"
     ]
    },
    {
     "name": "stdout",
     "output_type": "stream",
     "text": [
      "{'lr': 0.0001, 'embed_dim': 32, 'rnn_hidden_size': 128, 'fc_hidden_size': 128, 'num_layers': 3, 'dropout_rate': 0.3, 'val_accuracy': 0.8450246661051618}\n",
      "Testing with lr=0.0001, embed_dim=32, rnn_hidden_size=128, fc_hidden_size=128, num_layers=3, dropout_rate=0.5\n"
     ]
    },
    {
     "name": "stdout",
     "output_type": "stream",
     "text": [
      "{'lr': 0.0001, 'embed_dim': 32, 'rnn_hidden_size': 128, 'fc_hidden_size': 128, 'num_layers': 3, 'dropout_rate': 0.5, 'val_accuracy': 0.8216821080495729}\n",
      "Testing with lr=0.0001, embed_dim=64, rnn_hidden_size=32, fc_hidden_size=32, num_layers=1, dropout_rate=0\n"
     ]
    },
    {
     "name": "stdout",
     "output_type": "stream",
     "text": [
      "{'lr': 0.0001, 'embed_dim': 64, 'rnn_hidden_size': 32, 'fc_hidden_size': 32, 'num_layers': 1, 'dropout_rate': 0, 'val_accuracy': 0.8639152929852003}\n",
      "Testing with lr=0.0001, embed_dim=64, rnn_hidden_size=32, fc_hidden_size=32, num_layers=1, dropout_rate=0.3\n"
     ]
    },
    {
     "name": "stdout",
     "output_type": "stream",
     "text": [
      "{'lr': 0.0001, 'embed_dim': 64, 'rnn_hidden_size': 32, 'fc_hidden_size': 32, 'num_layers': 1, 'dropout_rate': 0.3, 'val_accuracy': 0.8379256407171218}\n",
      "Testing with lr=0.0001, embed_dim=64, rnn_hidden_size=32, fc_hidden_size=32, num_layers=1, dropout_rate=0.5\n"
     ]
    },
    {
     "name": "stdout",
     "output_type": "stream",
     "text": [
      "{'lr': 0.0001, 'embed_dim': 64, 'rnn_hidden_size': 32, 'fc_hidden_size': 32, 'num_layers': 1, 'dropout_rate': 0.5, 'val_accuracy': 0.8643965828420166}\n",
      "Testing with lr=0.0001, embed_dim=64, rnn_hidden_size=32, fc_hidden_size=32, num_layers=2, dropout_rate=0\n"
     ]
    },
    {
     "name": "stdout",
     "output_type": "stream",
     "text": [
      "{'lr': 0.0001, 'embed_dim': 64, 'rnn_hidden_size': 32, 'fc_hidden_size': 32, 'num_layers': 2, 'dropout_rate': 0, 'val_accuracy': 0.8103717964143906}\n",
      "Testing with lr=0.0001, embed_dim=64, rnn_hidden_size=32, fc_hidden_size=32, num_layers=2, dropout_rate=0.3\n"
     ]
    },
    {
     "name": "stdout",
     "output_type": "stream",
     "text": [
      "{'lr': 0.0001, 'embed_dim': 64, 'rnn_hidden_size': 32, 'fc_hidden_size': 32, 'num_layers': 2, 'dropout_rate': 0.3, 'val_accuracy': 0.8323908073637348}\n",
      "Testing with lr=0.0001, embed_dim=64, rnn_hidden_size=32, fc_hidden_size=32, num_layers=2, dropout_rate=0.5\n"
     ]
    },
    {
     "name": "stdout",
     "output_type": "stream",
     "text": [
      "{'lr': 0.0001, 'embed_dim': 64, 'rnn_hidden_size': 32, 'fc_hidden_size': 32, 'num_layers': 2, 'dropout_rate': 0.5, 'val_accuracy': 0.8358801588256527}\n",
      "Testing with lr=0.0001, embed_dim=64, rnn_hidden_size=32, fc_hidden_size=32, num_layers=3, dropout_rate=0\n"
     ]
    },
    {
     "name": "stdout",
     "output_type": "stream",
     "text": [
      "{'lr': 0.0001, 'embed_dim': 64, 'rnn_hidden_size': 32, 'fc_hidden_size': 32, 'num_layers': 3, 'dropout_rate': 0, 'val_accuracy': 0.818313079051859}\n",
      "Testing with lr=0.0001, embed_dim=64, rnn_hidden_size=32, fc_hidden_size=32, num_layers=3, dropout_rate=0.3\n"
     ]
    },
    {
     "name": "stdout",
     "output_type": "stream",
     "text": [
      "{'lr': 0.0001, 'embed_dim': 64, 'rnn_hidden_size': 32, 'fc_hidden_size': 32, 'num_layers': 3, 'dropout_rate': 0.3, 'val_accuracy': 0.8203585609433282}\n",
      "Testing with lr=0.0001, embed_dim=64, rnn_hidden_size=32, fc_hidden_size=32, num_layers=3, dropout_rate=0.5\n"
     ]
    },
    {
     "name": "stdout",
     "output_type": "stream",
     "text": [
      "{'lr': 0.0001, 'embed_dim': 64, 'rnn_hidden_size': 32, 'fc_hidden_size': 32, 'num_layers': 3, 'dropout_rate': 0.5, 'val_accuracy': 0.8516424016363855}\n",
      "Testing with lr=0.0001, embed_dim=64, rnn_hidden_size=32, fc_hidden_size=64, num_layers=1, dropout_rate=0\n"
     ]
    },
    {
     "name": "stdout",
     "output_type": "stream",
     "text": [
      "{'lr': 0.0001, 'embed_dim': 64, 'rnn_hidden_size': 32, 'fc_hidden_size': 64, 'num_layers': 1, 'dropout_rate': 0, 'val_accuracy': 0.8690891589459752}\n",
      "Testing with lr=0.0001, embed_dim=64, rnn_hidden_size=32, fc_hidden_size=64, num_layers=1, dropout_rate=0.3\n"
     ]
    },
    {
     "name": "stdout",
     "output_type": "stream",
     "text": [
      "{'lr': 0.0001, 'embed_dim': 64, 'rnn_hidden_size': 32, 'fc_hidden_size': 64, 'num_layers': 1, 'dropout_rate': 0.3, 'val_accuracy': 0.8635543255925882}\n",
      "Testing with lr=0.0001, embed_dim=64, rnn_hidden_size=32, fc_hidden_size=64, num_layers=1, dropout_rate=0.5\n"
     ]
    },
    {
     "name": "stdout",
     "output_type": "stream",
     "text": [
      "{'lr': 0.0001, 'embed_dim': 64, 'rnn_hidden_size': 32, 'fc_hidden_size': 64, 'num_layers': 1, 'dropout_rate': 0.5, 'val_accuracy': 0.8446636987125496}\n",
      "Testing with lr=0.0001, embed_dim=64, rnn_hidden_size=32, fc_hidden_size=64, num_layers=2, dropout_rate=0\n"
     ]
    },
    {
     "name": "stdout",
     "output_type": "stream",
     "text": [
      "{'lr': 0.0001, 'embed_dim': 64, 'rnn_hidden_size': 32, 'fc_hidden_size': 64, 'num_layers': 2, 'dropout_rate': 0, 'val_accuracy': 0.8456262784261822}\n",
      "Testing with lr=0.0001, embed_dim=64, rnn_hidden_size=32, fc_hidden_size=64, num_layers=2, dropout_rate=0.3\n"
     ]
    },
    {
     "name": "stdout",
     "output_type": "stream",
     "text": [
      "{'lr': 0.0001, 'embed_dim': 64, 'rnn_hidden_size': 32, 'fc_hidden_size': 64, 'num_layers': 2, 'dropout_rate': 0.3, 'val_accuracy': 0.8494765972807123}\n",
      "Testing with lr=0.0001, embed_dim=64, rnn_hidden_size=32, fc_hidden_size=64, num_layers=2, dropout_rate=0.5\n"
     ]
    },
    {
     "name": "stdout",
     "output_type": "stream",
     "text": [
      "{'lr': 0.0001, 'embed_dim': 64, 'rnn_hidden_size': 32, 'fc_hidden_size': 64, 'num_layers': 2, 'dropout_rate': 0.5, 'val_accuracy': 0.8683672241607509}\n",
      "Testing with lr=0.0001, embed_dim=64, rnn_hidden_size=32, fc_hidden_size=64, num_layers=3, dropout_rate=0\n"
     ]
    },
    {
     "name": "stdout",
     "output_type": "stream",
     "text": [
      "{'lr': 0.0001, 'embed_dim': 64, 'rnn_hidden_size': 32, 'fc_hidden_size': 64, 'num_layers': 3, 'dropout_rate': 0, 'val_accuracy': 0.8712549633016484}\n",
      "Testing with lr=0.0001, embed_dim=64, rnn_hidden_size=32, fc_hidden_size=64, num_layers=3, dropout_rate=0.3\n"
     ]
    },
    {
     "name": "stdout",
     "output_type": "stream",
     "text": [
      "{'lr': 0.0001, 'embed_dim': 64, 'rnn_hidden_size': 32, 'fc_hidden_size': 64, 'num_layers': 3, 'dropout_rate': 0.3, 'val_accuracy': 0.8700517386596077}\n",
      "Testing with lr=0.0001, embed_dim=64, rnn_hidden_size=32, fc_hidden_size=64, num_layers=3, dropout_rate=0.5\n"
     ]
    },
    {
     "name": "stdout",
     "output_type": "stream",
     "text": [
      "{'lr': 0.0001, 'embed_dim': 64, 'rnn_hidden_size': 32, 'fc_hidden_size': 64, 'num_layers': 3, 'dropout_rate': 0.5, 'val_accuracy': 0.8307062928648778}\n",
      "Testing with lr=0.0001, embed_dim=64, rnn_hidden_size=32, fc_hidden_size=128, num_layers=1, dropout_rate=0\n"
     ]
    },
    {
     "name": "stdout",
     "output_type": "stream",
     "text": [
      "{'lr': 0.0001, 'embed_dim': 64, 'rnn_hidden_size': 32, 'fc_hidden_size': 128, 'num_layers': 1, 'dropout_rate': 0, 'val_accuracy': 0.8627120683431597}\n",
      "Testing with lr=0.0001, embed_dim=64, rnn_hidden_size=32, fc_hidden_size=128, num_layers=1, dropout_rate=0.3\n"
     ]
    },
    {
     "name": "stdout",
     "output_type": "stream",
     "text": [
      "{'lr': 0.0001, 'embed_dim': 64, 'rnn_hidden_size': 32, 'fc_hidden_size': 128, 'num_layers': 1, 'dropout_rate': 0.3, 'val_accuracy': 0.8637949705209963}\n",
      "Testing with lr=0.0001, embed_dim=64, rnn_hidden_size=32, fc_hidden_size=128, num_layers=1, dropout_rate=0.5\n"
     ]
    },
    {
     "name": "stdout",
     "output_type": "stream",
     "text": [
      "{'lr': 0.0001, 'embed_dim': 64, 'rnn_hidden_size': 32, 'fc_hidden_size': 128, 'num_layers': 1, 'dropout_rate': 0.5, 'val_accuracy': 0.811214053663819}\n",
      "Testing with lr=0.0001, embed_dim=64, rnn_hidden_size=32, fc_hidden_size=128, num_layers=2, dropout_rate=0\n"
     ]
    },
    {
     "name": "stdout",
     "output_type": "stream",
     "text": [
      "{'lr': 0.0001, 'embed_dim': 64, 'rnn_hidden_size': 32, 'fc_hidden_size': 128, 'num_layers': 2, 'dropout_rate': 0, 'val_accuracy': 0.8619901335579353}\n",
      "Testing with lr=0.0001, embed_dim=64, rnn_hidden_size=32, fc_hidden_size=128, num_layers=2, dropout_rate=0.3\n"
     ]
    },
    {
     "name": "stdout",
     "output_type": "stream",
     "text": [
      "{'lr': 0.0001, 'embed_dim': 64, 'rnn_hidden_size': 32, 'fc_hidden_size': 128, 'num_layers': 2, 'dropout_rate': 0.3, 'val_accuracy': 0.8551317530983035}\n",
      "Testing with lr=0.0001, embed_dim=64, rnn_hidden_size=32, fc_hidden_size=128, num_layers=2, dropout_rate=0.5\n"
     ]
    },
    {
     "name": "stdout",
     "output_type": "stream",
     "text": [
      "{'lr': 0.0001, 'embed_dim': 64, 'rnn_hidden_size': 32, 'fc_hidden_size': 128, 'num_layers': 2, 'dropout_rate': 0.5, 'val_accuracy': 0.8677656118397304}\n",
      "Testing with lr=0.0001, embed_dim=64, rnn_hidden_size=32, fc_hidden_size=128, num_layers=3, dropout_rate=0\n"
     ]
    },
    {
     "name": "stdout",
     "output_type": "stream",
     "text": [
      "{'lr': 0.0001, 'embed_dim': 64, 'rnn_hidden_size': 32, 'fc_hidden_size': 128, 'num_layers': 3, 'dropout_rate': 0, 'val_accuracy': 0.8754662495487907}\n",
      "Testing with lr=0.0001, embed_dim=64, rnn_hidden_size=32, fc_hidden_size=128, num_layers=3, dropout_rate=0.3\n"
     ]
    },
    {
     "name": "stdout",
     "output_type": "stream",
     "text": [
      "{'lr': 0.0001, 'embed_dim': 64, 'rnn_hidden_size': 32, 'fc_hidden_size': 128, 'num_layers': 3, 'dropout_rate': 0.3, 'val_accuracy': 0.8635543255925882}\n",
      "Testing with lr=0.0001, embed_dim=64, rnn_hidden_size=32, fc_hidden_size=128, num_layers=3, dropout_rate=0.5\n"
     ]
    },
    {
     "name": "stdout",
     "output_type": "stream",
     "text": [
      "{'lr': 0.0001, 'embed_dim': 64, 'rnn_hidden_size': 32, 'fc_hidden_size': 128, 'num_layers': 3, 'dropout_rate': 0.5, 'val_accuracy': 0.841655637107448}\n",
      "Testing with lr=0.0001, embed_dim=64, rnn_hidden_size=64, fc_hidden_size=32, num_layers=1, dropout_rate=0\n"
     ]
    },
    {
     "name": "stdout",
     "output_type": "stream",
     "text": [
      "{'lr': 0.0001, 'embed_dim': 64, 'rnn_hidden_size': 64, 'fc_hidden_size': 32, 'num_layers': 1, 'dropout_rate': 0, 'val_accuracy': 0.7216941402959932}\n",
      "Testing with lr=0.0001, embed_dim=64, rnn_hidden_size=64, fc_hidden_size=32, num_layers=1, dropout_rate=0.3\n"
     ]
    },
    {
     "name": "stdout",
     "output_type": "stream",
     "text": [
      "{'lr': 0.0001, 'embed_dim': 64, 'rnn_hidden_size': 64, 'fc_hidden_size': 32, 'num_layers': 1, 'dropout_rate': 0.3, 'val_accuracy': 0.8494765972807123}\n",
      "Testing with lr=0.0001, embed_dim=64, rnn_hidden_size=64, fc_hidden_size=32, num_layers=1, dropout_rate=0.5\n"
     ]
    },
    {
     "name": "stdout",
     "output_type": "stream",
     "text": [
      "{'lr': 0.0001, 'embed_dim': 64, 'rnn_hidden_size': 64, 'fc_hidden_size': 32, 'num_layers': 1, 'dropout_rate': 0.5, 'val_accuracy': 0.8457466008903862}\n",
      "Testing with lr=0.0001, embed_dim=64, rnn_hidden_size=64, fc_hidden_size=32, num_layers=2, dropout_rate=0\n"
     ]
    },
    {
     "name": "stdout",
     "output_type": "stream",
     "text": [
      "{'lr': 0.0001, 'embed_dim': 64, 'rnn_hidden_size': 64, 'fc_hidden_size': 32, 'num_layers': 2, 'dropout_rate': 0, 'val_accuracy': 0.8611478763085068}\n",
      "Testing with lr=0.0001, embed_dim=64, rnn_hidden_size=64, fc_hidden_size=32, num_layers=2, dropout_rate=0.3\n"
     ]
    },
    {
     "name": "stdout",
     "output_type": "stream",
     "text": [
      "{'lr': 0.0001, 'embed_dim': 64, 'rnn_hidden_size': 64, 'fc_hidden_size': 32, 'num_layers': 2, 'dropout_rate': 0.3, 'val_accuracy': 0.7941282637468415}\n",
      "Testing with lr=0.0001, embed_dim=64, rnn_hidden_size=64, fc_hidden_size=32, num_layers=2, dropout_rate=0.5\n"
     ]
    },
    {
     "name": "stdout",
     "output_type": "stream",
     "text": [
      "{'lr': 0.0001, 'embed_dim': 64, 'rnn_hidden_size': 64, 'fc_hidden_size': 32, 'num_layers': 2, 'dropout_rate': 0.5, 'val_accuracy': 0.8418962820358561}\n",
      "Testing with lr=0.0001, embed_dim=64, rnn_hidden_size=64, fc_hidden_size=32, num_layers=3, dropout_rate=0\n"
     ]
    },
    {
     "name": "stdout",
     "output_type": "stream",
     "text": [
      "{'lr': 0.0001, 'embed_dim': 64, 'rnn_hidden_size': 64, 'fc_hidden_size': 32, 'num_layers': 3, 'dropout_rate': 0, 'val_accuracy': 0.8653591625556492}\n",
      "Testing with lr=0.0001, embed_dim=64, rnn_hidden_size=64, fc_hidden_size=32, num_layers=3, dropout_rate=0.3\n"
     ]
    },
    {
     "name": "stdout",
     "output_type": "stream",
     "text": [
      "{'lr': 0.0001, 'embed_dim': 64, 'rnn_hidden_size': 64, 'fc_hidden_size': 32, 'num_layers': 3, 'dropout_rate': 0.3, 'val_accuracy': 0.8321501624353267}\n",
      "Testing with lr=0.0001, embed_dim=64, rnn_hidden_size=64, fc_hidden_size=32, num_layers=3, dropout_rate=0.5\n"
     ]
    },
    {
     "name": "stdout",
     "output_type": "stream",
     "text": [
      "{'lr': 0.0001, 'embed_dim': 64, 'rnn_hidden_size': 64, 'fc_hidden_size': 32, 'num_layers': 3, 'dropout_rate': 0.5, 'val_accuracy': 0.839971122608591}\n",
      "Testing with lr=0.0001, embed_dim=64, rnn_hidden_size=64, fc_hidden_size=64, num_layers=1, dropout_rate=0\n"
     ]
    },
    {
     "name": "stdout",
     "output_type": "stream",
     "text": [
      "{'lr': 0.0001, 'embed_dim': 64, 'rnn_hidden_size': 64, 'fc_hidden_size': 64, 'num_layers': 1, 'dropout_rate': 0, 'val_accuracy': 0.8676452893755264}\n",
      "Testing with lr=0.0001, embed_dim=64, rnn_hidden_size=64, fc_hidden_size=64, num_layers=1, dropout_rate=0.3\n"
     ]
    },
    {
     "name": "stdout",
     "output_type": "stream",
     "text": [
      "{'lr': 0.0001, 'embed_dim': 64, 'rnn_hidden_size': 64, 'fc_hidden_size': 64, 'num_layers': 1, 'dropout_rate': 0.3, 'val_accuracy': 0.778847310792925}\n",
      "Testing with lr=0.0001, embed_dim=64, rnn_hidden_size=64, fc_hidden_size=64, num_layers=1, dropout_rate=0.5\n"
     ]
    },
    {
     "name": "stdout",
     "output_type": "stream",
     "text": [
      "{'lr': 0.0001, 'embed_dim': 64, 'rnn_hidden_size': 64, 'fc_hidden_size': 64, 'num_layers': 1, 'dropout_rate': 0.5, 'val_accuracy': 0.8589820719528336}\n",
      "Testing with lr=0.0001, embed_dim=64, rnn_hidden_size=64, fc_hidden_size=64, num_layers=2, dropout_rate=0\n"
     ]
    },
    {
     "name": "stdout",
     "output_type": "stream",
     "text": [
      "{'lr': 0.0001, 'embed_dim': 64, 'rnn_hidden_size': 64, 'fc_hidden_size': 64, 'num_layers': 2, 'dropout_rate': 0, 'val_accuracy': 0.8575382023823848}\n",
      "Testing with lr=0.0001, embed_dim=64, rnn_hidden_size=64, fc_hidden_size=64, num_layers=2, dropout_rate=0.3\n"
     ]
    },
    {
     "name": "stdout",
     "output_type": "stream",
     "text": [
      "{'lr': 0.0001, 'embed_dim': 64, 'rnn_hidden_size': 64, 'fc_hidden_size': 64, 'num_layers': 2, 'dropout_rate': 0.3, 'val_accuracy': 0.8169895319456143}\n",
      "Testing with lr=0.0001, embed_dim=64, rnn_hidden_size=64, fc_hidden_size=64, num_layers=2, dropout_rate=0.5\n"
     ]
    },
    {
     "name": "stdout",
     "output_type": "stream",
     "text": [
      "{'lr': 0.0001, 'embed_dim': 64, 'rnn_hidden_size': 64, 'fc_hidden_size': 64, 'num_layers': 2, 'dropout_rate': 0.5, 'val_accuracy': 0.8641559379136085}\n",
      "Testing with lr=0.0001, embed_dim=64, rnn_hidden_size=64, fc_hidden_size=64, num_layers=3, dropout_rate=0\n"
     ]
    },
    {
     "name": "stdout",
     "output_type": "stream",
     "text": [
      "{'lr': 0.0001, 'embed_dim': 64, 'rnn_hidden_size': 64, 'fc_hidden_size': 64, 'num_layers': 3, 'dropout_rate': 0, 'val_accuracy': 0.8565756226687522}\n",
      "Testing with lr=0.0001, embed_dim=64, rnn_hidden_size=64, fc_hidden_size=64, num_layers=3, dropout_rate=0.3\n"
     ]
    },
    {
     "name": "stdout",
     "output_type": "stream",
     "text": [
      "{'lr': 0.0001, 'embed_dim': 64, 'rnn_hidden_size': 64, 'fc_hidden_size': 64, 'num_layers': 3, 'dropout_rate': 0.3, 'val_accuracy': 0.8424978943568764}\n",
      "Testing with lr=0.0001, embed_dim=64, rnn_hidden_size=64, fc_hidden_size=64, num_layers=3, dropout_rate=0.5\n"
     ]
    },
    {
     "name": "stdout",
     "output_type": "stream",
     "text": [
      "{'lr': 0.0001, 'embed_dim': 64, 'rnn_hidden_size': 64, 'fc_hidden_size': 64, 'num_layers': 3, 'dropout_rate': 0.5, 'val_accuracy': 0.8311875827216941}\n",
      "Testing with lr=0.0001, embed_dim=64, rnn_hidden_size=64, fc_hidden_size=128, num_layers=1, dropout_rate=0\n"
     ]
    },
    {
     "name": "stdout",
     "output_type": "stream",
     "text": [
      "{'lr': 0.0001, 'embed_dim': 64, 'rnn_hidden_size': 64, 'fc_hidden_size': 128, 'num_layers': 1, 'dropout_rate': 0, 'val_accuracy': 0.8485140175670798}\n",
      "Testing with lr=0.0001, embed_dim=64, rnn_hidden_size=64, fc_hidden_size=128, num_layers=1, dropout_rate=0.3\n"
     ]
    },
    {
     "name": "stdout",
     "output_type": "stream",
     "text": [
      "{'lr': 0.0001, 'embed_dim': 64, 'rnn_hidden_size': 64, 'fc_hidden_size': 128, 'num_layers': 1, 'dropout_rate': 0.3, 'val_accuracy': 0.8481530501744676}\n",
      "Testing with lr=0.0001, embed_dim=64, rnn_hidden_size=64, fc_hidden_size=128, num_layers=1, dropout_rate=0.5\n"
     ]
    },
    {
     "name": "stdout",
     "output_type": "stream",
     "text": [
      "{'lr': 0.0001, 'embed_dim': 64, 'rnn_hidden_size': 64, 'fc_hidden_size': 128, 'num_layers': 1, 'dropout_rate': 0.5, 'val_accuracy': 0.8250511370472867}\n",
      "Testing with lr=0.0001, embed_dim=64, rnn_hidden_size=64, fc_hidden_size=128, num_layers=2, dropout_rate=0\n"
     ]
    },
    {
     "name": "stdout",
     "output_type": "stream",
     "text": [
      "{'lr': 0.0001, 'embed_dim': 64, 'rnn_hidden_size': 64, 'fc_hidden_size': 128, 'num_layers': 2, 'dropout_rate': 0, 'val_accuracy': 0.8323908073637348}\n",
      "Testing with lr=0.0001, embed_dim=64, rnn_hidden_size=64, fc_hidden_size=128, num_layers=2, dropout_rate=0.3\n"
     ]
    },
    {
     "name": "stdout",
     "output_type": "stream",
     "text": [
      "{'lr': 0.0001, 'embed_dim': 64, 'rnn_hidden_size': 64, 'fc_hidden_size': 128, 'num_layers': 2, 'dropout_rate': 0.3, 'val_accuracy': 0.8214414631211647}\n",
      "Testing with lr=0.0001, embed_dim=64, rnn_hidden_size=64, fc_hidden_size=128, num_layers=2, dropout_rate=0.5\n"
     ]
    },
    {
     "name": "stdout",
     "output_type": "stream",
     "text": [
      "{'lr': 0.0001, 'embed_dim': 64, 'rnn_hidden_size': 64, 'fc_hidden_size': 128, 'num_layers': 2, 'dropout_rate': 0.5, 'val_accuracy': 0.8355191914330405}\n",
      "Testing with lr=0.0001, embed_dim=64, rnn_hidden_size=64, fc_hidden_size=128, num_layers=3, dropout_rate=0\n"
     ]
    },
    {
     "name": "stdout",
     "output_type": "stream",
     "text": [
      "{'lr': 0.0001, 'embed_dim': 64, 'rnn_hidden_size': 64, 'fc_hidden_size': 128, 'num_layers': 3, 'dropout_rate': 0, 'val_accuracy': 0.8539285284562628}\n",
      "Testing with lr=0.0001, embed_dim=64, rnn_hidden_size=64, fc_hidden_size=128, num_layers=3, dropout_rate=0.3\n"
     ]
    },
    {
     "name": "stdout",
     "output_type": "stream",
     "text": [
      "{'lr': 0.0001, 'embed_dim': 64, 'rnn_hidden_size': 64, 'fc_hidden_size': 128, 'num_layers': 3, 'dropout_rate': 0.3, 'val_accuracy': 0.8712549633016484}\n",
      "Testing with lr=0.0001, embed_dim=64, rnn_hidden_size=64, fc_hidden_size=128, num_layers=3, dropout_rate=0.5\n"
     ]
    },
    {
     "name": "stdout",
     "output_type": "stream",
     "text": [
      "{'lr': 0.0001, 'embed_dim': 64, 'rnn_hidden_size': 64, 'fc_hidden_size': 128, 'num_layers': 3, 'dropout_rate': 0.5, 'val_accuracy': 0.8557333654193238}\n",
      "Testing with lr=0.0001, embed_dim=64, rnn_hidden_size=128, fc_hidden_size=32, num_layers=1, dropout_rate=0\n"
     ]
    },
    {
     "name": "stdout",
     "output_type": "stream",
     "text": [
      "{'lr': 0.0001, 'embed_dim': 64, 'rnn_hidden_size': 128, 'fc_hidden_size': 32, 'num_layers': 1, 'dropout_rate': 0, 'val_accuracy': 0.8523643364216099}\n",
      "Testing with lr=0.0001, embed_dim=64, rnn_hidden_size=128, fc_hidden_size=32, num_layers=1, dropout_rate=0.3\n"
     ]
    },
    {
     "name": "stdout",
     "output_type": "stream",
     "text": [
      "{'lr': 0.0001, 'embed_dim': 64, 'rnn_hidden_size': 128, 'fc_hidden_size': 32, 'num_layers': 1, 'dropout_rate': 0.3, 'val_accuracy': 0.8118156659848393}\n",
      "Testing with lr=0.0001, embed_dim=64, rnn_hidden_size=128, fc_hidden_size=32, num_layers=1, dropout_rate=0.5\n"
     ]
    },
    {
     "name": "stdout",
     "output_type": "stream",
     "text": [
      "{'lr': 0.0001, 'embed_dim': 64, 'rnn_hidden_size': 128, 'fc_hidden_size': 32, 'num_layers': 1, 'dropout_rate': 0.5, 'val_accuracy': 0.8636746480567922}\n",
      "Testing with lr=0.0001, embed_dim=64, rnn_hidden_size=128, fc_hidden_size=32, num_layers=2, dropout_rate=0\n"
     ]
    },
    {
     "name": "stdout",
     "output_type": "stream",
     "text": [
      "{'lr': 0.0001, 'embed_dim': 64, 'rnn_hidden_size': 128, 'fc_hidden_size': 32, 'num_layers': 2, 'dropout_rate': 0, 'val_accuracy': 0.7763205390446396}\n",
      "Testing with lr=0.0001, embed_dim=64, rnn_hidden_size=128, fc_hidden_size=32, num_layers=2, dropout_rate=0.3\n"
     ]
    },
    {
     "name": "stdout",
     "output_type": "stream",
     "text": [
      "{'lr': 0.0001, 'embed_dim': 64, 'rnn_hidden_size': 128, 'fc_hidden_size': 32, 'num_layers': 2, 'dropout_rate': 0.3, 'val_accuracy': 0.8384069305739381}\n",
      "Testing with lr=0.0001, embed_dim=64, rnn_hidden_size=128, fc_hidden_size=32, num_layers=2, dropout_rate=0.5\n"
     ]
    },
    {
     "name": "stdout",
     "output_type": "stream",
     "text": [
      "{'lr': 0.0001, 'embed_dim': 64, 'rnn_hidden_size': 128, 'fc_hidden_size': 32, 'num_layers': 2, 'dropout_rate': 0.5, 'val_accuracy': 0.7822163397906389}\n",
      "Testing with lr=0.0001, embed_dim=64, rnn_hidden_size=128, fc_hidden_size=32, num_layers=3, dropout_rate=0\n"
     ]
    },
    {
     "name": "stdout",
     "output_type": "stream",
     "text": [
      "{'lr': 0.0001, 'embed_dim': 64, 'rnn_hidden_size': 128, 'fc_hidden_size': 32, 'num_layers': 3, 'dropout_rate': 0, 'val_accuracy': 0.8636746480567922}\n",
      "Testing with lr=0.0001, embed_dim=64, rnn_hidden_size=128, fc_hidden_size=32, num_layers=3, dropout_rate=0.3\n"
     ]
    },
    {
     "name": "stdout",
     "output_type": "stream",
     "text": [
      "{'lr': 0.0001, 'embed_dim': 64, 'rnn_hidden_size': 128, 'fc_hidden_size': 32, 'num_layers': 3, 'dropout_rate': 0.3, 'val_accuracy': 0.8506798219227529}\n",
      "Testing with lr=0.0001, embed_dim=64, rnn_hidden_size=128, fc_hidden_size=32, num_layers=3, dropout_rate=0.5\n"
     ]
    },
    {
     "name": "stdout",
     "output_type": "stream",
     "text": [
      "{'lr': 0.0001, 'embed_dim': 64, 'rnn_hidden_size': 128, 'fc_hidden_size': 32, 'num_layers': 3, 'dropout_rate': 0.5, 'val_accuracy': 0.8139814703405126}\n",
      "Testing with lr=0.0001, embed_dim=64, rnn_hidden_size=128, fc_hidden_size=64, num_layers=1, dropout_rate=0\n"
     ]
    },
    {
     "name": "stdout",
     "output_type": "stream",
     "text": [
      "{'lr': 0.0001, 'embed_dim': 64, 'rnn_hidden_size': 128, 'fc_hidden_size': 64, 'num_layers': 1, 'dropout_rate': 0, 'val_accuracy': 0.8423775718926724}\n",
      "Testing with lr=0.0001, embed_dim=64, rnn_hidden_size=128, fc_hidden_size=64, num_layers=1, dropout_rate=0.3\n"
     ]
    },
    {
     "name": "stdout",
     "output_type": "stream",
     "text": [
      "{'lr': 0.0001, 'embed_dim': 64, 'rnn_hidden_size': 128, 'fc_hidden_size': 64, 'num_layers': 1, 'dropout_rate': 0.3, 'val_accuracy': 0.8340753218625917}\n",
      "Testing with lr=0.0001, embed_dim=64, rnn_hidden_size=128, fc_hidden_size=64, num_layers=1, dropout_rate=0.5\n"
     ]
    },
    {
     "name": "stdout",
     "output_type": "stream",
     "text": [
      "{'lr': 0.0001, 'embed_dim': 64, 'rnn_hidden_size': 128, 'fc_hidden_size': 64, 'num_layers': 1, 'dropout_rate': 0.5, 'val_accuracy': 0.8645169053062207}\n",
      "Testing with lr=0.0001, embed_dim=64, rnn_hidden_size=128, fc_hidden_size=64, num_layers=2, dropout_rate=0\n"
     ]
    },
    {
     "name": "stdout",
     "output_type": "stream",
     "text": [
      "{'lr': 0.0001, 'embed_dim': 64, 'rnn_hidden_size': 128, 'fc_hidden_size': 64, 'num_layers': 2, 'dropout_rate': 0, 'val_accuracy': 0.8382866081097341}\n",
      "Testing with lr=0.0001, embed_dim=64, rnn_hidden_size=128, fc_hidden_size=64, num_layers=2, dropout_rate=0.3\n"
     ]
    },
    {
     "name": "stdout",
     "output_type": "stream",
     "text": [
      "{'lr': 0.0001, 'embed_dim': 64, 'rnn_hidden_size': 128, 'fc_hidden_size': 64, 'num_layers': 2, 'dropout_rate': 0.3, 'val_accuracy': 0.8435807965347131}\n",
      "Testing with lr=0.0001, embed_dim=64, rnn_hidden_size=128, fc_hidden_size=64, num_layers=2, dropout_rate=0.5\n"
     ]
    },
    {
     "name": "stdout",
     "output_type": "stream",
     "text": [
      "{'lr': 0.0001, 'embed_dim': 64, 'rnn_hidden_size': 128, 'fc_hidden_size': 64, 'num_layers': 2, 'dropout_rate': 0.5, 'val_accuracy': 0.8635543255925882}\n",
      "Testing with lr=0.0001, embed_dim=64, rnn_hidden_size=128, fc_hidden_size=64, num_layers=3, dropout_rate=0\n"
     ]
    },
    {
     "name": "stdout",
     "output_type": "stream",
     "text": [
      "{'lr': 0.0001, 'embed_dim': 64, 'rnn_hidden_size': 128, 'fc_hidden_size': 64, 'num_layers': 3, 'dropout_rate': 0, 'val_accuracy': 0.8713752857658524}\n",
      "Testing with lr=0.0001, embed_dim=64, rnn_hidden_size=128, fc_hidden_size=64, num_layers=3, dropout_rate=0.3\n"
     ]
    },
    {
     "name": "stdout",
     "output_type": "stream",
     "text": [
      "{'lr': 0.0001, 'embed_dim': 64, 'rnn_hidden_size': 128, 'fc_hidden_size': 64, 'num_layers': 3, 'dropout_rate': 0.3, 'val_accuracy': 0.8700517386596077}\n",
      "Testing with lr=0.0001, embed_dim=64, rnn_hidden_size=128, fc_hidden_size=64, num_layers=3, dropout_rate=0.5\n"
     ]
    },
    {
     "name": "stdout",
     "output_type": "stream",
     "text": [
      "{'lr': 0.0001, 'embed_dim': 64, 'rnn_hidden_size': 128, 'fc_hidden_size': 64, 'num_layers': 3, 'dropout_rate': 0.5, 'val_accuracy': 0.8366020936108771}\n",
      "Testing with lr=0.0001, embed_dim=64, rnn_hidden_size=128, fc_hidden_size=128, num_layers=1, dropout_rate=0\n"
     ]
    },
    {
     "name": "stdout",
     "output_type": "stream",
     "text": [
      "{'lr': 0.0001, 'embed_dim': 64, 'rnn_hidden_size': 128, 'fc_hidden_size': 128, 'num_layers': 1, 'dropout_rate': 0, 'val_accuracy': 0.854409818313079}\n",
      "Testing with lr=0.0001, embed_dim=64, rnn_hidden_size=128, fc_hidden_size=128, num_layers=1, dropout_rate=0.3\n"
     ]
    },
    {
     "name": "stdout",
     "output_type": "stream",
     "text": [
      "{'lr': 0.0001, 'embed_dim': 64, 'rnn_hidden_size': 128, 'fc_hidden_size': 128, 'num_layers': 1, 'dropout_rate': 0.3, 'val_accuracy': 0.8606665864516906}\n",
      "Testing with lr=0.0001, embed_dim=64, rnn_hidden_size=128, fc_hidden_size=128, num_layers=1, dropout_rate=0.5\n"
     ]
    },
    {
     "name": "stdout",
     "output_type": "stream",
     "text": [
      "{'lr': 0.0001, 'embed_dim': 64, 'rnn_hidden_size': 128, 'fc_hidden_size': 128, 'num_layers': 1, 'dropout_rate': 0.5, 'val_accuracy': 0.778726988328721}\n",
      "Testing with lr=0.0001, embed_dim=64, rnn_hidden_size=128, fc_hidden_size=128, num_layers=2, dropout_rate=0\n"
     ]
    },
    {
     "name": "stdout",
     "output_type": "stream",
     "text": [
      "{'lr': 0.0001, 'embed_dim': 64, 'rnn_hidden_size': 128, 'fc_hidden_size': 128, 'num_layers': 2, 'dropout_rate': 0, 'val_accuracy': 0.8245698471904704}\n",
      "Testing with lr=0.0001, embed_dim=64, rnn_hidden_size=128, fc_hidden_size=128, num_layers=2, dropout_rate=0.3\n"
     ]
    },
    {
     "name": "stdout",
     "output_type": "stream",
     "text": [
      "{'lr': 0.0001, 'embed_dim': 64, 'rnn_hidden_size': 128, 'fc_hidden_size': 128, 'num_layers': 2, 'dropout_rate': 0.3, 'val_accuracy': 0.791240524605944}\n",
      "Testing with lr=0.0001, embed_dim=64, rnn_hidden_size=128, fc_hidden_size=128, num_layers=2, dropout_rate=0.5\n"
     ]
    },
    {
     "name": "stdout",
     "output_type": "stream",
     "text": [
      "{'lr': 0.0001, 'embed_dim': 64, 'rnn_hidden_size': 128, 'fc_hidden_size': 128, 'num_layers': 2, 'dropout_rate': 0.5, 'val_accuracy': 0.8449043436409578}\n",
      "Testing with lr=0.0001, embed_dim=64, rnn_hidden_size=128, fc_hidden_size=128, num_layers=3, dropout_rate=0\n"
     ]
    },
    {
     "name": "stdout",
     "output_type": "stream",
     "text": [
      "{'lr': 0.0001, 'embed_dim': 64, 'rnn_hidden_size': 128, 'fc_hidden_size': 128, 'num_layers': 3, 'dropout_rate': 0, 'val_accuracy': 0.8692094814101793}\n",
      "Testing with lr=0.0001, embed_dim=64, rnn_hidden_size=128, fc_hidden_size=128, num_layers=3, dropout_rate=0.3\n"
     ]
    },
    {
     "name": "stdout",
     "output_type": "stream",
     "text": [
      "{'lr': 0.0001, 'embed_dim': 64, 'rnn_hidden_size': 128, 'fc_hidden_size': 128, 'num_layers': 3, 'dropout_rate': 0.3, 'val_accuracy': 0.7817350499338226}\n",
      "Testing with lr=0.0001, embed_dim=64, rnn_hidden_size=128, fc_hidden_size=128, num_layers=3, dropout_rate=0.5\n"
     ]
    },
    {
     "name": "stdout",
     "output_type": "stream",
     "text": [
      "{'lr': 0.0001, 'embed_dim': 64, 'rnn_hidden_size': 128, 'fc_hidden_size': 128, 'num_layers': 3, 'dropout_rate': 0.5, 'val_accuracy': 0.8285404885092047}\n",
      "Best hyperparameters:\n",
      "lr                   0.001000\n",
      "embed_dim           64.000000\n",
      "rnn_hidden_size    128.000000\n",
      "fc_hidden_size      32.000000\n",
      "num_layers           1.000000\n",
      "dropout_rate         0.000000\n",
      "val_accuracy         0.888581\n",
      "Name: 216, dtype: float64\n"
     ]
    }
   ],
   "source": [
    "# Grid search for hyperparameter tuning\n",
    "import itertools\n",
    "\n",
    "# Hyperparameter ranges\n",
    "param_grid = {\n",
    "    'lr': [0.001, 0.0001],\n",
    "    'embed_dim': [16, 32, 64],\n",
    "    'rnn_hidden_size': [32, 64, 128],\n",
    "    'fc_hidden_size': [32, 64, 128],\n",
    "    'num_layers': [1, 2, 3],  # Add num_layers\n",
    "    'dropout_rate': [0, 0.3, 0.5]  # Add dropout_rate\n",
    "}\n",
    "\n",
    "# Generate all combinations of hyperparameters\n",
    "param_combinations = list(itertools.product(\n",
    "    param_grid['lr'],\n",
    "    param_grid['embed_dim'],\n",
    "    param_grid['rnn_hidden_size'],\n",
    "    param_grid['fc_hidden_size'],\n",
    "    param_grid['num_layers'],\n",
    "    param_grid['dropout_rate']\n",
    "))\n",
    "\n",
    "# Track results\n",
    "results = []\n",
    "\n",
    "# Grid search loop\n",
    "for lr, embed_dim, rnn_hidden_size, fc_hidden_size, num_layers, dropout_rate in param_combinations:\n",
    "    print(f\"Testing with lr={lr}, embed_dim={embed_dim}, rnn_hidden_size={rnn_hidden_size}, \"\n",
    "          f\"fc_hidden_size={fc_hidden_size}, num_layers={num_layers}, dropout_rate={dropout_rate}\")\n",
    "    \n",
    "    # Initialize model and optimizer for current hyperparameters\n",
    "    model = RNN(vocab_size, embed_dim, rnn_hidden_size, fc_hidden_size, \n",
    "                num_layers=num_layers, dropout_rate=dropout_rate).to(device)\n",
    "    optimizer = torch.optim.Adam(model.parameters(), lr=lr)\n",
    "    loss_fn = nn.BCELoss()\n",
    "\n",
    "    # Train and evaluate for a few epochs (to save time during grid search)\n",
    "    for epoch in range(5):  # Shortened training for grid search\n",
    "        train_epoch(train_dl, model, optimizer, loss_fn)\n",
    "\n",
    "    acc_valid, _ = evaluate_epoch(val_dl, model, loss_fn)\n",
    "\n",
    "    print({\n",
    "        'lr': lr,\n",
    "        'embed_dim': embed_dim,\n",
    "        'rnn_hidden_size': rnn_hidden_size,\n",
    "        'fc_hidden_size': fc_hidden_size,\n",
    "        'num_layers': num_layers,\n",
    "        'dropout_rate': dropout_rate,\n",
    "        'val_accuracy': acc_valid\n",
    "    })\n",
    "    # Store results\n",
    "    results.append({\n",
    "        'lr': lr,\n",
    "        'embed_dim': embed_dim,\n",
    "        'rnn_hidden_size': rnn_hidden_size,\n",
    "        'fc_hidden_size': fc_hidden_size,\n",
    "        'num_layers': num_layers,\n",
    "        'dropout_rate': dropout_rate,\n",
    "        'val_accuracy': acc_valid\n",
    "    })\n",
    "\n",
    "# Convert results to DataFrame for easier analysis\n",
    "import pandas as pd\n",
    "results_df = pd.DataFrame(results)\n",
    "\n",
    "# Find the best hyperparameter combination\n",
    "best_params = results_df.loc[results_df['val_accuracy'].idxmax()]\n",
    "\n",
    "print(\"Best hyperparameters:\")\n",
    "print(best_params)\n",
    "\n",
    "# Save the results for future reference\n",
    "results_df.to_csv('grid_search_results.csv', index=False)\n"
   ]
  },
  {
   "cell_type": "code",
   "execution_count": 17,
   "id": "8083ca4e",
   "metadata": {
    "execution": {
     "iopub.execute_input": "2024-12-27T06:23:55.370465Z",
     "iopub.status.busy": "2024-12-27T06:23:55.370293Z",
     "iopub.status.idle": "2024-12-27T06:23:55.373235Z",
     "shell.execute_reply": "2024-12-27T06:23:55.372880Z"
    },
    "papermill": {
     "duration": 0.025883,
     "end_time": "2024-12-27T06:23:55.374002",
     "exception": false,
     "start_time": "2024-12-27T06:23:55.348119",
     "status": "completed"
    },
    "tags": []
   },
   "outputs": [],
   "source": [
    "# lr                   = 0.001\n",
    "# embed_dim            = 64\n",
    "# rnn_hidden_size      = 128\n",
    "# fc_hidden_size       = 64\n",
    "# num_layers           = 1\n",
    "# dropout_rate         = 0.3\n",
    "\n",
    "lr = best_params['lr']\n",
    "embed_dim = int(best_params['embed_dim'])\n",
    "rnn_hidden_size = int(best_params['rnn_hidden_size'])\n",
    "fc_hidden_size = int(best_params['fc_hidden_size'])\n",
    "rnn_hidden_size = int(best_params['num_layers'])\n",
    "fc_hidden_size = int(best_params['dropout_rate'])"
   ]
  },
  {
   "cell_type": "code",
   "execution_count": 18,
   "id": "6da3dcee",
   "metadata": {
    "execution": {
     "iopub.execute_input": "2024-12-27T06:23:55.418534Z",
     "iopub.status.busy": "2024-12-27T06:23:55.418386Z",
     "iopub.status.idle": "2024-12-27T06:29:57.473401Z",
     "shell.execute_reply": "2024-12-27T06:29:57.472908Z"
    },
    "papermill": {
     "duration": 362.08151,
     "end_time": "2024-12-27T06:29:57.477727",
     "exception": false,
     "start_time": "2024-12-27T06:23:55.396217",
     "status": "completed"
    },
    "tags": []
   },
   "outputs": [
    {
     "name": "stderr",
     "output_type": "stream",
     "text": [
      "/sciclone/data10/iahewababarand/.venv/lib64/python3.9/site-packages/torch/nn/init.py:511: UserWarning: Initializing zero-element tensors is a no-op\n",
      "  warnings.warn(\"Initializing zero-element tensors is a no-op\")\n"
     ]
    },
    {
     "name": "stdout",
     "output_type": "stream",
     "text": [
      "Epoch 1 - accuracy: 0.5011, val_accuracy: 0.4987\n"
     ]
    },
    {
     "name": "stdout",
     "output_type": "stream",
     "text": [
      "Epoch 2 - accuracy: 0.5001, val_accuracy: 0.4987\n"
     ]
    },
    {
     "name": "stdout",
     "output_type": "stream",
     "text": [
      "Epoch 3 - accuracy: 0.5003, val_accuracy: 0.4987\n"
     ]
    },
    {
     "name": "stdout",
     "output_type": "stream",
     "text": [
      "Epoch 4 - accuracy: 0.5015, val_accuracy: 0.4987\n"
     ]
    },
    {
     "name": "stdout",
     "output_type": "stream",
     "text": [
      "Epoch 5 - accuracy: 0.5024, val_accuracy: 0.4987\n"
     ]
    },
    {
     "name": "stdout",
     "output_type": "stream",
     "text": [
      "Epoch 6 - accuracy: 0.5012, val_accuracy: 0.4987\n"
     ]
    },
    {
     "name": "stdout",
     "output_type": "stream",
     "text": [
      "Epoch 7 - accuracy: 0.4992, val_accuracy: 0.4987\n"
     ]
    },
    {
     "name": "stdout",
     "output_type": "stream",
     "text": [
      "Epoch 8 - accuracy: 0.5009, val_accuracy: 0.4987\n"
     ]
    },
    {
     "name": "stdout",
     "output_type": "stream",
     "text": [
      "Epoch 9 - accuracy: 0.5013, val_accuracy: 0.4987\n"
     ]
    },
    {
     "name": "stdout",
     "output_type": "stream",
     "text": [
      "Epoch 10 - accuracy: 0.5024, val_accuracy: 0.4987\n"
     ]
    },
    {
     "name": "stdout",
     "output_type": "stream",
     "text": [
      "Epoch 11 - accuracy: 0.5016, val_accuracy: 0.5013\n"
     ]
    },
    {
     "name": "stdout",
     "output_type": "stream",
     "text": [
      "Epoch 12 - accuracy: 0.5027, val_accuracy: 0.5013\n"
     ]
    },
    {
     "name": "stdout",
     "output_type": "stream",
     "text": [
      "Epoch 13 - accuracy: 0.5015, val_accuracy: 0.4987\n"
     ]
    },
    {
     "name": "stdout",
     "output_type": "stream",
     "text": [
      "Epoch 14 - accuracy: 0.5005, val_accuracy: 0.4987\n"
     ]
    },
    {
     "name": "stdout",
     "output_type": "stream",
     "text": [
      "Epoch 15 - accuracy: 0.5023, val_accuracy: 0.5013\n"
     ]
    },
    {
     "name": "stdout",
     "output_type": "stream",
     "text": [
      "Epoch 16 - accuracy: 0.5010, val_accuracy: 0.5013\n"
     ]
    },
    {
     "name": "stdout",
     "output_type": "stream",
     "text": [
      "Epoch 17 - accuracy: 0.4994, val_accuracy: 0.4987\n"
     ]
    },
    {
     "name": "stdout",
     "output_type": "stream",
     "text": [
      "Epoch 18 - accuracy: 0.5016, val_accuracy: 0.4987\n"
     ]
    },
    {
     "name": "stdout",
     "output_type": "stream",
     "text": [
      "Epoch 19 - accuracy: 0.5041, val_accuracy: 0.4987\n"
     ]
    },
    {
     "name": "stdout",
     "output_type": "stream",
     "text": [
      "Epoch 20 - accuracy: 0.5008, val_accuracy: 0.4987\n"
     ]
    }
   ],
   "source": [
    "model = RNN(vocab_size, embed_dim, rnn_hidden_size, fc_hidden_size, \n",
    "                num_layers=num_layers, dropout_rate=dropout_rate).to(device)\n",
    "\n",
    "optimizer = torch.optim.Adam(model.parameters(), lr=lr)\n",
    "loss_fn = nn.BCELoss()\n",
    "\n",
    "# Initialize lists to store training and validation metrics for each epoch\n",
    "train_accuracies = []\n",
    "train_losses = []\n",
    "valid_accuracies = []\n",
    "valid_losses = []\n",
    "\n",
    "num_epochs = 20\n",
    "\n",
    "# Final training loop\n",
    "for epoch in range(num_epochs):\n",
    "    acc_train, loss_train = train_epoch(train_dl, model, optimizer, loss_fn)\n",
    "    acc_valid, loss_valid = evaluate_epoch(val_dl, model, loss_fn)\n",
    "\n",
    "    # Store metrics\n",
    "    train_accuracies.append(acc_train)\n",
    "    train_losses.append(loss_train)\n",
    "    valid_accuracies.append(acc_valid)\n",
    "    valid_losses.append(loss_valid)\n",
    "\n",
    "    print(f'Epoch {epoch + 1} - accuracy: {acc_train:.4f}, val_accuracy: {acc_valid:.4f}')"
   ]
  },
  {
   "cell_type": "code",
   "execution_count": 19,
   "id": "80dc12a0",
   "metadata": {
    "execution": {
     "iopub.execute_input": "2024-12-27T06:29:57.523965Z",
     "iopub.status.busy": "2024-12-27T06:29:57.523793Z",
     "iopub.status.idle": "2024-12-27T06:29:59.707599Z",
     "shell.execute_reply": "2024-12-27T06:29:59.706413Z"
    },
    "papermill": {
     "duration": 2.209365,
     "end_time": "2024-12-27T06:29:59.709481",
     "exception": false,
     "start_time": "2024-12-27T06:29:57.500116",
     "status": "completed"
    },
    "tags": []
   },
   "outputs": [],
   "source": [
    "import matplotlib.pyplot as plt\n",
    "import seaborn as sns\n",
    "from sklearn.metrics import confusion_matrix\n",
    "import numpy as np"
   ]
  },
  {
   "cell_type": "code",
   "execution_count": 20,
   "id": "b9762fbe",
   "metadata": {
    "execution": {
     "iopub.execute_input": "2024-12-27T06:29:59.799073Z",
     "iopub.status.busy": "2024-12-27T06:29:59.798771Z",
     "iopub.status.idle": "2024-12-27T06:30:03.117726Z",
     "shell.execute_reply": "2024-12-27T06:30:03.116390Z"
    },
    "papermill": {
     "duration": 3.34959,
     "end_time": "2024-12-27T06:30:03.119044",
     "exception": false,
     "start_time": "2024-12-27T06:29:59.769454",
     "status": "completed"
    },
    "tags": []
   },
   "outputs": [
    {
     "data": {
      "image/png": "[encoded data removed]",
      "text/plain": [
       "<Figure size 1400x500 with 2 Axes>"
      ]
     },
     "metadata": {},
     "output_type": "display_data"
    },
    {
     "data": {
      "image/png": "[encoded data removed]",
      "text/plain": [
       "<Figure size 800x600 with 2 Axes>"
      ]
     },
     "metadata": {},
     "output_type": "display_data"
    }
   ],
   "source": [
    "# Plotting training and validation losses\n",
    "plt.figure(figsize=(14, 5))\n",
    "\n",
    "plt.subplot(1, 2, 1)\n",
    "plt.plot(range(1, num_epochs + 1), train_losses, label='Training Loss')\n",
    "plt.plot(range(1, num_epochs + 1), valid_losses, label='Validation Loss')\n",
    "plt.xlabel('Epoch')\n",
    "plt.ylabel('Loss')\n",
    "plt.title('Training and Validation Loss')\n",
    "plt.legend()\n",
    "\n",
    "# Plotting training and validation accuracies\n",
    "plt.subplot(1, 2, 2)\n",
    "plt.plot(range(1, num_epochs + 1), train_accuracies, label='Training Accuracy')\n",
    "plt.plot(range(1, num_epochs + 1), valid_accuracies, label='Validation Accuracy')\n",
    "plt.xlabel('Epoch')\n",
    "plt.ylabel('Accuracy')\n",
    "plt.title('Training and Validation Accuracy')\n",
    "plt.legend()\n",
    "# plt.savefig('images/lstm-action-accuracy.png')\n",
    "plt.show()\n",
    "\n",
    "# Generate confusion matrix\n",
    "def generate_confusion_matrix(dataloader, model):\n",
    "    model.eval()\n",
    "    all_preds = []\n",
    "    all_labels = []\n",
    "    with torch.no_grad():\n",
    "        for text_batch, label_batch, lengths in dataloader:\n",
    "            preds = model(text_batch, lengths)[:, 0]\n",
    "            all_preds.extend((preds >= 0.5).cpu().numpy())\n",
    "            all_labels.extend(label_batch.cpu().numpy())\n",
    "\n",
    "    # Generate confusion matrix\n",
    "    cm = confusion_matrix(all_labels, all_preds)\n",
    "    plt.figure(figsize=(8, 6))\n",
    "    sns.heatmap(cm, annot=True, fmt='d', cmap='Blues', xticklabels=['Human', 'Bot'], yticklabels=['Human', 'Bot'])\n",
    "    plt.xlabel('Predicted')\n",
    "    plt.ylabel('Actual')\n",
    "    plt.title('Confusion Matrix')\n",
    "    plt.show()\n",
    "\n",
    "# Generate confusion matrix on the test dataset\n",
    "generate_confusion_matrix(test_dl, model)\n"
   ]
  }
 ],
 "metadata": {
  "kernelspec": {
   "display_name": ".venv",
   "language": "python",
   "name": "python3"
  },
  "language_info": {
   "codemirror_mode": {
    "name": "ipython",
    "version": 3
   },
   "file_extension": ".py",
   "mimetype": "text/x-python",
   "name": "python",
   "nbconvert_exporter": "python",
   "pygments_lexer": "ipython3",
   "version": "3.9.16"
  },
  "papermill": {
   "default_parameters": {},
   "duration": 34732.171889,
   "end_time": "2024-12-27T06:30:06.865984",
   "environment_variables": {},
   "exception": null,
   "input_path": "lstm-action.ipynb",
   "output_path": "lstm-action-v4.ipynb",
   "parameters": {},
   "start_time": "2024-12-26T20:51:14.694095",
   "version": "2.6.0"
  }
 },
 "nbformat": 4,
 "nbformat_minor": 5
}