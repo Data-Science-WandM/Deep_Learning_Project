{
 "cells": [
  {
   "cell_type": "markdown",
   "id": "edde2132",
   "metadata": {
    "tags": [
     "papermill-error-cell-tag"
    ]
   },
   "source": [
    "<span style=\"color:red; font-family:Helvetica Neue, Helvetica, Arial, sans-serif; font-size:2em;\">An Exception was encountered at '<a href=\"#papermill-error-cell\">In [19]</a>'.</span>"
   ]
  },
  {
   "cell_type": "code",
   "execution_count": 1,
   "id": "57ddc186",
   "metadata": {
    "execution": {
     "iopub.execute_input": "2024-12-21T11:00:54.996537Z",
     "iopub.status.busy": "2024-12-21T11:00:54.996064Z",
     "iopub.status.idle": "2024-12-21T11:01:01.242094Z",
     "shell.execute_reply": "2024-12-21T11:01:01.240455Z"
    },
    "papermill": {
     "duration": 6.265192,
     "end_time": "2024-12-21T11:01:01.245861",
     "exception": false,
     "start_time": "2024-12-21T11:00:54.980669",
     "status": "completed"
    },
    "tags": []
   },
   "outputs": [
    {
     "name": "stdout",
     "output_type": "stream",
     "text": [
      "Requirement already satisfied: torch in /sciclone/data10/iahewababarand/.venv/lib/python3.9/site-packages (2.5.1)\r\n",
      "Requirement already satisfied: datasets in /sciclone/data10/iahewababarand/.venv/lib/python3.9/site-packages (3.1.0)\r\n",
      "Requirement already satisfied: filelock in /sciclone/data10/iahewababarand/.venv/lib/python3.9/site-packages (from torch) (3.16.1)\r\n",
      "Requirement already satisfied: typing-extensions>=4.8.0 in /sciclone/data10/iahewababarand/.venv/lib/python3.9/site-packages (from torch) (4.12.2)\r\n",
      "Requirement already satisfied: networkx in /sciclone/data10/iahewababarand/.venv/lib/python3.9/site-packages (from torch) (3.2.1)\r\n",
      "Requirement already satisfied: jinja2 in /sciclone/data10/iahewababarand/.venv/lib/python3.9/site-packages (from torch) (3.1.4)\r\n",
      "Requirement already satisfied: fsspec in /sciclone/data10/iahewababarand/.venv/lib/python3.9/site-packages (from torch) (2024.9.0)\r\n",
      "Requirement already satisfied: nvidia-cuda-nvrtc-cu12==12.4.127 in /sciclone/data10/iahewababarand/.venv/lib/python3.9/site-packages (from torch) (12.4.127)\r\n",
      "Requirement already satisfied: nvidia-cuda-runtime-cu12==12.4.127 in /sciclone/data10/iahewababarand/.venv/lib/python3.9/site-packages (from torch) (12.4.127)\r\n",
      "Requirement already satisfied: nvidia-cuda-cupti-cu12==12.4.127 in /sciclone/data10/iahewababarand/.venv/lib/python3.9/site-packages (from torch) (12.4.127)\r\n",
      "Requirement already satisfied: nvidia-cudnn-cu12==9.1.0.70 in /sciclone/data10/iahewababarand/.venv/lib/python3.9/site-packages (from torch) (9.1.0.70)\r\n",
      "Requirement already satisfied: nvidia-cublas-cu12==12.4.5.8 in /sciclone/data10/iahewababarand/.venv/lib/python3.9/site-packages (from torch) (12.4.5.8)\r\n",
      "Requirement already satisfied: nvidia-cufft-cu12==11.2.1.3 in /sciclone/data10/iahewababarand/.venv/lib/python3.9/site-packages (from torch) (11.2.1.3)\r\n",
      "Requirement already satisfied: nvidia-curand-cu12==10.3.5.147 in /sciclone/data10/iahewababarand/.venv/lib/python3.9/site-packages (from torch) (10.3.5.147)\r\n",
      "Requirement already satisfied: nvidia-cusolver-cu12==11.6.1.9 in /sciclone/data10/iahewababarand/.venv/lib/python3.9/site-packages (from torch) (11.6.1.9)\r\n",
      "Requirement already satisfied: nvidia-cusparse-cu12==12.3.1.170 in /sciclone/data10/iahewababarand/.venv/lib/python3.9/site-packages (from torch) (12.3.1.170)\r\n",
      "Requirement already satisfied: nvidia-nccl-cu12==2.21.5 in /sciclone/data10/iahewababarand/.venv/lib/python3.9/site-packages (from torch) (2.21.5)\r\n",
      "Requirement already satisfied: nvidia-nvtx-cu12==12.4.127 in /sciclone/data10/iahewababarand/.venv/lib/python3.9/site-packages (from torch) (12.4.127)\r\n",
      "Requirement already satisfied: nvidia-nvjitlink-cu12==12.4.127 in /sciclone/data10/iahewababarand/.venv/lib/python3.9/site-packages (from torch) (12.4.127)\r\n",
      "Requirement already satisfied: triton==3.1.0 in /sciclone/data10/iahewababarand/.venv/lib/python3.9/site-packages (from torch) (3.1.0)\r\n",
      "Requirement already satisfied: sympy==1.13.1 in /sciclone/data10/iahewababarand/.venv/lib/python3.9/site-packages (from torch) (1.13.1)\r\n"
     ]
    },
    {
     "name": "stdout",
     "output_type": "stream",
     "text": [
      "Requirement already satisfied: mpmath<1.4,>=1.1.0 in /sciclone/data10/iahewababarand/.venv/lib/python3.9/site-packages (from sympy==1.13.1->torch) (1.3.0)\r\n"
     ]
    },
    {
     "name": "stdout",
     "output_type": "stream",
     "text": [
      "Requirement already satisfied: numpy>=1.17 in /sciclone/data10/iahewababarand/.venv/lib/python3.9/site-packages (from datasets) (2.0.2)\r\n",
      "Requirement already satisfied: pyarrow>=15.0.0 in /sciclone/data10/iahewababarand/.venv/lib/python3.9/site-packages (from datasets) (18.0.0)\r\n",
      "Requirement already satisfied: dill<0.3.9,>=0.3.0 in /sciclone/data10/iahewababarand/.venv/lib/python3.9/site-packages (from datasets) (0.3.8)\r\n",
      "Requirement already satisfied: pandas in /sciclone/data10/iahewababarand/.venv/lib/python3.9/site-packages (from datasets) (2.2.3)\r\n",
      "Requirement already satisfied: requests>=2.32.2 in /sciclone/data10/iahewababarand/.venv/lib/python3.9/site-packages (from datasets) (2.32.3)\r\n",
      "Requirement already satisfied: tqdm>=4.66.3 in /sciclone/data10/iahewababarand/.venv/lib/python3.9/site-packages (from datasets) (4.66.6)\r\n",
      "Requirement already satisfied: xxhash in /sciclone/data10/iahewababarand/.venv/lib/python3.9/site-packages (from datasets) (3.5.0)\r\n",
      "Requirement already satisfied: multiprocess<0.70.17 in /sciclone/data10/iahewababarand/.venv/lib/python3.9/site-packages (from datasets) (0.70.16)\r\n",
      "Requirement already satisfied: aiohttp in /sciclone/data10/iahewababarand/.venv/lib/python3.9/site-packages (from datasets) (3.10.10)\r\n",
      "Requirement already satisfied: huggingface-hub>=0.23.0 in /sciclone/data10/iahewababarand/.venv/lib/python3.9/site-packages (from datasets) (0.26.2)\r\n",
      "Requirement already satisfied: packaging in /sciclone/data10/iahewababarand/.venv/lib/python3.9/site-packages (from datasets) (24.1)\r\n",
      "Requirement already satisfied: pyyaml>=5.1 in /sciclone/data10/iahewababarand/.venv/lib/python3.9/site-packages (from datasets) (6.0.2)\r\n"
     ]
    },
    {
     "name": "stdout",
     "output_type": "stream",
     "text": [
      "Requirement already satisfied: aiohappyeyeballs>=2.3.0 in /sciclone/data10/iahewababarand/.venv/lib/python3.9/site-packages (from aiohttp->datasets) (2.4.3)\r\n",
      "Requirement already satisfied: aiosignal>=1.1.2 in /sciclone/data10/iahewababarand/.venv/lib/python3.9/site-packages (from aiohttp->datasets) (1.3.1)\r\n",
      "Requirement already satisfied: attrs>=17.3.0 in /sciclone/data10/iahewababarand/.venv/lib/python3.9/site-packages (from aiohttp->datasets) (24.2.0)\r\n",
      "Requirement already satisfied: frozenlist>=1.1.1 in /sciclone/data10/iahewababarand/.venv/lib/python3.9/site-packages (from aiohttp->datasets) (1.5.0)\r\n",
      "Requirement already satisfied: multidict<7.0,>=4.5 in /sciclone/data10/iahewababarand/.venv/lib/python3.9/site-packages (from aiohttp->datasets) (6.1.0)\r\n",
      "Requirement already satisfied: yarl<2.0,>=1.12.0 in /sciclone/data10/iahewababarand/.venv/lib/python3.9/site-packages (from aiohttp->datasets) (1.17.1)\r\n",
      "Requirement already satisfied: async-timeout<5.0,>=4.0 in /sciclone/data10/iahewababarand/.venv/lib/python3.9/site-packages (from aiohttp->datasets) (4.0.3)\r\n"
     ]
    },
    {
     "name": "stdout",
     "output_type": "stream",
     "text": [
      "Requirement already satisfied: charset-normalizer<4,>=2 in /sciclone/data10/iahewababarand/.venv/lib/python3.9/site-packages (from requests>=2.32.2->datasets) (3.4.0)\r\n",
      "Requirement already satisfied: idna<4,>=2.5 in /sciclone/data10/iahewababarand/.venv/lib/python3.9/site-packages (from requests>=2.32.2->datasets) (3.10)\r\n",
      "Requirement already satisfied: urllib3<3,>=1.21.1 in /sciclone/data10/iahewababarand/.venv/lib/python3.9/site-packages (from requests>=2.32.2->datasets) (1.26.20)\r\n",
      "Requirement already satisfied: certifi>=2017.4.17 in /sciclone/data10/iahewababarand/.venv/lib/python3.9/site-packages (from requests>=2.32.2->datasets) (2024.8.30)\r\n"
     ]
    },
    {
     "name": "stdout",
     "output_type": "stream",
     "text": [
      "Requirement already satisfied: MarkupSafe>=2.0 in /sciclone/data10/iahewababarand/.venv/lib/python3.9/site-packages (from jinja2->torch) (3.0.2)\r\n"
     ]
    },
    {
     "name": "stdout",
     "output_type": "stream",
     "text": [
      "Requirement already satisfied: python-dateutil>=2.8.2 in /sciclone/data10/iahewababarand/.venv/lib/python3.9/site-packages (from pandas->datasets) (2.9.0.post0)\r\n",
      "Requirement already satisfied: pytz>=2020.1 in /sciclone/data10/iahewababarand/.venv/lib/python3.9/site-packages (from pandas->datasets) (2024.2)\r\n",
      "Requirement already satisfied: tzdata>=2022.7 in /sciclone/data10/iahewababarand/.venv/lib/python3.9/site-packages (from pandas->datasets) (2024.2)\r\n"
     ]
    },
    {
     "name": "stdout",
     "output_type": "stream",
     "text": [
      "Requirement already satisfied: six>=1.5 in /sciclone/data10/iahewababarand/.venv/lib/python3.9/site-packages (from python-dateutil>=2.8.2->pandas->datasets) (1.16.0)\r\n"
     ]
    },
    {
     "name": "stdout",
     "output_type": "stream",
     "text": [
      "Requirement already satisfied: propcache>=0.2.0 in /sciclone/data10/iahewababarand/.venv/lib/python3.9/site-packages (from yarl<2.0,>=1.12.0->aiohttp->datasets) (0.2.0)\r\n"
     ]
    },
    {
     "name": "stdout",
     "output_type": "stream",
     "text": [
      "Note: you may need to restart the kernel to use updated packages.\n"
     ]
    }
   ],
   "source": [
    "pip install torch datasets"
   ]
  },
  {
   "cell_type": "code",
   "execution_count": 2,
   "id": "57961ed4",
   "metadata": {
    "execution": {
     "iopub.execute_input": "2024-12-21T11:01:01.267991Z",
     "iopub.status.busy": "2024-12-21T11:01:01.267693Z",
     "iopub.status.idle": "2024-12-21T11:01:33.768868Z",
     "shell.execute_reply": "2024-12-21T11:01:33.767043Z"
    },
    "papermill": {
     "duration": 32.513736,
     "end_time": "2024-12-21T11:01:33.772437",
     "exception": false,
     "start_time": "2024-12-21T11:01:01.258701",
     "status": "completed"
    },
    "tags": []
   },
   "outputs": [],
   "source": [
    "import torch\n",
    "import torch.nn as nn\n",
    "import pandas as pd\n",
    "import json\n",
    "from torch.utils.data import Dataset, DataLoader, random_split\n",
    "import re\n",
    "from sklearn.utils import shuffle"
   ]
  },
  {
   "cell_type": "code",
   "execution_count": 3,
   "id": "68a36291",
   "metadata": {
    "execution": {
     "iopub.execute_input": "2024-12-21T11:01:33.795789Z",
     "iopub.status.busy": "2024-12-21T11:01:33.795038Z",
     "iopub.status.idle": "2024-12-21T11:01:43.232237Z",
     "shell.execute_reply": "2024-12-21T11:01:43.231450Z"
    },
    "papermill": {
     "duration": 9.44809,
     "end_time": "2024-12-21T11:01:43.233172",
     "exception": false,
     "start_time": "2024-12-21T11:01:33.785082",
     "status": "completed"
    },
    "tags": []
   },
   "outputs": [
    {
     "data": {
      "text/html": [
       "<div>\n",
       "<style scoped>\n",
       "    .dataframe tbody tr th:only-of-type {\n",
       "        vertical-align: middle;\n",
       "    }\n",
       "\n",
       "    .dataframe tbody tr th {\n",
       "        vertical-align: top;\n",
       "    }\n",
       "\n",
       "    .dataframe thead th {\n",
       "        text-align: right;\n",
       "    }\n",
       "</style>\n",
       "<table border=\"1\" class=\"dataframe\">\n",
       "  <thead>\n",
       "    <tr style=\"text-align: right;\">\n",
       "      <th></th>\n",
       "      <th>content_syntactic_blocstring</th>\n",
       "      <th>action_blocstring</th>\n",
       "      <th>changes_list_content_syntactic_</th>\n",
       "      <th>changes_list_action</th>\n",
       "      <th>src</th>\n",
       "      <th>userId</th>\n",
       "      <th>user_class</th>\n",
       "      <th>tweet_count</th>\n",
       "      <th>change_content_syntactic</th>\n",
       "      <th>change_action</th>\n",
       "      <th>change_change_dynamic_score</th>\n",
       "      <th>highest_change_in_content_syntactic</th>\n",
       "      <th>lowest_change_in_content_syntactic</th>\n",
       "      <th>standard_deviation_of_content_syntactic</th>\n",
       "      <th>highest_change_in_action</th>\n",
       "      <th>lowest_change_in_action</th>\n",
       "      <th>standard_deviation_of_action</th>\n",
       "      <th>diversity_action</th>\n",
       "      <th>diversity_content_syntactic</th>\n",
       "      <th>diversity_change_dynamics_score</th>\n",
       "    </tr>\n",
       "  </thead>\n",
       "  <tbody>\n",
       "    <tr>\n",
       "      <th>0</th>\n",
       "      <td>(mmmmmmmmqt)(mmmmmmmmqt)(mmmmmmmmqt)(mmmmmmmmq...</td>\n",
       "      <td>rprp⚀pr□prrprrrprpprprprprprpprprprp□rprprprrr...</td>\n",
       "      <td>[0.683772233983162, 0.00647286670992131, 0.801...</td>\n",
       "      <td>{'content_syntactic': [0.683772233983162, 0.00...</td>\n",
       "      <td>astroturf</td>\n",
       "      <td>146048090</td>\n",
       "      <td>bot</td>\n",
       "      <td>274</td>\n",
       "      <td>0.556376</td>\n",
       "      <td>0.297313</td>\n",
       "      <td>1.024345</td>\n",
       "      <td>0.938307</td>\n",
       "      <td>0.006473</td>\n",
       "      <td>0.275047</td>\n",
       "      <td>0.901294</td>\n",
       "      <td>0.054951</td>\n",
       "      <td>0.200933</td>\n",
       "      <td>0.653102</td>\n",
       "      <td>0.652532</td>\n",
       "      <td>0.450906</td>\n",
       "    </tr>\n",
       "    <tr>\n",
       "      <th>1</th>\n",
       "      <td>(mmmmmmmqt)(mmmmmmmqt)(mmmmmmmqt)(mmmmmmmqt)(m...</td>\n",
       "      <td>r□pr□rr□rp⚀r⚀TTTTTTT□r⚀p⚀π□p|⚀rr⚀rr⚀rr□r⚀r|⚀p⚀...</td>\n",
       "      <td>[0.0600874600144512, 0.022936062507937005, 0.0...</td>\n",
       "      <td>{'content_syntactic': [0.0600874600144512, 0.0...</td>\n",
       "      <td>astroturf</td>\n",
       "      <td>797927149856403456</td>\n",
       "      <td>bot</td>\n",
       "      <td>275</td>\n",
       "      <td>0.427565</td>\n",
       "      <td>0.484909</td>\n",
       "      <td>0.711994</td>\n",
       "      <td>1.000000</td>\n",
       "      <td>0.004220</td>\n",
       "      <td>0.356787</td>\n",
       "      <td>0.989180</td>\n",
       "      <td>0.068479</td>\n",
       "      <td>0.291316</td>\n",
       "      <td>0.707387</td>\n",
       "      <td>0.693840</td>\n",
       "      <td>0.151417</td>\n",
       "    </tr>\n",
       "    <tr>\n",
       "      <th>2</th>\n",
       "      <td>(mmt)(mmt)(qt)(qt)(qt)(mqt)(qt)(t)(qt)(qt)(Em)...</td>\n",
       "      <td>r□r⚀r⚀rr□rrr□r□r⚀rrr⚀r|⚁rrrrr□rrrrrr□rpprrrp□r...</td>\n",
       "      <td>[0.4050577935998917, 0.2173762078750736, 0.181...</td>\n",
       "      <td>{'content_syntactic': [0.4050577935998917, 0.2...</td>\n",
       "      <td>astroturf</td>\n",
       "      <td>1046169889138868225</td>\n",
       "      <td>bot</td>\n",
       "      <td>277</td>\n",
       "      <td>0.442671</td>\n",
       "      <td>0.284123</td>\n",
       "      <td>1.405920</td>\n",
       "      <td>1.000000</td>\n",
       "      <td>0.015253</td>\n",
       "      <td>0.265496</td>\n",
       "      <td>0.913974</td>\n",
       "      <td>0.045573</td>\n",
       "      <td>0.204972</td>\n",
       "      <td>0.676182</td>\n",
       "      <td>0.644029</td>\n",
       "      <td>0.297367</td>\n",
       "    </tr>\n",
       "    <tr>\n",
       "      <th>3</th>\n",
       "      <td>(mmt)(mmmmmmqt)(mmmmmmmmmqt)(mmt)(mmt)(qt)(mmm...</td>\n",
       "      <td>prrpp□rrrrrrrrrrrrrr□rr□rrr□rrprrrrrrr□prrrrrr...</td>\n",
       "      <td>[0.6288092648051271, 0.17944110183186945, 1.0,...</td>\n",
       "      <td>{'content_syntactic': [0.6288092648051271, 0.1...</td>\n",
       "      <td>astroturf</td>\n",
       "      <td>1085010463128195073</td>\n",
       "      <td>bot</td>\n",
       "      <td>244</td>\n",
       "      <td>0.368786</td>\n",
       "      <td>0.419595</td>\n",
       "      <td>1.029069</td>\n",
       "      <td>1.000000</td>\n",
       "      <td>0.111362</td>\n",
       "      <td>0.206134</td>\n",
       "      <td>1.000000</td>\n",
       "      <td>0.049906</td>\n",
       "      <td>0.306818</td>\n",
       "      <td>0.698081</td>\n",
       "      <td>0.620676</td>\n",
       "      <td>0.211830</td>\n",
       "    </tr>\n",
       "    <tr>\n",
       "      <th>4</th>\n",
       "      <td>(mmmmmmmqt)|(Em)|(t)(mmqt)(mt)(mmt)|(qt)(HUqt)...</td>\n",
       "      <td>p|⚁p|⚀p□p□p□p|⚁rrrrrrrrpr□prrprr□rrrprrprrrprp...</td>\n",
       "      <td>[1.0, 1.0, 0.7298648986655512, 0.8616571072267...</td>\n",
       "      <td>{'content_syntactic': [1.0, 1.0, 0.72986489866...</td>\n",
       "      <td>astroturf</td>\n",
       "      <td>1613166488</td>\n",
       "      <td>bot</td>\n",
       "      <td>245</td>\n",
       "      <td>0.618332</td>\n",
       "      <td>0.353069</td>\n",
       "      <td>0.605766</td>\n",
       "      <td>1.000000</td>\n",
       "      <td>0.209196</td>\n",
       "      <td>0.253005</td>\n",
       "      <td>0.849471</td>\n",
       "      <td>0.075654</td>\n",
       "      <td>0.199506</td>\n",
       "      <td>0.680286</td>\n",
       "      <td>0.766445</td>\n",
       "      <td>0.627025</td>\n",
       "    </tr>\n",
       "  </tbody>\n",
       "</table>\n",
       "</div>"
      ],
      "text/plain": [
       "                        content_syntactic_blocstring  \\\n",
       "0  (mmmmmmmmqt)(mmmmmmmmqt)(mmmmmmmmqt)(mmmmmmmmq...   \n",
       "1  (mmmmmmmqt)(mmmmmmmqt)(mmmmmmmqt)(mmmmmmmqt)(m...   \n",
       "2  (mmt)(mmt)(qt)(qt)(qt)(mqt)(qt)(t)(qt)(qt)(Em)...   \n",
       "3  (mmt)(mmmmmmqt)(mmmmmmmmmqt)(mmt)(mmt)(qt)(mmm...   \n",
       "4  (mmmmmmmqt)|(Em)|(t)(mmqt)(mt)(mmt)|(qt)(HUqt)...   \n",
       "\n",
       "                                   action_blocstring  \\\n",
       "0  rprp⚀pr□prrprrrprpprprprprprpprprprp□rprprprrr...   \n",
       "1  r□pr□rr□rp⚀r⚀TTTTTTT□r⚀p⚀π□p|⚀rr⚀rr⚀rr□r⚀r|⚀p⚀...   \n",
       "2  r□r⚀r⚀rr□rrr□r□r⚀rrr⚀r|⚁rrrrr□rrrrrr□rpprrrp□r...   \n",
       "3  prrpp□rrrrrrrrrrrrrr□rr□rrr□rrprrrrrrr□prrrrrr...   \n",
       "4  p|⚁p|⚀p□p□p□p|⚁rrrrrrrrpr□prrprr□rrrprrprrrprp...   \n",
       "\n",
       "                     changes_list_content_syntactic_  \\\n",
       "0  [0.683772233983162, 0.00647286670992131, 0.801...   \n",
       "1  [0.0600874600144512, 0.022936062507937005, 0.0...   \n",
       "2  [0.4050577935998917, 0.2173762078750736, 0.181...   \n",
       "3  [0.6288092648051271, 0.17944110183186945, 1.0,...   \n",
       "4  [1.0, 1.0, 0.7298648986655512, 0.8616571072267...   \n",
       "\n",
       "                                 changes_list_action        src  \\\n",
       "0  {'content_syntactic': [0.683772233983162, 0.00...  astroturf   \n",
       "1  {'content_syntactic': [0.0600874600144512, 0.0...  astroturf   \n",
       "2  {'content_syntactic': [0.4050577935998917, 0.2...  astroturf   \n",
       "3  {'content_syntactic': [0.6288092648051271, 0.1...  astroturf   \n",
       "4  {'content_syntactic': [1.0, 1.0, 0.72986489866...  astroturf   \n",
       "\n",
       "                userId user_class  tweet_count  change_content_syntactic  \\\n",
       "0            146048090        bot          274                  0.556376   \n",
       "1   797927149856403456        bot          275                  0.427565   \n",
       "2  1046169889138868225        bot          277                  0.442671   \n",
       "3  1085010463128195073        bot          244                  0.368786   \n",
       "4           1613166488        bot          245                  0.618332   \n",
       "\n",
       "   change_action  change_change_dynamic_score  \\\n",
       "0       0.297313                     1.024345   \n",
       "1       0.484909                     0.711994   \n",
       "2       0.284123                     1.405920   \n",
       "3       0.419595                     1.029069   \n",
       "4       0.353069                     0.605766   \n",
       "\n",
       "   highest_change_in_content_syntactic  lowest_change_in_content_syntactic  \\\n",
       "0                             0.938307                            0.006473   \n",
       "1                             1.000000                            0.004220   \n",
       "2                             1.000000                            0.015253   \n",
       "3                             1.000000                            0.111362   \n",
       "4                             1.000000                            0.209196   \n",
       "\n",
       "   standard_deviation_of_content_syntactic  highest_change_in_action  \\\n",
       "0                                 0.275047                  0.901294   \n",
       "1                                 0.356787                  0.989180   \n",
       "2                                 0.265496                  0.913974   \n",
       "3                                 0.206134                  1.000000   \n",
       "4                                 0.253005                  0.849471   \n",
       "\n",
       "   lowest_change_in_action  standard_deviation_of_action  diversity_action  \\\n",
       "0                 0.054951                      0.200933          0.653102   \n",
       "1                 0.068479                      0.291316          0.707387   \n",
       "2                 0.045573                      0.204972          0.676182   \n",
       "3                 0.049906                      0.306818          0.698081   \n",
       "4                 0.075654                      0.199506          0.680286   \n",
       "\n",
       "   diversity_content_syntactic  diversity_change_dynamics_score  \n",
       "0                     0.652532                         0.450906  \n",
       "1                     0.693840                         0.151417  \n",
       "2                     0.644029                         0.297367  \n",
       "3                     0.620676                         0.211830  \n",
       "4                     0.766445                         0.627025  "
      ]
     },
     "execution_count": 3,
     "metadata": {},
     "output_type": "execute_result"
    }
   ],
   "source": [
    "def get_data(filename):\n",
    "    \n",
    "    with open(filename, 'r', encoding='utf-8') as file:\n",
    "        data = json.load(file)\n",
    "\n",
    "    df = pd.DataFrame(data)\n",
    "    return df\n",
    "\n",
    "data = get_data('output_file copy.json')\n",
    "# data = get_data('./rnn/only_action_method/output_file copy.json')\n",
    "\n",
    "data.head()"
   ]
  },
  {
   "cell_type": "code",
   "execution_count": 4,
   "id": "79634415",
   "metadata": {
    "execution": {
     "iopub.execute_input": "2024-12-21T11:01:43.245427Z",
     "iopub.status.busy": "2024-12-21T11:01:43.244810Z",
     "iopub.status.idle": "2024-12-21T11:01:43.323013Z",
     "shell.execute_reply": "2024-12-21T11:01:43.322262Z"
    },
    "papermill": {
     "duration": 0.08524,
     "end_time": "2024-12-21T11:01:43.323972",
     "exception": false,
     "start_time": "2024-12-21T11:01:43.238732",
     "status": "completed"
    },
    "tags": []
   },
   "outputs": [
    {
     "name": "stdout",
     "output_type": "stream",
     "text": [
      "Original class distribution:\n",
      "user_class\n",
      "bot      32041\n",
      "human    27704\n",
      "Name: count, dtype: int64\n",
      "Balanced class distribution:\n",
      "user_class\n",
      "human    27704\n",
      "bot      27704\n",
      "Name: count, dtype: int64\n"
     ]
    }
   ],
   "source": [
    "print(\"Original class distribution:\")\n",
    "print(data['user_class'].value_counts())\n",
    "\n",
    "# Separate data by user_class\n",
    "bots = data[data['user_class'] == 'bot']\n",
    "humans = data[data['user_class'] == 'human']\n",
    "\n",
    "# Select the minimum class size\n",
    "min_class_size = min(len(bots), len(humans))\n",
    "\n",
    "# Downsample each class to the minimum class size\n",
    "bots_balanced = bots.sample(n=min_class_size, random_state=1)\n",
    "humans_balanced = humans.sample(n=min_class_size, random_state=1)\n",
    "\n",
    "# Combine the balanced classes\n",
    "balanced_data = pd.concat([bots_balanced, humans_balanced])\n",
    "\n",
    "# Shuffle the data\n",
    "balanced_data = shuffle(balanced_data, random_state=1).reset_index(drop=True)\n",
    "\n",
    "print(\"Balanced class distribution:\")\n",
    "print(balanced_data['user_class'].value_counts())\n",
    "\n",
    "data = balanced_data"
   ]
  },
  {
   "cell_type": "code",
   "execution_count": 5,
   "id": "020e57e8",
   "metadata": {
    "execution": {
     "iopub.execute_input": "2024-12-21T11:01:43.334796Z",
     "iopub.status.busy": "2024-12-21T11:01:43.334164Z",
     "iopub.status.idle": "2024-12-21T11:01:43.338721Z",
     "shell.execute_reply": "2024-12-21T11:01:43.337851Z"
    },
    "papermill": {
     "duration": 0.010563,
     "end_time": "2024-12-21T11:01:43.339498",
     "exception": false,
     "start_time": "2024-12-21T11:01:43.328935",
     "status": "completed"
    },
    "tags": []
   },
   "outputs": [
    {
     "name": "stdout",
     "output_type": "stream",
     "text": [
      "data shape (55408, 20)\n",
      "columns Index(['content_syntactic_blocstring', 'action_blocstring',\n",
      "       'changes_list_content_syntactic_', 'changes_list_action', 'src',\n",
      "       'userId', 'user_class', 'tweet_count', 'change_content_syntactic',\n",
      "       'change_action', 'change_change_dynamic_score',\n",
      "       'highest_change_in_content_syntactic',\n",
      "       'lowest_change_in_content_syntactic',\n",
      "       'standard_deviation_of_content_syntactic', 'highest_change_in_action',\n",
      "       'lowest_change_in_action', 'standard_deviation_of_action',\n",
      "       'diversity_action', 'diversity_content_syntactic',\n",
      "       'diversity_change_dynamics_score'],\n",
      "      dtype='object')\n"
     ]
    }
   ],
   "source": [
    "print(\"data shape\", data.shape)\n",
    "print(\"columns\", data.columns)"
   ]
  },
  {
   "cell_type": "code",
   "execution_count": 6,
   "id": "3427022c",
   "metadata": {
    "execution": {
     "iopub.execute_input": "2024-12-21T11:01:43.348898Z",
     "iopub.status.busy": "2024-12-21T11:01:43.348622Z",
     "iopub.status.idle": "2024-12-21T11:01:43.357345Z",
     "shell.execute_reply": "2024-12-21T11:01:43.356658Z"
    },
    "papermill": {
     "duration": 0.014089,
     "end_time": "2024-12-21T11:01:43.358106",
     "exception": false,
     "start_time": "2024-12-21T11:01:43.344017",
     "status": "completed"
    },
    "tags": []
   },
   "outputs": [],
   "source": [
    "class UserDataset(Dataset):\n",
    "    def __init__(self, data):\n",
    "        self.data = data\n",
    "    \n",
    "    def __len__(self):\n",
    "        return len(self.data)\n",
    "    \n",
    "    def __getitem__(self, idx):\n",
    "        text = self.data.loc[idx, 'action_blocstring'][:200]\n",
    "        label = 1 if self.data.loc[idx, 'user_class'] == 'bot' else 0\n",
    "        return {\n",
    "            'text': text, \n",
    "            'label': label \n",
    "        }\n",
    "\n",
    "dataset = UserDataset(data)\n",
    "\n",
    "train_size = int(0.7 * len(dataset))\n",
    "val_size = int(0.15 * len(dataset))\n",
    "test_size = len(dataset) - train_size - val_size\n",
    "\n",
    "train_dataset, val_dataset, test_dataset = random_split(dataset, [train_size, val_size, test_size])\n",
    "\n",
    "train_loader = DataLoader(train_dataset, batch_size=32, shuffle=True)\n",
    "val_loader = DataLoader(val_dataset, batch_size=32, shuffle=False)\n",
    "test_loader = DataLoader(test_dataset, batch_size=32, shuffle=False)\n",
    "\n",
    "# Example usage: Iterate through the test loader\n",
    "# for batch in val_loader:\n",
    "#     print(batch['text'], batch['label'])\n"
   ]
  },
  {
   "cell_type": "code",
   "execution_count": 7,
   "id": "70600ef6",
   "metadata": {
    "execution": {
     "iopub.execute_input": "2024-12-21T11:01:43.368612Z",
     "iopub.status.busy": "2024-12-21T11:01:43.368329Z",
     "iopub.status.idle": "2024-12-21T11:01:44.297705Z",
     "shell.execute_reply": "2024-12-21T11:01:44.296986Z"
    },
    "papermill": {
     "duration": 0.93601,
     "end_time": "2024-12-21T11:01:44.298482",
     "exception": false,
     "start_time": "2024-12-21T11:01:43.362472",
     "status": "completed"
    },
    "tags": []
   },
   "outputs": [
    {
     "name": "stdout",
     "output_type": "stream",
     "text": [
      "Vocab-size: 15\n",
      "vocab {'<pad>': 0, '<unk>': 1, '|': 2, 'r': 3, 'T': 4, '⚁': 5, '⚀': 6, '□': 7, 'p': 8, '⚂': 9, '⚃': 10, 'π': 11, '⚄': 12, 'ρ': 13, '⚅': 14}\n"
     ]
    }
   ],
   "source": [
    "# Counter: subclass of Python's dictionary used for counting hashable objects, in this case, tokens (words).\n",
    "# OrderedDict: subclass of Python's dictionary that remembers the insertion order of keys. It is used to store tokens in a specific order based on frequency.\n",
    "from collections import Counter, OrderedDict\n",
    "# re: A module for working with regular expressions, used to manipulate and clean text.\n",
    "import re\n",
    "\n",
    "# Token counts and vocab creation\n",
    "# Initializes an empty Counter object to hold the frequency of each token in the dataset.\n",
    "token_counts = Counter()\n",
    "\n",
    "# Define tokenizer\n",
    "def tokenizer(text):\n",
    "\n",
    "    #  replace | with \" \"\n",
    "    # text = text.replace(\"|\", \" \")\n",
    "\n",
    "    return list(text)\n",
    "\n",
    "# Tokenize the training data and populate token_counts\n",
    "for entry in train_dataset:  # Assuming train_dataset is a dataset with 'text'\n",
    "    line = entry['text']\n",
    "    tokens = tokenizer(line)\n",
    "    token_counts.update(tokens)\n",
    "\n",
    "# Sort tokens by frequency\n",
    "# token_counts.items() returns the tokens and their respective counts as a list of tuples (e.g., [(token1, count1), (token2, count2), ...])\n",
    "# key=lambda x: x[1] means that the sorting is based on the count (x[1]), which is the second element of each tuple\n",
    "# reverse=True means that the most frequent tokens appear first in the sorted list.\n",
    "sorted_by_freq_tuples = sorted(token_counts.items(), key=lambda x: x[1], reverse=True)\n",
    "\n",
    "# Create an ordered dictionary for the vocab\n",
    "ordered_dict = OrderedDict(sorted_by_freq_tuples)\n",
    "\n",
    "# The padding token (pad) is used to ensure that all sequences in a batch have the same length.\n",
    "# The unknown token (unk) is used to represent words that are not found in the model's vocabulary (the top 69021 words in your case).\n",
    "# Any word that doesn't appear in the vocabulary is replaced by the unk token during tokenization.\n",
    "# This is critical for handling unseen words during inference, where the model encounters words that were not present in the training data.\n",
    "# Create vocab dictionary with special tokens\n",
    "# Initializes the vocab dictionary with two special tokens\n",
    "vocab = {\"<pad>\": 0, \"<unk>\": 1}\n",
    "\n",
    "for idx, (token, count) in enumerate(ordered_dict.items(), start=2):  # Start from 2 to skip the special tokens\n",
    "    vocab[token] = idx\n",
    "\n",
    "\n",
    "# Print the vocabulary size (should be 69023)\n",
    "print('Vocab-size:', len(vocab))\n",
    "print('vocab', vocab)\n",
    "# --- Rationale:\n",
    "#\n",
    "# By assigning frequent words lower indices, we can optimize memory and computational efficiency.\n",
    "# Words that appear infrequently can either be assigned higher indices (in case we want to keep them) or omitted from the vocabulary entirely."
   ]
  },
  {
   "cell_type": "code",
   "execution_count": 8,
   "id": "facd9e15",
   "metadata": {
    "execution": {
     "iopub.execute_input": "2024-12-21T11:01:44.309939Z",
     "iopub.status.busy": "2024-12-21T11:01:44.309350Z",
     "iopub.status.idle": "2024-12-21T11:01:44.313926Z",
     "shell.execute_reply": "2024-12-21T11:01:44.313235Z"
    },
    "papermill": {
     "duration": 0.01061,
     "end_time": "2024-12-21T11:01:44.314688",
     "exception": false,
     "start_time": "2024-12-21T11:01:44.304078",
     "status": "completed"
    },
    "tags": []
   },
   "outputs": [
    {
     "name": "stdout",
     "output_type": "stream",
     "text": [
      "[1, 4, 1, 1, 1, 1, 1, 1, 2, 1, 9, 1, 1, 4, 1, 1, 1, 1, 1, 1, 2, 1, 14, 1, 1, 4, 1, 1, 1, 1, 1, 1, 1, 1, 7, 1, 1, 4, 1, 1, 1, 1, 1, 1, 1, 4, 1, 1, 1, 1, 1, 1, 1, 1, 7, 1, 1, 3, 1, 1, 1, 1, 1, 1, 1, 1, 6, 1, 1, 3, 1, 1, 1, 1, 1, 1, 1, 1, 6, 1, 1, 3, 1, 1, 1, 1, 1, 1, 1, 1, 1, 2, 1, 6, 1, 1, 3, 1, 1, 1, 1, 1, 1, 1, 2, 1, 6, 1, 1, 3, 1, 1, 1, 1, 1, 1, 1, 1, 1, 7, 1]\n"
     ]
    }
   ],
   "source": [
    "# action T|⚂T|⚅T□TT□r⚀r⚀r|⚀r|⚀r□r⚀r|⚂rTT□r□r⚀r□r|⚀r⚀r⚀r\n",
    "\n",
    "# content (t)|(t)|(Et)(E)(Et)(qt)(Et)(EHUt)|(Et)|(mUt)(HHHHHHt)(qt)|(qt)(E)(Et)(mmmqt)(Et)(HUt)(Ut)|(qt)(mqt)(EHUt)\n",
    "\n",
    "# text (T -> t)|(⚂)(T -> t)|(⚅)(T -> Et)(□)(T -> E)(T -> Et)(□)(r -> qt)(⚀)(r -> Et)(⚀)(r -> EHUt)|(⚀)(r -> Et)|(⚀)(r -> mUt)(□)\n",
    "\n",
    "def encode(tokens):\n",
    "    #If the token does not exist in the vocab, the function returns the index of the <unk>\n",
    "    return [vocab.get(token, vocab[\"<unk>\"]) for token in tokens]\n",
    "# Example usage\n",
    "print(encode(tokenizer('(T -> t)|(⚂)(T -> t)|(⚅)(T -> Et)(□)(T -> E)(T -> Et)(□)(r -> qt)(⚀)(r -> Et)(⚀)(r -> EHUt)|(⚀)(r -> Et)|(⚀)(r -> mUt)(□)')))  # Should output something like [11, 7, 35, 457]"
   ]
  },
  {
   "cell_type": "code",
   "execution_count": 9,
   "id": "a7d60e77",
   "metadata": {
    "execution": {
     "iopub.execute_input": "2024-12-21T11:01:44.325402Z",
     "iopub.status.busy": "2024-12-21T11:01:44.325130Z",
     "iopub.status.idle": "2024-12-21T11:01:44.478678Z",
     "shell.execute_reply": "2024-12-21T11:01:44.478341Z"
    },
    "papermill": {
     "duration": 0.160318,
     "end_time": "2024-12-21T11:01:44.479473",
     "exception": false,
     "start_time": "2024-12-21T11:01:44.319155",
     "status": "completed"
    },
    "tags": []
   },
   "outputs": [],
   "source": [
    "if not torch.cuda.is_available():\n",
    "    print(\"Warning: this code may be very slow on CPU\")"
   ]
  },
  {
   "cell_type": "code",
   "execution_count": 10,
   "id": "9a2afca2",
   "metadata": {
    "execution": {
     "iopub.execute_input": "2024-12-21T11:01:44.490237Z",
     "iopub.status.busy": "2024-12-21T11:01:44.489656Z",
     "iopub.status.idle": "2024-12-21T11:01:44.494901Z",
     "shell.execute_reply": "2024-12-21T11:01:44.494575Z"
    },
    "papermill": {
     "duration": 0.010795,
     "end_time": "2024-12-21T11:01:44.495687",
     "exception": false,
     "start_time": "2024-12-21T11:01:44.484892",
     "status": "completed"
    },
    "tags": []
   },
   "outputs": [],
   "source": [
    "device = torch.device(\"cuda\" if torch.cuda.is_available() else \"cpu\")\n",
    "\n",
    "# Use the manual vocab creation process from earlier\n",
    "# Assuming `vocab` and `tokenizer` are already defined\n",
    "\n",
    "#text_pipeline = lambda x: [vocab[token] for token in tokenizer(x)]\n",
    "# Updated text pipeline\n",
    "text_pipeline = lambda x: [vocab.get(token, vocab[\"<unk>\"]) for token in tokenizer(x)]\n",
    "\n",
    "label_pipeline = lambda x: float(x)  # Convert to float to match the output\n",
    "\n",
    "# Batch collation function\n",
    "def collate_batch(batch):\n",
    "    label_list, text_list, lengths = [], [], []\n",
    "    for entry in batch:  # Each 'entry' is a dictionary with 'text' and 'label'\n",
    "        _label = entry['label']\n",
    "        _text = entry['text']\n",
    "\n",
    "        # Process labels and text\n",
    "        label_list.append(label_pipeline(_label))  # Convert labels using label_pipeline\n",
    "        processed_text = torch.tensor(text_pipeline(_text), dtype=torch.int64)  # Convert text to indices\n",
    "\n",
    "        # Store processed text and its length\n",
    "        text_list.append(processed_text)\n",
    "        lengths.append(processed_text.size(0))\n",
    "\n",
    "    # Convert lists to tensors and pad sequences\n",
    "    label_list = torch.tensor(label_list)\n",
    "    lengths = torch.tensor(lengths)\n",
    "    padded_text_list = nn.utils.rnn.pad_sequence(text_list, batch_first=True)\n",
    "\n",
    "    return padded_text_list.to(device), label_list.to(device), lengths.to(device)"
   ]
  },
  {
   "cell_type": "code",
   "execution_count": 11,
   "id": "784b4a6f",
   "metadata": {
    "execution": {
     "iopub.execute_input": "2024-12-21T11:01:44.506348Z",
     "iopub.status.busy": "2024-12-21T11:01:44.506082Z",
     "iopub.status.idle": "2024-12-21T11:01:44.888256Z",
     "shell.execute_reply": "2024-12-21T11:01:44.887235Z"
    },
    "papermill": {
     "duration": 0.388665,
     "end_time": "2024-12-21T11:01:44.889190",
     "exception": false,
     "start_time": "2024-12-21T11:01:44.500525",
     "status": "completed"
    },
    "tags": []
   },
   "outputs": [
    {
     "name": "stdout",
     "output_type": "stream",
     "text": [
      "Text batch: tensor([[ 8,  7,  8,  8,  8,  8,  8,  8,  8,  2,  5,  8,  8,  8,  7,  8,  7,  8,\n",
      "          8,  8,  6,  8,  7,  4,  7,  8,  7,  8,  7,  8,  7,  4,  6,  4,  2,  6,\n",
      "         11,  7,  8,  8,  7,  8,  2,  5,  8,  6,  8,  2,  6,  4,  6,  8,  8,  8,\n",
      "          8,  7,  8,  8,  6,  8,  8,  7,  8,  7,  8,  2,  6,  8,  2,  5,  3,  6,\n",
      "          8,  2,  6,  8,  8,  2,  6,  8,  2,  5,  4,  2,  6,  4,  6,  4,  6,  8,\n",
      "          2,  5,  4,  2,  5,  4,  2,  6,  4,  2,  5,  4,  6,  8,  8,  2,  5,  8,\n",
      "          8,  8,  8,  8,  8,  3,  7,  8,  8,  8,  6,  8,  2,  6,  4,  2,  5,  8,\n",
      "          8,  6,  8,  8,  6,  4,  7,  8,  7,  8,  7,  8,  2,  6,  8,  2,  6,  8,\n",
      "          2,  5,  4,  7,  8,  8,  7,  8,  6,  8,  8,  2,  6,  8,  2,  5,  8,  7,\n",
      "          8,  3,  7,  8,  3,  7,  4,  2,  6,  4,  8,  6,  8,  8,  8,  6,  8,  8,\n",
      "          7,  8,  7,  8,  6,  8, 11,  2,  6,  4,  2,  5,  8,  8,  6,  8,  8,  8,\n",
      "          6,  8],\n",
      "        [ 4,  2,  5,  4,  6,  3,  7,  4,  6,  4,  2,  6,  4,  2,  5,  4,  6,  4,\n",
      "          2,  5,  8,  2,  9,  4,  2,  6,  4,  2,  9,  4,  2, 10,  4,  2, 10,  4,\n",
      "          2,  9,  4,  2,  9,  4,  2,  9,  4,  2, 10,  4,  2,  9,  4,  2, 10,  4,\n",
      "          4,  2, 14,  4,  6,  4,  2,  6,  3,  6,  3,  2,  6,  3,  6,  3,  2,  5,\n",
      "          4,  4,  7,  4,  6,  3,  6,  3,  7,  3,  2,  5,  3,  2,  9,  4,  4,  2,\n",
      "          5,  3,  2,  5,  4,  7,  4,  2,  9,  4,  2,  6,  3,  6,  3,  6,  3,  2,\n",
      "          7,  3,  2,  5,  3,  2,  9,  4,  4,  7,  3,  6,  3,  3,  2,  5,  4,  4,\n",
      "          6,  3,  7,  3,  7,  3,  0,  0,  0,  0,  0,  0,  0,  0,  0,  0,  0,  0,\n",
      "          0,  0,  0,  0,  0,  0,  0,  0,  0,  0,  0,  0,  0,  0,  0,  0,  0,  0,\n",
      "          0,  0,  0,  0,  0,  0,  0,  0,  0,  0,  0,  0,  0,  0,  0,  0,  0,  0,\n",
      "          0,  0,  0,  0,  0,  0,  0,  0,  0,  0,  0,  0,  0,  0,  0,  0,  0,  0,\n",
      "          0,  0],\n",
      "        [ 8,  6,  8,  2,  5,  8,  2,  5,  4,  2,  5,  8,  2,  5,  8,  2,  6,  4,\n",
      "          6,  4,  2,  9,  8,  2,  5,  8,  2,  5,  8,  2,  5,  8,  2,  5,  8,  6,\n",
      "          8,  2,  9,  8,  7,  4,  2,  5,  4,  2,  5,  4,  2,  6,  8,  8,  2,  5,\n",
      "          4,  2,  9,  8,  2,  5,  8,  2,  9,  8,  2,  6,  8,  2,  5,  8,  2,  5,\n",
      "          8,  2,  5,  8,  7,  8,  6,  8,  2,  9,  4,  2,  5,  4,  2,  5,  8,  2,\n",
      "          6,  8,  2,  9,  8,  2,  9,  4,  2,  5,  8,  2,  5,  8,  2,  5,  8,  2,\n",
      "          5,  8,  2,  5,  8,  2,  9,  8,  7,  8,  2,  5,  4,  2,  5,  4,  2,  6,\n",
      "          8,  2,  5,  8,  2,  9,  8,  2,  6,  8,  2,  5,  4,  2,  5,  4,  2,  5,\n",
      "          8,  2,  5,  8,  2,  6,  4,  2,  5,  8,  2,  5,  4,  6,  8,  2,  5,  4,\n",
      "          2,  5,  4,  2,  9,  4,  7,  8,  2,  5,  8,  2,  5,  8,  2,  5,  8,  7,\n",
      "          4,  2,  5,  8,  7,  4,  2,  5,  8,  2,  5,  4,  2,  5,  8,  2,  5,  8,\n",
      "          2,  5],\n",
      "        [ 4,  7,  4,  2, 12,  8,  2, 10,  4,  7,  4,  2, 12,  4,  7, 11,  2, 14,\n",
      "          3,  2, 10,  3,  2, 12,  4,  3,  4,  6,  3,  6,  3,  6,  3,  2,  6,  3,\n",
      "          7,  3,  7,  3,  7,  3,  2,  9,  4,  6,  4,  2,  6,  4,  6,  3,  7,  4,\n",
      "          6,  3,  6,  3,  6,  3,  2,  6,  3,  6,  3,  2,  9,  4,  2,  6,  3,  7,\n",
      "          3,  6,  3,  6,  3,  6,  3,  2,  6,  3,  6,  3,  2,  6,  3,  6,  3,  2,\n",
      "          9,  4,  7,  3,  7,  4,  7,  3,  6,  3,  2,  6,  3,  6,  3,  6,  3,  6,\n",
      "          3,  2,  9,  4,  4,  6,  3,  2,  7,  3,  6,  3,  2,  5,  3,  2,  5,  3,\n",
      "          4,  0,  0,  0,  0,  0,  0,  0,  0,  0,  0,  0,  0,  0,  0,  0,  0,  0,\n",
      "          0,  0,  0,  0,  0,  0,  0,  0,  0,  0,  0,  0,  0,  0,  0,  0,  0,  0,\n",
      "          0,  0,  0,  0,  0,  0,  0,  0,  0,  0,  0,  0,  0,  0,  0,  0,  0,  0,\n",
      "          0,  0,  0,  0,  0,  0,  0,  0,  0,  0,  0,  0,  0,  0,  0,  0,  0,  0,\n",
      "          0,  0]], device='cuda:0')\n",
      "Label batch: tensor([0., 1., 0., 1.], device='cuda:0')\n",
      "Length batch: tensor([200, 132, 200, 127], device='cuda:0')\n",
      "Text batch shape: torch.Size([4, 200])\n"
     ]
    }
   ],
   "source": [
    "#-----  Example usage with DataLoader -----#\n",
    "## Take a small batch\n",
    "\n",
    "dataloader = DataLoader(train_dataset, batch_size=4, shuffle=False, collate_fn=collate_batch)\n",
    "text_batch, label_batch, length_batch = next(iter(dataloader))\n",
    "\n",
    "# Print the output batch\n",
    "print(\"Text batch:\", text_batch)\n",
    "print(\"Label batch:\", label_batch)\n",
    "print(\"Length batch:\", length_batch)\n",
    "print(\"Text batch shape:\", text_batch.shape)"
   ]
  },
  {
   "cell_type": "code",
   "execution_count": 12,
   "id": "02cf9567",
   "metadata": {
    "execution": {
     "iopub.execute_input": "2024-12-21T11:01:44.905472Z",
     "iopub.status.busy": "2024-12-21T11:01:44.904860Z",
     "iopub.status.idle": "2024-12-21T11:01:44.909083Z",
     "shell.execute_reply": "2024-12-21T11:01:44.908351Z"
    },
    "papermill": {
     "duration": 0.011801,
     "end_time": "2024-12-21T11:01:44.909882",
     "exception": false,
     "start_time": "2024-12-21T11:01:44.898081",
     "status": "completed"
    },
    "tags": []
   },
   "outputs": [],
   "source": [
    "## Batching the datasets\n",
    "batch_size = 32\n",
    "vocab_size = len(vocab)\n",
    "\n",
    "train_dl = DataLoader(train_dataset, batch_size=batch_size,\n",
    "                      shuffle=True, collate_fn=collate_batch)\n",
    "val_dl = DataLoader(val_dataset, batch_size=batch_size,\n",
    "                      shuffle=False, collate_fn=collate_batch)\n",
    "test_dl = DataLoader(test_dataset, batch_size=batch_size,\n",
    "                     shuffle=False, collate_fn=collate_batch)"
   ]
  },
  {
   "cell_type": "code",
   "execution_count": 13,
   "id": "4c68bb56",
   "metadata": {
    "execution": {
     "iopub.execute_input": "2024-12-21T11:01:44.919867Z",
     "iopub.status.busy": "2024-12-21T11:01:44.919596Z",
     "iopub.status.idle": "2024-12-21T11:01:44.925286Z",
     "shell.execute_reply": "2024-12-21T11:01:44.924962Z"
    },
    "papermill": {
     "duration": 0.011586,
     "end_time": "2024-12-21T11:01:44.926047",
     "exception": false,
     "start_time": "2024-12-21T11:01:44.914461",
     "status": "completed"
    },
    "tags": []
   },
   "outputs": [],
   "source": [
    "class RNN(nn.Module):\n",
    "    def __init__(self, vocab_size, embed_dim, rnn_hidden_size, fc_hidden_size, num_layers=2, dropout_rate=0.5):\n",
    "        super().__init__()\n",
    "        self.embedding = nn.Embedding(vocab_size, embed_dim, padding_idx=0)\n",
    "        self.rnn = nn.LSTM(embed_dim, rnn_hidden_size, num_layers=num_layers, \n",
    "                           batch_first=True, dropout=dropout_rate)  # Add num_layers and dropout between layers\n",
    "        self.dropout = nn.Dropout(dropout_rate)  # Explicit dropout layer\n",
    "        self.fc1 = nn.Linear(rnn_hidden_size, fc_hidden_size)\n",
    "        self.relu = nn.ReLU()\n",
    "        self.fc2 = nn.Linear(fc_hidden_size, 1)\n",
    "        self.sigmoid = nn.Sigmoid()\n",
    "\n",
    "    def forward(self, text, lengths):\n",
    "        # Embedding Layer\n",
    "        out = self.embedding(text)\n",
    "        \n",
    "        # Pack the padded sequence\n",
    "        out = nn.utils.rnn.pack_padded_sequence(out, lengths.cpu().numpy(), \n",
    "                                                enforce_sorted=False, batch_first=True)\n",
    "        \n",
    "        # LSTM Layers\n",
    "        out, (hidden, cell) = self.rnn(out)\n",
    "        \n",
    "        # Take the hidden state of the last layer\n",
    "        out = hidden[-1, :, :]  # Shape: (batch_size, rnn_hidden_size)\n",
    "        \n",
    "        # Fully Connected Layers\n",
    "        out = self.fc1(out)\n",
    "        out = self.relu(out)\n",
    "        out = self.dropout(out)  # Dropout for FC layer\n",
    "        out = self.fc2(out)\n",
    "        out = self.sigmoid(out)\n",
    "        \n",
    "        return out"
   ]
  },
  {
   "cell_type": "code",
   "execution_count": 14,
   "id": "1d3abc70",
   "metadata": {
    "execution": {
     "iopub.execute_input": "2024-12-21T11:01:44.936027Z",
     "iopub.status.busy": "2024-12-21T11:01:44.935758Z",
     "iopub.status.idle": "2024-12-21T11:01:44.940502Z",
     "shell.execute_reply": "2024-12-21T11:01:44.940148Z"
    },
    "papermill": {
     "duration": 0.010809,
     "end_time": "2024-12-21T11:01:44.941269",
     "exception": false,
     "start_time": "2024-12-21T11:01:44.930460",
     "status": "completed"
    },
    "tags": []
   },
   "outputs": [],
   "source": [
    "def train_epoch(dataloader, model, optimizer, loss_fn):\n",
    "    model.train()\n",
    "    total_acc, total_loss = 0, 0\n",
    "    for text_batch, label_batch, lengths in dataloader:  # Loop through batches in dataloader\n",
    "        optimizer.zero_grad()\n",
    "        pred = model(text_batch, lengths)[:, 0]\n",
    "        loss = loss_fn(pred, label_batch)\n",
    "        loss.backward()\n",
    "        optimizer.step()\n",
    "        total_acc += ((pred >= 0.5).float() == label_batch).float().sum().item()\n",
    "        total_loss += loss.item() * label_batch.size(0)\n",
    "    return total_acc / len(dataloader.dataset), total_loss / len(dataloader.dataset)\n",
    "\n",
    "def evaluate_epoch(dataloader, model, loss_fn):\n",
    "    model.eval()\n",
    "    total_acc, total_loss = 0, 0\n",
    "    with torch.no_grad():\n",
    "        for text_batch, label_batch, lengths in dataloader:  # Loop through batches in dataloader\n",
    "            pred = model(text_batch, lengths)[:, 0]\n",
    "            loss = loss_fn(pred, label_batch)\n",
    "            total_acc += ((pred >= 0.5).float() == label_batch).float().sum().item()\n",
    "            total_loss += loss.item() * label_batch.size(0)\n",
    "    return total_acc / len(dataloader.dataset), total_loss / len(dataloader.dataset)"
   ]
  },
  {
   "cell_type": "code",
   "execution_count": 15,
   "id": "d6c68902",
   "metadata": {
    "execution": {
     "iopub.execute_input": "2024-12-21T11:01:44.951391Z",
     "iopub.status.busy": "2024-12-21T11:01:44.951243Z",
     "iopub.status.idle": "2024-12-21T11:01:44.954273Z",
     "shell.execute_reply": "2024-12-21T11:01:44.953913Z"
    },
    "papermill": {
     "duration": 0.009514,
     "end_time": "2024-12-21T11:01:44.955040",
     "exception": false,
     "start_time": "2024-12-21T11:01:44.945526",
     "status": "completed"
    },
    "tags": []
   },
   "outputs": [],
   "source": [
    "# # Grid search for hyperparameter tuning\n",
    "# import itertools\n",
    "\n",
    "# # Hyperparameter ranges\n",
    "# param_grid = {\n",
    "#     'lr': [0.001],\n",
    "#     'embed_dim': [16, 32, 64],\n",
    "#     'rnn_hidden_size': [32, 64, 128],\n",
    "#     'fc_hidden_size': [32, 64, 128],\n",
    "#     'num_layers': [1, 2, 3],  # Add num_layers\n",
    "#     'dropout_rate': [0, 0.3, 0.5]  # Add dropout_rate\n",
    "# }\n",
    "\n",
    "# # Generate all combinations of hyperparameters\n",
    "# param_combinations = list(itertools.product(\n",
    "#     param_grid['lr'],\n",
    "#     param_grid['embed_dim'],\n",
    "#     param_grid['rnn_hidden_size'],\n",
    "#     param_grid['fc_hidden_size'],\n",
    "#     param_grid['num_layers'],\n",
    "#     param_grid['dropout_rate']\n",
    "# ))\n",
    "\n",
    "# # Track results\n",
    "# results = []\n",
    "\n",
    "# # Grid search loop\n",
    "# for lr, embed_dim, rnn_hidden_size, fc_hidden_size, num_layers, dropout_rate in param_combinations:\n",
    "#     print(f\"Testing with lr={lr}, embed_dim={embed_dim}, rnn_hidden_size={rnn_hidden_size}, \"\n",
    "#           f\"fc_hidden_size={fc_hidden_size}, num_layers={num_layers}, dropout_rate={dropout_rate}\")\n",
    "    \n",
    "#     # Initialize model and optimizer for current hyperparameters\n",
    "#     model = RNN(vocab_size, embed_dim, rnn_hidden_size, fc_hidden_size, \n",
    "#                 num_layers=num_layers, dropout_rate=dropout_rate).to(device)\n",
    "#     optimizer = torch.optim.Adam(model.parameters(), lr=lr)\n",
    "#     loss_fn = nn.BCELoss()\n",
    "\n",
    "#     # Train and evaluate for a few epochs (to save time during grid search)\n",
    "#     for epoch in range(5):  # Shortened training for grid search\n",
    "#         train_epoch(train_dl, model, optimizer, loss_fn)\n",
    "\n",
    "#     acc_valid, _ = evaluate_epoch(val_dl, model, loss_fn)\n",
    "\n",
    "#     print({\n",
    "#         'lr': lr,\n",
    "#         'embed_dim': embed_dim,\n",
    "#         'rnn_hidden_size': rnn_hidden_size,\n",
    "#         'fc_hidden_size': fc_hidden_size,\n",
    "#         'num_layers': num_layers,\n",
    "#         'dropout_rate': dropout_rate,\n",
    "#         'val_accuracy': acc_valid\n",
    "#     })\n",
    "#     # Store results\n",
    "#     results.append({\n",
    "#         'lr': lr,\n",
    "#         'embed_dim': embed_dim,\n",
    "#         'rnn_hidden_size': rnn_hidden_size,\n",
    "#         'fc_hidden_size': fc_hidden_size,\n",
    "#         'num_layers': num_layers,\n",
    "#         'dropout_rate': dropout_rate,\n",
    "#         'val_accuracy': acc_valid\n",
    "#     })\n",
    "\n",
    "# # Convert results to DataFrame for easier analysis\n",
    "# import pandas as pd\n",
    "# results_df = pd.DataFrame(results)\n",
    "\n",
    "# # Find the best hyperparameter combination\n",
    "# best_params = results_df.loc[results_df['val_accuracy'].idxmax()]\n",
    "\n",
    "# print(\"Best hyperparameters:\")\n",
    "# print(best_params)\n",
    "\n",
    "# # Save the results for future reference\n",
    "# results_df.to_csv('grid_search_results.csv', index=False)\n"
   ]
  },
  {
   "cell_type": "code",
   "execution_count": 16,
   "id": "8083ca4e",
   "metadata": {
    "execution": {
     "iopub.execute_input": "2024-12-21T11:01:44.965350Z",
     "iopub.status.busy": "2024-12-21T11:01:44.965205Z",
     "iopub.status.idle": "2024-12-21T11:01:44.967459Z",
     "shell.execute_reply": "2024-12-21T11:01:44.967095Z"
    },
    "papermill": {
     "duration": 0.008736,
     "end_time": "2024-12-21T11:01:44.968256",
     "exception": false,
     "start_time": "2024-12-21T11:01:44.959520",
     "status": "completed"
    },
    "tags": []
   },
   "outputs": [],
   "source": [
    "lr                   = 0.001\n",
    "embed_dim            = 64\n",
    "rnn_hidden_size      = 128\n",
    "fc_hidden_size       = 64\n",
    "num_layers           = 1\n",
    "dropout_rate         = 0.3"
   ]
  },
  {
   "cell_type": "code",
   "execution_count": 17,
   "id": "6da3dcee",
   "metadata": {
    "execution": {
     "iopub.execute_input": "2024-12-21T11:01:44.977768Z",
     "iopub.status.busy": "2024-12-21T11:01:44.977622Z",
     "iopub.status.idle": "2024-12-21T11:12:08.266591Z",
     "shell.execute_reply": "2024-12-21T11:12:08.265822Z"
    },
    "papermill": {
     "duration": 623.294968,
     "end_time": "2024-12-21T11:12:08.267537",
     "exception": false,
     "start_time": "2024-12-21T11:01:44.972569",
     "status": "completed"
    },
    "tags": []
   },
   "outputs": [
    {
     "name": "stderr",
     "output_type": "stream",
     "text": [
      "/sciclone/data10/iahewababarand/.venv/lib64/python3.9/site-packages/torch/nn/modules/rnn.py:123: UserWarning: dropout option adds dropout after all but last recurrent layer, so non-zero dropout expects num_layers greater than 1, but got dropout=0.3 and num_layers=1\n",
      "  warnings.warn(\n"
     ]
    },
    {
     "name": "stdout",
     "output_type": "stream",
     "text": [
      "Epoch 1 - accuracy: 0.8195, val_accuracy: 0.8720\n"
     ]
    },
    {
     "name": "stdout",
     "output_type": "stream",
     "text": [
      "Epoch 2 - accuracy: 0.8628, val_accuracy: 0.8709\n"
     ]
    },
    {
     "name": "stdout",
     "output_type": "stream",
     "text": [
      "Epoch 3 - accuracy: 0.8768, val_accuracy: 0.8793\n"
     ]
    },
    {
     "name": "stdout",
     "output_type": "stream",
     "text": [
      "Epoch 4 - accuracy: 0.8795, val_accuracy: 0.8799\n"
     ]
    },
    {
     "name": "stdout",
     "output_type": "stream",
     "text": [
      "Epoch 5 - accuracy: 0.8822, val_accuracy: 0.8834\n"
     ]
    },
    {
     "name": "stdout",
     "output_type": "stream",
     "text": [
      "Epoch 6 - accuracy: 0.8846, val_accuracy: 0.8841\n"
     ]
    },
    {
     "name": "stdout",
     "output_type": "stream",
     "text": [
      "Epoch 7 - accuracy: 0.8862, val_accuracy: 0.8868\n"
     ]
    },
    {
     "name": "stdout",
     "output_type": "stream",
     "text": [
      "Epoch 8 - accuracy: 0.8871, val_accuracy: 0.8862\n"
     ]
    },
    {
     "name": "stdout",
     "output_type": "stream",
     "text": [
      "Epoch 9 - accuracy: 0.8892, val_accuracy: 0.8858\n"
     ]
    },
    {
     "name": "stdout",
     "output_type": "stream",
     "text": [
      "Epoch 10 - accuracy: 0.8910, val_accuracy: 0.8903\n"
     ]
    },
    {
     "name": "stdout",
     "output_type": "stream",
     "text": [
      "Epoch 11 - accuracy: 0.8900, val_accuracy: 0.8889\n"
     ]
    },
    {
     "name": "stdout",
     "output_type": "stream",
     "text": [
      "Epoch 12 - accuracy: 0.8927, val_accuracy: 0.8864\n"
     ]
    },
    {
     "name": "stdout",
     "output_type": "stream",
     "text": [
      "Epoch 13 - accuracy: 0.8938, val_accuracy: 0.8874\n"
     ]
    },
    {
     "name": "stdout",
     "output_type": "stream",
     "text": [
      "Epoch 14 - accuracy: 0.8951, val_accuracy: 0.8863\n"
     ]
    },
    {
     "name": "stdout",
     "output_type": "stream",
     "text": [
      "Epoch 15 - accuracy: 0.8951, val_accuracy: 0.8873\n"
     ]
    },
    {
     "name": "stdout",
     "output_type": "stream",
     "text": [
      "Epoch 16 - accuracy: 0.8974, val_accuracy: 0.8888\n"
     ]
    },
    {
     "name": "stdout",
     "output_type": "stream",
     "text": [
      "Epoch 17 - accuracy: 0.8974, val_accuracy: 0.8906\n"
     ]
    },
    {
     "name": "stdout",
     "output_type": "stream",
     "text": [
      "Epoch 18 - accuracy: 0.8997, val_accuracy: 0.8877\n"
     ]
    },
    {
     "name": "stdout",
     "output_type": "stream",
     "text": [
      "Epoch 19 - accuracy: 0.9010, val_accuracy: 0.8882\n"
     ]
    },
    {
     "name": "stdout",
     "output_type": "stream",
     "text": [
      "Epoch 20 - accuracy: 0.9008, val_accuracy: 0.8881\n"
     ]
    },
    {
     "name": "stdout",
     "output_type": "stream",
     "text": [
      "Epoch 21 - accuracy: 0.9019, val_accuracy: 0.8869\n"
     ]
    },
    {
     "name": "stdout",
     "output_type": "stream",
     "text": [
      "Epoch 22 - accuracy: 0.9034, val_accuracy: 0.8891\n"
     ]
    },
    {
     "name": "stdout",
     "output_type": "stream",
     "text": [
      "Epoch 23 - accuracy: 0.9049, val_accuracy: 0.8877\n"
     ]
    },
    {
     "name": "stdout",
     "output_type": "stream",
     "text": [
      "Epoch 24 - accuracy: 0.9056, val_accuracy: 0.8881\n"
     ]
    },
    {
     "name": "stdout",
     "output_type": "stream",
     "text": [
      "Epoch 25 - accuracy: 0.9075, val_accuracy: 0.8868\n"
     ]
    },
    {
     "name": "stdout",
     "output_type": "stream",
     "text": [
      "Epoch 26 - accuracy: 0.9107, val_accuracy: 0.8856\n"
     ]
    },
    {
     "name": "stdout",
     "output_type": "stream",
     "text": [
      "Epoch 27 - accuracy: 0.9119, val_accuracy: 0.8874\n"
     ]
    },
    {
     "name": "stdout",
     "output_type": "stream",
     "text": [
      "Epoch 28 - accuracy: 0.9134, val_accuracy: 0.8875\n"
     ]
    },
    {
     "name": "stdout",
     "output_type": "stream",
     "text": [
      "Epoch 29 - accuracy: 0.9135, val_accuracy: 0.8883\n"
     ]
    },
    {
     "name": "stdout",
     "output_type": "stream",
     "text": [
      "Epoch 30 - accuracy: 0.9154, val_accuracy: 0.8882\n"
     ]
    },
    {
     "name": "stdout",
     "output_type": "stream",
     "text": [
      "Epoch 31 - accuracy: 0.9181, val_accuracy: 0.8858\n"
     ]
    },
    {
     "name": "stdout",
     "output_type": "stream",
     "text": [
      "Epoch 32 - accuracy: 0.9189, val_accuracy: 0.8852\n"
     ]
    },
    {
     "name": "stdout",
     "output_type": "stream",
     "text": [
      "Epoch 33 - accuracy: 0.9205, val_accuracy: 0.8828\n"
     ]
    },
    {
     "name": "stdout",
     "output_type": "stream",
     "text": [
      "Epoch 34 - accuracy: 0.9242, val_accuracy: 0.8824\n"
     ]
    },
    {
     "name": "stdout",
     "output_type": "stream",
     "text": [
      "Epoch 35 - accuracy: 0.9258, val_accuracy: 0.8808\n"
     ]
    },
    {
     "name": "stdout",
     "output_type": "stream",
     "text": [
      "Epoch 36 - accuracy: 0.9273, val_accuracy: 0.8803\n"
     ]
    },
    {
     "name": "stdout",
     "output_type": "stream",
     "text": [
      "Epoch 37 - accuracy: 0.9284, val_accuracy: 0.8798\n"
     ]
    },
    {
     "name": "stdout",
     "output_type": "stream",
     "text": [
      "Epoch 38 - accuracy: 0.9307, val_accuracy: 0.8757\n"
     ]
    },
    {
     "name": "stdout",
     "output_type": "stream",
     "text": [
      "Epoch 39 - accuracy: 0.9322, val_accuracy: 0.8803\n"
     ]
    },
    {
     "name": "stdout",
     "output_type": "stream",
     "text": [
      "Epoch 40 - accuracy: 0.9325, val_accuracy: 0.8792\n"
     ]
    },
    {
     "name": "stdout",
     "output_type": "stream",
     "text": [
      "Epoch 41 - accuracy: 0.9370, val_accuracy: 0.8772\n"
     ]
    },
    {
     "name": "stdout",
     "output_type": "stream",
     "text": [
      "Epoch 42 - accuracy: 0.9373, val_accuracy: 0.8756\n"
     ]
    },
    {
     "name": "stdout",
     "output_type": "stream",
     "text": [
      "Epoch 43 - accuracy: 0.9391, val_accuracy: 0.8768\n"
     ]
    },
    {
     "name": "stdout",
     "output_type": "stream",
     "text": [
      "Epoch 44 - accuracy: 0.9413, val_accuracy: 0.8778\n"
     ]
    },
    {
     "name": "stdout",
     "output_type": "stream",
     "text": [
      "Epoch 45 - accuracy: 0.9408, val_accuracy: 0.8740\n"
     ]
    },
    {
     "name": "stdout",
     "output_type": "stream",
     "text": [
      "Epoch 46 - accuracy: 0.9411, val_accuracy: 0.8699\n"
     ]
    },
    {
     "name": "stdout",
     "output_type": "stream",
     "text": [
      "Epoch 47 - accuracy: 0.9429, val_accuracy: 0.8758\n"
     ]
    },
    {
     "name": "stdout",
     "output_type": "stream",
     "text": [
      "Epoch 48 - accuracy: 0.9450, val_accuracy: 0.8755\n"
     ]
    },
    {
     "name": "stdout",
     "output_type": "stream",
     "text": [
      "Epoch 49 - accuracy: 0.9445, val_accuracy: 0.8830\n"
     ]
    },
    {
     "name": "stdout",
     "output_type": "stream",
     "text": [
      "Epoch 50 - accuracy: 0.9482, val_accuracy: 0.8784\n"
     ]
    }
   ],
   "source": [
    "model = RNN(vocab_size, embed_dim, rnn_hidden_size, fc_hidden_size, \n",
    "                num_layers=num_layers, dropout_rate=dropout_rate).to(device)\n",
    "\n",
    "optimizer = torch.optim.Adam(model.parameters(), lr=lr)\n",
    "loss_fn = nn.BCELoss()\n",
    "\n",
    "# Initialize lists to store training and validation metrics for each epoch\n",
    "train_accuracies = []\n",
    "train_losses = []\n",
    "valid_accuracies = []\n",
    "valid_losses = []\n",
    "\n",
    "num_epochs = 50\n",
    "\n",
    "# Final training loop\n",
    "for epoch in range(num_epochs):\n",
    "    acc_train, loss_train = train_epoch(train_dl, model, optimizer, loss_fn)\n",
    "    acc_valid, loss_valid = evaluate_epoch(val_dl, model, loss_fn)\n",
    "\n",
    "    # Store metrics\n",
    "    train_accuracies.append(acc_train)\n",
    "    train_losses.append(loss_train)\n",
    "    valid_accuracies.append(acc_valid)\n",
    "    valid_losses.append(loss_valid)\n",
    "\n",
    "    print(f'Epoch {epoch + 1} - accuracy: {acc_train:.4f}, val_accuracy: {acc_valid:.4f}')"
   ]
  },
  {
   "cell_type": "code",
   "execution_count": 18,
   "id": "80dc12a0",
   "metadata": {
    "execution": {
     "iopub.execute_input": "2024-12-21T11:12:08.281837Z",
     "iopub.status.busy": "2024-12-21T11:12:08.281321Z",
     "iopub.status.idle": "2024-12-21T11:12:14.690756Z",
     "shell.execute_reply": "2024-12-21T11:12:14.689561Z"
    },
    "papermill": {
     "duration": 6.418485,
     "end_time": "2024-12-21T11:12:14.693055",
     "exception": false,
     "start_time": "2024-12-21T11:12:08.274570",
     "status": "completed"
    },
    "tags": []
   },
   "outputs": [],
   "source": [
    "import matplotlib.pyplot as plt\n",
    "import seaborn as sns\n",
    "from sklearn.metrics import confusion_matrix\n",
    "import numpy as np"
   ]
  },
  {
   "cell_type": "markdown",
   "id": "64c6623a",
   "metadata": {
    "tags": [
     "papermill-error-cell-tag"
    ]
   },
   "source": [
    "<span id=\"papermill-error-cell\" style=\"color:red; font-family:Helvetica Neue, Helvetica, Arial, sans-serif; font-size:2em;\">Execution using papermill encountered an exception here and stopped:</span>"
   ]
  },
  {
   "cell_type": "code",
   "execution_count": 19,
   "id": "b9762fbe",
   "metadata": {
    "execution": {
     "iopub.execute_input": "2024-12-21T11:12:14.716920Z",
     "iopub.status.busy": "2024-12-21T11:12:14.716652Z",
     "iopub.status.idle": "2024-12-21T11:12:17.534643Z",
     "shell.execute_reply": "2024-12-21T11:12:17.531440Z"
    },
    "papermill": {
     "duration": 2.829529,
     "end_time": "2024-12-21T11:12:17.536493",
     "exception": true,
     "start_time": "2024-12-21T11:12:14.706964",
     "status": "failed"
    },
    "tags": []
   },
   "outputs": [
    {
     "ename": "FileNotFoundError",
     "evalue": "[Errno 2] No such file or directory: '/sciclone/data10/iahewababarand/Deep_Learning_Project/classifiers/current/images/lstm-action-accuracy.png'",
     "output_type": "error",
     "traceback": [
      "\u001b[0;31m---------------------------------------------------------------------------\u001b[0m",
      "\u001b[0;31mFileNotFoundError\u001b[0m                         Traceback (most recent call last)",
      "Cell \u001b[0;32mIn[19], line 20\u001b[0m\n\u001b[1;32m     18\u001b[0m plt\u001b[38;5;241m.\u001b[39mtitle(\u001b[38;5;124m'\u001b[39m\u001b[38;5;124mTraining and Validation Accuracy\u001b[39m\u001b[38;5;124m'\u001b[39m)\n\u001b[1;32m     19\u001b[0m plt\u001b[38;5;241m.\u001b[39mlegend()\n\u001b[0;32m---> 20\u001b[0m \u001b[43mplt\u001b[49m\u001b[38;5;241;43m.\u001b[39;49m\u001b[43msavefig\u001b[49m\u001b[43m(\u001b[49m\u001b[38;5;124;43m'\u001b[39;49m\u001b[38;5;124;43mimages/lstm-action-accuracy.png\u001b[39;49m\u001b[38;5;124;43m'\u001b[39;49m\u001b[43m)\u001b[49m\n\u001b[1;32m     21\u001b[0m plt\u001b[38;5;241m.\u001b[39mshow()\n\u001b[1;32m     23\u001b[0m \u001b[38;5;66;03m# Generate confusion matrix\u001b[39;00m\n",
      "File \u001b[0;32m/sciclone/data10/iahewababarand/.venv/lib64/python3.9/site-packages/matplotlib/pyplot.py:1228\u001b[0m, in \u001b[0;36msavefig\u001b[0;34m(*args, **kwargs)\u001b[0m\n\u001b[1;32m   1225\u001b[0m fig \u001b[38;5;241m=\u001b[39m gcf()\n\u001b[1;32m   1226\u001b[0m \u001b[38;5;66;03m# savefig default implementation has no return, so mypy is unhappy\u001b[39;00m\n\u001b[1;32m   1227\u001b[0m \u001b[38;5;66;03m# presumably this is here because subclasses can return?\u001b[39;00m\n\u001b[0;32m-> 1228\u001b[0m res \u001b[38;5;241m=\u001b[39m \u001b[43mfig\u001b[49m\u001b[38;5;241;43m.\u001b[39;49m\u001b[43msavefig\u001b[49m\u001b[43m(\u001b[49m\u001b[38;5;241;43m*\u001b[39;49m\u001b[43margs\u001b[49m\u001b[43m,\u001b[49m\u001b[43m \u001b[49m\u001b[38;5;241;43m*\u001b[39;49m\u001b[38;5;241;43m*\u001b[39;49m\u001b[43mkwargs\u001b[49m\u001b[43m)\u001b[49m  \u001b[38;5;66;03m# type: ignore[func-returns-value]\u001b[39;00m\n\u001b[1;32m   1229\u001b[0m fig\u001b[38;5;241m.\u001b[39mcanvas\u001b[38;5;241m.\u001b[39mdraw_idle()  \u001b[38;5;66;03m# Need this if 'transparent=True', to reset colors.\u001b[39;00m\n\u001b[1;32m   1230\u001b[0m \u001b[38;5;28;01mreturn\u001b[39;00m res\n",
      "File \u001b[0;32m/sciclone/data10/iahewababarand/.venv/lib64/python3.9/site-packages/matplotlib/figure.py:3395\u001b[0m, in \u001b[0;36mFigure.savefig\u001b[0;34m(self, fname, transparent, **kwargs)\u001b[0m\n\u001b[1;32m   3393\u001b[0m     \u001b[38;5;28;01mfor\u001b[39;00m ax \u001b[38;5;129;01min\u001b[39;00m \u001b[38;5;28mself\u001b[39m\u001b[38;5;241m.\u001b[39maxes:\n\u001b[1;32m   3394\u001b[0m         _recursively_make_axes_transparent(stack, ax)\n\u001b[0;32m-> 3395\u001b[0m \u001b[38;5;28;43mself\u001b[39;49m\u001b[38;5;241;43m.\u001b[39;49m\u001b[43mcanvas\u001b[49m\u001b[38;5;241;43m.\u001b[39;49m\u001b[43mprint_figure\u001b[49m\u001b[43m(\u001b[49m\u001b[43mfname\u001b[49m\u001b[43m,\u001b[49m\u001b[43m \u001b[49m\u001b[38;5;241;43m*\u001b[39;49m\u001b[38;5;241;43m*\u001b[39;49m\u001b[43mkwargs\u001b[49m\u001b[43m)\u001b[49m\n",
      "File \u001b[0;32m/sciclone/data10/iahewababarand/.venv/lib64/python3.9/site-packages/matplotlib/backend_bases.py:2204\u001b[0m, in \u001b[0;36mFigureCanvasBase.print_figure\u001b[0;34m(self, filename, dpi, facecolor, edgecolor, orientation, format, bbox_inches, pad_inches, bbox_extra_artists, backend, **kwargs)\u001b[0m\n\u001b[1;32m   2200\u001b[0m \u001b[38;5;28;01mtry\u001b[39;00m:\n\u001b[1;32m   2201\u001b[0m     \u001b[38;5;66;03m# _get_renderer may change the figure dpi (as vector formats\u001b[39;00m\n\u001b[1;32m   2202\u001b[0m     \u001b[38;5;66;03m# force the figure dpi to 72), so we need to set it again here.\u001b[39;00m\n\u001b[1;32m   2203\u001b[0m     \u001b[38;5;28;01mwith\u001b[39;00m cbook\u001b[38;5;241m.\u001b[39m_setattr_cm(\u001b[38;5;28mself\u001b[39m\u001b[38;5;241m.\u001b[39mfigure, dpi\u001b[38;5;241m=\u001b[39mdpi):\n\u001b[0;32m-> 2204\u001b[0m         result \u001b[38;5;241m=\u001b[39m \u001b[43mprint_method\u001b[49m\u001b[43m(\u001b[49m\n\u001b[1;32m   2205\u001b[0m \u001b[43m            \u001b[49m\u001b[43mfilename\u001b[49m\u001b[43m,\u001b[49m\n\u001b[1;32m   2206\u001b[0m \u001b[43m            \u001b[49m\u001b[43mfacecolor\u001b[49m\u001b[38;5;241;43m=\u001b[39;49m\u001b[43mfacecolor\u001b[49m\u001b[43m,\u001b[49m\n\u001b[1;32m   2207\u001b[0m \u001b[43m            \u001b[49m\u001b[43medgecolor\u001b[49m\u001b[38;5;241;43m=\u001b[39;49m\u001b[43medgecolor\u001b[49m\u001b[43m,\u001b[49m\n\u001b[1;32m   2208\u001b[0m \u001b[43m            \u001b[49m\u001b[43morientation\u001b[49m\u001b[38;5;241;43m=\u001b[39;49m\u001b[43morientation\u001b[49m\u001b[43m,\u001b[49m\n\u001b[1;32m   2209\u001b[0m \u001b[43m            \u001b[49m\u001b[43mbbox_inches_restore\u001b[49m\u001b[38;5;241;43m=\u001b[39;49m\u001b[43m_bbox_inches_restore\u001b[49m\u001b[43m,\u001b[49m\n\u001b[1;32m   2210\u001b[0m \u001b[43m            \u001b[49m\u001b[38;5;241;43m*\u001b[39;49m\u001b[38;5;241;43m*\u001b[39;49m\u001b[43mkwargs\u001b[49m\u001b[43m)\u001b[49m\n\u001b[1;32m   2211\u001b[0m \u001b[38;5;28;01mfinally\u001b[39;00m:\n\u001b[1;32m   2212\u001b[0m     \u001b[38;5;28;01mif\u001b[39;00m bbox_inches \u001b[38;5;129;01mand\u001b[39;00m restore_bbox:\n",
      "File \u001b[0;32m/sciclone/data10/iahewababarand/.venv/lib64/python3.9/site-packages/matplotlib/backend_bases.py:2054\u001b[0m, in \u001b[0;36mFigureCanvasBase._switch_canvas_and_return_print_method.<locals>.<lambda>\u001b[0;34m(*args, **kwargs)\u001b[0m\n\u001b[1;32m   2050\u001b[0m     optional_kws \u001b[38;5;241m=\u001b[39m {  \u001b[38;5;66;03m# Passed by print_figure for other renderers.\u001b[39;00m\n\u001b[1;32m   2051\u001b[0m         \u001b[38;5;124m\"\u001b[39m\u001b[38;5;124mdpi\u001b[39m\u001b[38;5;124m\"\u001b[39m, \u001b[38;5;124m\"\u001b[39m\u001b[38;5;124mfacecolor\u001b[39m\u001b[38;5;124m\"\u001b[39m, \u001b[38;5;124m\"\u001b[39m\u001b[38;5;124medgecolor\u001b[39m\u001b[38;5;124m\"\u001b[39m, \u001b[38;5;124m\"\u001b[39m\u001b[38;5;124morientation\u001b[39m\u001b[38;5;124m\"\u001b[39m,\n\u001b[1;32m   2052\u001b[0m         \u001b[38;5;124m\"\u001b[39m\u001b[38;5;124mbbox_inches_restore\u001b[39m\u001b[38;5;124m\"\u001b[39m}\n\u001b[1;32m   2053\u001b[0m     skip \u001b[38;5;241m=\u001b[39m optional_kws \u001b[38;5;241m-\u001b[39m {\u001b[38;5;241m*\u001b[39minspect\u001b[38;5;241m.\u001b[39msignature(meth)\u001b[38;5;241m.\u001b[39mparameters}\n\u001b[0;32m-> 2054\u001b[0m     print_method \u001b[38;5;241m=\u001b[39m functools\u001b[38;5;241m.\u001b[39mwraps(meth)(\u001b[38;5;28;01mlambda\u001b[39;00m \u001b[38;5;241m*\u001b[39margs, \u001b[38;5;241m*\u001b[39m\u001b[38;5;241m*\u001b[39mkwargs: \u001b[43mmeth\u001b[49m\u001b[43m(\u001b[49m\n\u001b[1;32m   2055\u001b[0m \u001b[43m        \u001b[49m\u001b[38;5;241;43m*\u001b[39;49m\u001b[43margs\u001b[49m\u001b[43m,\u001b[49m\u001b[43m \u001b[49m\u001b[38;5;241;43m*\u001b[39;49m\u001b[38;5;241;43m*\u001b[39;49m\u001b[43m{\u001b[49m\u001b[43mk\u001b[49m\u001b[43m:\u001b[49m\u001b[43m \u001b[49m\u001b[43mv\u001b[49m\u001b[43m \u001b[49m\u001b[38;5;28;43;01mfor\u001b[39;49;00m\u001b[43m \u001b[49m\u001b[43mk\u001b[49m\u001b[43m,\u001b[49m\u001b[43m \u001b[49m\u001b[43mv\u001b[49m\u001b[43m \u001b[49m\u001b[38;5;129;43;01min\u001b[39;49;00m\u001b[43m \u001b[49m\u001b[43mkwargs\u001b[49m\u001b[38;5;241;43m.\u001b[39;49m\u001b[43mitems\u001b[49m\u001b[43m(\u001b[49m\u001b[43m)\u001b[49m\u001b[43m \u001b[49m\u001b[38;5;28;43;01mif\u001b[39;49;00m\u001b[43m \u001b[49m\u001b[43mk\u001b[49m\u001b[43m \u001b[49m\u001b[38;5;129;43;01mnot\u001b[39;49;00m\u001b[43m \u001b[49m\u001b[38;5;129;43;01min\u001b[39;49;00m\u001b[43m \u001b[49m\u001b[43mskip\u001b[49m\u001b[43m}\u001b[49m\u001b[43m)\u001b[49m)\n\u001b[1;32m   2056\u001b[0m \u001b[38;5;28;01melse\u001b[39;00m:  \u001b[38;5;66;03m# Let third-parties do as they see fit.\u001b[39;00m\n\u001b[1;32m   2057\u001b[0m     print_method \u001b[38;5;241m=\u001b[39m meth\n",
      "File \u001b[0;32m/sciclone/data10/iahewababarand/.venv/lib64/python3.9/site-packages/matplotlib/backends/backend_agg.py:496\u001b[0m, in \u001b[0;36mFigureCanvasAgg.print_png\u001b[0;34m(self, filename_or_obj, metadata, pil_kwargs)\u001b[0m\n\u001b[1;32m    449\u001b[0m \u001b[38;5;28;01mdef\u001b[39;00m \u001b[38;5;21mprint_png\u001b[39m(\u001b[38;5;28mself\u001b[39m, filename_or_obj, \u001b[38;5;241m*\u001b[39m, metadata\u001b[38;5;241m=\u001b[39m\u001b[38;5;28;01mNone\u001b[39;00m, pil_kwargs\u001b[38;5;241m=\u001b[39m\u001b[38;5;28;01mNone\u001b[39;00m):\n\u001b[1;32m    450\u001b[0m \u001b[38;5;250m    \u001b[39m\u001b[38;5;124;03m\"\"\"\u001b[39;00m\n\u001b[1;32m    451\u001b[0m \u001b[38;5;124;03m    Write the figure to a PNG file.\u001b[39;00m\n\u001b[1;32m    452\u001b[0m \n\u001b[0;32m   (...)\u001b[0m\n\u001b[1;32m    494\u001b[0m \u001b[38;5;124;03m        *metadata*, including the default 'Software' key.\u001b[39;00m\n\u001b[1;32m    495\u001b[0m \u001b[38;5;124;03m    \"\"\"\u001b[39;00m\n\u001b[0;32m--> 496\u001b[0m     \u001b[38;5;28;43mself\u001b[39;49m\u001b[38;5;241;43m.\u001b[39;49m\u001b[43m_print_pil\u001b[49m\u001b[43m(\u001b[49m\u001b[43mfilename_or_obj\u001b[49m\u001b[43m,\u001b[49m\u001b[43m \u001b[49m\u001b[38;5;124;43m\"\u001b[39;49m\u001b[38;5;124;43mpng\u001b[39;49m\u001b[38;5;124;43m\"\u001b[39;49m\u001b[43m,\u001b[49m\u001b[43m \u001b[49m\u001b[43mpil_kwargs\u001b[49m\u001b[43m,\u001b[49m\u001b[43m \u001b[49m\u001b[43mmetadata\u001b[49m\u001b[43m)\u001b[49m\n",
      "File \u001b[0;32m/sciclone/data10/iahewababarand/.venv/lib64/python3.9/site-packages/matplotlib/backends/backend_agg.py:445\u001b[0m, in \u001b[0;36mFigureCanvasAgg._print_pil\u001b[0;34m(self, filename_or_obj, fmt, pil_kwargs, metadata)\u001b[0m\n\u001b[1;32m    440\u001b[0m \u001b[38;5;250m\u001b[39m\u001b[38;5;124;03m\"\"\"\u001b[39;00m\n\u001b[1;32m    441\u001b[0m \u001b[38;5;124;03mDraw the canvas, then save it using `.image.imsave` (to which\u001b[39;00m\n\u001b[1;32m    442\u001b[0m \u001b[38;5;124;03m*pil_kwargs* and *metadata* are forwarded).\u001b[39;00m\n\u001b[1;32m    443\u001b[0m \u001b[38;5;124;03m\"\"\"\u001b[39;00m\n\u001b[1;32m    444\u001b[0m FigureCanvasAgg\u001b[38;5;241m.\u001b[39mdraw(\u001b[38;5;28mself\u001b[39m)\n\u001b[0;32m--> 445\u001b[0m \u001b[43mmpl\u001b[49m\u001b[38;5;241;43m.\u001b[39;49m\u001b[43mimage\u001b[49m\u001b[38;5;241;43m.\u001b[39;49m\u001b[43mimsave\u001b[49m\u001b[43m(\u001b[49m\n\u001b[1;32m    446\u001b[0m \u001b[43m    \u001b[49m\u001b[43mfilename_or_obj\u001b[49m\u001b[43m,\u001b[49m\u001b[43m \u001b[49m\u001b[38;5;28;43mself\u001b[39;49m\u001b[38;5;241;43m.\u001b[39;49m\u001b[43mbuffer_rgba\u001b[49m\u001b[43m(\u001b[49m\u001b[43m)\u001b[49m\u001b[43m,\u001b[49m\u001b[43m \u001b[49m\u001b[38;5;28;43mformat\u001b[39;49m\u001b[38;5;241;43m=\u001b[39;49m\u001b[43mfmt\u001b[49m\u001b[43m,\u001b[49m\u001b[43m \u001b[49m\u001b[43morigin\u001b[49m\u001b[38;5;241;43m=\u001b[39;49m\u001b[38;5;124;43m\"\u001b[39;49m\u001b[38;5;124;43mupper\u001b[39;49m\u001b[38;5;124;43m\"\u001b[39;49m\u001b[43m,\u001b[49m\n\u001b[1;32m    447\u001b[0m \u001b[43m    \u001b[49m\u001b[43mdpi\u001b[49m\u001b[38;5;241;43m=\u001b[39;49m\u001b[38;5;28;43mself\u001b[39;49m\u001b[38;5;241;43m.\u001b[39;49m\u001b[43mfigure\u001b[49m\u001b[38;5;241;43m.\u001b[39;49m\u001b[43mdpi\u001b[49m\u001b[43m,\u001b[49m\u001b[43m \u001b[49m\u001b[43mmetadata\u001b[49m\u001b[38;5;241;43m=\u001b[39;49m\u001b[43mmetadata\u001b[49m\u001b[43m,\u001b[49m\u001b[43m \u001b[49m\u001b[43mpil_kwargs\u001b[49m\u001b[38;5;241;43m=\u001b[39;49m\u001b[43mpil_kwargs\u001b[49m\u001b[43m)\u001b[49m\n",
      "File \u001b[0;32m/sciclone/data10/iahewababarand/.venv/lib64/python3.9/site-packages/matplotlib/image.py:1676\u001b[0m, in \u001b[0;36mimsave\u001b[0;34m(fname, arr, vmin, vmax, cmap, format, origin, dpi, metadata, pil_kwargs)\u001b[0m\n\u001b[1;32m   1674\u001b[0m pil_kwargs\u001b[38;5;241m.\u001b[39msetdefault(\u001b[38;5;124m\"\u001b[39m\u001b[38;5;124mformat\u001b[39m\u001b[38;5;124m\"\u001b[39m, \u001b[38;5;28mformat\u001b[39m)\n\u001b[1;32m   1675\u001b[0m pil_kwargs\u001b[38;5;241m.\u001b[39msetdefault(\u001b[38;5;124m\"\u001b[39m\u001b[38;5;124mdpi\u001b[39m\u001b[38;5;124m\"\u001b[39m, (dpi, dpi))\n\u001b[0;32m-> 1676\u001b[0m \u001b[43mimage\u001b[49m\u001b[38;5;241;43m.\u001b[39;49m\u001b[43msave\u001b[49m\u001b[43m(\u001b[49m\u001b[43mfname\u001b[49m\u001b[43m,\u001b[49m\u001b[43m \u001b[49m\u001b[38;5;241;43m*\u001b[39;49m\u001b[38;5;241;43m*\u001b[39;49m\u001b[43mpil_kwargs\u001b[49m\u001b[43m)\u001b[49m\n",
      "File \u001b[0;32m/sciclone/data10/iahewababarand/.venv/lib64/python3.9/site-packages/PIL/Image.py:2600\u001b[0m, in \u001b[0;36mImage.save\u001b[0;34m(self, fp, format, **params)\u001b[0m\n\u001b[1;32m   2598\u001b[0m         fp \u001b[38;5;241m=\u001b[39m builtins\u001b[38;5;241m.\u001b[39mopen(filename, \u001b[38;5;124m\"\u001b[39m\u001b[38;5;124mr+b\u001b[39m\u001b[38;5;124m\"\u001b[39m)\n\u001b[1;32m   2599\u001b[0m     \u001b[38;5;28;01melse\u001b[39;00m:\n\u001b[0;32m-> 2600\u001b[0m         fp \u001b[38;5;241m=\u001b[39m \u001b[43mbuiltins\u001b[49m\u001b[38;5;241;43m.\u001b[39;49m\u001b[43mopen\u001b[49m\u001b[43m(\u001b[49m\u001b[43mfilename\u001b[49m\u001b[43m,\u001b[49m\u001b[43m \u001b[49m\u001b[38;5;124;43m\"\u001b[39;49m\u001b[38;5;124;43mw+b\u001b[39;49m\u001b[38;5;124;43m\"\u001b[39;49m\u001b[43m)\u001b[49m\n\u001b[1;32m   2601\u001b[0m \u001b[38;5;28;01melse\u001b[39;00m:\n\u001b[1;32m   2602\u001b[0m     fp \u001b[38;5;241m=\u001b[39m cast(IO[\u001b[38;5;28mbytes\u001b[39m], fp)\n",
      "\u001b[0;31mFileNotFoundError\u001b[0m: [Errno 2] No such file or directory: '/sciclone/data10/iahewababarand/Deep_Learning_Project/classifiers/current/images/lstm-action-accuracy.png'"
     ]
    },
    {
     "data": {
      "image/png": "[encoded data removed]",
      "text/plain": [
       "<Figure size 1400x500 with 2 Axes>"
      ]
     },
     "metadata": {},
     "output_type": "display_data"
    }
   ],
   "source": [
    "# Plotting training and validation losses\n",
    "plt.figure(figsize=(14, 5))\n",
    "\n",
    "plt.subplot(1, 2, 1)\n",
    "plt.plot(range(1, num_epochs + 1), train_losses, label='Training Loss')\n",
    "plt.plot(range(1, num_epochs + 1), valid_losses, label='Validation Loss')\n",
    "plt.xlabel('Epoch')\n",
    "plt.ylabel('Loss')\n",
    "plt.title('Training and Validation Loss')\n",
    "plt.legend()\n",
    "\n",
    "# Plotting training and validation accuracies\n",
    "plt.subplot(1, 2, 2)\n",
    "plt.plot(range(1, num_epochs + 1), train_accuracies, label='Training Accuracy')\n",
    "plt.plot(range(1, num_epochs + 1), valid_accuracies, label='Validation Accuracy')\n",
    "plt.xlabel('Epoch')\n",
    "plt.ylabel('Accuracy')\n",
    "plt.title('Training and Validation Accuracy')\n",
    "plt.legend()\n",
    "plt.savefig('images/lstm-action-accuracy.png')\n",
    "plt.show()\n",
    "\n",
    "# Generate confusion matrix\n",
    "def generate_confusion_matrix(dataloader, model):\n",
    "    model.eval()\n",
    "    all_preds = []\n",
    "    all_labels = []\n",
    "    with torch.no_grad():\n",
    "        for text_batch, label_batch, lengths in dataloader:\n",
    "            preds = model(text_batch, lengths)[:, 0]\n",
    "            all_preds.extend((preds >= 0.5).cpu().numpy())\n",
    "            all_labels.extend(label_batch.cpu().numpy())\n",
    "\n",
    "    # Generate confusion matrix\n",
    "    cm = confusion_matrix(all_labels, all_preds)\n",
    "    plt.figure(figsize=(8, 6))\n",
    "    sns.heatmap(cm, annot=True, fmt='d', cmap='Blues', xticklabels=['Human', 'Bot'], yticklabels=['Human', 'Bot'])\n",
    "    plt.xlabel('Predicted')\n",
    "    plt.ylabel('Actual')\n",
    "    plt.title('Confusion Matrix')\n",
    "    plt.show()\n",
    "\n",
    "# Generate confusion matrix on the test dataset\n",
    "generate_confusion_matrix(test_dl, model)\n"
   ]
  }
 ],
 "metadata": {
  "kernelspec": {
   "display_name": ".venv",
   "language": "python",
   "name": "python3"
  },
  "language_info": {
   "codemirror_mode": {
    "name": "ipython",
    "version": 3
   },
   "file_extension": ".py",
   "mimetype": "text/x-python",
   "name": "python",
   "nbconvert_exporter": "python",
   "pygments_lexer": "ipython3",
   "version": "3.9.16"
  },
  "papermill": {
   "default_parameters": {},
   "duration": 690.088266,
   "end_time": "2024-12-21T11:12:20.558830",
   "environment_variables": {},
   "exception": true,
   "input_path": "lstm-action.ipynb",
   "output_path": "lstm-action-v2.ipynb",
   "parameters": {},
   "start_time": "2024-12-21T11:00:50.470564",
   "version": "2.6.0"
  }
 },
 "nbformat": 4,
 "nbformat_minor": 5
}