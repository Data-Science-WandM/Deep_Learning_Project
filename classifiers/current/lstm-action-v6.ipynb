{
 "cells": [
  {
   "cell_type": "markdown",
   "id": "44793e2f",
   "metadata": {
    "tags": [
     "papermill-error-cell-tag"
    ]
   },
   "source": [
    "<span style=\"color:red; font-family:Helvetica Neue, Helvetica, Arial, sans-serif; font-size:2em;\">An Exception was encountered at '<a href=\"#papermill-error-cell\">In [15]</a>'.</span>"
   ]
  },
  {
   "cell_type": "code",
   "execution_count": 1,
   "id": "57ddc186",
   "metadata": {
    "execution": {
     "iopub.execute_input": "2025-01-22T20:48:07.124119Z",
     "iopub.status.busy": "2025-01-22T20:48:07.123679Z",
     "iopub.status.idle": "2025-01-22T20:48:11.208763Z",
     "shell.execute_reply": "2025-01-22T20:48:11.207074Z"
    },
    "papermill": {
     "duration": 4.102418,
     "end_time": "2025-01-22T20:48:11.212871",
     "exception": false,
     "start_time": "2025-01-22T20:48:07.110453",
     "status": "completed"
    },
    "tags": []
   },
   "outputs": [
    {
     "name": "stdout",
     "output_type": "stream",
     "text": [
      "Defaulting to user installation because normal site-packages is not writeable\r\n",
      "Requirement already satisfied: torch in /sciclone/home/iahewababarand/.local/lib/python3.9/site-packages (2.4.1)\r\n",
      "Requirement already satisfied: datasets in /sciclone/home/iahewababarand/.local/lib/python3.9/site-packages (3.2.0)\r\n"
     ]
    },
    {
     "name": "stdout",
     "output_type": "stream",
     "text": [
      "Requirement already satisfied: typing-extensions>=4.8.0 in /sciclone/home/iahewababarand/.local/lib/python3.9/site-packages (from torch) (4.12.2)\r\n",
      "Requirement already satisfied: nvidia-cuda-runtime-cu12==12.1.105 in /sciclone/home/iahewababarand/.local/lib/python3.9/site-packages (from torch) (12.1.105)\r\n",
      "Requirement already satisfied: nvidia-cusparse-cu12==12.1.0.106 in /sciclone/home/iahewababarand/.local/lib/python3.9/site-packages (from torch) (12.1.0.106)\r\n",
      "Requirement already satisfied: nvidia-cusolver-cu12==11.4.5.107 in /sciclone/home/iahewababarand/.local/lib/python3.9/site-packages (from torch) (11.4.5.107)\r\n",
      "Requirement already satisfied: nvidia-nccl-cu12==2.20.5 in /sciclone/home/iahewababarand/.local/lib/python3.9/site-packages (from torch) (2.20.5)\r\n",
      "Requirement already satisfied: triton==3.0.0 in /sciclone/home/iahewababarand/.local/lib/python3.9/site-packages (from torch) (3.0.0)\r\n",
      "Requirement already satisfied: sympy in /sciclone/home/iahewababarand/.local/lib/python3.9/site-packages (from torch) (1.13.2)\r\n",
      "Requirement already satisfied: nvidia-cudnn-cu12==9.1.0.70 in /sciclone/home/iahewababarand/.local/lib/python3.9/site-packages (from torch) (9.1.0.70)\r\n",
      "Requirement already satisfied: filelock in /sciclone/home/iahewababarand/.local/lib/python3.9/site-packages (from torch) (3.15.4)\r\n",
      "Requirement already satisfied: nvidia-cuda-cupti-cu12==12.1.105 in /sciclone/home/iahewababarand/.local/lib/python3.9/site-packages (from torch) (12.1.105)\r\n",
      "Requirement already satisfied: nvidia-curand-cu12==10.3.2.106 in /sciclone/home/iahewababarand/.local/lib/python3.9/site-packages (from torch) (10.3.2.106)\r\n",
      "Requirement already satisfied: nvidia-cublas-cu12==12.1.3.1 in /sciclone/home/iahewababarand/.local/lib/python3.9/site-packages (from torch) (12.1.3.1)\r\n"
     ]
    },
    {
     "name": "stdout",
     "output_type": "stream",
     "text": [
      "Requirement already satisfied: nvidia-nvtx-cu12==12.1.105 in /sciclone/home/iahewababarand/.local/lib/python3.9/site-packages (from torch) (12.1.105)\r\n",
      "Requirement already satisfied: nvidia-cuda-nvrtc-cu12==12.1.105 in /sciclone/home/iahewababarand/.local/lib/python3.9/site-packages (from torch) (12.1.105)\r\n",
      "Requirement already satisfied: networkx in /sciclone/home/iahewababarand/.local/lib/python3.9/site-packages (from torch) (3.2.1)\r\n",
      "Requirement already satisfied: fsspec in /sciclone/home/iahewababarand/.local/lib/python3.9/site-packages (from torch) (2024.9.0)\r\n",
      "Requirement already satisfied: jinja2 in /sciclone/home/iahewababarand/.local/lib/python3.9/site-packages (from torch) (3.1.4)\r\n",
      "Requirement already satisfied: nvidia-cufft-cu12==11.0.2.54 in /sciclone/home/iahewababarand/.local/lib/python3.9/site-packages (from torch) (11.0.2.54)\r\n"
     ]
    },
    {
     "name": "stdout",
     "output_type": "stream",
     "text": [
      "Requirement already satisfied: nvidia-nvjitlink-cu12 in /sciclone/home/iahewababarand/.local/lib/python3.9/site-packages (from nvidia-cusolver-cu12==11.4.5.107->torch) (12.6.68)\r\n"
     ]
    },
    {
     "name": "stdout",
     "output_type": "stream",
     "text": [
      "Requirement already satisfied: pandas in /sciclone/home/iahewababarand/.local/lib/python3.9/site-packages (from datasets) (2.2.3)\r\n",
      "Requirement already satisfied: multiprocess<0.70.17 in /sciclone/home/iahewababarand/.local/lib/python3.9/site-packages (from datasets) (0.70.16)\r\n",
      "Requirement already satisfied: xxhash in /sciclone/home/iahewababarand/.local/lib/python3.9/site-packages (from datasets) (3.5.0)\r\n",
      "Requirement already satisfied: pyyaml>=5.1 in /usr/lib64/python3.9/site-packages (from datasets) (5.4.1)\r\n",
      "Requirement already satisfied: huggingface-hub>=0.23.0 in /sciclone/home/iahewababarand/.local/lib/python3.9/site-packages (from datasets) (0.27.1)\r\n",
      "Requirement already satisfied: pyarrow>=15.0.0 in /sciclone/home/iahewababarand/.local/lib/python3.9/site-packages (from datasets) (19.0.0)\r\n",
      "Requirement already satisfied: dill<0.3.9,>=0.3.0 in /sciclone/home/iahewababarand/.local/lib/python3.9/site-packages (from datasets) (0.3.8)\r\n",
      "Requirement already satisfied: numpy>=1.17 in /sciclone/home/iahewababarand/.local/lib/python3.9/site-packages (from datasets) (2.0.2)\r\n",
      "Requirement already satisfied: aiohttp in /sciclone/home/iahewababarand/.local/lib/python3.9/site-packages (from datasets) (3.11.11)\r\n",
      "Requirement already satisfied: tqdm>=4.66.3 in /sciclone/home/iahewababarand/.local/lib/python3.9/site-packages (from datasets) (4.66.5)\r\n",
      "Requirement already satisfied: packaging in /usr/lib/python3.9/site-packages (from datasets) (20.9)\r\n",
      "Requirement already satisfied: requests>=2.32.2 in /sciclone/home/iahewababarand/.local/lib/python3.9/site-packages (from datasets) (2.32.3)\r\n"
     ]
    },
    {
     "name": "stdout",
     "output_type": "stream",
     "text": [
      "Requirement already satisfied: async-timeout<6.0,>=4.0 in /sciclone/home/iahewababarand/.local/lib/python3.9/site-packages (from aiohttp->datasets) (5.0.1)\r\n",
      "Requirement already satisfied: multidict<7.0,>=4.5 in /sciclone/home/iahewababarand/.local/lib/python3.9/site-packages (from aiohttp->datasets) (6.1.0)\r\n",
      "Requirement already satisfied: aiohappyeyeballs>=2.3.0 in /sciclone/home/iahewababarand/.local/lib/python3.9/site-packages (from aiohttp->datasets) (2.4.4)\r\n",
      "Requirement already satisfied: yarl<2.0,>=1.17.0 in /sciclone/home/iahewababarand/.local/lib/python3.9/site-packages (from aiohttp->datasets) (1.18.3)\r\n",
      "Requirement already satisfied: attrs>=17.3.0 in /sciclone/home/iahewababarand/.local/lib/python3.9/site-packages (from aiohttp->datasets) (24.3.0)\r\n",
      "Requirement already satisfied: aiosignal>=1.1.2 in /sciclone/home/iahewababarand/.local/lib/python3.9/site-packages (from aiohttp->datasets) (1.3.2)\r\n",
      "Requirement already satisfied: frozenlist>=1.1.1 in /sciclone/home/iahewababarand/.local/lib/python3.9/site-packages (from aiohttp->datasets) (1.5.0)\r\n",
      "Requirement already satisfied: propcache>=0.2.0 in /sciclone/home/iahewababarand/.local/lib/python3.9/site-packages (from aiohttp->datasets) (0.2.1)\r\n"
     ]
    },
    {
     "name": "stdout",
     "output_type": "stream",
     "text": [
      "Requirement already satisfied: pyparsing>=2.0.2 in /usr/lib/python3.9/site-packages (from packaging->datasets) (2.4.7)\r\n"
     ]
    },
    {
     "name": "stdout",
     "output_type": "stream",
     "text": [
      "Requirement already satisfied: charset-normalizer<4,>=2 in /sciclone/home/iahewababarand/.local/lib/python3.9/site-packages (from requests>=2.32.2->datasets) (3.4.1)\r\n",
      "Requirement already satisfied: certifi>=2017.4.17 in /sciclone/home/iahewababarand/.local/lib/python3.9/site-packages (from requests>=2.32.2->datasets) (2024.12.14)\r\n",
      "Requirement already satisfied: idna<4,>=2.5 in /usr/lib/python3.9/site-packages (from requests>=2.32.2->datasets) (2.10)\r\n",
      "Requirement already satisfied: urllib3<3,>=1.21.1 in /usr/lib/python3.9/site-packages (from requests>=2.32.2->datasets) (1.26.5)\r\n"
     ]
    },
    {
     "name": "stdout",
     "output_type": "stream",
     "text": [
      "Requirement already satisfied: MarkupSafe>=2.0 in /sciclone/home/iahewababarand/.local/lib/python3.9/site-packages (from jinja2->torch) (2.1.5)\r\n"
     ]
    },
    {
     "name": "stdout",
     "output_type": "stream",
     "text": [
      "Requirement already satisfied: python-dateutil>=2.8.2 in /sciclone/home/iahewababarand/.local/lib/python3.9/site-packages (from pandas->datasets) (2.9.0.post0)\r\n",
      "Requirement already satisfied: tzdata>=2022.7 in /sciclone/home/iahewababarand/.local/lib/python3.9/site-packages (from pandas->datasets) (2024.2)\r\n",
      "Requirement already satisfied: pytz>=2020.1 in /sciclone/home/iahewababarand/.local/lib/python3.9/site-packages (from pandas->datasets) (2024.2)\r\n"
     ]
    },
    {
     "name": "stdout",
     "output_type": "stream",
     "text": [
      "Requirement already satisfied: six>=1.5 in /usr/lib/python3.9/site-packages (from python-dateutil>=2.8.2->pandas->datasets) (1.15.0)\r\n"
     ]
    },
    {
     "name": "stdout",
     "output_type": "stream",
     "text": [
      "Requirement already satisfied: mpmath<1.4,>=1.1.0 in /sciclone/home/iahewababarand/.local/lib/python3.9/site-packages (from sympy->torch) (1.3.0)\r\n"
     ]
    },
    {
     "name": "stdout",
     "output_type": "stream",
     "text": [
      "\u001b[33mWARNING: Value for scheme.platlib does not match. Please report this to <https://github.com/pypa/pip/issues/10151>\r\n",
      "distutils: /sciclone/home/iahewababarand/.local/lib/python3.9/site-packages\r\n",
      "sysconfig: /sciclone/home/iahewababarand/.local/lib64/python3.9/site-packages\u001b[0m\r\n",
      "\u001b[33mWARNING: Additional context:\r\n",
      "user = True\r\n",
      "home = None\r\n",
      "root = None\r\n",
      "prefix = None\u001b[0m\r\n"
     ]
    },
    {
     "name": "stdout",
     "output_type": "stream",
     "text": [
      "Note: you may need to restart the kernel to use updated packages.\n"
     ]
    }
   ],
   "source": [
    "pip install torch datasets"
   ]
  },
  {
   "cell_type": "code",
   "execution_count": 2,
   "id": "57961ed4",
   "metadata": {
    "execution": {
     "iopub.execute_input": "2025-01-22T20:48:11.240792Z",
     "iopub.status.busy": "2025-01-22T20:48:11.240348Z",
     "iopub.status.idle": "2025-01-22T20:48:34.121694Z",
     "shell.execute_reply": "2025-01-22T20:48:34.119890Z"
    },
    "papermill": {
     "duration": 22.897073,
     "end_time": "2025-01-22T20:48:34.125249",
     "exception": false,
     "start_time": "2025-01-22T20:48:11.228176",
     "status": "completed"
    },
    "tags": []
   },
   "outputs": [],
   "source": [
    "import torch\n",
    "import torch.nn as nn\n",
    "import pandas as pd\n",
    "import json\n",
    "from torch.utils.data import Dataset, DataLoader, random_split\n",
    "import re\n",
    "from sklearn.utils import shuffle"
   ]
  },
  {
   "cell_type": "code",
   "execution_count": 3,
   "id": "68a36291",
   "metadata": {
    "execution": {
     "iopub.execute_input": "2025-01-22T20:48:34.173641Z",
     "iopub.status.busy": "2025-01-22T20:48:34.172213Z",
     "iopub.status.idle": "2025-01-22T20:48:44.003572Z",
     "shell.execute_reply": "2025-01-22T20:48:44.002835Z"
    },
    "papermill": {
     "duration": 9.853605,
     "end_time": "2025-01-22T20:48:44.005321",
     "exception": false,
     "start_time": "2025-01-22T20:48:34.151716",
     "status": "completed"
    },
    "tags": []
   },
   "outputs": [
    {
     "data": {
      "text/html": [
       "<div>\n",
       "<style scoped>\n",
       "    .dataframe tbody tr th:only-of-type {\n",
       "        vertical-align: middle;\n",
       "    }\n",
       "\n",
       "    .dataframe tbody tr th {\n",
       "        vertical-align: top;\n",
       "    }\n",
       "\n",
       "    .dataframe thead th {\n",
       "        text-align: right;\n",
       "    }\n",
       "</style>\n",
       "<table border=\"1\" class=\"dataframe\">\n",
       "  <thead>\n",
       "    <tr style=\"text-align: right;\">\n",
       "      <th></th>\n",
       "      <th>content_syntactic_blocstring</th>\n",
       "      <th>action_blocstring</th>\n",
       "      <th>changes_list_content_syntactic_</th>\n",
       "      <th>changes_list_action</th>\n",
       "      <th>src</th>\n",
       "      <th>userId</th>\n",
       "      <th>user_class</th>\n",
       "      <th>tweet_count</th>\n",
       "      <th>change_content_syntactic</th>\n",
       "      <th>change_action</th>\n",
       "      <th>change_change_dynamic_score</th>\n",
       "      <th>highest_change_in_content_syntactic</th>\n",
       "      <th>lowest_change_in_content_syntactic</th>\n",
       "      <th>standard_deviation_of_content_syntactic</th>\n",
       "      <th>highest_change_in_action</th>\n",
       "      <th>lowest_change_in_action</th>\n",
       "      <th>standard_deviation_of_action</th>\n",
       "      <th>diversity_action</th>\n",
       "      <th>diversity_content_syntactic</th>\n",
       "      <th>diversity_change_dynamics_score</th>\n",
       "    </tr>\n",
       "  </thead>\n",
       "  <tbody>\n",
       "    <tr>\n",
       "      <th>0</th>\n",
       "      <td>(mmmmmmmmqt)(mmmmmmmmqt)(mmmmmmmmqt)(mmmmmmmmq...</td>\n",
       "      <td>rprp⚀pr□prrprrrprpprprprprprpprprprp□rprprprrr...</td>\n",
       "      <td>[0.683772233983162, 0.00647286670992131, 0.801...</td>\n",
       "      <td>{'content_syntactic': [0.683772233983162, 0.00...</td>\n",
       "      <td>astroturf</td>\n",
       "      <td>146048090</td>\n",
       "      <td>bot</td>\n",
       "      <td>274</td>\n",
       "      <td>0.556376</td>\n",
       "      <td>0.297313</td>\n",
       "      <td>1.024345</td>\n",
       "      <td>0.938307</td>\n",
       "      <td>0.006473</td>\n",
       "      <td>0.275047</td>\n",
       "      <td>0.901294</td>\n",
       "      <td>0.054951</td>\n",
       "      <td>0.200933</td>\n",
       "      <td>0.653102</td>\n",
       "      <td>0.652532</td>\n",
       "      <td>0.450906</td>\n",
       "    </tr>\n",
       "    <tr>\n",
       "      <th>1</th>\n",
       "      <td>(mmmmmmmqt)(mmmmmmmqt)(mmmmmmmqt)(mmmmmmmqt)(m...</td>\n",
       "      <td>r□pr□rr□rp⚀r⚀TTTTTTT□r⚀p⚀π□p|⚀rr⚀rr⚀rr□r⚀r|⚀p⚀...</td>\n",
       "      <td>[0.0600874600144512, 0.022936062507937005, 0.0...</td>\n",
       "      <td>{'content_syntactic': [0.0600874600144512, 0.0...</td>\n",
       "      <td>astroturf</td>\n",
       "      <td>797927149856403456</td>\n",
       "      <td>bot</td>\n",
       "      <td>275</td>\n",
       "      <td>0.427565</td>\n",
       "      <td>0.484909</td>\n",
       "      <td>0.711994</td>\n",
       "      <td>1.000000</td>\n",
       "      <td>0.004220</td>\n",
       "      <td>0.356787</td>\n",
       "      <td>0.989180</td>\n",
       "      <td>0.068479</td>\n",
       "      <td>0.291316</td>\n",
       "      <td>0.707387</td>\n",
       "      <td>0.693840</td>\n",
       "      <td>0.151417</td>\n",
       "    </tr>\n",
       "    <tr>\n",
       "      <th>2</th>\n",
       "      <td>(mmt)(mmt)(qt)(qt)(qt)(mqt)(qt)(t)(qt)(qt)(Em)...</td>\n",
       "      <td>r□r⚀r⚀rr□rrr□r□r⚀rrr⚀r|⚁rrrrr□rrrrrr□rpprrrp□r...</td>\n",
       "      <td>[0.4050577935998917, 0.2173762078750736, 0.181...</td>\n",
       "      <td>{'content_syntactic': [0.4050577935998917, 0.2...</td>\n",
       "      <td>astroturf</td>\n",
       "      <td>1046169889138868225</td>\n",
       "      <td>bot</td>\n",
       "      <td>277</td>\n",
       "      <td>0.442671</td>\n",
       "      <td>0.284123</td>\n",
       "      <td>1.405920</td>\n",
       "      <td>1.000000</td>\n",
       "      <td>0.015253</td>\n",
       "      <td>0.265496</td>\n",
       "      <td>0.913974</td>\n",
       "      <td>0.045573</td>\n",
       "      <td>0.204972</td>\n",
       "      <td>0.676182</td>\n",
       "      <td>0.644029</td>\n",
       "      <td>0.297367</td>\n",
       "    </tr>\n",
       "    <tr>\n",
       "      <th>3</th>\n",
       "      <td>(mmt)(mmmmmmqt)(mmmmmmmmmqt)(mmt)(mmt)(qt)(mmm...</td>\n",
       "      <td>prrpp□rrrrrrrrrrrrrr□rr□rrr□rrprrrrrrr□prrrrrr...</td>\n",
       "      <td>[0.6288092648051271, 0.17944110183186945, 1.0,...</td>\n",
       "      <td>{'content_syntactic': [0.6288092648051271, 0.1...</td>\n",
       "      <td>astroturf</td>\n",
       "      <td>1085010463128195073</td>\n",
       "      <td>bot</td>\n",
       "      <td>244</td>\n",
       "      <td>0.368786</td>\n",
       "      <td>0.419595</td>\n",
       "      <td>1.029069</td>\n",
       "      <td>1.000000</td>\n",
       "      <td>0.111362</td>\n",
       "      <td>0.206134</td>\n",
       "      <td>1.000000</td>\n",
       "      <td>0.049906</td>\n",
       "      <td>0.306818</td>\n",
       "      <td>0.698081</td>\n",
       "      <td>0.620676</td>\n",
       "      <td>0.211830</td>\n",
       "    </tr>\n",
       "    <tr>\n",
       "      <th>4</th>\n",
       "      <td>(mmmmmmmqt)|(Em)|(t)(mmqt)(mt)(mmt)|(qt)(HUqt)...</td>\n",
       "      <td>p|⚁p|⚀p□p□p□p|⚁rrrrrrrrpr□prrprr□rrrprrprrrprp...</td>\n",
       "      <td>[1.0, 1.0, 0.7298648986655512, 0.8616571072267...</td>\n",
       "      <td>{'content_syntactic': [1.0, 1.0, 0.72986489866...</td>\n",
       "      <td>astroturf</td>\n",
       "      <td>1613166488</td>\n",
       "      <td>bot</td>\n",
       "      <td>245</td>\n",
       "      <td>0.618332</td>\n",
       "      <td>0.353069</td>\n",
       "      <td>0.605766</td>\n",
       "      <td>1.000000</td>\n",
       "      <td>0.209196</td>\n",
       "      <td>0.253005</td>\n",
       "      <td>0.849471</td>\n",
       "      <td>0.075654</td>\n",
       "      <td>0.199506</td>\n",
       "      <td>0.680286</td>\n",
       "      <td>0.766445</td>\n",
       "      <td>0.627025</td>\n",
       "    </tr>\n",
       "  </tbody>\n",
       "</table>\n",
       "</div>"
      ],
      "text/plain": [
       "                        content_syntactic_blocstring  \\\n",
       "0  (mmmmmmmmqt)(mmmmmmmmqt)(mmmmmmmmqt)(mmmmmmmmq...   \n",
       "1  (mmmmmmmqt)(mmmmmmmqt)(mmmmmmmqt)(mmmmmmmqt)(m...   \n",
       "2  (mmt)(mmt)(qt)(qt)(qt)(mqt)(qt)(t)(qt)(qt)(Em)...   \n",
       "3  (mmt)(mmmmmmqt)(mmmmmmmmmqt)(mmt)(mmt)(qt)(mmm...   \n",
       "4  (mmmmmmmqt)|(Em)|(t)(mmqt)(mt)(mmt)|(qt)(HUqt)...   \n",
       "\n",
       "                                   action_blocstring  \\\n",
       "0  rprp⚀pr□prrprrrprpprprprprprpprprprp□rprprprrr...   \n",
       "1  r□pr□rr□rp⚀r⚀TTTTTTT□r⚀p⚀π□p|⚀rr⚀rr⚀rr□r⚀r|⚀p⚀...   \n",
       "2  r□r⚀r⚀rr□rrr□r□r⚀rrr⚀r|⚁rrrrr□rrrrrr□rpprrrp□r...   \n",
       "3  prrpp□rrrrrrrrrrrrrr□rr□rrr□rrprrrrrrr□prrrrrr...   \n",
       "4  p|⚁p|⚀p□p□p□p|⚁rrrrrrrrpr□prrprr□rrrprrprrrprp...   \n",
       "\n",
       "                     changes_list_content_syntactic_  \\\n",
       "0  [0.683772233983162, 0.00647286670992131, 0.801...   \n",
       "1  [0.0600874600144512, 0.022936062507937005, 0.0...   \n",
       "2  [0.4050577935998917, 0.2173762078750736, 0.181...   \n",
       "3  [0.6288092648051271, 0.17944110183186945, 1.0,...   \n",
       "4  [1.0, 1.0, 0.7298648986655512, 0.8616571072267...   \n",
       "\n",
       "                                 changes_list_action        src  \\\n",
       "0  {'content_syntactic': [0.683772233983162, 0.00...  astroturf   \n",
       "1  {'content_syntactic': [0.0600874600144512, 0.0...  astroturf   \n",
       "2  {'content_syntactic': [0.4050577935998917, 0.2...  astroturf   \n",
       "3  {'content_syntactic': [0.6288092648051271, 0.1...  astroturf   \n",
       "4  {'content_syntactic': [1.0, 1.0, 0.72986489866...  astroturf   \n",
       "\n",
       "                userId user_class  tweet_count  change_content_syntactic  \\\n",
       "0            146048090        bot          274                  0.556376   \n",
       "1   797927149856403456        bot          275                  0.427565   \n",
       "2  1046169889138868225        bot          277                  0.442671   \n",
       "3  1085010463128195073        bot          244                  0.368786   \n",
       "4           1613166488        bot          245                  0.618332   \n",
       "\n",
       "   change_action  change_change_dynamic_score  \\\n",
       "0       0.297313                     1.024345   \n",
       "1       0.484909                     0.711994   \n",
       "2       0.284123                     1.405920   \n",
       "3       0.419595                     1.029069   \n",
       "4       0.353069                     0.605766   \n",
       "\n",
       "   highest_change_in_content_syntactic  lowest_change_in_content_syntactic  \\\n",
       "0                             0.938307                            0.006473   \n",
       "1                             1.000000                            0.004220   \n",
       "2                             1.000000                            0.015253   \n",
       "3                             1.000000                            0.111362   \n",
       "4                             1.000000                            0.209196   \n",
       "\n",
       "   standard_deviation_of_content_syntactic  highest_change_in_action  \\\n",
       "0                                 0.275047                  0.901294   \n",
       "1                                 0.356787                  0.989180   \n",
       "2                                 0.265496                  0.913974   \n",
       "3                                 0.206134                  1.000000   \n",
       "4                                 0.253005                  0.849471   \n",
       "\n",
       "   lowest_change_in_action  standard_deviation_of_action  diversity_action  \\\n",
       "0                 0.054951                      0.200933          0.653102   \n",
       "1                 0.068479                      0.291316          0.707387   \n",
       "2                 0.045573                      0.204972          0.676182   \n",
       "3                 0.049906                      0.306818          0.698081   \n",
       "4                 0.075654                      0.199506          0.680286   \n",
       "\n",
       "   diversity_content_syntactic  diversity_change_dynamics_score  \n",
       "0                     0.652532                         0.450906  \n",
       "1                     0.693840                         0.151417  \n",
       "2                     0.644029                         0.297367  \n",
       "3                     0.620676                         0.211830  \n",
       "4                     0.766445                         0.627025  "
      ]
     },
     "execution_count": 3,
     "metadata": {},
     "output_type": "execute_result"
    }
   ],
   "source": [
    "def get_data(filename):\n",
    "    \n",
    "    with open(filename, 'r', encoding='utf-8') as file:\n",
    "        data = json.load(file)\n",
    "\n",
    "    df = pd.DataFrame(data)\n",
    "    return df\n",
    "\n",
    "data = get_data('output_file copy.json')\n",
    "# data = get_data('./rnn/only_action_method/output_file copy.json')\n",
    "\n",
    "data.head()"
   ]
  },
  {
   "cell_type": "code",
   "execution_count": 4,
   "id": "3d8b8d03-76ae-42e4-a337-9f655087c990",
   "metadata": {
    "execution": {
     "iopub.execute_input": "2025-01-22T20:48:44.021418Z",
     "iopub.status.busy": "2025-01-22T20:48:44.020712Z",
     "iopub.status.idle": "2025-01-22T20:48:44.143127Z",
     "shell.execute_reply": "2025-01-22T20:48:44.142391Z"
    },
    "papermill": {
     "duration": 0.130906,
     "end_time": "2025-01-22T20:48:44.143963",
     "exception": false,
     "start_time": "2025-01-22T20:48:44.013057",
     "status": "completed"
    },
    "tags": []
   },
   "outputs": [
    {
     "data": {
      "text/plain": [
       "array(['botometer-feedback-19', 'botwiki-19', 'celebrity-19', 'cresci-17',\n",
       "       'cresci-rtbust-19', 'cresci-stock-18', 'gilani-17', 'midterm-18',\n",
       "       'varol-17', 'vendor-purchased-19', 'verified-19'], dtype=object)"
      ]
     },
     "execution_count": 4,
     "metadata": {},
     "output_type": "execute_result"
    }
   ],
   "source": [
    "import numpy as np\n",
    "\n",
    "data = data[~data['src'].isin(['astroturf', 'pronbots-19', 'political-bots-19'])]\n",
    "np.unique(data['src'])"
   ]
  },
  {
   "cell_type": "code",
   "execution_count": 5,
   "id": "79634415",
   "metadata": {
    "execution": {
     "iopub.execute_input": "2025-01-22T20:48:44.156848Z",
     "iopub.status.busy": "2025-01-22T20:48:44.156251Z",
     "iopub.status.idle": "2025-01-22T20:48:44.302489Z",
     "shell.execute_reply": "2025-01-22T20:48:44.301582Z"
    },
    "papermill": {
     "duration": 0.153428,
     "end_time": "2025-01-22T20:48:44.303381",
     "exception": false,
     "start_time": "2025-01-22T20:48:44.149953",
     "status": "completed"
    },
    "tags": []
   },
   "outputs": [
    {
     "name": "stdout",
     "output_type": "stream",
     "text": [
      "Original class distribution:\n",
      "user_class\n",
      "human    27704\n",
      "bot      16619\n",
      "Name: count, dtype: int64\n",
      "Balanced class distribution:\n",
      "user_class\n",
      "bot      16619\n",
      "human    16619\n",
      "Name: count, dtype: int64\n"
     ]
    }
   ],
   "source": [
    "print(\"Original class distribution:\")\n",
    "print(data['user_class'].value_counts())\n",
    "\n",
    "# Separate data by user_class\n",
    "bots = data[data['user_class'] == 'bot']\n",
    "humans = data[data['user_class'] == 'human']\n",
    "\n",
    "# Select the minimum class size\n",
    "min_class_size = min(len(bots), len(humans))\n",
    "\n",
    "# Downsample each class to the minimum class size\n",
    "bots_balanced = bots.sample(n=min_class_size, random_state=1)\n",
    "humans_balanced = humans.sample(n=min_class_size, random_state=1)\n",
    "\n",
    "# Combine the balanced classes\n",
    "balanced_data = pd.concat([bots_balanced, humans_balanced])\n",
    "\n",
    "# Shuffle the data\n",
    "balanced_data = shuffle(balanced_data, random_state=1).reset_index(drop=True)\n",
    "\n",
    "print(\"Balanced class distribution:\")\n",
    "print(balanced_data['user_class'].value_counts())\n",
    "\n",
    "data = balanced_data"
   ]
  },
  {
   "cell_type": "code",
   "execution_count": 6,
   "id": "020e57e8",
   "metadata": {
    "execution": {
     "iopub.execute_input": "2025-01-22T20:48:44.315300Z",
     "iopub.status.busy": "2025-01-22T20:48:44.314693Z",
     "iopub.status.idle": "2025-01-22T20:48:44.319370Z",
     "shell.execute_reply": "2025-01-22T20:48:44.318332Z"
    },
    "papermill": {
     "duration": 0.011421,
     "end_time": "2025-01-22T20:48:44.320136",
     "exception": false,
     "start_time": "2025-01-22T20:48:44.308715",
     "status": "completed"
    },
    "tags": []
   },
   "outputs": [
    {
     "name": "stdout",
     "output_type": "stream",
     "text": [
      "data shape (33238, 20)\n",
      "columns Index(['content_syntactic_blocstring', 'action_blocstring',\n",
      "       'changes_list_content_syntactic_', 'changes_list_action', 'src',\n",
      "       'userId', 'user_class', 'tweet_count', 'change_content_syntactic',\n",
      "       'change_action', 'change_change_dynamic_score',\n",
      "       'highest_change_in_content_syntactic',\n",
      "       'lowest_change_in_content_syntactic',\n",
      "       'standard_deviation_of_content_syntactic', 'highest_change_in_action',\n",
      "       'lowest_change_in_action', 'standard_deviation_of_action',\n",
      "       'diversity_action', 'diversity_content_syntactic',\n",
      "       'diversity_change_dynamics_score'],\n",
      "      dtype='object')\n"
     ]
    }
   ],
   "source": [
    "print(\"data shape\", data.shape)\n",
    "print(\"columns\", data.columns)"
   ]
  },
  {
   "cell_type": "code",
   "execution_count": 7,
   "id": "3427022c",
   "metadata": {
    "execution": {
     "iopub.execute_input": "2025-01-22T20:48:44.330909Z",
     "iopub.status.busy": "2025-01-22T20:48:44.330639Z",
     "iopub.status.idle": "2025-01-22T20:48:44.542224Z",
     "shell.execute_reply": "2025-01-22T20:48:44.540849Z"
    },
    "papermill": {
     "duration": 0.221064,
     "end_time": "2025-01-22T20:48:44.545417",
     "exception": false,
     "start_time": "2025-01-22T20:48:44.324353",
     "status": "completed"
    },
    "tags": []
   },
   "outputs": [],
   "source": [
    "class UserDataset(Dataset):\n",
    "    def __init__(self, data):\n",
    "        self.data = data\n",
    "    \n",
    "    def __len__(self):\n",
    "        return len(self.data)\n",
    "    \n",
    "    def __getitem__(self, idx):\n",
    "        text = self.data.loc[idx, 'action_blocstring']\n",
    "        label = 1 if self.data.loc[idx, 'user_class'] == 'bot' else 0\n",
    "        return {\n",
    "            'text': text, \n",
    "            'label': label \n",
    "        }\n",
    "\n",
    "dataset = UserDataset(data)\n",
    "\n",
    "train_size = int(0.7 * len(dataset))\n",
    "val_size = int(0.15 * len(dataset))\n",
    "test_size = len(dataset) - train_size - val_size\n",
    "\n",
    "train_dataset, val_dataset, test_dataset = random_split(dataset, [train_size, val_size, test_size])\n",
    "\n",
    "train_loader = DataLoader(train_dataset, batch_size=32, shuffle=True)\n",
    "val_loader = DataLoader(val_dataset, batch_size=32, shuffle=False)\n",
    "test_loader = DataLoader(test_dataset, batch_size=32, shuffle=False)\n",
    "\n",
    "# Example usage: Iterate through the test loader\n",
    "# for batch in val_loader:\n",
    "#     print(batch['text'], batch['label'])\n"
   ]
  },
  {
   "cell_type": "code",
   "execution_count": 8,
   "id": "70600ef6",
   "metadata": {
    "execution": {
     "iopub.execute_input": "2025-01-22T20:48:44.567838Z",
     "iopub.status.busy": "2025-01-22T20:48:44.567508Z",
     "iopub.status.idle": "2025-01-22T20:48:45.492922Z",
     "shell.execute_reply": "2025-01-22T20:48:45.492236Z"
    },
    "papermill": {
     "duration": 0.935572,
     "end_time": "2025-01-22T20:48:45.493687",
     "exception": false,
     "start_time": "2025-01-22T20:48:44.558115",
     "status": "completed"
    },
    "tags": []
   },
   "outputs": [
    {
     "name": "stdout",
     "output_type": "stream",
     "text": [
      "Vocab-size: 15\n",
      "vocab {'<pad>': 0, '<unk>': 1, '|': 2, 'r': 3, 'T': 4, '⚁': 5, '⚀': 6, 'p': 7, '□': 8, '⚂': 9, '⚃': 10, 'π': 11, '⚄': 12, 'ρ': 13, '⚅': 14}\n"
     ]
    }
   ],
   "source": [
    "# Counter: subclass of Python's dictionary used for counting hashable objects, in this case, tokens (words).\n",
    "# OrderedDict: subclass of Python's dictionary that remembers the insertion order of keys. It is used to store tokens in a specific order based on frequency.\n",
    "from collections import Counter, OrderedDict\n",
    "# re: A module for working with regular expressions, used to manipulate and clean text.\n",
    "import re\n",
    "\n",
    "# Token counts and vocab creation\n",
    "# Initializes an empty Counter object to hold the frequency of each token in the dataset.\n",
    "token_counts = Counter()\n",
    "\n",
    "# Define tokenizer\n",
    "def tokenizer(text):\n",
    "\n",
    "    #  replace | with \" \"\n",
    "    # text = text.replace(\"|\", \" \")\n",
    "\n",
    "    return list(text)\n",
    "\n",
    "# Tokenize the training data and populate token_counts\n",
    "for entry in train_dataset:  # Assuming train_dataset is a dataset with 'text'\n",
    "    line = entry['text']\n",
    "    tokens = tokenizer(line)\n",
    "    token_counts.update(tokens)\n",
    "\n",
    "# Sort tokens by frequency\n",
    "# token_counts.items() returns the tokens and their respective counts as a list of tuples (e.g., [(token1, count1), (token2, count2), ...])\n",
    "# key=lambda x: x[1] means that the sorting is based on the count (x[1]), which is the second element of each tuple\n",
    "# reverse=True means that the most frequent tokens appear first in the sorted list.\n",
    "sorted_by_freq_tuples = sorted(token_counts.items(), key=lambda x: x[1], reverse=True)\n",
    "\n",
    "# Create an ordered dictionary for the vocab\n",
    "ordered_dict = OrderedDict(sorted_by_freq_tuples)\n",
    "\n",
    "# The padding token (pad) is used to ensure that all sequences in a batch have the same length.\n",
    "# The unknown token (unk) is used to represent words that are not found in the model's vocabulary (the top 69021 words in your case).\n",
    "# Any word that doesn't appear in the vocabulary is replaced by the unk token during tokenization.\n",
    "# This is critical for handling unseen words during inference, where the model encounters words that were not present in the training data.\n",
    "# Create vocab dictionary with special tokens\n",
    "# Initializes the vocab dictionary with two special tokens\n",
    "vocab = {\"<pad>\": 0, \"<unk>\": 1}\n",
    "\n",
    "for idx, (token, count) in enumerate(ordered_dict.items(), start=2):  # Start from 2 to skip the special tokens\n",
    "    vocab[token] = idx\n",
    "\n",
    "\n",
    "# Print the vocabulary size (should be 69023)\n",
    "print('Vocab-size:', len(vocab))\n",
    "print('vocab', vocab)\n",
    "# --- Rationale:\n",
    "#\n",
    "# By assigning frequent words lower indices, we can optimize memory and computational efficiency.\n",
    "# Words that appear infrequently can either be assigned higher indices (in case we want to keep them) or omitted from the vocabulary entirely."
   ]
  },
  {
   "cell_type": "code",
   "execution_count": 9,
   "id": "facd9e15",
   "metadata": {
    "execution": {
     "iopub.execute_input": "2025-01-22T20:48:45.504726Z",
     "iopub.status.busy": "2025-01-22T20:48:45.504138Z",
     "iopub.status.idle": "2025-01-22T20:48:45.508773Z",
     "shell.execute_reply": "2025-01-22T20:48:45.507993Z"
    },
    "papermill": {
     "duration": 0.010659,
     "end_time": "2025-01-22T20:48:45.509540",
     "exception": false,
     "start_time": "2025-01-22T20:48:45.498881",
     "status": "completed"
    },
    "tags": []
   },
   "outputs": [
    {
     "name": "stdout",
     "output_type": "stream",
     "text": [
      "[1, 4, 1, 1, 1, 1, 1, 1, 2, 1, 9, 1, 1, 4, 1, 1, 1, 1, 1, 1, 2, 1, 14, 1, 1, 4, 1, 1, 1, 1, 1, 1, 1, 1, 8, 1, 1, 4, 1, 1, 1, 1, 1, 1, 1, 4, 1, 1, 1, 1, 1, 1, 1, 1, 8, 1, 1, 3, 1, 1, 1, 1, 1, 1, 1, 1, 6, 1, 1, 3, 1, 1, 1, 1, 1, 1, 1, 1, 6, 1, 1, 3, 1, 1, 1, 1, 1, 1, 1, 1, 1, 2, 1, 6, 1, 1, 3, 1, 1, 1, 1, 1, 1, 1, 2, 1, 6, 1, 1, 3, 1, 1, 1, 1, 1, 1, 1, 1, 1, 8, 1]\n"
     ]
    }
   ],
   "source": [
    "# action T|⚂T|⚅T□TT□r⚀r⚀r|⚀r|⚀r□r⚀r|⚂rTT□r□r⚀r□r|⚀r⚀r⚀r\n",
    "\n",
    "# content (t)|(t)|(Et)(E)(Et)(qt)(Et)(EHUt)|(Et)|(mUt)(HHHHHHt)(qt)|(qt)(E)(Et)(mmmqt)(Et)(HUt)(Ut)|(qt)(mqt)(EHUt)\n",
    "\n",
    "# text (T -> t)|(⚂)(T -> t)|(⚅)(T -> Et)(□)(T -> E)(T -> Et)(□)(r -> qt)(⚀)(r -> Et)(⚀)(r -> EHUt)|(⚀)(r -> Et)|(⚀)(r -> mUt)(□)\n",
    "\n",
    "def encode(tokens):\n",
    "    #If the token does not exist in the vocab, the function returns the index of the <unk>\n",
    "    return [vocab.get(token, vocab[\"<unk>\"]) for token in tokens]\n",
    "# Example usage\n",
    "print(encode(tokenizer('(T -> t)|(⚂)(T -> t)|(⚅)(T -> Et)(□)(T -> E)(T -> Et)(□)(r -> qt)(⚀)(r -> Et)(⚀)(r -> EHUt)|(⚀)(r -> Et)|(⚀)(r -> mUt)(□)')))  # Should output something like [11, 7, 35, 457]"
   ]
  },
  {
   "cell_type": "code",
   "execution_count": 10,
   "id": "a7d60e77",
   "metadata": {
    "execution": {
     "iopub.execute_input": "2025-01-22T20:48:45.519232Z",
     "iopub.status.busy": "2025-01-22T20:48:45.518968Z",
     "iopub.status.idle": "2025-01-22T20:48:45.660088Z",
     "shell.execute_reply": "2025-01-22T20:48:45.659328Z"
    },
    "papermill": {
     "duration": 0.147011,
     "end_time": "2025-01-22T20:48:45.660886",
     "exception": false,
     "start_time": "2025-01-22T20:48:45.513875",
     "status": "completed"
    },
    "tags": []
   },
   "outputs": [],
   "source": [
    "if not torch.cuda.is_available():\n",
    "    print(\"Warning: this code may be very slow on CPU\")"
   ]
  },
  {
   "cell_type": "code",
   "execution_count": 11,
   "id": "9a2afca2",
   "metadata": {
    "execution": {
     "iopub.execute_input": "2025-01-22T20:48:45.671082Z",
     "iopub.status.busy": "2025-01-22T20:48:45.670500Z",
     "iopub.status.idle": "2025-01-22T20:48:45.676212Z",
     "shell.execute_reply": "2025-01-22T20:48:45.675413Z"
    },
    "papermill": {
     "duration": 0.011143,
     "end_time": "2025-01-22T20:48:45.676991",
     "exception": false,
     "start_time": "2025-01-22T20:48:45.665848",
     "status": "completed"
    },
    "tags": []
   },
   "outputs": [],
   "source": [
    "device = torch.device(\"cuda\" if torch.cuda.is_available() else \"cpu\")\n",
    "\n",
    "# Use the manual vocab creation process from earlier\n",
    "# Assuming `vocab` and `tokenizer` are already defined\n",
    "\n",
    "#text_pipeline = lambda x: [vocab[token] for token in tokenizer(x)]\n",
    "# Updated text pipeline\n",
    "text_pipeline = lambda x: [vocab.get(token, vocab[\"<unk>\"]) for token in tokenizer(x)]\n",
    "\n",
    "label_pipeline = lambda x: float(x)  # Convert to float to match the output\n",
    "\n",
    "# Batch collation function\n",
    "def collate_batch(batch):\n",
    "    label_list, text_list, lengths = [], [], []\n",
    "    for entry in batch:  # Each 'entry' is a dictionary with 'text' and 'label'\n",
    "        _label = entry['label']\n",
    "        _text = entry['text']\n",
    "\n",
    "        # Process labels and text\n",
    "        label_list.append(label_pipeline(_label))  # Convert labels using label_pipeline\n",
    "        processed_text = torch.tensor(text_pipeline(_text), dtype=torch.int64)  # Convert text to indices\n",
    "\n",
    "        # Store processed text and its length\n",
    "        text_list.append(processed_text)\n",
    "        lengths.append(processed_text.size(0))\n",
    "\n",
    "    # Convert lists to tensors and pad sequences\n",
    "    label_list = torch.tensor(label_list)\n",
    "    lengths = torch.tensor(lengths)\n",
    "    padded_text_list = nn.utils.rnn.pad_sequence(text_list, batch_first=True)\n",
    "\n",
    "    return padded_text_list.to(device), label_list.to(device), lengths.to(device)"
   ]
  },
  {
   "cell_type": "code",
   "execution_count": 12,
   "id": "784b4a6f",
   "metadata": {
    "execution": {
     "iopub.execute_input": "2025-01-22T20:48:45.688001Z",
     "iopub.status.busy": "2025-01-22T20:48:45.687417Z",
     "iopub.status.idle": "2025-01-22T20:48:47.679047Z",
     "shell.execute_reply": "2025-01-22T20:48:47.678014Z"
    },
    "papermill": {
     "duration": 1.998587,
     "end_time": "2025-01-22T20:48:47.680259",
     "exception": false,
     "start_time": "2025-01-22T20:48:45.681672",
     "status": "completed"
    },
    "tags": []
   },
   "outputs": [
    {
     "name": "stdout",
     "output_type": "stream",
     "text": [
      "Text batch: tensor([[4, 2, 9,  ..., 0, 0, 0],\n",
      "        [3, 8, 3,  ..., 0, 0, 0],\n",
      "        [4, 2, 5,  ..., 3, 6, 3],\n",
      "        [4, 4, 8,  ..., 0, 0, 0]], device='cuda:0')\n",
      "Label batch: "
     ]
    },
    {
     "name": "stdout",
     "output_type": "stream",
     "text": [
      "tensor([1., 1., 0., 0.], device='cuda:0')\n",
      "Length batch: tensor([470, 374, 721, 577], device='cuda:0')\n",
      "Text batch shape: torch.Size([4, 721])\n"
     ]
    }
   ],
   "source": [
    "#-----  Example usage with DataLoader -----#\n",
    "## Take a small batch\n",
    "\n",
    "dataloader = DataLoader(train_dataset, batch_size=4, shuffle=False, collate_fn=collate_batch)\n",
    "text_batch, label_batch, length_batch = next(iter(dataloader))\n",
    "\n",
    "# Print the output batch\n",
    "print(\"Text batch:\", text_batch)\n",
    "print(\"Label batch:\", label_batch)\n",
    "print(\"Length batch:\", length_batch)\n",
    "print(\"Text batch shape:\", text_batch.shape)"
   ]
  },
  {
   "cell_type": "code",
   "execution_count": 13,
   "id": "d6c68902",
   "metadata": {
    "execution": {
     "iopub.execute_input": "2025-01-22T20:48:47.732730Z",
     "iopub.status.busy": "2025-01-22T20:48:47.730844Z",
     "iopub.status.idle": "2025-01-23T04:54:13.827196Z",
     "shell.execute_reply": "2025-01-23T04:54:13.826548Z"
    },
    "papermill": {
     "duration": 29126.126544,
     "end_time": "2025-01-23T04:54:13.830009",
     "exception": false,
     "start_time": "2025-01-22T20:48:47.703465",
     "status": "completed"
    },
    "tags": []
   },
   "outputs": [
    {
     "name": "stdout",
     "output_type": "stream",
     "text": [
      "Testing with lr=0.001, embed_dim=16, rnn_hidden_size=32, fc_hidden_size=32, num_layers=1, dropout_rate=0\n"
     ]
    },
    {
     "name": "stdout",
     "output_type": "stream",
     "text": [
      "{'lr': 0.001, 'embed_dim': 16, 'rnn_hidden_size': 32, 'fc_hidden_size': 32, 'num_layers': 1, 'dropout_rate': 0, 'val_accuracy': 0.8593781344032096}\n",
      "Testing with lr=0.001, embed_dim=16, rnn_hidden_size=32, fc_hidden_size=32, num_layers=1, dropout_rate=0.3\n"
     ]
    },
    {
     "name": "stderr",
     "output_type": "stream",
     "text": [
      "/sciclone/home/iahewababarand/.local/lib/python3.9/site-packages/torch/nn/modules/rnn.py:88: UserWarning: dropout option adds dropout after all but last recurrent layer, so non-zero dropout expects num_layers greater than 1, but got dropout=0.3 and num_layers=1\n",
      "  warnings.warn(\"dropout option adds dropout after all but last \"\n"
     ]
    },
    {
     "name": "stdout",
     "output_type": "stream",
     "text": [
      "{'lr': 0.001, 'embed_dim': 16, 'rnn_hidden_size': 32, 'fc_hidden_size': 32, 'num_layers': 1, 'dropout_rate': 0.3, 'val_accuracy': 0.8421263791374123}\n",
      "Testing with lr=0.001, embed_dim=16, rnn_hidden_size=32, fc_hidden_size=32, num_layers=1, dropout_rate=0.5\n"
     ]
    },
    {
     "name": "stderr",
     "output_type": "stream",
     "text": [
      "/sciclone/home/iahewababarand/.local/lib/python3.9/site-packages/torch/nn/modules/rnn.py:88: UserWarning: dropout option adds dropout after all but last recurrent layer, so non-zero dropout expects num_layers greater than 1, but got dropout=0.5 and num_layers=1\n",
      "  warnings.warn(\"dropout option adds dropout after all but last \"\n"
     ]
    },
    {
     "name": "stdout",
     "output_type": "stream",
     "text": [
      "{'lr': 0.001, 'embed_dim': 16, 'rnn_hidden_size': 32, 'fc_hidden_size': 32, 'num_layers': 1, 'dropout_rate': 0.5, 'val_accuracy': 0.8529588766298897}\n",
      "Testing with lr=0.001, embed_dim=16, rnn_hidden_size=32, fc_hidden_size=32, num_layers=2, dropout_rate=0\n"
     ]
    },
    {
     "name": "stdout",
     "output_type": "stream",
     "text": [
      "{'lr': 0.001, 'embed_dim': 16, 'rnn_hidden_size': 32, 'fc_hidden_size': 32, 'num_layers': 2, 'dropout_rate': 0, 'val_accuracy': 0.8613841524573721}\n",
      "Testing with lr=0.001, embed_dim=16, rnn_hidden_size=32, fc_hidden_size=32, num_layers=2, dropout_rate=0.3\n"
     ]
    },
    {
     "name": "stdout",
     "output_type": "stream",
     "text": [
      "{'lr': 0.001, 'embed_dim': 16, 'rnn_hidden_size': 32, 'fc_hidden_size': 32, 'num_layers': 2, 'dropout_rate': 0.3, 'val_accuracy': 0.8639919759277833}\n",
      "Testing with lr=0.001, embed_dim=16, rnn_hidden_size=32, fc_hidden_size=32, num_layers=2, dropout_rate=0.5\n"
     ]
    },
    {
     "name": "stdout",
     "output_type": "stream",
     "text": [
      "{'lr': 0.001, 'embed_dim': 16, 'rnn_hidden_size': 32, 'fc_hidden_size': 32, 'num_layers': 2, 'dropout_rate': 0.5, 'val_accuracy': 0.7997993981945838}\n",
      "Testing with lr=0.001, embed_dim=16, rnn_hidden_size=32, fc_hidden_size=32, num_layers=3, dropout_rate=0\n"
     ]
    },
    {
     "name": "stdout",
     "output_type": "stream",
     "text": [
      "{'lr': 0.001, 'embed_dim': 16, 'rnn_hidden_size': 32, 'fc_hidden_size': 32, 'num_layers': 3, 'dropout_rate': 0, 'val_accuracy': 0.8214643931795386}\n",
      "Testing with lr=0.001, embed_dim=16, rnn_hidden_size=32, fc_hidden_size=32, num_layers=3, dropout_rate=0.3\n"
     ]
    },
    {
     "name": "stdout",
     "output_type": "stream",
     "text": [
      "{'lr': 0.001, 'embed_dim': 16, 'rnn_hidden_size': 32, 'fc_hidden_size': 32, 'num_layers': 3, 'dropout_rate': 0.3, 'val_accuracy': 0.7648946840521564}\n",
      "Testing with lr=0.001, embed_dim=16, rnn_hidden_size=32, fc_hidden_size=32, num_layers=3, dropout_rate=0.5\n"
     ]
    },
    {
     "name": "stdout",
     "output_type": "stream",
     "text": [
      "{'lr': 0.001, 'embed_dim': 16, 'rnn_hidden_size': 32, 'fc_hidden_size': 32, 'num_layers': 3, 'dropout_rate': 0.5, 'val_accuracy': 0.5843530591775326}\n",
      "Testing with lr=0.001, embed_dim=16, rnn_hidden_size=32, fc_hidden_size=64, num_layers=1, dropout_rate=0\n"
     ]
    },
    {
     "name": "stdout",
     "output_type": "stream",
     "text": [
      "{'lr': 0.001, 'embed_dim': 16, 'rnn_hidden_size': 32, 'fc_hidden_size': 64, 'num_layers': 1, 'dropout_rate': 0, 'val_accuracy': 0.808826479438315}\n",
      "Testing with lr=0.001, embed_dim=16, rnn_hidden_size=32, fc_hidden_size=64, num_layers=1, dropout_rate=0.3\n"
     ]
    },
    {
     "name": "stdout",
     "output_type": "stream",
     "text": [
      "{'lr': 0.001, 'embed_dim': 16, 'rnn_hidden_size': 32, 'fc_hidden_size': 64, 'num_layers': 1, 'dropout_rate': 0.3, 'val_accuracy': 0.7578736208625878}\n",
      "Testing with lr=0.001, embed_dim=16, rnn_hidden_size=32, fc_hidden_size=64, num_layers=1, dropout_rate=0.5\n"
     ]
    },
    {
     "name": "stdout",
     "output_type": "stream",
     "text": [
      "{'lr': 0.001, 'embed_dim': 16, 'rnn_hidden_size': 32, 'fc_hidden_size': 64, 'num_layers': 1, 'dropout_rate': 0.5, 'val_accuracy': 0.8359077231695086}\n",
      "Testing with lr=0.001, embed_dim=16, rnn_hidden_size=32, fc_hidden_size=64, num_layers=2, dropout_rate=0\n"
     ]
    },
    {
     "name": "stdout",
     "output_type": "stream",
     "text": [
      "{'lr': 0.001, 'embed_dim': 16, 'rnn_hidden_size': 32, 'fc_hidden_size': 64, 'num_layers': 2, 'dropout_rate': 0, 'val_accuracy': 0.8597793380140422}\n",
      "Testing with lr=0.001, embed_dim=16, rnn_hidden_size=32, fc_hidden_size=64, num_layers=2, dropout_rate=0.3\n"
     ]
    },
    {
     "name": "stdout",
     "output_type": "stream",
     "text": [
      "{'lr': 0.001, 'embed_dim': 16, 'rnn_hidden_size': 32, 'fc_hidden_size': 64, 'num_layers': 2, 'dropout_rate': 0.3, 'val_accuracy': 0.7478435305917753}\n",
      "Testing with lr=0.001, embed_dim=16, rnn_hidden_size=32, fc_hidden_size=64, num_layers=2, dropout_rate=0.5\n"
     ]
    },
    {
     "name": "stdout",
     "output_type": "stream",
     "text": [
      "{'lr': 0.001, 'embed_dim': 16, 'rnn_hidden_size': 32, 'fc_hidden_size': 64, 'num_layers': 2, 'dropout_rate': 0.5, 'val_accuracy': 0.7837512537612839}\n",
      "Testing with lr=0.001, embed_dim=16, rnn_hidden_size=32, fc_hidden_size=64, num_layers=3, dropout_rate=0\n"
     ]
    },
    {
     "name": "stdout",
     "output_type": "stream",
     "text": [
      "{'lr': 0.001, 'embed_dim': 16, 'rnn_hidden_size': 32, 'fc_hidden_size': 64, 'num_layers': 3, 'dropout_rate': 0, 'val_accuracy': 0.8619859578736209}\n",
      "Testing with lr=0.001, embed_dim=16, rnn_hidden_size=32, fc_hidden_size=64, num_layers=3, dropout_rate=0.3\n"
     ]
    },
    {
     "name": "stdout",
     "output_type": "stream",
     "text": [
      "{'lr': 0.001, 'embed_dim': 16, 'rnn_hidden_size': 32, 'fc_hidden_size': 64, 'num_layers': 3, 'dropout_rate': 0.3, 'val_accuracy': 0.8096288866599799}\n",
      "Testing with lr=0.001, embed_dim=16, rnn_hidden_size=32, fc_hidden_size=64, num_layers=3, dropout_rate=0.5\n"
     ]
    },
    {
     "name": "stdout",
     "output_type": "stream",
     "text": [
      "{'lr': 0.001, 'embed_dim': 16, 'rnn_hidden_size': 32, 'fc_hidden_size': 64, 'num_layers': 3, 'dropout_rate': 0.5, 'val_accuracy': 0.6657973921765296}\n",
      "Testing with lr=0.001, embed_dim=16, rnn_hidden_size=32, fc_hidden_size=128, num_layers=1, dropout_rate=0\n"
     ]
    },
    {
     "name": "stdout",
     "output_type": "stream",
     "text": [
      "{'lr': 0.001, 'embed_dim': 16, 'rnn_hidden_size': 32, 'fc_hidden_size': 128, 'num_layers': 1, 'dropout_rate': 0, 'val_accuracy': 0.8256770310932798}\n",
      "Testing with lr=0.001, embed_dim=16, rnn_hidden_size=32, fc_hidden_size=128, num_layers=1, dropout_rate=0.3\n"
     ]
    },
    {
     "name": "stdout",
     "output_type": "stream",
     "text": [
      "{'lr': 0.001, 'embed_dim': 16, 'rnn_hidden_size': 32, 'fc_hidden_size': 128, 'num_layers': 1, 'dropout_rate': 0.3, 'val_accuracy': 0.7831494483450351}\n",
      "Testing with lr=0.001, embed_dim=16, rnn_hidden_size=32, fc_hidden_size=128, num_layers=1, dropout_rate=0.5\n"
     ]
    },
    {
     "name": "stdout",
     "output_type": "stream",
     "text": [
      "{'lr': 0.001, 'embed_dim': 16, 'rnn_hidden_size': 32, 'fc_hidden_size': 128, 'num_layers': 1, 'dropout_rate': 0.5, 'val_accuracy': 0.8459378134403209}\n",
      "Testing with lr=0.001, embed_dim=16, rnn_hidden_size=32, fc_hidden_size=128, num_layers=2, dropout_rate=0\n"
     ]
    },
    {
     "name": "stdout",
     "output_type": "stream",
     "text": [
      "{'lr': 0.001, 'embed_dim': 16, 'rnn_hidden_size': 32, 'fc_hidden_size': 128, 'num_layers': 2, 'dropout_rate': 0, 'val_accuracy': 0.8788365095285857}\n",
      "Testing with lr=0.001, embed_dim=16, rnn_hidden_size=32, fc_hidden_size=128, num_layers=2, dropout_rate=0.3\n"
     ]
    },
    {
     "name": "stdout",
     "output_type": "stream",
     "text": [
      "{'lr': 0.001, 'embed_dim': 16, 'rnn_hidden_size': 32, 'fc_hidden_size': 128, 'num_layers': 2, 'dropout_rate': 0.3, 'val_accuracy': 0.8619859578736209}\n",
      "Testing with lr=0.001, embed_dim=16, rnn_hidden_size=32, fc_hidden_size=128, num_layers=2, dropout_rate=0.5\n"
     ]
    },
    {
     "name": "stdout",
     "output_type": "stream",
     "text": [
      "{'lr': 0.001, 'embed_dim': 16, 'rnn_hidden_size': 32, 'fc_hidden_size': 128, 'num_layers': 2, 'dropout_rate': 0.5, 'val_accuracy': 0.8641925777331996}\n",
      "Testing with lr=0.001, embed_dim=16, rnn_hidden_size=32, fc_hidden_size=128, num_layers=3, dropout_rate=0\n"
     ]
    },
    {
     "name": "stdout",
     "output_type": "stream",
     "text": [
      "{'lr': 0.001, 'embed_dim': 16, 'rnn_hidden_size': 32, 'fc_hidden_size': 128, 'num_layers': 3, 'dropout_rate': 0, 'val_accuracy': 0.5933801404212637}\n",
      "Testing with lr=0.001, embed_dim=16, rnn_hidden_size=32, fc_hidden_size=128, num_layers=3, dropout_rate=0.3\n"
     ]
    },
    {
     "name": "stdout",
     "output_type": "stream",
     "text": [
      "{'lr': 0.001, 'embed_dim': 16, 'rnn_hidden_size': 32, 'fc_hidden_size': 128, 'num_layers': 3, 'dropout_rate': 0.3, 'val_accuracy': 0.49628886659979937}\n",
      "Testing with lr=0.001, embed_dim=16, rnn_hidden_size=32, fc_hidden_size=128, num_layers=3, dropout_rate=0.5\n"
     ]
    },
    {
     "name": "stdout",
     "output_type": "stream",
     "text": [
      "{'lr': 0.001, 'embed_dim': 16, 'rnn_hidden_size': 32, 'fc_hidden_size': 128, 'num_layers': 3, 'dropout_rate': 0.5, 'val_accuracy': 0.6613841524573721}\n",
      "Testing with lr=0.001, embed_dim=16, rnn_hidden_size=64, fc_hidden_size=32, num_layers=1, dropout_rate=0\n"
     ]
    },
    {
     "name": "stdout",
     "output_type": "stream",
     "text": [
      "{'lr': 0.001, 'embed_dim': 16, 'rnn_hidden_size': 64, 'fc_hidden_size': 32, 'num_layers': 1, 'dropout_rate': 0, 'val_accuracy': 0.839518555667001}\n",
      "Testing with lr=0.001, embed_dim=16, rnn_hidden_size=64, fc_hidden_size=32, num_layers=1, dropout_rate=0.3\n"
     ]
    },
    {
     "name": "stdout",
     "output_type": "stream",
     "text": [
      "{'lr': 0.001, 'embed_dim': 16, 'rnn_hidden_size': 64, 'fc_hidden_size': 32, 'num_layers': 1, 'dropout_rate': 0.3, 'val_accuracy': 0.8497492477432297}\n",
      "Testing with lr=0.001, embed_dim=16, rnn_hidden_size=64, fc_hidden_size=32, num_layers=1, dropout_rate=0.5\n"
     ]
    },
    {
     "name": "stdout",
     "output_type": "stream",
     "text": [
      "{'lr': 0.001, 'embed_dim': 16, 'rnn_hidden_size': 64, 'fc_hidden_size': 32, 'num_layers': 1, 'dropout_rate': 0.5, 'val_accuracy': 0.8519558676028084}\n",
      "Testing with lr=0.001, embed_dim=16, rnn_hidden_size=64, fc_hidden_size=32, num_layers=2, dropout_rate=0\n"
     ]
    },
    {
     "name": "stdout",
     "output_type": "stream",
     "text": [
      "{'lr': 0.001, 'embed_dim': 16, 'rnn_hidden_size': 64, 'fc_hidden_size': 32, 'num_layers': 2, 'dropout_rate': 0, 'val_accuracy': 0.8718154463390171}\n",
      "Testing with lr=0.001, embed_dim=16, rnn_hidden_size=64, fc_hidden_size=32, num_layers=2, dropout_rate=0.3\n"
     ]
    },
    {
     "name": "stdout",
     "output_type": "stream",
     "text": [
      "{'lr': 0.001, 'embed_dim': 16, 'rnn_hidden_size': 64, 'fc_hidden_size': 32, 'num_layers': 2, 'dropout_rate': 0.3, 'val_accuracy': 0.877432296890672}\n",
      "Testing with lr=0.001, embed_dim=16, rnn_hidden_size=64, fc_hidden_size=32, num_layers=2, dropout_rate=0.5\n"
     ]
    },
    {
     "name": "stdout",
     "output_type": "stream",
     "text": [
      "{'lr': 0.001, 'embed_dim': 16, 'rnn_hidden_size': 64, 'fc_hidden_size': 32, 'num_layers': 2, 'dropout_rate': 0.5, 'val_accuracy': 0.6702106318956871}\n",
      "Testing with lr=0.001, embed_dim=16, rnn_hidden_size=64, fc_hidden_size=32, num_layers=3, dropout_rate=0\n"
     ]
    },
    {
     "name": "stdout",
     "output_type": "stream",
     "text": [
      "{'lr': 0.001, 'embed_dim': 16, 'rnn_hidden_size': 64, 'fc_hidden_size': 32, 'num_layers': 3, 'dropout_rate': 0, 'val_accuracy': 0.8611835506519558}\n",
      "Testing with lr=0.001, embed_dim=16, rnn_hidden_size=64, fc_hidden_size=32, num_layers=3, dropout_rate=0.3\n"
     ]
    },
    {
     "name": "stdout",
     "output_type": "stream",
     "text": [
      "{'lr': 0.001, 'embed_dim': 16, 'rnn_hidden_size': 64, 'fc_hidden_size': 32, 'num_layers': 3, 'dropout_rate': 0.3, 'val_accuracy': 0.7285857572718154}\n",
      "Testing with lr=0.001, embed_dim=16, rnn_hidden_size=64, fc_hidden_size=32, num_layers=3, dropout_rate=0.5\n"
     ]
    },
    {
     "name": "stdout",
     "output_type": "stream",
     "text": [
      "{'lr': 0.001, 'embed_dim': 16, 'rnn_hidden_size': 64, 'fc_hidden_size': 32, 'num_layers': 3, 'dropout_rate': 0.5, 'val_accuracy': 0.5131394182547643}\n",
      "Testing with lr=0.001, embed_dim=16, rnn_hidden_size=64, fc_hidden_size=64, num_layers=1, dropout_rate=0\n"
     ]
    },
    {
     "name": "stdout",
     "output_type": "stream",
     "text": [
      "{'lr': 0.001, 'embed_dim': 16, 'rnn_hidden_size': 64, 'fc_hidden_size': 64, 'num_layers': 1, 'dropout_rate': 0, 'val_accuracy': 0.8341023069207623}\n",
      "Testing with lr=0.001, embed_dim=16, rnn_hidden_size=64, fc_hidden_size=64, num_layers=1, dropout_rate=0.3\n"
     ]
    },
    {
     "name": "stdout",
     "output_type": "stream",
     "text": [
      "{'lr': 0.001, 'embed_dim': 16, 'rnn_hidden_size': 64, 'fc_hidden_size': 64, 'num_layers': 1, 'dropout_rate': 0.3, 'val_accuracy': 0.8212637913741224}\n",
      "Testing with lr=0.001, embed_dim=16, rnn_hidden_size=64, fc_hidden_size=64, num_layers=1, dropout_rate=0.5\n"
     ]
    },
    {
     "name": "stdout",
     "output_type": "stream",
     "text": [
      "{'lr': 0.001, 'embed_dim': 16, 'rnn_hidden_size': 64, 'fc_hidden_size': 64, 'num_layers': 1, 'dropout_rate': 0.5, 'val_accuracy': 0.8509528585757272}\n",
      "Testing with lr=0.001, embed_dim=16, rnn_hidden_size=64, fc_hidden_size=64, num_layers=2, dropout_rate=0\n"
     ]
    },
    {
     "name": "stdout",
     "output_type": "stream",
     "text": [
      "{'lr': 0.001, 'embed_dim': 16, 'rnn_hidden_size': 64, 'fc_hidden_size': 64, 'num_layers': 2, 'dropout_rate': 0, 'val_accuracy': 0.8768304914744233}\n",
      "Testing with lr=0.001, embed_dim=16, rnn_hidden_size=64, fc_hidden_size=64, num_layers=2, dropout_rate=0.3\n"
     ]
    },
    {
     "name": "stdout",
     "output_type": "stream",
     "text": [
      "{'lr': 0.001, 'embed_dim': 16, 'rnn_hidden_size': 64, 'fc_hidden_size': 64, 'num_layers': 2, 'dropout_rate': 0.3, 'val_accuracy': 0.8684052156469408}\n",
      "Testing with lr=0.001, embed_dim=16, rnn_hidden_size=64, fc_hidden_size=64, num_layers=2, dropout_rate=0.5\n"
     ]
    },
    {
     "name": "stdout",
     "output_type": "stream",
     "text": [
      "{'lr': 0.001, 'embed_dim': 16, 'rnn_hidden_size': 64, 'fc_hidden_size': 64, 'num_layers': 2, 'dropout_rate': 0.5, 'val_accuracy': 0.872617853560682}\n",
      "Testing with lr=0.001, embed_dim=16, rnn_hidden_size=64, fc_hidden_size=64, num_layers=3, dropout_rate=0\n"
     ]
    },
    {
     "name": "stdout",
     "output_type": "stream",
     "text": [
      "{'lr': 0.001, 'embed_dim': 16, 'rnn_hidden_size': 64, 'fc_hidden_size': 64, 'num_layers': 3, 'dropout_rate': 0, 'val_accuracy': 0.792778335005015}\n",
      "Testing with lr=0.001, embed_dim=16, rnn_hidden_size=64, fc_hidden_size=64, num_layers=3, dropout_rate=0.3\n"
     ]
    },
    {
     "name": "stdout",
     "output_type": "stream",
     "text": [
      "{'lr': 0.001, 'embed_dim': 16, 'rnn_hidden_size': 64, 'fc_hidden_size': 64, 'num_layers': 3, 'dropout_rate': 0.3, 'val_accuracy': 0.6668004012036108}\n",
      "Testing with lr=0.001, embed_dim=16, rnn_hidden_size=64, fc_hidden_size=64, num_layers=3, dropout_rate=0.5\n"
     ]
    },
    {
     "name": "stdout",
     "output_type": "stream",
     "text": [
      "{'lr': 0.001, 'embed_dim': 16, 'rnn_hidden_size': 64, 'fc_hidden_size': 64, 'num_layers': 3, 'dropout_rate': 0.5, 'val_accuracy': 0.8022066198595788}\n",
      "Testing with lr=0.001, embed_dim=16, rnn_hidden_size=64, fc_hidden_size=128, num_layers=1, dropout_rate=0\n"
     ]
    },
    {
     "name": "stdout",
     "output_type": "stream",
     "text": [
      "{'lr': 0.001, 'embed_dim': 16, 'rnn_hidden_size': 64, 'fc_hidden_size': 128, 'num_layers': 1, 'dropout_rate': 0, 'val_accuracy': 0.8615847542627884}\n",
      "Testing with lr=0.001, embed_dim=16, rnn_hidden_size=64, fc_hidden_size=128, num_layers=1, dropout_rate=0.3\n"
     ]
    },
    {
     "name": "stdout",
     "output_type": "stream",
     "text": [
      "{'lr': 0.001, 'embed_dim': 16, 'rnn_hidden_size': 64, 'fc_hidden_size': 128, 'num_layers': 1, 'dropout_rate': 0.3, 'val_accuracy': 0.8318956870611836}\n",
      "Testing with lr=0.001, embed_dim=16, rnn_hidden_size=64, fc_hidden_size=128, num_layers=1, dropout_rate=0.5\n"
     ]
    },
    {
     "name": "stdout",
     "output_type": "stream",
     "text": [
      "{'lr': 0.001, 'embed_dim': 16, 'rnn_hidden_size': 64, 'fc_hidden_size': 128, 'num_layers': 1, 'dropout_rate': 0.5, 'val_accuracy': 0.8423269809428285}\n",
      "Testing with lr=0.001, embed_dim=16, rnn_hidden_size=64, fc_hidden_size=128, num_layers=2, dropout_rate=0\n"
     ]
    },
    {
     "name": "stdout",
     "output_type": "stream",
     "text": [
      "{'lr': 0.001, 'embed_dim': 16, 'rnn_hidden_size': 64, 'fc_hidden_size': 128, 'num_layers': 2, 'dropout_rate': 0, 'val_accuracy': 0.8583751253761284}\n",
      "Testing with lr=0.001, embed_dim=16, rnn_hidden_size=64, fc_hidden_size=128, num_layers=2, dropout_rate=0.3\n"
     ]
    },
    {
     "name": "stdout",
     "output_type": "stream",
     "text": [
      "{'lr': 0.001, 'embed_dim': 16, 'rnn_hidden_size': 64, 'fc_hidden_size': 128, 'num_layers': 2, 'dropout_rate': 0.3, 'val_accuracy': 0.8746238716148446}\n",
      "Testing with lr=0.001, embed_dim=16, rnn_hidden_size=64, fc_hidden_size=128, num_layers=2, dropout_rate=0.5\n"
     ]
    },
    {
     "name": "stdout",
     "output_type": "stream",
     "text": [
      "{'lr': 0.001, 'embed_dim': 16, 'rnn_hidden_size': 64, 'fc_hidden_size': 128, 'num_layers': 2, 'dropout_rate': 0.5, 'val_accuracy': 0.8674022066198596}\n",
      "Testing with lr=0.001, embed_dim=16, rnn_hidden_size=64, fc_hidden_size=128, num_layers=3, dropout_rate=0\n"
     ]
    },
    {
     "name": "stdout",
     "output_type": "stream",
     "text": [
      "{'lr': 0.001, 'embed_dim': 16, 'rnn_hidden_size': 64, 'fc_hidden_size': 128, 'num_layers': 3, 'dropout_rate': 0, 'val_accuracy': 0.6770310932798396}\n",
      "Testing with lr=0.001, embed_dim=16, rnn_hidden_size=64, fc_hidden_size=128, num_layers=3, dropout_rate=0.3\n"
     ]
    },
    {
     "name": "stdout",
     "output_type": "stream",
     "text": [
      "{'lr': 0.001, 'embed_dim': 16, 'rnn_hidden_size': 64, 'fc_hidden_size': 128, 'num_layers': 3, 'dropout_rate': 0.3, 'val_accuracy': 0.8696088264794383}\n",
      "Testing with lr=0.001, embed_dim=16, rnn_hidden_size=64, fc_hidden_size=128, num_layers=3, dropout_rate=0.5\n"
     ]
    },
    {
     "name": "stdout",
     "output_type": "stream",
     "text": [
      "{'lr': 0.001, 'embed_dim': 16, 'rnn_hidden_size': 64, 'fc_hidden_size': 128, 'num_layers': 3, 'dropout_rate': 0.5, 'val_accuracy': 0.6796389167502508}\n",
      "Testing with lr=0.001, embed_dim=16, rnn_hidden_size=128, fc_hidden_size=32, num_layers=1, dropout_rate=0\n"
     ]
    },
    {
     "name": "stdout",
     "output_type": "stream",
     "text": [
      "{'lr': 0.001, 'embed_dim': 16, 'rnn_hidden_size': 128, 'fc_hidden_size': 32, 'num_layers': 1, 'dropout_rate': 0, 'val_accuracy': 0.8716148445336008}\n",
      "Testing with lr=0.001, embed_dim=16, rnn_hidden_size=128, fc_hidden_size=32, num_layers=1, dropout_rate=0.3\n"
     ]
    },
    {
     "name": "stdout",
     "output_type": "stream",
     "text": [
      "{'lr': 0.001, 'embed_dim': 16, 'rnn_hidden_size': 128, 'fc_hidden_size': 32, 'num_layers': 1, 'dropout_rate': 0.3, 'val_accuracy': 0.8535606820461384}\n",
      "Testing with lr=0.001, embed_dim=16, rnn_hidden_size=128, fc_hidden_size=32, num_layers=1, dropout_rate=0.5\n"
     ]
    },
    {
     "name": "stdout",
     "output_type": "stream",
     "text": [
      "{'lr': 0.001, 'embed_dim': 16, 'rnn_hidden_size': 128, 'fc_hidden_size': 32, 'num_layers': 1, 'dropout_rate': 0.5, 'val_accuracy': 0.8499498495486459}\n",
      "Testing with lr=0.001, embed_dim=16, rnn_hidden_size=128, fc_hidden_size=32, num_layers=2, dropout_rate=0\n"
     ]
    },
    {
     "name": "stdout",
     "output_type": "stream",
     "text": [
      "{'lr': 0.001, 'embed_dim': 16, 'rnn_hidden_size': 128, 'fc_hidden_size': 32, 'num_layers': 2, 'dropout_rate': 0, 'val_accuracy': 0.8812437311935808}\n",
      "Testing with lr=0.001, embed_dim=16, rnn_hidden_size=128, fc_hidden_size=32, num_layers=2, dropout_rate=0.3\n"
     ]
    },
    {
     "name": "stdout",
     "output_type": "stream",
     "text": [
      "{'lr': 0.001, 'embed_dim': 16, 'rnn_hidden_size': 128, 'fc_hidden_size': 32, 'num_layers': 2, 'dropout_rate': 0.3, 'val_accuracy': 0.5037111334002006}\n",
      "Testing with lr=0.001, embed_dim=16, rnn_hidden_size=128, fc_hidden_size=32, num_layers=2, dropout_rate=0.5\n"
     ]
    },
    {
     "name": "stdout",
     "output_type": "stream",
     "text": [
      "{'lr': 0.001, 'embed_dim': 16, 'rnn_hidden_size': 128, 'fc_hidden_size': 32, 'num_layers': 2, 'dropout_rate': 0.5, 'val_accuracy': 0.8495486459378134}\n",
      "Testing with lr=0.001, embed_dim=16, rnn_hidden_size=128, fc_hidden_size=32, num_layers=3, dropout_rate=0\n"
     ]
    },
    {
     "name": "stdout",
     "output_type": "stream",
     "text": [
      "{'lr': 0.001, 'embed_dim': 16, 'rnn_hidden_size': 128, 'fc_hidden_size': 32, 'num_layers': 3, 'dropout_rate': 0, 'val_accuracy': 0.8772316950852558}\n",
      "Testing with lr=0.001, embed_dim=16, rnn_hidden_size=128, fc_hidden_size=32, num_layers=3, dropout_rate=0.3\n"
     ]
    },
    {
     "name": "stdout",
     "output_type": "stream",
     "text": [
      "{'lr': 0.001, 'embed_dim': 16, 'rnn_hidden_size': 128, 'fc_hidden_size': 32, 'num_layers': 3, 'dropout_rate': 0.3, 'val_accuracy': 0.5037111334002006}\n",
      "Testing with lr=0.001, embed_dim=16, rnn_hidden_size=128, fc_hidden_size=32, num_layers=3, dropout_rate=0.5\n"
     ]
    },
    {
     "name": "stdout",
     "output_type": "stream",
     "text": [
      "{'lr': 0.001, 'embed_dim': 16, 'rnn_hidden_size': 128, 'fc_hidden_size': 32, 'num_layers': 3, 'dropout_rate': 0.5, 'val_accuracy': 0.49628886659979937}\n",
      "Testing with lr=0.001, embed_dim=16, rnn_hidden_size=128, fc_hidden_size=64, num_layers=1, dropout_rate=0\n"
     ]
    },
    {
     "name": "stdout",
     "output_type": "stream",
     "text": [
      "{'lr': 0.001, 'embed_dim': 16, 'rnn_hidden_size': 128, 'fc_hidden_size': 64, 'num_layers': 1, 'dropout_rate': 0, 'val_accuracy': 0.8583751253761284}\n",
      "Testing with lr=0.001, embed_dim=16, rnn_hidden_size=128, fc_hidden_size=64, num_layers=1, dropout_rate=0.3\n"
     ]
    },
    {
     "name": "stdout",
     "output_type": "stream",
     "text": [
      "{'lr': 0.001, 'embed_dim': 16, 'rnn_hidden_size': 128, 'fc_hidden_size': 64, 'num_layers': 1, 'dropout_rate': 0.3, 'val_accuracy': 0.8706118355065195}\n",
      "Testing with lr=0.001, embed_dim=16, rnn_hidden_size=128, fc_hidden_size=64, num_layers=1, dropout_rate=0.5\n"
     ]
    },
    {
     "name": "stdout",
     "output_type": "stream",
     "text": [
      "{'lr': 0.001, 'embed_dim': 16, 'rnn_hidden_size': 128, 'fc_hidden_size': 64, 'num_layers': 1, 'dropout_rate': 0.5, 'val_accuracy': 0.8605817452357071}\n",
      "Testing with lr=0.001, embed_dim=16, rnn_hidden_size=128, fc_hidden_size=64, num_layers=2, dropout_rate=0\n"
     ]
    },
    {
     "name": "stdout",
     "output_type": "stream",
     "text": [
      "{'lr': 0.001, 'embed_dim': 16, 'rnn_hidden_size': 128, 'fc_hidden_size': 64, 'num_layers': 2, 'dropout_rate': 0, 'val_accuracy': 0.8623871614844534}\n",
      "Testing with lr=0.001, embed_dim=16, rnn_hidden_size=128, fc_hidden_size=64, num_layers=2, dropout_rate=0.3\n"
     ]
    },
    {
     "name": "stdout",
     "output_type": "stream",
     "text": [
      "{'lr': 0.001, 'embed_dim': 16, 'rnn_hidden_size': 128, 'fc_hidden_size': 64, 'num_layers': 2, 'dropout_rate': 0.3, 'val_accuracy': 0.8565697091273822}\n",
      "Testing with lr=0.001, embed_dim=16, rnn_hidden_size=128, fc_hidden_size=64, num_layers=2, dropout_rate=0.5\n"
     ]
    },
    {
     "name": "stdout",
     "output_type": "stream",
     "text": [
      "{'lr': 0.001, 'embed_dim': 16, 'rnn_hidden_size': 128, 'fc_hidden_size': 64, 'num_layers': 2, 'dropout_rate': 0.5, 'val_accuracy': 0.8678034102306921}\n",
      "Testing with lr=0.001, embed_dim=16, rnn_hidden_size=128, fc_hidden_size=64, num_layers=3, dropout_rate=0\n"
     ]
    },
    {
     "name": "stdout",
     "output_type": "stream",
     "text": [
      "{'lr': 0.001, 'embed_dim': 16, 'rnn_hidden_size': 128, 'fc_hidden_size': 64, 'num_layers': 3, 'dropout_rate': 0, 'val_accuracy': 0.8704112337011033}\n",
      "Testing with lr=0.001, embed_dim=16, rnn_hidden_size=128, fc_hidden_size=64, num_layers=3, dropout_rate=0.3\n"
     ]
    },
    {
     "name": "stdout",
     "output_type": "stream",
     "text": [
      "{'lr': 0.001, 'embed_dim': 16, 'rnn_hidden_size': 128, 'fc_hidden_size': 64, 'num_layers': 3, 'dropout_rate': 0.3, 'val_accuracy': 0.7223671013039117}\n",
      "Testing with lr=0.001, embed_dim=16, rnn_hidden_size=128, fc_hidden_size=64, num_layers=3, dropout_rate=0.5\n"
     ]
    },
    {
     "name": "stdout",
     "output_type": "stream",
     "text": [
      "{'lr': 0.001, 'embed_dim': 16, 'rnn_hidden_size': 128, 'fc_hidden_size': 64, 'num_layers': 3, 'dropout_rate': 0.5, 'val_accuracy': 0.6816449348044132}\n",
      "Testing with lr=0.001, embed_dim=16, rnn_hidden_size=128, fc_hidden_size=128, num_layers=1, dropout_rate=0\n"
     ]
    },
    {
     "name": "stdout",
     "output_type": "stream",
     "text": [
      "{'lr': 0.001, 'embed_dim': 16, 'rnn_hidden_size': 128, 'fc_hidden_size': 128, 'num_layers': 1, 'dropout_rate': 0, 'val_accuracy': 0.880641925777332}\n",
      "Testing with lr=0.001, embed_dim=16, rnn_hidden_size=128, fc_hidden_size=128, num_layers=1, dropout_rate=0.3\n"
     ]
    },
    {
     "name": "stdout",
     "output_type": "stream",
     "text": [
      "{'lr': 0.001, 'embed_dim': 16, 'rnn_hidden_size': 128, 'fc_hidden_size': 128, 'num_layers': 1, 'dropout_rate': 0.3, 'val_accuracy': 0.8647943831494483}\n",
      "Testing with lr=0.001, embed_dim=16, rnn_hidden_size=128, fc_hidden_size=128, num_layers=1, dropout_rate=0.5\n"
     ]
    },
    {
     "name": "stdout",
     "output_type": "stream",
     "text": [
      "{'lr': 0.001, 'embed_dim': 16, 'rnn_hidden_size': 128, 'fc_hidden_size': 128, 'num_layers': 1, 'dropout_rate': 0.5, 'val_accuracy': 0.8609829488465396}\n",
      "Testing with lr=0.001, embed_dim=16, rnn_hidden_size=128, fc_hidden_size=128, num_layers=2, dropout_rate=0\n"
     ]
    },
    {
     "name": "stdout",
     "output_type": "stream",
     "text": [
      "{'lr': 0.001, 'embed_dim': 16, 'rnn_hidden_size': 128, 'fc_hidden_size': 128, 'num_layers': 2, 'dropout_rate': 0, 'val_accuracy': 0.8341023069207623}\n",
      "Testing with lr=0.001, embed_dim=16, rnn_hidden_size=128, fc_hidden_size=128, num_layers=2, dropout_rate=0.3\n"
     ]
    },
    {
     "name": "stdout",
     "output_type": "stream",
     "text": [
      "{'lr': 0.001, 'embed_dim': 16, 'rnn_hidden_size': 128, 'fc_hidden_size': 128, 'num_layers': 2, 'dropout_rate': 0.3, 'val_accuracy': 0.880641925777332}\n",
      "Testing with lr=0.001, embed_dim=16, rnn_hidden_size=128, fc_hidden_size=128, num_layers=2, dropout_rate=0.5\n"
     ]
    },
    {
     "name": "stdout",
     "output_type": "stream",
     "text": [
      "{'lr': 0.001, 'embed_dim': 16, 'rnn_hidden_size': 128, 'fc_hidden_size': 128, 'num_layers': 2, 'dropout_rate': 0.5, 'val_accuracy': 0.873420260782347}\n",
      "Testing with lr=0.001, embed_dim=16, rnn_hidden_size=128, fc_hidden_size=128, num_layers=3, dropout_rate=0\n"
     ]
    },
    {
     "name": "stdout",
     "output_type": "stream",
     "text": [
      "{'lr': 0.001, 'embed_dim': 16, 'rnn_hidden_size': 128, 'fc_hidden_size': 128, 'num_layers': 3, 'dropout_rate': 0, 'val_accuracy': 0.8778335005015045}\n",
      "Testing with lr=0.001, embed_dim=16, rnn_hidden_size=128, fc_hidden_size=128, num_layers=3, dropout_rate=0.3\n"
     ]
    },
    {
     "name": "stdout",
     "output_type": "stream",
     "text": [
      "{'lr': 0.001, 'embed_dim': 16, 'rnn_hidden_size': 128, 'fc_hidden_size': 128, 'num_layers': 3, 'dropout_rate': 0.3, 'val_accuracy': 0.8477432296890672}\n",
      "Testing with lr=0.001, embed_dim=16, rnn_hidden_size=128, fc_hidden_size=128, num_layers=3, dropout_rate=0.5\n"
     ]
    },
    {
     "name": "stdout",
     "output_type": "stream",
     "text": [
      "{'lr': 0.001, 'embed_dim': 16, 'rnn_hidden_size': 128, 'fc_hidden_size': 128, 'num_layers': 3, 'dropout_rate': 0.5, 'val_accuracy': 0.5037111334002006}\n",
      "Testing with lr=0.001, embed_dim=32, rnn_hidden_size=32, fc_hidden_size=32, num_layers=1, dropout_rate=0\n"
     ]
    },
    {
     "name": "stdout",
     "output_type": "stream",
     "text": [
      "{'lr': 0.001, 'embed_dim': 32, 'rnn_hidden_size': 32, 'fc_hidden_size': 32, 'num_layers': 1, 'dropout_rate': 0, 'val_accuracy': 0.8665997993981945}\n",
      "Testing with lr=0.001, embed_dim=32, rnn_hidden_size=32, fc_hidden_size=32, num_layers=1, dropout_rate=0.3\n"
     ]
    },
    {
     "name": "stdout",
     "output_type": "stream",
     "text": [
      "{'lr': 0.001, 'embed_dim': 32, 'rnn_hidden_size': 32, 'fc_hidden_size': 32, 'num_layers': 1, 'dropout_rate': 0.3, 'val_accuracy': 0.8409227683049147}\n",
      "Testing with lr=0.001, embed_dim=32, rnn_hidden_size=32, fc_hidden_size=32, num_layers=1, dropout_rate=0.5\n"
     ]
    },
    {
     "name": "stdout",
     "output_type": "stream",
     "text": [
      "{'lr': 0.001, 'embed_dim': 32, 'rnn_hidden_size': 32, 'fc_hidden_size': 32, 'num_layers': 1, 'dropout_rate': 0.5, 'val_accuracy': 0.8678034102306921}\n",
      "Testing with lr=0.001, embed_dim=32, rnn_hidden_size=32, fc_hidden_size=32, num_layers=2, dropout_rate=0\n"
     ]
    },
    {
     "name": "stdout",
     "output_type": "stream",
     "text": [
      "{'lr': 0.001, 'embed_dim': 32, 'rnn_hidden_size': 32, 'fc_hidden_size': 32, 'num_layers': 2, 'dropout_rate': 0, 'val_accuracy': 0.8720160481444333}\n",
      "Testing with lr=0.001, embed_dim=32, rnn_hidden_size=32, fc_hidden_size=32, num_layers=2, dropout_rate=0.3\n"
     ]
    },
    {
     "name": "stdout",
     "output_type": "stream",
     "text": [
      "{'lr': 0.001, 'embed_dim': 32, 'rnn_hidden_size': 32, 'fc_hidden_size': 32, 'num_layers': 2, 'dropout_rate': 0.3, 'val_accuracy': 0.879839518555667}\n",
      "Testing with lr=0.001, embed_dim=32, rnn_hidden_size=32, fc_hidden_size=32, num_layers=2, dropout_rate=0.5\n"
     ]
    },
    {
     "name": "stdout",
     "output_type": "stream",
     "text": [
      "{'lr': 0.001, 'embed_dim': 32, 'rnn_hidden_size': 32, 'fc_hidden_size': 32, 'num_layers': 2, 'dropout_rate': 0.5, 'val_accuracy': 0.8399197592778335}\n",
      "Testing with lr=0.001, embed_dim=32, rnn_hidden_size=32, fc_hidden_size=32, num_layers=3, dropout_rate=0\n"
     ]
    },
    {
     "name": "stdout",
     "output_type": "stream",
     "text": [
      "{'lr': 0.001, 'embed_dim': 32, 'rnn_hidden_size': 32, 'fc_hidden_size': 32, 'num_layers': 3, 'dropout_rate': 0, 'val_accuracy': 0.875827482447342}\n",
      "Testing with lr=0.001, embed_dim=32, rnn_hidden_size=32, fc_hidden_size=32, num_layers=3, dropout_rate=0.3\n"
     ]
    },
    {
     "name": "stdout",
     "output_type": "stream",
     "text": [
      "{'lr': 0.001, 'embed_dim': 32, 'rnn_hidden_size': 32, 'fc_hidden_size': 32, 'num_layers': 3, 'dropout_rate': 0.3, 'val_accuracy': 0.6864593781344032}\n",
      "Testing with lr=0.001, embed_dim=32, rnn_hidden_size=32, fc_hidden_size=32, num_layers=3, dropout_rate=0.5\n"
     ]
    },
    {
     "name": "stdout",
     "output_type": "stream",
     "text": [
      "{'lr': 0.001, 'embed_dim': 32, 'rnn_hidden_size': 32, 'fc_hidden_size': 32, 'num_layers': 3, 'dropout_rate': 0.5, 'val_accuracy': 0.49628886659979937}\n",
      "Testing with lr=0.001, embed_dim=32, rnn_hidden_size=32, fc_hidden_size=64, num_layers=1, dropout_rate=0\n"
     ]
    },
    {
     "name": "stdout",
     "output_type": "stream",
     "text": [
      "{'lr': 0.001, 'embed_dim': 32, 'rnn_hidden_size': 32, 'fc_hidden_size': 64, 'num_layers': 1, 'dropout_rate': 0, 'val_accuracy': 0.8613841524573721}\n",
      "Testing with lr=0.001, embed_dim=32, rnn_hidden_size=32, fc_hidden_size=64, num_layers=1, dropout_rate=0.3\n"
     ]
    },
    {
     "name": "stdout",
     "output_type": "stream",
     "text": [
      "{'lr': 0.001, 'embed_dim': 32, 'rnn_hidden_size': 32, 'fc_hidden_size': 64, 'num_layers': 1, 'dropout_rate': 0.3, 'val_accuracy': 0.8748244734202608}\n",
      "Testing with lr=0.001, embed_dim=32, rnn_hidden_size=32, fc_hidden_size=64, num_layers=1, dropout_rate=0.5\n"
     ]
    },
    {
     "name": "stdout",
     "output_type": "stream",
     "text": [
      "{'lr': 0.001, 'embed_dim': 32, 'rnn_hidden_size': 32, 'fc_hidden_size': 64, 'num_layers': 1, 'dropout_rate': 0.5, 'val_accuracy': 0.8585757271815446}\n",
      "Testing with lr=0.001, embed_dim=32, rnn_hidden_size=32, fc_hidden_size=64, num_layers=2, dropout_rate=0\n"
     ]
    },
    {
     "name": "stdout",
     "output_type": "stream",
     "text": [
      "{'lr': 0.001, 'embed_dim': 32, 'rnn_hidden_size': 32, 'fc_hidden_size': 64, 'num_layers': 2, 'dropout_rate': 0, 'val_accuracy': 0.8619859578736209}\n",
      "Testing with lr=0.001, embed_dim=32, rnn_hidden_size=32, fc_hidden_size=64, num_layers=2, dropout_rate=0.3\n"
     ]
    },
    {
     "name": "stdout",
     "output_type": "stream",
     "text": [
      "{'lr': 0.001, 'embed_dim': 32, 'rnn_hidden_size': 32, 'fc_hidden_size': 64, 'num_layers': 2, 'dropout_rate': 0.3, 'val_accuracy': 0.8541624874623872}\n",
      "Testing with lr=0.001, embed_dim=32, rnn_hidden_size=32, fc_hidden_size=64, num_layers=2, dropout_rate=0.5\n"
     ]
    },
    {
     "name": "stdout",
     "output_type": "stream",
     "text": [
      "{'lr': 0.001, 'embed_dim': 32, 'rnn_hidden_size': 32, 'fc_hidden_size': 64, 'num_layers': 2, 'dropout_rate': 0.5, 'val_accuracy': 0.8613841524573721}\n",
      "Testing with lr=0.001, embed_dim=32, rnn_hidden_size=32, fc_hidden_size=64, num_layers=3, dropout_rate=0\n"
     ]
    },
    {
     "name": "stdout",
     "output_type": "stream",
     "text": [
      "{'lr': 0.001, 'embed_dim': 32, 'rnn_hidden_size': 32, 'fc_hidden_size': 64, 'num_layers': 3, 'dropout_rate': 0, 'val_accuracy': 0.8527582748244734}\n",
      "Testing with lr=0.001, embed_dim=32, rnn_hidden_size=32, fc_hidden_size=64, num_layers=3, dropout_rate=0.3\n"
     ]
    },
    {
     "name": "stdout",
     "output_type": "stream",
     "text": [
      "{'lr': 0.001, 'embed_dim': 32, 'rnn_hidden_size': 32, 'fc_hidden_size': 64, 'num_layers': 3, 'dropout_rate': 0.3, 'val_accuracy': 0.5165496489468405}\n",
      "Testing with lr=0.001, embed_dim=32, rnn_hidden_size=32, fc_hidden_size=64, num_layers=3, dropout_rate=0.5\n"
     ]
    },
    {
     "name": "stdout",
     "output_type": "stream",
     "text": [
      "{'lr': 0.001, 'embed_dim': 32, 'rnn_hidden_size': 32, 'fc_hidden_size': 64, 'num_layers': 3, 'dropout_rate': 0.5, 'val_accuracy': 0.6816449348044132}\n",
      "Testing with lr=0.001, embed_dim=32, rnn_hidden_size=32, fc_hidden_size=128, num_layers=1, dropout_rate=0\n"
     ]
    },
    {
     "name": "stdout",
     "output_type": "stream",
     "text": [
      "{'lr': 0.001, 'embed_dim': 32, 'rnn_hidden_size': 32, 'fc_hidden_size': 128, 'num_layers': 1, 'dropout_rate': 0, 'val_accuracy': 0.8641925777331996}\n",
      "Testing with lr=0.001, embed_dim=32, rnn_hidden_size=32, fc_hidden_size=128, num_layers=1, dropout_rate=0.3\n"
     ]
    },
    {
     "name": "stdout",
     "output_type": "stream",
     "text": [
      "{'lr': 0.001, 'embed_dim': 32, 'rnn_hidden_size': 32, 'fc_hidden_size': 128, 'num_layers': 1, 'dropout_rate': 0.3, 'val_accuracy': 0.8322968906720161}\n",
      "Testing with lr=0.001, embed_dim=32, rnn_hidden_size=32, fc_hidden_size=128, num_layers=1, dropout_rate=0.5\n"
     ]
    },
    {
     "name": "stdout",
     "output_type": "stream",
     "text": [
      "{'lr': 0.001, 'embed_dim': 32, 'rnn_hidden_size': 32, 'fc_hidden_size': 128, 'num_layers': 1, 'dropout_rate': 0.5, 'val_accuracy': 0.8754262788365095}\n",
      "Testing with lr=0.001, embed_dim=32, rnn_hidden_size=32, fc_hidden_size=128, num_layers=2, dropout_rate=0\n"
     ]
    },
    {
     "name": "stdout",
     "output_type": "stream",
     "text": [
      "{'lr': 0.001, 'embed_dim': 32, 'rnn_hidden_size': 32, 'fc_hidden_size': 128, 'num_layers': 2, 'dropout_rate': 0, 'val_accuracy': 0.8547642928786359}\n",
      "Testing with lr=0.001, embed_dim=32, rnn_hidden_size=32, fc_hidden_size=128, num_layers=2, dropout_rate=0.3\n"
     ]
    },
    {
     "name": "stdout",
     "output_type": "stream",
     "text": [
      "{'lr': 0.001, 'embed_dim': 32, 'rnn_hidden_size': 32, 'fc_hidden_size': 128, 'num_layers': 2, 'dropout_rate': 0.3, 'val_accuracy': 0.8162487462387161}\n",
      "Testing with lr=0.001, embed_dim=32, rnn_hidden_size=32, fc_hidden_size=128, num_layers=2, dropout_rate=0.5\n"
     ]
    },
    {
     "name": "stdout",
     "output_type": "stream",
     "text": [
      "{'lr': 0.001, 'embed_dim': 32, 'rnn_hidden_size': 32, 'fc_hidden_size': 128, 'num_layers': 2, 'dropout_rate': 0.5, 'val_accuracy': 0.8778335005015045}\n",
      "Testing with lr=0.001, embed_dim=32, rnn_hidden_size=32, fc_hidden_size=128, num_layers=3, dropout_rate=0\n"
     ]
    },
    {
     "name": "stdout",
     "output_type": "stream",
     "text": [
      "{'lr': 0.001, 'embed_dim': 32, 'rnn_hidden_size': 32, 'fc_hidden_size': 128, 'num_layers': 3, 'dropout_rate': 0, 'val_accuracy': 0.6896690070210632}\n",
      "Testing with lr=0.001, embed_dim=32, rnn_hidden_size=32, fc_hidden_size=128, num_layers=3, dropout_rate=0.3\n"
     ]
    },
    {
     "name": "stdout",
     "output_type": "stream",
     "text": [
      "{'lr': 0.001, 'embed_dim': 32, 'rnn_hidden_size': 32, 'fc_hidden_size': 128, 'num_layers': 3, 'dropout_rate': 0.3, 'val_accuracy': 0.8641925777331996}\n",
      "Testing with lr=0.001, embed_dim=32, rnn_hidden_size=32, fc_hidden_size=128, num_layers=3, dropout_rate=0.5\n"
     ]
    },
    {
     "name": "stdout",
     "output_type": "stream",
     "text": [
      "{'lr': 0.001, 'embed_dim': 32, 'rnn_hidden_size': 32, 'fc_hidden_size': 128, 'num_layers': 3, 'dropout_rate': 0.5, 'val_accuracy': 0.8686058174523571}\n",
      "Testing with lr=0.001, embed_dim=32, rnn_hidden_size=64, fc_hidden_size=32, num_layers=1, dropout_rate=0\n"
     ]
    },
    {
     "name": "stdout",
     "output_type": "stream",
     "text": [
      "{'lr': 0.001, 'embed_dim': 32, 'rnn_hidden_size': 64, 'fc_hidden_size': 32, 'num_layers': 1, 'dropout_rate': 0, 'val_accuracy': 0.874222668004012}\n",
      "Testing with lr=0.001, embed_dim=32, rnn_hidden_size=64, fc_hidden_size=32, num_layers=1, dropout_rate=0.3\n"
     ]
    },
    {
     "name": "stdout",
     "output_type": "stream",
     "text": [
      "{'lr': 0.001, 'embed_dim': 32, 'rnn_hidden_size': 64, 'fc_hidden_size': 32, 'num_layers': 1, 'dropout_rate': 0.3, 'val_accuracy': 0.8645937813440321}\n",
      "Testing with lr=0.001, embed_dim=32, rnn_hidden_size=64, fc_hidden_size=32, num_layers=1, dropout_rate=0.5\n"
     ]
    },
    {
     "name": "stdout",
     "output_type": "stream",
     "text": [
      "{'lr': 0.001, 'embed_dim': 32, 'rnn_hidden_size': 64, 'fc_hidden_size': 32, 'num_layers': 1, 'dropout_rate': 0.5, 'val_accuracy': 0.8487462387161484}\n",
      "Testing with lr=0.001, embed_dim=32, rnn_hidden_size=64, fc_hidden_size=32, num_layers=2, dropout_rate=0\n"
     ]
    },
    {
     "name": "stdout",
     "output_type": "stream",
     "text": [
      "{'lr': 0.001, 'embed_dim': 32, 'rnn_hidden_size': 64, 'fc_hidden_size': 32, 'num_layers': 2, 'dropout_rate': 0, 'val_accuracy': 0.8832497492477432}\n",
      "Testing with lr=0.001, embed_dim=32, rnn_hidden_size=64, fc_hidden_size=32, num_layers=2, dropout_rate=0.3\n"
     ]
    },
    {
     "name": "stdout",
     "output_type": "stream",
     "text": [
      "{'lr': 0.001, 'embed_dim': 32, 'rnn_hidden_size': 64, 'fc_hidden_size': 32, 'num_layers': 2, 'dropout_rate': 0.3, 'val_accuracy': 0.8583751253761284}\n",
      "Testing with lr=0.001, embed_dim=32, rnn_hidden_size=64, fc_hidden_size=32, num_layers=2, dropout_rate=0.5\n"
     ]
    },
    {
     "name": "stdout",
     "output_type": "stream",
     "text": [
      "{'lr': 0.001, 'embed_dim': 32, 'rnn_hidden_size': 64, 'fc_hidden_size': 32, 'num_layers': 2, 'dropout_rate': 0.5, 'val_accuracy': 0.8692076228686059}\n",
      "Testing with lr=0.001, embed_dim=32, rnn_hidden_size=64, fc_hidden_size=32, num_layers=3, dropout_rate=0\n"
     ]
    },
    {
     "name": "stdout",
     "output_type": "stream",
     "text": [
      "{'lr': 0.001, 'embed_dim': 32, 'rnn_hidden_size': 64, 'fc_hidden_size': 32, 'num_layers': 3, 'dropout_rate': 0, 'val_accuracy': 0.794383149448345}\n",
      "Testing with lr=0.001, embed_dim=32, rnn_hidden_size=64, fc_hidden_size=32, num_layers=3, dropout_rate=0.3\n"
     ]
    },
    {
     "name": "stdout",
     "output_type": "stream",
     "text": [
      "{'lr': 0.001, 'embed_dim': 32, 'rnn_hidden_size': 64, 'fc_hidden_size': 32, 'num_layers': 3, 'dropout_rate': 0.3, 'val_accuracy': 0.8597793380140422}\n",
      "Testing with lr=0.001, embed_dim=32, rnn_hidden_size=64, fc_hidden_size=32, num_layers=3, dropout_rate=0.5\n"
     ]
    },
    {
     "name": "stdout",
     "output_type": "stream",
     "text": [
      "{'lr': 0.001, 'embed_dim': 32, 'rnn_hidden_size': 64, 'fc_hidden_size': 32, 'num_layers': 3, 'dropout_rate': 0.5, 'val_accuracy': 0.7420260782347041}\n",
      "Testing with lr=0.001, embed_dim=32, rnn_hidden_size=64, fc_hidden_size=64, num_layers=1, dropout_rate=0\n"
     ]
    },
    {
     "name": "stdout",
     "output_type": "stream",
     "text": [
      "{'lr': 0.001, 'embed_dim': 32, 'rnn_hidden_size': 64, 'fc_hidden_size': 64, 'num_layers': 1, 'dropout_rate': 0, 'val_accuracy': 0.8764292878635908}\n",
      "Testing with lr=0.001, embed_dim=32, rnn_hidden_size=64, fc_hidden_size=64, num_layers=1, dropout_rate=0.3\n"
     ]
    },
    {
     "name": "stdout",
     "output_type": "stream",
     "text": [
      "{'lr': 0.001, 'embed_dim': 32, 'rnn_hidden_size': 64, 'fc_hidden_size': 64, 'num_layers': 1, 'dropout_rate': 0.3, 'val_accuracy': 0.8780341023069208}\n",
      "Testing with lr=0.001, embed_dim=32, rnn_hidden_size=64, fc_hidden_size=64, num_layers=1, dropout_rate=0.5\n"
     ]
    },
    {
     "name": "stdout",
     "output_type": "stream",
     "text": [
      "{'lr': 0.001, 'embed_dim': 32, 'rnn_hidden_size': 64, 'fc_hidden_size': 64, 'num_layers': 1, 'dropout_rate': 0.5, 'val_accuracy': 0.8698094282848545}\n",
      "Testing with lr=0.001, embed_dim=32, rnn_hidden_size=64, fc_hidden_size=64, num_layers=2, dropout_rate=0\n"
     ]
    },
    {
     "name": "stdout",
     "output_type": "stream",
     "text": [
      "{'lr': 0.001, 'embed_dim': 32, 'rnn_hidden_size': 64, 'fc_hidden_size': 64, 'num_layers': 2, 'dropout_rate': 0, 'val_accuracy': 0.869408224674022}\n",
      "Testing with lr=0.001, embed_dim=32, rnn_hidden_size=64, fc_hidden_size=64, num_layers=2, dropout_rate=0.3\n"
     ]
    },
    {
     "name": "stdout",
     "output_type": "stream",
     "text": [
      "{'lr': 0.001, 'embed_dim': 32, 'rnn_hidden_size': 64, 'fc_hidden_size': 64, 'num_layers': 2, 'dropout_rate': 0.3, 'val_accuracy': 0.8730190571715145}\n",
      "Testing with lr=0.001, embed_dim=32, rnn_hidden_size=64, fc_hidden_size=64, num_layers=2, dropout_rate=0.5\n"
     ]
    },
    {
     "name": "stdout",
     "output_type": "stream",
     "text": [
      "{'lr': 0.001, 'embed_dim': 32, 'rnn_hidden_size': 64, 'fc_hidden_size': 64, 'num_layers': 2, 'dropout_rate': 0.5, 'val_accuracy': 0.8561685055165497}\n",
      "Testing with lr=0.001, embed_dim=32, rnn_hidden_size=64, fc_hidden_size=64, num_layers=3, dropout_rate=0\n"
     ]
    },
    {
     "name": "stdout",
     "output_type": "stream",
     "text": [
      "{'lr': 0.001, 'embed_dim': 32, 'rnn_hidden_size': 64, 'fc_hidden_size': 64, 'num_layers': 3, 'dropout_rate': 0, 'val_accuracy': 0.879037111334002}\n",
      "Testing with lr=0.001, embed_dim=32, rnn_hidden_size=64, fc_hidden_size=64, num_layers=3, dropout_rate=0.3\n"
     ]
    },
    {
     "name": "stdout",
     "output_type": "stream",
     "text": [
      "{'lr': 0.001, 'embed_dim': 32, 'rnn_hidden_size': 64, 'fc_hidden_size': 64, 'num_layers': 3, 'dropout_rate': 0.3, 'val_accuracy': 0.8736208625877633}\n",
      "Testing with lr=0.001, embed_dim=32, rnn_hidden_size=64, fc_hidden_size=64, num_layers=3, dropout_rate=0.5\n"
     ]
    },
    {
     "name": "stdout",
     "output_type": "stream",
     "text": [
      "{'lr': 0.001, 'embed_dim': 32, 'rnn_hidden_size': 64, 'fc_hidden_size': 64, 'num_layers': 3, 'dropout_rate': 0.5, 'val_accuracy': 0.8597793380140422}\n",
      "Testing with lr=0.001, embed_dim=32, rnn_hidden_size=64, fc_hidden_size=128, num_layers=1, dropout_rate=0\n"
     ]
    },
    {
     "name": "stdout",
     "output_type": "stream",
     "text": [
      "{'lr': 0.001, 'embed_dim': 32, 'rnn_hidden_size': 64, 'fc_hidden_size': 128, 'num_layers': 1, 'dropout_rate': 0, 'val_accuracy': 0.8732196589769308}\n",
      "Testing with lr=0.001, embed_dim=32, rnn_hidden_size=64, fc_hidden_size=128, num_layers=1, dropout_rate=0.3\n"
     ]
    },
    {
     "name": "stdout",
     "output_type": "stream",
     "text": [
      "{'lr': 0.001, 'embed_dim': 32, 'rnn_hidden_size': 64, 'fc_hidden_size': 128, 'num_layers': 1, 'dropout_rate': 0.3, 'val_accuracy': 0.8778335005015045}\n",
      "Testing with lr=0.001, embed_dim=32, rnn_hidden_size=64, fc_hidden_size=128, num_layers=1, dropout_rate=0.5\n"
     ]
    },
    {
     "name": "stdout",
     "output_type": "stream",
     "text": [
      "{'lr': 0.001, 'embed_dim': 32, 'rnn_hidden_size': 64, 'fc_hidden_size': 128, 'num_layers': 1, 'dropout_rate': 0.5, 'val_accuracy': 0.8796389167502507}\n",
      "Testing with lr=0.001, embed_dim=32, rnn_hidden_size=64, fc_hidden_size=128, num_layers=2, dropout_rate=0\n"
     ]
    },
    {
     "name": "stdout",
     "output_type": "stream",
     "text": [
      "{'lr': 0.001, 'embed_dim': 32, 'rnn_hidden_size': 64, 'fc_hidden_size': 128, 'num_layers': 2, 'dropout_rate': 0, 'val_accuracy': 0.8718154463390171}\n",
      "Testing with lr=0.001, embed_dim=32, rnn_hidden_size=64, fc_hidden_size=128, num_layers=2, dropout_rate=0.3\n"
     ]
    },
    {
     "name": "stdout",
     "output_type": "stream",
     "text": [
      "{'lr': 0.001, 'embed_dim': 32, 'rnn_hidden_size': 64, 'fc_hidden_size': 128, 'num_layers': 2, 'dropout_rate': 0.3, 'val_accuracy': 0.8818455366098295}\n",
      "Testing with lr=0.001, embed_dim=32, rnn_hidden_size=64, fc_hidden_size=128, num_layers=2, dropout_rate=0.5\n"
     ]
    },
    {
     "name": "stdout",
     "output_type": "stream",
     "text": [
      "{'lr': 0.001, 'embed_dim': 32, 'rnn_hidden_size': 64, 'fc_hidden_size': 128, 'num_layers': 2, 'dropout_rate': 0.5, 'val_accuracy': 0.8038114343029087}\n",
      "Testing with lr=0.001, embed_dim=32, rnn_hidden_size=64, fc_hidden_size=128, num_layers=3, dropout_rate=0\n"
     ]
    },
    {
     "name": "stdout",
     "output_type": "stream",
     "text": [
      "{'lr': 0.001, 'embed_dim': 32, 'rnn_hidden_size': 64, 'fc_hidden_size': 128, 'num_layers': 3, 'dropout_rate': 0, 'val_accuracy': 0.8577733199598796}\n",
      "Testing with lr=0.001, embed_dim=32, rnn_hidden_size=64, fc_hidden_size=128, num_layers=3, dropout_rate=0.3\n"
     ]
    },
    {
     "name": "stdout",
     "output_type": "stream",
     "text": [
      "{'lr': 0.001, 'embed_dim': 32, 'rnn_hidden_size': 64, 'fc_hidden_size': 128, 'num_layers': 3, 'dropout_rate': 0.3, 'val_accuracy': 0.8682046138415246}\n",
      "Testing with lr=0.001, embed_dim=32, rnn_hidden_size=64, fc_hidden_size=128, num_layers=3, dropout_rate=0.5\n"
     ]
    },
    {
     "name": "stdout",
     "output_type": "stream",
     "text": [
      "{'lr': 0.001, 'embed_dim': 32, 'rnn_hidden_size': 64, 'fc_hidden_size': 128, 'num_layers': 3, 'dropout_rate': 0.5, 'val_accuracy': 0.8611835506519558}\n",
      "Testing with lr=0.001, embed_dim=32, rnn_hidden_size=128, fc_hidden_size=32, num_layers=1, dropout_rate=0\n"
     ]
    },
    {
     "name": "stdout",
     "output_type": "stream",
     "text": [
      "{'lr': 0.001, 'embed_dim': 32, 'rnn_hidden_size': 128, 'fc_hidden_size': 32, 'num_layers': 1, 'dropout_rate': 0, 'val_accuracy': 0.8635907723169508}\n",
      "Testing with lr=0.001, embed_dim=32, rnn_hidden_size=128, fc_hidden_size=32, num_layers=1, dropout_rate=0.3\n"
     ]
    },
    {
     "name": "stdout",
     "output_type": "stream",
     "text": [
      "{'lr': 0.001, 'embed_dim': 32, 'rnn_hidden_size': 128, 'fc_hidden_size': 32, 'num_layers': 1, 'dropout_rate': 0.3, 'val_accuracy': 0.8764292878635908}\n",
      "Testing with lr=0.001, embed_dim=32, rnn_hidden_size=128, fc_hidden_size=32, num_layers=1, dropout_rate=0.5\n"
     ]
    },
    {
     "name": "stdout",
     "output_type": "stream",
     "text": [
      "{'lr': 0.001, 'embed_dim': 32, 'rnn_hidden_size': 128, 'fc_hidden_size': 32, 'num_layers': 1, 'dropout_rate': 0.5, 'val_accuracy': 0.8686058174523571}\n",
      "Testing with lr=0.001, embed_dim=32, rnn_hidden_size=128, fc_hidden_size=32, num_layers=2, dropout_rate=0\n"
     ]
    },
    {
     "name": "stdout",
     "output_type": "stream",
     "text": [
      "{'lr': 0.001, 'embed_dim': 32, 'rnn_hidden_size': 128, 'fc_hidden_size': 32, 'num_layers': 2, 'dropout_rate': 0, 'val_accuracy': 0.8802407221664995}\n",
      "Testing with lr=0.001, embed_dim=32, rnn_hidden_size=128, fc_hidden_size=32, num_layers=2, dropout_rate=0.3\n"
     ]
    },
    {
     "name": "stdout",
     "output_type": "stream",
     "text": [
      "{'lr': 0.001, 'embed_dim': 32, 'rnn_hidden_size': 128, 'fc_hidden_size': 32, 'num_layers': 2, 'dropout_rate': 0.3, 'val_accuracy': 0.8814443329989969}\n",
      "Testing with lr=0.001, embed_dim=32, rnn_hidden_size=128, fc_hidden_size=32, num_layers=2, dropout_rate=0.5\n"
     ]
    },
    {
     "name": "stdout",
     "output_type": "stream",
     "text": [
      "{'lr': 0.001, 'embed_dim': 32, 'rnn_hidden_size': 128, 'fc_hidden_size': 32, 'num_layers': 2, 'dropout_rate': 0.5, 'val_accuracy': 0.8756268806419257}\n",
      "Testing with lr=0.001, embed_dim=32, rnn_hidden_size=128, fc_hidden_size=32, num_layers=3, dropout_rate=0\n"
     ]
    },
    {
     "name": "stdout",
     "output_type": "stream",
     "text": [
      "{'lr': 0.001, 'embed_dim': 32, 'rnn_hidden_size': 128, 'fc_hidden_size': 32, 'num_layers': 3, 'dropout_rate': 0, 'val_accuracy': 0.8776328986960883}\n",
      "Testing with lr=0.001, embed_dim=32, rnn_hidden_size=128, fc_hidden_size=32, num_layers=3, dropout_rate=0.3\n"
     ]
    },
    {
     "name": "stdout",
     "output_type": "stream",
     "text": [
      "{'lr': 0.001, 'embed_dim': 32, 'rnn_hidden_size': 128, 'fc_hidden_size': 32, 'num_layers': 3, 'dropout_rate': 0.3, 'val_accuracy': 0.7079237713139418}\n",
      "Testing with lr=0.001, embed_dim=32, rnn_hidden_size=128, fc_hidden_size=32, num_layers=3, dropout_rate=0.5\n"
     ]
    },
    {
     "name": "stdout",
     "output_type": "stream",
     "text": [
      "{'lr': 0.001, 'embed_dim': 32, 'rnn_hidden_size': 128, 'fc_hidden_size': 32, 'num_layers': 3, 'dropout_rate': 0.5, 'val_accuracy': 0.49628886659979937}\n",
      "Testing with lr=0.001, embed_dim=32, rnn_hidden_size=128, fc_hidden_size=64, num_layers=1, dropout_rate=0\n"
     ]
    },
    {
     "name": "stdout",
     "output_type": "stream",
     "text": [
      "{'lr': 0.001, 'embed_dim': 32, 'rnn_hidden_size': 128, 'fc_hidden_size': 64, 'num_layers': 1, 'dropout_rate': 0, 'val_accuracy': 0.8559679037111334}\n",
      "Testing with lr=0.001, embed_dim=32, rnn_hidden_size=128, fc_hidden_size=64, num_layers=1, dropout_rate=0.3\n"
     ]
    },
    {
     "name": "stdout",
     "output_type": "stream",
     "text": [
      "{'lr': 0.001, 'embed_dim': 32, 'rnn_hidden_size': 128, 'fc_hidden_size': 64, 'num_layers': 1, 'dropout_rate': 0.3, 'val_accuracy': 0.8597793380140422}\n",
      "Testing with lr=0.001, embed_dim=32, rnn_hidden_size=128, fc_hidden_size=64, num_layers=1, dropout_rate=0.5\n"
     ]
    },
    {
     "name": "stdout",
     "output_type": "stream",
     "text": [
      "{'lr': 0.001, 'embed_dim': 32, 'rnn_hidden_size': 128, 'fc_hidden_size': 64, 'num_layers': 1, 'dropout_rate': 0.5, 'val_accuracy': 0.8635907723169508}\n",
      "Testing with lr=0.001, embed_dim=32, rnn_hidden_size=128, fc_hidden_size=64, num_layers=2, dropout_rate=0\n"
     ]
    },
    {
     "name": "stdout",
     "output_type": "stream",
     "text": [
      "{'lr': 0.001, 'embed_dim': 32, 'rnn_hidden_size': 128, 'fc_hidden_size': 64, 'num_layers': 2, 'dropout_rate': 0, 'val_accuracy': 0.8844533600802407}\n",
      "Testing with lr=0.001, embed_dim=32, rnn_hidden_size=128, fc_hidden_size=64, num_layers=2, dropout_rate=0.3\n"
     ]
    },
    {
     "name": "stdout",
     "output_type": "stream",
     "text": [
      "{'lr': 0.001, 'embed_dim': 32, 'rnn_hidden_size': 128, 'fc_hidden_size': 64, 'num_layers': 2, 'dropout_rate': 0.3, 'val_accuracy': 0.8698094282848545}\n",
      "Testing with lr=0.001, embed_dim=32, rnn_hidden_size=128, fc_hidden_size=64, num_layers=2, dropout_rate=0.5\n"
     ]
    },
    {
     "name": "stdout",
     "output_type": "stream",
     "text": [
      "{'lr': 0.001, 'embed_dim': 32, 'rnn_hidden_size': 128, 'fc_hidden_size': 64, 'num_layers': 2, 'dropout_rate': 0.5, 'val_accuracy': 0.8744232698094283}\n",
      "Testing with lr=0.001, embed_dim=32, rnn_hidden_size=128, fc_hidden_size=64, num_layers=3, dropout_rate=0\n"
     ]
    },
    {
     "name": "stdout",
     "output_type": "stream",
     "text": [
      "{'lr': 0.001, 'embed_dim': 32, 'rnn_hidden_size': 128, 'fc_hidden_size': 64, 'num_layers': 3, 'dropout_rate': 0, 'val_accuracy': 0.49628886659979937}\n",
      "Testing with lr=0.001, embed_dim=32, rnn_hidden_size=128, fc_hidden_size=64, num_layers=3, dropout_rate=0.3\n"
     ]
    },
    {
     "name": "stdout",
     "output_type": "stream",
     "text": [
      "{'lr': 0.001, 'embed_dim': 32, 'rnn_hidden_size': 128, 'fc_hidden_size': 64, 'num_layers': 3, 'dropout_rate': 0.3, 'val_accuracy': 0.8732196589769308}\n",
      "Testing with lr=0.001, embed_dim=32, rnn_hidden_size=128, fc_hidden_size=64, num_layers=3, dropout_rate=0.5\n"
     ]
    },
    {
     "name": "stdout",
     "output_type": "stream",
     "text": [
      "{'lr': 0.001, 'embed_dim': 32, 'rnn_hidden_size': 128, 'fc_hidden_size': 64, 'num_layers': 3, 'dropout_rate': 0.5, 'val_accuracy': 0.8573721163490471}\n",
      "Testing with lr=0.001, embed_dim=32, rnn_hidden_size=128, fc_hidden_size=128, num_layers=1, dropout_rate=0\n"
     ]
    },
    {
     "name": "stdout",
     "output_type": "stream",
     "text": [
      "{'lr': 0.001, 'embed_dim': 32, 'rnn_hidden_size': 128, 'fc_hidden_size': 128, 'num_layers': 1, 'dropout_rate': 0, 'val_accuracy': 0.8802407221664995}\n",
      "Testing with lr=0.001, embed_dim=32, rnn_hidden_size=128, fc_hidden_size=128, num_layers=1, dropout_rate=0.3\n"
     ]
    },
    {
     "name": "stdout",
     "output_type": "stream",
     "text": [
      "{'lr': 0.001, 'embed_dim': 32, 'rnn_hidden_size': 128, 'fc_hidden_size': 128, 'num_layers': 1, 'dropout_rate': 0.3, 'val_accuracy': 0.879839518555667}\n",
      "Testing with lr=0.001, embed_dim=32, rnn_hidden_size=128, fc_hidden_size=128, num_layers=1, dropout_rate=0.5\n"
     ]
    },
    {
     "name": "stdout",
     "output_type": "stream",
     "text": [
      "{'lr': 0.001, 'embed_dim': 32, 'rnn_hidden_size': 128, 'fc_hidden_size': 128, 'num_layers': 1, 'dropout_rate': 0.5, 'val_accuracy': 0.8519558676028084}\n",
      "Testing with lr=0.001, embed_dim=32, rnn_hidden_size=128, fc_hidden_size=128, num_layers=2, dropout_rate=0\n"
     ]
    },
    {
     "name": "stdout",
     "output_type": "stream",
     "text": [
      "{'lr': 0.001, 'embed_dim': 32, 'rnn_hidden_size': 128, 'fc_hidden_size': 128, 'num_layers': 2, 'dropout_rate': 0, 'val_accuracy': 0.8828485456369107}\n",
      "Testing with lr=0.001, embed_dim=32, rnn_hidden_size=128, fc_hidden_size=128, num_layers=2, dropout_rate=0.3\n"
     ]
    },
    {
     "name": "stdout",
     "output_type": "stream",
     "text": [
      "{'lr': 0.001, 'embed_dim': 32, 'rnn_hidden_size': 128, 'fc_hidden_size': 128, 'num_layers': 2, 'dropout_rate': 0.3, 'val_accuracy': 0.8770310932798395}\n",
      "Testing with lr=0.001, embed_dim=32, rnn_hidden_size=128, fc_hidden_size=128, num_layers=2, dropout_rate=0.5\n"
     ]
    },
    {
     "name": "stdout",
     "output_type": "stream",
     "text": [
      "{'lr': 0.001, 'embed_dim': 32, 'rnn_hidden_size': 128, 'fc_hidden_size': 128, 'num_layers': 2, 'dropout_rate': 0.5, 'val_accuracy': 0.8848545636910732}\n",
      "Testing with lr=0.001, embed_dim=32, rnn_hidden_size=128, fc_hidden_size=128, num_layers=3, dropout_rate=0\n"
     ]
    },
    {
     "name": "stdout",
     "output_type": "stream",
     "text": [
      "{'lr': 0.001, 'embed_dim': 32, 'rnn_hidden_size': 128, 'fc_hidden_size': 128, 'num_layers': 3, 'dropout_rate': 0, 'val_accuracy': 0.8692076228686059}\n",
      "Testing with lr=0.001, embed_dim=32, rnn_hidden_size=128, fc_hidden_size=128, num_layers=3, dropout_rate=0.3\n"
     ]
    },
    {
     "name": "stdout",
     "output_type": "stream",
     "text": [
      "{'lr': 0.001, 'embed_dim': 32, 'rnn_hidden_size': 128, 'fc_hidden_size': 128, 'num_layers': 3, 'dropout_rate': 0.3, 'val_accuracy': 0.879839518555667}\n",
      "Testing with lr=0.001, embed_dim=32, rnn_hidden_size=128, fc_hidden_size=128, num_layers=3, dropout_rate=0.5\n"
     ]
    },
    {
     "name": "stdout",
     "output_type": "stream",
     "text": [
      "{'lr': 0.001, 'embed_dim': 32, 'rnn_hidden_size': 128, 'fc_hidden_size': 128, 'num_layers': 3, 'dropout_rate': 0.5, 'val_accuracy': 0.8415245737211635}\n",
      "Testing with lr=0.001, embed_dim=64, rnn_hidden_size=32, fc_hidden_size=32, num_layers=1, dropout_rate=0\n"
     ]
    },
    {
     "name": "stdout",
     "output_type": "stream",
     "text": [
      "{'lr': 0.001, 'embed_dim': 64, 'rnn_hidden_size': 32, 'fc_hidden_size': 32, 'num_layers': 1, 'dropout_rate': 0, 'val_accuracy': 0.8750250752256771}\n",
      "Testing with lr=0.001, embed_dim=64, rnn_hidden_size=32, fc_hidden_size=32, num_layers=1, dropout_rate=0.3\n"
     ]
    },
    {
     "name": "stdout",
     "output_type": "stream",
     "text": [
      "{'lr': 0.001, 'embed_dim': 64, 'rnn_hidden_size': 32, 'fc_hidden_size': 32, 'num_layers': 1, 'dropout_rate': 0.3, 'val_accuracy': 0.8716148445336008}\n",
      "Testing with lr=0.001, embed_dim=64, rnn_hidden_size=32, fc_hidden_size=32, num_layers=1, dropout_rate=0.5\n"
     ]
    },
    {
     "name": "stdout",
     "output_type": "stream",
     "text": [
      "{'lr': 0.001, 'embed_dim': 64, 'rnn_hidden_size': 32, 'fc_hidden_size': 32, 'num_layers': 1, 'dropout_rate': 0.5, 'val_accuracy': 0.8720160481444333}\n",
      "Testing with lr=0.001, embed_dim=64, rnn_hidden_size=32, fc_hidden_size=32, num_layers=2, dropout_rate=0\n"
     ]
    },
    {
     "name": "stdout",
     "output_type": "stream",
     "text": [
      "{'lr': 0.001, 'embed_dim': 64, 'rnn_hidden_size': 32, 'fc_hidden_size': 32, 'num_layers': 2, 'dropout_rate': 0, 'val_accuracy': 0.8625877632898696}\n",
      "Testing with lr=0.001, embed_dim=64, rnn_hidden_size=32, fc_hidden_size=32, num_layers=2, dropout_rate=0.3\n"
     ]
    },
    {
     "name": "stdout",
     "output_type": "stream",
     "text": [
      "{'lr': 0.001, 'embed_dim': 64, 'rnn_hidden_size': 32, 'fc_hidden_size': 32, 'num_layers': 2, 'dropout_rate': 0.3, 'val_accuracy': 0.8746238716148446}\n",
      "Testing with lr=0.001, embed_dim=64, rnn_hidden_size=32, fc_hidden_size=32, num_layers=2, dropout_rate=0.5\n"
     ]
    },
    {
     "name": "stdout",
     "output_type": "stream",
     "text": [
      "{'lr': 0.001, 'embed_dim': 64, 'rnn_hidden_size': 32, 'fc_hidden_size': 32, 'num_layers': 2, 'dropout_rate': 0.5, 'val_accuracy': 0.8722166499498496}\n",
      "Testing with lr=0.001, embed_dim=64, rnn_hidden_size=32, fc_hidden_size=32, num_layers=3, dropout_rate=0\n"
     ]
    },
    {
     "name": "stdout",
     "output_type": "stream",
     "text": [
      "{'lr': 0.001, 'embed_dim': 64, 'rnn_hidden_size': 32, 'fc_hidden_size': 32, 'num_layers': 3, 'dropout_rate': 0, 'val_accuracy': 0.8635907723169508}\n",
      "Testing with lr=0.001, embed_dim=64, rnn_hidden_size=32, fc_hidden_size=32, num_layers=3, dropout_rate=0.3\n"
     ]
    },
    {
     "name": "stdout",
     "output_type": "stream",
     "text": [
      "{'lr': 0.001, 'embed_dim': 64, 'rnn_hidden_size': 32, 'fc_hidden_size': 32, 'num_layers': 3, 'dropout_rate': 0.3, 'val_accuracy': 0.8756268806419257}\n",
      "Testing with lr=0.001, embed_dim=64, rnn_hidden_size=32, fc_hidden_size=32, num_layers=3, dropout_rate=0.5\n"
     ]
    },
    {
     "name": "stdout",
     "output_type": "stream",
     "text": [
      "{'lr': 0.001, 'embed_dim': 64, 'rnn_hidden_size': 32, 'fc_hidden_size': 32, 'num_layers': 3, 'dropout_rate': 0.5, 'val_accuracy': 0.8780341023069208}\n",
      "Testing with lr=0.001, embed_dim=64, rnn_hidden_size=32, fc_hidden_size=64, num_layers=1, dropout_rate=0\n"
     ]
    },
    {
     "name": "stdout",
     "output_type": "stream",
     "text": [
      "{'lr': 0.001, 'embed_dim': 64, 'rnn_hidden_size': 32, 'fc_hidden_size': 64, 'num_layers': 1, 'dropout_rate': 0, 'val_accuracy': 0.8712136409227683}\n",
      "Testing with lr=0.001, embed_dim=64, rnn_hidden_size=32, fc_hidden_size=64, num_layers=1, dropout_rate=0.3\n"
     ]
    },
    {
     "name": "stdout",
     "output_type": "stream",
     "text": [
      "{'lr': 0.001, 'embed_dim': 64, 'rnn_hidden_size': 32, 'fc_hidden_size': 64, 'num_layers': 1, 'dropout_rate': 0.3, 'val_accuracy': 0.8736208625877633}\n",
      "Testing with lr=0.001, embed_dim=64, rnn_hidden_size=32, fc_hidden_size=64, num_layers=1, dropout_rate=0.5\n"
     ]
    },
    {
     "name": "stdout",
     "output_type": "stream",
     "text": [
      "{'lr': 0.001, 'embed_dim': 64, 'rnn_hidden_size': 32, 'fc_hidden_size': 64, 'num_layers': 1, 'dropout_rate': 0.5, 'val_accuracy': 0.8674022066198596}\n",
      "Testing with lr=0.001, embed_dim=64, rnn_hidden_size=32, fc_hidden_size=64, num_layers=2, dropout_rate=0\n"
     ]
    },
    {
     "name": "stdout",
     "output_type": "stream",
     "text": [
      "{'lr': 0.001, 'embed_dim': 64, 'rnn_hidden_size': 32, 'fc_hidden_size': 64, 'num_layers': 2, 'dropout_rate': 0, 'val_accuracy': 0.8824473420260782}\n",
      "Testing with lr=0.001, embed_dim=64, rnn_hidden_size=32, fc_hidden_size=64, num_layers=2, dropout_rate=0.3\n"
     ]
    },
    {
     "name": "stdout",
     "output_type": "stream",
     "text": [
      "{'lr': 0.001, 'embed_dim': 64, 'rnn_hidden_size': 32, 'fc_hidden_size': 64, 'num_layers': 2, 'dropout_rate': 0.3, 'val_accuracy': 0.874222668004012}\n",
      "Testing with lr=0.001, embed_dim=64, rnn_hidden_size=32, fc_hidden_size=64, num_layers=2, dropout_rate=0.5\n"
     ]
    },
    {
     "name": "stdout",
     "output_type": "stream",
     "text": [
      "{'lr': 0.001, 'embed_dim': 64, 'rnn_hidden_size': 32, 'fc_hidden_size': 64, 'num_layers': 2, 'dropout_rate': 0.5, 'val_accuracy': 0.8834503510531595}\n",
      "Testing with lr=0.001, embed_dim=64, rnn_hidden_size=32, fc_hidden_size=64, num_layers=3, dropout_rate=0\n"
     ]
    },
    {
     "name": "stdout",
     "output_type": "stream",
     "text": [
      "{'lr': 0.001, 'embed_dim': 64, 'rnn_hidden_size': 32, 'fc_hidden_size': 64, 'num_layers': 3, 'dropout_rate': 0, 'val_accuracy': 0.8800401203610833}\n",
      "Testing with lr=0.001, embed_dim=64, rnn_hidden_size=32, fc_hidden_size=64, num_layers=3, dropout_rate=0.3\n"
     ]
    },
    {
     "name": "stdout",
     "output_type": "stream",
     "text": [
      "{'lr': 0.001, 'embed_dim': 64, 'rnn_hidden_size': 32, 'fc_hidden_size': 64, 'num_layers': 3, 'dropout_rate': 0.3, 'val_accuracy': 0.8710130391173521}\n",
      "Testing with lr=0.001, embed_dim=64, rnn_hidden_size=32, fc_hidden_size=64, num_layers=3, dropout_rate=0.5\n"
     ]
    },
    {
     "name": "stdout",
     "output_type": "stream",
     "text": [
      "{'lr': 0.001, 'embed_dim': 64, 'rnn_hidden_size': 32, 'fc_hidden_size': 64, 'num_layers': 3, 'dropout_rate': 0.5, 'val_accuracy': 0.8794383149448345}\n",
      "Testing with lr=0.001, embed_dim=64, rnn_hidden_size=32, fc_hidden_size=128, num_layers=1, dropout_rate=0\n"
     ]
    },
    {
     "name": "stdout",
     "output_type": "stream",
     "text": [
      "{'lr': 0.001, 'embed_dim': 64, 'rnn_hidden_size': 32, 'fc_hidden_size': 128, 'num_layers': 1, 'dropout_rate': 0, 'val_accuracy': 0.8688064192577734}\n",
      "Testing with lr=0.001, embed_dim=64, rnn_hidden_size=32, fc_hidden_size=128, num_layers=1, dropout_rate=0.3\n"
     ]
    },
    {
     "name": "stdout",
     "output_type": "stream",
     "text": [
      "{'lr': 0.001, 'embed_dim': 64, 'rnn_hidden_size': 32, 'fc_hidden_size': 128, 'num_layers': 1, 'dropout_rate': 0.3, 'val_accuracy': 0.8637913741223671}\n",
      "Testing with lr=0.001, embed_dim=64, rnn_hidden_size=32, fc_hidden_size=128, num_layers=1, dropout_rate=0.5\n"
     ]
    },
    {
     "name": "stdout",
     "output_type": "stream",
     "text": [
      "{'lr': 0.001, 'embed_dim': 64, 'rnn_hidden_size': 32, 'fc_hidden_size': 128, 'num_layers': 1, 'dropout_rate': 0.5, 'val_accuracy': 0.8589769307923771}\n",
      "Testing with lr=0.001, embed_dim=64, rnn_hidden_size=32, fc_hidden_size=128, num_layers=2, dropout_rate=0\n"
     ]
    },
    {
     "name": "stdout",
     "output_type": "stream",
     "text": [
      "{'lr': 0.001, 'embed_dim': 64, 'rnn_hidden_size': 32, 'fc_hidden_size': 128, 'num_layers': 2, 'dropout_rate': 0, 'val_accuracy': 0.8786359077231695}\n",
      "Testing with lr=0.001, embed_dim=64, rnn_hidden_size=32, fc_hidden_size=128, num_layers=2, dropout_rate=0.3\n"
     ]
    },
    {
     "name": "stdout",
     "output_type": "stream",
     "text": [
      "{'lr': 0.001, 'embed_dim': 64, 'rnn_hidden_size': 32, 'fc_hidden_size': 128, 'num_layers': 2, 'dropout_rate': 0.3, 'val_accuracy': 0.8732196589769308}\n",
      "Testing with lr=0.001, embed_dim=64, rnn_hidden_size=32, fc_hidden_size=128, num_layers=2, dropout_rate=0.5\n"
     ]
    },
    {
     "name": "stdout",
     "output_type": "stream",
     "text": [
      "{'lr': 0.001, 'embed_dim': 64, 'rnn_hidden_size': 32, 'fc_hidden_size': 128, 'num_layers': 2, 'dropout_rate': 0.5, 'val_accuracy': 0.8820461384152457}\n",
      "Testing with lr=0.001, embed_dim=64, rnn_hidden_size=32, fc_hidden_size=128, num_layers=3, dropout_rate=0\n"
     ]
    },
    {
     "name": "stdout",
     "output_type": "stream",
     "text": [
      "{'lr': 0.001, 'embed_dim': 64, 'rnn_hidden_size': 32, 'fc_hidden_size': 128, 'num_layers': 3, 'dropout_rate': 0, 'val_accuracy': 0.8782347041123371}\n",
      "Testing with lr=0.001, embed_dim=64, rnn_hidden_size=32, fc_hidden_size=128, num_layers=3, dropout_rate=0.3\n"
     ]
    },
    {
     "name": "stdout",
     "output_type": "stream",
     "text": [
      "{'lr': 0.001, 'embed_dim': 64, 'rnn_hidden_size': 32, 'fc_hidden_size': 128, 'num_layers': 3, 'dropout_rate': 0.3, 'val_accuracy': 0.8716148445336008}\n",
      "Testing with lr=0.001, embed_dim=64, rnn_hidden_size=32, fc_hidden_size=128, num_layers=3, dropout_rate=0.5\n"
     ]
    },
    {
     "name": "stdout",
     "output_type": "stream",
     "text": [
      "{'lr': 0.001, 'embed_dim': 64, 'rnn_hidden_size': 32, 'fc_hidden_size': 128, 'num_layers': 3, 'dropout_rate': 0.5, 'val_accuracy': 0.875827482447342}\n",
      "Testing with lr=0.001, embed_dim=64, rnn_hidden_size=64, fc_hidden_size=32, num_layers=1, dropout_rate=0\n"
     ]
    },
    {
     "name": "stdout",
     "output_type": "stream",
     "text": [
      "{'lr': 0.001, 'embed_dim': 64, 'rnn_hidden_size': 64, 'fc_hidden_size': 32, 'num_layers': 1, 'dropout_rate': 0, 'val_accuracy': 0.8794383149448345}\n",
      "Testing with lr=0.001, embed_dim=64, rnn_hidden_size=64, fc_hidden_size=32, num_layers=1, dropout_rate=0.3\n"
     ]
    },
    {
     "name": "stdout",
     "output_type": "stream",
     "text": [
      "{'lr': 0.001, 'embed_dim': 64, 'rnn_hidden_size': 64, 'fc_hidden_size': 32, 'num_layers': 1, 'dropout_rate': 0.3, 'val_accuracy': 0.874222668004012}\n",
      "Testing with lr=0.001, embed_dim=64, rnn_hidden_size=64, fc_hidden_size=32, num_layers=1, dropout_rate=0.5\n"
     ]
    },
    {
     "name": "stdout",
     "output_type": "stream",
     "text": [
      "{'lr': 0.001, 'embed_dim': 64, 'rnn_hidden_size': 64, 'fc_hidden_size': 32, 'num_layers': 1, 'dropout_rate': 0.5, 'val_accuracy': 0.8684052156469408}\n",
      "Testing with lr=0.001, embed_dim=64, rnn_hidden_size=64, fc_hidden_size=32, num_layers=2, dropout_rate=0\n"
     ]
    },
    {
     "name": "stdout",
     "output_type": "stream",
     "text": [
      "{'lr': 0.001, 'embed_dim': 64, 'rnn_hidden_size': 64, 'fc_hidden_size': 32, 'num_layers': 2, 'dropout_rate': 0, 'val_accuracy': 0.8832497492477432}\n",
      "Testing with lr=0.001, embed_dim=64, rnn_hidden_size=64, fc_hidden_size=32, num_layers=2, dropout_rate=0.3\n"
     ]
    },
    {
     "name": "stdout",
     "output_type": "stream",
     "text": [
      "{'lr': 0.001, 'embed_dim': 64, 'rnn_hidden_size': 64, 'fc_hidden_size': 32, 'num_layers': 2, 'dropout_rate': 0.3, 'val_accuracy': 0.8786359077231695}\n",
      "Testing with lr=0.001, embed_dim=64, rnn_hidden_size=64, fc_hidden_size=32, num_layers=2, dropout_rate=0.5\n"
     ]
    },
    {
     "name": "stdout",
     "output_type": "stream",
     "text": [
      "{'lr': 0.001, 'embed_dim': 64, 'rnn_hidden_size': 64, 'fc_hidden_size': 32, 'num_layers': 2, 'dropout_rate': 0.5, 'val_accuracy': 0.8627883650952859}\n",
      "Testing with lr=0.001, embed_dim=64, rnn_hidden_size=64, fc_hidden_size=32, num_layers=3, dropout_rate=0\n"
     ]
    },
    {
     "name": "stdout",
     "output_type": "stream",
     "text": [
      "{'lr': 0.001, 'embed_dim': 64, 'rnn_hidden_size': 64, 'fc_hidden_size': 32, 'num_layers': 3, 'dropout_rate': 0, 'val_accuracy': 0.8770310932798395}\n",
      "Testing with lr=0.001, embed_dim=64, rnn_hidden_size=64, fc_hidden_size=32, num_layers=3, dropout_rate=0.3\n"
     ]
    },
    {
     "name": "stdout",
     "output_type": "stream",
     "text": [
      "{'lr': 0.001, 'embed_dim': 64, 'rnn_hidden_size': 64, 'fc_hidden_size': 32, 'num_layers': 3, 'dropout_rate': 0.3, 'val_accuracy': 0.8740220661985958}\n",
      "Testing with lr=0.001, embed_dim=64, rnn_hidden_size=64, fc_hidden_size=32, num_layers=3, dropout_rate=0.5\n"
     ]
    },
    {
     "name": "stdout",
     "output_type": "stream",
     "text": [
      "{'lr': 0.001, 'embed_dim': 64, 'rnn_hidden_size': 64, 'fc_hidden_size': 32, 'num_layers': 3, 'dropout_rate': 0.5, 'val_accuracy': 0.8704112337011033}\n",
      "Testing with lr=0.001, embed_dim=64, rnn_hidden_size=64, fc_hidden_size=64, num_layers=1, dropout_rate=0\n"
     ]
    },
    {
     "name": "stdout",
     "output_type": "stream",
     "text": [
      "{'lr': 0.001, 'embed_dim': 64, 'rnn_hidden_size': 64, 'fc_hidden_size': 64, 'num_layers': 1, 'dropout_rate': 0, 'val_accuracy': 0.8812437311935808}\n",
      "Testing with lr=0.001, embed_dim=64, rnn_hidden_size=64, fc_hidden_size=64, num_layers=1, dropout_rate=0.3\n"
     ]
    },
    {
     "name": "stdout",
     "output_type": "stream",
     "text": [
      "{'lr': 0.001, 'embed_dim': 64, 'rnn_hidden_size': 64, 'fc_hidden_size': 64, 'num_layers': 1, 'dropout_rate': 0.3, 'val_accuracy': 0.8619859578736209}\n",
      "Testing with lr=0.001, embed_dim=64, rnn_hidden_size=64, fc_hidden_size=64, num_layers=1, dropout_rate=0.5\n"
     ]
    },
    {
     "name": "stdout",
     "output_type": "stream",
     "text": [
      "{'lr': 0.001, 'embed_dim': 64, 'rnn_hidden_size': 64, 'fc_hidden_size': 64, 'num_layers': 1, 'dropout_rate': 0.5, 'val_accuracy': 0.8784353059177532}\n",
      "Testing with lr=0.001, embed_dim=64, rnn_hidden_size=64, fc_hidden_size=64, num_layers=2, dropout_rate=0\n"
     ]
    },
    {
     "name": "stdout",
     "output_type": "stream",
     "text": [
      "{'lr': 0.001, 'embed_dim': 64, 'rnn_hidden_size': 64, 'fc_hidden_size': 64, 'num_layers': 2, 'dropout_rate': 0, 'val_accuracy': 0.8698094282848545}\n",
      "Testing with lr=0.001, embed_dim=64, rnn_hidden_size=64, fc_hidden_size=64, num_layers=2, dropout_rate=0.3\n"
     ]
    },
    {
     "name": "stdout",
     "output_type": "stream",
     "text": [
      "{'lr': 0.001, 'embed_dim': 64, 'rnn_hidden_size': 64, 'fc_hidden_size': 64, 'num_layers': 2, 'dropout_rate': 0.3, 'val_accuracy': 0.8633901705115345}\n",
      "Testing with lr=0.001, embed_dim=64, rnn_hidden_size=64, fc_hidden_size=64, num_layers=2, dropout_rate=0.5\n"
     ]
    },
    {
     "name": "stdout",
     "output_type": "stream",
     "text": [
      "{'lr': 0.001, 'embed_dim': 64, 'rnn_hidden_size': 64, 'fc_hidden_size': 64, 'num_layers': 2, 'dropout_rate': 0.5, 'val_accuracy': 0.883851554663992}\n",
      "Testing with lr=0.001, embed_dim=64, rnn_hidden_size=64, fc_hidden_size=64, num_layers=3, dropout_rate=0\n"
     ]
    },
    {
     "name": "stdout",
     "output_type": "stream",
     "text": [
      "{'lr': 0.001, 'embed_dim': 64, 'rnn_hidden_size': 64, 'fc_hidden_size': 64, 'num_layers': 3, 'dropout_rate': 0, 'val_accuracy': 0.8676028084252758}\n",
      "Testing with lr=0.001, embed_dim=64, rnn_hidden_size=64, fc_hidden_size=64, num_layers=3, dropout_rate=0.3\n"
     ]
    },
    {
     "name": "stdout",
     "output_type": "stream",
     "text": [
      "{'lr': 0.001, 'embed_dim': 64, 'rnn_hidden_size': 64, 'fc_hidden_size': 64, 'num_layers': 3, 'dropout_rate': 0.3, 'val_accuracy': 0.869408224674022}\n",
      "Testing with lr=0.001, embed_dim=64, rnn_hidden_size=64, fc_hidden_size=64, num_layers=3, dropout_rate=0.5\n"
     ]
    },
    {
     "name": "stdout",
     "output_type": "stream",
     "text": [
      "{'lr': 0.001, 'embed_dim': 64, 'rnn_hidden_size': 64, 'fc_hidden_size': 64, 'num_layers': 3, 'dropout_rate': 0.5, 'val_accuracy': 0.8559679037111334}\n",
      "Testing with lr=0.001, embed_dim=64, rnn_hidden_size=64, fc_hidden_size=128, num_layers=1, dropout_rate=0\n"
     ]
    },
    {
     "name": "stdout",
     "output_type": "stream",
     "text": [
      "{'lr': 0.001, 'embed_dim': 64, 'rnn_hidden_size': 64, 'fc_hidden_size': 128, 'num_layers': 1, 'dropout_rate': 0, 'val_accuracy': 0.8724172517552657}\n",
      "Testing with lr=0.001, embed_dim=64, rnn_hidden_size=64, fc_hidden_size=128, num_layers=1, dropout_rate=0.3\n"
     ]
    },
    {
     "name": "stdout",
     "output_type": "stream",
     "text": [
      "{'lr': 0.001, 'embed_dim': 64, 'rnn_hidden_size': 64, 'fc_hidden_size': 128, 'num_layers': 1, 'dropout_rate': 0.3, 'val_accuracy': 0.872617853560682}\n",
      "Testing with lr=0.001, embed_dim=64, rnn_hidden_size=64, fc_hidden_size=128, num_layers=1, dropout_rate=0.5\n"
     ]
    },
    {
     "name": "stdout",
     "output_type": "stream",
     "text": [
      "{'lr': 0.001, 'embed_dim': 64, 'rnn_hidden_size': 64, 'fc_hidden_size': 128, 'num_layers': 1, 'dropout_rate': 0.5, 'val_accuracy': 0.8856569709127382}\n",
      "Testing with lr=0.001, embed_dim=64, rnn_hidden_size=64, fc_hidden_size=128, num_layers=2, dropout_rate=0\n"
     ]
    },
    {
     "name": "stdout",
     "output_type": "stream",
     "text": [
      "{'lr': 0.001, 'embed_dim': 64, 'rnn_hidden_size': 64, 'fc_hidden_size': 128, 'num_layers': 2, 'dropout_rate': 0, 'val_accuracy': 0.885456369107322}\n",
      "Testing with lr=0.001, embed_dim=64, rnn_hidden_size=64, fc_hidden_size=128, num_layers=2, dropout_rate=0.3\n"
     ]
    },
    {
     "name": "stdout",
     "output_type": "stream",
     "text": [
      "{'lr': 0.001, 'embed_dim': 64, 'rnn_hidden_size': 64, 'fc_hidden_size': 128, 'num_layers': 2, 'dropout_rate': 0.3, 'val_accuracy': 0.8682046138415246}\n",
      "Testing with lr=0.001, embed_dim=64, rnn_hidden_size=64, fc_hidden_size=128, num_layers=2, dropout_rate=0.5\n"
     ]
    },
    {
     "name": "stdout",
     "output_type": "stream",
     "text": [
      "{'lr': 0.001, 'embed_dim': 64, 'rnn_hidden_size': 64, 'fc_hidden_size': 128, 'num_layers': 2, 'dropout_rate': 0.5, 'val_accuracy': 0.8690070210631896}\n",
      "Testing with lr=0.001, embed_dim=64, rnn_hidden_size=64, fc_hidden_size=128, num_layers=3, dropout_rate=0\n"
     ]
    },
    {
     "name": "stdout",
     "output_type": "stream",
     "text": [
      "{'lr': 0.001, 'embed_dim': 64, 'rnn_hidden_size': 64, 'fc_hidden_size': 128, 'num_layers': 3, 'dropout_rate': 0, 'val_accuracy': 0.8748244734202608}\n",
      "Testing with lr=0.001, embed_dim=64, rnn_hidden_size=64, fc_hidden_size=128, num_layers=3, dropout_rate=0.3\n"
     ]
    },
    {
     "name": "stdout",
     "output_type": "stream",
     "text": [
      "{'lr': 0.001, 'embed_dim': 64, 'rnn_hidden_size': 64, 'fc_hidden_size': 128, 'num_layers': 3, 'dropout_rate': 0.3, 'val_accuracy': 0.5317953861584754}\n",
      "Testing with lr=0.001, embed_dim=64, rnn_hidden_size=64, fc_hidden_size=128, num_layers=3, dropout_rate=0.5\n"
     ]
    },
    {
     "name": "stdout",
     "output_type": "stream",
     "text": [
      "{'lr': 0.001, 'embed_dim': 64, 'rnn_hidden_size': 64, 'fc_hidden_size': 128, 'num_layers': 3, 'dropout_rate': 0.5, 'val_accuracy': 0.8770310932798395}\n",
      "Testing with lr=0.001, embed_dim=64, rnn_hidden_size=128, fc_hidden_size=32, num_layers=1, dropout_rate=0\n"
     ]
    },
    {
     "name": "stdout",
     "output_type": "stream",
     "text": [
      "{'lr': 0.001, 'embed_dim': 64, 'rnn_hidden_size': 128, 'fc_hidden_size': 32, 'num_layers': 1, 'dropout_rate': 0, 'val_accuracy': 0.8708124373119358}\n",
      "Testing with lr=0.001, embed_dim=64, rnn_hidden_size=128, fc_hidden_size=32, num_layers=1, dropout_rate=0.3\n"
     ]
    },
    {
     "name": "stdout",
     "output_type": "stream",
     "text": [
      "{'lr': 0.001, 'embed_dim': 64, 'rnn_hidden_size': 128, 'fc_hidden_size': 32, 'num_layers': 1, 'dropout_rate': 0.3, 'val_accuracy': 0.877432296890672}\n",
      "Testing with lr=0.001, embed_dim=64, rnn_hidden_size=128, fc_hidden_size=32, num_layers=1, dropout_rate=0.5\n"
     ]
    },
    {
     "name": "stdout",
     "output_type": "stream",
     "text": [
      "{'lr': 0.001, 'embed_dim': 64, 'rnn_hidden_size': 128, 'fc_hidden_size': 32, 'num_layers': 1, 'dropout_rate': 0.5, 'val_accuracy': 0.8748244734202608}\n",
      "Testing with lr=0.001, embed_dim=64, rnn_hidden_size=128, fc_hidden_size=32, num_layers=2, dropout_rate=0\n"
     ]
    },
    {
     "name": "stdout",
     "output_type": "stream",
     "text": [
      "{'lr': 0.001, 'embed_dim': 64, 'rnn_hidden_size': 128, 'fc_hidden_size': 32, 'num_layers': 2, 'dropout_rate': 0, 'val_accuracy': 0.8750250752256771}\n",
      "Testing with lr=0.001, embed_dim=64, rnn_hidden_size=128, fc_hidden_size=32, num_layers=2, dropout_rate=0.3\n"
     ]
    },
    {
     "name": "stdout",
     "output_type": "stream",
     "text": [
      "{'lr': 0.001, 'embed_dim': 64, 'rnn_hidden_size': 128, 'fc_hidden_size': 32, 'num_layers': 2, 'dropout_rate': 0.3, 'val_accuracy': 0.8732196589769308}\n",
      "Testing with lr=0.001, embed_dim=64, rnn_hidden_size=128, fc_hidden_size=32, num_layers=2, dropout_rate=0.5\n"
     ]
    },
    {
     "name": "stdout",
     "output_type": "stream",
     "text": [
      "{'lr': 0.001, 'embed_dim': 64, 'rnn_hidden_size': 128, 'fc_hidden_size': 32, 'num_layers': 2, 'dropout_rate': 0.5, 'val_accuracy': 0.879037111334002}\n",
      "Testing with lr=0.001, embed_dim=64, rnn_hidden_size=128, fc_hidden_size=32, num_layers=3, dropout_rate=0\n"
     ]
    },
    {
     "name": "stdout",
     "output_type": "stream",
     "text": [
      "{'lr': 0.001, 'embed_dim': 64, 'rnn_hidden_size': 128, 'fc_hidden_size': 32, 'num_layers': 3, 'dropout_rate': 0, 'val_accuracy': 0.6974924774322969}\n",
      "Testing with lr=0.001, embed_dim=64, rnn_hidden_size=128, fc_hidden_size=32, num_layers=3, dropout_rate=0.3\n"
     ]
    },
    {
     "name": "stdout",
     "output_type": "stream",
     "text": [
      "{'lr': 0.001, 'embed_dim': 64, 'rnn_hidden_size': 128, 'fc_hidden_size': 32, 'num_layers': 3, 'dropout_rate': 0.3, 'val_accuracy': 0.8828485456369107}\n",
      "Testing with lr=0.001, embed_dim=64, rnn_hidden_size=128, fc_hidden_size=32, num_layers=3, dropout_rate=0.5\n"
     ]
    },
    {
     "name": "stdout",
     "output_type": "stream",
     "text": [
      "{'lr': 0.001, 'embed_dim': 64, 'rnn_hidden_size': 128, 'fc_hidden_size': 32, 'num_layers': 3, 'dropout_rate': 0.5, 'val_accuracy': 0.5412236710130391}\n",
      "Testing with lr=0.001, embed_dim=64, rnn_hidden_size=128, fc_hidden_size=64, num_layers=1, dropout_rate=0\n"
     ]
    },
    {
     "name": "stdout",
     "output_type": "stream",
     "text": [
      "{'lr': 0.001, 'embed_dim': 64, 'rnn_hidden_size': 128, 'fc_hidden_size': 64, 'num_layers': 1, 'dropout_rate': 0, 'val_accuracy': 0.883851554663992}\n",
      "Testing with lr=0.001, embed_dim=64, rnn_hidden_size=128, fc_hidden_size=64, num_layers=1, dropout_rate=0.3\n"
     ]
    },
    {
     "name": "stdout",
     "output_type": "stream",
     "text": [
      "{'lr': 0.001, 'embed_dim': 64, 'rnn_hidden_size': 128, 'fc_hidden_size': 64, 'num_layers': 1, 'dropout_rate': 0.3, 'val_accuracy': 0.882246740220662}\n",
      "Testing with lr=0.001, embed_dim=64, rnn_hidden_size=128, fc_hidden_size=64, num_layers=1, dropout_rate=0.5\n"
     ]
    },
    {
     "name": "stdout",
     "output_type": "stream",
     "text": [
      "{'lr': 0.001, 'embed_dim': 64, 'rnn_hidden_size': 128, 'fc_hidden_size': 64, 'num_layers': 1, 'dropout_rate': 0.5, 'val_accuracy': 0.8722166499498496}\n",
      "Testing with lr=0.001, embed_dim=64, rnn_hidden_size=128, fc_hidden_size=64, num_layers=2, dropout_rate=0\n"
     ]
    },
    {
     "name": "stdout",
     "output_type": "stream",
     "text": [
      "{'lr': 0.001, 'embed_dim': 64, 'rnn_hidden_size': 128, 'fc_hidden_size': 64, 'num_layers': 2, 'dropout_rate': 0, 'val_accuracy': 0.8874623871614844}\n",
      "Testing with lr=0.001, embed_dim=64, rnn_hidden_size=128, fc_hidden_size=64, num_layers=2, dropout_rate=0.3\n"
     ]
    },
    {
     "name": "stdout",
     "output_type": "stream",
     "text": [
      "{'lr': 0.001, 'embed_dim': 64, 'rnn_hidden_size': 128, 'fc_hidden_size': 64, 'num_layers': 2, 'dropout_rate': 0.3, 'val_accuracy': 0.8716148445336008}\n",
      "Testing with lr=0.001, embed_dim=64, rnn_hidden_size=128, fc_hidden_size=64, num_layers=2, dropout_rate=0.5\n"
     ]
    },
    {
     "name": "stdout",
     "output_type": "stream",
     "text": [
      "{'lr': 0.001, 'embed_dim': 64, 'rnn_hidden_size': 128, 'fc_hidden_size': 64, 'num_layers': 2, 'dropout_rate': 0.5, 'val_accuracy': 0.8613841524573721}\n",
      "Testing with lr=0.001, embed_dim=64, rnn_hidden_size=128, fc_hidden_size=64, num_layers=3, dropout_rate=0\n"
     ]
    },
    {
     "name": "stdout",
     "output_type": "stream",
     "text": [
      "{'lr': 0.001, 'embed_dim': 64, 'rnn_hidden_size': 128, 'fc_hidden_size': 64, 'num_layers': 3, 'dropout_rate': 0, 'val_accuracy': 0.8684052156469408}\n",
      "Testing with lr=0.001, embed_dim=64, rnn_hidden_size=128, fc_hidden_size=64, num_layers=3, dropout_rate=0.3\n"
     ]
    },
    {
     "name": "stdout",
     "output_type": "stream",
     "text": [
      "{'lr': 0.001, 'embed_dim': 64, 'rnn_hidden_size': 128, 'fc_hidden_size': 64, 'num_layers': 3, 'dropout_rate': 0.3, 'val_accuracy': 0.8593781344032096}\n",
      "Testing with lr=0.001, embed_dim=64, rnn_hidden_size=128, fc_hidden_size=64, num_layers=3, dropout_rate=0.5\n"
     ]
    },
    {
     "name": "stdout",
     "output_type": "stream",
     "text": [
      "{'lr': 0.001, 'embed_dim': 64, 'rnn_hidden_size': 128, 'fc_hidden_size': 64, 'num_layers': 3, 'dropout_rate': 0.5, 'val_accuracy': 0.8710130391173521}\n",
      "Testing with lr=0.001, embed_dim=64, rnn_hidden_size=128, fc_hidden_size=128, num_layers=1, dropout_rate=0\n"
     ]
    },
    {
     "name": "stdout",
     "output_type": "stream",
     "text": [
      "{'lr': 0.001, 'embed_dim': 64, 'rnn_hidden_size': 128, 'fc_hidden_size': 128, 'num_layers': 1, 'dropout_rate': 0, 'val_accuracy': 0.8710130391173521}\n",
      "Testing with lr=0.001, embed_dim=64, rnn_hidden_size=128, fc_hidden_size=128, num_layers=1, dropout_rate=0.3\n"
     ]
    },
    {
     "name": "stdout",
     "output_type": "stream",
     "text": [
      "{'lr': 0.001, 'embed_dim': 64, 'rnn_hidden_size': 128, 'fc_hidden_size': 128, 'num_layers': 1, 'dropout_rate': 0.3, 'val_accuracy': 0.8826479438314945}\n",
      "Testing with lr=0.001, embed_dim=64, rnn_hidden_size=128, fc_hidden_size=128, num_layers=1, dropout_rate=0.5\n"
     ]
    },
    {
     "name": "stdout",
     "output_type": "stream",
     "text": [
      "{'lr': 0.001, 'embed_dim': 64, 'rnn_hidden_size': 128, 'fc_hidden_size': 128, 'num_layers': 1, 'dropout_rate': 0.5, 'val_accuracy': 0.8784353059177532}\n",
      "Testing with lr=0.001, embed_dim=64, rnn_hidden_size=128, fc_hidden_size=128, num_layers=2, dropout_rate=0\n"
     ]
    },
    {
     "name": "stdout",
     "output_type": "stream",
     "text": [
      "{'lr': 0.001, 'embed_dim': 64, 'rnn_hidden_size': 128, 'fc_hidden_size': 128, 'num_layers': 2, 'dropout_rate': 0, 'val_accuracy': 0.8834503510531595}\n",
      "Testing with lr=0.001, embed_dim=64, rnn_hidden_size=128, fc_hidden_size=128, num_layers=2, dropout_rate=0.3\n"
     ]
    },
    {
     "name": "stdout",
     "output_type": "stream",
     "text": [
      "{'lr': 0.001, 'embed_dim': 64, 'rnn_hidden_size': 128, 'fc_hidden_size': 128, 'num_layers': 2, 'dropout_rate': 0.3, 'val_accuracy': 0.8866599799398195}\n",
      "Testing with lr=0.001, embed_dim=64, rnn_hidden_size=128, fc_hidden_size=128, num_layers=2, dropout_rate=0.5\n"
     ]
    },
    {
     "name": "stdout",
     "output_type": "stream",
     "text": [
      "{'lr': 0.001, 'embed_dim': 64, 'rnn_hidden_size': 128, 'fc_hidden_size': 128, 'num_layers': 2, 'dropout_rate': 0.5, 'val_accuracy': 0.8872617853560683}\n",
      "Testing with lr=0.001, embed_dim=64, rnn_hidden_size=128, fc_hidden_size=128, num_layers=3, dropout_rate=0\n"
     ]
    },
    {
     "name": "stdout",
     "output_type": "stream",
     "text": [
      "{'lr': 0.001, 'embed_dim': 64, 'rnn_hidden_size': 128, 'fc_hidden_size': 128, 'num_layers': 3, 'dropout_rate': 0, 'val_accuracy': 0.880641925777332}\n",
      "Testing with lr=0.001, embed_dim=64, rnn_hidden_size=128, fc_hidden_size=128, num_layers=3, dropout_rate=0.3\n"
     ]
    },
    {
     "name": "stdout",
     "output_type": "stream",
     "text": [
      "{'lr': 0.001, 'embed_dim': 64, 'rnn_hidden_size': 128, 'fc_hidden_size': 128, 'num_layers': 3, 'dropout_rate': 0.3, 'val_accuracy': 0.883049147442327}\n",
      "Testing with lr=0.001, embed_dim=64, rnn_hidden_size=128, fc_hidden_size=128, num_layers=3, dropout_rate=0.5\n"
     ]
    },
    {
     "name": "stdout",
     "output_type": "stream",
     "text": [
      "{'lr': 0.001, 'embed_dim': 64, 'rnn_hidden_size': 128, 'fc_hidden_size': 128, 'num_layers': 3, 'dropout_rate': 0.5, 'val_accuracy': 0.8649949849548646}\n",
      "Best hyperparameters:\n",
      "lr                   0.001000\n",
      "embed_dim           64.000000\n",
      "rnn_hidden_size    128.000000\n",
      "fc_hidden_size      64.000000\n",
      "num_layers           2.000000\n",
      "dropout_rate         0.000000\n",
      "val_accuracy         0.887462\n",
      "Name: 228, dtype: float64\n"
     ]
    }
   ],
   "source": [
    "## Batching the datasets\n",
    "batch_size = 32\n",
    "vocab_size = len(vocab)\n",
    "\n",
    "train_dl = DataLoader(train_dataset, batch_size=batch_size,\n",
    "                      shuffle=True, collate_fn=collate_batch)\n",
    "val_dl = DataLoader(val_dataset, batch_size=batch_size,\n",
    "                      shuffle=False, collate_fn=collate_batch)\n",
    "test_dl = DataLoader(test_dataset, batch_size=batch_size,\n",
    "                     shuffle=False, collate_fn=collate_batch)\n",
    "\n",
    "class RNN(nn.Module):\n",
    "    def __init__(self, vocab_size, embed_dim, rnn_hidden_size, fc_hidden_size, num_layers=2, dropout_rate=0.5):\n",
    "        super().__init__()\n",
    "        self.embedding = nn.Embedding(vocab_size, embed_dim, padding_idx=0)\n",
    "        self.rnn = nn.LSTM(embed_dim, rnn_hidden_size, num_layers=num_layers, \n",
    "                           batch_first=True, dropout=dropout_rate)  # Add num_layers and dropout between layers\n",
    "        self.dropout = nn.Dropout(dropout_rate)  # Explicit dropout layer\n",
    "        self.fc1 = nn.Linear(rnn_hidden_size, fc_hidden_size)\n",
    "        self.relu = nn.ReLU()\n",
    "        self.fc2 = nn.Linear(fc_hidden_size, 1)\n",
    "        self.sigmoid = nn.Sigmoid()\n",
    "\n",
    "    def forward(self, text, lengths):\n",
    "        # Embedding Layer\n",
    "        out = self.embedding(text)\n",
    "        \n",
    "        # Pack the padded sequence\n",
    "        out = nn.utils.rnn.pack_padded_sequence(out, lengths.cpu().numpy(), \n",
    "                                                enforce_sorted=False, batch_first=True)\n",
    "        \n",
    "        # LSTM Layers\n",
    "        out, (hidden, cell) = self.rnn(out)\n",
    "        \n",
    "        # Take the hidden state of the last layer\n",
    "        out = hidden[-1, :, :]  # Shape: (batch_size, rnn_hidden_size)\n",
    "        \n",
    "        # Fully Connected Layers\n",
    "        out = self.fc1(out)\n",
    "        out = self.relu(out)\n",
    "        out = self.dropout(out)  # Dropout for FC layer\n",
    "        out = self.fc2(out)\n",
    "        out = self.sigmoid(out)\n",
    "        \n",
    "        return out\n",
    "\n",
    "def train_epoch(dataloader, model, optimizer, loss_fn):\n",
    "    model.train()\n",
    "    total_acc, total_loss = 0, 0\n",
    "    for text_batch, label_batch, lengths in dataloader:  # Loop through batches in dataloader\n",
    "        optimizer.zero_grad()\n",
    "        pred = model(text_batch, lengths)[:, 0]\n",
    "        loss = loss_fn(pred, label_batch)\n",
    "        loss.backward()\n",
    "        optimizer.step()\n",
    "        total_acc += ((pred >= 0.5).float() == label_batch).float().sum().item()\n",
    "        total_loss += loss.item() * label_batch.size(0)\n",
    "    return total_acc / len(dataloader.dataset), total_loss / len(dataloader.dataset)\n",
    "\n",
    "def evaluate_epoch(dataloader, model, loss_fn):\n",
    "    model.eval()\n",
    "    total_acc, total_loss = 0, 0\n",
    "    with torch.no_grad():\n",
    "        for text_batch, label_batch, lengths in dataloader:  # Loop through batches in dataloader\n",
    "            pred = model(text_batch, lengths)[:, 0]\n",
    "            loss = loss_fn(pred, label_batch)\n",
    "            total_acc += ((pred >= 0.5).float() == label_batch).float().sum().item()\n",
    "            total_loss += loss.item() * label_batch.size(0)\n",
    "    return total_acc / len(dataloader.dataset), total_loss / len(dataloader.dataset)\n",
    "\n",
    "# Grid search for hyperparameter tuning\n",
    "import itertools\n",
    "\n",
    "# Hyperparameter ranges\n",
    "param_grid = {\n",
    "    'lr': [0.001],\n",
    "    'embed_dim': [16, 32, 64],\n",
    "    'rnn_hidden_size': [32, 64, 128],\n",
    "    'fc_hidden_size': [32, 64, 128],\n",
    "    'num_layers': [1, 2, 3],  # Add num_layers\n",
    "    'dropout_rate': [0, 0.3, 0.5]  # Add dropout_rate\n",
    "}\n",
    "\n",
    "# Generate all combinations of hyperparameters\n",
    "param_combinations = list(itertools.product(\n",
    "    param_grid['lr'],\n",
    "    param_grid['embed_dim'],\n",
    "    param_grid['rnn_hidden_size'],\n",
    "    param_grid['fc_hidden_size'],\n",
    "    param_grid['num_layers'],\n",
    "    param_grid['dropout_rate']\n",
    "))\n",
    "\n",
    "# Track results\n",
    "results = []\n",
    "\n",
    "# Grid search loop\n",
    "for lr, embed_dim, rnn_hidden_size, fc_hidden_size, num_layers, dropout_rate in param_combinations:\n",
    "    print(f\"Testing with lr={lr}, embed_dim={embed_dim}, rnn_hidden_size={rnn_hidden_size}, \"\n",
    "          f\"fc_hidden_size={fc_hidden_size}, num_layers={num_layers}, dropout_rate={dropout_rate}\")\n",
    "    \n",
    "    # Initialize model and optimizer for current hyperparameters\n",
    "    model = RNN(vocab_size, embed_dim, rnn_hidden_size, fc_hidden_size, \n",
    "                num_layers=num_layers, dropout_rate=dropout_rate).to(device)\n",
    "    optimizer = torch.optim.Adam(model.parameters(), lr=lr)\n",
    "    loss_fn = nn.BCELoss()\n",
    "\n",
    "    # Train and evaluate for a few epochs (to save time during grid search)\n",
    "    for epoch in range(5):  # Shortened training for grid search\n",
    "        train_epoch(train_dl, model, optimizer, loss_fn)\n",
    "\n",
    "    acc_valid, _ = evaluate_epoch(val_dl, model, loss_fn)\n",
    "\n",
    "    print({\n",
    "        'lr': lr,\n",
    "        'embed_dim': embed_dim,\n",
    "        'rnn_hidden_size': rnn_hidden_size,\n",
    "        'fc_hidden_size': fc_hidden_size,\n",
    "        'num_layers': num_layers,\n",
    "        'dropout_rate': dropout_rate,\n",
    "        'val_accuracy': acc_valid\n",
    "    })\n",
    "    # Store results\n",
    "    results.append({\n",
    "        'lr': lr,\n",
    "        'embed_dim': embed_dim,\n",
    "        'rnn_hidden_size': rnn_hidden_size,\n",
    "        'fc_hidden_size': fc_hidden_size,\n",
    "        'num_layers': num_layers,\n",
    "        'dropout_rate': dropout_rate,\n",
    "        'val_accuracy': acc_valid\n",
    "    })\n",
    "\n",
    "# Convert results to DataFrame for easier analysis\n",
    "import pandas as pd\n",
    "results_df = pd.DataFrame(results)\n",
    "\n",
    "# Find the best hyperparameter combination\n",
    "best_params = results_df.loc[results_df['val_accuracy'].idxmax()]\n",
    "\n",
    "print(\"Best hyperparameters:\")\n",
    "print(best_params)\n",
    "\n",
    "# Save the results for future reference\n",
    "results_df.to_csv('grid_search_results.csv', index=False)"
   ]
  },
  {
   "cell_type": "code",
   "execution_count": 14,
   "id": "80dc12a0",
   "metadata": {
    "execution": {
     "iopub.execute_input": "2025-01-23T04:54:13.857208Z",
     "iopub.status.busy": "2025-01-23T04:54:13.857015Z",
     "iopub.status.idle": "2025-01-23T04:54:18.844157Z",
     "shell.execute_reply": "2025-01-23T04:54:18.843117Z"
    },
    "papermill": {
     "duration": 5.002865,
     "end_time": "2025-01-23T04:54:18.846541",
     "exception": false,
     "start_time": "2025-01-23T04:54:13.843676",
     "status": "completed"
    },
    "tags": []
   },
   "outputs": [],
   "source": [
    "import matplotlib.pyplot as plt\n",
    "import seaborn as sns\n",
    "from sklearn.metrics import confusion_matrix\n",
    "import numpy as np"
   ]
  },
  {
   "cell_type": "markdown",
   "id": "24bfc9fd",
   "metadata": {
    "tags": [
     "papermill-error-cell-tag"
    ]
   },
   "source": [
    "<span id=\"papermill-error-cell\" style=\"color:red; font-family:Helvetica Neue, Helvetica, Arial, sans-serif; font-size:2em;\">Execution using papermill encountered an exception here and stopped:</span>"
   ]
  },
  {
   "cell_type": "code",
   "execution_count": 15,
   "id": "b9762fbe",
   "metadata": {
    "execution": {
     "iopub.execute_input": "2025-01-23T04:54:18.887472Z",
     "iopub.status.busy": "2025-01-23T04:54:18.887136Z",
     "iopub.status.idle": "2025-01-23T04:54:48.204639Z",
     "shell.execute_reply": "2025-01-23T04:54:48.203402Z"
    },
    "papermill": {
     "duration": 29.335086,
     "end_time": "2025-01-23T04:54:48.205333",
     "exception": true,
     "start_time": "2025-01-23T04:54:18.870247",
     "status": "failed"
    },
    "tags": []
   },
   "outputs": [
    {
     "name": "stdout",
     "output_type": "stream",
     "text": [
      "Epoch 1 - train_accuracy: 0.6387, val_accuracy: 0.8313, train_loss: 0.6224, val_loss: 0.4319\n"
     ]
    },
    {
     "ename": "NameError",
     "evalue": "name 'best_val_loss' is not defined",
     "output_type": "error",
     "traceback": [
      "\u001b[0;31m---------------------------------------------------------------------------\u001b[0m",
      "\u001b[0;31mNameError\u001b[0m                                 Traceback (most recent call last)",
      "Cell \u001b[0;32mIn[15], line 35\u001b[0m\n\u001b[1;32m     32\u001b[0m \u001b[38;5;28mprint\u001b[39m(\u001b[38;5;124mf\u001b[39m\u001b[38;5;124m'\u001b[39m\u001b[38;5;124mEpoch \u001b[39m\u001b[38;5;132;01m{\u001b[39;00mepoch\u001b[38;5;250m \u001b[39m\u001b[38;5;241m+\u001b[39m\u001b[38;5;250m \u001b[39m\u001b[38;5;241m1\u001b[39m\u001b[38;5;132;01m}\u001b[39;00m\u001b[38;5;124m - train_accuracy: \u001b[39m\u001b[38;5;132;01m{\u001b[39;00macc_train\u001b[38;5;132;01m:\u001b[39;00m\u001b[38;5;124m.4f\u001b[39m\u001b[38;5;132;01m}\u001b[39;00m\u001b[38;5;124m, val_accuracy: \u001b[39m\u001b[38;5;132;01m{\u001b[39;00macc_valid\u001b[38;5;132;01m:\u001b[39;00m\u001b[38;5;124m.4f\u001b[39m\u001b[38;5;132;01m}\u001b[39;00m\u001b[38;5;124m, train_loss: \u001b[39m\u001b[38;5;132;01m{\u001b[39;00mloss_train\u001b[38;5;132;01m:\u001b[39;00m\u001b[38;5;124m.4f\u001b[39m\u001b[38;5;132;01m}\u001b[39;00m\u001b[38;5;124m, val_loss: \u001b[39m\u001b[38;5;132;01m{\u001b[39;00mloss_valid\u001b[38;5;132;01m:\u001b[39;00m\u001b[38;5;124m.4f\u001b[39m\u001b[38;5;132;01m}\u001b[39;00m\u001b[38;5;124m'\u001b[39m)\n\u001b[1;32m     34\u001b[0m \u001b[38;5;66;03m# Early stopping check\u001b[39;00m\n\u001b[0;32m---> 35\u001b[0m \u001b[38;5;28;01mif\u001b[39;00m loss_valid \u001b[38;5;241m<\u001b[39m \u001b[43mbest_val_loss\u001b[49m:\n\u001b[1;32m     36\u001b[0m     best_val_loss \u001b[38;5;241m=\u001b[39m loss_valid\n\u001b[1;32m     37\u001b[0m     best_epoch \u001b[38;5;241m=\u001b[39m epoch\n",
      "\u001b[0;31mNameError\u001b[0m: name 'best_val_loss' is not defined"
     ]
    }
   ],
   "source": [
    "# Train with the best hyperparameters\n",
    "lr = best_params['lr']\n",
    "embed_dim = int(best_params['embed_dim'])\n",
    "rnn_hidden_size = int(best_params['rnn_hidden_size'])\n",
    "fc_hidden_size = int(best_params['fc_hidden_size'])\n",
    "\n",
    "model = RNN(vocab_size, embed_dim, rnn_hidden_size, fc_hidden_size).to(device)\n",
    "optimizer = torch.optim.Adam(model.parameters(), lr=lr)\n",
    "loss_fn = nn.BCELoss()\n",
    "\n",
    "# Initialize lists to store training and validation metrics for each epoch\n",
    "train_accuracies = []\n",
    "train_losses = []\n",
    "valid_accuracies = []\n",
    "valid_losses = []\n",
    "\n",
    "num_epochs = 20\n",
    "early_stop_patience = 10  # Stop training if no improvement after this many epochs\n",
    "\n",
    "# Training loop with early stopping\n",
    "for epoch in range(num_epochs):\n",
    "\n",
    "    acc_train, loss_train = train_epoch(train_dl, model, optimizer, loss_fn)\n",
    "    acc_valid, loss_valid = evaluate_epoch(val_dl, model, loss_fn)\n",
    "\n",
    "    # Store metrics\n",
    "    train_accuracies.append(acc_train)\n",
    "    train_losses.append(loss_train)\n",
    "    valid_accuracies.append(acc_valid)\n",
    "    valid_losses.append(loss_valid)\n",
    "\n",
    "    print(f'Epoch {epoch + 1} - train_accuracy: {acc_train:.4f}, val_accuracy: {acc_valid:.4f}, train_loss: {loss_train:.4f}, val_loss: {loss_valid:.4f}')\n",
    "\n",
    "    # Early stopping check\n",
    "    if loss_valid < best_val_loss:\n",
    "        best_val_loss = loss_valid\n",
    "        best_epoch = epoch\n",
    "        patience_counter = 0\n",
    "    else:\n",
    "        patience_counter += 1\n",
    "\n",
    "    if patience_counter >= early_stop_patience:\n",
    "        print(f\"Early stopping at epoch {epoch + 1}. Best validation loss was {best_val_loss:.4f} at epoch {best_epoch + 1}.\")\n",
    "        break\n",
    "\n",
    "# Plotting training and validation losses\n",
    "plt.figure(figsize=(14, 5))\n",
    "\n",
    "plt.subplot(1, 2, 1)\n",
    "plt.plot(range(1, num_epochs + 1), train_losses, label='Training Loss')\n",
    "plt.plot(range(1, num_epochs + 1), valid_losses, label='Validation Loss')\n",
    "plt.xlabel('Epoch')\n",
    "plt.ylabel('Loss')\n",
    "plt.title('Training and Validation Loss')\n",
    "plt.legend()\n",
    "\n",
    "# Plotting training and validation accuracies\n",
    "plt.subplot(1, 2, 2)\n",
    "plt.plot(range(1, num_epochs + 1), train_accuracies, label='Training Accuracy')\n",
    "plt.plot(range(1, num_epochs + 1), valid_accuracies, label='Validation Accuracy')\n",
    "plt.xlabel('Epoch')\n",
    "plt.ylabel('Accuracy')\n",
    "plt.title('Training and Validation Accuracy')\n",
    "plt.legend()\n",
    "plt.savefig('images/lstm-action-accuracy.png')\n",
    "plt.show()"
   ]
  },
  {
   "cell_type": "code",
   "execution_count": null,
   "id": "b67f46e1",
   "metadata": {
    "papermill": {
     "duration": null,
     "end_time": null,
     "exception": null,
     "start_time": null,
     "status": "pending"
    },
    "tags": []
   },
   "outputs": [],
   "source": [
    "# Generate confusion matrix\n",
    "def generate_confusion_matrix(dataloader, model):\n",
    "    model.eval()\n",
    "    all_preds = []\n",
    "    all_labels = []\n",
    "    with torch.no_grad():\n",
    "        for text_batch, label_batch, lengths in dataloader:\n",
    "            preds = model(text_batch, lengths)[:, 0]\n",
    "            all_preds.extend((preds >= 0.5).cpu().numpy())\n",
    "            all_labels.extend(label_batch.cpu().numpy())\n",
    "\n",
    "    # Generate confusion matrix\n",
    "    cm = confusion_matrix(all_labels, all_preds)\n",
    "    plt.figure(figsize=(8, 6))\n",
    "    sns.heatmap(cm, annot=True, fmt='d', cmap='Blues', xticklabels=['Human', 'Bot'], yticklabels=['Human', 'Bot'])\n",
    "    plt.xlabel('Predicted')\n",
    "    plt.ylabel('Actual')\n",
    "    plt.title('Confusion Matrix')\n",
    "    plt.show()\n",
    "\n",
    "# Generate confusion matrix on the test dataset\n",
    "generate_confusion_matrix(test_dl, model)"
   ]
  }
 ],
 "metadata": {
  "kernelspec": {
   "display_name": "Python 3 (ipykernel)",
   "language": "python",
   "name": "python3"
  },
  "language_info": {
   "codemirror_mode": {
    "name": "ipython",
    "version": 3
   },
   "file_extension": ".py",
   "mimetype": "text/x-python",
   "name": "python",
   "nbconvert_exporter": "python",
   "pygments_lexer": "ipython3",
   "version": "3.9.16"
  },
  "papermill": {
   "default_parameters": {},
   "duration": 29210.250628,
   "end_time": "2025-01-23T04:54:51.108721",
   "environment_variables": {},
   "exception": true,
   "input_path": "lstm-action-Copy5-pipeline.ipynb",
   "output_path": "lstm-action-v6.ipynb",
   "parameters": {},
   "start_time": "2025-01-22T20:48:00.858093",
   "version": "2.6.0"
  }
 },
 "nbformat": 4,
 "nbformat_minor": 5
}