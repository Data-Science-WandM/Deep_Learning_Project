{
 "cells": [
  {
   "cell_type": "code",
   "execution_count": 1,
   "id": "7221a24a",
   "metadata": {
    "execution": {
     "iopub.execute_input": "2024-11-26T06:54:55.890080Z",
     "iopub.status.busy": "2024-11-26T06:54:55.889607Z",
     "iopub.status.idle": "2024-11-26T06:54:57.070037Z",
     "shell.execute_reply": "2024-11-26T06:54:57.068379Z"
    },
    "papermill": {
     "duration": 1.200178,
     "end_time": "2024-11-26T06:54:57.073902",
     "exception": false,
     "start_time": "2024-11-26T06:54:55.873724",
     "status": "completed"
    },
    "tags": []
   },
   "outputs": [
    {
     "name": "stdout",
     "output_type": "stream",
     "text": [
      "Requirement already satisfied: torch in /sciclone/data10/iahewababarand/.venv/lib/python3.9/site-packages (2.5.1)\r\n",
      "Requirement already satisfied: filelock in /sciclone/data10/iahewababarand/.venv/lib/python3.9/site-packages (from torch) (3.16.1)\r\n",
      "Requirement already satisfied: typing-extensions>=4.8.0 in /sciclone/data10/iahewababarand/.venv/lib/python3.9/site-packages (from torch) (4.12.2)\r\n",
      "Requirement already satisfied: networkx in /sciclone/data10/iahewababarand/.venv/lib/python3.9/site-packages (from torch) (3.2.1)\r\n",
      "Requirement already satisfied: jinja2 in /sciclone/data10/iahewababarand/.venv/lib/python3.9/site-packages (from torch) (3.1.4)\r\n",
      "Requirement already satisfied: fsspec in /sciclone/data10/iahewababarand/.venv/lib/python3.9/site-packages (from torch) (2024.9.0)\r\n",
      "Requirement already satisfied: nvidia-cuda-nvrtc-cu12==12.4.127 in /sciclone/data10/iahewababarand/.venv/lib/python3.9/site-packages (from torch) (12.4.127)\r\n",
      "Requirement already satisfied: nvidia-cuda-runtime-cu12==12.4.127 in /sciclone/data10/iahewababarand/.venv/lib/python3.9/site-packages (from torch) (12.4.127)\r\n",
      "Requirement already satisfied: nvidia-cuda-cupti-cu12==12.4.127 in /sciclone/data10/iahewababarand/.venv/lib/python3.9/site-packages (from torch) (12.4.127)\r\n",
      "Requirement already satisfied: nvidia-cudnn-cu12==9.1.0.70 in /sciclone/data10/iahewababarand/.venv/lib/python3.9/site-packages (from torch) (9.1.0.70)\r\n",
      "Requirement already satisfied: nvidia-cublas-cu12==12.4.5.8 in /sciclone/data10/iahewababarand/.venv/lib/python3.9/site-packages (from torch) (12.4.5.8)\r\n",
      "Requirement already satisfied: nvidia-cufft-cu12==11.2.1.3 in /sciclone/data10/iahewababarand/.venv/lib/python3.9/site-packages (from torch) (11.2.1.3)\r\n",
      "Requirement already satisfied: nvidia-curand-cu12==10.3.5.147 in /sciclone/data10/iahewababarand/.venv/lib/python3.9/site-packages (from torch) (10.3.5.147)\r\n",
      "Requirement already satisfied: nvidia-cusolver-cu12==11.6.1.9 in /sciclone/data10/iahewababarand/.venv/lib/python3.9/site-packages (from torch) (11.6.1.9)\r\n",
      "Requirement already satisfied: nvidia-cusparse-cu12==12.3.1.170 in /sciclone/data10/iahewababarand/.venv/lib/python3.9/site-packages (from torch) (12.3.1.170)\r\n",
      "Requirement already satisfied: nvidia-nccl-cu12==2.21.5 in /sciclone/data10/iahewababarand/.venv/lib/python3.9/site-packages (from torch) (2.21.5)\r\n",
      "Requirement already satisfied: nvidia-nvtx-cu12==12.4.127 in /sciclone/data10/iahewababarand/.venv/lib/python3.9/site-packages (from torch) (12.4.127)\r\n",
      "Requirement already satisfied: nvidia-nvjitlink-cu12==12.4.127 in /sciclone/data10/iahewababarand/.venv/lib/python3.9/site-packages (from torch) (12.4.127)\r\n",
      "Requirement already satisfied: triton==3.1.0 in /sciclone/data10/iahewababarand/.venv/lib/python3.9/site-packages (from torch) (3.1.0)\r\n",
      "Requirement already satisfied: sympy==1.13.1 in /sciclone/data10/iahewababarand/.venv/lib/python3.9/site-packages (from torch) (1.13.1)\r\n",
      "Requirement already satisfied: mpmath<1.4,>=1.1.0 in /sciclone/data10/iahewababarand/.venv/lib/python3.9/site-packages (from sympy==1.13.1->torch) (1.3.0)\r\n"
     ]
    },
    {
     "name": "stdout",
     "output_type": "stream",
     "text": [
      "Requirement already satisfied: MarkupSafe>=2.0 in /sciclone/data10/iahewababarand/.venv/lib/python3.9/site-packages (from jinja2->torch) (3.0.2)\r\n"
     ]
    },
    {
     "name": "stdout",
     "output_type": "stream",
     "text": [
      "Note: you may need to restart the kernel to use updated packages.\n"
     ]
    }
   ],
   "source": [
    "pip install torch"
   ]
  },
  {
   "cell_type": "code",
   "execution_count": 2,
   "id": "94d881ae",
   "metadata": {
    "execution": {
     "iopub.execute_input": "2024-11-26T06:54:57.093426Z",
     "iopub.status.busy": "2024-11-26T06:54:57.093066Z",
     "iopub.status.idle": "2024-11-26T06:54:58.795577Z",
     "shell.execute_reply": "2024-11-26T06:54:58.795038Z"
    },
    "papermill": {
     "duration": 1.712068,
     "end_time": "2024-11-26T06:54:58.796893",
     "exception": false,
     "start_time": "2024-11-26T06:54:57.084825",
     "status": "completed"
    },
    "tags": []
   },
   "outputs": [],
   "source": [
    "import torch\n",
    "import torch.nn as nn\n",
    "import pandas as pd\n",
    "import json\n",
    "from torch.utils.data import TensorDataset, DataLoader, random_split\n",
    "import re"
   ]
  },
  {
   "cell_type": "code",
   "execution_count": 3,
   "id": "6621a074",
   "metadata": {
    "execution": {
     "iopub.execute_input": "2024-11-26T06:54:58.807643Z",
     "iopub.status.busy": "2024-11-26T06:54:58.806797Z",
     "iopub.status.idle": "2024-11-26T06:54:58.810733Z",
     "shell.execute_reply": "2024-11-26T06:54:58.810318Z"
    },
    "papermill": {
     "duration": 0.010095,
     "end_time": "2024-11-26T06:54:58.811692",
     "exception": false,
     "start_time": "2024-11-26T06:54:58.801597",
     "status": "completed"
    },
    "tags": []
   },
   "outputs": [],
   "source": [
    "def get_data(filename):\n",
    "    \n",
    "    with open(filename, 'r', encoding='utf-8') as file:\n",
    "        data = json.load(file)\n",
    "\n",
    "    df = pd.DataFrame(data)\n",
    "    return df"
   ]
  },
  {
   "cell_type": "code",
   "execution_count": 4,
   "id": "a4a4718a",
   "metadata": {
    "execution": {
     "iopub.execute_input": "2024-11-26T06:54:58.821433Z",
     "iopub.status.busy": "2024-11-26T06:54:58.821103Z",
     "iopub.status.idle": "2024-11-26T06:55:06.979727Z",
     "shell.execute_reply": "2024-11-26T06:55:06.979266Z"
    },
    "papermill": {
     "duration": 8.164485,
     "end_time": "2024-11-26T06:55:06.980829",
     "exception": false,
     "start_time": "2024-11-26T06:54:58.816344",
     "status": "completed"
    },
    "tags": []
   },
   "outputs": [],
   "source": [
    "# data = get_data('output_file.json')\n",
    "data = get_data('./rnn/only_action_method/output_file.json')"
   ]
  },
  {
   "cell_type": "code",
   "execution_count": 5,
   "id": "e33d2a6e",
   "metadata": {
    "execution": {
     "iopub.execute_input": "2024-11-26T06:55:06.995869Z",
     "iopub.status.busy": "2024-11-26T06:55:06.995150Z",
     "iopub.status.idle": "2024-11-26T06:55:07.018644Z",
     "shell.execute_reply": "2024-11-26T06:55:07.018290Z"
    },
    "papermill": {
     "duration": 0.034116,
     "end_time": "2024-11-26T06:55:07.019446",
     "exception": false,
     "start_time": "2024-11-26T06:55:06.985330",
     "status": "completed"
    },
    "tags": []
   },
   "outputs": [
    {
     "data": {
      "text/html": [
       "<div>\n",
       "<style scoped>\n",
       "    .dataframe tbody tr th:only-of-type {\n",
       "        vertical-align: middle;\n",
       "    }\n",
       "\n",
       "    .dataframe tbody tr th {\n",
       "        vertical-align: top;\n",
       "    }\n",
       "\n",
       "    .dataframe thead th {\n",
       "        text-align: right;\n",
       "    }\n",
       "</style>\n",
       "<table border=\"1\" class=\"dataframe\">\n",
       "  <thead>\n",
       "    <tr style=\"text-align: right;\">\n",
       "      <th></th>\n",
       "      <th>content_syntactic_blocstring</th>\n",
       "      <th>action_blocstring</th>\n",
       "      <th>changes_list_content_syntactic_</th>\n",
       "      <th>changes_list_action</th>\n",
       "      <th>src</th>\n",
       "      <th>userId</th>\n",
       "      <th>user_class</th>\n",
       "      <th>tweet_count</th>\n",
       "      <th>change_content_syntactic</th>\n",
       "      <th>change_action</th>\n",
       "      <th>change_change_dynamic_score</th>\n",
       "      <th>highest_change_in_content_syntactic</th>\n",
       "      <th>lowest_change_in_content_syntactic</th>\n",
       "      <th>standard_deviation_of_content_syntactic</th>\n",
       "      <th>highest_change_in_action</th>\n",
       "      <th>lowest_change_in_action</th>\n",
       "      <th>standard_deviation_of_action</th>\n",
       "      <th>diversity_action</th>\n",
       "      <th>diversity_content_syntactic</th>\n",
       "      <th>diversity_change_dynamics_score</th>\n",
       "    </tr>\n",
       "  </thead>\n",
       "  <tbody>\n",
       "    <tr>\n",
       "      <th>0</th>\n",
       "      <td>(mmmmmmmmqt)(mmmmmmmmqt)(mmmmmmmmqt)(mmmmmmmmq...</td>\n",
       "      <td>rprp⚀pr□prrprrrprpprprprprprpprprprp□rprprprrr...</td>\n",
       "      <td>[0.683772233983162, 0.6413313282702238, 0.7963...</td>\n",
       "      <td>{'content_syntactic': [0.683772233983162, 0.64...</td>\n",
       "      <td>astroturf</td>\n",
       "      <td>146048090</td>\n",
       "      <td>bot</td>\n",
       "      <td>274</td>\n",
       "      <td>0.452173</td>\n",
       "      <td>0.403716</td>\n",
       "      <td>0.860073</td>\n",
       "      <td>1.0</td>\n",
       "      <td>0.000000</td>\n",
       "      <td>0.337325</td>\n",
       "      <td>1.0</td>\n",
       "      <td>0.000000e+00</td>\n",
       "      <td>0.333447</td>\n",
       "      <td>0.653102</td>\n",
       "      <td>0.652532</td>\n",
       "      <td>0.450906</td>\n",
       "    </tr>\n",
       "    <tr>\n",
       "      <th>1</th>\n",
       "      <td>(mmmmmmmqt)(mmmmmmmqt)(mmmmmmmqt)(mmmmmmmqt)(m...</td>\n",
       "      <td>r□pr□rr□rp⚀r⚀TTTTTTT□r⚀p⚀π□p|⚀rr⚀rr⚀rr□r⚀r|⚀p⚀...</td>\n",
       "      <td>[0.0600874600144512, 0.0, 0.004962809790010847...</td>\n",
       "      <td>{'content_syntactic': [0.0600874600144512, 0.0...</td>\n",
       "      <td>astroturf</td>\n",
       "      <td>797927149856403456</td>\n",
       "      <td>bot</td>\n",
       "      <td>275</td>\n",
       "      <td>0.481471</td>\n",
       "      <td>0.491328</td>\n",
       "      <td>0.586060</td>\n",
       "      <td>1.0</td>\n",
       "      <td>0.000000</td>\n",
       "      <td>0.432201</td>\n",
       "      <td>1.0</td>\n",
       "      <td>2.220446e-16</td>\n",
       "      <td>0.290351</td>\n",
       "      <td>0.707387</td>\n",
       "      <td>0.693840</td>\n",
       "      <td>0.151417</td>\n",
       "    </tr>\n",
       "    <tr>\n",
       "      <th>2</th>\n",
       "      <td>(mmt)(mmt)(qt)(qt)(qt)(mqt)(qt)(t)(qt)(qt)(Em)...</td>\n",
       "      <td>r□r⚀r⚀rr□rrr□r□r⚀rrr⚀r|⚁rrrrr□rrrrrr□rpprrrp□r...</td>\n",
       "      <td>[0.4050577935998917, 0.4777670321329065, 0.013...</td>\n",
       "      <td>{'content_syntactic': [0.4050577935998917, 0.4...</td>\n",
       "      <td>astroturf</td>\n",
       "      <td>1046169889138868225</td>\n",
       "      <td>bot</td>\n",
       "      <td>277</td>\n",
       "      <td>0.431741</td>\n",
       "      <td>0.369664</td>\n",
       "      <td>1.066061</td>\n",
       "      <td>1.0</td>\n",
       "      <td>0.000000</td>\n",
       "      <td>0.435529</td>\n",
       "      <td>1.0</td>\n",
       "      <td>2.220446e-16</td>\n",
       "      <td>0.249736</td>\n",
       "      <td>0.676182</td>\n",
       "      <td>0.644029</td>\n",
       "      <td>0.297367</td>\n",
       "    </tr>\n",
       "    <tr>\n",
       "      <th>3</th>\n",
       "      <td>(mmt)(mmmmmmqt)(mmmmmmmmmqt)(mmt)(mmt)(qt)(mmm...</td>\n",
       "      <td>prrpp□rrrrrrrrrrrrrr□rr□rrr□rrprrrrrrr□prrrrrr...</td>\n",
       "      <td>[0.6288092648051271, 0.7846125524146785, 1.0, ...</td>\n",
       "      <td>{'content_syntactic': [0.6288092648051271, 0.7...</td>\n",
       "      <td>astroturf</td>\n",
       "      <td>1085010463128195073</td>\n",
       "      <td>bot</td>\n",
       "      <td>244</td>\n",
       "      <td>0.183893</td>\n",
       "      <td>0.425183</td>\n",
       "      <td>1.532266</td>\n",
       "      <td>1.0</td>\n",
       "      <td>0.000000</td>\n",
       "      <td>0.365115</td>\n",
       "      <td>1.0</td>\n",
       "      <td>4.622382e-02</td>\n",
       "      <td>0.349031</td>\n",
       "      <td>0.698081</td>\n",
       "      <td>0.620676</td>\n",
       "      <td>0.211830</td>\n",
       "    </tr>\n",
       "    <tr>\n",
       "      <th>4</th>\n",
       "      <td>(mmmmmmmqt)|(Em)|(t)(mmqt)(mt)(mmt)|(qt)(HUqt)...</td>\n",
       "      <td>p|⚁p|⚀p□p□p□p|⚁rrrrrrrrpr□prrprr□rrrprrprrrprp...</td>\n",
       "      <td>[1.0, 1.0, 0.7426748822671673, 0.9264785377906...</td>\n",
       "      <td>{'content_syntactic': [1.0, 1.0, 0.74267488226...</td>\n",
       "      <td>astroturf</td>\n",
       "      <td>1613166488</td>\n",
       "      <td>bot</td>\n",
       "      <td>245</td>\n",
       "      <td>0.812726</td>\n",
       "      <td>0.547337</td>\n",
       "      <td>0.791417</td>\n",
       "      <td>1.0</td>\n",
       "      <td>0.373736</td>\n",
       "      <td>0.207269</td>\n",
       "      <td>1.0</td>\n",
       "      <td>2.220446e-16</td>\n",
       "      <td>0.289094</td>\n",
       "      <td>0.680286</td>\n",
       "      <td>0.766445</td>\n",
       "      <td>0.627025</td>\n",
       "    </tr>\n",
       "  </tbody>\n",
       "</table>\n",
       "</div>"
      ],
      "text/plain": [
       "                        content_syntactic_blocstring  \\\n",
       "0  (mmmmmmmmqt)(mmmmmmmmqt)(mmmmmmmmqt)(mmmmmmmmq...   \n",
       "1  (mmmmmmmqt)(mmmmmmmqt)(mmmmmmmqt)(mmmmmmmqt)(m...   \n",
       "2  (mmt)(mmt)(qt)(qt)(qt)(mqt)(qt)(t)(qt)(qt)(Em)...   \n",
       "3  (mmt)(mmmmmmqt)(mmmmmmmmmqt)(mmt)(mmt)(qt)(mmm...   \n",
       "4  (mmmmmmmqt)|(Em)|(t)(mmqt)(mt)(mmt)|(qt)(HUqt)...   \n",
       "\n",
       "                                   action_blocstring  \\\n",
       "0  rprp⚀pr□prrprrrprpprprprprprpprprprp□rprprprrr...   \n",
       "1  r□pr□rr□rp⚀r⚀TTTTTTT□r⚀p⚀π□p|⚀rr⚀rr⚀rr□r⚀r|⚀p⚀...   \n",
       "2  r□r⚀r⚀rr□rrr□r□r⚀rrr⚀r|⚁rrrrr□rrrrrr□rpprrrp□r...   \n",
       "3  prrpp□rrrrrrrrrrrrrr□rr□rrr□rrprrrrrrr□prrrrrr...   \n",
       "4  p|⚁p|⚀p□p□p□p|⚁rrrrrrrrpr□prrprr□rrrprrprrrprp...   \n",
       "\n",
       "                     changes_list_content_syntactic_  \\\n",
       "0  [0.683772233983162, 0.6413313282702238, 0.7963...   \n",
       "1  [0.0600874600144512, 0.0, 0.004962809790010847...   \n",
       "2  [0.4050577935998917, 0.4777670321329065, 0.013...   \n",
       "3  [0.6288092648051271, 0.7846125524146785, 1.0, ...   \n",
       "4  [1.0, 1.0, 0.7426748822671673, 0.9264785377906...   \n",
       "\n",
       "                                 changes_list_action        src  \\\n",
       "0  {'content_syntactic': [0.683772233983162, 0.64...  astroturf   \n",
       "1  {'content_syntactic': [0.0600874600144512, 0.0...  astroturf   \n",
       "2  {'content_syntactic': [0.4050577935998917, 0.4...  astroturf   \n",
       "3  {'content_syntactic': [0.6288092648051271, 0.7...  astroturf   \n",
       "4  {'content_syntactic': [1.0, 1.0, 0.74267488226...  astroturf   \n",
       "\n",
       "                userId user_class  tweet_count  change_content_syntactic  \\\n",
       "0            146048090        bot          274                  0.452173   \n",
       "1   797927149856403456        bot          275                  0.481471   \n",
       "2  1046169889138868225        bot          277                  0.431741   \n",
       "3  1085010463128195073        bot          244                  0.183893   \n",
       "4           1613166488        bot          245                  0.812726   \n",
       "\n",
       "   change_action  change_change_dynamic_score  \\\n",
       "0       0.403716                     0.860073   \n",
       "1       0.491328                     0.586060   \n",
       "2       0.369664                     1.066061   \n",
       "3       0.425183                     1.532266   \n",
       "4       0.547337                     0.791417   \n",
       "\n",
       "   highest_change_in_content_syntactic  lowest_change_in_content_syntactic  \\\n",
       "0                                  1.0                            0.000000   \n",
       "1                                  1.0                            0.000000   \n",
       "2                                  1.0                            0.000000   \n",
       "3                                  1.0                            0.000000   \n",
       "4                                  1.0                            0.373736   \n",
       "\n",
       "   standard_deviation_of_content_syntactic  highest_change_in_action  \\\n",
       "0                                 0.337325                       1.0   \n",
       "1                                 0.432201                       1.0   \n",
       "2                                 0.435529                       1.0   \n",
       "3                                 0.365115                       1.0   \n",
       "4                                 0.207269                       1.0   \n",
       "\n",
       "   lowest_change_in_action  standard_deviation_of_action  diversity_action  \\\n",
       "0             0.000000e+00                      0.333447          0.653102   \n",
       "1             2.220446e-16                      0.290351          0.707387   \n",
       "2             2.220446e-16                      0.249736          0.676182   \n",
       "3             4.622382e-02                      0.349031          0.698081   \n",
       "4             2.220446e-16                      0.289094          0.680286   \n",
       "\n",
       "   diversity_content_syntactic  diversity_change_dynamics_score  \n",
       "0                     0.652532                         0.450906  \n",
       "1                     0.693840                         0.151417  \n",
       "2                     0.644029                         0.297367  \n",
       "3                     0.620676                         0.211830  \n",
       "4                     0.766445                         0.627025  "
      ]
     },
     "execution_count": 5,
     "metadata": {},
     "output_type": "execute_result"
    }
   ],
   "source": [
    "data.head()"
   ]
  },
  {
   "cell_type": "code",
   "execution_count": 6,
   "id": "4bae7704",
   "metadata": {
    "execution": {
     "iopub.execute_input": "2024-11-26T06:55:07.029029Z",
     "iopub.status.busy": "2024-11-26T06:55:07.028422Z",
     "iopub.status.idle": "2024-11-26T06:55:08.048362Z",
     "shell.execute_reply": "2024-11-26T06:55:08.046653Z"
    },
    "papermill": {
     "duration": 1.028361,
     "end_time": "2024-11-26T06:55:08.052113",
     "exception": false,
     "start_time": "2024-11-26T06:55:07.023752",
     "status": "completed"
    },
    "tags": []
   },
   "outputs": [
    {
     "name": "stdout",
     "output_type": "stream",
     "text": [
      "Requirement already satisfied: datasets in /sciclone/data10/iahewababarand/.venv/lib/python3.9/site-packages (3.1.0)\r\n",
      "Requirement already satisfied: filelock in /sciclone/data10/iahewababarand/.venv/lib/python3.9/site-packages (from datasets) (3.16.1)\r\n",
      "Requirement already satisfied: numpy>=1.17 in /sciclone/data10/iahewababarand/.venv/lib/python3.9/site-packages (from datasets) (2.0.2)\r\n",
      "Requirement already satisfied: pyarrow>=15.0.0 in /sciclone/data10/iahewababarand/.venv/lib/python3.9/site-packages (from datasets) (18.0.0)\r\n",
      "Requirement already satisfied: dill<0.3.9,>=0.3.0 in /sciclone/data10/iahewababarand/.venv/lib/python3.9/site-packages (from datasets) (0.3.8)\r\n",
      "Requirement already satisfied: pandas in /sciclone/data10/iahewababarand/.venv/lib/python3.9/site-packages (from datasets) (2.2.3)\r\n",
      "Requirement already satisfied: requests>=2.32.2 in /sciclone/data10/iahewababarand/.venv/lib/python3.9/site-packages (from datasets) (2.32.3)\r\n",
      "Requirement already satisfied: tqdm>=4.66.3 in /sciclone/data10/iahewababarand/.venv/lib/python3.9/site-packages (from datasets) (4.66.6)\r\n",
      "Requirement already satisfied: xxhash in /sciclone/data10/iahewababarand/.venv/lib/python3.9/site-packages (from datasets) (3.5.0)\r\n",
      "Requirement already satisfied: multiprocess<0.70.17 in /sciclone/data10/iahewababarand/.venv/lib/python3.9/site-packages (from datasets) (0.70.16)\r\n",
      "Requirement already satisfied: fsspec<=2024.9.0,>=2023.1.0 in /sciclone/data10/iahewababarand/.venv/lib/python3.9/site-packages (from fsspec[http]<=2024.9.0,>=2023.1.0->datasets) (2024.9.0)\r\n",
      "Requirement already satisfied: aiohttp in /sciclone/data10/iahewababarand/.venv/lib/python3.9/site-packages (from datasets) (3.10.10)\r\n",
      "Requirement already satisfied: huggingface-hub>=0.23.0 in /sciclone/data10/iahewababarand/.venv/lib/python3.9/site-packages (from datasets) (0.26.2)\r\n",
      "Requirement already satisfied: packaging in /sciclone/data10/iahewababarand/.venv/lib/python3.9/site-packages (from datasets) (24.1)\r\n",
      "Requirement already satisfied: pyyaml>=5.1 in /sciclone/data10/iahewababarand/.venv/lib/python3.9/site-packages (from datasets) (6.0.2)\r\n"
     ]
    },
    {
     "name": "stdout",
     "output_type": "stream",
     "text": [
      "Requirement already satisfied: aiohappyeyeballs>=2.3.0 in /sciclone/data10/iahewababarand/.venv/lib/python3.9/site-packages (from aiohttp->datasets) (2.4.3)\r\n",
      "Requirement already satisfied: aiosignal>=1.1.2 in /sciclone/data10/iahewababarand/.venv/lib/python3.9/site-packages (from aiohttp->datasets) (1.3.1)\r\n",
      "Requirement already satisfied: attrs>=17.3.0 in /sciclone/data10/iahewababarand/.venv/lib/python3.9/site-packages (from aiohttp->datasets) (24.2.0)\r\n",
      "Requirement already satisfied: frozenlist>=1.1.1 in /sciclone/data10/iahewababarand/.venv/lib/python3.9/site-packages (from aiohttp->datasets) (1.5.0)\r\n",
      "Requirement already satisfied: multidict<7.0,>=4.5 in /sciclone/data10/iahewababarand/.venv/lib/python3.9/site-packages (from aiohttp->datasets) (6.1.0)\r\n",
      "Requirement already satisfied: yarl<2.0,>=1.12.0 in /sciclone/data10/iahewababarand/.venv/lib/python3.9/site-packages (from aiohttp->datasets) (1.17.1)\r\n",
      "Requirement already satisfied: async-timeout<5.0,>=4.0 in /sciclone/data10/iahewababarand/.venv/lib/python3.9/site-packages (from aiohttp->datasets) (4.0.3)\r\n"
     ]
    },
    {
     "name": "stdout",
     "output_type": "stream",
     "text": [
      "Requirement already satisfied: typing-extensions>=3.7.4.3 in /sciclone/data10/iahewababarand/.venv/lib/python3.9/site-packages (from huggingface-hub>=0.23.0->datasets) (4.12.2)\r\n",
      "Requirement already satisfied: charset-normalizer<4,>=2 in /sciclone/data10/iahewababarand/.venv/lib/python3.9/site-packages (from requests>=2.32.2->datasets) (3.4.0)\r\n",
      "Requirement already satisfied: idna<4,>=2.5 in /sciclone/data10/iahewababarand/.venv/lib/python3.9/site-packages (from requests>=2.32.2->datasets) (3.10)\r\n",
      "Requirement already satisfied: urllib3<3,>=1.21.1 in /sciclone/data10/iahewababarand/.venv/lib/python3.9/site-packages (from requests>=2.32.2->datasets) (1.26.20)\r\n",
      "Requirement already satisfied: certifi>=2017.4.17 in /sciclone/data10/iahewababarand/.venv/lib/python3.9/site-packages (from requests>=2.32.2->datasets) (2024.8.30)\r\n",
      "Requirement already satisfied: python-dateutil>=2.8.2 in /sciclone/data10/iahewababarand/.venv/lib/python3.9/site-packages (from pandas->datasets) (2.9.0.post0)\r\n"
     ]
    },
    {
     "name": "stdout",
     "output_type": "stream",
     "text": [
      "Requirement already satisfied: pytz>=2020.1 in /sciclone/data10/iahewababarand/.venv/lib/python3.9/site-packages (from pandas->datasets) (2024.2)\r\n",
      "Requirement already satisfied: tzdata>=2022.7 in /sciclone/data10/iahewababarand/.venv/lib/python3.9/site-packages (from pandas->datasets) (2024.2)\r\n",
      "Requirement already satisfied: six>=1.5 in /sciclone/data10/iahewababarand/.venv/lib/python3.9/site-packages (from python-dateutil>=2.8.2->pandas->datasets) (1.16.0)\r\n",
      "Requirement already satisfied: propcache>=0.2.0 in /sciclone/data10/iahewababarand/.venv/lib/python3.9/site-packages (from yarl<2.0,>=1.12.0->aiohttp->datasets) (0.2.0)\r\n"
     ]
    },
    {
     "name": "stdout",
     "output_type": "stream",
     "text": [
      "Note: you may need to restart the kernel to use updated packages.\n"
     ]
    }
   ],
   "source": [
    "pip install datasets"
   ]
  },
  {
   "cell_type": "code",
   "execution_count": 7,
   "id": "2b8dbb3a",
   "metadata": {
    "execution": {
     "iopub.execute_input": "2024-11-26T06:55:08.073522Z",
     "iopub.status.busy": "2024-11-26T06:55:08.073167Z",
     "iopub.status.idle": "2024-11-26T06:55:08.672899Z",
     "shell.execute_reply": "2024-11-26T06:55:08.672325Z"
    },
    "papermill": {
     "duration": 0.609713,
     "end_time": "2024-11-26T06:55:08.673849",
     "exception": false,
     "start_time": "2024-11-26T06:55:08.064136",
     "status": "completed"
    },
    "tags": []
   },
   "outputs": [
    {
     "name": "stdout",
     "output_type": "stream",
     "text": [
      "Original class distribution:\n",
      "user_class\n",
      "bot      44457\n",
      "human    39219\n",
      "Name: count, dtype: int64\n",
      "Balanced class distribution:\n",
      "user_class\n",
      "bot      39219\n",
      "human    39219\n",
      "Name: count, dtype: int64\n"
     ]
    }
   ],
   "source": [
    "import pandas as pd\n",
    "from sklearn.utils import shuffle\n",
    "\n",
    "\n",
    "print(\"Original class distribution:\")\n",
    "print(data['user_class'].value_counts())\n",
    "\n",
    "# Separate data by user_class\n",
    "bots = data[data['user_class'] == 'bot']\n",
    "humans = data[data['user_class'] == 'human']\n",
    "\n",
    "# Select the minimum class size\n",
    "min_class_size = min(len(bots), len(humans))\n",
    "\n",
    "# Downsample each class to the minimum class size\n",
    "bots_balanced = bots.sample(n=min_class_size, random_state=1)\n",
    "humans_balanced = humans.sample(n=min_class_size, random_state=1)\n",
    "\n",
    "# Combine the balanced classes\n",
    "balanced_data = pd.concat([bots_balanced, humans_balanced])\n",
    "\n",
    "# Shuffle the data\n",
    "balanced_data = shuffle(balanced_data, random_state=1).reset_index(drop=True)\n",
    "\n",
    "print(\"Balanced class distribution:\")\n",
    "print(balanced_data['user_class'].value_counts())\n",
    "\n",
    "data = balanced_data"
   ]
  },
  {
   "cell_type": "code",
   "execution_count": 8,
   "id": "1d05a7dd",
   "metadata": {
    "execution": {
     "iopub.execute_input": "2024-11-26T06:55:08.685085Z",
     "iopub.status.busy": "2024-11-26T06:55:08.684390Z",
     "iopub.status.idle": "2024-11-26T06:55:08.688780Z",
     "shell.execute_reply": "2024-11-26T06:55:08.688435Z"
    },
    "papermill": {
     "duration": 0.01101,
     "end_time": "2024-11-26T06:55:08.689555",
     "exception": false,
     "start_time": "2024-11-26T06:55:08.678545",
     "status": "completed"
    },
    "tags": []
   },
   "outputs": [
    {
     "name": "stdout",
     "output_type": "stream",
     "text": [
      "data shape (78438, 20)\n",
      "columns Index(['content_syntactic_blocstring', 'action_blocstring',\n",
      "       'changes_list_content_syntactic_', 'changes_list_action', 'src',\n",
      "       'userId', 'user_class', 'tweet_count', 'change_content_syntactic',\n",
      "       'change_action', 'change_change_dynamic_score',\n",
      "       'highest_change_in_content_syntactic',\n",
      "       'lowest_change_in_content_syntactic',\n",
      "       'standard_deviation_of_content_syntactic', 'highest_change_in_action',\n",
      "       'lowest_change_in_action', 'standard_deviation_of_action',\n",
      "       'diversity_action', 'diversity_content_syntactic',\n",
      "       'diversity_change_dynamics_score'],\n",
      "      dtype='object')\n"
     ]
    }
   ],
   "source": [
    "print(\"data shape\", data.shape)\n",
    "print(\"columns\", data.columns)"
   ]
  },
  {
   "cell_type": "code",
   "execution_count": 9,
   "id": "ef3b4a29",
   "metadata": {
    "execution": {
     "iopub.execute_input": "2024-11-26T06:55:08.699108Z",
     "iopub.status.busy": "2024-11-26T06:55:08.698826Z",
     "iopub.status.idle": "2024-11-26T06:55:08.703380Z",
     "shell.execute_reply": "2024-11-26T06:55:08.703046Z"
    },
    "papermill": {
     "duration": 0.010171,
     "end_time": "2024-11-26T06:55:08.704161",
     "exception": false,
     "start_time": "2024-11-26T06:55:08.693990",
     "status": "completed"
    },
    "tags": []
   },
   "outputs": [],
   "source": [
    "def map_action_to_content(action_string, content_string):\n",
    "    \"\"\"\n",
    "    Maps each valid character in the action string to the corresponding group in the content string,\n",
    "    skipping non-character symbols and formatting the output as specified.\n",
    "\n",
    "    Args:\n",
    "    action_string (str): A string where each character represents an action.\n",
    "    content_string (str): A string containing groups inside parentheses.\n",
    "\n",
    "    Returns:\n",
    "    str: A formatted string where each action is paired with a content group.\n",
    "    \"\"\"\n",
    "    # Parse content_string to extract groups inside parentheses\n",
    "    content_groups = re.findall(r'\\((.*?)\\)', content_string)\n",
    "    \n",
    "    # Valid characters are alphabetic only\n",
    "    valid_actions = [char for char in action_string if char.isalpha()]\n",
    "    \n",
    "    # Pair valid actions with corresponding content groups\n",
    "    concatenated_output = []\n",
    "    for i, char in enumerate(valid_actions):\n",
    "        if i < len(content_groups):  # Ensure no out-of-bound errors\n",
    "            concatenated_output.append(f\"({char} -> {content_groups[i]})\")\n",
    "        else:\n",
    "            break\n",
    "\n",
    "    # Format as groups divided by \"|\"\n",
    "    return \"|\".join(\n",
    "        [\"\".join(concatenated_output[i:i + 4]) for i in range(0, len(concatenated_output), 4)]\n",
    "    )"
   ]
  },
  {
   "cell_type": "code",
   "execution_count": 10,
   "id": "d176ad15",
   "metadata": {
    "execution": {
     "iopub.execute_input": "2024-11-26T06:55:08.713495Z",
     "iopub.status.busy": "2024-11-26T06:55:08.713225Z",
     "iopub.status.idle": "2024-11-26T06:55:08.727534Z",
     "shell.execute_reply": "2024-11-26T06:55:08.727183Z"
    },
    "papermill": {
     "duration": 0.01984,
     "end_time": "2024-11-26T06:55:08.728344",
     "exception": false,
     "start_time": "2024-11-26T06:55:08.708504",
     "status": "completed"
    },
    "tags": []
   },
   "outputs": [],
   "source": [
    "import json\n",
    "import torch\n",
    "from torch.utils.data import DataLoader, Dataset, random_split\n",
    "import pandas as pd\n",
    "\n",
    "class UserDataset(Dataset):\n",
    "    def __init__(self, data):\n",
    "        self.data = data\n",
    "    \n",
    "    def __len__(self):\n",
    "        return len(self.data)\n",
    "    \n",
    "    def __getitem__(self, idx):\n",
    "        text = map_action_to_content(self.data.loc[idx, 'action_blocstring'], self.data.loc[idx, 'content_syntactic_blocstring'])\n",
    "        # print(\"action\", self.data.loc[idx, 'action_blocstring'])\n",
    "        # print(\"content\", self.data.loc[idx, 'content_syntactic_blocstring'])\n",
    "        # print(\"text\", text)\n",
    "        label = 1 if self.data.loc[idx, 'user_class'] == 'bot' else 0\n",
    "        return {\n",
    "            'text': text, \n",
    "            'label': label \n",
    "        }\n",
    "\n",
    "dataset = UserDataset(data)\n",
    "\n",
    "train_size = int(0.7 * len(dataset))\n",
    "val_size = int(0.15 * len(dataset))\n",
    "test_size = len(dataset) - train_size - val_size\n",
    "\n",
    "train_dataset, val_dataset, test_dataset = random_split(dataset, [train_size, val_size, test_size])\n",
    "\n",
    "train_loader = DataLoader(train_dataset, batch_size=32, shuffle=True)\n",
    "val_loader = DataLoader(val_dataset, batch_size=32, shuffle=False)\n",
    "test_loader = DataLoader(test_dataset, batch_size=32, shuffle=False)\n",
    "\n",
    "# Example usage: Iterate through the test loader\n",
    "# for batch in val_loader:\n",
    "#     print(batch['text'], batch['label'])\n"
   ]
  },
  {
   "cell_type": "code",
   "execution_count": 11,
   "id": "abcb9858",
   "metadata": {
    "execution": {
     "iopub.execute_input": "2024-11-26T06:55:08.737967Z",
     "iopub.status.busy": "2024-11-26T06:55:08.737688Z",
     "iopub.status.idle": "2024-11-26T06:55:10.928005Z",
     "shell.execute_reply": "2024-11-26T06:55:10.927592Z"
    },
    "papermill": {
     "duration": 2.196327,
     "end_time": "2024-11-26T06:55:10.929094",
     "exception": false,
     "start_time": "2024-11-26T06:55:08.732767",
     "status": "completed"
    },
    "tags": []
   },
   "outputs": [
    {
     "name": "stdout",
     "output_type": "stream",
     "text": [
      "Vocab-size: 4109\n",
      "vocab {'<pad>': 0, '<unk>': 1, '': 2, 'T -> t': 3, 'T -> Ut': 4, 'p -> t': 5, 'r -> qt': 6, 'r -> t': 7, 'T -> qt': 8, 'r -> Et': 9, 'r -> Ut': 10, 'T -> mt': 11, 'T -> Et': 12, 'p -> mt': 13, 'T -> Ht': 14, 'T -> mUt': 15, 'r -> mqt': 16, 'T -> HUt': 17, 'r -> Hqt': 18, 'T -> E': 19, 'r -> Ht': 20, 'T -> mqt': 21, 'r -> EHt': 22, 'p -> qt': 23, 'r -> mt': 24, 'r -> mUt': 25, 'r -> EUt': 26, 'p -> mmt': 27, 'T -> HHUt': 28, 'T -> Hqt': 29, 'r -> mmqt': 30, 'r -> HUt': 31, 'T -> UUt': 32, 'r -> Emt': 33, 'r -> Hmqt': 34, 'T -> EUt': 35, 'T -> HHt': 36, 'T -> Hmt': 37, 'r -> HHqt': 38, 'T -> U': 39, 'r -> E': 40, 'p -> mqt': 41, 'T -> EHt': 42, 'T -> HHHUt': 43, 'T -> mmt': 44, 'r -> EHmt': 45, 'r -> HHHUt': 46, 'T -> HmUt': 47, 'r -> HHUt': 48, 'r -> EHHt': 49, 'r -> EEt': 50, 'p -> Ht': 51, 'p -> E': 52, 'r -> HHt': 53, 'p -> mmmt': 54, 'r -> Hmt': 55, 'π -> t': 56, 'T -> Emt': 57, 'p -> Et': 58, 'T -> HHHHHUt': 59, 'r -> mmmqt': 60, 'r -> U': 61, 'π -> qt': 62, 'p -> mmqt': 63, 'T -> HHHHUt': 64, 'T -> mmUt': 65, 'T -> EHUt': 66, 'T -> mmqt': 67, 'T -> HHqt': 68, 'T -> Hmqt': 69, 'p -> mmmmmmmqt': 70, 'r -> Uqt': 71, 'r -> HmUt': 72, 'r -> HHHqt': 73, 'r -> HHHHUt': 74, 'r -> Hmmqt': 75, 'p -> Ut': 76, 'T -> HHHt': 77, 'r -> mmt': 78, 'r -> EHUt': 79, 'r -> EEEEt': 80, 'T -> EHHt': 81, 'r -> mmmmmmmqt': 82, 'r -> mmUt': 83, 'r -> HHmqt': 84, 'p -> mmmqt': 85, 'r -> Emmt': 86, 'p -> mmmmmmmmqt': 87, 'p -> mmmmt': 88, 'T -> EHmt': 89, 'r -> HHHHqt': 90, 'T -> HHmUt': 91, 'T -> HHmt': 92, 'r -> mmmmqt': 93, 'r -> HUqt': 94, 'r -> EHHHt': 95, 'T -> mmmt': 96, 'r -> EmUt': 97, 'r -> EHmmt': 98, 'r -> mmmmmmmmqt': 99, 'T -> Hmmt': 100, 'r -> EHHUt': 101, 'r -> HHmUt': 102, 'p -> mmmmqt': 103, 'r -> HHHt': 104, 'T -> EHHHt': 105, 'r -> HHHHHUt': 106, 'T -> HHHHHHUt': 107, 'r -> Hmmt': 108, 'r -> EHHmt': 109, 'T -> HHHqt': 110, 'r -> Hmmmqt': 111, 'T -> Uqt': 112, 'p -> Hmt': 113, 'r -> EH': 114, 'T -> mmmUt': 115, 'r -> EEEt': 116, 'r -> mmmmmqt': 117, 'r -> mmmmmmqt': 118, 'r -> HHmmqt': 119, 'r -> HHmt': 120, 'r -> HHHHHqt': 121, 'r -> HmmUt': 122, 'p -> Emt': 123, 'T -> HHmqt': 124, 'p -> mmmmmmqt': 125, 'r -> mmmt': 126, 'r -> UUt': 127, 'p -> Em': 128, 'T -> HmmUt': 129, 'T -> EHHUt': 130, 'T -> Hmmqt': 131, 'r -> HHHmqt': 132, 'p -> mmmmmt': 133, 'T -> mmmqt': 134, 'ρ -> qt': 135, 'T -> EEt': 136, 'r -> ¤qt': 137, 'T -> HHHHt': 138, 'T -> EH': 139, 'r -> EHmUt': 140, 'r -> ¤Ut': 141, 'T -> HHUqt': 142, 'p -> mmmmmqt': 143, 'r -> HHHHHHqt': 144, 'r -> EEHt': 145, 'π -> Et': 146, 'r -> EHHHmt': 147, 'T -> Emmt': 148, 'T -> H': 149, 'r -> EHHHUt': 150, 'r -> mmmUt': 151, 'r -> mUqt': 152, 'r -> EHHHHt': 153, 'r -> HHHmt': 154, 'r -> HmUqt': 155, 'T -> EmUt': 156, 'r -> EHHmmt': 157, 'T -> EHHmt': 158, 'T -> HHHmt': 159, 'r -> HHUqt': 160, 'r -> HHmmUt': 161, 'T -> HUqt': 162, 'T -> ¤t': 163, 'T -> HHHmUt': 164, 'T -> HUUt': 165, 'T -> HHHHqt': 166, 'r -> HHHmUt': 167, 'r -> EHmmmt': 168, 'T -> HU': 169, 'r -> HHHmmqt': 170, 'p -> mUt': 171, 'r -> φt': 172, 'T -> mmmmt': 173, 'T -> EHHHUt': 174, 'r -> ¤t': 175, 'r -> EmmUt': 176, 'T -> EHHHHt': 177, 'r -> Hmmmmqt': 178, 'p -> m': 179, 'r -> HHHHmUt': 180, 'T -> HHHHHt': 181, 'T -> HHHHHHHUt': 182, 'r -> EEHHt': 183, 'p -> U': 184, 'r -> Emmmt': 185, 'ρ -> t': 186, 'p -> HHt': 187, 'r -> HHHHt': 188, 'r -> HHHHHHHHHqt': 189, 'r -> EEEEHt': 190, 'r -> HHHHmqt': 191, 'r -> HHHHHHHHHUqt': 192, 'T -> EHmmt': 193, 'r -> EEHmt': 194, 'r -> HHHHHHHqt': 195, 'r -> EE': 196, 'T -> EEEEt': 197, 'p -> mmmmmmt': 198, 'T -> HHmmUt': 199, 'T -> EHmUt': 200, 'T -> mq': 201, 'r -> mmmmt': 202, 'T -> Hq': 203, 'r -> EEmt': 204, 'r -> HHHHHHHHHHHUqt': 205, 'p -> Hmmt': 206, 'r -> HHHUqt': 207, 'T -> mmmmqt': 208, 'r -> HHHmmt': 209, 'r -> Hmmmt': 210, 'r -> HHHHHHHHqt': 211, 'T -> UU': 212, 'r -> HHHHHHUt': 213, 'r -> mφ': 214, 'r -> H': 215, 'π -> mt': 216, 'r -> EHHmUt': 217, 'T -> HHHHHqt': 218, 'T -> HHmmt': 219, 'T -> Hmmmqt': 220, 'r -> EHHHHmt': 221, 'ρ -> Et': 222, 'T -> HHmmqt': 223, 'p -> Emm': 224, 'r -> Em': 225, 'T -> φt': 226, 'T -> Hmmmt': 227, 'r -> HHmmt': 228, 'r -> ¤¤¤Ut': 229, 'r -> H¤¤qt': 230, 'p -> Emmt': 231, 'r -> HHHHUqt': 232, 'p -> H': 233, 'r -> EHHHHHt': 234, 'p -> mmmmmmmt': 235, 'T -> EEEt': 236, 'π -> Ut': 237, 'r -> Hmmmmmqt': 238, 'T -> HHmmmUt': 239, 'r -> HHmmmqt': 240, 'r -> EHH': 241, 'T -> mUUt': 242, 'r -> HHHH¤t': 243, 'r -> HHmmmUt': 244, 'T -> EHHHmt': 245, 'r -> HHHHHHHHHHqt': 246, 'T -> HHHmqt': 247, 'r -> HmmmUt': 248, 'π -> mqt': 249, 'T -> HHHUqt': 250, 'r -> EHHHHUt': 251, 'T -> mUqt': 252, 'r -> mmmmmmmmmqt': 253, 'r -> HmmUqt': 254, 'T -> EHHHHHt': 255, 'T -> EU': 256, 'T -> HHHHmUt': 257, 'p -> Hqt': 258, 'r -> EHHU': 259, 'r -> HHHHHt': 260, 'T -> HHHHHHqt': 261, 'T -> mmmmUt': 262, 'T -> HmmmUt': 263, 'r -> EEEEmt': 264, 'r -> HHHHHUqt': 265, 'T -> mmmmmt': 266, 'T -> HHHHHHHHUt': 267, 'r -> mmUqt': 268, 'r -> EHHH': 269, 'r -> HHHmmUt': 270, 'r -> E¤t': 271, 'p -> mmmmmmmmmqt': 272, 'π -> E': 273, 'r -> EHmmUt': 274, 'π -> Ht': 275, 'T -> EEHt': 276, 'r -> HHHHHmqt': 277, 'r -> EEEHt': 278, 'r -> Hq': 279, 'r -> HHmmmt': 280, 'π -> Hqt': 281, 'r -> EHHHHHUt': 282, 'T -> Eq': 283, 'T -> HHU': 284, 'ρ -> Ut': 285, 'π -> mmqt': 286, 'r -> HHHHHHUqt': 287, 'r -> EHHHHmmt': 288, 'r -> EHHHHHmt': 289, 'T -> EHHmmt': 290, 'r -> HHHHHmUt': 291, 'r -> EHHHmmt': 292, 'r -> EHmmmmt': 293, 'r -> EUUt': 294, 'r -> UU': 295, 'T -> Emmmt': 296, 'r -> EHHHmmmt': 297, 'T -> mmmmmqt': 298, 'p -> HUt': 299, 'p -> mm': 300, 'r -> Hmmmmmmqt': 301, 'r -> HHmUqt': 302, 'T -> EHH': 303, 'r -> EEEEHHt': 304, 'r -> HHmmmmqt': 305, 'T -> mmmmmmmmqt': 306, 'p -> EHt': 307, 'T -> EHHHHUt': 308, 'r -> EHHmmmt': 309, 'T -> HHHHHHt': 310, 'ρ -> Hqt': 311, 'p -> Hmqt': 312, 'r -> Emmmmt': 313, 'r -> ¤¤Ut': 314, 'T -> EEmt': 315, 'T -> EEUt': 316, 'r -> ¤Uqt': 317, 'r -> HHHHmmqt': 318, 'r -> EU': 319, 'ρ -> mqt': 320, 'T -> HHHHUqt': 321, 'T -> UUUt': 322, 'T -> Eqt': 323, 'T -> HHHHHHHqt': 324, 'T -> HHq': 325, 'r -> mmmmmmt': 326, 'r -> mmmmmt': 327, 'T -> Em': 328, 'r -> Hm': 329, 'r -> EHHHHHHt': 330, 'T -> mU': 331, 'T -> EHmmmt': 332, 'T -> HHHHmqt': 333, 'T -> ¤Ut': 334, 'T -> m': 335, 'T -> HHHU': 336, 'r -> EHHHmUt': 337, 'π -> mmt': 338, 'r -> HHHmmmqt': 339, 'T -> ¤qt': 340, 'r -> Hmmmmmmmqt': 341, 'p -> Hmmmt': 342, 'r -> HHHHHHHHHHUqt': 343, 'T -> EHHmUt': 344, 'T -> mmmmmmmqt': 345, 'p -> HHmt': 346, 'r -> mmmmUt': 347, 'r -> HUUt': 348, 'r -> EEEE': 349, 'p -> HHHmmt': 350, 'r -> Emmmmmt': 351, 'T -> HHHmmUt': 352, 'r -> EEEmt': 353, 'r -> Hmmmmt': 354, 'r -> HHHmmmmmqt': 355, 'T -> mmmmmmqt': 356, 'T -> EHHHHHUt': 357, 'p -> mmUt': 358, 'p -> Emmm': 359, 'T -> HHHmmqt': 360, 'T -> EmmUt': 361, 'T -> HHHHHHHHHUt': 362, 'r -> ¤¤¤¤¤¤¤¤¤Ut': 363, 'r -> H¤Ut': 364, 'r -> HHHHHHHUt': 365, 'r -> HHmmUqt': 366, 'r -> HHHHmt': 367, 'r -> HHHHHHHHUqt': 368, 'T -> HHHHmt': 369, 'r -> EHHHHHHHt': 370, 'T -> HHHHHmUt': 371, 'r -> HHU': 372, 'T -> Hmmmmt': 373, 'π -> mmmmmmmqt': 374, 'T -> mmmmmmmt': 375, 'T -> EEEEHt': 376, 'r -> HHHHHHt': 377, 'r -> EEmmt': 378, 'T -> EHH¤Ut': 379, 'T -> HHHHHHHHHHHHHHqt': 380, 'p -> Emmmt': 381, 'T -> mmmmmUt': 382, 'T -> HHHHHHHHqt': 383, 'ρ -> E': 384, 'r -> EEUt': 385, 'r -> H¤qt': 386, 'T -> mmmmmmt': 387, 'T -> EHHHHHHt': 388, 'r -> HHHmmUqt': 389, 'r -> ¤¤qt': 390, 'r -> H¤¤¤qt': 391, 'r -> ¤UUt': 392, 'r -> HU': 393, 'r -> EEE': 394, 'r -> mmmmmmmmmmqt': 395, 'p -> mU': 396, 'p -> mmmmmmmmt': 397, 'T -> EHHH': 398, 'r -> HHUUt': 399, 'r -> ¤¤¤¤¤¤¤¤¤¤¤qt': 400, 'r -> HHHmm': 401, 'r -> HHmmUUt': 402, 'r -> mq': 403, 'T -> HHmmmqt': 404, 'T -> HHUUt': 405, 'π -> mmmmqt': 406, 'T -> Hm': 407, 'r -> EEHHHHHHHUt': 408, 'π -> EHt': 409, 'r -> mUUt': 410, 'T -> mmUUt': 411, 'T -> EEEE': 412, 'T -> Hmmmmqt': 413, 'π -> mmmqt': 414, 'r -> EmmmUt': 415, 'r -> HHHHHHHHUt': 416, 'r -> EEEEUt': 417, 'r -> EEEHmt': 418, 'T -> HHHHU': 419, 'r -> Eqt': 420, 'r -> ¤¤¤¤¤¤¤¤¤¤qt': 421, 'T -> HHHmmt': 422, 'π -> mmmmmmmmqt': 423, 'r -> mmmmmUt': 424, 'r -> HH': 425, 'T -> HHHHHHHHHqt': 426, 'r -> ¤mqt': 427, 'r -> EEEEHmt': 428, 'T -> HHmmmt': 429, 'T -> EEEEUt': 430, 'r -> HHHHHHHHHHHHUqt': 431, 'r -> HHmmmmmmqt': 432, 'p -> Hm': 433, 'p -> q': 434, 'T -> EHHHH': 435, 'T -> EEHHt': 436, 'ρ -> HUt': 437, 'p -> HHHt': 438, 'r -> HHHHHHHmqt': 439, 'T -> E¤t': 440, 'T -> EEEEmt': 441, 'T -> EHHHHmt': 442, 'r -> HHHHHHmqt': 443, 'r -> EHHHH': 444, 'T -> HHHHUUt': 445, 'r -> HHmmmmmqt': 446, 'T -> HmUUt': 447, 'T -> HmUqt': 448, 'T -> EE': 449, 'r -> EHHHmmUt': 450, 'p -> Hmmqt': 451, 'ρ -> EHt': 452, 'r -> EHHmmUt': 453, 'r -> EHHHHHHUt': 454, 'T -> HHHHHmt': 455, 'T -> EEEHt': 456, 'p -> Emmmm': 457, 'r -> EEEEHHHt': 458, 'r -> Hmmmmmt': 459, 'T -> Hmmmmmmmmt': 460, 'r -> HHHHHHHUqt': 461, 'T -> HH': 462, 'r -> Eq': 463, 'r -> EEHHHt': 464, 'r -> EEmmmt': 465, 'T -> HHHHHHHHHHUt': 466, 'T -> EHHHHHHHHUt': 467, 'r -> EHHHHHHHHt': 468, 'r -> HH¤¤qt': 469, 'T -> Hmmmmmt': 470, 'T -> mmUqt': 471, 'T -> HHHHHHmUt': 472, 'π -> U': 473, 'p -> mmmUt': 474, 'p -> Emmmmt': 475, 'r -> HmmmmUt': 476, 'T -> mφt': 477, 'T -> mmmmmmmmmqt': 478, 'ρ -> mmqt': 479, 'T -> Emmmmt': 480, 'r -> Emm': 481, 'r -> HHHmUqt': 482, 'r -> EHm': 483, 'r -> EEEHHt': 484, 'p -> HHUt': 485, 'T -> HHHHHmqt': 486, 'p -> EHmt': 487, 'T -> HHHHHHHHHHqt': 488, 'r -> EEEEHHHHt': 489, 'r -> ¤¤UUt': 490, 'π -> mmmmmmqt': 491, 'r -> ¤¤¤¤¤¤¤¤¤qt': 492, 'T -> EHHHmmt': 493, 'p -> mmm': 494, 'π -> ¤t': 495, 'T -> Hmmmmmmt': 496, 'T -> HHHHHHHHt': 497, 'T -> EEHmt': 498, 'r -> ¤¤¤¤¤¤¤¤qt': 499, 'p -> ¤t': 500, 'π -> mmmt': 501, 'T -> HHHHHHHt': 502, 'p -> mmmmmmmmmt': 503, 'T -> Hmmmmmmmt': 504, 'r -> HHH¤Ut': 505, 'T -> EHmmUt': 506, 'ρ -> HHqt': 507, 'r -> EEHHHmt': 508, 'ρ -> EUt': 509, 'T -> EHHHHHHHt': 510, 'r -> EHHHHH': 511, 'T -> EEEmt': 512, 'r -> ¤¤¤qt': 513, 'r -> HHHHHHHHHHHqt': 514, 'T -> HHHHmmUt': 515, 'r -> HHHHmmmqt': 516, 'r -> HHmmmmt': 517, 'r -> HHHHHmt': 518, 'r -> UUqt': 519, 'p -> EEt': 520, 'r -> EEEHmmt': 521, 'T -> HHHHHU': 522, 'r -> HHHHHmmqt': 523, 'r -> mU': 524, 'r -> HHHHHHHHHUt': 525, 'r -> H¤t': 526, 'r -> EHmmmmmt': 527, 'r -> HHHmmmmqt': 528, 'r -> ¤¤¤¤¤Ut': 529, 'r -> mmmUqt': 530, 'r -> ¤¤¤¤¤¤¤¤¤¤¤¤¤¤¤¤¤¤¤qt': 531, 'T -> EHHHm': 532, 'r -> EHHHHmUt': 533, 'r -> HHHUUt': 534, 'p -> HmUt': 535, 'r -> EEHmmt': 536, 'r -> Hmmmmmmt': 537, 'r -> EHHHHHHmt': 538, 'T -> EmUUt': 539, 'T -> EHHmmmt': 540, 'r -> mmmmmmmt': 541, 'ρ -> mt': 542, 'r -> HmmmUqt': 543, 'r -> EEEEmmt': 544, 'r -> ¤¤t': 545, 'r -> E¤Ut': 546, 'r -> ¤¤¤¤¤¤¤¤¤¤¤¤¤¤t': 547, 'T -> HHmUqt': 548, 'r -> ¤mUqt': 549, 'p -> Uqt': 550, 'p -> mq': 551, 'T -> HmmmmUt': 552, 'T -> EHm': 553, 'r -> ¤¤¤¤¤¤¤¤¤¤¤¤qt': 554, 'r -> ¤¤¤¤¤qt': 555, 'r -> EHHmmmmt': 556, 'ρ -> Emt': 557, 'ρ -> Ht': 558, 'r -> Emmmmmmt': 559, 'r -> ¤¤¤¤¤¤¤qt': 560, 'T -> EHHHHHHHHmt': 561, 'r -> EEEUt': 562, 'r -> EEEEmmmt': 563, 'r -> HHHHmmt': 564, 'r -> Hφt': 565, 'r -> m': 566, 'r -> EHHHHHH': 567, 'T -> Hmmmmmqt': 568, 'r -> HHHHHHHHmqt': 569, 'T -> EmmmUt': 570, 'r -> EEEEHmmt': 571, 'T -> HHmmmmqt': 572, 'p -> HHmmt': 573, 'p -> Hmmmmt': 574, 'T -> HHHq': 575, 'r -> HHH': 576, 'r -> HHHmmmUt': 577, 'p -> Hmmmqt': 578, 'ρ -> mmmmmmmqt': 579, 'r -> EEHHHHt': 580, 'r -> HHHHU': 581, 'ρ -> Hmqt': 582, 'T -> mmq': 583, 'p -> EH': 584, 'r -> HHHHmUqt': 585, 'T -> EEEEHHt': 586, 'r -> ¤¤¤¤¤¤¤¤¤¤¤¤¤¤¤t': 587, 'ρ -> mUt': 588, 'r -> EHHHHHHmmt': 589, 'T -> HHHHHHHHHHHHHUUt': 590, 'r -> HHHHmmmmmqt': 591, 'r -> EHHHHmm': 592, 'r -> ¤¤¤¤¤¤¤¤¤¤¤¤¤¤¤¤t': 593, 'T -> EUUt': 594, 'T -> mmmmmmmmt': 595, 'r -> HHHHHHmUt': 596, 'p -> HHqt': 597, 'r -> q': 598, 'r -> EEHHmt': 599, 'π -> HHqt': 600, 'r -> EEEEHHHmt': 601, 'T -> HHHUUt': 602, 'r -> ¤mt': 603, 'r -> ¤¤¤¤¤¤¤¤¤¤Uqt': 604, 'r -> ¤¤¤¤¤¤¤¤¤¤¤¤¤t': 605, 'r -> ¤¤¤¤¤¤¤¤¤¤¤¤t': 606, 'T -> EEHHmt': 607, 'r -> ¤mUt': 608, 'r -> HHH¤mmmmqt': 609, 'r -> HHHHHHHt': 610, 'r -> EHHHmmmmt': 611, 'π -> EEt': 612, 'π -> mmmmt': 613, 'r -> EEEEHHmt': 614, 'T -> HHmmmmt': 615, 'T -> EEHHHt': 616, 'r -> HHHU': 617, 'p -> HHHmt': 618, 'T -> HHHHHHHHHHHUt': 619, 'T -> Hmmmmmmqt': 620, 'T -> HHHmmmqt': 621, 'r -> EEHmUt': 622, 'r -> HHHmmmt': 623, 'r -> HHmmmmmt': 624, 'r -> HHH¤mmmqt': 625, 'r -> HHHHmmUt': 626, 'p -> HHmqt': 627, 'T -> EEEHmt': 628, 'r -> Hmmmmmmmt': 629, 'T -> HmmUqt': 630, 'T -> HHHmmmt': 631, 'r -> EEEEH': 632, 'π -> HHt': 633, 'r -> HHHHmmmmqt': 634, 'T -> mmmmmmUt': 635, 'T -> EHHHHHmt': 636, 'T -> ¤¤t': 637, 'T -> EHHHHHHHmt': 638, 'r -> HHHmUUt': 639, 'r -> HHUUqt': 640, 'r -> EHmmmUt': 641, 'r -> HHmmmmUt': 642, 'T -> UUqt': 643, 'π -> EEEE': 644, 'T -> ¤mt': 645, 'r -> ¤¤¤¤¤¤qt': 646, 'T -> EHHHHHHHHt': 647, 'r -> EEEHHHHt': 648, 'T -> HHHHmmt': 649, 'r -> EHHHHHmUt': 650, 'r -> ¤¤¤¤qt': 651, 'r -> HH¤qt': 652, 'p -> Hmmmmmt': 653, 'r -> HmUUt': 654, 'T -> Uq': 655, 'r -> Hφqt': 656, 'π -> EEEEt': 657, 'π -> mmmmmqt': 658, 'r -> HHHq': 659, 'T -> HHHHHHU': 660, 'r -> HH¤Ut': 661, 'r -> EEEmUt': 662, 'r -> HHHHHHmq': 663, 'r -> EEEmmt': 664, 'r -> EEmUt': 665, 'p -> mmU': 666, 'T -> EEmmt': 667, 'r -> ¤¤¤¤¤¤¤¤¤¤¤Uqt': 668, 'r -> ¤¤¤¤¤¤¤¤¤¤¤¤¤qt': 669, 'p -> UUt': 670, 'T -> EHHHHH': 671, 'T -> Hmmmmmmmqt': 672, 'r -> EHU': 673, 'r -> EmmmmUt': 674, 'ρ -> HHUt': 675, 'r -> HUUqt': 676, 'T -> HHHHHHHHHHHqt': 677, 'p -> EHHt': 678, 'T -> EHmmmmt': 679, 'r -> EEHHHHHt': 680, 'T -> HHH': 681, 'r -> HHHHHmmUt': 682, 'r -> EH¤t': 683, 'r -> HHq': 684, 'r -> HH¤mmmmqt': 685, 'π -> HUt': 686, 'p -> HHmmmt': 687, 'T -> HHmmmmUt': 688, 'T -> EHUUt': 689, 'T -> EEE': 690, 'r -> HHHHHHHHHHHHqt': 691, 'T -> EEEEHmt': 692, 'r -> mmmmmmmmt': 693, 'T -> EHU': 694, 'T -> HHHHHHHU': 695, 'T -> mmmUqt': 696, 'p -> φt': 697, 'ρ -> mmmmmmmmqt': 698, 'p -> mmmmmmmmmmqt': 699, 'r -> HHHHHHHHt': 700, 'ρ -> mmmqt': 701, 'p -> Emmmmm': 702, 'r -> H¤mqt': 703, 'r -> HHHHHU': 704, 'p -> EE': 705, 'r -> Hmmmmmmmm': 706, 'T -> HHHHmmqt': 707, 'r -> ¤¤¤¤¤¤¤¤¤¤¤¤¤¤¤¤¤¤qt': 708, 'r -> HHHHHHHHHmqt': 709, 'r -> mφt': 710, 'T -> EEEUt': 711, 'r -> ¤¤¤¤¤¤¤¤¤¤¤¤Ut': 712, 'r -> mmmmmmmmmt': 713, 'r -> mmUUt': 714, 'π -> Emt': 715, 'r -> E¤¤t': 716, 'T -> HHHmmmUt': 717, 'T -> EHHHmUt': 718, 'π -> mUt': 719, 'ρ -> EEt': 720, 'r -> Hmmmmmmmmt': 721, 'r -> Hmmmmmmmmmm': 722, 'r -> Hmmmmmmmmqt': 723, 'r -> EHHHHHHHHHHt': 724, 'T -> EHHHHHHmt': 725, 'p -> HHHHt': 726, 'r -> EHHm': 727, 'T -> Hmmmmmmmmmt': 728, 'r -> EEEHHHt': 729, 'r -> EEEHHHmt': 730, 'r -> HH¤¤mqt': 731, 'r -> H¤UUt': 732, 'r -> Emmm': 733, 'T -> Emmmmmt': 734, 'r -> HHHH¤qt': 735, 'p -> HmmUt': 736, 'r -> mmmmmmUt': 737, 'ρ -> HHmqt': 738, 'r -> HHmmmmmmmqt': 739, 'π -> Uqt': 740, 'T -> HHHmmmmqt': 741, 'p -> mmmm': 742, 'T -> HHmmmmmmt': 743, 'r -> HHmq': 744, 'T -> EEEHHt': 745, 'p -> φ': 746, 'r -> ¤¤¤¤¤¤¤¤¤¤Ut': 747, 'r -> ¤¤¤¤¤¤¤¤¤¤¤¤¤¤qt': 748, 'T -> Hφt': 749, 'T -> HHHHHHmt': 750, 'T -> Hmq': 751, 'ρ -> Uqt': 752, 'r -> HHHHHHHHHt': 753, 'ρ -> EHHt': 754, 'T -> HHHHHHmqt': 755, 'r -> EHHHHHHHUt': 756, 'r -> mmmmmmmmmmmqt': 757, 'r -> UUUt': 758, 'π -> H': 759, 'r -> EEmmUt': 760, 'T -> HHHHHHHHHt': 761, 'T -> mmmUUt': 762, 'T -> HHHHHHHmUt': 763, 'r -> E¤mUt': 764, 'T -> HHHHHUqt': 765, 'T -> EHHHHHHHHHmt': 766, 'r -> HHHHHmmmmU': 767, 'T -> HHmUUt': 768, 'r -> Hmmmmmmmmmmt': 769, 'r -> H¤mUt': 770, 'T -> Hmmmmmmmmqt': 771, 'r -> mmmmmUqt': 772, 'r -> HHHHHHHHHHUt': 773, 'T -> HmU': 774, 'r -> H¤¤Ut': 775, 'r -> EEEHHmt': 776, 'r -> ¤mmqt': 777, 'T -> HHHHHHHHHHt': 778, 'π -> EEEt': 779, 'r -> ¤¤¤¤¤¤¤¤¤¤¤¤¤¤¤¤¤t': 780, 'r -> HHHH¤Ut': 781, 'T -> q': 782, 'r -> EEEEHHHHmt': 783, 'T -> EHHHHmmt': 784, 'r -> mmmmUqt': 785, 'ρ -> HHHqt': 786, 'T -> mφ': 787, 'r -> EHHHU': 788, 'T -> HHHmUqt': 789, 'p -> EEEEt': 790, 'T -> mmU': 791, 'r -> HH¤Uqt': 792, 'r -> UUUqt': 793, 'T -> HHHHHHHmqt': 794, 'r -> EHHHHHHH': 795, 'r -> EEHHmmt': 796, 'π -> EUt': 797, 'π -> m': 798, 'ρ -> U': 799, 'T -> Hmmmmmmmmmm': 800, 'T -> EEEEHHHt': 801, 'p -> mmmmm': 802, 'T -> HmmmmmUt': 803, 'r -> HHmmmUqt': 804, 'r -> EEHUt': 805, 'r -> EHHH¤¤¤Ut': 806, 'T -> HHHHHHHHHHHHUt': 807, 'T -> HHmmmmmmqt': 808, 'r -> EHHHHHHHHHt': 809, 'T -> H¤¤Ut': 810, 'ρ -> mmmmmmqt': 811, 'r -> HHH¤mUt': 812, 'r -> ¤¤¤¤¤¤¤¤¤Uqt': 813, 'p -> Hmm': 814, 'r -> HHH¤Uqt': 815, 'T -> HHHHHHUqt': 816, 'p -> Emmmmmt': 817, 'r -> ¤¤¤t': 818, 'p -> HHHUt': 819, 'r -> ¤¤¤¤¤¤¤¤Ut': 820, 'r -> HHHφqt': 821, 'r -> HmmmmmUt': 822, 'r -> HH¤mmqt': 823, 'p -> Hmmmmqt': 824, 'r -> HHHHHHHHHHHHHHqt': 825, 'T -> HHHHq': 826, 'p -> EHmmt': 827, 'T -> EHHHHHHHUt': 828, 'T -> HH¤qt': 829, 'r -> HHHHHHHmUt': 830, 'T -> EEqt': 831, 'r -> Emmmm': 832, 'p -> mUqt': 833, 'r -> EHHH¤t': 834, 'T -> EHHm': 835, 'T -> EEHmmt': 836, 'T -> Emm': 837, 'r -> mmmmmmqqt': 838, 'T -> HHHHHHHHU': 839, 'p -> qq': 840, 'T -> HHmmmmmqt': 841, 'T -> EEEEHHHmt': 842, 'r -> HHmmmφqt': 843, 'π -> mmmmmmmmmqt': 844, 'T -> HHmmmmmt': 845, 'r -> HHHHHHU': 846, 'π -> EHHt': 847, 'T -> EHHU': 848, 'r -> HHHHH¤qt': 849, 'p -> Hmmmmmmt': 850, 'T -> mmmmUqt': 851, 'p -> ¤mt': 852, 'r -> ¤¤¤¤Ut': 853, 'T -> HHHHHmmqt': 854, 'r -> Hmmmmmmmmmt': 855, 'π -> EH': 856, 'T -> EEEEmmt': 857, 'r -> ¤¤¤¤¤¤¤¤¤¤t': 858, 'r -> EEEHHHHHHt': 859, 'r -> HH¤¤¤¤qt': 860, 'π -> Hmt': 861, 'r -> EEEEHHHHHt': 862, 'T -> mmmq': 863, 'T -> EHHHmmmt': 864, 'T -> Hmmmmmmmmm': 865, 'ρ -> EH': 866, 'r -> EEEEHUt': 867, 'r -> Emmmmmmmt': 868, 'T -> ¤¤qt': 869, 'π -> HHHt': 870, 'p -> mmq': 871, 'p -> Emmmmmmm': 872, 'r -> HHH¤qt': 873, 'r -> HH¤mqt': 874, 'r -> EEEEmmmmt': 875, 'T -> mmmmmmmmmt': 876, 'ρ -> Hmmqt': 877, 'T -> mmmmmmqqt': 878, 'r -> EHHHHHHHU': 879, 'r -> EHUUt': 880, 'ρ -> EEEEt': 881, 'r -> HHHHHHmmqt': 882, 'r -> EEEEHmmmt': 883, 'r -> EEEHHmmt': 884, 'T -> ¤¤¤t': 885, 'r -> EEHmmmt': 886, 'p -> EUt': 887, 'π -> EE': 888, 'r -> EHHmmmUt': 889, 'r -> HHmmmmmmmt': 890, 'T -> HHmmUqt': 891, 'p -> mmmU': 892, 'r -> EHHHUUt': 893, 'r -> HH¤mmUt': 894, 'r -> H¤mmmmqt': 895, 'T -> HHHHHUUt': 896, 'r -> HHHmmmmt': 897, 'r -> H¤¤¤¤¤¤¤¤¤¤qt': 898, 'r -> ¤¤¤¤¤¤¤¤¤¤¤¤¤¤¤¤¤qt': 899, 'p -> φφ': 900, 'T -> EHHmmUt': 901, 'r -> H¤Uqt': 902, 'T -> HmmUUt': 903, 'r -> φ': 904, 'T -> ¤¤Ut': 905, 'T -> EHHHHHHUt': 906, 'T -> HHHHHHHHHHHHHqt': 907, 'r -> EHHHHHHHmt': 908, 'T -> EHHHHHH': 909, 'r -> HmmmmUqt': 910, 'π -> EHUt': 911, 'T -> HHHHHHHHHHHHqt': 912, 'r -> HHHm': 913, 'T -> EEHHHUt': 914, 'T -> EEEmmt': 915, 'r -> HHH¤¤¤Ut': 916, 'T -> EEHHHmt': 917, 'r -> Hmmmmmmmmmmm': 918, 'r -> HH¤mUt': 919, 'T -> EEEHHHt': 920, 'r -> ¤¤¤¤¤¤¤¤¤¤¤¤¤¤¤Ut': 921, 'r -> EEEHHHHHt': 922, 'r -> HH¤mmmmmqt': 923, 'T -> HHHHmmmqt': 924, 'r -> HHHHHmmt': 925, 'r -> mUUqt': 926, 'T -> HHHHHmmUt': 927, 'π -> φt': 928, 'π -> mm': 929, 'r -> ¤¤¤¤¤¤¤Ut': 930, 'ρ -> HHHmt': 931, 'r -> EHHHHHHHHHHHHHt': 932, 'ρ -> HHt': 933, 'T -> EHmmmmmt': 934, 'r -> EHH¤t': 935, 'r -> HHHmmmmUt': 936, 'p -> HH': 937, 'T -> Hmmmmmmmmmmt': 938, 'r -> HHHUUqt': 939, 'r -> EEH': 940, 'r -> HHH¤mqt': 941, 'r -> HHHH¤mUt': 942, 'T -> H¤qt': 943, 'r -> HHmmmmmUt': 944, 'r -> HHmU': 945, 'r -> HHHH¤mmmmqt': 946, 'r -> H¤mmmmmqt': 947, 'r -> mmq': 948, 'T -> EEEEHHmt': 949, 'T -> mmmmq': 950, 'T -> Emmmmmmt': 951, 'T -> Emqt': 952, 'r -> EEEEHHHUt': 953, 'r -> HHHHUUt': 954, 'T -> EEHHHHt': 955, 'T -> EHHmmmmt': 956, 'ρ -> EHmt': 957, 'p -> HHmUt': 958, 'p -> EHHHt': 959, 'r -> ¤¤¤¤¤¤Uqt': 960, 'r -> ¤¤¤¤¤¤¤¤¤¤¤¤¤¤¤qt': 961, 'T -> HHmU': 962, 'r -> EHH¤¤¤Ut': 963, 'r -> EEHHHHHHt': 964, 'ρ -> HmUt': 965, 'T -> HHHmmmmt': 966, 'r -> EEEEmUt': 967, 'r -> HHmmmmmmt': 968, 'r -> EHHHHHHHmmt': 969, 'r -> EHH¤¤¤mUt': 970, 'T -> HHHH': 971, 'T -> ¤mqt': 972, 'T -> HHHHmmmt': 973, 'r -> HHHHmmmmt': 974, 'T -> EHHHHUUt': 975, 'p -> Hmmm': 976, 'r -> HHHHHHmt': 977, 'r -> EmmmmmUt': 978, 'r -> HHφt': 979, 'r -> EEEEHHHHHHt': 980, 'T -> HHHHHHHUqt': 981, 'π -> HHHqt': 982, 'T -> EEEHHHUt': 983, 'r -> EEEEHHmmmmmt': 984, 'p -> EEmt': 985, 'r -> HHmUUqt': 986, 'r -> HHHHmmmUt': 987, 'p -> EHHmt': 988, 'r -> HHHHHHmmUt': 989, 'r -> HHHHHHHHmUt': 990, 'T -> HHHHHHHHHHHHHHUt': 991, 'p -> HHHHmt': 992, 'T -> EEHUt': 993, 'π -> Hmqt': 994, 'r -> HHHH¤¤¤¤¤t': 995, 'π -> mmm': 996, 'p -> mmmmmmmmmmt': 997, 'r -> ¤q': 998, 'p -> ¤qt': 999, 'r -> mm': 1000, 'r -> EEEHUt': 1001, 'T -> mmmmmmUqt': 1002, 'π -> EHHHt': 1003, 'r -> HHHHHmmmqt': 1004, 'T -> HHHHHHHHHU': 1005, 'r -> EHmmmmmmt': 1006, 'r -> EHmm': 1007, 'T -> Hφ': 1008, 'r -> EmU': 1009, 'r -> E¤mmUt': 1010, 'T -> HHHHHHHHHHHHUUt': 1011, 'T -> HHHHHHmmUt': 1012, 'p -> Hmmmmmmmt': 1013, 'r -> E¤¤mUt': 1014, 'T -> Eφt': 1015, 'p -> EEEt': 1016, 'T -> HHHHHmmt': 1017, 'T -> ¤q': 1018, 'T -> EmmmmUt': 1019, 'r -> HHHmmmmUqt': 1020, 'r -> EEHHUt': 1021, 'π -> mmmmmt': 1022, 'T -> ¤mUt': 1023, 'r -> EEEEHHH': 1024, 'π -> q': 1025, 'r -> EHHHHmmUt': 1026, 'T -> HHHHHHHHmUt': 1027, 'T -> mmmmmmmmmmqt': 1028, 'T -> mmmmmmmqqt': 1029, 'r -> mmmmmmmqqt': 1030, 'r -> HHHmUUqt': 1031, 'r -> ¤¤¤¤¤¤¤¤¤¤¤t': 1032, 'T -> UUUUt': 1033, 'r -> HHH¤¤¤¤¤¤¤¤¤qt': 1034, 'T -> EEEHHHmt': 1035, 'ρ -> EHHHHUt': 1036, 'T -> Hmφt': 1037, 'T -> H¤t': 1038, 'r -> mmmmmmUqt': 1039, 'ρ -> Emmt': 1040, 'p -> Hmmmmmqt': 1041, 'r -> ¤¤¤¤¤¤¤t': 1042, 'r -> H¤¤¤¤¤¤Ut': 1043, 'T -> Hmm': 1044, 'p -> HHm': 1045, 'r -> ¤¤¤¤¤¤¤¤Uqt': 1046, 'r -> ¤¤¤¤t': 1047, 'T -> Uφt': 1048, 'r -> HHmmmmmmmmt': 1049, 'T -> Emmm': 1050, 'p -> HHmmqt': 1051, 'T -> E¤': 1052, 'T -> EHHHHHmmt': 1053, 'p -> Emmmmmm': 1054, 'p -> mmmmUt': 1055, 'r -> EH¤Ut': 1056, 'T -> EEHHHHHHHHHHt': 1057, 'r -> EmUUt': 1058, 'r -> EHHmmmm': 1059, 'T -> HHHφt': 1060, 'T -> HHHHmmmmqt': 1061, 'r -> H¤mmqt': 1062, 'p -> ¤mqt': 1063, 'T -> EHqt': 1064, 'p -> EEEEmt': 1065, 'r -> E¤¤¤Ut': 1066, 'p -> mmUqt': 1067, 'π -> HHUt': 1068, 'T -> EEEEqt': 1069, 'r -> HH¤¤¤¤¤¤¤¤¤¤¤¤¤¤t': 1070, 'r -> EHmmmmmmmt': 1071, 'p -> mmmmmmmm': 1072, 'T -> EEH': 1073, 'r -> EHHUUt': 1074, 'r -> EEHHHHmt': 1075, 'ρ -> HHHHqt': 1076, 'r -> HHHHH¤Ut': 1077, 'T -> mmφt': 1078, 'r -> EEEHHUt': 1079, 'T -> HHHmmmmmqt': 1080, 'r -> EHHHm': 1081, 'r -> HHHHHHHHHHHHHqt': 1082, 'r -> EEUUt': 1083, 'π -> Em': 1084, 'ρ -> HHHUt': 1085, 'π -> φ': 1086, 'r -> EHHHHmmmt': 1087, 'p -> mmmmmm': 1088, 'r -> EEEEHmUt': 1089, 'p -> EHmmmt': 1090, 'r -> EHHHHHmmt': 1091, 'r -> ¤¤¤¤UUt': 1092, 'T -> EEmmmt': 1093, 'r -> HHHHHHHU': 1094, 'p -> HHmmmqt': 1095, 'r -> ¤¤¤¤¤¤¤Uqt': 1096, 'r -> HmmmmmmUt': 1097, 'r -> mmmmmmmUt': 1098, 'r -> EEEH': 1099, 'r -> EHHmmmmmt': 1100, 'p -> EHHmmt': 1101, 'r -> H¤mmt': 1102, 'r -> EHHHHHHHHHHHt': 1103, 'r -> ¤¤Uqt': 1104, 'p -> mqq': 1105, 'ρ -> HUUt': 1106, 'ρ -> EHHHUt': 1107, 'T -> mm': 1108, 'r -> HHHHHHHHHHHmqt': 1109, 'r -> HHHHHHHmU': 1110, 'r -> EEEEHHmmt': 1111, 'r -> HHHHmmmmmmqt': 1112, 'r -> Uφt': 1113, 'r -> ¤¤mmmUt': 1114, 'r -> HHmUUt': 1115, 'p -> mφt': 1116, 'T -> EHmm': 1117, 'T -> EHHHU': 1118, 'r -> HH¤¤¤¤¤¤¤¤¤¤¤¤¤¤¤qt': 1119, 'r -> ¤¤¤mUt': 1120, 'T -> HHHmUUt': 1121, 'r -> ¤¤¤¤¤¤Ut': 1122, 'ρ -> mmmmmqt': 1123, 'p -> HHHHHt': 1124, 'T -> mmmmmmmmmmt': 1125, 'ρ -> mmmmqt': 1126, 'r -> HHφqt': 1127, 'r -> HHHHHHH¤¤qt': 1128, 'T -> HHHHmmmUt': 1129, 'r -> HmmUUt': 1130, 'r -> qqt': 1131, 'T -> EHHUUt': 1132, 'p -> HHHmmmt': 1133, 'r -> Hmq': 1134, 'r -> E¤¤Ut': 1135, 'r -> EEEEHHUt': 1136, 'T -> EEEHHmt': 1137, 'p -> mmmmmUt': 1138, 'π -> Emmt': 1139, 'r -> HHHmmmmmmqt': 1140, 'r -> EHmmm': 1141, 'r -> HHHmmmmmt': 1142, 'ρ -> UUt': 1143, 'ρ -> HHHmqt': 1144, 'T -> qqt': 1145, 'ρ -> φt': 1146, 'T -> HHHHmUqt': 1147, 'T -> HHHHHHHHmqt': 1148, 'p -> mφφ': 1149, 'π -> EHmt': 1150, 'r -> HH¤mt': 1151, 'r -> E¤mt': 1152, 'r -> HHHHHHmmmmqt': 1153, 'r -> EEqt': 1154, 'ρ -> mmt': 1155, 'ρ -> mmmmmmmmmqt': 1156, 'T -> ¤¤¤qt': 1157, 'r -> ¤¤¤Uqt': 1158, 'p -> HHmmmmt': 1159, 'ρ -> Hmmmqt': 1160, 'r -> ¤¤¤¤¤¤¤¤¤t': 1161, 'r -> HHHHHHHHHHHHUt': 1162, 'r -> EHHmmmmmmt': 1163, 'T -> EEHHHHHt': 1164, 'r -> Emqt': 1165, 'ρ -> mUqt': 1166, 'T -> mmmmmmmUt': 1167, 'r -> Eφt': 1168, 'r -> E¤': 1169, 'T -> mmmmmmq': 1170, 'T -> EHHHHHHHHHt': 1171, 'r -> mmmmmmmmmmt': 1172, 'r -> Hmmmmmmmmmqt': 1173, 'T -> HmmmmmmUt': 1174, 'T -> mmmmmmmmmmUqt': 1175, 'π -> Hmmt': 1176, 'r -> HHHHH¤¤¤¤qt': 1177, 'T -> HHHHH': 1178, 'r -> HHHHHHHHHHt': 1179, 'r -> HHHHHmUqt': 1180, 'T -> E¤¤t': 1181, 'π -> mmmmm': 1182, 'T -> EEEHHHHt': 1183, 'T -> EHHHHHHHHHHt': 1184, 'r -> Emmmmmmmmt': 1185, 'T -> HHHHHHmmmqt': 1186, 'r -> ¤¤¤¤¤¤¤¤¤¤¤¤¤¤¤¤¤¤t': 1187, 'p -> mmmmmmm': 1188, 'π -> UUt': 1189, 'p -> HHHqt': 1190, 'T -> HHφt': 1191, 'T -> ¤¤¤¤t': 1192, 'T -> ¤U': 1193, 'ρ -> HHHHHqt': 1194, 'r -> HHHHHH¤t': 1195, 'T -> H¤Ut': 1196, 'ρ -> UUqt': 1197, 'r -> ¤¤mmUt': 1198, 'p -> HHHHqt': 1199, 'p -> mmmmmmmmmmmqt': 1200, 'T -> HHmq': 1201, 'r -> HHHmmm': 1202, 'r -> EEHHHUt': 1203, 'T -> EEEEmUt': 1204, 'r -> Hmmmmmmmmm': 1205, 'r -> EHHHmmmmmmm': 1206, 'T -> mmmmmmmmq': 1207, 'T -> EEEEHHHHt': 1208, 'T -> EEHHHHHHHHHt': 1209, 'r -> ¤¤¤¤¤¤¤¤¤¤¤Ut': 1210, 'r -> HHHHHHHHHmU': 1211, 'p -> Emmmmmmt': 1212, 'r -> HHHH': 1213, 'r -> HHHHHHHHHHmqt': 1214, 'ρ -> EHmmt': 1215, 'π -> qqt': 1216, 'T -> Hmmmmmmmmmmm': 1217, 'T -> EHmmmUt': 1218, 'r -> ¤mmmmmmmqt': 1219, 'T -> HHHHHHHHHHHHHUt': 1220, 'T -> HHmmmmmmmmt': 1221, 'T -> Hmmmmmmmm': 1222, 'r -> mmU': 1223, 'p -> EmUt': 1224, 'r -> EEEmmmt': 1225, 'T -> Hmmmmmmm': 1226, 'T -> HHm': 1227, 'T -> EEEEHH': 1228, 'r -> EEEEHmmmmt': 1229, 'r -> ¤¤mqt': 1230, 'T -> EEEHmmt': 1231, 'r -> Uq': 1232, 'r -> HHHHHHmUqt': 1233, 'r -> HHHHH': 1234, 'r -> EEmmmmt': 1235, 'r -> H¤mt': 1236, 'ρ -> EmUt': 1237, 'ρ -> mmUt': 1238, 'p -> EEEE': 1239, 'r -> EE¤¤t': 1240, 'r -> mmmq': 1241, 'T -> mmmmmmmmmmmqt': 1242, 'ρ -> HHHHUt': 1243, 'T -> EEHmUt': 1244, 'T -> HHHHHHHHHHHHHq': 1245, 'r -> HHHmmmmmmU': 1246, 'r -> EHH¤mt': 1247, 'T -> HHHHHHH': 1248, 'r -> HHHHHHHHHHφ': 1249, 'r -> EHHHHHHHHHmU': 1250, 'T -> EHHHHmUt': 1251, 'ρ -> EEEt': 1252, 'r -> EHHmm': 1253, 'r -> HmmUUqt': 1254, 'T -> EHHHHHHH': 1255, 'r -> HHHHHHHmmqt': 1256, 'r -> HHHHHHHH¤qt': 1257, 'T -> HHHHHHHHHHU': 1258, 'p -> HHHHUt': 1259, 'T -> ¤¤¤¤¤t': 1260, 'T -> HHHHHHHmt': 1261, 'r -> E¤¤¤t': 1262, 'r -> H¤¤¤¤¤Ut': 1263, 'r -> Emmmmm': 1264, 'T -> mmmmmq': 1265, 'r -> ¤¤¤¤¤t': 1266, 'T -> EEHHUt': 1267, 'r -> EmmU': 1268, 'T -> EEHHHHmt': 1269, 'r -> EHHHmm': 1270, 'T -> ¤Uqt': 1271, 'π -> EEHt': 1272, 'T -> EHHHHHHHHHHHt': 1273, 'π -> HHHUt': 1274, 'r -> EHmmmm': 1275, 'r -> HHHHHHmmmqt': 1276, 'r -> ¤mUUqt': 1277, 'T -> EEEEHHH': 1278, 'r -> EHHHmmmm': 1279, 'T -> EHHHHHHHHHHH': 1280, 'r -> HHH¤¤qt': 1281, 'π -> EEE': 1282, 'T -> UUUUUt': 1283, 'T -> EHHHHU': 1284, 'T -> HHHHHHHHHHHt': 1285, 'T -> E¤Ut': 1286, 'r -> HHH¤¤¤¤¤Ut': 1287, 'r -> E¤¤¤¤¤¤¤¤¤t': 1288, 'r -> E¤¤¤¤¤¤¤¤¤¤¤¤¤¤t': 1289, 'r -> HH¤¤¤¤¤¤¤¤¤¤¤¤¤¤¤t': 1290, 'r -> HHHH¤¤¤¤¤¤¤¤¤¤qt': 1291, 'r -> HHHHHH¤Ut': 1292, 'r -> ¤mmmmmmqt': 1293, 'p -> HHmmUt': 1294, 'r -> HmU': 1295, 'p -> EHmmmmt': 1296, 'r -> Hφ': 1297, 'π -> Hmmqt': 1298, 'T -> H¤mqt': 1299, 'T -> HmmmUqt': 1300, 'T -> EEHHHHHHHHt': 1301, 'T -> EHHHHHHHH': 1302, 'r -> Emmmmmm': 1303, 'T -> EEEEHmmt': 1304, 'r -> ¤¤¤¤¤¤¤¤¤¤¤¤Uqt': 1305, 'T -> EEmUt': 1306, 'T -> HHHHHmmmqt': 1307, 'r -> H¤mmmqt': 1308, 'T -> HHmmmmmUt': 1309, 'p -> HU': 1310, 'p -> EHm': 1311, 'p -> Hmmmm': 1312, 'T -> EEHHHmmt': 1313, 'r -> HHH¤¤Ut': 1314, 'r -> HHHHHHHmUqt': 1315, 'T -> HHHmU': 1316, 'T -> HHmφt': 1317, 'p -> HHHmqt': 1318, 'T -> Hmmmmmm': 1319, 'r -> mmmmmmmmq': 1320, 'T -> E¤¤¤t': 1321, 'p -> EHHHmt': 1322, 'p -> EEE': 1323, 'T -> EHHHHm': 1324, 'ρ -> EHH': 1325, 'T -> EEEEHHmmt': 1326, 'T -> EEHHmmt': 1327, 'r -> HHm': 1328, 'T -> HHHHHHUUt': 1329, 'r -> HHHHmmmt': 1330, 'r -> mmφt': 1331, 'r -> EEEEmmUt': 1332, 'ρ -> EHHHt': 1333, 'r -> EEH¤¤¤¤¤¤¤¤¤¤mt': 1334, 'T -> EHHHHHHHU': 1335, 'r -> HHHHUUqt': 1336, 'r -> EEEHHHHHmt': 1337, 'r -> HHHHH¤¤¤¤¤¤¤¤¤¤¤¤¤t': 1338, 'r -> EHH¤Ut': 1339, 'r -> HmUUqt': 1340, 'π -> mmmmmmmm': 1341, 'T -> HmmU': 1342, 'p -> HHHmmmqt': 1343, 'r -> HmmmmmmmUt': 1344, 'r -> ¤¤¤¤¤¤¤¤¤mUt': 1345, 'π -> mmmmmmt': 1346, 'π -> mmmm': 1347, 'p -> HHHmmqt': 1348, 'r -> HHH¤¤¤¤¤qt': 1349, 'r -> H¤mUUt': 1350, 'r -> Hmmm': 1351, 'r -> ¤¤mUt': 1352, 'T -> HHHmmmmUt': 1353, 'T -> ¤mmqt': 1354, 'T -> mmmmUUt': 1355, 'r -> EHHHHm': 1356, 'r -> HHHφt': 1357, 'T -> EEEEmmmt': 1358, 'T -> HHmmmmmmmqt': 1359, 'p -> mmmmU': 1360, 'p -> mφ': 1361, 'r -> HHHHmmUqt': 1362, 'T -> HHmmmmmmmt': 1363, 'r -> Hmφt': 1364, 'r -> HHHHHmUUt': 1365, 'T -> EEEEHmUt': 1366, 'T -> EEHmmmt': 1367, 'r -> HmmmmmmmmUt': 1368, 'r -> ¤¤¤¤¤¤¤¤¤¤¤¤¤¤Ut': 1369, 'r -> H¤¤¤¤Ut': 1370, 'r -> EHmmmmm': 1371, 'r -> EUUUt': 1372, 'r -> EmmUUt': 1373, 'T -> ¤¤¤Ut': 1374, 'T -> EEHHHHHHHt': 1375, 'r -> EHHHHHm': 1376, 'r -> EEHHHmmt': 1377, 'T -> mmmU': 1378, 'p -> EHUt': 1379, 'r -> ¤mmUt': 1380, 'r -> HHHH¤¤¤¤Ut': 1381, 'T -> mmmφt': 1382, 'T -> HHHHHHq': 1383, 'T -> EHmmm': 1384, 'r -> HHH¤¤¤¤¤¤¤¤¤¤¤¤¤qt': 1385, 'r -> HH¤¤¤¤¤¤¤¤qt': 1386, 'r -> EEEHmUt': 1387, 'T -> EHHmm': 1388, 'r -> ¤¤¤UUt': 1389, 'r -> EEHmmmmt': 1390, 'r -> EHHHHHHHHmt': 1391, 'r -> Hmmmmmm': 1392, 'r -> EHqt': 1393, 'T -> HHHHHq': 1394, 'r -> ¤¤¤¤¤¤¤¤mmqt': 1395, 'r -> EEE¤t': 1396, 'r -> EHHHH¤¤t': 1397, 'r -> HHH¤¤¤Uqt': 1398, 'r -> H¤mmUUt': 1399, 'r -> HHHHHHHHHmmqt': 1400, 'r -> HHHHH¤¤qt': 1401, 'r -> HHH¤t': 1402, 'T -> HHφ': 1403, 'r -> ¤¤¤¤¤¤¤¤¤¤¤mt': 1404, 'r -> H¤¤¤¤¤¤¤¤¤¤¤mt': 1405, 'r -> HH¤mmmUt': 1406, 'r -> EE¤mt': 1407, 'T -> EHHHHHHHHmmmt': 1408, 'r -> EEEEmmmUt': 1409, 'r -> EHHHHHHH¤t': 1410, 'T -> EHHH¤Ut': 1411, 'ρ -> Hmt': 1412, 'r -> EEHHmmmt': 1413, 'π -> HHHHqt': 1414, 'T -> EHHHHHHU': 1415, 'r -> ¤mmt': 1416, 'T -> EEHHHHHHt': 1417, 'r -> HHHH¤¤¤qt': 1418, 'r -> HHH¤¤mqt': 1419, 'r -> HH¤¤¤¤¤¤Ut': 1420, 'r -> HHH¤¤¤¤¤¤¤¤¤¤¤qt': 1421, 'r -> ¤¤¤¤¤¤¤¤¤¤¤¤¤¤¤¤Ut': 1422, 'r -> EHHHHHHmUt': 1423, 'r -> HHHHHH¤qt': 1424, 'T -> EHHmmmUt': 1425, 'r -> EEEEHH': 1426, 'p -> mmmmmU': 1427, 'r -> HH¤¤¤¤¤¤¤¤¤¤¤¤¤t': 1428, 'π -> Emmmt': 1429, 'r -> Emmmmmmm': 1430, 'r -> ¤¤¤¤¤¤¤¤¤¤¤¤¤¤¤¤¤¤¤t': 1431, 'π -> HUqt': 1432, 'T -> EEEEHUt': 1433, 'T -> Hmmm': 1434, 'π -> HH': 1435, 'T -> mmmmmUqt': 1436, 'π -> mmmmmm': 1437, 'r -> EEEEHHHHHHHt': 1438, 'r -> EEEHmmmt': 1439, 'ρ -> EEmt': 1440, 'ρ -> EE': 1441, 'r -> EEm': 1442, 'r -> H¤¤¤¤¤¤¤¤¤¤¤¤¤qt': 1443, 'r -> HH¤¤¤¤¤¤Uqt': 1444, 'T -> EEEEH': 1445, 'r -> HHHHm': 1446, 'T -> EHHmmmmmt': 1447, 'r -> HHHHHUUt': 1448, 'r -> HHHHHH¤¤¤¤¤¤¤¤¤t': 1449, 'r -> HHH¤¤¤¤¤¤¤¤¤¤t': 1450, 'r -> EHHHHU': 1451, 'r -> mmmmm': 1452, 'T -> EHHHHHHHHHHmt': 1453, 'T -> HHHHHHHHmt': 1454, 'T -> HHHHHHHHHHHU': 1455, 'r -> Hmm': 1456, 'T -> HHHHHHmmqt': 1457, 'T -> HHHφ': 1458, 'r -> H¤¤¤Ut': 1459, 'T -> EEEEHHHUt': 1460, 'r -> HH¤t': 1461, 'ρ -> EHUt': 1462, 'ρ -> Emmmqt': 1463, 'r -> HHHHHHHHHmmmqt': 1464, 'r -> HHHHHHHH¤mmUt': 1465, 'r -> EHHHHHHHHU': 1466, 'r -> EEEEHHHHmmt': 1467, 'ρ -> EHHmt': 1468, 'r -> HHHmmmUqt': 1469, 'r -> EHHHHHHHH': 1470, 'r -> EEEHHHHmt': 1471, 'r -> EHHH¤¤¤¤Ut': 1472, 'r -> HH¤¤mUt': 1473, 'r -> EEHHHHHHHHt': 1474, 'π -> mmmmmmm': 1475, 'r -> E¤¤¤¤¤¤¤¤¤¤¤¤¤¤¤¤¤¤t': 1476, 'r -> HHHHHq': 1477, 'p -> HHH': 1478, 'ρ -> EHHHmUt': 1479, 'T -> Hmmmmm': 1480, 'r -> UUUUt': 1481, 'π -> mmmmmmmmm': 1482, 'r -> mmmφt': 1483, 'p -> HHHHmmt': 1484, 'r -> mmm': 1485, 'π -> HHH': 1486, 'r -> UUUUqt': 1487, 'T -> Emmmmmmmt': 1488, 'r -> EHmmmmUt': 1489, 'r -> EHHHHHHHHH': 1490, 'r -> HHHH¤¤qt': 1491, 'r -> EE¤t': 1492, 'T -> mmmmφ': 1493, 'r -> ¤φt': 1494, 'r -> HHHHHHHH': 1495, 'ρ -> Emmmt': 1496, 'T -> EHHHUUt': 1497, 'p -> HmmmUt': 1498, 'r -> EHmmmmmmmmt': 1499, 'ρ -> Em': 1500, 'r -> ¤¤¤¤¤¤t': 1501, 'r -> E¤¤¤¤¤t': 1502, 'r -> HHHHHmmUqt': 1503, 'π -> HHmqt': 1504, 'p -> mmmmq': 1505, 'ρ -> EEHt': 1506, 'r -> ¤¤¤¤¤¤¤¤¤¤¤¤¤¤¤¤qt': 1507, 'π -> ¤qt': 1508, 'r -> EEEHmmmmt': 1509, 'T -> EEEmmmt': 1510, 'T -> HHHHHHHHUqt': 1511, 'ρ -> HHHmmmqt': 1512, 'ρ -> EEEEHt': 1513, 'r -> HHHHH¤¤¤¤Ut': 1514, 'r -> HHHH¤mqt': 1515, 'ρ -> HHHHHHHqt': 1516, 'p -> mUUt': 1517, 'p -> ¤¤t': 1518, 'r -> HHHmq': 1519, 'T -> ¤¤U': 1520, 'p -> mmmmmmmmm': 1521, 'r -> EHHH¤¤¤¤¤t': 1522, 'T -> HHHmmmmmt': 1523, 'r -> Emmmmmmmm': 1524, 'T -> UUUqt': 1525, 'π -> EEEEHt': 1526, 'r -> EEHHHHUt': 1527, 'T -> HHHHHHHHHHHmUt': 1528, 'ρ -> mmmmt': 1529, 'T -> ¤mmt': 1530, 'π -> EEEEmmmt': 1531, 'T -> EEHHHHHHHHHHHt': 1532, 'r -> EEEHHHHHHHt': 1533, 'T -> EHmqt': 1534, 'r -> EHH¤mUt': 1535, 'π -> mU': 1536, 'p -> Hmmmmm': 1537, 'r -> EHHmUUt': 1538, 'T -> EEm': 1539, 'ρ -> mmmt': 1540, 'r -> HHH¤¤mUt': 1541, 'r -> HH¤¤¤¤Ut': 1542, 'r -> H¤¤¤¤¤¤¤qt': 1543, 'r -> E¤¤¤¤¤¤¤¤¤¤t': 1544, 'T -> EEEEmmmmt': 1545, 'p -> mmmq': 1546, 'T -> ¤¤mUt': 1547, 'T -> EEEHHHmmt': 1548, 'T -> EEEEHHHHHt': 1549, 'r -> EEEEqt': 1550, 'T -> HHHHHHmmt': 1551, 'r -> H¤¤¤¤¤¤¤¤¤¤¤¤¤¤qt': 1552, 'r -> HHH¤¤¤¤¤t': 1553, 'r -> HHmmmmmmUt': 1554, 'r -> H¤mUqt': 1555, 'ρ -> HHHmmqt': 1556, 'T -> HHHHHmUqt': 1557, 'T -> HHHHHHHHHmUt': 1558, 'T -> HHmmmmmmmmmt': 1559, 'T -> HHHHmUUt': 1560, 'r -> EHmmmmmm': 1561, 'r -> HH¤¤¤¤¤¤¤¤¤¤¤¤t': 1562, 'r -> HHH¤¤¤¤Ut': 1563, 'r -> HHHHH¤¤¤¤¤¤¤¤¤¤qt': 1564, 'T -> mmmmmmmUqt': 1565, 'ρ -> HHmmmqt': 1566, 'T -> EEEEHHHmmt': 1567, 'r -> qUt': 1568, 'r -> EEEHHHUt': 1569, 'T -> mUUUt': 1570, 'r -> HHHHHHHmt': 1571, 'T -> HUUqt': 1572, 'T -> ¤φt': 1573, 'T -> HH¤Ut': 1574, 'p -> HHHHmqt': 1575, 'p -> Hmφ': 1576, 'r -> HHmmmmmmmmmt': 1577, 'r -> EEHHHHHmt': 1578, 'T -> HHH¤t': 1579, 'p -> UUUt': 1580, 'r -> HH¤¤¤¤¤Ut': 1581, 'p -> Hmmmmmmqt': 1582, 'r -> ¤¤¤¤¤¤¤¤¤¤¤¤¤¤¤¤¤¤¤¤¤t': 1583, 'r -> H¤¤¤¤¤¤¤¤¤¤¤¤¤¤¤¤¤qt': 1584, 'r -> E¤¤¤¤¤¤¤¤¤¤¤¤¤¤¤t': 1585, 'r -> HHHHH¤t': 1586, 'r -> mmmmmq': 1587, 'ρ -> mmmUt': 1588, 'r -> HHmφt': 1589, 'r -> HHHHHHHHHmUt': 1590, 'π -> Emmmmt': 1591, 'ρ -> HHmUt': 1592, 'π -> ¤Ut': 1593, 'ρ -> EHHHmt': 1594, 'r -> HHHHHHHHU': 1595, 'r -> HHHmmmmmmt': 1596, 'r -> HHHHHHHmmmmt': 1597, 'p -> EHH': 1598, 'r -> HHHHq': 1599, 'p -> ¤mmt': 1600, 'T -> HHHHmmmmUt': 1601, 'r -> HHHHmU': 1602, 'p -> E¤t': 1603, 'ρ -> EEE': 1604, 'T -> ¤¤¤¤¤¤t': 1605, 'ρ -> Hmmmmmqt': 1606, 'T -> HUq': 1607, 'r -> EHHHHHHHHHHmt': 1608, 'p -> mmqq': 1609, 'ρ -> HHHHHHHHHqt': 1610, 'ρ -> HHHHHHqt': 1611, 'T -> HH¤t': 1612, 'π -> mmUt': 1613, 'r -> HHHHHHHHmt': 1614, 'T -> ¤¤¤¤Ut': 1615, 'T -> EHHHHHm': 1616, 'r -> HHHHHmmmUt': 1617, 'p -> mmφt': 1618, 'T -> mmmmmmmmUt': 1619, 'π -> HHHmqt': 1620, 'π -> HHHHHHHqt': 1621, 'r -> H¤¤¤¤qt': 1622, 'r -> H¤¤¤¤¤¤¤¤¤qt': 1623, 'π -> EHHUt': 1624, 'p -> HHmmmmqt': 1625, 'ρ -> H': 1626, 'r -> EHHHHHmmmm': 1627, 'r -> HHHHH¤mUt': 1628, 'T -> HHHm': 1629, 'T -> EHHHHHUUt': 1630, 'r -> HHH¤¤¤¤qt': 1631, 'π -> qq': 1632, 'p -> EEmmt': 1633, 'r -> EEHm': 1634, 'r -> EEEEHHHH': 1635, 'T -> EHHHHHHmmmmt': 1636, 'p -> Emmqt': 1637, 'T -> HmmmU': 1638, 'r -> mmmmq': 1639, 'p -> HHHHHHt': 1640, 'p -> mmmUqt': 1641, 'ρ -> ¤qt': 1642, 'r -> EEEEHHHHHUt': 1643, 'r -> HHHHHHq': 1644, 'T -> HHHHHH': 1645, 'r -> ¤¤¤¤¤¤¤¤¤¤mUt': 1646, 'T -> HHmmU': 1647, 'T -> EHHHHHU': 1648, 'r -> E¤¤¤¤¤¤¤¤¤¤¤¤¤t': 1649, 'r -> HHHH¤¤¤¤¤¤¤¤¤¤¤¤t': 1650, 'T -> EEEHHmmt': 1651, 'r -> HHHH¤¤mUt': 1652, 'r -> HH¤¤Ut': 1653, 'T -> mmmmU': 1654, 'r -> ¤¤U': 1655, 'p -> ¤': 1656, 'T -> EHmmmmm': 1657, 'T -> HHHmmUUt': 1658, 'T -> HHmmUUt': 1659, 'r -> Hmmmmmmm': 1660, 'π -> Hmmmqt': 1661, 'p -> HUUt': 1662, 'T -> EEHHH': 1663, 'r -> HHmmmmUqt': 1664, 'r -> mmmmmmm': 1665, 'r -> H¤¤¤¤¤¤qt': 1666, 'r -> H¤¤¤¤¤¤¤¤¤¤¤¤¤¤¤¤t': 1667, 'r -> HHHH¤¤¤¤¤¤¤¤¤¤¤¤¤t': 1668, 'p -> EHHmmmt': 1669, 'T -> EHHHHmmUt': 1670, 'r -> ¤mmmqt': 1671, 'r -> HHHHHH¤¤qt': 1672, 'r -> HHHHHHHHHH¤qt': 1673, 'r -> ¤mmUqt': 1674, 'r -> mmmmmmmmmUt': 1675, 'r -> EEHHHHHHmt': 1676, 'r -> HHHHHHHHHHHUt': 1677, 'r -> EHHHHHHHHHH': 1678, 'p -> Hmmmmmmmqt': 1679, 'π -> EEEEHHt': 1680, 'r -> mmmU': 1681, 'π -> mmmmmmmt': 1682, 'T -> mmmmmmmmmq': 1683, 'r -> EEEEHHmUt': 1684, 'ρ -> HHHHHHHHHHHqt': 1685, 'r -> H¤¤¤¤¤¤¤¤¤¤¤¤¤¤¤¤qt': 1686, 'r -> HHHH¤Uqt': 1687, 'T -> Emmmm': 1688, 'T -> Hmmmmq': 1689, 'T -> Hmmmmmmmmmmmt': 1690, 'T -> mmφ': 1691, 'r -> EHmU': 1692, 'T -> EH¤t': 1693, 'r -> E¤mmt': 1694, 'T -> EHHHmqt': 1695, 'π -> mUqt': 1696, 'p -> Hmmmmmmmmt': 1697, 'π -> HHHHHHqt': 1698, 'T -> EEEH': 1699, 'π -> Hm': 1700, 'r -> E¤¤¤¤¤¤¤¤¤¤¤¤t': 1701, 'T -> H¤¤t': 1702, 'T -> Hmmmmmmmmmmmm': 1703, 'p -> mmmmmmmmmmmt': 1704, 'r -> E¤¤¤¤¤¤¤¤¤¤¤¤Ut': 1705, 'r -> H¤¤¤¤¤¤¤¤¤¤¤¤¤¤¤¤¤¤qt': 1706, 'r -> ¤¤¤¤¤¤¤¤¤¤¤¤¤¤¤¤¤¤¤¤t': 1707, 'r -> HH¤¤¤¤¤¤¤¤¤t': 1708, 'r -> EEEEHHHHHHmt': 1709, 'r -> EEEEmmm': 1710, 'r -> HHHH¤¤¤Ut': 1711, 'T -> EEHHmmmt': 1712, 'T -> EEmmmmt': 1713, 'r -> HHmmmm': 1714, 'r -> EHHHmmmmmt': 1715, 'r -> EHHHH¤t': 1716, 'ρ -> HHHHmqt': 1717, 'T -> mmmmmφt': 1718, 'ρ -> Hmmmmmmqt': 1719, 'T -> EEEHmUt': 1720, 'p -> EHHHHt': 1721, 'T -> EmmmmmUt': 1722, 'r -> ¤¤¤¤¤¤¤¤¤¤¤¤¤Uqt': 1723, 'p -> mmφ': 1724, 'T -> EHHHHHHHHH': 1725, 'r -> EEU': 1726, 'ρ -> Hmmmmqt': 1727, 'T -> H¤¤qt': 1728, 'r -> ¤¤¤¤Uqt': 1729, 'T -> H¤Uqt': 1730, 'r -> EHHHHHHHHHmt': 1731, 'ρ -> HHHHHHHHqt': 1732, 'ρ -> HHHUqt': 1733, 'π -> Emmmm': 1734, 'r -> EEHHHmmmt': 1735, 'T -> EEHHHmmmt': 1736, 'p -> HHHmmm': 1737, 'p -> EU': 1738, 'r -> qq': 1739, 'r -> EEEHmmUt': 1740, 'r -> EEHmmUt': 1741, 'p -> Hmmmmmm': 1742, 'T -> Emmmmmmm': 1743, 'p -> EEEEHt': 1744, 'r -> H¤¤¤¤¤¤¤¤¤¤¤t': 1745, 'r -> H¤¤mqt': 1746, 'T -> Uφ': 1747, 'r -> EHHHmqt': 1748, 'r -> HHHHHmmmmqt': 1749, 'r -> Hmmmmm': 1750, 'p -> HHHmm': 1751, 'r -> EEEEHHHHHmt': 1752, 'r -> ¤¤¤¤¤¤¤¤t': 1753, 'π -> E¤t': 1754, 'T -> HHHHφ': 1755, 'r -> EEEHHHHH': 1756, 'r -> HHmmφt': 1757, 'p -> EEEEmmmt': 1758, 'r -> Emmmmmmmmm': 1759, 'r -> HHHHH¤mqt': 1760, 'T -> HHHHHHHHHHmqt': 1761, 'r -> HHHHHH¤mUt': 1762, 'r -> HHHHHH¤¤¤¤qt': 1763, 'r -> HHH¤¤¤¤¤¤qt': 1764, 'r -> HHHH¤¤¤¤¤¤qt': 1765, 'r -> EHHHHqt': 1766, 'T -> HHHH¤¤¤¤¤¤¤¤¤¤¤¤¤q': 1767, 'p -> HHHmUt': 1768, 'T -> E¤mUt': 1769, 'T -> HUU': 1770, 'T -> HHHHφt': 1771, 'r -> Hmmφt': 1772, 'r -> HHHHHHHHHU': 1773, 'T -> HHHHHHHHH': 1774, 'T -> HHHHHHHHHHH': 1775, 'π -> mmU': 1776, 'r -> HHHH¤¤¤¤¤Ut': 1777, 'r -> H¤¤¤¤¤¤¤¤¤¤¤¤¤¤t': 1778, 'r -> H¤¤¤mUt': 1779, 'r -> Uφ': 1780, 'T -> EEq': 1781, 'r -> mmmUUt': 1782, 'p -> ¤mmqt': 1783, 'p -> E¤mt': 1784, 'T -> HHmmmUqt': 1785, 'r -> EEHH': 1786, 'T -> ¤¤¤mUt': 1787, 'T -> EHHHHHHHHHUt': 1788, 'π -> UUqt': 1789, 'π -> HHHHHqt': 1790, 'π -> mmmUt': 1791, 'r -> EHHHmmm': 1792, 'r -> HHH¤¤¤¤¤¤¤¤¤¤¤¤¤t': 1793, 'p -> mmmmUqt': 1794, 'r -> HmmU': 1795, 'r -> HHmmmmmmmm': 1796, 'π -> HHHHt': 1797, 'r -> EEmmmmmt': 1798, 'r -> HHHHHUUqt': 1799, 'r -> HHHHHHHHHHH¤qt': 1800, 'r -> HHHHHHHHH¤qt': 1801, 'r -> UUU': 1802, 'p -> mmUUt': 1803, 'T -> HHHHHHHHHHHHU': 1804, 'p -> HHHHHqt': 1805, 'T -> HHHHHHHUUt': 1806, 'T -> HmmmmmmmUt': 1807, 'T -> HmmmUUt': 1808, 'r -> HHHH¤¤¤¤¤¤¤¤¤¤¤qt': 1809, 'r -> EEEEmmmmmt': 1810, 'T -> EEHmmmmt': 1811, 'r -> EHHHHHHmmmt': 1812, 'T -> HHHHHmmmUt': 1813, 'r -> EHmqt': 1814, 'r -> EHHHHHHHHHHH': 1815, 'T -> mmmmmmmmU': 1816, 'T -> Emmmmmmmm': 1817, 'T -> EEEEHmmmt': 1818, 'r -> EEEHHHHUt': 1819, 'r -> EHHmmmmm': 1820, 'r -> HHHHHHHHHHHt': 1821, 'r -> HHmmmmmmU': 1822, 'T -> Hmmφt': 1823, 'T -> HHHHHHHmmUt': 1824, 'T -> HUUUt': 1825, 'p -> mmmmmUqt': 1826, 'T -> HHmmmm': 1827, 'r -> EHHHHHHHHHHHHt': 1828, 'r -> HHHHHH': 1829, 'p -> HHHmmmmt': 1830, 'T -> EHHH¤t': 1831, 'T -> EEEEHHHHHHt': 1832, 'T -> HHmUUUt': 1833, 'r -> EH¤mUt': 1834, 'r -> ¤UUUt': 1835, 'r -> HH¤¤¤¤¤¤¤¤¤qt': 1836, 'r -> ¤mmmmmmUqt': 1837, 'π -> HmUt': 1838, 'ρ -> Emm': 1839, 'ρ -> EmmUt': 1840, 'r -> HHHHHHHHHHHHHmqt': 1841, 'T -> HHHHHmmmt': 1842, 'p -> mmmmmmUt': 1843, 'p -> EEEEmmt': 1844, 'p -> EEEmt': 1845, 'r -> mmmmmmmUqt': 1846, 'r -> EEEHHm': 1847, 'p -> HHmmmmmt': 1848, 'r -> HHHHHHHH¤Ut': 1849, 'r -> ¤U': 1850, 'r -> HHH¤¤¤¤¤¤¤¤¤t': 1851, 'r -> HHH¤¤¤¤¤¤¤¤¤¤¤¤¤¤¤¤t': 1852, 'T -> Emmmmmm': 1853, 'ρ -> mmmmmmmmmmqt': 1854, 'r -> EEEEm': 1855, 'r -> ¤mmmmmqt': 1856, 'T -> HH¤mqt': 1857, 'r -> HHHmmmmmUqt': 1858, 'ρ -> HHUqt': 1859, 'ρ -> HHHHHmqt': 1860, 'p -> mmmφ': 1861, 'r -> EEEEHHHmmt': 1862, 'T -> EHHHmmmmt': 1863, 'T -> EEEHmmmt': 1864, 'π -> EU': 1865, 'T -> HHHmmmmmmqt': 1866, 'T -> mmmmmmmmmUt': 1867, 'p -> EEEmmt': 1868, 'T -> EEEEq': 1869, 'π -> Hmmmt': 1870, 'T -> HHHHHHUU': 1871, 'r -> HHmmmmmmmmm': 1872, 'T -> Hmmmmmmmmmqt': 1873, 'r -> mUφt': 1874, 'r -> EHHHHHHHHHHHH': 1875, 'π -> Hmmmmmqt': 1876, 'T -> HHUUqt': 1877, 'r -> HHHHHH¤¤¤qt': 1878, 'p -> Hq': 1879, 'r -> HHHHHφqt': 1880, 'T -> Hmmmq': 1881, 'p -> qqt': 1882, 'r -> HHmmmmmmm': 1883, 'T -> HHHHHHHq': 1884, 'r -> ¤¤¤mqt': 1885, 'r -> H¤¤¤¤¤qt': 1886, 'r -> ¤¤¤¤¤UUt': 1887, 'r -> HH¤¤¤¤¤¤¤¤¤¤t': 1888, 'r -> EEHUUt': 1889, 'p -> Hmmmmmmmmmt': 1890, 'p -> Emmmmmmmm': 1891, 'r -> HHH¤¤¤¤¤¤¤¤¤Ut': 1892, 'T -> qφt': 1893, 'r -> HH¤¤¤¤¤¤¤¤¤¤¤¤¤¤¤¤¤t': 1894, 'T -> EHHHHmmmt': 1895, 'r -> HHHHHHHH¤¤¤¤¤¤t': 1896, 'r -> H¤¤mmqt': 1897, 'r -> Hmmmmmmmmmmmt': 1898, 'r -> HHHφ': 1899, 'p -> EHHm': 1900, 'T -> HHHHm': 1901, 'T -> EEmmUt': 1902, 'p -> ¤mmmmt': 1903, 'r -> HHHHH¤¤¤¤¤qt': 1904, 'ρ -> HHmmqt': 1905, 'r -> mmmmmmmU': 1906, 'r -> H¤¤mUqt': 1907, 'ρ -> EEHHHt': 1908, 'T -> EHHHmmmmmmt': 1909, 'T -> EHHHHHHHmmmmt': 1910, 'p -> ¤mmmt': 1911, 'r -> mmmmUUt': 1912, 'r -> HHHH¤¤¤¤qt': 1913, 'T -> HHHHHHHmmqt': 1914, 'r -> EEEmmmmt': 1915, 'T -> EHHHHHHHHHH': 1916, 'T -> HHHH¤¤¤¤¤¤¤¤¤¤¤¤¤qt': 1917, 'r -> HHmmmmmmmmqt': 1918, 'T -> HH¤Uqt': 1919, 'T -> φ': 1920, 'r -> HHHHHHmmt': 1921, 'T -> EEHH': 1922, 'r -> HHHHmmmmUt': 1923, 'r -> HmmmmmUqt': 1924, 'π -> mmmmUt': 1925, 'r -> HmmmmmmUqt': 1926, 'r -> HmmmmmmmmU': 1927, 'r -> HH¤¤t': 1928, 'T -> HHHHHHHH': 1929, 'T -> HHHHHHHH¤qt': 1930, 'T -> HHmmmmmmm': 1931, 'T -> mmm': 1932, 'π -> HHmmmmmqt': 1933, 'T -> E¤mt': 1934, 'r -> HHH¤¤¤mqt': 1935, 'r -> HH¤¤¤¤¤¤¤¤¤¤¤qt': 1936, 'r -> HHHHH¤¤¤¤¤¤¤¤¤¤¤¤t': 1937, 'r -> HHHHHH¤¤¤¤¤¤¤¤t': 1938, 'r -> E¤¤¤¤¤¤¤¤Ut': 1939, 'T -> EHHHHHHmmt': 1940, 'p -> EEHt': 1941, 'p -> UUqt': 1942, 'p -> H¤t': 1943, 'r -> HH¤¤¤¤¤¤¤¤¤¤qt': 1944, 'r -> EEEHH': 1945, 'T -> EEEHHHHUt': 1946, 'p -> mqqt': 1947, 'r -> EEEHHHmmt': 1948, 'r -> H¤¤¤¤¤¤¤¤¤¤¤Ut': 1949, 'T -> HmmmmUqt': 1950, 'T -> EHq': 1951, 'r -> HmmmUUt': 1952, 'π -> HHmmmqt': 1953, 'T -> HHHHHmmmmqt': 1954, 'T -> EHHHmmUt': 1955, 'T -> EHmmmmUt': 1956, 'ρ -> mmmmmmqqt': 1957, 'T -> HHmm': 1958, 'ρ -> EHmUt': 1959, 'r -> EEmmmmmmmt': 1960, 'r -> EEHHHUUt': 1961, 'r -> HHHHφt': 1962, 'p -> EEmm': 1963, 'T -> HmUUUt': 1964, 'T -> HHHHmmmmt': 1965, 'ρ -> EHmmUt': 1966, 'ρ -> EU': 1967, 'r -> mmmmmmq': 1968, 'r -> HHHHHHHHq': 1969, 'T -> EHHHHHHm': 1970, 'π -> HHHmt': 1971, 'T -> EEEmUt': 1972, 'r -> H¤¤¤¤¤¤¤¤¤¤¤¤¤¤¤¤¤¤¤qt': 1973, 'r -> H¤¤¤¤¤¤¤¤¤¤¤¤qt': 1974, 'r -> HH¤¤¤¤¤¤¤¤¤¤¤t': 1975, 'r -> EHHHHmmmmt': 1976, 'π -> Hmm': 1977, 'r -> EH¤mt': 1978, 'p -> HHHm': 1979, 'ρ -> mmmUqt': 1980, 'T -> mmmmmmmq': 1981, 'T -> EHmmmmmmmt': 1982, 'T -> mmmmmφ': 1983, 'ρ -> EHHHmmt': 1984, 'r -> HUq': 1985, 'r -> EEEEHHHHHHHHt': 1986, 'r -> EHHmmm': 1987, 'r -> HHHmmUUt': 1988, 'π -> ¤¤t': 1989, 'π -> EmU': 1990, 'r -> Emmqt': 1991, 'r -> HHHHHHH¤qt': 1992, 'T -> HHHUUUt': 1993, 'p -> Hmmmmmmm': 1994, 'p -> mmmmφ': 1995, 'p -> EHHmmm': 1996, 'T -> ¤UUt': 1997, 'p -> EEm': 1998, 'r -> EEHHHH': 1999, 'ρ -> Hφ': 2000, 'r -> HH¤¤¤qt': 2001, 'r -> mmmmmmmm': 2002, 'T -> ¤¤¤¤¤¤¤¤t': 2003, 'T -> ¤¤¤¤¤¤¤¤¤¤¤¤qt': 2004, 'T -> HHHHHHHHHHHHHt': 2005, 'r -> H¤¤¤¤¤¤¤¤¤¤¤¤¤¤Ut': 2006, 'r -> H¤φt': 2007, 'r -> HHH¤¤¤¤¤¤¤¤qt': 2008, 'T -> Hmmmm': 2009, 'T -> ¤mmUt': 2010, 'r -> EEEEHHmmmt': 2011, 'p -> HHmm': 2012, 'r -> Hmmmmmmmmmmmm': 2013, 'p -> EmmUt': 2014, 'r -> EEHHHm': 2015, 'p -> EHHH': 2016, 'T -> EHmmmmmmt': 2017, 'r -> mmmmmmU': 2018, 'p -> EEEm': 2019, 'T -> ¤¤¤¤qt': 2020, 'T -> EHHHHHmm': 2021, 'r -> EEHmmmmmmt': 2022, 'π -> EHH': 2023, 'p -> mmmmmmmmmφ': 2024, 'r -> EUqt': 2025, 'r -> mqqt': 2026, 'r -> HHHHHHmU': 2027, 'T -> HHmmmU': 2028, 'r -> EHHHHHmm': 2029, 'π -> HHHHHmmqt': 2030, 'T -> EHHHHmmmmt': 2031, 'ρ -> EHHHHt': 2032, 'ρ -> EHHUt': 2033, 'r -> HHHHHmmmt': 2034, 'r -> HHmmmmm': 2035, 'T -> HHHHmmUqt': 2036, 'T -> mmmmm': 2037, 'p -> Hmmmmmmmmqt': 2038, 'r -> ¤¤¤¤¤¤¤¤¤¤¤¤¤¤¤¤¤Ut': 2039, 'r -> HHHH¤¤Ut': 2040, 'r -> H¤¤¤¤¤¤¤¤¤¤¤¤¤¤¤¤¤t': 2041, 'r -> mmmmmmmmmmmmmmmqt': 2042, 'r -> EHHHHHU': 2043, 'T -> EEHmm': 2044, 'r -> EEEEHHHHUt': 2045, 'T -> H¤mUt': 2046, 'T -> mmqqt': 2047, 'p -> HHmmmm': 2048, 'ρ -> HmmUt': 2049, 'r -> EEHHmUt': 2050, 'r -> H¤¤¤¤¤¤¤¤¤¤¤¤¤¤¤qt': 2051, 'r -> HHHH¤¤¤¤¤¤¤¤¤¤¤¤¤¤¤¤¤t': 2052, 'T -> Emmmmmmmmm': 2053, 'T -> HHHmUUqt': 2054, 'r -> HHHHHHHHmmU': 2055, 'r -> mmmmmmφqt': 2056, 'r -> HHHH¤mt': 2057, 'T -> EHHqt': 2058, 'r -> HH¤¤¤Ut': 2059, 'ρ -> HUqt': 2060, 'r -> EHHHHHmmUt': 2061, 'r -> Eφ': 2062, 'r -> EEHHHHmUt': 2063, 'T -> HHmmmmmmq': 2064, 'T -> H¤¤¤¤t': 2065, 'π -> EHHHHt': 2066, 'ρ -> EEEEmt': 2067, 'r -> mmmmmmmmmmmt': 2068, 'T -> HHHmmmUqt': 2069, 'ρ -> m': 2070, 'r -> HHHHH¤¤¤¤¤Ut': 2071, 'r -> HHHmmU': 2072, 'T -> HHHHHHHHHmqt': 2073, 'T -> HHHHmU': 2074, 'p -> qφ': 2075, 'T -> HHUUUqt': 2076, 'r -> HHHHHHH¤¤¤¤qt': 2077, 'r -> ¤mmmt': 2078, 'r -> HHHH¤¤¤¤¤qt': 2079, 'r -> HHHHHH¤¤¤¤¤¤qt': 2080, 'π -> HHmmt': 2081, 'T -> EHHmmmmmmt': 2082, 'T -> EHHHHHHmmmmmt': 2083, 'T -> HHHHHHHmmmqt': 2084, 'r -> EEEEHHHHm': 2085, 'r -> EHHHHHHHHHUt': 2086, 'p -> HHHmmmm': 2087, 'r -> EHHHmmmmm': 2088, 'ρ -> HH¤qt': 2089, 'T -> HHHH¤t': 2090, 'ρ -> EEH': 2091, 'π -> mq': 2092, 'r -> EEHHHHHHHmt': 2093, 'π -> mmmmmmmmmmqt': 2094, 'r -> EHUqt': 2095, 'T -> HHmmmmmmmU': 2096, 'T -> H¤¤¤¤¤¤¤¤¤¤¤¤¤¤qt': 2097, 'T -> HUUUqt': 2098, 'r -> EEEEHmφt': 2099, 'π -> HHHUUt': 2100, 'r -> EHHHHHHHHUt': 2101, 'r -> EHHHHHmmmt': 2102, 'p -> mmmqqt': 2103, 'T -> HH¤mUt': 2104, 'r -> ¤¤mmqt': 2105, 'π -> Hmmmmqt': 2106, 'T -> HmmmmmUqt': 2107, 'r -> HHφ': 2108, 'r -> HHHHHHHHHHmUt': 2109, 'T -> HHHHmmmmmmt': 2110, 'T -> HHmmmmmmmmm': 2111, 'T -> mmmmmmm': 2112, 'π -> HHmmqt': 2113, 'r -> H¤¤¤mmqt': 2114, 'r -> EHHH¤¤Ut': 2115, 'r -> HH¤¤¤¤¤t': 2116, 'r -> HHHH¤¤¤¤¤¤¤¤¤¤¤¤qt': 2117, 'r -> E¤UUt': 2118, 'r -> H¤¤mUt': 2119, 'T -> HHHHHHmmmt': 2120, 'p -> HHHHHHHHUt': 2121, 'r -> EHHH¤¤t': 2122, 'p -> HH¤t': 2123, 'T -> EHHHHHHHHHHHUt': 2124, 'ρ -> HHHmmmmqt': 2125, 'T -> HHHHmmmmmqt': 2126, 'r -> HHH¤mt': 2127, 'r -> HHH¤¤¤¤¤¤¤¤¤¤¤¤¤¤t': 2128, 'r -> HH¤¤¤¤Uqt': 2129, 'r -> HHHH¤¤¤¤¤¤¤¤¤¤¤¤¤qt': 2130, 'r -> EEEEHHHHHHH': 2131, 'r -> mmmUUqt': 2132, 'r -> EEHHHHHUt': 2133, 'r -> Hmmφqt': 2134, 'T -> mUφt': 2135, 'r -> HHHHHHHHHHHHmt': 2136, 'r -> HHHHHHHUUt': 2137, 'r -> HHHHHHHHHH': 2138, 'T -> EHHmmmmmUt': 2139, 'r -> Emmmmmmmmmt': 2140, 'T -> HHHHHHHHH¤qt': 2141, 'r -> HHHHHHH¤¤mqt': 2142, 'r -> EEEHHHHHHmt': 2143, 'T -> HHHHHHHHHHmUt': 2144, 'p -> HHHHHHqt': 2145, 'r -> HHHHmmmmmt': 2146, 'r -> HHHH¤¤¤¤¤¤¤¤qt': 2147, 'r -> EEHmmmUt': 2148, 'r -> EHHHmmmUt': 2149, 'ρ -> HmUqt': 2150, 'π -> EEEHt': 2151, 'p -> EEmmmt': 2152, 'π -> EEEEmt': 2153, 'T -> EEHmmmmmt': 2154, 'p -> HmmmmUt': 2155, 'T -> Emmmmmmmmt': 2156, 'p -> HHHHHHHUt': 2157, 'ρ -> Hmmmmmt': 2158, 'r -> HHmmmmmmmUt': 2159, 'p -> φqt': 2160, 'p -> EHHHmmmt': 2161, 'T -> Hmmφ': 2162, 'p -> HHHHHmt': 2163, 'T -> ¤¤φt': 2164, 'p -> Hmmφ': 2165, 'p -> Hmφt': 2166, 'p -> EEmmmmmt': 2167, 'r -> mmmmmmmmmmmmqt': 2168, 'ρ -> EHmmmt': 2169, 'r -> E¤¤mt': 2170, 'T -> EEHHmmmmt': 2171, 'T -> Hmmq': 2172, 'π -> HHHmmt': 2173, 'T -> EEEHUt': 2174, 'r -> E¤¤¤¤¤¤¤¤¤¤¤Ut': 2175, 'r -> HH¤¤¤¤¤¤qt': 2176, 'r -> ¤¤¤¤': 2177, 'r -> ¤mmmmmUqt': 2178, 'p -> qφt': 2179, 'p -> φφt': 2180, 'r -> EEHHHHHHHt': 2181, 'r -> mmmmmmmmqqt': 2182, 'r -> HHHHHHHHHHHHHt': 2183, 'r -> H¤mmUt': 2184, 'r -> HHHH¤mmUt': 2185, 'r -> EH¤U': 2186, 'r -> HHHHUU': 2187, 'ρ -> HHHt': 2188, 'T -> EEHU': 2189, 'ρ -> EmmmUt': 2190, 'ρ -> mmUqt': 2191, 'p -> HHHHHHHHHHHHHt': 2192, 'ρ -> HHmmmUt': 2193, 'p -> EmU': 2194, 'T -> ¤¤mqt': 2195, 'ρ -> Hmmmmt': 2196, 'p -> mmmmmmU': 2197, 'r -> EEHHHHHHHHHHt': 2198, 'r -> HHmmmmmm': 2199, 'p -> HHHHmmmqt': 2200, 'T -> EHHHHHmUt': 2201, 'T -> HHHmmU': 2202, 'ρ -> EHHHHmt': 2203, 'p -> HHHHHHmt': 2204, 'p -> mmmmmφ': 2205, 'r -> HHHHHmUUqt': 2206, 'r -> ¤¤¤¤¤Uqt': 2207, 'r -> HHHHH¤¤¤¤¤¤¤¤¤qt': 2208, 'p -> mmmmmmmmmm': 2209, 'T -> EE¤t': 2210, 'T -> EEHHHH': 2211, 'T -> EHHHHmmm': 2212, 'p -> mmmmmmφ': 2213, 'r -> HHHH¤¤¤¤t': 2214, 'T -> ¤¤¤¤¤¤¤¤¤¤¤¤¤¤qt': 2215, 'π -> Hφt': 2216, 'π -> Hqqt': 2217, 'r -> ¤¤¤¤¤¤¤¤UUt': 2218, 'r -> ¤mmmmUqt': 2219, 'r -> HHH¤¤¤¤¤¤¤¤¤¤¤¤¤¤qt': 2220, 'r -> EEEHHmmmt': 2221, 'p -> mmqqt': 2222, 'T -> mqqt': 2223, 'π -> Emmm': 2224, 'r -> ¤¤¤¤¤¤¤¤¤¤¤¤¤¤¤¤¤¤¤¤qt': 2225, 'r -> HHHHHHH': 2226, 'T -> HHUq': 2227, 'T -> HHHUq': 2228, 'T -> UUU': 2229, 'T -> mmUφt': 2230, 'T -> EEEEHHHHmt': 2231, 'r -> EHmUUt': 2232, 'r -> EEEEHHHmUt': 2233, 'p -> EHHHH': 2234, 'p -> HHHH': 2235, 'r -> HHHHHH¤¤¤mqt': 2236, 'r -> ¤UUqt': 2237, 'r -> mmmmU': 2238, 'T -> HHHH¤mqt': 2239, 'T -> ¤¤¤¤mqt': 2240, 'r -> H¤¤Uqt': 2241, 'r -> ¤¤¤¤¤¤¤¤¤¤¤mUqt': 2242, 'T -> H¤mUqt': 2243, 'r -> HHHHHHφqt': 2244, 'T -> Hmmmmmq': 2245, 'T -> mmmmmmU': 2246, 'T -> mUUqt': 2247, 'r -> HHHUUUqt': 2248, 'T -> ¤¤¤mqt': 2249, 'r -> ¤¤¤¤¤¤¤¤¤¤¤¤¤Ut': 2250, 'T -> HHHHHmU': 2251, 'p -> ¤mmmqt': 2252, 'T -> EEEHHHHHmt': 2253, 'T -> EHmU': 2254, 'p -> HHHHHUt': 2255, 'p -> ¤¤qt': 2256, 'T -> HHHHHmmmmt': 2257, 'r -> EEEmmmmmmUt': 2258, 'T -> EEEEmmmmmt': 2259, 'T -> HHHmmUqt': 2260, 'π -> HHUqt': 2261, 'ρ -> HHHHHUt': 2262, 'r -> EEEEHHHmmUt': 2263, 'T -> EmU': 2264, 'p -> ¤¤mt': 2265, 'r -> E¤¤¤¤¤¤¤¤¤¤¤¤¤mt': 2266, 'r -> HHHHHHHH¤¤¤¤¤¤': 2267, 'r -> HHH¤¤¤qt': 2268, 'r -> HHHHH¤¤¤Ut': 2269, 'r -> HH¤mUUt': 2270, 'r -> HHH¤¤¤¤¤¤¤¤¤¤¤t': 2271, 'r -> H¤mmmmmmmqt': 2272, 'T -> EHHHmmm': 2273, 'p -> EHHHmmt': 2274, 'r -> EHHHHmU': 2275, 'r -> HH¤mmt': 2276, 'r -> HHHHHHHHHHHHHHHqt': 2277, 'ρ -> EHHHHm': 2278, 'T -> HHHmmq': 2279, 'T -> HHmmq': 2280, 'T -> HHHmq': 2281, 'T -> HHmmmmq': 2282, 'ρ -> EHH¤Ut': 2283, 'T -> HH¤¤¤qt': 2284, 'T -> EH¤mUt': 2285, 'T -> HHHH¤qt': 2286, 'ρ -> HH¤¤qt': 2287, 'ρ -> HHHmUqt': 2288, 'T -> EEHm': 2289, 'r -> mmmmmm': 2290, 'r -> HHHHmm': 2291, 'r -> EmmmmU': 2292, 'r -> EHH¤¤¤¤¤t': 2293, 'r -> HHH¤¤¤¤¤¤mUt': 2294, 'r -> EHHHHHUUt': 2295, 'π -> EEEEmmm': 2296, 'T -> mmmmmmmmmU': 2297, 'r -> EEHHHmUt': 2298, 'r -> EEEEU': 2299, 'T -> HHHHHHHHHHHHmt': 2300, 'ρ -> EEEEHmt': 2301, 'ρ -> Hmmmmmmmqt': 2302, 'ρ -> Emmmmmmmmm': 2303, 'r -> HH¤¤¤¤¤¤¤¤¤¤¤¤¤qt': 2304, 'r -> HH¤¤¤¤¤¤¤¤¤¤¤¤¤¤¤¤t': 2305, 'T -> EEmmmmmt': 2306, 'T -> EEEHHHHmt': 2307, 'r -> EEEHHHHmUt': 2308, 'r -> E¤¤UUt': 2309, 'r -> H¤¤¤¤¤¤¤Ut': 2310, 'ρ -> EHHHHHt': 2311, 'r -> HHHH¤¤¤¤¤¤¤¤¤¤¤¤¤¤t': 2312, 'r -> HHH¤¤¤¤¤¤¤qt': 2313, 'r -> E¤¤¤¤¤¤Ut': 2314, 'r -> EHH¤mmUt': 2315, 'T -> EHHmmmm': 2316, 'T -> EHmmqt': 2317, 'T -> Emmmqt': 2318, 'r -> HHHHH¤mt': 2319, 'π -> mmmU': 2320, 'ρ -> HHHHHHHHHHHHHqt': 2321, 'ρ -> HHHHHHHHHHqt': 2322, 'ρ -> EEEHt': 2323, 'π -> HHHUqt': 2324, 'π -> EEEHUt': 2325, 'r -> HHHmφt': 2326, 'r -> HHHmmmmmm': 2327, 'T -> EEEU': 2328, 'r -> mmmmmmmmUt': 2329, 'r -> H¤¤¤¤¤¤¤¤qt': 2330, 'r -> H¤¤t': 2331, 'r -> mmmmφt': 2332, 'π -> HU': 2333, 'r -> mmmmmmUUt': 2334, 'T -> HHHHHHmUqt': 2335, 'π -> HmmUt': 2336, 'p -> EHmmm': 2337, 'p -> EEEEmmm': 2338, 'T -> EHHHHHmmmt': 2339, 'r -> EEEEHHHHHHHHHHt': 2340, 'π -> mφt': 2341, 'r -> HHHHHH¤¤¤¤¤qt': 2342, 'r -> H¤¤¤t': 2343, 'r -> ¤mmmmqt': 2344, 'r -> EEEHHHmmmt': 2345, 'T -> HHHHHm': 2346, 'r -> EEEm': 2347, 'π -> Emmmmm': 2348, 'p -> ¤¤mqt': 2349, 'r -> mmmm': 2350, 'r -> mmmmmmmmm': 2351, 'ρ -> Hmmt': 2352, 'r -> EHHHHHHHHHHHHHHt': 2353, 'T -> EHHHHmmmmmt': 2354, 'T -> EHHHHHHHHmmmmt': 2355, 'T -> EHHHHHmmmmmt': 2356, 'r -> HHHHHHUUqt': 2357, 'r -> HHHHHHHmmUt': 2358, 'T -> mmmmmqqt': 2359, 'p -> HHHHmmqt': 2360, 'p -> ¤¤mmt': 2361, 'T -> ¤¤¤¤¤¤Ut': 2362, 'p -> HHHHHmmt': 2363, 'p -> HHHmmmmmt': 2364, 'T -> EHH¤t': 2365, 'ρ -> HHUUt': 2366, 'π -> HHHHHH': 2367, 'ρ -> HHH¤mqt': 2368, 'r -> ¤¤mmmmUt': 2369, 'r -> HHHHHHHHH¤Ut': 2370, 'p -> HHHHmUt': 2371, 'T -> HHUU': 2372, 'T -> HHHHHHHHHHHmqt': 2373, 'T -> H¤¤¤¤¤¤¤¤¤¤¤qt': 2374, 'T -> HHH¤¤¤¤¤¤¤¤¤¤¤¤q': 2375, 'T -> HHHHH¤¤¤¤¤¤¤¤¤¤¤¤qt': 2376, 'ρ -> mmmmmmt': 2377, 'π -> EEEEmmt': 2378, 'T -> ¤¤¤¤¤Ut': 2379, 'T -> HHHHH¤t': 2380, 'T -> EEEEmmmmmmmmt': 2381, 'r -> HHHmmmU': 2382, 'r -> HHHHHHmmmmmqt': 2383, 'T -> HHHHmmmmmmm': 2384, 'r -> EEEUUUt': 2385, 'T -> mmmφ': 2386, 'r -> HHHHHH¤¤¤¤¤¤¤¤¤¤Ut': 2387, 'r -> HHHHHH¤mmmmUt': 2388, 'r -> ¤¤¤¤¤¤¤¤¤¤U': 2389, 'r -> HH¤mmmmt': 2390, 'r -> HHHHHHH¤mmUt': 2391, 'r -> HHHHH¤mUUt': 2392, 'r -> HHHH¤¤¤¤¤¤Ut': 2393, 'T -> HHHHUUUt': 2394, 'p -> HHHUUt': 2395, 'r -> EH¤¤¤Ut': 2396, 'T -> HHHHUU': 2397, 'r -> Hmmmq': 2398, 'p -> Emmmmmmmt': 2399, 'ρ -> EHHmUt': 2400, 'p -> Hmmmmmmmmmmt': 2401, 'p -> mmmmmmmmmmm': 2402, 'π -> φφt': 2403, 'π -> ¤¤qt': 2404, 'T -> ¤¤mmqt': 2405, 'T -> φUt': 2406, 'r -> HHHmmmmmmmU': 2407, 'p -> HHmmmmmqt': 2408, 'r -> HH¤¤¤mmqt': 2409, 'r -> HHHHHH¤¤¤¤¤¤¤¤¤¤¤¤t': 2410, 'T -> HH¤mmqt': 2411, 'T -> HHmmmUUt': 2412, 'T -> HmUUqt': 2413, 'T -> EEEHHHHHHHHUt': 2414, 'T -> EEEHHHHHHHHHHHUt': 2415, 'π -> EHHHUt': 2416, 'r -> EEHU': 2417, 'r -> mmmmmmmmmm': 2418, 'T -> UUUUU': 2419, 'r -> EHHHH¤mt': 2420, 'r -> HHHHHHH¤¤¤¤¤¤¤¤¤t': 2421, 'T -> HHHHHHHHmmmqt': 2422, 'ρ -> EEHHt': 2423, 'p -> HHHHm': 2424, 'r -> EEEEHmmmUt': 2425, 'r -> EEEEmmmmmmt': 2426, 'r -> EHHHHmmmmmmt': 2427, 'r -> EEEEHmmUt': 2428, 'T -> HHH¤Ut': 2429, 'r -> EHHHHHHHH¤¤t': 2430, 'r -> HHHHHHH¤t': 2431, 'r -> HHHHHHHH¤mmmqt': 2432, 'ρ -> mmmmmmmqqt': 2433, 'r -> HUUUqt': 2434, 'T -> HHHHHHHHUUt': 2435, 'T -> HHHHHHHHmmqt': 2436, 'ρ -> HHmt': 2437, 'π -> Hmmmmt': 2438, 'r -> EHmφt': 2439, 'r -> HHHHHHH¤¤¤¤¤¤t': 2440, 'r -> HH¤mUUUt': 2441, 'r -> H¤UUUt': 2442, 'r -> H¤¤¤¤¤¤¤¤¤¤¤¤¤¤¤¤¤¤¤¤t': 2443, 'p -> ¤¤¤t': 2444, 'T -> HHmmm': 2445, 'r -> HHHHHHHHHHHHHHHHqt': 2446, 'ρ -> Hmmmt': 2447, 'T -> HHHHHHHHHH': 2448, 'T -> EEHHHHmmt': 2449, 'p -> HHHHHmqt': 2450, 'r -> EEHmmmmmt': 2451, 'r -> EEHHUUt': 2452, 'ρ -> HHmmmUqt': 2453, 'r -> EEEHm': 2454, 'T -> EEEHmmmmt': 2455, 'T -> EEEEHHHmmmt': 2456, 'r -> H¤¤¤¤¤¤¤¤¤Uqt': 2457, 'r -> HHHH¤¤mmqt': 2458, 'r -> HH¤¤¤¤¤¤¤¤¤¤¤¤qt': 2459, 'r -> HHHHH¤¤Ut': 2460, 'r -> HHHHHHmmUqt': 2461, 'r -> HHHmmmmmmmmt': 2462, 'r -> EHHHHHHHHHHHHHHH': 2463, 'r -> EEEHHH': 2464, 'r -> HHHHH¤¤mqt': 2465, 'T -> EH¤': 2466, 'T -> E¤mmt': 2467, 'r -> HHmUUUt': 2468, 'T -> HHUUUt': 2469, 'T -> HHHHHHHHHHHHt': 2470, 'p -> HHmφt': 2471, 'r -> EEEEHHHm': 2472, 'r -> HHHHmUUt': 2473, 'r -> EEEHHHHHHHmt': 2474, 'ρ -> mmmmmmmt': 2475, 'r -> EEEEHmmmmmt': 2476, 'r -> mmmmmmmq': 2477, 'r -> φq': 2478, 'r -> mmmmmmmmmmmmmmqt': 2479, 'π -> Uφt': 2480, 'T -> EEEEHHHHHH': 2481, 'r -> HHHmmmmmmmt': 2482, 'T -> EEHHHHHHmt': 2483, 'T -> mmmmmmmmmmmmqt': 2484, 'r -> E¤¤¤¤¤¤¤¤¤¤¤¤¤¤¤¤¤¤¤t': 2485, 'r -> E¤¤¤¤¤¤t': 2486, 'r -> E¤¤¤¤¤¤¤t': 2487, 'r -> HHH¤¤¤¤mUt': 2488, 'r -> E¤¤¤¤¤¤¤¤¤¤¤¤¤¤¤¤¤t': 2489, 'r -> ¤¤¤¤¤': 2490, 'r -> H¤¤¤¤¤¤¤¤Uqt': 2491, 'r -> ¤¤¤¤¤¤U': 2492, 'r -> EEmmmmm': 2493, 'ρ -> HHmmmmqt': 2494, 'p -> Emmmmmmmmm': 2495, 'r -> EH¤¤¤t': 2496, 'r -> EH¤¤Ut': 2497, 'r -> EHHHHH¤t': 2498, 'r -> H¤U': 2499, 'r -> ¤¤¤mt': 2500, 'r -> ¤mUUt': 2501, 'π -> HHmmmmqt': 2502, 'ρ -> Emmmmt': 2503, 'ρ -> EmmmmUt': 2504, 'r -> HHHHHH¤¤¤t': 2505, 'T -> EEEEφt': 2506, 'T -> EEEEHmmmmt': 2507, 'r -> HHHHHHHHHHHHt': 2508, 'r -> HHmmm': 2509, 'r -> EEEqt': 2510, 'r -> EH¤¤t': 2511, 'T -> ¤¤mmmqt': 2512, 'T -> H¤¤¤qt': 2513, 'r -> HHHmU': 2514, 'ρ -> EHHm': 2515, 'T -> EHHHHHHHm': 2516, 'r -> mmφ': 2517, 'T -> EEEmmmmt': 2518, 'r -> HHHHHmφqt': 2519, 'p -> EmmmUt': 2520, 'p -> EmmU': 2521, 'ρ -> HHHmUt': 2522, 'T -> EEEHH': 2523, 'T -> EHHHHHHHmmt': 2524, 'ρ -> EHHHHHHHmmt': 2525, 'p -> HHmmmmmmmt': 2526, 'r -> EEEEHHmmmmt': 2527, 'ρ -> mmmmmmmmmmmqt': 2528, 'p -> ¤¤¤mqt': 2529, 'r -> ¤¤¤¤¤¤¤mUt': 2530, 'r -> HHHmmmmmUt': 2531, 'T -> mmmmmmmmmφ': 2532, 'p -> Hmq': 2533, 'r -> EH¤¤¤¤¤¤Ut': 2534, 'π -> ¤mqt': 2535, 'p -> ¤Ut': 2536, 'T -> ¤UUqt': 2537, 'ρ -> EEEE': 2538, 'r -> EEEHHHH': 2539, 'p -> mqφ': 2540, 'T -> ¤¤¤¤¤¤¤t': 2541, 'T -> ¤¤¤¤¤¤¤¤¤t': 2542, 'T -> ¤¤¤¤¤¤¤¤qt': 2543, 'π -> HHHHHHHHHHqt': 2544, 'π -> HHHHHt': 2545, 'π -> EEEEUt': 2546, 'r -> HHHHHHH¤¤¤¤¤¤¤t': 2547, 'r -> HHHHHHHH¤¤¤¤¤¤¤¤t': 2548, 'r -> H¤¤¤¤¤¤¤¤¤¤¤qt': 2549, 'r -> ¤mmmUqt': 2550, 'r -> HH¤¤¤¤¤¤¤t': 2551, 'r -> HHH¤¤¤¤¤¤¤¤t': 2552, 'r -> HHH¤¤¤¤¤¤¤t': 2553, 'r -> EEEEHHHmmmt': 2554, 'T -> EHmmmm': 2555, 'T -> EEHHHHm': 2556, 'T -> EHHHmmmmmt': 2557, 'p -> HHHHHHmUt': 2558, 'p -> EHmmmmmt': 2559, 'r -> E¤¤¤¤¤¤¤¤t': 2560, 'T -> HHHHHH¤qt': 2561, 'ρ -> HmmmmUqt': 2562, 'r -> EEEE¤t': 2563, 'r -> EHHHHHHHHHU': 2564, 'r -> EHHHHHHU': 2565, 'ρ -> HHmmmmmqt': 2566, 'T -> EEEEHHUt': 2567, 'π -> EHHHHmt': 2568, 'r -> HH¤¤¤¤¤¤t': 2569, 'r -> ¤¤¤¤¤mmmmmU': 2570, 'r -> ¤¤¤¤¤¤¤mUqt': 2571, 'r -> ¤¤mUqt': 2572, 'r -> ¤¤¤¤¤¤¤¤¤¤mqt': 2573, 'T -> H¤¤mqt': 2574, 'r -> mmmmmU': 2575, 'T -> H¤¤Uqt': 2576, 'T -> ¤mUqt': 2577, 'T -> ¤¤¤¤¤¤¤¤¤¤¤mUqt': 2578, 'T -> ¤¤¤mUqt': 2579, 'T -> ¤¤¤¤¤mUqt': 2580, 'ρ -> ¤mqt': 2581, 'r -> EEq': 2582, 'r -> HH¤mUqt': 2583, 'ρ -> mmmmmt': 2584, 'ρ -> HHHHmmqt': 2585, 'ρ -> HHHHHHHmqt': 2586, 'T -> EHHHHmm': 2587, 'r -> EEmqt': 2588, 'ρ -> H¤¤qt': 2589, 'π -> Emmmmmm': 2590, 'T -> EHUqt': 2591, 'T -> φφφt': 2592, 'p -> HmmUqt': 2593, 'r -> HHUUUqt': 2594, 'r -> EEHHm': 2595, 'T -> HHmmmmUqt': 2596, 'p -> EEEEHH': 2597, 'T -> mmmmmmφ': 2598, 'r -> ¤¤mt': 2599, 'p -> EEEHt': 2600, 'π -> EEHH': 2601, 'ρ -> φ': 2602, 'π -> HmmmUt': 2603, 'r -> HHHHHHHHmmqt': 2604, 'T -> H¤¤¤t': 2605, 'π -> EHHmmt': 2606, 'T -> EEU': 2607, 'r -> HHmmmmq': 2608, 'T -> HHHHmmmmmt': 2609, 'T -> EEφt': 2610, 'p -> EHmm': 2611, 'T -> EEEEmmUt': 2612, 'ρ -> Hφt': 2613, 'T -> EHHHmm': 2614, 'T -> EEEHHHHHHt': 2615, 'p -> EHHmUt': 2616, 'π -> EEEUt': 2617, 'r -> H¤mmmUqt': 2618, 'ρ -> EHHmmmmt': 2619, 'T -> HmmmmmmmmU': 2620, 'T -> mmmmmmmm': 2621, 'r -> H¤¤¤mUqt': 2622, 'T -> EHHq': 2623, 'p -> Eq': 2624, 'T -> HHmmmmmmUt': 2625, 'p -> EHmmmmmm': 2626, 'r -> EEEEHHHHHHHUt': 2627, 'T -> mmmmmmmmmmmmmmmqt': 2628, 'p -> mmmmmmmmU': 2629, 'r -> HHmmmUUt': 2630, 'T -> HHmmmmφ': 2631, 'π -> HHHHmmmqt': 2632, 'p -> HHHHHHHHHqt': 2633, 'p -> EHHmm': 2634, 'T -> Emmmmm': 2635, 'ρ -> EHHHHHHmt': 2636, 'ρ -> HHHHHHmqt': 2637, 'T -> Eφ': 2638, 'r -> HHHHHHHHHHH': 2639, 'T -> HHHHmmmmm': 2640, 'T -> EEHHHHUt': 2641, 'T -> HHmmmq': 2642, 'T -> H¤¤¤¤¤qt': 2643, 'T -> H¤¤¤¤Ut': 2644, 'T -> H¤¤¤¤¤mUt': 2645, 'T -> ¤¤¤¤¤¤¤qt': 2646, 'ρ -> H¤¤¤¤Ut': 2647, 'T -> HHH¤¤Ut': 2648, 'T -> ¤¤¤¤¤¤¤Ut': 2649, 'r -> EH¤¤mUt': 2650, 'ρ -> HmmmUt': 2651, 'r -> mmqqt': 2652, 'r -> EmmmmmmUt': 2653, 'T -> HHHHHHmmmUt': 2654, 'r -> EEEEHHHUUt': 2655, 'r -> EEUUUt': 2656, 'p -> Hmmmmmmmm': 2657, 'r -> HHH¤¤¤mt': 2658, 'r -> ¤¤¤¤¤¤¤¤¤¤¤¤¤¤¤U': 2659, 'r -> EHHHHH¤Ut': 2660, 'r -> HH¤¤UUt': 2661, 'r -> HHH¤¤¤¤U': 2662, 'r -> HHHHHHHH¤¤¤¤¤¤¤¤¤': 2663, 'r -> HHHHHHHHH¤U': 2664, 'T -> HHHHHHHHmmUt': 2665, 'r -> HHHUUUt': 2666, 'r -> HHmmmmmmmmmmt': 2667, 'r -> HUUUt': 2668, 'T -> HHHHHHHHHmt': 2669, 'r -> ¤¤mmmqt': 2670, 'r -> HHHH¤¤¤¤¤¤¤t': 2671, 'T -> HHHHmmmφt': 2672, 'T -> EEEHHHHH': 2673, 'r -> EH¤mmmmt': 2674, 'T -> EEEHHmmmmt': 2675, 'r -> EEEHHmmmmt': 2676, 'T -> HHHHHφ': 2677, 'T -> HHHHHHHHHq': 2678, 'T -> HHHHHHHHφ': 2679, 'r -> HHH¤¤¤¤¤¤¤¤¤¤qt': 2680, 'T -> EEEHHmUt': 2681, 'π -> EEHHUt': 2682, 'T -> EEEEHHmUt': 2683, 'r -> HHHHHHHHHHHHmqt': 2684, 'T -> EEHHmUt': 2685, 'T -> mmmmmmφqt': 2686, 'T -> ¤': 2687, 'π -> HHHHUt': 2688, 'r -> HHHHHH¤¤Ut': 2689, 'r -> mUUUt': 2690, 'p -> HmUqt': 2691, 'T -> EHmUUt': 2692, 'T -> EHHmmmmmm': 2693, 'T -> EHHHHmmqt': 2694, 'r -> HH¤¤¤¤¤qt': 2695, 'r -> HH¤¤mUqt': 2696, 'π -> mmmmmmmmmmt': 2697, 'ρ -> EEEHHHUt': 2698, 'r -> HHHHHH¤¤¤¤¤¤¤¤¤¤¤¤¤t': 2699, 'r -> HHHHHH¤¤¤¤¤¤t': 2700, 'r -> HHH¤¤UU': 2701, 'r -> HHH¤¤¤¤¤¤t': 2702, 'r -> EEEEmmmmUt': 2703, 'r -> HHHHmq': 2704, 'p -> mmmmmmmU': 2705, 'p -> HUqt': 2706, 'p -> HHUUt': 2707, 'T -> EEEHHmmmt': 2708, 'T -> Emφt': 2709, 'r -> H¤¤mmmqt': 2710, 'r -> HHH¤U': 2711, 'r -> H¤¤UUt': 2712, 'ρ -> Emmmmmt': 2713, 'π -> EEEEHH': 2714, 'T -> EEHHm': 2715, 'ρ -> HHHHmUt': 2716, 'T -> HH¤¤t': 2717, 'r -> HHHH¤¤¤¤¤¤¤¤Ut': 2718, 'r -> HHHH¤¤¤¤¤¤¤qt': 2719, 'r -> ¤m': 2720, 'p -> EHHHHHt': 2721, 'p -> EEEEHHt': 2722, 'r -> EHφt': 2723, 'p -> HHHHmmUt': 2724, 'r -> HHHHHHmmmmU': 2725, 'ρ -> HHHHmmmqt': 2726, 'r -> EEEU': 2727, 'T -> EEEm': 2728, 'r -> HHHHHHH¤¤¤qt': 2729, 'r -> HHHHHHHH¤¤¤¤qt': 2730, 'r -> HHHHH¤¤¤¤mqt': 2731, 'r -> HHHHHHH¤mUt': 2732, 'r -> HHHHH¤¤¤qt': 2733, 'r -> HH¤¤¤¤mqt': 2734, 'r -> HH¤mmmqt': 2735, 'r -> HHHH¤¤¤mmqt': 2736, 'r -> EHHHH¤¤¤Ut': 2737, 'r -> HHH¤¤Uqt': 2738, 'T -> HHmmmmmm': 2739, 'T -> EEEEmqt': 2740, 'p -> EHmmmm': 2741, 'ρ -> EEHHmmmmt': 2742, 'T -> HH¤¤qt': 2743, 'T -> HHHmm': 2744, 'p -> EHmUt': 2745, 'ρ -> EHHHHHHHt': 2746, 'T -> EEEEHHHHHHmt': 2747, 'ρ -> EEEmt': 2748, 'T -> EEEEUUt': 2749, 'T -> EHHHHmmmmmmt': 2750, 'T -> EHHmmmmmmmt': 2751, 'T -> EHmmmmmmmmt': 2752, 'T -> EHHmmmmmmmmt': 2753, 'T -> EHHHHHmmmmmmt': 2754, 'T -> EHHHHHmmmmt': 2755, 'T -> EHHHHHHmmmt': 2756, 'T -> EHHHHHHHmmmmmt': 2757, 'T -> EHHHHHHHmmmt': 2758, 'T -> HHHHHHmmmmqt': 2759, 'r -> HHHHHH¤¤¤¤¤¤¤¤¤¤t': 2760, 'π -> HHHH': 2761, 'r -> E¤¤¤¤t': 2762, 'p -> HHHU': 2763, 'ρ -> EEEEHHHmt': 2764, 'π -> EHmmmt': 2765, 'r -> mmmmφ': 2766, 'r -> HHHHHHHHHHHHHHU': 2767, 'r -> Emmmqt': 2768, 'p -> Emqt': 2769, 'r -> EHHHHmmm': 2770, 'r -> EHHHHHHHmUt': 2771, 'T -> mmmmmmmφt': 2772, 'ρ -> Uφt': 2773, 'T -> HHHUUqt': 2774, 'r -> mmUUUt': 2775, 'r -> EHHmmmmUt': 2776, 'T -> mmmmmU': 2777, 'r -> HHH¤¤t': 2778, 'p -> Hmmmmmmmmmm': 2779, 'ρ -> HHHHHHHmmqt': 2780, 'T -> HHHHmm': 2781, 'ρ -> EHHmmUt': 2782, 'ρ -> HHHHHHmUt': 2783, 'r -> EHHH¤Ut': 2784, 'r -> ¤¤¤φt': 2785, 'r -> H¤¤¤¤¤t': 2786, 'r -> EH¤¤¤¤Ut': 2787, 'r -> HHH¤¤¤¤¤¤¤¤¤¤Ut': 2788, 'T -> HHHHHHHHHHmmt': 2789, 'π -> EHmmt': 2790, 'ρ -> HH¤¤¤mmmmUt': 2791, 'ρ -> HHHmmt': 2792, 'T -> ¤¤¤¤¤¤¤¤¤Ut': 2793, 'p -> UU': 2794, 'r -> EEEmmmUt': 2795, 'π -> mmmmmmmmmm': 2796, 'π -> HHHHmt': 2797, 'T -> ¤¤mt': 2798, 'π -> ¤¤Ut': 2799, 'π -> ¤¤U': 2800, 'π -> ¤U': 2801, 'T -> HHHmmmmmUt': 2802, 'r -> HHHHHHHHHq': 2803, 'ρ -> UU': 2804, 'ρ -> HmU': 2805, 'T -> HHmmmmU': 2806, 'r -> ¤mmmmUt': 2807, 'T -> ¤¤¤mmqt': 2808, 'T -> HHH¤mqt': 2809, 'T -> HHH¤¤¤mqt': 2810, 'ρ -> HHH¤¤¤mqt': 2811, 'ρ -> mmmmmm': 2812, 'π -> HHHHHHHHHHHqt': 2813, 'π -> EEHHt': 2814, 'T -> EEUUt': 2815, 'p -> mmφφ': 2816, 'p -> EHHHmmm': 2817, 'p -> mmmmmmφt': 2818, 'r -> mmmmmmφt': 2819, 'π -> EEmmt': 2820, 'r -> Hmmq': 2821, 'r -> EHH¤¤t': 2822, 'r -> EH¤¤¤¤t': 2823, 'r -> HHHHHHHHHHHH¤¤mqt': 2824, 'T -> HHHmmmmmmt': 2825, 'T -> EEEEHHHHHHHm': 2826, 'p -> EHHHm': 2827, 'p -> UUU': 2828, 'π -> UUUt': 2829, 'r -> EEEHHHHHmmt': 2830, 'r -> HmmmmmmmmmUt': 2831, 'r -> HHHHHHHHHHHU': 2832, 'T -> Hmqqt': 2833, 'r -> H¤mmmmmmqt': 2834, 'p -> HHHmmUt': 2835, 'T -> E¤¤¤¤¤¤¤¤¤¤¤¤¤¤t': 2836, 'T -> HH¤¤¤¤¤¤¤¤¤¤¤¤¤qt': 2837, 'T -> HHH¤¤¤¤¤¤¤¤¤¤¤¤¤qt': 2838, 'T -> H¤¤¤¤¤¤¤¤¤¤¤¤¤qt': 2839, 'p -> ¤¤mmqt': 2840, 'r -> HH¤UUt': 2841, 'T -> EmmU': 2842, 'r -> EHHmmmmmmmt': 2843, 'π -> EEEEmmmmt': 2844, 'π -> EEEEmmmm': 2845, 'π -> EEEEm': 2846, 'p -> EEmmmmt': 2847, 'π -> EEEHHHHt': 2848, 'π -> mUUt': 2849, 'r -> HH¤¤¤¤¤¤¤¤¤¤¤¤¤¤qt': 2850, 'π -> mmφt': 2851, 'p -> HHHHHmmmt': 2852, 'r -> EEEHHHHHHHHt': 2853, 'T -> HHH¤Uqt': 2854, 'p -> HHHHHHHHHmmqt': 2855, 'r -> HHHHHmmUUt': 2856, 'r -> E¤mmmmmt': 2857, 'r -> E¤mmmmmmt': 2858, 'r -> HHHmmmm': 2859, 'T -> HHHmmmmmmmm': 2860, 'r -> EEHHH': 2861, 'r -> H¤¤¤¤¤¤¤¤¤¤¤¤¤Ut': 2862, 'r -> HHHHHHHHHHHHHH': 2863, 'r -> EEEEHmUUt': 2864, 'r -> HHHHmmU': 2865, 'ρ -> EEEEHmφt': 2866, 'r -> EEEHUUUt': 2867, 'r -> HHHHH¤mmUt': 2868, 'r -> HHHHHH¤mmmUt': 2869, 'r -> HHHHHHHHH¤mUt': 2870, 'r -> HHHHHHHH¤mmmUt': 2871, 'r -> HHHHHHHH¤mmmmUt': 2872, 'r -> HHHHHH¤mmUt': 2873, 'r -> HHHHH¤mmmmUt': 2874, 'r -> HHHHHHHHHH¤mmUt': 2875, 'r -> HHHHHHH¤Ut': 2876, 'r -> HHHHHHHH¤mmmmU': 2877, 'r -> HHHH¤mmqt': 2878, 'ρ -> HHHH¤mqt': 2879, 'T -> HH¤mt': 2880, 'ρ -> HH¤mt': 2881, 'T -> EHHmmmmm': 2882, 'r -> EEmmmUt': 2883, 'r -> HHHHHHHH¤¤¤¤¤qt': 2884, 'r -> HHHHHHHHHHmmUt': 2885, 'r -> EEHHHHHHH': 2886, 'r -> HHHHmUUUt': 2887, 'r -> HHmmUUUt': 2888, 'T -> HHHUU': 2889, 'r -> mqq': 2890, 'r -> mmUUqt': 2891, 'p -> EEUUt': 2892, 'T -> HHHHHHHHmUqt': 2893, 'ρ -> EEUt': 2894, 'p -> Hφt': 2895, 'p -> HHHHU': 2896, 'ρ -> EEHmt': 2897, 'p -> HHHmmmmm': 2898, 'π -> EEmt': 2899, 'T -> HHHmmmmmmmmqt': 2900, 'T -> EEEEHmmm': 2901, 'r -> mqUt': 2902, 'T -> E¤¤': 2903, 'T -> EEHHHHmmmt': 2904, 'T -> EEEEHHHmmm': 2905, 'r -> EHHHHH¤¤¤Ut': 2906, 'r -> H¤¤¤¤¤¤¤¤¤¤¤¤¤¤¤¤¤Ut': 2907, 'r -> HHH¤¤mmqt': 2908, 'r -> HHH¤¤¤¤¤¤¤¤¤¤¤Ut': 2909, 'r -> ¤mUqqt': 2910, 'r -> HHH¤¤¤UU': 2911, 'r -> H¤¤¤¤¤¤Uqt': 2912, 'r -> HH¤¤UUUt': 2913, 'T -> HHHHHHHHHHHHHHHUt': 2914, 'T -> HHHHHHHHmU': 2915, 'r -> ¤¤¤¤mUt': 2916, 'p -> EEEmm': 2917, 'p -> HH¤¤¤¤mt': 2918, 'r -> EHHHHHHHmmmt': 2919, 'p -> HHHH¤qt': 2920, 'π -> HH¤¤¤¤mt': 2921, 'r -> EEE¤¤¤t': 2922, 'r -> H¤¤¤¤¤¤¤t': 2923, 'π -> HHHH¤¤¤¤¤t': 2924, 'r -> EH¤¤¤¤¤¤¤t': 2925, 'ρ -> mmm': 2926, 'T -> mmmUUqt': 2927, 'T -> HmmUUqt': 2928, 'T -> HHHHmmUUt': 2929, 'r -> HHHHHmmmmmqt': 2930, 'T -> EEEHHHHHHHHHHUt': 2931, 'T -> EEHHHHHHHHUt': 2932, 'T -> HHHHHHHHHHHUqt': 2933, 'π -> EHHHHHHHHHHHHHHHHHt': 2934, 'π -> HHHHHHHHqt': 2935, 'π -> HHHHHHUqt': 2936, 'T -> EEHHHHHHHHHHHUt': 2937, 'T -> EHHHHHHHHHHHHt': 2938, 'T -> EHHHHHHHHHHUt': 2939, 'T -> EEEEmmmmmmmU': 2940, 'p -> HHHHHHHmmqt': 2941, 'T -> Hmmmmmmφ': 2942, 'r -> HHHH¤¤¤¤¤¤¤¤¤¤¤¤¤¤qt': 2943, 'r -> HHHHHHH¤¤¤¤¤¤¤¤¤': 2944, 'r -> HHHH¤¤¤¤¤¤¤¤¤¤¤¤Ut': 2945, 'T -> E¤qt': 2946, 'T -> HHmmmmmmmm': 2947, 'ρ -> Hmmmmmmmmmqt': 2948, 'T -> HHHHHHHHHHmt': 2949, 'T -> qq': 2950, 'T -> EHHmmmmUt': 2951, 'r -> Emmmmmmmmmmt': 2952, 'r -> EHmmmmmmmmmt': 2953, 'r -> HHmmmmmUqt': 2954, 'r -> HHHHHHHHHHU': 2955, 'r -> HHHHH¤mmmqt': 2956, 'r -> φφqt': 2957, 'T -> HHHHHHHHHHHH¤qt': 2958, 'r -> HHHHHHH¤¤mmmmqt': 2959, 'p -> EE¤t': 2960, 'r -> EHH¤UUt': 2961, 'r -> HH¤¤φt': 2962, 'r -> HHHHHHHHH¤¤qt': 2963, 'r -> ¤¤mmmmqt': 2964, 'T -> HHHHHHHHHHH¤qt': 2965, 'r -> HHHHHHH¤¤mmmqt': 2966, 'T -> HHHHHHH¤t': 2967, 'T -> HHHHHHHHHH¤qt': 2968, 'r -> HHHHHHHH¤¤mmqt': 2969, 'T -> HHHHHHHH¤mmmqt': 2970, 'p -> EH¤mt': 2971, 'ρ -> HmmmmmUqt': 2972, 'r -> HHHHHHHHHHHmUt': 2973, 'T -> HHHHHHHHHUUt': 2974, 'T -> HHmmqUt': 2975, 'r -> EHmmφt': 2976, 'r -> ¤¤¤¤¤¤¤¤¤¤¤¤¤¤¤¤¤¤U': 2977, 'r -> E¤¤¤¤¤¤¤¤¤¤¤¤¤¤¤¤': 2978, 'r -> HHHH¤¤¤¤¤¤¤¤¤¤t': 2979, 'r -> H¤¤¤¤¤¤¤¤¤¤mqt': 2980, 'T -> EEEEmmmmm': 2981, 'r -> EEEmmUt': 2982, 'r -> HHHHmφqt': 2983, 'r -> HHHHmUUqt': 2984, 'r -> HmUU': 2985, 'T -> EEEHHHHmmmt': 2986, 'T -> EEHmmmmmmt': 2987, 'π -> EEEEHmt': 2988, 'π -> EEEHHHmt': 2989, 'p -> EEHHt': 2990, 'T -> mmmUq': 2991, 'p -> EEEEmUt': 2992, 'r -> EEHHHHmmt': 2993, 'T -> EHmmmmmmmm': 2994, 'T -> Emmmmmmmmmm': 2995, 'r -> HHHHHHUq': 2996, 'T -> EEHHmmmmmt': 2997, 'r -> HHHmmmmmmmmm': 2998, 'r -> HH¤¤¤¤¤¤¤¤¤¤¤¤Ut': 2999, 'r -> ¤¤¤¤¤¤¤¤¤¤q': 3000, 'r -> EEHmmmmmmmt': 3001, 'r -> EHHHHHHHHHHU': 3002, 'r -> EEEEmUUt': 3003, 'r -> EEHHHHHHHHHHHt': 3004, 'r -> EHHHHHHmmUt': 3005, 'r -> EEmm': 3006, 'r -> EHHHHHHHHHHHHHHHt': 3007, 'r -> EEHHHHU': 3008, 'π -> HHHHHm': 3009, 'p -> E¤mmt': 3010, 'T -> EH¤¤t': 3011, 'T -> H¤φt': 3012, 'π -> ¤mmmqt': 3013, 'T -> H¤mmmmt': 3014, 'p -> HUUUt': 3015, 'p -> HHHHHHHHHHHHt': 3016, 'π -> mmUUqt': 3017, 'ρ -> mUUqt': 3018, 'r -> EEEHHUUUt': 3019, 'r -> EEEEHHHHHHHHHt': 3020, 'T -> HHHHHmmmmUt': 3021, 'T -> mmmmmmmmmmmt': 3022, 'r -> EHmmmmmmm': 3023, 'π -> mmmmmmU': 3024, 'r -> UUUUU': 3025, 'r -> mmmmmφ': 3026, 'π -> HHHHHHt': 3027, 'r -> ¤¤¤¤¤¤¤¤¤¤¤¤¤¤¤¤¤¤¤¤¤¤¤Ut': 3028, 'T -> E¤¤¤¤t': 3029, 'p -> HHmmmmmmmmmt': 3030, 'π -> EmUt': 3031, 'r -> EHHHHHmmm': 3032, 'r -> EH¤¤¤¤¤¤¤¤¤¤Ut': 3033, 'r -> ¤¤¤¤¤¤¤¤¤¤¤¤¤U': 3034, 'r -> ¤¤¤¤¤¤¤¤¤¤¤¤U': 3035, 'r -> ¤¤¤¤¤¤¤¤¤¤¤¤¤¤U': 3036, 'r -> ¤¤¤¤¤¤¤¤¤¤¤¤¤¤¤¤¤¤¤¤¤¤t': 3037, 'r -> H¤¤¤¤¤¤¤¤¤¤¤¤¤¤¤¤¤¤¤t': 3038, 'r -> ¤¤¤¤¤¤¤¤': 3039, 'r -> HH¤¤¤¤¤¤¤¤¤¤¤¤¤¤¤¤¤¤t': 3040, 'r -> E¤¤¤¤¤¤¤¤¤¤Ut': 3041, 'r -> H¤¤¤¤¤Uqt': 3042, 'T -> EUUUt': 3043, 'T -> qU': 3044, 'ρ -> Emmmmmmt': 3045, 'p -> HHmmmmmmmmqt': 3046, 'π -> HHHmmmmqt': 3047, 'T -> mmmmmmmmqqt': 3048, 'ρ -> mmmmmmmmqqt': 3049, 'r -> H¤¤mmU': 3050, 'r -> H¤¤¤¤UUt': 3051, 'ρ -> ¤¤¤t': 3052, 'r -> ¤mq': 3053, 'r -> HHHHH¤¤¤¤¤¤¤Ut': 3054, 'r -> HH¤¤¤¤mUUt': 3055, 'r -> HH¤¤¤¤mmmUt': 3056, 'r -> ¤mmmUt': 3057, 'r -> H¤¤¤mmUt': 3058, 'r -> EEEUUt': 3059, 'p -> mmmmmqq': 3060, 'π -> Hq': 3061, 'r -> EmmmmmU': 3062, 'r -> EmmmU': 3063, 'ρ -> EEHmmmm': 3064, 'r -> HHHmmmmmmm': 3065, 'r -> EEHHmφt': 3066, 'ρ -> HHmmmmUt': 3067, 'ρ -> HHmmUqt': 3068, 'π -> H¤mUt': 3069, 'π -> H¤mmt': 3070, 'T -> EH¤¤¤¤mmmmt': 3071, 'T -> ¤mq': 3072, 'T -> UUUUUU': 3073, 'ρ -> HHmUqt': 3074, 'p -> Uφt': 3075, 'r -> EHHmmmmmmm': 3076, 'T -> EHmmmmmmm': 3077, 'T -> EEmmmmUt': 3078, 'r -> EHHHHHmφt': 3079, 'p -> HHHHHHmmmqt': 3080, 'T -> EEEHHHHHt': 3081, 'T -> EEHHHHH': 3082, 'ρ -> EEHHHHH': 3083, 'ρ -> EHHHH': 3084, 'p -> EEmmmm': 3085, 'T -> EEHHHHHH': 3086, 'r -> HHHHHmmmUqt': 3087, 'ρ -> EEEEHHmmt': 3088, 'r -> HHHHHHHmφt': 3089, 'p -> mmmmmmmmmmmmmmqt': 3090, 'π -> Emmmmmt': 3091, 'ρ -> ¤¤¤mqt': 3092, 'p -> H¤¤¤mt': 3093, 'p -> ¤¤¤qt': 3094, 'p -> ¤m': 3095, 'π -> ¤¤mmmUUqt': 3096, 'ρ -> ¤¤mmmUUqt': 3097, 'ρ -> qqt': 3098, 'r -> Hmmmqqt': 3099, 'T -> HHHHHHHHHHHHHHHHt': 3100, 'p -> HHHHUUt': 3101, 'p -> HHHHHHHHUUt': 3102, 'r -> HHHmmmUUqt': 3103, 'ρ -> HmmUqt': 3104, 'r -> HHH¤¤¤¤¤¤¤¤¤¤¤¤¤¤¤t': 3105, 'r -> HHHHmmmmmUt': 3106, 'r -> EEEmmmmmt': 3107, 'π -> mmmmU': 3108, 'T -> HHH¤¤t': 3109, 'T -> EE¤UUt': 3110, 'T -> EE¤Ut': 3111, 'T -> EEEE¤t': 3112, 'T -> EEE¤Ut': 3113, 'T -> EEEE¤Ut': 3114, 'p -> ¤mUt': 3115, 'r -> Hmmmmmmmq': 3116, 'T -> EEEHHHH': 3117, 'p -> EEHHHHt': 3118, 'r -> HHH¤¤¤¤¤mUt': 3119, 'T -> ¤¤¤mt': 3120, 'T -> ¤¤¤¤¤¤¤¤¤¤¤¤¤¤¤¤t': 3121, 'T -> ¤¤¤¤¤qt': 3122, 'T -> ¤¤¤¤¤¤¤¤¤¤¤¤¤¤t': 3123, 'T -> ¤¤¤¤¤¤¤¤¤¤¤qt': 3124, 'T -> ¤¤¤¤¤¤¤¤¤¤t': 3125, 'T -> HHHHHHHHHHHmt': 3126, 'p -> Hqφt': 3127, 'r -> EEEEmm': 3128, 'T -> E¤mmUt': 3129, 'π -> EEEEHUt': 3130, 'r -> H¤mmmt': 3131, 'r -> HHH¤mmqt': 3132, 'r -> H¤¤¤¤¤¤¤¤¤¤Ut': 3133, 'ρ -> q': 3134, 'π -> mmUqt': 3135, 'ρ -> Emmmm': 3136, 'r -> EH¤¤¤¤¤¤¤¤¤¤¤¤¤¤¤¤t': 3137, 'T -> ¤¤¤¤¤¤¤¤¤¤¤¤¤¤¤¤¤Ut': 3138, 'T -> HHHHH¤qt': 3139, 'T -> H¤¤¤¤¤¤¤¤¤¤¤¤¤¤¤¤¤¤¤¤¤qt': 3140, 'T -> HHHHH¤Ut': 3141, 'p -> EUUU': 3142, 'r -> Hφφqt': 3143, 'r -> ¤φqt': 3144, 'T -> HHHHmmmU': 3145, 'T -> HHHmmmmUqt': 3146, 'p -> mmφqt': 3147, 'p -> HHmmmmm': 3148, 'T -> HHHHHHUq': 3149, 'T -> HHHHUq': 3150, 'T -> EEEEHHHU': 3151, 'T -> EEEEHHU': 3152, 'T -> EEEEHHHHU': 3153, 'ρ -> HHmmmmmmmqt': 3154, 'p -> EHHHHHm': 3155, 'r -> EEEHHHHHHHHHmt': 3156, 'r -> EEUU': 3157, 'r -> EEHHHHHmmt': 3158, 'r -> EEmUUUt': 3159, 'T -> EHHHHHHUUt': 3160, 'r -> HHHHHHHq': 3161, 'r -> ¤qqt': 3162, 'T -> HHHHHHHmmU': 3163, 'r -> HHHHqUqt': 3164, 'r -> ¤¤¤¤¤¤¤¤¤mUqt': 3165, 'r -> ¤¤¤¤¤mUqt': 3166, 'r -> ¤¤¤¤¤mmmmmqt': 3167, 'T -> ¤¤¤¤¤¤¤¤¤¤¤¤mqt': 3168, 'r -> ¤¤¤¤¤¤¤¤mUqt': 3169, 'r -> ¤¤UUqt': 3170, 'T -> ¤mmmqt': 3171, 'r -> ¤¤¤¤¤¤¤mqt': 3172, 'r -> ¤¤¤¤mmUqt': 3173, 'r -> ¤¤¤¤mmUt': 3174, 'r -> ¤¤mmmmmUqt': 3175, 'T -> ¤¤¤¤¤¤¤¤¤¤¤mqt': 3176, 'ρ -> ¤¤¤¤¤¤¤¤¤¤¤mqt': 3177, 'T -> ¤mmmmmmqt': 3178, 'T -> ¤¤Uqt': 3179, 'ρ -> ¤mmqt': 3180, 'T -> ¤¤mmUqt': 3181, 'ρ -> H¤mUqt': 3182, 'T -> ¤¤¤¤Uqt': 3183, 'ρ -> ¤¤¤¤Uqt': 3184, 'ρ -> H¤¤mqt': 3185, 'r -> Emmmmqt': 3186, 'T -> EHHHHHHHHHHHmt': 3187, 'r -> EHHHHHHHHHHHmt': 3188, 'T -> mmmmmmmmUqt': 3189, 'p -> mmmmmq': 3190, 'π -> EEmmm': 3191, 'T -> EEmφt': 3192, 'ρ -> HHHHHHHt': 3193, 'ρ -> HHHHHHHHHHHHqt': 3194, 'ρ -> HHHHt': 3195, 'T -> EEHHHHmm': 3196, 'p -> EEHm': 3197, 'π -> HHHm': 3198, 'ρ -> H¤t': 3199, 'p -> EHHHHm': 3200, 'r -> HHHmφ': 3201, 'r -> HHUq': 3202, 'r -> HHHHHmmmmt': 3203, 'p -> φφφt': 3204, 'p -> mmmqq': 3205, 'p -> HHHHmmmmmm': 3206, 'T -> HHHmUUUt': 3207, 'T -> HHHHmUUUt': 3208, 'T -> EHmUUUt': 3209, 'T -> EmmUUt': 3210, 'T -> EHmmmφt': 3211, 'r -> mmUUUUt': 3212, 'p -> EEEHUt': 3213, 'T -> EEEEU': 3214, 'T -> EEEEHHHHUt': 3215, 'r -> HHHHHHHHHHHHHHHHHqt': 3216, 'r -> mmmmqqt': 3217, 'r -> EEHHmmUt': 3218, 'ρ -> UUUqt': 3219, 'r -> HHHHHHHHHHHHHHHHHHHHHt': 3220, 'T -> EHmmmmmqt': 3221, 'T -> EEEHHm': 3222, 'T -> HUUUUt': 3223, 'ρ -> HHHHHHHmmmmmt': 3224, 'r -> HHHHHHHmmmmmt': 3225, 'π -> HHHHH': 3226, 'ρ -> EEHH': 3227, 'T -> HHHHmmmmmmqt': 3228, 'ρ -> EEEUt': 3229, 'ρ -> EEHHHUt': 3230, 'p -> HHmmmmmmqt': 3231, 'π -> HHHHHHmmmmqt': 3232, 'T -> HHHHHHHHHHHHHHU': 3233, 'π -> EHmUt': 3234, 'r -> EHHHmU': 3235, 'p -> HHHHHHHHHHHqt': 3236, 'r -> HmmmmUUt': 3237, 'T -> EEmmm': 3238, 'r -> EHHHHHHHm': 3239, 'r -> EEEEHHHHmmUt': 3240, 'π -> mqqt': 3241, 'T -> EHφt': 3242, 'ρ -> HHHHHmmqt': 3243, 'r -> EEHHmmmmmt': 3244, 'ρ -> HHHHHHHmUqt': 3245, 'π -> EHHmt': 3246, 'π -> Hmmmmmmmt': 3247, 'T -> EEEEHHHHHHHH': 3248, 'π -> HHmmmmmmmt': 3249, 'ρ -> mmUUt': 3250, 'p -> EH¤¤t': 3251, 'p -> HHHH¤¤mt': 3252, 'π -> HH¤qt': 3253, 'π -> HHHHHHHH¤t': 3254, 'r -> HHHHHHHH¤t': 3255, 'r -> EEEHHHHHHHUt': 3256, 'T -> ¤¤q': 3257, 'π -> ¤mt': 3258, 'T -> ¤φ': 3259, 'T -> H¤mmmmqt': 3260, 'T -> HHHHHHHmUqt': 3261, 'T -> EEEEHHmmmt': 3262, 'p -> EEHmt': 3263, 'π -> HHmmmmmm': 3264, 'r -> EHmmmmmUt': 3265, 'r -> HHHHH¤Uqt': 3266, 'r -> HHHHHHHH¤¤¤¤¤¤¤': 3267, 'r -> HH¤¤¤mqt': 3268, 'r -> HHHHHH¤¤¤¤¤¤¤¤¤¤¤qt': 3269, 'T -> H¤mt': 3270, 'r -> HHHHH¤mmmmqt': 3271, 'π -> HHHmmqt': 3272, 'T -> Hmmmmφ': 3273, 'T -> Hmmmmφt': 3274, 'T -> mmmmmmmmmmmq': 3275, 'p -> EHHHHH': 3276, 'T -> EHHHmmmm': 3277, 'r -> qφt': 3278, 'p -> mmmmmmmmmmmm': 3279, 'π -> mmqqt': 3280, 'π -> mmUU': 3281, 'π -> mmUUt': 3282, 'T -> HHHHHHHmmt': 3283, 'p -> EEHHHHHmmt': 3284, 'r -> HmUUUt': 3285, 'T -> EEmmmmmmmm': 3286, 'r -> HHUφt': 3287, 'r -> HHHHHHHHmmmqt': 3288, 'π -> HHHHHmmmqt': 3289, 'T -> EEEHHU': 3290, 'T -> EEEHHUt': 3291, 'r -> EEHmm': 3292, 'T -> HHHmmmmmq': 3293, 'T -> HHHHmmmmq': 3294, 'p -> Hqq': 3295, 'r -> EEEEUqt': 3296, 'r -> EHHmmmmmm': 3297, 'ρ -> HHmmUt': 3298, 'T -> EmqUt': 3299, 'ρ -> HHHH¤¤qt': 3300, 'ρ -> H¤qt': 3301, 'T -> EHH¤¤¤¤Ut': 3302, 'T -> H¤¤¤¤qt': 3303, 'T -> HH¤¤¤¤¤Ut': 3304, 'r -> E¤¤mmUt': 3305, 'T -> ¤¤mmmUt': 3306, 'T -> EH¤Ut': 3307, 'T -> EH¤¤mUt': 3308, 'T -> H¤¤¤mUt': 3309, 'ρ -> Hmmmmmmmmqt': 3310, 'r -> HHHHHmmmmmt': 3311, 'T -> HHHHHHHHHHHHHHHHHt': 3312, 'ρ -> HUUqt': 3313, 'ρ -> EEEEHmUt': 3314, 'r -> EEmmmmmmmm': 3315, 'ρ -> EHmmmmUt': 3316, 'T -> EHHHHH¤t': 3317, 'T -> EEEEmmmmmmt': 3318, 'ρ -> EEEEmmt': 3319, 'π -> HHHHmmmmqt': 3320, 'r -> ¤¤¤UUqt': 3321, 'r -> ¤¤qU': 3322, 'T -> EEEEHHmmmmmt': 3323, 'r -> HHHHHHH¤¤¤¤¤¤¤¤t': 3324, 'r -> HH¤¤¤¤¤¤mmqt': 3325, 'r -> H¤¤¤¤¤¤¤¤¤¤¤¤¤¤¤¤¤mt': 3326, 'r -> H¤mmmUUqt': 3327, 'r -> HHHH¤UUqt': 3328, 'r -> HHHHH¤¤mUt': 3329, 'r -> HHH¤¤¤¤¤¤¤mUt': 3330, 'r -> EEEEHHHHHHHHHHHt': 3331, 'ρ -> Hmmmmmmmmt': 3332, 'T -> HHmmmmmmmmmmt': 3333, 'π -> HHHHHHmmmmmqt': 3334, 'ρ -> HHHHHHmmmmmqt': 3335, 'π -> HHHmmmqt': 3336, 'ρ -> HHHHHHHHHUt': 3337, 'p -> HHmUUt': 3338, 'T -> EEEEHHHUUt': 3339, 'T -> HHmmmmmmmmmmmqt': 3340, 'r -> E¤m': 3341, 'r -> H¤q': 3342, 'T -> HHH¤¤¤¤¤¤t': 3343, 'ρ -> HHH¤¤¤¤¤¤t': 3344, 'r -> E¤mmmmt': 3345, 'T -> E¤mmmmt': 3346, 'r -> EEHH¤¤t': 3347, 'r -> EEEH¤¤¤t': 3348, 'r -> H¤¤¤¤¤¤¤¤¤¤¤¤¤t': 3349, 'ρ -> HHHHmmmUt': 3350, 'T -> HHHHHHHHHHHφt': 3351, 'T -> HHHHHHmmmφ': 3352, 'r -> HHHHHHmmmφ': 3353, 'ρ -> EEEEHHmt': 3354, 'ρ -> EEEEHmmt': 3355, 'ρ -> EEHmmt': 3356, 'T -> HHHHHHHHHHmmqt': 3357, 'T -> EEHHφt': 3358, 'p -> Emmmmmmmmt': 3359, 'r -> mqqqqt': 3360, 'π -> HmmmmUt': 3361, 'r -> mmmmmmmmmφ': 3362, 'p -> HHmmmmUqt': 3363, 'T -> HHHHHmq': 3364, 'T -> HHHHHHHφ': 3365, 'T -> HHHHHHHHHHHHHHφ': 3366, 'r -> HHHHHHHHHHHHHq': 3367, 'r -> HHmmmmU': 3368, 'T -> HHHHHHHHHHHHHφ': 3369, 'T -> mmmmmUq': 3370, 'T -> HHHHHHHmU': 3371, 'T -> HHHHmUUqt': 3372, 'T -> HHHHUUqt': 3373, 'T -> Emq': 3374, 'r -> HHmm': 3375, 'T -> HHHmmmUUt': 3376, 'r -> EEEHmmmUt': 3377, 'T -> EEEEHHHmUt': 3378, 'T -> EEEHHHHmUt': 3379, 'T -> EmUUUt': 3380, 'ρ -> Emmmmmmm': 3381, 'ρ -> mmmmmmφqt': 3382, 'r -> HHHH¤¤¤¤¤¤¤¤¤¤¤t': 3383, 'r -> HHHHH¤¤¤¤¤¤': 3384, 'r -> H¤¤mmUqt': 3385, 'r -> HH¤¤¤UUt': 3386, 'T -> H¤φ': 3387, 'π -> HHHHHHUt': 3388, 'T -> HHHHHHmUUt': 3389, 'π -> HHHHHUt': 3390, 'T -> HHHH¤Ut': 3391, 'ρ -> EHHHHmUt': 3392, 'ρ -> EHHHHHUt': 3393, 'ρ -> EEHHHHt': 3394, 'r -> EEEmmmmmmmt': 3395, 'ρ -> qφt': 3396, 'r -> HHHHHHqqt': 3397, 'r -> ¤¤¤¤¤¤¤¤¤¤¤¤¤mt': 3398, 'r -> HHHHHHH¤¤¤¤¤¤¤¤': 3399, 'π -> EEUt': 3400, 'T -> UUUU': 3401, 'r -> HHHHHHHHmU': 3402, 'T -> mmmmmUUUt': 3403, 'r -> EEH¤¤mUt': 3404, 'r -> EE¤Ut': 3405, 'r -> HH¤¤¤¤¤¤¤¤mqt': 3406, 'r -> HHH¤¤¤¤¤¤¤¤¤¤¤¤t': 3407, 'r -> EHmq': 3408, 'r -> EH¤mmt': 3409, 'T -> EEEHmmmmmt': 3410, 'T -> EHHHmmmqt': 3411, 'T -> EHHHmUqt': 3412, 'T -> Emmmmmqt': 3413, 'T -> EHHmUqt': 3414, 'r -> ¤': 3415, 'r -> HH¤¤¤¤¤¤¤¤¤¤¤¤¤¤¤¤U': 3416, 'r -> H¤¤U': 3417, 'r -> HH¤¤¤¤¤¤¤¤¤¤¤¤¤mqt': 3418, 'r -> EEEHHH¤¤¤¤¤t': 3419, 'r -> EHH¤¤¤¤¤¤¤¤¤¤t': 3420, 'r -> HHHHHH¤¤¤¤¤¤¤¤¤¤¤t': 3421, 'r -> H¤¤¤¤¤¤¤¤¤¤¤¤¤¤¤¤¤¤t': 3422, 'p -> HHHmmmmUt': 3423, 'p -> HmmU': 3424, 'r -> HHmmq': 3425, 'ρ -> EHHH': 3426, 'r -> HHHH¤mUqt': 3427, 'p -> HHHHHHHHmt': 3428, 'ρ -> HHHHHHHHHHHU': 3429, 'ρ -> EEEHHHHHHHHHHH': 3430, 'π -> EEEHHUt': 3431, 'π -> EEEHHHUt': 3432, 'ρ -> EEEHUt': 3433, 'p -> mmmφt': 3434, 'T -> EEmmmmmmmmm': 3435, 'T -> EEEEmmmmmmmt': 3436, 'π -> EmmUt': 3437, 'π -> HHU': 3438, 'r -> HHHHHHHHHφ': 3439, 'r -> φφ': 3440, 'T -> EHmφt': 3441, 'ρ -> EEEEmUt': 3442, 'ρ -> HHHHHHmUqt': 3443, 'ρ -> Emmmmmm': 3444, 'ρ -> mmmmmmmUqt': 3445, 'r -> EEEHHHHHUt': 3446, 'r -> H¤¤¤UUt': 3447, 'r -> HHH¤¤¤¤UUt': 3448, 'r -> H¤mq': 3449, 'r -> ¤¤¤¤¤mmt': 3450, 'r -> E¤mm': 3451, 'ρ -> E¤t': 3452, 'ρ -> mq': 3453, 'r -> E¤¤¤mUt': 3454, 'r -> E¤¤¤¤mmt': 3455, 'r -> HHHHHHmqUt': 3456, 'T -> HHHmmUUU': 3457, 'r -> HHHHHHHHmUqt': 3458, 'p -> mmmmφt': 3459, 'r -> HHHHHHHHHHHH': 3460, 'p -> EmmmmU': 3461, 'r -> EEHmmqt': 3462, 'T -> EEEHHHmmmt': 3463, 'ρ -> EHm': 3464, 'T -> qUt': 3465, 'T -> HHHHHHHHHmU': 3466, 'π -> HHHHHmUt': 3467, 'T -> mmmmmmUUt': 3468, 'r -> HHUUUt': 3469, 'r -> ¤Uφt': 3470, 'r -> Emmmmmq': 3471, 'r -> EHHHHUUt': 3472, 'r -> HHHqUt': 3473, 'ρ -> Emmmmmmmmt': 3474, 'π -> mmmmmmmmU': 3475, 'ρ -> mmmmmmmmU': 3476, 'π -> EEEEHHHt': 3477, 'π -> EEEHHHHHt': 3478, 'π -> EEEEHHHHt': 3479, 'π -> EEHHHt': 3480, 'p -> mφqt': 3481, 'T -> HHHHHHHHHHHHHH': 3482, 'r -> EEEEmmmmm': 3483, 'p -> EEEEmmmmm': 3484, 'π -> EEEmmmmm': 3485, 'T -> EEHUUt': 3486, 'T -> HHmmφt': 3487, 'r -> EHHHHHHHHHHHHUt': 3488, 'r -> HHHmmmq': 3489, 'r -> ¤¤¤¤¤¤¤¤¤mmqt': 3490, 'r -> HHHHHHHH¤¤q': 3491, 'r -> HHHHHHHHH¤¤q': 3492, 'r -> HHHHHH¤¤¤Ut': 3493, 'r -> ¤¤¤¤¤¤¤¤¤¤¤¤mt': 3494, 'T -> EEEHm': 3495, 'r -> EHHHHHHmmmmt': 3496, 'r -> HHHmmmmmmUt': 3497, 'r -> EHHHmmmmmmt': 3498, 'π -> EEEEHHH': 3499, 'π -> EEEEHHHH': 3500, 'r -> EEEEHHHHHH': 3501, 'r -> HHHHHmm': 3502, 'T -> Eqq': 3503, 'T -> φφ': 3504, 'ρ -> φφ': 3505, 'ρ -> Eφt': 3506, 'p -> mmmmφqt': 3507, 'ρ -> Emmm': 3508, 'T -> HHHmφ': 3509, 'T -> EHHHHHHmmmmmm': 3510, 'ρ -> EHHmmt': 3511, 'p -> HHHHHHUt': 3512, 'r -> HHHHmmφt': 3513, 'ρ -> HHHHmmφt': 3514, 'r -> EEHHmmmm': 3515, 'T -> EHHmmmU': 3516, 'p -> H¤Ut': 3517, 'π -> mmmmmmmmt': 3518, 'r -> EHHHHHHHHHHHHHHHH': 3519, 'r -> EHH¤¤mUt': 3520, 'r -> EHH¤¤¤¤¤¤¤¤Ut': 3521, 'r -> EHHHH¤mmUt': 3522, 'r -> HHH¤¤¤¤¤¤Ut': 3523, 'r -> HHHHHHHH¤q': 3524, 'r -> HHHHHHHH¤¤Ut': 3525, 'p -> EHHHHmt': 3526, 'T -> HmmmmmmUqt': 3527, 'p -> EHUUt': 3528, 'p -> EHHUt': 3529, 'T -> EHHHHHHHHmmt': 3530, 'r -> EHHφt': 3531, 'r -> H¤¤¤¤¤¤¤¤Ut': 3532, 'p -> EEHHmmmmt': 3533, 'T -> mmmmmmmφ': 3534, 'π -> HHHHHHHHHHHHHqt': 3535, 'ρ -> EHHHHHHHHHHmt': 3536, 'T -> mmmmmmmmmUqt': 3537, 'r -> HHHHHHHHmmUt': 3538, 'r -> HHHHHHHHφ': 3539, 'r -> HH¤¤mmUt': 3540, 'r -> HHHHH¤mmmt': 3541, 'T -> EEEEmmmUt': 3542, 'T -> EEEEmmmmUt': 3543, 'T -> HHHHHHHm': 3544, 'T -> mmmmmmφt': 3545, 'π -> Hqq': 3546, 'r -> HUU': 3547, 'r -> EHHHHHmmU': 3548, 'r -> EHmmmmmmmm': 3549, 'p -> mmUUqt': 3550, 'T -> HHH¤mt': 3551, 'r -> EEEEHHmmmmmm': 3552, 'r -> HHHHHHHHHHHHHHHt': 3553, 'p -> HHHHHHHqt': 3554, 'r -> EUU': 3555, 'r -> HHHHUUUt': 3556, 'T -> EEmqt': 3557, 'p -> HHHmmmmmm': 3558, 'π -> mmmmmmmU': 3559, 'π -> mmmmmmUqt': 3560, 'π -> mmmmUqt': 3561, 'p -> HHUUUUt': 3562, 'p -> H¤mqt': 3563, 'p -> HUU': 3564, 'T -> EHmmmmmm': 3565, 'π -> Hmmmmm': 3566, 'ρ -> EEEHHt': 3567, 'r -> HHHHHHUUt': 3568, 'r -> EEEHHHHHHHHHHHHHt': 3569, 'r -> EEEEHHHHHHHHUt': 3570, 'r -> HHHHHHHHHHHHHHHHHHHHqt': 3571, 'π -> Hmmmmmmmmmt': 3572, 'r -> HHmmU': 3573, 'T -> HHHUφt': 3574, 'r -> HHmmmmmmmmUt': 3575, 'T -> EHHHmmmmmmmmt': 3576, 'T -> EHHHHmmmmmmmt': 3577, 'T -> EHHmmmmmmmm': 3578, 'T -> EHHHmmmmmmmt': 3579, 'T -> HHHHHHHmmmmUt': 3580, 'T -> EHHHmmmmUt': 3581, 'T -> HHHHmmmmmUt': 3582, 'T -> EHHHHHHHmmmUt': 3583, 'T -> EHHHHHHHmmmm': 3584, 'T -> EEHHHHHHHHHmmmt': 3585, 'T -> EHHHHHHHHHHmmt': 3586, 'T -> EHHmmUUt': 3587, 'T -> EEHHHHHHHmmmmt': 3588, 'T -> HHHHHHHHHmmqt': 3589, 'r -> HHHHHHHHHHHHHHHHHHHHHHHqt': 3590, 'r -> H¤¤¤¤¤¤¤¤¤¤¤¤Ut': 3591, 'r -> ¤¤¤¤¤¤¤¤¤¤¤¤¤¤¤Uqt': 3592, 'r -> EHH¤¤¤¤¤¤t': 3593, 'r -> HHHHH¤¤¤¤¤¤Ut': 3594, 'r -> E¤¤¤¤': 3595, 'r -> H¤¤¤q': 3596, 'r -> EH¤¤¤¤¤t': 3597, 'T -> HHHHHHmq': 3598, 'r -> EEEHHHHmmm': 3599, 'T -> EHHHqt': 3600, 'p -> Eqt': 3601, 'r -> EHmmmmU': 3602, 'p -> EHmU': 3603, 'ρ -> Emmqt': 3604, 'π -> HUUt': 3605, 'ρ -> Hmmmmmm': 3606, 'T -> HHHmmmmmm': 3607, 'T -> HHHmmmm': 3608, 'r -> EEHqt': 3609, 'p -> EEEEUt': 3610, 'ρ -> HHHHHmUt': 3611, 'T -> HHmmmmmmU': 3612, 'π -> HHHHHHH': 3613, 'T -> EEEEHHHHm': 3614, 'r -> HHHHHmU': 3615, 'π -> HHmmmmmmmmmt': 3616, 'r -> EHHmU': 3617, 'r -> HHH¤¤¤t': 3618, 'r -> EH¤¤¤': 3619, 'r -> HHHHH¤¤¤mt': 3620, 'r -> HHHH¤¤¤¤U': 3621, 'r -> H¤¤¤¤φt': 3622, 'r -> EHHHHHH¤¤¤¤Ut': 3623, 'p -> UUUUt': 3624, 'T -> mUUUU': 3625, 'p -> EEEEmmmmmt': 3626, 'r -> EHHHHHHm': 3627, 'r -> EEEEHm': 3628, 'π -> mmmmmmmmmmmmqt': 3629, 'r -> EHUUUt': 3630, 'p -> HHHHmmmmt': 3631, 'T -> H¤mU': 3632, 'r -> EHmmmUqt': 3633, 'p -> HHHmmmmmqt': 3634, 'ρ -> HHHmmmmmqt': 3635, 'r -> E¤¤¤': 3636, 'r -> E¤¤¤mmt': 3637, 'r -> EH¤': 3638, 'r -> H¤¤¤¤¤¤¤¤¤¤¤¤¤¤¤¤¤¤¤Ut': 3639, 'r -> E¤¤¤¤Ut': 3640, 'r -> ¤¤¤¤¤¤¤¤q': 3641, 'r -> H¤¤¤¤¤¤¤¤¤Ut': 3642, 'r -> H¤¤¤¤¤mUt': 3643, 'r -> E¤φt': 3644, 'r -> ¤¤¤U': 3645, 'r -> H¤¤¤¤q': 3646, 'r -> EH¤¤¤¤¤¤¤¤¤¤¤¤t': 3647, 'r -> ¤¤¤¤¤¤¤¤¤¤¤¤¤¤mqt': 3648, 'r -> HH¤mmmt': 3649, 'r -> HH¤¤¤¤¤¤¤¤¤¤Ut': 3650, 'r -> EE¤¤¤¤¤¤¤¤¤¤¤¤¤¤¤¤t': 3651, 'T -> HHHHHHHHHHHHHHHt': 3652, 'T -> HHHHHHHHHHHHHHHmt': 3653, 'T -> HHHHHHHHHmmmt': 3654, 'T -> HHHHHHHHHHHmmt': 3655, 'p -> HHHHHHHt': 3656, 'T -> Emmmmqt': 3657, 'T -> HHHHHHHmmmt': 3658, 'p -> HHHHHHHmt': 3659, 'p -> HmmmmUqt': 3660, 'r -> EEmmUqt': 3661, 'p -> EEEEHmmt': 3662, 'p -> HHHφt': 3663, 'T -> EHHHmmmmm': 3664, 'p -> EEUt': 3665, 'ρ -> ¤Ut': 3666, 'T -> HH¤¤¤mmmmUt': 3667, 'T -> H¤mφt': 3668, 'π -> H¤mmmmmt': 3669, 'p -> HHHH¤mmmmt': 3670, 'T -> HHH¤mmt': 3671, 'ρ -> HHH¤mmt': 3672, 'r -> HHH¤mmt': 3673, 'T -> HH¤¤q': 3674, 'T -> HH¤mmmUt': 3675, 'p -> HH¤qt': 3676, 'p -> H¤mmqt': 3677, 'p -> H¤mmmqt': 3678, 'p -> HHH¤t': 3679, 'r -> EHH¤¤¤¤t': 3680, 'r -> HHHH¤¤¤¤¤¤¤¤¤t': 3681, 'p -> EUUt': 3682, 'T -> ¤mmmmmt': 3683, 'T -> ¤mmmmt': 3684, 'T -> ¤¤¤¤¤¤¤¤Uqt': 3685, 'T -> EH¤mt': 3686, 'T -> ¤¤mmmt': 3687, 'T -> EE¤mt': 3688, 'T -> ¤¤¤¤¤¤¤¤¤¤Ut': 3689, 'T -> EEH¤mt': 3690, 'p -> HHHHmm': 3691, 'p -> HHHHHmmmm': 3692, 'T -> EEHHHHHmmt': 3693, 'p -> ¤¤¤¤¤¤t': 3694, 'p -> ¤U': 3695, 'T -> EEH¤¤¤¤UUt': 3696, 'T -> H¤¤¤¤¤¤¤qt': 3697, 'π -> H¤qt': 3698, 'p -> E¤¤¤t': 3699, 'p -> EHHHmm': 3700, 'T -> EEEEHHHHHmt': 3701, 'π -> Hmmmmmmmmt': 3702, 'r -> EEEHHHHmmt': 3703, 'r -> EEmmmmmm': 3704, 'r -> EEEHHUUt': 3705, 'T -> EEmm': 3706, 'T -> EHHmmmmmmm': 3707, 'T -> mmmmmmmU': 3708, 'π -> EE¤t': 3709, 'π -> EEEE¤Ut': 3710, 'π -> EE¤¤¤Ut': 3711, 'π -> HHmt': 3712, 'r -> EEHHHmmmmmt': 3713, 'r -> HHHmmmmmmmmqt': 3714, 'ρ -> Hmmmmmmt': 3715, 'r -> HHHHH¤UUt': 3716, 'T -> EEEEHHHHHHHt': 3717, 'T -> EEEHHHHHHHHHHt': 3718, 'ρ -> mmφt': 3719, 'T -> EHHHHHHHHHHHHHHHt': 3720, 'T -> EEEmmmmmmt': 3721, 'r -> EHHHHmmmmmt': 3722, 'T -> HHmmmmmUqt': 3723, 'r -> mmmφ': 3724, 'π -> HHHHHHHHH': 3725, 'T -> HHHmmmmmUqt': 3726, 'ρ -> mmmmmmUt': 3727, 'T -> mmmmmmmφqt': 3728, 'T -> HHHHHmmmmmmq': 3729, 'r -> HHHHHmmmmmmq': 3730, 'r -> EEEEq': 3731, 'T -> Emmqt': 3732, 'r -> H¤¤¤mt': 3733, 'T -> EEEEHHHH': 3734, 'ρ -> HHHHHUUt': 3735, 'ρ -> HHHHHt': 3736, 'ρ -> HHHHHH': 3737, 'ρ -> HHH': 3738, 'ρ -> HHHHHHHUt': 3739, 'ρ -> HHHHHHUt': 3740, 'T -> EHHHHHHHHHHHH': 3741, 'T -> mmmm': 3742, 'r -> EHHHq': 3743, 'r -> HHHmmq': 3744, 'r -> EEEEHHHmmmm': 3745, 'T -> H¤mmqt': 3746, 'T -> H¤mmmqt': 3747, 'T -> H¤¤mmqt': 3748, 'T -> ¤¤mmmmUt': 3749, 'T -> ¤mmmmUt': 3750, 'r -> HHHHHHHHHHHmmt': 3751, 'r -> HHHHHHHHHHHHHHHHHUt': 3752, 'ρ -> mmmmm': 3753, 'T -> HmmφUt': 3754, 'T -> mmmqUt': 3755, 'r -> HHHHHHHHHφt': 3756, 'r -> HHHHHHHHmmmmUt': 3757, 'r -> EHmUqt': 3758, 'T -> EE¤¤t': 3759, 'T -> EH¤¤¤t': 3760, 'p -> H¤¤¤Ut': 3761, 'r -> H¤¤¤¤¤¤¤¤¤¤¤¤¤¤¤¤': 3762, 'r -> HHmmmmmmmmmqt': 3763, 'r -> EEEEHHHHHHHHHmt': 3764, 'T -> EEEEHmmmmmUt': 3765, 'r -> HHHHH¤¤¤¤¤¤¤¤t': 3766, 'r -> HHHH¤¤¤mUt': 3767, 'r -> HHH¤¤¤mUt': 3768, 'p -> mmmφφ': 3769, 'p -> mmmmφφ': 3770, 'ρ -> Hmqqqqt': 3771, 'ρ -> EHmqt': 3772, 'ρ -> EHHmφt': 3773, 'ρ -> φqt': 3774, 'r -> Hmqqt': 3775, 'r -> HHHHmUUUUt': 3776, 'r -> mmmmmmmmmq': 3777, 'r -> EEEEHHHHHHHmmt': 3778, 'r -> mUUUqt': 3779, 'p -> EmmmmmUt': 3780, 'ρ -> EHHHmmmt': 3781, 'T -> φqt': 3782, 'r -> EHHHHHHHHHHHHHH': 3783, 'ρ -> EHHHmmm': 3784, 'r -> EEEEHHHHH': 3785, 'T -> HmmmmmU': 3786, 'r -> HH¤¤¤¤¤¤¤¤¤¤¤¤¤¤Ut': 3787, 'r -> ¤¤¤¤¤¤¤¤¤¤¤¤mUt': 3788, 'T -> EUq': 3789, 'r -> EUq': 3790, 'r -> HHHHHHHHHHm': 3791, 'r -> HHHHHHHHHmt': 3792, 'T -> HHHHHHmUUqt': 3793, 'π -> HHHHHHHHHqt': 3794, 'p -> mmmmqqt': 3795, 'π -> EEEEHHHHHt': 3796, 'ρ -> EEmmt': 3797, 'p -> EEEEHHHHmt': 3798, 'r -> mmmmmφt': 3799, 'p -> EEHmmt': 3800, 'r -> EEmmm': 3801, 'r -> EHHHHHHH¤¤t': 3802, 'r -> H¤¤mt': 3803, 'r -> ¤¤¤¤¤¤mt': 3804, 'r -> EH¤¤¤¤¤¤t': 3805, 'r -> ¤¤¤¤¤¤mmmt': 3806, 'r -> ¤¤¤¤mt': 3807, 'T -> EHHmmm': 3808, 'r -> EEEEHmmmmmmm': 3809, 'ρ -> HHHmmmmmmqt': 3810, 'r -> EEHHHHHHHHmt': 3811, 'r -> EEEEφt': 3812, 'T -> Hmmmmmmq': 3813, 'r -> HHHmmmmmmmmmmt': 3814, 'T -> EEEEHHHHH': 3815, 'p -> EEHHH': 3816, 'T -> EEHHHHHm': 3817, 'ρ -> EHHHm': 3818, 'T -> EHHHHHHHHHHHHH': 3819, 'π -> mmmmmUqt': 3820, 'p -> HHHHHHHmqt': 3821, 'T -> HHHHHφt': 3822, 'T -> HHHHHHHHHHφ': 3823, 'T -> HHHmmmmmmmt': 3824, 'T -> HHmmmmm': 3825, 'r -> HHHHHHHHHHHHHHφ': 3826, 'π -> HHHHHHHmqt': 3827, 'r -> HHHHHHmmmUt': 3828, 'T -> HHmmmUq': 3829, 'r -> mmmmφqt': 3830, 'T -> ¤¤¤q': 3831, 'r -> HHHHHHHHHHHHHHHHHHHHHHHHHHHH': 3832, 'r -> EEHHHHHHHH': 3833, 'r -> EEmmmmmmmmm': 3834, 'ρ -> HHHHHHHUqt': 3835, 'T -> EEHmmUt': 3836, 'r -> EHHHHHHH¤¤¤': 3837, 'T -> HH¤¤¤t': 3838, 'T -> EHH¤¤t': 3839, 'T -> E¤¤mt': 3840, 'ρ -> E¤¤mt': 3841, 'r -> H¤¤¤¤¤¤¤¤¤¤¤¤¤¤¤t': 3842, 'T -> E¤¤¤¤¤¤¤¤¤¤¤¤¤¤': 3843, 'T -> HH¤¤¤¤¤¤¤¤¤¤¤¤¤¤qt': 3844, 'p -> EHH¤¤¤¤¤¤¤¤¤¤¤¤¤': 3845, 'p -> ¤¤¤¤¤¤¤¤¤¤¤qt': 3846, 'p -> EHHH¤¤¤¤¤¤¤¤¤¤¤¤': 3847, 'T -> HH¤¤¤¤¤¤¤qt': 3848, 'p -> EH¤¤¤¤¤¤¤¤¤¤¤¤¤': 3849, 'T -> H¤¤¤¤¤¤¤¤¤¤¤¤¤q': 3850, 'r -> EHH¤¤': 3851, 'p -> E¤¤¤¤¤¤¤¤¤¤¤¤¤¤': 3852, 'p -> H¤qt': 3853, 'p -> H¤¤¤¤¤¤¤¤¤¤¤¤qt': 3854, 'p -> H¤¤¤¤¤¤¤qt': 3855, 'T -> ¤¤¤¤¤¤¤¤¤¤¤¤¤¤q': 3856, 'T -> HHHHHHH¤Ut': 3857, 'T -> HH¤¤¤¤¤¤¤¤¤¤¤qt': 3858, 'π -> HHHHHHHH¤¤¤¤¤¤¤¤¤¤¤¤': 3859, 'T -> HHHHHH¤¤¤qt': 3860, 'T -> H¤¤¤¤¤¤¤¤¤¤¤¤qt': 3861, 'T -> HHHHH¤¤¤¤¤¤¤¤¤¤¤¤¤qt': 3862, 'T -> HHHHHHHH¤¤¤Ut': 3863, 'ρ -> HHHHHHHH¤¤¤Ut': 3864, 'r -> HH¤UUqt': 3865, 'T -> EEEHHHHHHmt': 3866, 'π -> EHm': 3867, 'p -> ¤¤¤mmt': 3868, 'π -> ¤mmt': 3869, 'p -> ¤mmmmqt': 3870, 'T -> EEHHHHHmt': 3871, 'T -> EEEHHHHHmm': 3872, 'π -> EHHHH': 3873, 'T -> HHHmmφt': 3874, 'T -> EEHHHHHHm': 3875, 'T -> EEEEHHHHHmm': 3876, 'r -> HHHH¤¤Uqt': 3877, 'r -> ¤¤UUUt': 3878, 'r -> HH¤¤¤¤¤¤¤qt': 3879, 'ρ -> mmU': 3880, 'π -> EHmmmmmt': 3881, 'p -> HH¤mqt': 3882, 'T -> EEEEmφt': 3883, 'T -> EEHmqt': 3884, 'π -> EEEEmmmmmmt': 3885, 'π -> EEEHHHt': 3886, 'r -> EEHHHmmmmt': 3887, 'r -> EHHHHHHHHHHm': 3888, 'r -> mmmmmmmφt': 3889, 'T -> mmmmUUqt': 3890, 'p -> mUUqt': 3891, 'r -> HHHH¤¤¤mqt': 3892, 'r -> E¤¤¤¤¤¤¤¤¤¤¤¤¤¤¤¤t': 3893, 'r -> HHHHH¤¤¤¤¤¤¤¤¤¤¤qt': 3894, 'T -> HHHH¤¤¤¤¤t': 3895, 'r -> HHHHHHHUUUt': 3896, 'r -> EEEmmmm': 3897, 'T -> EEHHHHHHHHHHmt': 3898, 'p -> HHmmmmmmt': 3899, 'r -> HHmmmmmmUqt': 3900, 'r -> HHHHHHHHHmmUt': 3901, 'T -> HHqqt': 3902, 'r -> Emφt': 3903, 'r -> EEEEHHHHHmmt': 3904, 'r -> EEHHHmUUt': 3905, 'T -> EHHHHH¤mt': 3906, 'T -> EHHHH¤Ut': 3907, 'T -> ¤mmmUqt': 3908, 'T -> HH¤¤Uqt': 3909, 'T -> EHHHHH¤Ut': 3910, 'T -> HHHHH¤mUqt': 3911, 'T -> EHH¤mUt': 3912, 'T -> HHH¤mUqt': 3913, 'T -> HHHHHmmmmmqt': 3914, 'p -> HHHHmmmt': 3915, 'p -> EEHHHHHHHH': 3916, 'T -> HHHHHHHHHmmmqt': 3917, 'T -> EEEHHH': 3918, 'ρ -> mmqqt': 3919, 'ρ -> HHmmUUqt': 3920, 'ρ -> mmUqqt': 3921, 'r -> mmUqqt': 3922, 'r -> E¤¤¤¤¤mmt': 3923, 'r -> HHHHH¤¤¤mUt': 3924, 'r -> EEE¤mUt': 3925, 'r -> EH¤mmmmmt': 3926, 'T -> HHHHHHHHmmUqt': 3927, 'p -> HHHmmU': 3928, 'r -> HUφt': 3929, 'p -> HHHUUUt': 3930, 'r -> HHHHHmq': 3931, 'π -> Hmmmmmmqt': 3932, 'p -> HHmmmmUt': 3933, 'T -> Hmmmmmmmmmmmmm': 3934, 'T -> HHHHmmmmmm': 3935, 'r -> HHHHmmmmmmm': 3936, 'r -> EHHqt': 3937, 'T -> mmmmmmmmm': 3938, 'r -> HHmmUUqt': 3939, 'T -> EEEEHHHHmmt': 3940, 'π -> mmmmmmmmmt': 3941, 'r -> HHHHHHmmU': 3942, 'T -> HHHHmq': 3943, 'π -> mmq': 3944, 'p -> ¤mmmmmt': 3945, 'p -> H¤': 3946, 'ρ -> HHHHUUt': 3947, 'π -> EEEEmUt': 3948, 'r -> ¤¤¤q': 3949, 'T -> EUU': 3950, 'ρ -> Hmm': 3951, 'π -> EmmU': 3952, 'p -> Hqqt': 3953, 'r -> EEEHHHHφt': 3954, 'r -> EEEHHHHqt': 3955, 'r -> EEHHHHHHmmt': 3956, 'r -> EEHHHmmUUt': 3957, 'ρ -> mmmmmmmmq': 3958, 'π -> HHmmmmmmmqt': 3959, 'ρ -> mmmmmmUqt': 3960, 'T -> EEEEHmmmmm': 3961, 'T -> EmmmmmmmU': 3962, 'ρ -> EEEmUt': 3963, 'T -> EEEmmmmmmUt': 3964, 'T -> EEmmmmmUt': 3965, 'T -> EEEqt': 3966, 'T -> EUqt': 3967, 'r -> H¤mUUUt': 3968, 'r -> HHHHHHHH¤¤¤¤¤¤¤¤': 3969, 'r -> HH¤¤¤¤¤¤¤¤¤¤¤¤¤¤mmqt': 3970, 'r -> EHH¤mmt': 3971, 'p -> HHHHHU': 3972, 'π -> Emm': 3973, 'p -> HHHHHHHHHmqt': 3974, 'T -> HHHHHHHHHHmU': 3975, 'T -> Hmmmmmmmmmmmmt': 3976, 'r -> EEEHmmU': 3977, 'π -> Hmmφt': 3978, 'p -> ¤¤¤mmqt': 3979, 'T -> mmUq': 3980, 'ρ -> mm': 3981, 'T -> EEHHHHHHHHHH': 3982, 'T -> EEHHHHHHHHHHH': 3983, 'ρ -> EEHHHHHHHHHHHt': 3984, 'ρ -> EEHHHHHHt': 3985, 'ρ -> EHHmmmt': 3986, 'r -> ¤¤¤¤¤¤¤¤¤¤¤¤¤¤¤¤¤¤Ut': 3987, 'r -> EEHHHmmUt': 3988, 'r -> HHUU': 3989, 'r -> EHHHHHHHHmmt': 3990, 'r -> HUUUUt': 3991, 'T -> EHHφt': 3992, 'T -> EHUU': 3993, 'p -> HHHHHmUt': 3994, 'p -> UUUU': 3995, 'p -> mmmmmmUqt': 3996, 'p -> EHHmmmm': 3997, 'T -> EEEEHmmmmmt': 3998, 'T -> HHHmmmmφ': 3999, 'T -> HHHHmmU': 4000, 'p -> HHHHHHHHHmU': 4001, 'π -> HHHHHmmmmqt': 4002, 'π -> EEEEHmφt': 4003, 'r -> HHHHHHH¤¤¤¤¤¤¤¤¤qt': 4004, 'r -> H¤¤UUUt': 4005, 'p -> HHmmm': 4006, 'r -> ¤mmmmt': 4007, 'r -> EEEEHHH¤t': 4008, 'r -> HHHHHH¤mmmmmUt': 4009, 'r -> EEE¤UUt': 4010, 'r -> EEHHH¤t': 4011, 'r -> HHHHHHHHH¤mmmU': 4012, 'r -> HHHHH¤¤¤¤¤¤¤¤¤¤mU': 4013, 'r -> HHHHHHHH¤mUt': 4014, 'r -> HHHHHHH¤mmmmUt': 4015, 'r -> HHHH¤mmmmmUt': 4016, 'r -> HHHHHH¤mmmmmmmU': 4017, 'r -> HHHHHHHHHHH¤Ut': 4018, 'r -> HHHHH¤mmt': 4019, 'r -> HHH¤mmUt': 4020, 'r -> ¤¤¤mmm': 4021, 'r -> HHHH¤mUUt': 4022, 'r -> HHHHHHHHH¤mmmUt': 4023, 'r -> HHHHHHH¤mmmUt': 4024, 'r -> EHHHHHHHHH¤mmmmt': 4025, 'r -> HHHH¤¤¤¤¤mUt': 4026, 'r -> EHHHHHHHHHH¤mmmm': 4027, 'r -> HHHHHHHH¤mt': 4028, 'r -> HHHHHHHHHH¤mmmmU': 4029, 'r -> HH¤U': 4030, 'r -> HHHHH¤mmmmU': 4031, 'r -> HHH¤mmmmmmmmmmt': 4032, 'r -> HHHHH¤¤¤¤¤¤¤mUt': 4033, 'r -> HHHHHHHHHH¤Ut': 4034, 'r -> HHHH¤mmmmmmmUt': 4035, 'r -> HHHHHHHHHHHH¤Ut': 4036, 'r -> HHHHHHHH¤mU': 4037, 'r -> EHHHHHHHH¤mt': 4038, 'r -> EHHHHHHHH¤mmt': 4039, 'r -> HHHHHHH¤¤¤¤¤¤mUt': 4040, 'r -> HHH¤¤mt': 4041, 'r -> EEHHHHHHHHHH¤mmmt': 4042, 'r -> EHHHHHHHHHH¤mmt': 4043, 'r -> HHHHHHHHHHHH¤mmt': 4044, 'r -> HHH¤¤¤¤¤¤¤¤¤¤mt': 4045, 'r -> HHHHHHHHHH¤¤mmUt': 4046, 'r -> HHHH¤mmmUt': 4047, 'r -> HHHHHH¤mmmmqt': 4048, 'ρ -> EHHHHU': 4049, 'r -> EEEEHHHmU': 4050, 'r -> EHHHHHH¤t': 4051, 'T -> HH¤¤mqt': 4052, 'T -> HHHHH¤¤¤qt': 4053, 'T -> HHH¤¤qt': 4054, 'T -> HHHH¤mmqt': 4055, 'T -> HHHHH¤Uqt': 4056, 'T -> HHHH¤mUqt': 4057, 'ρ -> HH¤¤mqt': 4058, 'ρ -> HHHHH¤¤¤qt': 4059, 'ρ -> HHHH¤qt': 4060, 'ρ -> HHH¤¤qt': 4061, 'ρ -> HHHH¤mmqt': 4062, 'ρ -> HHH¤Uqt': 4063, 'ρ -> HHHHH¤Uqt': 4064, 'ρ -> HHHH¤mUqt': 4065, 'ρ -> HH¤mqt': 4066, 'ρ -> EHH¤t': 4067, 'ρ -> EHHH¤Ut': 4068, 'ρ -> mmmmUqt': 4069, 'r -> EEEEHHHHqt': 4070, 'ρ -> mUUt': 4071, 'p -> HmmmmmUt': 4072, 'p -> HHHmmmmmmm': 4073, 'T -> EEHHHmmmmmt': 4074, 'T -> EHHHHHHHHU': 4075, 'r -> HHH¤mUUt': 4076, 'r -> ¤¤¤¤¤¤¤¤¤': 4077, 'r -> HHHHH¤¤¤¤¤¤¤¤¤¤¤¤qt': 4078, 'r -> EHHHqt': 4079, 'p -> EEEmmmmt': 4080, 'r -> mφφ': 4081, 'r -> HHmmmmmU': 4082, 'r -> HHmmmU': 4083, 'r -> HHHHmmmU': 4084, 'π -> ¤¤¤qt': 4085, 'T -> HHHHHHHHHHHHHHHHHqt': 4086, 'r -> EEHHmUUt': 4087, 'r -> E¤¤¤¤¤Ut': 4088, 'r -> mmUφt': 4089, 'p -> HmmmmU': 4090, 'r -> HHHHH¤¤¤¤¤¤¤¤¤¤¤¤¤¤t': 4091, 'r -> HHHHHHHmmmUt': 4092, 'r -> HqU': 4093, 'T -> EEEEmmmqt': 4094, 'r -> EEEEmmmqt': 4095, 'r -> HHHHHHH¤¤¤¤¤qt': 4096, 'r -> HHH¤mmUqt': 4097, 'r -> HHHHHHHHH¤¤mqt': 4098, 'r -> HHHHHHHHHH¤mqt': 4099, 'r -> HHHHHHH¤¤¤¤¤¤qt': 4100, 'r -> HHHHHHHH¤¤mUt': 4101, 'r -> HHHHHHHHH¤¤¤¤qt': 4102, 'r -> HHHHHHHHH¤¤¤¤¤qt': 4103, 'r -> HHHHHHH¤¤¤¤mqt': 4104, 'r -> HHHHHH¤¤¤¤¤mmqt': 4105, 'r -> HHHHH¤¤¤¤Uqt': 4106, 'r -> HHHHHH¤¤¤¤¤¤¤Ut': 4107, 'T -> EHHHHmU': 4108}\n"
     ]
    }
   ],
   "source": [
    "# Counter: subclass of Python's dictionary used for counting hashable objects, in this case, tokens (words).\n",
    "# OrderedDict: subclass of Python's dictionary that remembers the insertion order of keys. It is used to store tokens in a specific order based on frequency.\n",
    "from collections import Counter, OrderedDict\n",
    "# re: A module for working with regular expressions, used to manipulate and clean text.\n",
    "import re\n",
    "\n",
    "# Token counts and vocab creation\n",
    "# Initializes an empty Counter object to hold the frequency of each token in the dataset.\n",
    "token_counts = Counter()\n",
    "\n",
    "# Define tokenizer\n",
    "def tokenizer(text):\n",
    "\n",
    "    #  replace | with \" \"\n",
    "    # text = text.replace(\"|\", \" \")\n",
    "    tokens = re.findall(r'\\((.*?)\\)|\\|', text)\n",
    "    return tokens\n",
    "\n",
    "# Tokenize the training data and populate token_counts\n",
    "for entry in test_dataset:  # Assuming train_dataset is a dataset with 'text'\n",
    "    line = entry['text']\n",
    "    tokens = tokenizer(line)\n",
    "    token_counts.update(tokens)\n",
    "\n",
    "# Sort tokens by frequency\n",
    "# token_counts.items() returns the tokens and their respective counts as a list of tuples (e.g., [(token1, count1), (token2, count2), ...])\n",
    "# key=lambda x: x[1] means that the sorting is based on the count (x[1]), which is the second element of each tuple\n",
    "# reverse=True means that the most frequent tokens appear first in the sorted list.\n",
    "sorted_by_freq_tuples = sorted(token_counts.items(), key=lambda x: x[1], reverse=True)\n",
    "\n",
    "# Create an ordered dictionary for the vocab\n",
    "ordered_dict = OrderedDict(sorted_by_freq_tuples)\n",
    "\n",
    "# The padding token (pad) is used to ensure that all sequences in a batch have the same length.\n",
    "# The unknown token (unk) is used to represent words that are not found in the model's vocabulary (the top 69021 words in your case).\n",
    "# Any word that doesn't appear in the vocabulary is replaced by the unk token during tokenization.\n",
    "# This is critical for handling unseen words during inference, where the model encounters words that were not present in the training data.\n",
    "# Create vocab dictionary with special tokens\n",
    "# Initializes the vocab dictionary with two special tokens\n",
    "vocab = {\"<pad>\": 0, \"<unk>\": 1}\n",
    "\n",
    "for idx, (token, count) in enumerate(ordered_dict.items(), start=2):  # Start from 2 to skip the special tokens\n",
    "    vocab[token] = idx\n",
    "\n",
    "\n",
    "# Print the vocabulary size (should be 69023)\n",
    "print('Vocab-size:', len(vocab))\n",
    "print('vocab', vocab)\n",
    "# --- Rationale:\n",
    "#\n",
    "# By assigning frequent words lower indices, we can optimize memory and computational efficiency.\n",
    "# Words that appear infrequently can either be assigned higher indices (in case we want to keep them) or omitted from the vocabulary entirely."
   ]
  },
  {
   "cell_type": "code",
   "execution_count": 12,
   "id": "c31ad1d9",
   "metadata": {
    "execution": {
     "iopub.execute_input": "2024-11-26T06:55:10.941000Z",
     "iopub.status.busy": "2024-11-26T06:55:10.940818Z",
     "iopub.status.idle": "2024-11-26T06:55:10.945610Z",
     "shell.execute_reply": "2024-11-26T06:55:10.945230Z"
    },
    "papermill": {
     "duration": 0.011902,
     "end_time": "2024-11-26T06:55:10.946878",
     "exception": false,
     "start_time": "2024-11-26T06:55:10.934976",
     "status": "completed"
    },
    "tags": []
   },
   "outputs": [
    {
     "name": "stdout",
     "output_type": "stream",
     "text": [
      "[40, 22, 5, 7, 2, 9, 6, 9, 8, 2, 3, 116, 7, 9, 2, 27, 5, 6, 6, 2, 9, 7, 3, 6, 2, 6, 3, 8, 7, 2, 3, 6, 6, 6, 2, 6, 40, 6, 8, 2, 3, 8, 8, 3, 2, 116, 40, 278, 8, 2, 9, 3, 3, 9, 2, 3, 7, 10, 7, 2, 9, 9, 50, 8, 2, 6, 3, 7, 6, 2, 3, 8, 9, 80, 2, 8, 3, 3, 3, 2, 56, 3, 3, 22, 2, 6, 7, 3, 7, 2, 7, 3, 56, 3, 2, 6, 3, 3, 3, 2, 3, 9, 3, 7, 2, 7, 6, 7, 264, 2, 3, 3, 84, 6, 2, 9, 45, 18, 49, 2, 6, 7, 9, 6, 2, 3, 3, 33, 8, 2, 8, 6, 7, 40, 2, 3, 9, 3, 6, 2, 8, 3, 6, 3, 2, 9, 3, 79, 5, 2, 5, 3, 3, 7, 2, 5, 7, 3, 7, 2, 49, 6, 6, 7, 2, 6, 8, 6, 9, 2, 6, 6, 9, 3, 2, 3, 3, 7, 5, 2, 5, 5, 7, 3, 2, 5, 6, 6, 9, 2, 6, 12, 3, 6, 2, 8, 56, 56, 50, 2, 3, 3, 5, 5, 2, 5, 3, 3, 5, 2, 3, 56, 3, 5, 2, 9, 6, 5, 5, 2, 5, 5, 18, 49, 2, 18, 9, 5, 18, 2, 9, 6, 9, 3, 2, 3, 7, 3, 7, 2, 3, 3, 3, 56, 2, 50, 3, 5, 3, 2, 18, 8, 5, 6, 2, 6, 6, 5, 186, 2, 186, 3, 7]\n"
     ]
    }
   ],
   "source": [
    "# action r⚀r|⚀pr|⚁r□r⚀r|⚁T|⚁T|⚁r|⚁r⚀r|⚁pp|⚀r|⚁r|⚀r⚀r|⚁T|⚁r|⚁r|⚁T⚀T□r|⚁T|⚁rrr|⚁rr□r|⚁T|⚁T□T□T|⚁T|⚁r|⚁r|⚁r⚀Tr|⚁T|⚁T|⚁r|□T⚀r□r|⚁r|⚁r|⚁rr|⚀Tr⚀T□r|⚁r⚀T|⚁T|⚁rr|⚁T□T⚀T|⚀T⚀π⚀T|⚁T|⚁r□r|⚁r|⚁T|⚁rr|⚁Tπ|⚁Tr|⚀TT□T⚀T□rT|⚁r⚀r⚀r|⚁r|⚁r|⚁T⚀T|⚀r|⚁r□r□r□r⚀r|⚀r|⚁r⚀r⚀r|⚀T|⚁T|⚁r|⚁T|⚁T|⚁r|⚀r|⚁rT|⚀r|⚁T|⚁r□T□T□r|⚁T|⚂r|⚁T|⚁r|⚀p□p|⚁T|⚁T□rp|⚁r|⚁T|⚀rr|⚁r⚀rr|□r□Tr|⚁r|⚁r|⚁r|⚁r|⚀T⚀T□T⚀rppp⚀r|⚀T|⚁pr|⚁r|⚁r⚀r|⚁T|⚁T|⚁r|⚁T⚀π⚀π|⚀r|⚁T|⚁T|⚁p⚀pp|⚁T|⚀T|⚁p|⚁T⚀π⚀T|⚀p|⚁r|⚁r⚀p□ppp|⚀rr□r⚀rp|⚁r|⚁rr|⚁r|⚁T|⚀T⚀r□T⚀r|⚁T|⚁T⚀T⚀π|⚁r|⚁T□p|⚀T|⚁r|⚁T⚀p|⚁r|⚁r⚀r|⚀p□ρρ□T|⚁r\n",
    "\n",
    "# content (E)(EHt)|(t)(t)|(Et)(qt)(Et)|(qt)|(t)|(EEEt)|(t)(Et)|(mmt)(t)|(qt)|(qt)|(Et)(t)|(t)|(qt)|(qt)|(t)(qt)(t)|(t)|(qt)(qt)(qt)|(qt)(E)(qt)|(qt)|(t)(qt)(qt)|(t)|(EEEt)|(E)|(EEEHt)(qt)(Et)|(t)|(t)|(Et)|(t)(t)(Ut)|(t)|(Et)|(Et)(EEt)|(qt)(qt)(t)(t)|(qt)(t)|(qt)|(Et)(EEEEt)|(qt)(t)(t)|(t)(t)(t)|(t)|(EHt)(qt)|(t)|(t)|(t)(t)|(t)(t)|(t)(qt)|(t)(t)(t)(t)(Et)(t)|(t)(t)(qt)|(t)|(EEEEmt)|(t)(t)|(HHmqt)|(qt)(Et)(EHmt)(Hqt)(EHHt)|(qt)|(t)(Et)(qt)|(t)|(t)|(Emt)|(qt)|(qt)|(qt)|(t)|(E)(t)|(Et)|(t)|(qt)(qt)(t)(qt)|(t)|(Et)|(t)|(EHUt)|(t)(t)|(t)|(t)(t)(t)|(t)|(t)|(t)(EHHt)|(qt)(qt)(t)|(qt)(qt)(qt)|(Et)|(qt)|(qt)|(Et)|(t)(t)(t)(t)(t)(t)(t)(t)|(t)|(t)(qt)|(qt)|(Et)(qt)|(Et)|(t)|(qt)|(qt)(t)(t)|(EEt)|(t)|(t)|(t)(t)(t)|(t)|(t)|(t)|(t)(t)(t)|(t)|(Et)|(qt)(t)(t)(t)(t)|(Hqt)(EHHt)(Hqt)(Et)(t)|(Hqt)|(Et)(qt)|(Et)|(t)|(t)(t)(t)(t)|(t)|(t)(t)(t)|(EEt)|(t)(t)|(t)|(Hqt)|(qt)(t)|(qt)|(qt)(qt)|(t)(t)(t)(t)|(t)\n",
    "\n",
    "# text (r -> E)(r -> EHt)(p -> t)(r -> t)|(r -> Et)(r -> qt)(r -> Et)(T -> qt)|(T -> t)(r -> EEEt)(r -> t)(r -> Et)|(p -> mmt)(p -> t)(r -> qt)(r -> qt)|(r -> Et)(r -> t)(T -> t)(r -> qt)|(r -> qt)(T -> t)(T -> qt)(r -> t)|(T -> t)(r -> qt)(r -> qt)(r -> qt)|(r -> qt)(r -> E)(r -> qt)(T -> qt)|(T -> t)(T -> qt)(T -> qt)(T -> t)|(r -> EEEt)(r -> E)(r -> EEEHt)(T -> qt)|(r -> Et)(T -> t)(T -> t)(r -> Et)|(T -> t)(r -> t)(r -> Ut)(r -> t)|(r -> Et)(r -> Et)(r -> EEt)(T -> qt)|(r -> qt)(T -> t)(r -> t)(r -> qt)|(T -> t)(T -> qt)(r -> Et)(r -> EEEEt)|(T -> qt)(T -> t)(T -> t)(T -> t)|(π -> t)(T -> t)(T -> t)(r -> EHt)|(r -> qt)(r -> t)(T -> t)(r -> t)|(r -> t)(T -> t)(π -> t)(T -> t)|(r -> qt)(T -> t)(T -> t)(T -> t)|(T -> t)(r -> Et)(T -> t)(r -> t)|(r -> t)(r -> qt)(r -> t)(r -> EEEEmt)|(T -> t)(T -> t)(r -> HHmqt)(r -> qt)|(r -> Et)(r -> EHmt)(r -> Hqt)(r -> EHHt)|(r -> qt)(r -> t)(r -> Et)(r -> qt)|(T -> t)(T -> t)(r -> Emt)(T -> qt)|(T -> qt)(r -> qt)(r -> t)(r -> E)|(T -> t)(r -> Et)(T -> t)(r -> qt)|(T -> qt)(T -> t)(r -> qt)(T -> t)|(r -> Et)(T -> t)(r -> EHUt)(p -> t)|(p -> t)(T -> t)(T -> t)(r -> t)|(p -> t)(r -> t)(T -> t)(r -> t)|(r -> EHHt)(r -> qt)(r -> qt)(r -> t)|(r -> qt)(T -> qt)(r -> qt)(r -> Et)|(r -> qt)(r -> qt)(r -> Et)(T -> t)|(T -> t)(T -> t)(r -> t)(p -> t)|(p -> t)(p -> t)(r -> t)(T -> t)|(p -> t)(r -> qt)(r -> qt)(r -> Et)|(r -> qt)(T -> Et)(T -> t)(r -> qt)|(T -> qt)(π -> t)(π -> t)(r -> EEt)|(T -> t)(T -> t)(p -> t)(p -> t)|(p -> t)(T -> t)(T -> t)(p -> t)|(T -> t)(π -> t)(T -> t)(p -> t)|(r -> Et)(r -> qt)(p -> t)(p -> t)|(p -> t)(p -> t)(r -> Hqt)(r -> EHHt)|(r -> Hqt)(r -> Et)(p -> t)(r -> Hqt)|(r -> Et)(r -> qt)(r -> Et)(T -> t)|(T -> t)(r -> t)(T -> t)(r -> t)|(T -> t)(T -> t)(T -> t)(π -> t)|(r -> EEt)(T -> t)(p -> t)(T -> t)|(r -> Hqt)(T -> qt)(p -> t)(r -> qt)|(r -> qt)(r -> qt)(p -> t)(ρ -> t)|(ρ -> t)(T -> t)(r -> t)\n",
    "\n",
    "\n",
    "def encode(tokens):\n",
    "    #If the token does not exist in the vocab, the function returns the index of the <unk>\n",
    "    return [vocab.get(token, vocab[\"<unk>\"]) for token in tokens]\n",
    "# Example usage\n",
    "print(encode(tokenizer('(r -> E)(r -> EHt)(p -> t)(r -> t)|(r -> Et)(r -> qt)(r -> Et)(T -> qt)|(T -> t)(r -> EEEt)(r -> t)(r -> Et)|(p -> mmt)(p -> t)(r -> qt)(r -> qt)|(r -> Et)(r -> t)(T -> t)(r -> qt)|(r -> qt)(T -> t)(T -> qt)(r -> t)|(T -> t)(r -> qt)(r -> qt)(r -> qt)|(r -> qt)(r -> E)(r -> qt)(T -> qt)|(T -> t)(T -> qt)(T -> qt)(T -> t)|(r -> EEEt)(r -> E)(r -> EEEHt)(T -> qt)|(r -> Et)(T -> t)(T -> t)(r -> Et)|(T -> t)(r -> t)(r -> Ut)(r -> t)|(r -> Et)(r -> Et)(r -> EEt)(T -> qt)|(r -> qt)(T -> t)(r -> t)(r -> qt)|(T -> t)(T -> qt)(r -> Et)(r -> EEEEt)|(T -> qt)(T -> t)(T -> t)(T -> t)|(π -> t)(T -> t)(T -> t)(r -> EHt)|(r -> qt)(r -> t)(T -> t)(r -> t)|(r -> t)(T -> t)(π -> t)(T -> t)|(r -> qt)(T -> t)(T -> t)(T -> t)|(T -> t)(r -> Et)(T -> t)(r -> t)|(r -> t)(r -> qt)(r -> t)(r -> EEEEmt)|(T -> t)(T -> t)(r -> HHmqt)(r -> qt)|(r -> Et)(r -> EHmt)(r -> Hqt)(r -> EHHt)|(r -> qt)(r -> t)(r -> Et)(r -> qt)|(T -> t)(T -> t)(r -> Emt)(T -> qt)|(T -> qt)(r -> qt)(r -> t)(r -> E)|(T -> t)(r -> Et)(T -> t)(r -> qt)|(T -> qt)(T -> t)(r -> qt)(T -> t)|(r -> Et)(T -> t)(r -> EHUt)(p -> t)|(p -> t)(T -> t)(T -> t)(r -> t)|(p -> t)(r -> t)(T -> t)(r -> t)|(r -> EHHt)(r -> qt)(r -> qt)(r -> t)|(r -> qt)(T -> qt)(r -> qt)(r -> Et)|(r -> qt)(r -> qt)(r -> Et)(T -> t)|(T -> t)(T -> t)(r -> t)(p -> t)|(p -> t)(p -> t)(r -> t)(T -> t)|(p -> t)(r -> qt)(r -> qt)(r -> Et)|(r -> qt)(T -> Et)(T -> t)(r -> qt)|(T -> qt)(π -> t)(π -> t)(r -> EEt)|(T -> t)(T -> t)(p -> t)(p -> t)|(p -> t)(T -> t)(T -> t)(p -> t)|(T -> t)(π -> t)(T -> t)(p -> t)|(r -> Et)(r -> qt)(p -> t)(p -> t)|(p -> t)(p -> t)(r -> Hqt)(r -> EHHt)|(r -> Hqt)(r -> Et)(p -> t)(r -> Hqt)|(r -> Et)(r -> qt)(r -> Et)(T -> t)|(T -> t)(r -> t)(T -> t)(r -> t)|(T -> t)(T -> t)(T -> t)(π -> t)|(r -> EEt)(T -> t)(p -> t)(T -> t)|(r -> Hqt)(T -> qt)(p -> t)(r -> qt)|(r -> qt)(r -> qt)(p -> t)(ρ -> t)|(ρ -> t)(T -> t)(r -> t)')))  # Should output something like [11, 7, 35, 457]"
   ]
  },
  {
   "cell_type": "code",
   "execution_count": 13,
   "id": "98f513ff",
   "metadata": {
    "execution": {
     "iopub.execute_input": "2024-11-26T06:55:10.958503Z",
     "iopub.status.busy": "2024-11-26T06:55:10.958339Z",
     "iopub.status.idle": "2024-11-26T06:55:11.114811Z",
     "shell.execute_reply": "2024-11-26T06:55:11.114387Z"
    },
    "papermill": {
     "duration": 0.163124,
     "end_time": "2024-11-26T06:55:11.115662",
     "exception": false,
     "start_time": "2024-11-26T06:55:10.952538",
     "status": "completed"
    },
    "tags": []
   },
   "outputs": [],
   "source": [
    "if not torch.cuda.is_available():\n",
    "    print(\"Warning: this code may be very slow on CPU\")"
   ]
  },
  {
   "cell_type": "code",
   "execution_count": 14,
   "id": "ff6adea4",
   "metadata": {
    "execution": {
     "iopub.execute_input": "2024-11-26T06:55:11.129146Z",
     "iopub.status.busy": "2024-11-26T06:55:11.128500Z",
     "iopub.status.idle": "2024-11-26T06:55:11.134731Z",
     "shell.execute_reply": "2024-11-26T06:55:11.134379Z"
    },
    "papermill": {
     "duration": 0.013444,
     "end_time": "2024-11-26T06:55:11.135523",
     "exception": false,
     "start_time": "2024-11-26T06:55:11.122079",
     "status": "completed"
    },
    "tags": []
   },
   "outputs": [],
   "source": [
    "import torch\n",
    "import torch.nn as nn\n",
    "import re\n",
    "\n",
    "device = torch.device(\"cuda\" if torch.cuda.is_available() else \"cpu\")\n",
    "\n",
    "# Use the manual vocab creation process from earlier\n",
    "# Assuming `vocab` and `tokenizer` are already defined\n",
    "\n",
    "#text_pipeline = lambda x: [vocab[token] for token in tokenizer(x)]\n",
    "# Updated text pipeline\n",
    "text_pipeline = lambda x: [vocab.get(token, vocab[\"<unk>\"]) for token in tokenizer(x)]\n",
    "\n",
    "label_pipeline = lambda x: float(x)  # Convert to float to match the output\n",
    "\n",
    "# Batch collation function\n",
    "def collate_batch(batch):\n",
    "    label_list, text_list, lengths = [], [], []\n",
    "    for entry in batch:  # Each 'entry' is a dictionary with 'text' and 'label'\n",
    "        _label = entry['label']\n",
    "        _text = entry['text']\n",
    "\n",
    "        # Process labels and text\n",
    "        label_list.append(label_pipeline(_label))  # Convert labels using label_pipeline\n",
    "        processed_text = torch.tensor(text_pipeline(_text), dtype=torch.int64)  # Convert text to indices\n",
    "\n",
    "        # Store processed text and its length\n",
    "        text_list.append(processed_text)\n",
    "        lengths.append(processed_text.size(0))\n",
    "\n",
    "    # Convert lists to tensors and pad sequences\n",
    "    label_list = torch.tensor(label_list)\n",
    "    lengths = torch.tensor(lengths)\n",
    "    padded_text_list = nn.utils.rnn.pad_sequence(text_list, batch_first=True)\n",
    "\n",
    "    return padded_text_list.to(device), label_list.to(device), lengths.to(device)"
   ]
  },
  {
   "cell_type": "code",
   "execution_count": 15,
   "id": "b90db1e7",
   "metadata": {
    "execution": {
     "iopub.execute_input": "2024-11-26T06:55:11.147603Z",
     "iopub.status.busy": "2024-11-26T06:55:11.147317Z",
     "iopub.status.idle": "2024-11-26T06:55:11.521838Z",
     "shell.execute_reply": "2024-11-26T06:55:11.521352Z"
    },
    "papermill": {
     "duration": 0.381613,
     "end_time": "2024-11-26T06:55:11.522756",
     "exception": false,
     "start_time": "2024-11-26T06:55:11.141143",
     "status": "completed"
    },
    "tags": []
   },
   "outputs": [
    {
     "name": "stdout",
     "output_type": "stream",
     "text": [
      "Text batch: tensor([[  3,   3,  12,  ...,   0,   0,   0],\n",
      "        [  3,   3, 195,  ...,   0,   0,   0],\n",
      "        [ 22,  20, 104,  ...,   0,   0,   0],\n",
      "        [  5,  29,   8,  ..., 356,   5,   6]], device='cuda:0')\n",
      "Label batch: tensor([1., 0., 1., 0.], device='cuda:0')\n",
      "Length batch: tensor([ 31, 206, 181, 329], device='cuda:0')\n",
      "Text batch shape: torch.Size([4, 329])\n"
     ]
    }
   ],
   "source": [
    "#-----  Example usage with DataLoader -----#\n",
    "## Take a small batch\n",
    "\n",
    "dataloader = DataLoader(train_dataset, batch_size=4, shuffle=False, collate_fn=collate_batch)\n",
    "text_batch, label_batch, length_batch = next(iter(dataloader))\n",
    "\n",
    "# Print the output batch\n",
    "print(\"Text batch:\", text_batch)\n",
    "print(\"Label batch:\", label_batch)\n",
    "print(\"Length batch:\", length_batch)\n",
    "print(\"Text batch shape:\", text_batch.shape)"
   ]
  },
  {
   "cell_type": "code",
   "execution_count": 16,
   "id": "b953c39c",
   "metadata": {
    "execution": {
     "iopub.execute_input": "2024-11-26T06:55:11.536444Z",
     "iopub.status.busy": "2024-11-26T06:55:11.535802Z",
     "iopub.status.idle": "2024-11-26T06:55:11.539626Z",
     "shell.execute_reply": "2024-11-26T06:55:11.539284Z"
    },
    "papermill": {
     "duration": 0.011376,
     "end_time": "2024-11-26T06:55:11.540428",
     "exception": false,
     "start_time": "2024-11-26T06:55:11.529052",
     "status": "completed"
    },
    "tags": []
   },
   "outputs": [],
   "source": [
    "## Batching the datasets\n",
    "batch_size = 32\n",
    "\n",
    "train_dl = DataLoader(train_dataset, batch_size=batch_size,\n",
    "                      shuffle=True, collate_fn=collate_batch)\n",
    "val_dl = DataLoader(val_dataset, batch_size=batch_size,\n",
    "                      shuffle=False, collate_fn=collate_batch)\n",
    "test_dl = DataLoader(test_dataset, batch_size=batch_size,\n",
    "                     shuffle=False, collate_fn=collate_batch)"
   ]
  },
  {
   "cell_type": "code",
   "execution_count": 17,
   "id": "07d0cbe7",
   "metadata": {
    "execution": {
     "iopub.execute_input": "2024-11-26T06:55:11.552361Z",
     "iopub.status.busy": "2024-11-26T06:55:11.552086Z",
     "iopub.status.idle": "2024-11-26T06:55:11.577572Z",
     "shell.execute_reply": "2024-11-26T06:55:11.577183Z"
    },
    "papermill": {
     "duration": 0.032462,
     "end_time": "2024-11-26T06:55:11.578510",
     "exception": false,
     "start_time": "2024-11-26T06:55:11.546048",
     "status": "completed"
    },
    "tags": []
   },
   "outputs": [],
   "source": [
    "class RNN(nn.Module):\n",
    "    def __init__(self, vocab_size, embed_dim, rnn_hidden_size, fc_hidden_size):\n",
    "        super().__init__()\n",
    "        self.embedding = nn.Embedding(vocab_size,\n",
    "                                      embed_dim,\n",
    "                                      padding_idx=0)\n",
    "        self.rnn = nn.LSTM(embed_dim, rnn_hidden_size,\n",
    "                           batch_first=True)\n",
    "        self.fc1 = nn.Linear(rnn_hidden_size, fc_hidden_size)\n",
    "        self.relu = nn.ReLU()\n",
    "        self.fc2 = nn.Linear(fc_hidden_size, 1)\n",
    "        self.sigmoid = nn.Sigmoid()\n",
    "\n",
    "    def forward(self, text, lengths):\n",
    "        out = self.embedding(text)\n",
    "        out = nn.utils.rnn.pack_padded_sequence(out, lengths.cpu().numpy(), enforce_sorted=False, batch_first=True)\n",
    "        out, (hidden, cell) = self.rnn(out)\n",
    "        out = hidden[-1, :, :]\n",
    "        out = self.fc1(out)\n",
    "        out = self.relu(out)\n",
    "        out = self.fc2(out)\n",
    "        out = self.sigmoid(out)\n",
    "        return out\n",
    "\n",
    "vocab_size = len(vocab)\n",
    "embed_dim = 20\n",
    "rnn_hidden_size = 64\n",
    "fc_hidden_size = 64\n",
    "\n",
    "torch.manual_seed(1)\n",
    "model = RNN(vocab_size, embed_dim, rnn_hidden_size, fc_hidden_size)\n",
    "model = model.to(device)"
   ]
  },
  {
   "cell_type": "code",
   "execution_count": 18,
   "id": "3ab7cf46",
   "metadata": {
    "execution": {
     "iopub.execute_input": "2024-11-26T06:55:11.591421Z",
     "iopub.status.busy": "2024-11-26T06:55:11.590786Z",
     "iopub.status.idle": "2024-11-26T06:55:12.432977Z",
     "shell.execute_reply": "2024-11-26T06:55:12.432542Z"
    },
    "papermill": {
     "duration": 0.849572,
     "end_time": "2024-11-26T06:55:12.434070",
     "exception": false,
     "start_time": "2024-11-26T06:55:11.584498",
     "status": "completed"
    },
    "tags": []
   },
   "outputs": [],
   "source": [
    "loss_fn = nn.BCELoss()\n",
    "optimizer = torch.optim.Adam(model.parameters(), lr=0.001)"
   ]
  },
  {
   "cell_type": "code",
   "execution_count": 19,
   "id": "67165f54",
   "metadata": {
    "execution": {
     "iopub.execute_input": "2024-11-26T06:55:12.448221Z",
     "iopub.status.busy": "2024-11-26T06:55:12.447458Z",
     "iopub.status.idle": "2024-11-26T06:55:12.453399Z",
     "shell.execute_reply": "2024-11-26T06:55:12.453056Z"
    },
    "papermill": {
     "duration": 0.013501,
     "end_time": "2024-11-26T06:55:12.454195",
     "exception": false,
     "start_time": "2024-11-26T06:55:12.440694",
     "status": "completed"
    },
    "tags": []
   },
   "outputs": [],
   "source": [
    "def train(dataloader):\n",
    "    model.train()\n",
    "    total_acc, total_loss = 0, 0\n",
    "    for text_batch, label_batch, lengths in dataloader:  # Loop through batches in dataloader\n",
    "        optimizer.zero_grad()\n",
    "        pred = model(text_batch, lengths)[:, 0]\n",
    "        loss = loss_fn(pred, label_batch)\n",
    "        loss.backward()\n",
    "        optimizer.step()\n",
    "        total_acc += ((pred >= 0.5).float() == label_batch).float().sum().item()\n",
    "        total_loss += loss.item() * label_batch.size(0)\n",
    "    return total_acc / len(dataloader.dataset), total_loss / len(dataloader.dataset)\n",
    "\n",
    "def evaluate(dataloader):\n",
    "    model.eval()\n",
    "    total_acc, total_loss = 0, 0\n",
    "    with torch.no_grad():\n",
    "        for text_batch, label_batch, lengths in dataloader:  # Loop through batches in dataloader\n",
    "            pred = model(text_batch, lengths)[:, 0]\n",
    "            loss = loss_fn(pred, label_batch)\n",
    "            total_acc += ((pred >= 0.5).float() == label_batch).float().sum().item()\n",
    "            total_loss += loss.item() * label_batch.size(0)\n",
    "    return total_acc / len(dataloader.dataset), total_loss / len(dataloader.dataset)"
   ]
  },
  {
   "cell_type": "code",
   "execution_count": 20,
   "id": "5fdd3751",
   "metadata": {
    "execution": {
     "iopub.execute_input": "2024-11-26T06:55:12.466901Z",
     "iopub.status.busy": "2024-11-26T06:55:12.466624Z",
     "iopub.status.idle": "2024-11-26T07:53:12.365941Z",
     "shell.execute_reply": "2024-11-26T07:53:12.365493Z"
    },
    "papermill": {
     "duration": 3479.906697,
     "end_time": "2024-11-26T07:53:12.366848",
     "exception": false,
     "start_time": "2024-11-26T06:55:12.460151",
     "status": "completed"
    },
    "tags": []
   },
   "outputs": [
    {
     "name": "stdout",
     "output_type": "stream",
     "text": [
      "Epoch 1 - accuracy: 0.7749, val_accuracy: 0.7767\n"
     ]
    },
    {
     "name": "stdout",
     "output_type": "stream",
     "text": [
      "Epoch 2 - accuracy: 0.8170, val_accuracy: 0.8259\n"
     ]
    },
    {
     "name": "stdout",
     "output_type": "stream",
     "text": [
      "Epoch 3 - accuracy: 0.8295, val_accuracy: 0.8071\n"
     ]
    },
    {
     "name": "stdout",
     "output_type": "stream",
     "text": [
      "Epoch 4 - accuracy: 0.8433, val_accuracy: 0.8530\n"
     ]
    },
    {
     "name": "stdout",
     "output_type": "stream",
     "text": [
      "Epoch 5 - accuracy: 0.8586, val_accuracy: 0.8616\n"
     ]
    },
    {
     "name": "stdout",
     "output_type": "stream",
     "text": [
      "Epoch 6 - accuracy: 0.8644, val_accuracy: 0.8652\n"
     ]
    },
    {
     "name": "stdout",
     "output_type": "stream",
     "text": [
      "Epoch 7 - accuracy: 0.8650, val_accuracy: 0.8659\n"
     ]
    },
    {
     "name": "stdout",
     "output_type": "stream",
     "text": [
      "Epoch 8 - accuracy: 0.8703, val_accuracy: 0.8695\n"
     ]
    },
    {
     "name": "stdout",
     "output_type": "stream",
     "text": [
      "Epoch 9 - accuracy: 0.8743, val_accuracy: 0.8667\n"
     ]
    },
    {
     "name": "stdout",
     "output_type": "stream",
     "text": [
      "Epoch 10 - accuracy: 0.8758, val_accuracy: 0.8697\n"
     ]
    },
    {
     "name": "stdout",
     "output_type": "stream",
     "text": [
      "Epoch 11 - accuracy: 0.8781, val_accuracy: 0.8693\n"
     ]
    },
    {
     "name": "stdout",
     "output_type": "stream",
     "text": [
      "Epoch 12 - accuracy: 0.8697, val_accuracy: 0.8506\n"
     ]
    },
    {
     "name": "stdout",
     "output_type": "stream",
     "text": [
      "Epoch 13 - accuracy: 0.8556, val_accuracy: 0.8399\n"
     ]
    },
    {
     "name": "stdout",
     "output_type": "stream",
     "text": [
      "Epoch 14 - accuracy: 0.8630, val_accuracy: 0.8596\n"
     ]
    },
    {
     "name": "stdout",
     "output_type": "stream",
     "text": [
      "Epoch 15 - accuracy: 0.8704, val_accuracy: 0.8666\n"
     ]
    },
    {
     "name": "stdout",
     "output_type": "stream",
     "text": [
      "Epoch 16 - accuracy: 0.8745, val_accuracy: 0.8690\n"
     ]
    },
    {
     "name": "stdout",
     "output_type": "stream",
     "text": [
      "Epoch 17 - accuracy: 0.8809, val_accuracy: 0.8686\n"
     ]
    },
    {
     "name": "stdout",
     "output_type": "stream",
     "text": [
      "Epoch 18 - accuracy: 0.8845, val_accuracy: 0.8701\n"
     ]
    },
    {
     "name": "stdout",
     "output_type": "stream",
     "text": [
      "Epoch 19 - accuracy: 0.8857, val_accuracy: 0.8703\n"
     ]
    },
    {
     "name": "stdout",
     "output_type": "stream",
     "text": [
      "Epoch 20 - accuracy: 0.8873, val_accuracy: 0.8712\n"
     ]
    },
    {
     "name": "stdout",
     "output_type": "stream",
     "text": [
      "Epoch 21 - accuracy: 0.8889, val_accuracy: 0.8692\n"
     ]
    },
    {
     "name": "stdout",
     "output_type": "stream",
     "text": [
      "Epoch 22 - accuracy: 0.8914, val_accuracy: 0.8688\n"
     ]
    },
    {
     "name": "stdout",
     "output_type": "stream",
     "text": [
      "Epoch 23 - accuracy: 0.8928, val_accuracy: 0.8674\n"
     ]
    },
    {
     "name": "stdout",
     "output_type": "stream",
     "text": [
      "Epoch 24 - accuracy: 0.8951, val_accuracy: 0.8700\n"
     ]
    },
    {
     "name": "stdout",
     "output_type": "stream",
     "text": [
      "Epoch 25 - accuracy: 0.8964, val_accuracy: 0.8659\n"
     ]
    },
    {
     "name": "stdout",
     "output_type": "stream",
     "text": [
      "Epoch 26 - accuracy: 0.8985, val_accuracy: 0.8672\n"
     ]
    },
    {
     "name": "stdout",
     "output_type": "stream",
     "text": [
      "Epoch 27 - accuracy: 0.9020, val_accuracy: 0.8645\n"
     ]
    },
    {
     "name": "stdout",
     "output_type": "stream",
     "text": [
      "Epoch 28 - accuracy: 0.9028, val_accuracy: 0.8643\n"
     ]
    },
    {
     "name": "stdout",
     "output_type": "stream",
     "text": [
      "Epoch 29 - accuracy: 0.9050, val_accuracy: 0.8651\n"
     ]
    },
    {
     "name": "stdout",
     "output_type": "stream",
     "text": [
      "Epoch 30 - accuracy: 0.9075, val_accuracy: 0.8634\n"
     ]
    },
    {
     "name": "stdout",
     "output_type": "stream",
     "text": [
      "Epoch 31 - accuracy: 0.9096, val_accuracy: 0.8642\n"
     ]
    },
    {
     "name": "stdout",
     "output_type": "stream",
     "text": [
      "Epoch 32 - accuracy: 0.9123, val_accuracy: 0.8583\n"
     ]
    },
    {
     "name": "stdout",
     "output_type": "stream",
     "text": [
      "Epoch 33 - accuracy: 0.9139, val_accuracy: 0.8601\n"
     ]
    },
    {
     "name": "stdout",
     "output_type": "stream",
     "text": [
      "Epoch 34 - accuracy: 0.9159, val_accuracy: 0.8609\n"
     ]
    },
    {
     "name": "stdout",
     "output_type": "stream",
     "text": [
      "Epoch 35 - accuracy: 0.9181, val_accuracy: 0.8602\n"
     ]
    },
    {
     "name": "stdout",
     "output_type": "stream",
     "text": [
      "Epoch 36 - accuracy: 0.9204, val_accuracy: 0.8567\n"
     ]
    },
    {
     "name": "stdout",
     "output_type": "stream",
     "text": [
      "Epoch 37 - accuracy: 0.9242, val_accuracy: 0.8629\n"
     ]
    },
    {
     "name": "stdout",
     "output_type": "stream",
     "text": [
      "Epoch 38 - accuracy: 0.9258, val_accuracy: 0.8592\n"
     ]
    },
    {
     "name": "stdout",
     "output_type": "stream",
     "text": [
      "Epoch 39 - accuracy: 0.9273, val_accuracy: 0.8551\n"
     ]
    },
    {
     "name": "stdout",
     "output_type": "stream",
     "text": [
      "Epoch 40 - accuracy: 0.9298, val_accuracy: 0.8539\n"
     ]
    },
    {
     "name": "stdout",
     "output_type": "stream",
     "text": [
      "Epoch 41 - accuracy: 0.9332, val_accuracy: 0.8577\n"
     ]
    },
    {
     "name": "stdout",
     "output_type": "stream",
     "text": [
      "Epoch 42 - accuracy: 0.9344, val_accuracy: 0.8506\n"
     ]
    },
    {
     "name": "stdout",
     "output_type": "stream",
     "text": [
      "Epoch 43 - accuracy: 0.9358, val_accuracy: 0.8568\n"
     ]
    },
    {
     "name": "stdout",
     "output_type": "stream",
     "text": [
      "Epoch 44 - accuracy: 0.9388, val_accuracy: 0.8518\n"
     ]
    },
    {
     "name": "stdout",
     "output_type": "stream",
     "text": [
      "Epoch 45 - accuracy: 0.9411, val_accuracy: 0.8533\n"
     ]
    },
    {
     "name": "stdout",
     "output_type": "stream",
     "text": [
      "Epoch 46 - accuracy: 0.9427, val_accuracy: 0.8535\n"
     ]
    },
    {
     "name": "stdout",
     "output_type": "stream",
     "text": [
      "Epoch 47 - accuracy: 0.9436, val_accuracy: 0.8456\n"
     ]
    },
    {
     "name": "stdout",
     "output_type": "stream",
     "text": [
      "Epoch 48 - accuracy: 0.9450, val_accuracy: 0.8506\n"
     ]
    },
    {
     "name": "stdout",
     "output_type": "stream",
     "text": [
      "Epoch 49 - accuracy: 0.9468, val_accuracy: 0.8530\n"
     ]
    },
    {
     "name": "stdout",
     "output_type": "stream",
     "text": [
      "Epoch 50 - accuracy: 0.9488, val_accuracy: 0.8455\n"
     ]
    },
    {
     "name": "stdout",
     "output_type": "stream",
     "text": [
      "Epoch 51 - accuracy: 0.9485, val_accuracy: 0.8465\n"
     ]
    },
    {
     "name": "stdout",
     "output_type": "stream",
     "text": [
      "Epoch 52 - accuracy: 0.9484, val_accuracy: 0.8395\n"
     ]
    },
    {
     "name": "stdout",
     "output_type": "stream",
     "text": [
      "Epoch 53 - accuracy: 0.9514, val_accuracy: 0.8453\n"
     ]
    },
    {
     "name": "stdout",
     "output_type": "stream",
     "text": [
      "Epoch 54 - accuracy: 0.9525, val_accuracy: 0.8432\n"
     ]
    },
    {
     "name": "stdout",
     "output_type": "stream",
     "text": [
      "Epoch 55 - accuracy: 0.9525, val_accuracy: 0.8468\n"
     ]
    },
    {
     "name": "stdout",
     "output_type": "stream",
     "text": [
      "Epoch 56 - accuracy: 0.9501, val_accuracy: 0.8433\n"
     ]
    },
    {
     "name": "stdout",
     "output_type": "stream",
     "text": [
      "Epoch 57 - accuracy: 0.9555, val_accuracy: 0.8446\n"
     ]
    },
    {
     "name": "stdout",
     "output_type": "stream",
     "text": [
      "Epoch 58 - accuracy: 0.9559, val_accuracy: 0.8445\n"
     ]
    },
    {
     "name": "stdout",
     "output_type": "stream",
     "text": [
      "Epoch 59 - accuracy: 0.9566, val_accuracy: 0.8468\n"
     ]
    },
    {
     "name": "stdout",
     "output_type": "stream",
     "text": [
      "Epoch 60 - accuracy: 0.9551, val_accuracy: 0.8393\n"
     ]
    },
    {
     "name": "stdout",
     "output_type": "stream",
     "text": [
      "Epoch 61 - accuracy: 0.9098, val_accuracy: 0.8454\n"
     ]
    },
    {
     "name": "stdout",
     "output_type": "stream",
     "text": [
      "Epoch 62 - accuracy: 0.9285, val_accuracy: 0.8465\n"
     ]
    },
    {
     "name": "stdout",
     "output_type": "stream",
     "text": [
      "Epoch 63 - accuracy: 0.9421, val_accuracy: 0.8461\n"
     ]
    },
    {
     "name": "stdout",
     "output_type": "stream",
     "text": [
      "Epoch 64 - accuracy: 0.9464, val_accuracy: 0.8473\n"
     ]
    },
    {
     "name": "stdout",
     "output_type": "stream",
     "text": [
      "Epoch 65 - accuracy: 0.9417, val_accuracy: 0.8445\n"
     ]
    },
    {
     "name": "stdout",
     "output_type": "stream",
     "text": [
      "Epoch 66 - accuracy: 0.9436, val_accuracy: 0.8445\n"
     ]
    },
    {
     "name": "stdout",
     "output_type": "stream",
     "text": [
      "Epoch 67 - accuracy: 0.9467, val_accuracy: 0.8452\n"
     ]
    },
    {
     "name": "stdout",
     "output_type": "stream",
     "text": [
      "Epoch 68 - accuracy: 0.9460, val_accuracy: 0.8449\n"
     ]
    },
    {
     "name": "stdout",
     "output_type": "stream",
     "text": [
      "Epoch 69 - accuracy: 0.9525, val_accuracy: 0.8417\n"
     ]
    },
    {
     "name": "stdout",
     "output_type": "stream",
     "text": [
      "Epoch 70 - accuracy: 0.9546, val_accuracy: 0.8446\n"
     ]
    },
    {
     "name": "stdout",
     "output_type": "stream",
     "text": [
      "Epoch 71 - accuracy: 0.9560, val_accuracy: 0.8453\n"
     ]
    },
    {
     "name": "stdout",
     "output_type": "stream",
     "text": [
      "Epoch 72 - accuracy: 0.9582, val_accuracy: 0.8419\n"
     ]
    },
    {
     "name": "stdout",
     "output_type": "stream",
     "text": [
      "Epoch 73 - accuracy: 0.9571, val_accuracy: 0.8441\n"
     ]
    },
    {
     "name": "stdout",
     "output_type": "stream",
     "text": [
      "Epoch 74 - accuracy: 0.9581, val_accuracy: 0.8461\n"
     ]
    },
    {
     "name": "stdout",
     "output_type": "stream",
     "text": [
      "Epoch 75 - accuracy: 0.9583, val_accuracy: 0.8467\n"
     ]
    },
    {
     "name": "stdout",
     "output_type": "stream",
     "text": [
      "Epoch 76 - accuracy: 0.9615, val_accuracy: 0.8354\n"
     ]
    },
    {
     "name": "stdout",
     "output_type": "stream",
     "text": [
      "Epoch 77 - accuracy: 0.9616, val_accuracy: 0.8442\n"
     ]
    },
    {
     "name": "stdout",
     "output_type": "stream",
     "text": [
      "Epoch 78 - accuracy: 0.9647, val_accuracy: 0.8442\n"
     ]
    },
    {
     "name": "stdout",
     "output_type": "stream",
     "text": [
      "Epoch 79 - accuracy: 0.9648, val_accuracy: 0.8432\n"
     ]
    },
    {
     "name": "stdout",
     "output_type": "stream",
     "text": [
      "Epoch 80 - accuracy: 0.9661, val_accuracy: 0.8401\n"
     ]
    },
    {
     "name": "stdout",
     "output_type": "stream",
     "text": [
      "Epoch 81 - accuracy: 0.9655, val_accuracy: 0.8433\n"
     ]
    },
    {
     "name": "stdout",
     "output_type": "stream",
     "text": [
      "Epoch 82 - accuracy: 0.9661, val_accuracy: 0.8421\n"
     ]
    },
    {
     "name": "stdout",
     "output_type": "stream",
     "text": [
      "Epoch 83 - accuracy: 0.9666, val_accuracy: 0.8458\n"
     ]
    },
    {
     "name": "stdout",
     "output_type": "stream",
     "text": [
      "Epoch 84 - accuracy: 0.9670, val_accuracy: 0.8397\n"
     ]
    },
    {
     "name": "stdout",
     "output_type": "stream",
     "text": [
      "Epoch 85 - accuracy: 0.9665, val_accuracy: 0.8440\n"
     ]
    },
    {
     "name": "stdout",
     "output_type": "stream",
     "text": [
      "Epoch 86 - accuracy: 0.9672, val_accuracy: 0.8390\n"
     ]
    },
    {
     "name": "stdout",
     "output_type": "stream",
     "text": [
      "Epoch 87 - accuracy: 0.9712, val_accuracy: 0.8460\n"
     ]
    },
    {
     "name": "stdout",
     "output_type": "stream",
     "text": [
      "Epoch 88 - accuracy: 0.9704, val_accuracy: 0.8403\n"
     ]
    },
    {
     "name": "stdout",
     "output_type": "stream",
     "text": [
      "Epoch 89 - accuracy: 0.9661, val_accuracy: 0.8413\n"
     ]
    },
    {
     "name": "stdout",
     "output_type": "stream",
     "text": [
      "Epoch 90 - accuracy: 0.9701, val_accuracy: 0.8428\n"
     ]
    },
    {
     "name": "stdout",
     "output_type": "stream",
     "text": [
      "Epoch 91 - accuracy: 0.9691, val_accuracy: 0.8434\n"
     ]
    },
    {
     "name": "stdout",
     "output_type": "stream",
     "text": [
      "Epoch 92 - accuracy: 0.9699, val_accuracy: 0.8405\n"
     ]
    },
    {
     "name": "stdout",
     "output_type": "stream",
     "text": [
      "Epoch 93 - accuracy: 0.9698, val_accuracy: 0.8409\n"
     ]
    },
    {
     "name": "stdout",
     "output_type": "stream",
     "text": [
      "Epoch 94 - accuracy: 0.9714, val_accuracy: 0.8448\n"
     ]
    },
    {
     "name": "stdout",
     "output_type": "stream",
     "text": [
      "Epoch 95 - accuracy: 0.9706, val_accuracy: 0.8391\n"
     ]
    },
    {
     "name": "stdout",
     "output_type": "stream",
     "text": [
      "Epoch 96 - accuracy: 0.9702, val_accuracy: 0.8394\n"
     ]
    },
    {
     "name": "stdout",
     "output_type": "stream",
     "text": [
      "Epoch 97 - accuracy: 0.9706, val_accuracy: 0.8389\n"
     ]
    },
    {
     "name": "stdout",
     "output_type": "stream",
     "text": [
      "Epoch 98 - accuracy: 0.9720, val_accuracy: 0.8392\n"
     ]
    },
    {
     "name": "stdout",
     "output_type": "stream",
     "text": [
      "Epoch 99 - accuracy: 0.9721, val_accuracy: 0.8416\n"
     ]
    },
    {
     "name": "stdout",
     "output_type": "stream",
     "text": [
      "Epoch 100 - accuracy: 0.9720, val_accuracy: 0.8390\n"
     ]
    },
    {
     "data": {
      "image/png": "[encoded data removed]",
      "text/plain": [
       "<Figure size 1400x500 with 2 Axes>"
      ]
     },
     "metadata": {},
     "output_type": "display_data"
    }
   ],
   "source": [
    "import torch\n",
    "import matplotlib.pyplot as plt\n",
    "import seaborn as sns\n",
    "from sklearn.metrics import confusion_matrix\n",
    "import numpy as np\n",
    "\n",
    "# Initialize lists to store training and validation metrics for each epoch\n",
    "train_accuracies = []\n",
    "train_losses = []\n",
    "valid_accuracies = []\n",
    "valid_losses = []\n",
    "\n",
    "num_epochs = 100\n",
    "torch.manual_seed(1)\n",
    "\n",
    "# Training loop with metrics storage\n",
    "for epoch in range(num_epochs):\n",
    "    acc_train, loss_train = train(train_dl)\n",
    "    acc_valid, loss_valid = evaluate(val_dl)\n",
    "    \n",
    "    # Store metrics\n",
    "    train_accuracies.append(acc_train)\n",
    "    train_losses.append(loss_train)\n",
    "    valid_accuracies.append(acc_valid)\n",
    "    valid_losses.append(loss_valid)\n",
    "\n",
    "    print(f'Epoch {epoch + 1} - accuracy: {acc_train:.4f}, val_accuracy: {acc_valid:.4f}')\n",
    "\n",
    "# Plotting training and validation losses\n",
    "plt.figure(figsize=(14, 5))\n",
    "\n",
    "plt.subplot(1, 2, 1)\n",
    "plt.plot(range(1, num_epochs + 1), train_losses, label='Training Loss')\n",
    "plt.plot(range(1, num_epochs + 1), valid_losses, label='Validation Loss')\n",
    "plt.xlabel('Epoch')\n",
    "plt.ylabel('Loss')\n",
    "plt.title('Training and Validation Loss')\n",
    "plt.legend()\n",
    "\n",
    "# Plotting training and validation accuracies\n",
    "plt.subplot(1, 2, 2)\n",
    "plt.plot(range(1, num_epochs + 1), train_accuracies, label='Training Accuracy')\n",
    "plt.plot(range(1, num_epochs + 1), valid_accuracies, label='Validation Accuracy')\n",
    "plt.xlabel('Epoch')\n",
    "plt.ylabel('Accuracy')\n",
    "plt.title('Training and Validation Accuracy')\n",
    "plt.legend()\n",
    "\n",
    "plt.show()"
   ]
  },
  {
   "cell_type": "code",
   "execution_count": 21,
   "id": "9daa56af",
   "metadata": {
    "execution": {
     "iopub.execute_input": "2024-11-26T07:53:12.389287Z",
     "iopub.status.busy": "2024-11-26T07:53:12.388868Z",
     "iopub.status.idle": "2024-11-26T07:53:16.771485Z",
     "shell.execute_reply": "2024-11-26T07:53:16.771088Z"
    },
    "papermill": {
     "duration": 4.394615,
     "end_time": "2024-11-26T07:53:16.772376",
     "exception": false,
     "start_time": "2024-11-26T07:53:12.377761",
     "status": "completed"
    },
    "tags": []
   },
   "outputs": [
    {
     "name": "stdout",
     "output_type": "stream",
     "text": [
      "test_accuracy: 0.8421\n"
     ]
    }
   ],
   "source": [
    "acc_test, _ = evaluate(test_dl)\n",
    "print(f'test_accuracy: {acc_test:.4f}')"
   ]
  },
  {
   "cell_type": "code",
   "execution_count": 22,
   "id": "717a153c",
   "metadata": {
    "execution": {
     "iopub.execute_input": "2024-11-26T07:53:16.795127Z",
     "iopub.status.busy": "2024-11-26T07:53:16.794760Z",
     "iopub.status.idle": "2024-11-26T07:53:43.980390Z",
     "shell.execute_reply": "2024-11-26T07:53:43.979686Z"
    },
    "papermill": {
     "duration": 27.198336,
     "end_time": "2024-11-26T07:53:43.981694",
     "exception": false,
     "start_time": "2024-11-26T07:53:16.783358",
     "status": "completed"
    },
    "tags": []
   },
   "outputs": [
    {
     "name": "stdout",
     "output_type": "stream",
     "text": [
      "Results saved to predictions.csv\n"
     ]
    }
   ],
   "source": [
    "import pandas as pd\n",
    "import torch\n",
    "import random\n",
    "\n",
    "# Function to preprocess and predict a single account\n",
    "def predict_comment(text, model, vocab):\n",
    "    model.eval()\n",
    "    # Tokenize and encode the input text using the same tokenizer and vocab as used during training\n",
    "    tokens = tokenizer(text)\n",
    "    encoded_text = [vocab.get(token, vocab[\"<unk>\"]) for token in tokens]\n",
    "\n",
    "    # Convert the tokens to tensor and add batch dimension\n",
    "    text_tensor = torch.tensor(encoded_text).unsqueeze(0).to(device)  # Add batch dimension\n",
    "    lengths_tensor = torch.tensor([len(encoded_text)]).to(device)\n",
    "\n",
    "    with torch.no_grad():\n",
    "        prediction = model(text_tensor, lengths_tensor)[:, 0]\n",
    "\n",
    "    # Apply threshold of 0.5 for binary classification\n",
    "    prediction_label = 1 if prediction >= 0.5 else 0\n",
    "    return prediction.item(), prediction_label\n",
    "\n",
    "# List to store prediction results\n",
    "results = []\n",
    "\n",
    "# Iterate over all samples in the test dataset\n",
    "for sample in test_dataset:\n",
    "    account_string = sample['text']\n",
    "    true_label = sample['label']\n",
    "    predicted_value, predicted_label = predict_comment(account_string, model, vocab)\n",
    "\n",
    "    # Append the data for each comment\n",
    "    results.append({\n",
    "        \"comment\": account_string,\n",
    "        \"true_label\": true_label,\n",
    "        \"predicted_value\": predicted_value,\n",
    "        \"predicted_label\": predicted_label\n",
    "    })\n",
    "\n",
    "# Convert results list to a DataFrame\n",
    "results_df = pd.DataFrame(results)\n",
    "\n",
    "# Save the results DataFrame to a CSV file\n",
    "#given the path from job\n",
    "results_df.to_csv(\"./rnn/only_action_method/results/predictions-both.csv\", index=False)\n",
    "\n",
    "print(\"Results saved to predictions.csv\")"
   ]
  },
  {
   "cell_type": "code",
   "execution_count": 23,
   "id": "e9b17901",
   "metadata": {
    "execution": {
     "iopub.execute_input": "2024-11-26T07:53:44.008044Z",
     "iopub.status.busy": "2024-11-26T07:53:44.007833Z",
     "iopub.status.idle": "2024-11-26T07:54:11.222358Z",
     "shell.execute_reply": "2024-11-26T07:54:11.221964Z"
    },
    "papermill": {
     "duration": 27.227187,
     "end_time": "2024-11-26T07:54:11.223256",
     "exception": false,
     "start_time": "2024-11-26T07:53:43.996069",
     "status": "completed"
    },
    "tags": []
   },
   "outputs": [
    {
     "data": {
      "image/png": "[encoded data removed]",
      "text/plain": [
       "<Figure size 800x600 with 2 Axes>"
      ]
     },
     "metadata": {},
     "output_type": "display_data"
    }
   ],
   "source": [
    "# Confusion matrix on the validation set\n",
    "all_preds = []\n",
    "all_labels = []\n",
    "\n",
    "# Collect predictions and true labels from the validation set\n",
    "for sample in test_dataset:\n",
    "    account_string = sample['text']\n",
    "    true_label = sample['label']\n",
    "    predicted_value, predicted_label = predict_comment(account_string, model, vocab)  # Adjust if predict_comment takes a batch\n",
    "    all_preds.append(predicted_label)\n",
    "    all_labels.append(true_label)\n",
    "\n",
    "# Compute confusion matrix\n",
    "conf_matrix = confusion_matrix(all_labels, all_preds)\n",
    "\n",
    "# Plot confusion matrix\n",
    "plt.figure(figsize=(8, 6))\n",
    "sns.heatmap(conf_matrix, annot=True, fmt='d', cmap='Blues', xticklabels=['Negative', 'Positive'], yticklabels=['Negative', 'Positive'])\n",
    "plt.xlabel('Predicted Labels')\n",
    "plt.ylabel('True Labels')\n",
    "plt.title('Confusion Matrix')\n",
    "plt.show()"
   ]
  },
  {
   "cell_type": "code",
   "execution_count": 24,
   "id": "f303e85a",
   "metadata": {
    "execution": {
     "iopub.execute_input": "2024-11-26T07:54:11.247044Z",
     "iopub.status.busy": "2024-11-26T07:54:11.246860Z",
     "iopub.status.idle": "2024-11-26T07:54:11.310095Z",
     "shell.execute_reply": "2024-11-26T07:54:11.309702Z"
    },
    "papermill": {
     "duration": 0.075772,
     "end_time": "2024-11-26T07:54:11.310969",
     "exception": false,
     "start_time": "2024-11-26T07:54:11.235197",
     "status": "completed"
    },
    "tags": []
   },
   "outputs": [
    {
     "data": {
      "text/plain": [
       "(11767, 4)"
      ]
     },
     "execution_count": 24,
     "metadata": {},
     "output_type": "execute_result"
    }
   ],
   "source": [
    "#given the path from job\n",
    "results_df[results_df['true_label'] != results_df['predicted_label']].to_csv(\"./rnn/only_action_method/results/mismatches-both.csv\")\n",
    "results_df.shape"
   ]
  }
 ],
 "metadata": {
  "kernelspec": {
   "display_name": ".venv",
   "language": "python",
   "name": "python3"
  },
  "language_info": {
   "codemirror_mode": {
    "name": "ipython",
    "version": 3
   },
   "file_extension": ".py",
   "mimetype": "text/x-python",
   "name": "python",
   "nbconvert_exporter": "python",
   "pygments_lexer": "ipython3",
   "version": "3.9.16"
  },
  "papermill": {
   "default_parameters": {},
   "duration": 3558.526554,
   "end_time": "2024-11-26T07:54:13.255657",
   "environment_variables": {},
   "exception": null,
   "input_path": "./rnn/only_action_method/rnn.ipynb",
   "output_path": "./rnn/only_action_method/notebooks/output_notebook_v5(100 epoch).ipynb",
   "parameters": {},
   "start_time": "2024-11-26T06:54:54.729103",
   "version": "2.6.0"
  }
 },
 "nbformat": 4,
 "nbformat_minor": 5
}