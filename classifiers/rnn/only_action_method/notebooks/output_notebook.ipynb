{
 "cells": [
  {
   "cell_type": "markdown",
   "id": "03d2a8f6",
   "metadata": {
    "tags": [
     "papermill-error-cell-tag"
    ]
   },
   "source": [
    "<span style=\"color:red; font-family:Helvetica Neue, Helvetica, Arial, sans-serif; font-size:2em;\">An Exception was encountered at '<a href=\"#papermill-error-cell\">In [21]</a>'.</span>"
   ]
  },
  {
   "cell_type": "code",
   "execution_count": 1,
   "id": "32e92ab5",
   "metadata": {
    "execution": {
     "iopub.execute_input": "2024-11-06T22:35:23.030676Z",
     "iopub.status.busy": "2024-11-06T22:35:23.030198Z",
     "iopub.status.idle": "2024-11-06T22:35:24.619822Z",
     "shell.execute_reply": "2024-11-06T22:35:24.618166Z"
    },
    "papermill": {
     "duration": 1.607928,
     "end_time": "2024-11-06T22:35:24.623652",
     "exception": false,
     "start_time": "2024-11-06T22:35:23.015724",
     "status": "completed"
    },
    "tags": []
   },
   "outputs": [
    {
     "name": "stdout",
     "output_type": "stream",
     "text": [
      "Requirement already satisfied: torch in /sciclone/data10/iahewababarand/.venv/lib/python3.9/site-packages (2.5.1)\r\n",
      "Requirement already satisfied: filelock in /sciclone/data10/iahewababarand/.venv/lib/python3.9/site-packages (from torch) (3.16.1)\r\n",
      "Requirement already satisfied: typing-extensions>=4.8.0 in /sciclone/data10/iahewababarand/.venv/lib/python3.9/site-packages (from torch) (4.12.2)\r\n",
      "Requirement already satisfied: networkx in /sciclone/data10/iahewababarand/.venv/lib/python3.9/site-packages (from torch) (3.2.1)\r\n",
      "Requirement already satisfied: jinja2 in /sciclone/data10/iahewababarand/.venv/lib/python3.9/site-packages (from torch) (3.1.4)\r\n",
      "Requirement already satisfied: fsspec in /sciclone/data10/iahewababarand/.venv/lib/python3.9/site-packages (from torch) (2024.9.0)\r\n",
      "Requirement already satisfied: nvidia-cuda-nvrtc-cu12==12.4.127 in /sciclone/data10/iahewababarand/.venv/lib/python3.9/site-packages (from torch) (12.4.127)\r\n",
      "Requirement already satisfied: nvidia-cuda-runtime-cu12==12.4.127 in /sciclone/data10/iahewababarand/.venv/lib/python3.9/site-packages (from torch) (12.4.127)\r\n",
      "Requirement already satisfied: nvidia-cuda-cupti-cu12==12.4.127 in /sciclone/data10/iahewababarand/.venv/lib/python3.9/site-packages (from torch) (12.4.127)\r\n",
      "Requirement already satisfied: nvidia-cudnn-cu12==9.1.0.70 in /sciclone/data10/iahewababarand/.venv/lib/python3.9/site-packages (from torch) (9.1.0.70)\r\n",
      "Requirement already satisfied: nvidia-cublas-cu12==12.4.5.8 in /sciclone/data10/iahewababarand/.venv/lib/python3.9/site-packages (from torch) (12.4.5.8)\r\n",
      "Requirement already satisfied: nvidia-cufft-cu12==11.2.1.3 in /sciclone/data10/iahewababarand/.venv/lib/python3.9/site-packages (from torch) (11.2.1.3)\r\n",
      "Requirement already satisfied: nvidia-curand-cu12==10.3.5.147 in /sciclone/data10/iahewababarand/.venv/lib/python3.9/site-packages (from torch) (10.3.5.147)\r\n",
      "Requirement already satisfied: nvidia-cusolver-cu12==11.6.1.9 in /sciclone/data10/iahewababarand/.venv/lib/python3.9/site-packages (from torch) (11.6.1.9)\r\n",
      "Requirement already satisfied: nvidia-cusparse-cu12==12.3.1.170 in /sciclone/data10/iahewababarand/.venv/lib/python3.9/site-packages (from torch) (12.3.1.170)\r\n",
      "Requirement already satisfied: nvidia-nccl-cu12==2.21.5 in /sciclone/data10/iahewababarand/.venv/lib/python3.9/site-packages (from torch) (2.21.5)\r\n",
      "Requirement already satisfied: nvidia-nvtx-cu12==12.4.127 in /sciclone/data10/iahewababarand/.venv/lib/python3.9/site-packages (from torch) (12.4.127)\r\n",
      "Requirement already satisfied: nvidia-nvjitlink-cu12==12.4.127 in /sciclone/data10/iahewababarand/.venv/lib/python3.9/site-packages (from torch) (12.4.127)\r\n",
      "Requirement already satisfied: triton==3.1.0 in /sciclone/data10/iahewababarand/.venv/lib/python3.9/site-packages (from torch) (3.1.0)\r\n",
      "Requirement already satisfied: sympy==1.13.1 in /sciclone/data10/iahewababarand/.venv/lib/python3.9/site-packages (from torch) (1.13.1)\r\n"
     ]
    },
    {
     "name": "stdout",
     "output_type": "stream",
     "text": [
      "Requirement already satisfied: mpmath<1.4,>=1.1.0 in /sciclone/data10/iahewababarand/.venv/lib/python3.9/site-packages (from sympy==1.13.1->torch) (1.3.0)\r\n"
     ]
    },
    {
     "name": "stdout",
     "output_type": "stream",
     "text": [
      "Requirement already satisfied: MarkupSafe>=2.0 in /sciclone/data10/iahewababarand/.venv/lib/python3.9/site-packages (from jinja2->torch) (3.0.2)\r\n"
     ]
    },
    {
     "name": "stdout",
     "output_type": "stream",
     "text": [
      "Note: you may need to restart the kernel to use updated packages.\n"
     ]
    }
   ],
   "source": [
    "pip install torch"
   ]
  },
  {
   "cell_type": "code",
   "execution_count": 2,
   "id": "32f63c00",
   "metadata": {
    "execution": {
     "iopub.execute_input": "2024-11-06T22:35:24.645611Z",
     "iopub.status.busy": "2024-11-06T22:35:24.645285Z",
     "iopub.status.idle": "2024-11-06T22:35:28.638617Z",
     "shell.execute_reply": "2024-11-06T22:35:28.637901Z"
    },
    "papermill": {
     "duration": 4.004249,
     "end_time": "2024-11-06T22:35:28.640351",
     "exception": false,
     "start_time": "2024-11-06T22:35:24.636102",
     "status": "completed"
    },
    "tags": []
   },
   "outputs": [],
   "source": [
    "import torch\n",
    "import torch.nn as nn\n",
    "import pandas as pd\n",
    "import json\n",
    "from torch.utils.data import TensorDataset, DataLoader, random_split"
   ]
  },
  {
   "cell_type": "code",
   "execution_count": 3,
   "id": "a30d09d0",
   "metadata": {
    "execution": {
     "iopub.execute_input": "2024-11-06T22:35:28.654596Z",
     "iopub.status.busy": "2024-11-06T22:35:28.653751Z",
     "iopub.status.idle": "2024-11-06T22:35:28.657737Z",
     "shell.execute_reply": "2024-11-06T22:35:28.657296Z"
    },
    "papermill": {
     "duration": 0.012112,
     "end_time": "2024-11-06T22:35:28.658735",
     "exception": false,
     "start_time": "2024-11-06T22:35:28.646623",
     "status": "completed"
    },
    "tags": []
   },
   "outputs": [],
   "source": [
    "def get_data(filename):\n",
    "    \n",
    "    with open(filename, 'r', encoding='utf-8') as file:\n",
    "        data = json.load(file)\n",
    "\n",
    "    df = pd.DataFrame(data)\n",
    "    return df"
   ]
  },
  {
   "cell_type": "code",
   "execution_count": 4,
   "id": "4b9b7186",
   "metadata": {
    "execution": {
     "iopub.execute_input": "2024-11-06T22:35:28.669406Z",
     "iopub.status.busy": "2024-11-06T22:35:28.669068Z",
     "iopub.status.idle": "2024-11-06T22:35:29.442923Z",
     "shell.execute_reply": "2024-11-06T22:35:29.441772Z"
    },
    "papermill": {
     "duration": 0.780772,
     "end_time": "2024-11-06T22:35:29.444283",
     "exception": false,
     "start_time": "2024-11-06T22:35:28.663511",
     "status": "completed"
    },
    "tags": []
   },
   "outputs": [],
   "source": [
    "data = get_data('output_file.json')"
   ]
  },
  {
   "cell_type": "code",
   "execution_count": 5,
   "id": "527be9e2",
   "metadata": {
    "execution": {
     "iopub.execute_input": "2024-11-06T22:35:29.456580Z",
     "iopub.status.busy": "2024-11-06T22:35:29.455777Z",
     "iopub.status.idle": "2024-11-06T22:35:29.470904Z",
     "shell.execute_reply": "2024-11-06T22:35:29.469615Z"
    },
    "papermill": {
     "duration": 0.022061,
     "end_time": "2024-11-06T22:35:29.471879",
     "exception": false,
     "start_time": "2024-11-06T22:35:29.449818",
     "status": "completed"
    },
    "tags": []
   },
   "outputs": [
    {
     "data": {
      "text/html": [
       "<div>\n",
       "<style scoped>\n",
       "    .dataframe tbody tr th:only-of-type {\n",
       "        vertical-align: middle;\n",
       "    }\n",
       "\n",
       "    .dataframe tbody tr th {\n",
       "        vertical-align: top;\n",
       "    }\n",
       "\n",
       "    .dataframe thead th {\n",
       "        text-align: right;\n",
       "    }\n",
       "</style>\n",
       "<table border=\"1\" class=\"dataframe\">\n",
       "  <thead>\n",
       "    <tr style=\"text-align: right;\">\n",
       "      <th></th>\n",
       "      <th>action_string</th>\n",
       "      <th>content_string</th>\n",
       "      <th>user_id</th>\n",
       "      <th>useraccount</th>\n",
       "      <th>user_class</th>\n",
       "      <th>src</th>\n",
       "      <th>tweet_count</th>\n",
       "    </tr>\n",
       "  </thead>\n",
       "  <tbody>\n",
       "    <tr>\n",
       "      <th>0</th>\n",
       "      <td>rp|rp|⚀pr|□pr|rp|rr|rp|rp|pr|pr|pr|pr|pr|pp|rp...</td>\n",
       "      <td>(mmmmmmmmqt)(mmmmmmmmqt)|(mmmmmmmmqt)(mmmmmmmm...</td>\n",
       "      <td>146048090</td>\n",
       "      <td>146048090</td>\n",
       "      <td>bot</td>\n",
       "      <td>astroturf</td>\n",
       "      <td>274</td>\n",
       "    </tr>\n",
       "    <tr>\n",
       "      <th>1</th>\n",
       "      <td>r□p|r□r|r□r|p⚀r|⚀TT|TT|TT|T□r|⚀p⚀π|□p⚀r|r⚀r|r⚀...</td>\n",
       "      <td>(mmmmmmmqt)(mmmmmmmqt)|(mmmmmmmqt)(mmmmmmmqt)|...</td>\n",
       "      <td>797927149856403456</td>\n",
       "      <td>797927149856403456</td>\n",
       "      <td>bot</td>\n",
       "      <td>astroturf</td>\n",
       "      <td>274</td>\n",
       "    </tr>\n",
       "    <tr>\n",
       "      <th>2</th>\n",
       "      <td>r□r|⚀r⚀r|r□r|rr|□r□r|⚀rr|r⚀r|⚁rr|rr|r□r|rr|rr|...</td>\n",
       "      <td>(mmt)(mmt)|(qt)(qt)|(qt)(mqt)|(qt)(t)|(qt)(qt)...</td>\n",
       "      <td>1046169889138868225</td>\n",
       "      <td>1046169889138868225</td>\n",
       "      <td>bot</td>\n",
       "      <td>astroturf</td>\n",
       "      <td>276</td>\n",
       "    </tr>\n",
       "    <tr>\n",
       "      <th>3</th>\n",
       "      <td>pr|rp|p□r|rr|rr|rr|rr|rr|rr|r□r|r□r|rr|□rr|pr|...</td>\n",
       "      <td>(mmt)(mmmmmmqt)|(mmmmmmmmmqt)(mmt)|(mmt)(qt)|(...</td>\n",
       "      <td>1085010463128195073</td>\n",
       "      <td>1085010463128195073</td>\n",
       "      <td>bot</td>\n",
       "      <td>astroturf</td>\n",
       "      <td>244</td>\n",
       "    </tr>\n",
       "    <tr>\n",
       "      <th>4</th>\n",
       "      <td>p⚁p|⚀p□p|□p□p|⚁rr|rr|rr|rr|pr|□pr|rp|rr|□rr|rp...</td>\n",
       "      <td>(mmmmmmmqt)(Em)|(t)(mmqt)|(mt)(mmt)|(qt)(HUqt)...</td>\n",
       "      <td>1613166488</td>\n",
       "      <td>1613166488</td>\n",
       "      <td>bot</td>\n",
       "      <td>astroturf</td>\n",
       "      <td>244</td>\n",
       "    </tr>\n",
       "  </tbody>\n",
       "</table>\n",
       "</div>"
      ],
      "text/plain": [
       "                                       action_string  \\\n",
       "0  rp|rp|⚀pr|□pr|rp|rr|rp|rp|pr|pr|pr|pr|pr|pp|rp...   \n",
       "1  r□p|r□r|r□r|p⚀r|⚀TT|TT|TT|T□r|⚀p⚀π|□p⚀r|r⚀r|r⚀...   \n",
       "2  r□r|⚀r⚀r|r□r|rr|□r□r|⚀rr|r⚀r|⚁rr|rr|r□r|rr|rr|...   \n",
       "3  pr|rp|p□r|rr|rr|rr|rr|rr|rr|r□r|r□r|rr|□rr|pr|...   \n",
       "4  p⚁p|⚀p□p|□p□p|⚁rr|rr|rr|rr|pr|□pr|rp|rr|□rr|rp...   \n",
       "\n",
       "                                      content_string              user_id  \\\n",
       "0  (mmmmmmmmqt)(mmmmmmmmqt)|(mmmmmmmmqt)(mmmmmmmm...            146048090   \n",
       "1  (mmmmmmmqt)(mmmmmmmqt)|(mmmmmmmqt)(mmmmmmmqt)|...   797927149856403456   \n",
       "2  (mmt)(mmt)|(qt)(qt)|(qt)(mqt)|(qt)(t)|(qt)(qt)...  1046169889138868225   \n",
       "3  (mmt)(mmmmmmqt)|(mmmmmmmmmqt)(mmt)|(mmt)(qt)|(...  1085010463128195073   \n",
       "4  (mmmmmmmqt)(Em)|(t)(mmqt)|(mt)(mmt)|(qt)(HUqt)...           1613166488   \n",
       "\n",
       "           useraccount user_class        src  tweet_count  \n",
       "0            146048090        bot  astroturf          274  \n",
       "1   797927149856403456        bot  astroturf          274  \n",
       "2  1046169889138868225        bot  astroturf          276  \n",
       "3  1085010463128195073        bot  astroturf          244  \n",
       "4           1613166488        bot  astroturf          244  "
      ]
     },
     "execution_count": 5,
     "metadata": {},
     "output_type": "execute_result"
    }
   ],
   "source": [
    "data.head()"
   ]
  },
  {
   "cell_type": "code",
   "execution_count": 6,
   "id": "ef36e289",
   "metadata": {
    "execution": {
     "iopub.execute_input": "2024-11-06T22:35:29.484457Z",
     "iopub.status.busy": "2024-11-06T22:35:29.483737Z",
     "iopub.status.idle": "2024-11-06T22:35:30.642775Z",
     "shell.execute_reply": "2024-11-06T22:35:30.641067Z"
    },
    "papermill": {
     "duration": 1.169264,
     "end_time": "2024-11-06T22:35:30.646556",
     "exception": false,
     "start_time": "2024-11-06T22:35:29.477292",
     "status": "completed"
    },
    "tags": []
   },
   "outputs": [
    {
     "name": "stdout",
     "output_type": "stream",
     "text": [
      "Requirement already satisfied: datasets in /sciclone/data10/iahewababarand/.venv/lib/python3.9/site-packages (3.1.0)\r\n",
      "Requirement already satisfied: filelock in /sciclone/data10/iahewababarand/.venv/lib/python3.9/site-packages (from datasets) (3.16.1)\r\n"
     ]
    },
    {
     "name": "stdout",
     "output_type": "stream",
     "text": [
      "Requirement already satisfied: numpy>=1.17 in /sciclone/data10/iahewababarand/.venv/lib/python3.9/site-packages (from datasets) (2.0.2)\r\n",
      "Requirement already satisfied: pyarrow>=15.0.0 in /sciclone/data10/iahewababarand/.venv/lib/python3.9/site-packages (from datasets) (18.0.0)\r\n",
      "Requirement already satisfied: dill<0.3.9,>=0.3.0 in /sciclone/data10/iahewababarand/.venv/lib/python3.9/site-packages (from datasets) (0.3.8)\r\n",
      "Requirement already satisfied: pandas in /sciclone/data10/iahewababarand/.venv/lib/python3.9/site-packages (from datasets) (2.2.3)\r\n",
      "Requirement already satisfied: requests>=2.32.2 in /sciclone/data10/iahewababarand/.venv/lib/python3.9/site-packages (from datasets) (2.32.3)\r\n",
      "Requirement already satisfied: tqdm>=4.66.3 in /sciclone/data10/iahewababarand/.venv/lib/python3.9/site-packages (from datasets) (4.66.6)\r\n",
      "Requirement already satisfied: xxhash in /sciclone/data10/iahewababarand/.venv/lib/python3.9/site-packages (from datasets) (3.5.0)\r\n",
      "Requirement already satisfied: multiprocess<0.70.17 in /sciclone/data10/iahewababarand/.venv/lib/python3.9/site-packages (from datasets) (0.70.16)\r\n",
      "Requirement already satisfied: fsspec<=2024.9.0,>=2023.1.0 in /sciclone/data10/iahewababarand/.venv/lib/python3.9/site-packages (from fsspec[http]<=2024.9.0,>=2023.1.0->datasets) (2024.9.0)\r\n",
      "Requirement already satisfied: aiohttp in /sciclone/data10/iahewababarand/.venv/lib/python3.9/site-packages (from datasets) (3.10.10)\r\n",
      "Requirement already satisfied: huggingface-hub>=0.23.0 in /sciclone/data10/iahewababarand/.venv/lib/python3.9/site-packages (from datasets) (0.26.2)\r\n",
      "Requirement already satisfied: packaging in /sciclone/data10/iahewababarand/.venv/lib/python3.9/site-packages (from datasets) (24.1)\r\n",
      "Requirement already satisfied: pyyaml>=5.1 in /sciclone/data10/iahewababarand/.venv/lib/python3.9/site-packages (from datasets) (6.0.2)\r\n"
     ]
    },
    {
     "name": "stdout",
     "output_type": "stream",
     "text": [
      "Requirement already satisfied: aiohappyeyeballs>=2.3.0 in /sciclone/data10/iahewababarand/.venv/lib/python3.9/site-packages (from aiohttp->datasets) (2.4.3)\r\n",
      "Requirement already satisfied: aiosignal>=1.1.2 in /sciclone/data10/iahewababarand/.venv/lib/python3.9/site-packages (from aiohttp->datasets) (1.3.1)\r\n",
      "Requirement already satisfied: attrs>=17.3.0 in /sciclone/data10/iahewababarand/.venv/lib/python3.9/site-packages (from aiohttp->datasets) (24.2.0)\r\n",
      "Requirement already satisfied: frozenlist>=1.1.1 in /sciclone/data10/iahewababarand/.venv/lib/python3.9/site-packages (from aiohttp->datasets) (1.5.0)\r\n",
      "Requirement already satisfied: multidict<7.0,>=4.5 in /sciclone/data10/iahewababarand/.venv/lib/python3.9/site-packages (from aiohttp->datasets) (6.1.0)\r\n",
      "Requirement already satisfied: yarl<2.0,>=1.12.0 in /sciclone/data10/iahewababarand/.venv/lib/python3.9/site-packages (from aiohttp->datasets) (1.17.1)\r\n",
      "Requirement already satisfied: async-timeout<5.0,>=4.0 in /sciclone/data10/iahewababarand/.venv/lib/python3.9/site-packages (from aiohttp->datasets) (4.0.3)\r\n",
      "Requirement already satisfied: typing-extensions>=3.7.4.3 in /sciclone/data10/iahewababarand/.venv/lib/python3.9/site-packages (from huggingface-hub>=0.23.0->datasets) (4.12.2)\r\n",
      "Requirement already satisfied: charset-normalizer<4,>=2 in /sciclone/data10/iahewababarand/.venv/lib/python3.9/site-packages (from requests>=2.32.2->datasets) (3.4.0)\r\n",
      "Requirement already satisfied: idna<4,>=2.5 in /sciclone/data10/iahewababarand/.venv/lib/python3.9/site-packages (from requests>=2.32.2->datasets) (3.10)\r\n"
     ]
    },
    {
     "name": "stdout",
     "output_type": "stream",
     "text": [
      "Requirement already satisfied: urllib3<3,>=1.21.1 in /sciclone/data10/iahewababarand/.venv/lib/python3.9/site-packages (from requests>=2.32.2->datasets) (1.26.20)\r\n",
      "Requirement already satisfied: certifi>=2017.4.17 in /sciclone/data10/iahewababarand/.venv/lib/python3.9/site-packages (from requests>=2.32.2->datasets) (2024.8.30)\r\n",
      "Requirement already satisfied: python-dateutil>=2.8.2 in /sciclone/data10/iahewababarand/.venv/lib/python3.9/site-packages (from pandas->datasets) (2.9.0.post0)\r\n",
      "Requirement already satisfied: pytz>=2020.1 in /sciclone/data10/iahewababarand/.venv/lib/python3.9/site-packages (from pandas->datasets) (2024.2)\r\n",
      "Requirement already satisfied: tzdata>=2022.7 in /sciclone/data10/iahewababarand/.venv/lib/python3.9/site-packages (from pandas->datasets) (2024.2)\r\n"
     ]
    },
    {
     "name": "stdout",
     "output_type": "stream",
     "text": [
      "Requirement already satisfied: six>=1.5 in /sciclone/data10/iahewababarand/.venv/lib/python3.9/site-packages (from python-dateutil>=2.8.2->pandas->datasets) (1.16.0)\r\n",
      "Requirement already satisfied: propcache>=0.2.0 in /sciclone/data10/iahewababarand/.venv/lib/python3.9/site-packages (from yarl<2.0,>=1.12.0->aiohttp->datasets) (0.2.0)\r\n"
     ]
    },
    {
     "name": "stdout",
     "output_type": "stream",
     "text": [
      "Note: you may need to restart the kernel to use updated packages.\n"
     ]
    }
   ],
   "source": [
    "pip install datasets"
   ]
  },
  {
   "cell_type": "code",
   "execution_count": 7,
   "id": "546f1360",
   "metadata": {
    "execution": {
     "iopub.execute_input": "2024-11-06T22:35:30.670956Z",
     "iopub.status.busy": "2024-11-06T22:35:30.670571Z",
     "iopub.status.idle": "2024-11-06T22:35:30.675402Z",
     "shell.execute_reply": "2024-11-06T22:35:30.674768Z"
    },
    "papermill": {
     "duration": 0.018088,
     "end_time": "2024-11-06T22:35:30.677865",
     "exception": false,
     "start_time": "2024-11-06T22:35:30.659777",
     "status": "completed"
    },
    "tags": []
   },
   "outputs": [
    {
     "name": "stdout",
     "output_type": "stream",
     "text": [
      "data shape (74829, 7)\n",
      "columns Index(['action_string', 'content_string', 'user_id', 'useraccount',\n",
      "       'user_class', 'src', 'tweet_count'],\n",
      "      dtype='object')\n"
     ]
    }
   ],
   "source": [
    "print(\"data shape\", data.shape)\n",
    "print(\"columns\", data.columns)"
   ]
  },
  {
   "cell_type": "code",
   "execution_count": 8,
   "id": "7c6ed1c0",
   "metadata": {
    "execution": {
     "iopub.execute_input": "2024-11-06T22:35:30.691257Z",
     "iopub.status.busy": "2024-11-06T22:35:30.691062Z",
     "iopub.status.idle": "2024-11-06T22:35:30.699766Z",
     "shell.execute_reply": "2024-11-06T22:35:30.699326Z"
    },
    "papermill": {
     "duration": 0.016222,
     "end_time": "2024-11-06T22:35:30.700903",
     "exception": false,
     "start_time": "2024-11-06T22:35:30.684681",
     "status": "completed"
    },
    "tags": []
   },
   "outputs": [],
   "source": [
    "import json\n",
    "import torch\n",
    "from torch.utils.data import DataLoader, Dataset, random_split\n",
    "import pandas as pd\n",
    "\n",
    "class CustomDataset(Dataset):\n",
    "    def __init__(self, data):\n",
    "        self.data = data\n",
    "    \n",
    "    def __len__(self):\n",
    "        return len(self.data)\n",
    "    \n",
    "    def __getitem__(self, idx):\n",
    "        text = self.data.loc[idx, 'action_string']\n",
    "        label = 1 if self.data.loc[idx, 'user_class'] == 'bot' else 0\n",
    "        return {\n",
    "            'text': text, \n",
    "            'label': label \n",
    "        }\n",
    "\n",
    "dataset = CustomDataset(data)\n",
    "\n",
    "train_size = int(0.7 * len(dataset))\n",
    "val_size = int(0.15 * len(dataset))\n",
    "test_size = len(dataset) - train_size - val_size\n",
    "\n",
    "train_dataset, val_dataset, test_dataset = random_split(dataset, [train_size, val_size, test_size])\n",
    "\n",
    "# train_loader = DataLoader(train_dataset, batch_size=32, shuffle=True)\n",
    "# val_loader = DataLoader(val_dataset, batch_size=32, shuffle=False)\n",
    "# test_loader = DataLoader(test_dataset, batch_size=32, shuffle=False)\n",
    "\n",
    "# Example usage: Iterate through the test loader\n",
    "# for batch in val_loader:\n",
    "#     print(batch['text'], batch['label'])\n"
   ]
  },
  {
   "cell_type": "code",
   "execution_count": 9,
   "id": "65d873d1",
   "metadata": {
    "execution": {
     "iopub.execute_input": "2024-11-06T22:35:30.712541Z",
     "iopub.status.busy": "2024-11-06T22:35:30.712355Z",
     "iopub.status.idle": "2024-11-06T22:35:31.281238Z",
     "shell.execute_reply": "2024-11-06T22:35:31.280377Z"
    },
    "papermill": {
     "duration": 0.575975,
     "end_time": "2024-11-06T22:35:31.282216",
     "exception": false,
     "start_time": "2024-11-06T22:35:30.706241",
     "status": "completed"
    },
    "tags": []
   },
   "outputs": [
    {
     "name": "stdout",
     "output_type": "stream",
     "text": [
      "Vocab-size: 15\n",
      "vocab {'<pad>': 0, '<unk>': 1, '|': 2, 'T': 3, 'r': 4, '⚁': 5, '⚀': 6, 'p': 7, '□': 8, '⚂': 9, '⚃': 10, 'π': 11, '⚄': 12, 'ρ': 13, '⚅': 14}\n"
     ]
    }
   ],
   "source": [
    "# Counter: subclass of Python's dictionary used for counting hashable objects, in this case, tokens (words).\n",
    "# OrderedDict: subclass of Python's dictionary that remembers the insertion order of keys. It is used to store tokens in a specific order based on frequency.\n",
    "from collections import Counter, OrderedDict\n",
    "# re: A module for working with regular expressions, used to manipulate and clean text.\n",
    "import re\n",
    "\n",
    "# Step 1: Token counts and vocab creation\n",
    "# Initializes an empty Counter object to hold the frequency of each token in the dataset.\n",
    "token_counts = Counter()\n",
    "\n",
    "# Define tokenizer\n",
    "def tokenizer(text):\n",
    "    # text = re.sub('<[^>]*>', '', text)  # Remove HTML tags\n",
    "\n",
    "    # This converts the entire text string to lowercase to ensure the regex matching is case-insensitive\n",
    "    # Emoticons are case-insensitive, so text.lower is not necessary\n",
    "    # emoticons = re.findall('(?::|;|=)(?:-)?(?:\\)|\\(|D|P)', text.lower())  # Extract emoticons\n",
    "\n",
    "    # \\W a shorthand in regex that matches any non-word character. Replace occurrences with space.\n",
    "    # text = re.sub('[\\W]+', ' ', text.lower()) + ' '.join(emoticons).replace('-', '') #adds emoticons to the cleaned text.\n",
    "\n",
    "    #  creates a list of words (tokens)\n",
    "    # tokenized = text.replace(\" \", \"\").split(\"|\")\n",
    "\n",
    "    # return tokenized\n",
    "\n",
    "    return list(text)\n",
    "\n",
    "# Step 2: Tokenize the training data and populate token_counts\n",
    "for entry in test_dataset:  # Assuming train_dataset is a dataset with 'text'\n",
    "    line = entry['text']\n",
    "    tokens = tokenizer(line)\n",
    "    token_counts.update(tokens)\n",
    "\n",
    "# Step 3: Sort tokens by frequency\n",
    "# token_counts.items() returns the tokens and their respective counts as a list of tuples (e.g., [(token1, count1), (token2, count2), ...])\n",
    "# key=lambda x: x[1] means that the sorting is based on the count (x[1]), which is the second element of each tuple\n",
    "# reverse=True means that the most frequent tokens appear first in the sorted list.\n",
    "sorted_by_freq_tuples = sorted(token_counts.items(), key=lambda x: x[1], reverse=True)\n",
    "\n",
    "# Step 4: Limit the vocabulary to the top 69023 tokens (including special tokens)\n",
    "# The padding token (pad) is used to ensure that all sequences in a batch have the same length.\n",
    "# The unknown token (unk) is used to represent words that are not found in the model's vocabulary (the top 69021 words in your case).\n",
    "# Any word that doesn't appear in the vocabulary is replaced by the unk token during tokenization.\n",
    "# This is critical for handling unseen words during inference, where the model encounters words that were not present in the training data.\n",
    "limited_sorted_by_freq_tuples = sorted_by_freq_tuples[:69021]  # Top 69021 + pad and unk\n",
    "\n",
    "# Step 5: Create an ordered dictionary for the vocab\n",
    "ordered_dict = OrderedDict(limited_sorted_by_freq_tuples)\n",
    "\n",
    "# Step 6: Create vocab dictionary with special tokens\n",
    "# Initializes the vocab dictionary with two special tokens\n",
    "vocab = {\"<pad>\": 0, \"<unk>\": 1}\n",
    "\n",
    "for idx, (token, count) in enumerate(ordered_dict.items(), start=2):  # Start from 2 to skip the special tokens\n",
    "    vocab[token] = idx\n",
    "\n",
    "\n",
    "# Print the vocabulary size (should be 69023)\n",
    "print('Vocab-size:', len(vocab))\n",
    "print('vocab', vocab)\n",
    "# --- Rationale:\n",
    "#\n",
    "# By assigning frequent words lower indices, we can optimize memory and computational efficiency.\n",
    "# Words that appear infrequently can either be assigned higher indices (in case we want to keep them) or omitted from the vocabulary entirely."
   ]
  },
  {
   "cell_type": "code",
   "execution_count": 10,
   "id": "56bf4966",
   "metadata": {
    "execution": {
     "iopub.execute_input": "2024-11-06T22:35:31.295856Z",
     "iopub.status.busy": "2024-11-06T22:35:31.295127Z",
     "iopub.status.idle": "2024-11-06T22:35:31.301051Z",
     "shell.execute_reply": "2024-11-06T22:35:31.300310Z"
    },
    "papermill": {
     "duration": 0.013288,
     "end_time": "2024-11-06T22:35:31.302003",
     "exception": false,
     "start_time": "2024-11-06T22:35:31.288715",
     "status": "completed"
    },
    "tags": []
   },
   "outputs": [
    {
     "name": "stdout",
     "output_type": "stream",
     "text": [
      "[4, 4, 2, 5, 4, 4, 2, 4, 5, 4, 2, 5, 4, 4, 2, 4, 8, 4, 2, 8, 4, 6, 3, 2, 6, 3, 6, 3, 2, 5, 4, 4, 2, 4, 8, 4, 2, 6, 4, 4, 2, 5, 3, 6, 3, 2, 6, 3, 6, 3, 2, 8, 4, 4, 2, 4, 8, 3, 2, 4, 6, 4, 2, 6, 4, 8, 4, 2, 6, 4, 6, 4, 2, 6, 7, 5, 4, 2, 8, 7, 6, 7, 2, 6, 3, 6, 4, 2, 8, 4, 4, 2, 5, 4, 4, 2, 8, 4, 8, 4, 2, 8, 4, 4, 2, 3, 4, 2, 4, 4, 2, 4, 5, 4, 2, 6, 3, 5, 4, 2, 5, 3, 5, 4, 2, 4, 6, 4, 2, 4, 5, 4, 2, 6, 4, 4, 2, 4, 5, 4, 2, 6, 4, 5, 4, 2, 4, 4, 2, 5, 3, 6, 11, 2, 5, 3, 8, 4, 2, 4, 6, 3, 2, 6, 7, 4, 2, 5, 4, 4, 2, 4, 6, 3, 2, 6, 3, 8, 4, 2, 8, 7, 5, 4, 2, 8, 7, 6, 3, 2, 6, 4, 4, 2, 4, 4, 2, 8, 4, 5, 3, 2, 6, 3, 5, 4, 2, 4, 4, 2, 6, 3, 6, 4, 2, 6, 11, 5, 3, 2, 8, 4, 5, 4, 2, 5, 4, 8, 4, 2, 4, 4, 2, 6, 11, 7, 2, 5, 4, 5, 4, 2, 8, 4, 6, 3, 2, 6, 4, 4, 2, 4, 6, 4, 2, 4, 4, 2, 4, 5, 11, 2, 6, 4, 8, 7, 2, 8, 4, 5, 4, 2, 8, 4, 6, 7, 2, 8, 4, 6, 7, 2, 5, 7, 5, 4, 2, 4, 4, 2, 4, 8, 4, 2, 8, 4, 6, 4, 2, 4, 5, 4, 2, 6, 3, 6, 3, 2, 6, 4, 6, 4, 2, 5, 4, 4, 2, 4, 4, 2, 4, 6, 4, 2, 8, 4, 5, 4, 2, 4, 4, 2, 4, 4, 2, 6, 4, 5, 4, 2, 5, 4, 8, 4, 2, 5, 4, 8, 7, 2, 6, 4, 6, 4, 2, 8, 4, 4, 2, 4, 6, 11, 2, 6, 3, 6, 3, 2, 5, 4, 4, 2, 4, 4, 2, 4, 4, 2, 4, 4, 2, 4, 4, 2, 6, 3, 5, 4, 2, 6, 4, 7, 2, 4, 7, 2, 8, 4, 6, 4, 2, 8, 4, 6, 7, 2, 6, 4, 6, 4, 2, 6, 4, 8, 4, 2, 8, 4, 8, 4, 2, 4, 4, 2, 8, 4, 8, 4, 2, 6, 4, 5, 4, 2, 6, 4, 4, 2, 4, 8, 4, 2, 8, 4, 4, 2, 4, 8, 4, 2, 4, 8, 4, 2, 6, 4, 8, 4, 2, 6, 7, 6, 4, 2, 8, 4, 8, 4, 2, 6, 4, 6, 7, 2, 8, 4, 4, 2, 4, 6, 4, 2, 6, 4, 6, 4, 2, 8, 4, 8, 4, 2, 4, 5, 4, 2, 6, 4, 6, 4, 2, 6, 4, 8, 4, 2, 6, 4, 8, 4, 2, 6, 4, 5, 4, 2, 6, 4, 6, 4, 2, 6, 7, 6, 4, 2, 8, 4, 6, 4, 2, 6, 4, 8, 4, 2, 6, 3, 8, 3, 2, 8, 4, 4, 2, 8, 4, 4, 2, 4, 8, 4, 2, 8, 4, 4, 2, 4, 8, 3, 2, 7, 4, 2, 8, 4, 4, 2, 4, 4, 2, 6, 4, 6, 7, 2, 6, 4, 6, 4, 2, 6, 4, 4, 2, 8, 4, 8, 4, 2, 8, 4, 4, 2, 8, 4, 4, 2, 4, 8, 4, 2, 8, 4, 6, 4, 2, 6, 7, 4, 2, 8, 4, 4, 2, 4, 4, 2, 4, 4, 2, 4, 4, 2, 4, 4, 2, 4, 7, 2, 6, 4, 6, 4, 2, 4, 6, 4, 2, 8, 4, 6, 4]\n"
     ]
    }
   ],
   "source": [
    "def encode(tokens):\n",
    "    #If the token does not exist in the vocab, the function returns the index of the <unk>\n",
    "    return [vocab.get(token, vocab[\"<unk>\"]) for token in tokens]\n",
    "# Example usage\n",
    "print(encode(list('rr|⚁rr|r⚁r|⚁rr|r□r|□r⚀T|⚀T⚀T|⚁rr|r□r|⚀rr|⚁T⚀T|⚀T⚀T|□rr|r□T|r⚀r|⚀r□r|⚀r⚀r|⚀p⚁r|□p⚀p|⚀T⚀r|□rr|⚁rr|□r□r|□rr|Tr|rr|r⚁r|⚀T⚁r|⚁T⚁r|r⚀r|r⚁r|⚀rr|r⚁r|⚀r⚁r|rr|⚁T⚀π|⚁T□r|r⚀T|⚀pr|⚁rr|r⚀T|⚀T□r|□p⚁r|□p⚀T|⚀rr|rr|□r⚁T|⚀T⚁r|rr|⚀T⚀r|⚀π⚁T|□r⚁r|⚁r□r|rr|⚀πp|⚁r⚁r|□r⚀T|⚀rr|r⚀r|rr|r⚁π|⚀r□p|□r⚁r|□r⚀p|□r⚀p|⚁p⚁r|rr|r□r|□r⚀r|r⚁r|⚀T⚀T|⚀r⚀r|⚁rr|rr|r⚀r|□r⚁r|rr|rr|⚀r⚁r|⚁r□r|⚁r□p|⚀r⚀r|□rr|r⚀π|⚀T⚀T|⚁rr|rr|rr|rr|rr|⚀T⚁r|⚀rp|rp|□r⚀r|□r⚀p|⚀r⚀r|⚀r□r|□r□r|rr|□r□r|⚀r⚁r|⚀rr|r□r|□rr|r□r|r□r|⚀r□r|⚀p⚀r|□r□r|⚀r⚀p|□rr|r⚀r|⚀r⚀r|□r□r|r⚁r|⚀r⚀r|⚀r□r|⚀r□r|⚀r⚁r|⚀r⚀r|⚀p⚀r|□r⚀r|⚀r□r|⚀T□T|□rr|□rr|r□r|□rr|r□T|pr|□rr|rr|⚀r⚀p|⚀r⚀r|⚀rr|□r□r|□rr|□rr|r□r|□r⚀r|⚀pr|□rr|rr|rr|rr|rr|rp|⚀r⚀r|r⚀r|□r⚀r')))  # Should output something like [11, 7, 35, 457]"
   ]
  },
  {
   "cell_type": "code",
   "execution_count": 11,
   "id": "f0d75704",
   "metadata": {
    "execution": {
     "iopub.execute_input": "2024-11-06T22:35:31.314305Z",
     "iopub.status.busy": "2024-11-06T22:35:31.313967Z",
     "iopub.status.idle": "2024-11-06T22:35:31.448613Z",
     "shell.execute_reply": "2024-11-06T22:35:31.448197Z"
    },
    "papermill": {
     "duration": 0.141874,
     "end_time": "2024-11-06T22:35:31.449627",
     "exception": false,
     "start_time": "2024-11-06T22:35:31.307753",
     "status": "completed"
    },
    "tags": []
   },
   "outputs": [],
   "source": [
    "if not torch.cuda.is_available():\n",
    "    print(\"Warning: this code may be very slow on CPU\")"
   ]
  },
  {
   "cell_type": "code",
   "execution_count": 12,
   "id": "61a4c0ed",
   "metadata": {
    "execution": {
     "iopub.execute_input": "2024-11-06T22:35:31.463063Z",
     "iopub.status.busy": "2024-11-06T22:35:31.462357Z",
     "iopub.status.idle": "2024-11-06T22:35:31.469639Z",
     "shell.execute_reply": "2024-11-06T22:35:31.468413Z"
    },
    "papermill": {
     "duration": 0.014634,
     "end_time": "2024-11-06T22:35:31.470605",
     "exception": false,
     "start_time": "2024-11-06T22:35:31.455971",
     "status": "completed"
    },
    "tags": []
   },
   "outputs": [],
   "source": [
    "import torch\n",
    "import torch.nn as nn\n",
    "import re\n",
    "\n",
    "device = torch.device(\"cuda\" if torch.cuda.is_available() else \"cpu\")\n",
    "\n",
    "# Use the manual vocab creation process from earlier\n",
    "# Assuming `vocab` and `tokenizer` are already defined\n",
    "\n",
    "#text_pipeline = lambda x: [vocab[token] for token in tokenizer(x)]\n",
    "# Updated text pipeline\n",
    "text_pipeline = lambda x: [vocab.get(token, vocab[\"<unk>\"]) for token in tokenizer(x)]\n",
    "\n",
    "label_pipeline = lambda x: float(x)  # Convert to float to match the output\n",
    "\n",
    "# Batch collation function\n",
    "def collate_batch(batch):\n",
    "    label_list, text_list, lengths = [], [], []\n",
    "    for entry in batch:  # Each 'entry' is a dictionary with 'text' and 'label'\n",
    "        _label = entry['label']\n",
    "        _text = entry['text']\n",
    "\n",
    "        # Process labels and text\n",
    "        label_list.append(label_pipeline(_label))  # Convert labels using label_pipeline\n",
    "        processed_text = torch.tensor(text_pipeline(_text), dtype=torch.int64)  # Convert text to indices\n",
    "\n",
    "        # Store processed text and its length\n",
    "        text_list.append(processed_text)\n",
    "        lengths.append(processed_text.size(0))\n",
    "\n",
    "    # Convert lists to tensors and pad sequences\n",
    "    label_list = torch.tensor(label_list)\n",
    "    lengths = torch.tensor(lengths)\n",
    "    padded_text_list = nn.utils.rnn.pad_sequence(text_list, batch_first=True)\n",
    "\n",
    "    return padded_text_list.to(device), label_list.to(device), lengths.to(device)"
   ]
  },
  {
   "cell_type": "code",
   "execution_count": 13,
   "id": "76b72a02",
   "metadata": {
    "execution": {
     "iopub.execute_input": "2024-11-06T22:35:31.483469Z",
     "iopub.status.busy": "2024-11-06T22:35:31.483145Z",
     "iopub.status.idle": "2024-11-06T22:35:31.845725Z",
     "shell.execute_reply": "2024-11-06T22:35:31.844788Z"
    },
    "papermill": {
     "duration": 0.370629,
     "end_time": "2024-11-06T22:35:31.846810",
     "exception": false,
     "start_time": "2024-11-06T22:35:31.476181",
     "status": "completed"
    },
    "tags": []
   },
   "outputs": [
    {
     "name": "stdout",
     "output_type": "stream",
     "text": [
      "Text batch: tensor([[ 7,  6,  3,  ...,  3,  5,  7],\n",
      "        [ 3, 14,  3,  ...,  0,  0,  0],\n",
      "        [ 3,  5,  3,  ...,  0,  0,  0],\n",
      "        [ 4,  4,  2,  ...,  0,  0,  0]], device='cuda:0')\n",
      "Label batch: tensor([0., 1., 0., 0.], device='cuda:0')\n",
      "Length batch: tensor([730,  51, 703, 443], device='cuda:0')\n",
      "Text batch shape: torch.Size([4, 730])\n"
     ]
    }
   ],
   "source": [
    "#-----  Example usage with DataLoader -----#\n",
    "## Take a small batch\n",
    "\n",
    "dataloader = DataLoader(train_dataset, batch_size=4, shuffle=False, collate_fn=collate_batch)\n",
    "text_batch, label_batch, length_batch = next(iter(dataloader))\n",
    "\n",
    "# Print the output batch\n",
    "print(\"Text batch:\", text_batch)\n",
    "print(\"Label batch:\", label_batch)\n",
    "print(\"Length batch:\", length_batch)\n",
    "print(\"Text batch shape:\", text_batch.shape)"
   ]
  },
  {
   "cell_type": "code",
   "execution_count": 14,
   "id": "16008587",
   "metadata": {
    "execution": {
     "iopub.execute_input": "2024-11-06T22:35:31.861038Z",
     "iopub.status.busy": "2024-11-06T22:35:31.860283Z",
     "iopub.status.idle": "2024-11-06T22:35:31.865280Z",
     "shell.execute_reply": "2024-11-06T22:35:31.864320Z"
    },
    "papermill": {
     "duration": 0.012841,
     "end_time": "2024-11-06T22:35:31.866253",
     "exception": false,
     "start_time": "2024-11-06T22:35:31.853412",
     "status": "completed"
    },
    "tags": []
   },
   "outputs": [],
   "source": [
    "## Batching the datasets\n",
    "\n",
    "batch_size = 32\n",
    "\n",
    "train_dl = DataLoader(train_dataset, batch_size=batch_size,\n",
    "                      shuffle=True, collate_fn=collate_batch)\n",
    "val_dl = DataLoader(val_dataset, batch_size=batch_size,\n",
    "                      shuffle=False, collate_fn=collate_batch)\n",
    "test_dl = DataLoader(test_dataset, batch_size=batch_size,\n",
    "                     shuffle=False, collate_fn=collate_batch)"
   ]
  },
  {
   "cell_type": "code",
   "execution_count": 15,
   "id": "ebd1a459",
   "metadata": {
    "execution": {
     "iopub.execute_input": "2024-11-06T22:35:31.879442Z",
     "iopub.status.busy": "2024-11-06T22:35:31.879111Z",
     "iopub.status.idle": "2024-11-06T22:35:31.925953Z",
     "shell.execute_reply": "2024-11-06T22:35:31.925436Z"
    },
    "papermill": {
     "duration": 0.054985,
     "end_time": "2024-11-06T22:35:31.927170",
     "exception": false,
     "start_time": "2024-11-06T22:35:31.872185",
     "status": "completed"
    },
    "tags": []
   },
   "outputs": [],
   "source": [
    "# In the following, the embedding layer creates the number of features that will be fed into the RNN\n",
    "\n",
    "class RNN(nn.Module):\n",
    "    def __init__(self, vocab_size, embed_dim, rnn_hidden_size, fc_hidden_size):\n",
    "        super().__init__()\n",
    "        self.embedding = nn.Embedding(vocab_size,\n",
    "                                      embed_dim,\n",
    "                                      padding_idx=0)\n",
    "        self.rnn = nn.LSTM(embed_dim, rnn_hidden_size,\n",
    "                           batch_first=True)\n",
    "        self.fc1 = nn.Linear(rnn_hidden_size, fc_hidden_size)\n",
    "        self.relu = nn.ReLU()\n",
    "        self.fc2 = nn.Linear(fc_hidden_size, 1)\n",
    "        self.sigmoid = nn.Sigmoid()\n",
    "\n",
    "    def forward(self, text, lengths):\n",
    "        out = self.embedding(text)\n",
    "        out = nn.utils.rnn.pack_padded_sequence(out, lengths.cpu().numpy(), enforce_sorted=False, batch_first=True)\n",
    "        out, (hidden, cell) = self.rnn(out)\n",
    "        out = hidden[-1, :, :]\n",
    "        out = self.fc1(out)\n",
    "        out = self.relu(out)\n",
    "        out = self.fc2(out)\n",
    "        out = self.sigmoid(out)\n",
    "        return out\n",
    "\n",
    "vocab_size = len(vocab)\n",
    "embed_dim = 20\n",
    "rnn_hidden_size = 64\n",
    "fc_hidden_size = 64\n",
    "\n",
    "torch.manual_seed(1)\n",
    "model = RNN(vocab_size, embed_dim, rnn_hidden_size, fc_hidden_size)\n",
    "model = model.to(device)"
   ]
  },
  {
   "cell_type": "code",
   "execution_count": 16,
   "id": "34a59e62",
   "metadata": {
    "execution": {
     "iopub.execute_input": "2024-11-06T22:35:31.942396Z",
     "iopub.status.busy": "2024-11-06T22:35:31.941660Z",
     "iopub.status.idle": "2024-11-06T22:35:34.184032Z",
     "shell.execute_reply": "2024-11-06T22:35:34.183015Z"
    },
    "papermill": {
     "duration": 2.251069,
     "end_time": "2024-11-06T22:35:34.185317",
     "exception": false,
     "start_time": "2024-11-06T22:35:31.934248",
     "status": "completed"
    },
    "tags": []
   },
   "outputs": [],
   "source": [
    "loss_fn = nn.BCELoss()\n",
    "optimizer = torch.optim.Adam(model.parameters(), lr=0.001)"
   ]
  },
  {
   "cell_type": "code",
   "execution_count": 17,
   "id": "bfeb1f88",
   "metadata": {
    "execution": {
     "iopub.execute_input": "2024-11-06T22:35:34.199108Z",
     "iopub.status.busy": "2024-11-06T22:35:34.198289Z",
     "iopub.status.idle": "2024-11-06T22:35:34.205154Z",
     "shell.execute_reply": "2024-11-06T22:35:34.204733Z"
    },
    "papermill": {
     "duration": 0.014552,
     "end_time": "2024-11-06T22:35:34.206149",
     "exception": false,
     "start_time": "2024-11-06T22:35:34.191597",
     "status": "completed"
    },
    "tags": []
   },
   "outputs": [],
   "source": [
    "def train(dataloader):\n",
    "    model.train()\n",
    "    total_acc, total_loss = 0, 0\n",
    "    for text_batch, label_batch, lengths in dataloader:  # Loop through batches in dataloader\n",
    "        optimizer.zero_grad()\n",
    "        pred = model(text_batch, lengths)[:, 0]\n",
    "        loss = loss_fn(pred, label_batch)\n",
    "        loss.backward()\n",
    "        optimizer.step()\n",
    "        total_acc += ((pred >= 0.5).float() == label_batch).float().sum().item()\n",
    "        total_loss += loss.item() * label_batch.size(0)\n",
    "    return total_acc / len(dataloader.dataset), total_loss / len(dataloader.dataset)\n",
    "\n",
    "def evaluate(dataloader):\n",
    "    model.eval()\n",
    "    total_acc, total_loss = 0, 0\n",
    "    with torch.no_grad():\n",
    "        for text_batch, label_batch, lengths in dataloader:  # Loop through batches in dataloader\n",
    "            pred = model(text_batch, lengths)[:, 0]\n",
    "            loss = loss_fn(pred, label_batch)\n",
    "            total_acc += ((pred >= 0.5).float() == label_batch).float().sum().item()\n",
    "            total_loss += loss.item() * label_batch.size(0)\n",
    "    return total_acc / len(dataloader.dataset), total_loss / len(dataloader.dataset)"
   ]
  },
  {
   "cell_type": "code",
   "execution_count": 18,
   "id": "444137ff",
   "metadata": {
    "execution": {
     "iopub.execute_input": "2024-11-06T22:35:34.218428Z",
     "iopub.status.busy": "2024-11-06T22:35:34.218093Z",
     "iopub.status.idle": "2024-11-06T23:44:14.377412Z",
     "shell.execute_reply": "2024-11-06T23:44:14.376946Z"
    },
    "papermill": {
     "duration": 4120.166325,
     "end_time": "2024-11-06T23:44:14.378543",
     "exception": false,
     "start_time": "2024-11-06T22:35:34.212218",
     "status": "completed"
    },
    "tags": []
   },
   "outputs": [
    {
     "name": "stdout",
     "output_type": "stream",
     "text": [
      "Epoch 1 - accuracy: 0.8112, val_accuracy: 0.8525\n"
     ]
    },
    {
     "name": "stdout",
     "output_type": "stream",
     "text": [
      "Epoch 2 - accuracy: 0.8739, val_accuracy: 0.8360\n"
     ]
    },
    {
     "name": "stdout",
     "output_type": "stream",
     "text": [
      "Epoch 3 - accuracy: 0.8932, val_accuracy: 0.9083\n"
     ]
    },
    {
     "name": "stdout",
     "output_type": "stream",
     "text": [
      "Epoch 4 - accuracy: 0.9097, val_accuracy: 0.9136\n"
     ]
    },
    {
     "name": "stdout",
     "output_type": "stream",
     "text": [
      "Epoch 5 - accuracy: 0.9144, val_accuracy: 0.9192\n"
     ]
    },
    {
     "name": "stdout",
     "output_type": "stream",
     "text": [
      "Epoch 6 - accuracy: 0.9162, val_accuracy: 0.9213\n"
     ]
    },
    {
     "name": "stdout",
     "output_type": "stream",
     "text": [
      "Epoch 7 - accuracy: 0.9176, val_accuracy: 0.9256\n"
     ]
    },
    {
     "name": "stdout",
     "output_type": "stream",
     "text": [
      "Epoch 8 - accuracy: 0.9190, val_accuracy: 0.9220\n"
     ]
    },
    {
     "name": "stdout",
     "output_type": "stream",
     "text": [
      "Epoch 9 - accuracy: 0.9208, val_accuracy: 0.9182\n"
     ]
    },
    {
     "name": "stdout",
     "output_type": "stream",
     "text": [
      "Epoch 10 - accuracy: 0.9212, val_accuracy: 0.9187\n"
     ]
    },
    {
     "name": "stdout",
     "output_type": "stream",
     "text": [
      "Epoch 11 - accuracy: 0.9222, val_accuracy: 0.9236\n"
     ]
    },
    {
     "name": "stdout",
     "output_type": "stream",
     "text": [
      "Epoch 12 - accuracy: 0.9232, val_accuracy: 0.9258\n"
     ]
    },
    {
     "name": "stdout",
     "output_type": "stream",
     "text": [
      "Epoch 13 - accuracy: 0.9233, val_accuracy: 0.9262\n"
     ]
    },
    {
     "name": "stdout",
     "output_type": "stream",
     "text": [
      "Epoch 14 - accuracy: 0.9253, val_accuracy: 0.9257\n"
     ]
    },
    {
     "name": "stdout",
     "output_type": "stream",
     "text": [
      "Epoch 15 - accuracy: 0.9248, val_accuracy: 0.9261\n"
     ]
    },
    {
     "name": "stdout",
     "output_type": "stream",
     "text": [
      "Epoch 16 - accuracy: 0.9257, val_accuracy: 0.9260\n"
     ]
    },
    {
     "name": "stdout",
     "output_type": "stream",
     "text": [
      "Epoch 17 - accuracy: 0.9254, val_accuracy: 0.9274\n"
     ]
    },
    {
     "name": "stdout",
     "output_type": "stream",
     "text": [
      "Epoch 18 - accuracy: 0.9267, val_accuracy: 0.9215\n"
     ]
    },
    {
     "name": "stdout",
     "output_type": "stream",
     "text": [
      "Epoch 19 - accuracy: 0.9273, val_accuracy: 0.9251\n"
     ]
    },
    {
     "name": "stdout",
     "output_type": "stream",
     "text": [
      "Epoch 20 - accuracy: 0.9283, val_accuracy: 0.9249\n"
     ]
    },
    {
     "name": "stdout",
     "output_type": "stream",
     "text": [
      "Epoch 21 - accuracy: 0.9287, val_accuracy: 0.9276\n"
     ]
    },
    {
     "name": "stdout",
     "output_type": "stream",
     "text": [
      "Epoch 22 - accuracy: 0.9302, val_accuracy: 0.9255\n"
     ]
    },
    {
     "name": "stdout",
     "output_type": "stream",
     "text": [
      "Epoch 23 - accuracy: 0.9301, val_accuracy: 0.9268\n"
     ]
    },
    {
     "name": "stdout",
     "output_type": "stream",
     "text": [
      "Epoch 24 - accuracy: 0.9308, val_accuracy: 0.9275\n"
     ]
    },
    {
     "name": "stdout",
     "output_type": "stream",
     "text": [
      "Epoch 25 - accuracy: 0.9314, val_accuracy: 0.9263\n"
     ]
    },
    {
     "name": "stdout",
     "output_type": "stream",
     "text": [
      "Epoch 26 - accuracy: 0.9317, val_accuracy: 0.9234\n"
     ]
    },
    {
     "name": "stdout",
     "output_type": "stream",
     "text": [
      "Epoch 27 - accuracy: 0.9313, val_accuracy: 0.9283\n"
     ]
    },
    {
     "name": "stdout",
     "output_type": "stream",
     "text": [
      "Epoch 28 - accuracy: 0.9331, val_accuracy: 0.9269\n"
     ]
    },
    {
     "name": "stdout",
     "output_type": "stream",
     "text": [
      "Epoch 29 - accuracy: 0.9338, val_accuracy: 0.9265\n"
     ]
    },
    {
     "name": "stdout",
     "output_type": "stream",
     "text": [
      "Epoch 30 - accuracy: 0.9347, val_accuracy: 0.9234\n"
     ]
    },
    {
     "name": "stdout",
     "output_type": "stream",
     "text": [
      "Epoch 31 - accuracy: 0.9341, val_accuracy: 0.9218\n"
     ]
    },
    {
     "name": "stdout",
     "output_type": "stream",
     "text": [
      "Epoch 32 - accuracy: 0.9352, val_accuracy: 0.9258\n"
     ]
    },
    {
     "name": "stdout",
     "output_type": "stream",
     "text": [
      "Epoch 33 - accuracy: 0.9365, val_accuracy: 0.9248\n"
     ]
    },
    {
     "name": "stdout",
     "output_type": "stream",
     "text": [
      "Epoch 34 - accuracy: 0.9368, val_accuracy: 0.9263\n"
     ]
    },
    {
     "name": "stdout",
     "output_type": "stream",
     "text": [
      "Epoch 35 - accuracy: 0.9374, val_accuracy: 0.9262\n"
     ]
    },
    {
     "name": "stdout",
     "output_type": "stream",
     "text": [
      "Epoch 36 - accuracy: 0.9385, val_accuracy: 0.9256\n"
     ]
    },
    {
     "name": "stdout",
     "output_type": "stream",
     "text": [
      "Epoch 37 - accuracy: 0.9393, val_accuracy: 0.9235\n"
     ]
    },
    {
     "name": "stdout",
     "output_type": "stream",
     "text": [
      "Epoch 38 - accuracy: 0.9393, val_accuracy: 0.9228\n"
     ]
    },
    {
     "name": "stdout",
     "output_type": "stream",
     "text": [
      "Epoch 39 - accuracy: 0.9396, val_accuracy: 0.9239\n"
     ]
    },
    {
     "name": "stdout",
     "output_type": "stream",
     "text": [
      "Epoch 40 - accuracy: 0.9408, val_accuracy: 0.9238\n"
     ]
    },
    {
     "name": "stdout",
     "output_type": "stream",
     "text": [
      "Epoch 41 - accuracy: 0.9417, val_accuracy: 0.9217\n"
     ]
    },
    {
     "name": "stdout",
     "output_type": "stream",
     "text": [
      "Epoch 42 - accuracy: 0.9416, val_accuracy: 0.9221\n"
     ]
    },
    {
     "name": "stdout",
     "output_type": "stream",
     "text": [
      "Epoch 43 - accuracy: 0.9429, val_accuracy: 0.9243\n"
     ]
    },
    {
     "name": "stdout",
     "output_type": "stream",
     "text": [
      "Epoch 44 - accuracy: 0.9433, val_accuracy: 0.9218\n"
     ]
    },
    {
     "name": "stdout",
     "output_type": "stream",
     "text": [
      "Epoch 45 - accuracy: 0.9441, val_accuracy: 0.9203\n"
     ]
    },
    {
     "name": "stdout",
     "output_type": "stream",
     "text": [
      "Epoch 46 - accuracy: 0.9448, val_accuracy: 0.9202\n"
     ]
    },
    {
     "name": "stdout",
     "output_type": "stream",
     "text": [
      "Epoch 47 - accuracy: 0.9455, val_accuracy: 0.9203\n"
     ]
    },
    {
     "name": "stdout",
     "output_type": "stream",
     "text": [
      "Epoch 48 - accuracy: 0.9454, val_accuracy: 0.9218\n"
     ]
    },
    {
     "name": "stdout",
     "output_type": "stream",
     "text": [
      "Epoch 49 - accuracy: 0.9454, val_accuracy: 0.9206\n"
     ]
    },
    {
     "name": "stdout",
     "output_type": "stream",
     "text": [
      "Epoch 50 - accuracy: 0.9460, val_accuracy: 0.9229\n"
     ]
    },
    {
     "name": "stdout",
     "output_type": "stream",
     "text": [
      "Epoch 51 - accuracy: 0.9480, val_accuracy: 0.9207\n"
     ]
    },
    {
     "name": "stdout",
     "output_type": "stream",
     "text": [
      "Epoch 52 - accuracy: 0.9493, val_accuracy: 0.9202\n"
     ]
    },
    {
     "name": "stdout",
     "output_type": "stream",
     "text": [
      "Epoch 53 - accuracy: 0.9489, val_accuracy: 0.9211\n"
     ]
    },
    {
     "name": "stdout",
     "output_type": "stream",
     "text": [
      "Epoch 54 - accuracy: 0.9492, val_accuracy: 0.9196\n"
     ]
    },
    {
     "name": "stdout",
     "output_type": "stream",
     "text": [
      "Epoch 55 - accuracy: 0.9508, val_accuracy: 0.9184\n"
     ]
    },
    {
     "name": "stdout",
     "output_type": "stream",
     "text": [
      "Epoch 56 - accuracy: 0.9508, val_accuracy: 0.9180\n"
     ]
    },
    {
     "name": "stdout",
     "output_type": "stream",
     "text": [
      "Epoch 57 - accuracy: 0.9503, val_accuracy: 0.9201\n"
     ]
    },
    {
     "name": "stdout",
     "output_type": "stream",
     "text": [
      "Epoch 58 - accuracy: 0.9525, val_accuracy: 0.9141\n"
     ]
    },
    {
     "name": "stdout",
     "output_type": "stream",
     "text": [
      "Epoch 59 - accuracy: 0.9532, val_accuracy: 0.9152\n"
     ]
    },
    {
     "name": "stdout",
     "output_type": "stream",
     "text": [
      "Epoch 60 - accuracy: 0.9523, val_accuracy: 0.9140\n"
     ]
    },
    {
     "name": "stdout",
     "output_type": "stream",
     "text": [
      "Epoch 61 - accuracy: 0.9528, val_accuracy: 0.9165\n"
     ]
    },
    {
     "name": "stdout",
     "output_type": "stream",
     "text": [
      "Epoch 62 - accuracy: 0.9536, val_accuracy: 0.9202\n"
     ]
    },
    {
     "name": "stdout",
     "output_type": "stream",
     "text": [
      "Epoch 63 - accuracy: 0.9542, val_accuracy: 0.9154\n"
     ]
    },
    {
     "name": "stdout",
     "output_type": "stream",
     "text": [
      "Epoch 64 - accuracy: 0.9544, val_accuracy: 0.9172\n"
     ]
    },
    {
     "name": "stdout",
     "output_type": "stream",
     "text": [
      "Epoch 65 - accuracy: 0.9534, val_accuracy: 0.9167\n"
     ]
    },
    {
     "name": "stdout",
     "output_type": "stream",
     "text": [
      "Epoch 66 - accuracy: 0.9558, val_accuracy: 0.9179\n"
     ]
    },
    {
     "name": "stdout",
     "output_type": "stream",
     "text": [
      "Epoch 67 - accuracy: 0.9564, val_accuracy: 0.9128\n"
     ]
    },
    {
     "name": "stdout",
     "output_type": "stream",
     "text": [
      "Epoch 68 - accuracy: 0.9573, val_accuracy: 0.9119\n"
     ]
    },
    {
     "name": "stdout",
     "output_type": "stream",
     "text": [
      "Epoch 69 - accuracy: 0.9577, val_accuracy: 0.9166\n"
     ]
    },
    {
     "name": "stdout",
     "output_type": "stream",
     "text": [
      "Epoch 70 - accuracy: 0.9572, val_accuracy: 0.9175\n"
     ]
    },
    {
     "name": "stdout",
     "output_type": "stream",
     "text": [
      "Epoch 71 - accuracy: 0.9584, val_accuracy: 0.9146\n"
     ]
    },
    {
     "name": "stdout",
     "output_type": "stream",
     "text": [
      "Epoch 72 - accuracy: 0.9591, val_accuracy: 0.9195\n"
     ]
    },
    {
     "name": "stdout",
     "output_type": "stream",
     "text": [
      "Epoch 73 - accuracy: 0.9578, val_accuracy: 0.9146\n"
     ]
    },
    {
     "name": "stdout",
     "output_type": "stream",
     "text": [
      "Epoch 74 - accuracy: 0.9586, val_accuracy: 0.9152\n"
     ]
    },
    {
     "name": "stdout",
     "output_type": "stream",
     "text": [
      "Epoch 75 - accuracy: 0.9574, val_accuracy: 0.9142\n"
     ]
    },
    {
     "name": "stdout",
     "output_type": "stream",
     "text": [
      "Epoch 76 - accuracy: 0.9589, val_accuracy: 0.9163\n"
     ]
    },
    {
     "name": "stdout",
     "output_type": "stream",
     "text": [
      "Epoch 77 - accuracy: 0.9608, val_accuracy: 0.9127\n"
     ]
    },
    {
     "name": "stdout",
     "output_type": "stream",
     "text": [
      "Epoch 78 - accuracy: 0.9587, val_accuracy: 0.9119\n"
     ]
    },
    {
     "name": "stdout",
     "output_type": "stream",
     "text": [
      "Epoch 79 - accuracy: 0.9578, val_accuracy: 0.9159\n"
     ]
    },
    {
     "name": "stdout",
     "output_type": "stream",
     "text": [
      "Epoch 80 - accuracy: 0.9605, val_accuracy: 0.9141\n"
     ]
    },
    {
     "name": "stdout",
     "output_type": "stream",
     "text": [
      "Epoch 81 - accuracy: 0.9597, val_accuracy: 0.9158\n"
     ]
    },
    {
     "name": "stdout",
     "output_type": "stream",
     "text": [
      "Epoch 82 - accuracy: 0.9611, val_accuracy: 0.9146\n"
     ]
    },
    {
     "name": "stdout",
     "output_type": "stream",
     "text": [
      "Epoch 83 - accuracy: 0.9605, val_accuracy: 0.9128\n"
     ]
    },
    {
     "name": "stdout",
     "output_type": "stream",
     "text": [
      "Epoch 84 - accuracy: 0.9617, val_accuracy: 0.9123\n"
     ]
    },
    {
     "name": "stdout",
     "output_type": "stream",
     "text": [
      "Epoch 85 - accuracy: 0.9615, val_accuracy: 0.9136\n"
     ]
    },
    {
     "name": "stdout",
     "output_type": "stream",
     "text": [
      "Epoch 86 - accuracy: 0.9626, val_accuracy: 0.9140\n"
     ]
    },
    {
     "name": "stdout",
     "output_type": "stream",
     "text": [
      "Epoch 87 - accuracy: 0.9601, val_accuracy: 0.9144\n"
     ]
    },
    {
     "name": "stdout",
     "output_type": "stream",
     "text": [
      "Epoch 88 - accuracy: 0.9611, val_accuracy: 0.9173\n"
     ]
    },
    {
     "name": "stdout",
     "output_type": "stream",
     "text": [
      "Epoch 89 - accuracy: 0.9638, val_accuracy: 0.9171\n"
     ]
    },
    {
     "name": "stdout",
     "output_type": "stream",
     "text": [
      "Epoch 90 - accuracy: 0.9654, val_accuracy: 0.9135\n"
     ]
    },
    {
     "name": "stdout",
     "output_type": "stream",
     "text": [
      "Epoch 91 - accuracy: 0.9640, val_accuracy: 0.9161\n"
     ]
    },
    {
     "name": "stdout",
     "output_type": "stream",
     "text": [
      "Epoch 92 - accuracy: 0.9649, val_accuracy: 0.9112\n"
     ]
    },
    {
     "name": "stdout",
     "output_type": "stream",
     "text": [
      "Epoch 93 - accuracy: 0.9637, val_accuracy: 0.9145\n"
     ]
    },
    {
     "name": "stdout",
     "output_type": "stream",
     "text": [
      "Epoch 94 - accuracy: 0.9639, val_accuracy: 0.9120\n"
     ]
    },
    {
     "name": "stdout",
     "output_type": "stream",
     "text": [
      "Epoch 95 - accuracy: 0.9657, val_accuracy: 0.9127\n"
     ]
    },
    {
     "name": "stdout",
     "output_type": "stream",
     "text": [
      "Epoch 96 - accuracy: 0.9590, val_accuracy: 0.9123\n"
     ]
    },
    {
     "name": "stdout",
     "output_type": "stream",
     "text": [
      "Epoch 97 - accuracy: 0.9647, val_accuracy: 0.9146\n"
     ]
    },
    {
     "name": "stdout",
     "output_type": "stream",
     "text": [
      "Epoch 98 - accuracy: 0.9646, val_accuracy: 0.9143\n"
     ]
    },
    {
     "name": "stdout",
     "output_type": "stream",
     "text": [
      "Epoch 99 - accuracy: 0.9654, val_accuracy: 0.9143\n"
     ]
    },
    {
     "name": "stdout",
     "output_type": "stream",
     "text": [
      "Epoch 100 - accuracy: 0.9663, val_accuracy: 0.9146\n"
     ]
    },
    {
     "data": {
      "image/png": "[encoded data removed]",
      "text/plain": [
       "<Figure size 1400x500 with 2 Axes>"
      ]
     },
     "metadata": {},
     "output_type": "display_data"
    }
   ],
   "source": [
    "import torch\n",
    "import matplotlib.pyplot as plt\n",
    "import seaborn as sns\n",
    "from sklearn.metrics import confusion_matrix\n",
    "import numpy as np\n",
    "\n",
    "# Initialize lists to store training and validation metrics for each epoch\n",
    "train_accuracies = []\n",
    "train_losses = []\n",
    "valid_accuracies = []\n",
    "valid_losses = []\n",
    "\n",
    "num_epochs = 100\n",
    "torch.manual_seed(1)\n",
    "\n",
    "# Training loop with metrics storage\n",
    "for epoch in range(num_epochs):\n",
    "    acc_train, loss_train = train(train_dl)\n",
    "    acc_valid, loss_valid = evaluate(val_dl)\n",
    "    \n",
    "    # Store metrics\n",
    "    train_accuracies.append(acc_train)\n",
    "    train_losses.append(loss_train)\n",
    "    valid_accuracies.append(acc_valid)\n",
    "    valid_losses.append(loss_valid)\n",
    "\n",
    "    print(f'Epoch {epoch + 1} - accuracy: {acc_train:.4f}, val_accuracy: {acc_valid:.4f}')\n",
    "\n",
    "# Plotting training and validation losses\n",
    "plt.figure(figsize=(14, 5))\n",
    "\n",
    "plt.subplot(1, 2, 1)\n",
    "plt.plot(range(1, num_epochs + 1), train_losses, label='Training Loss')\n",
    "plt.plot(range(1, num_epochs + 1), valid_losses, label='Validation Loss')\n",
    "plt.xlabel('Epoch')\n",
    "plt.ylabel('Loss')\n",
    "plt.title('Training and Validation Loss')\n",
    "plt.legend()\n",
    "\n",
    "# Plotting training and validation accuracies\n",
    "plt.subplot(1, 2, 2)\n",
    "plt.plot(range(1, num_epochs + 1), train_accuracies, label='Training Accuracy')\n",
    "plt.plot(range(1, num_epochs + 1), valid_accuracies, label='Validation Accuracy')\n",
    "plt.xlabel('Epoch')\n",
    "plt.ylabel('Accuracy')\n",
    "plt.title('Training and Validation Accuracy')\n",
    "plt.legend()\n",
    "\n",
    "plt.show()"
   ]
  },
  {
   "cell_type": "code",
   "execution_count": 19,
   "id": "df3525f5",
   "metadata": {
    "execution": {
     "iopub.execute_input": "2024-11-06T23:44:14.398826Z",
     "iopub.status.busy": "2024-11-06T23:44:14.398587Z",
     "iopub.status.idle": "2024-11-06T23:44:18.207117Z",
     "shell.execute_reply": "2024-11-06T23:44:18.206768Z"
    },
    "papermill": {
     "duration": 3.81942,
     "end_time": "2024-11-06T23:44:18.207874",
     "exception": false,
     "start_time": "2024-11-06T23:44:14.388454",
     "status": "completed"
    },
    "tags": []
   },
   "outputs": [
    {
     "name": "stdout",
     "output_type": "stream",
     "text": [
      "test_accuracy: 0.9099\n"
     ]
    }
   ],
   "source": [
    "acc_test, _ = evaluate(test_dl)\n",
    "print(f'test_accuracy: {acc_test:.4f}')"
   ]
  },
  {
   "cell_type": "code",
   "execution_count": 20,
   "id": "91363d30",
   "metadata": {
    "execution": {
     "iopub.execute_input": "2024-11-06T23:44:18.228377Z",
     "iopub.status.busy": "2024-11-06T23:44:18.228102Z",
     "iopub.status.idle": "2024-11-06T23:44:58.927601Z",
     "shell.execute_reply": "2024-11-06T23:44:58.926941Z"
    },
    "papermill": {
     "duration": 40.710613,
     "end_time": "2024-11-06T23:44:58.928663",
     "exception": false,
     "start_time": "2024-11-06T23:44:18.218050",
     "status": "completed"
    },
    "tags": []
   },
   "outputs": [
    {
     "name": "stdout",
     "output_type": "stream",
     "text": [
      "Results saved to predictions.csv\n"
     ]
    }
   ],
   "source": [
    "import pandas as pd\n",
    "import torch\n",
    "import random\n",
    "\n",
    "# Function to preprocess and predict a single comment\n",
    "def predict_comment(text, model, vocab):\n",
    "    model.eval()\n",
    "    # Tokenize and encode the input text using the same tokenizer and vocab as used during training\n",
    "    tokens = tokenizer(text)\n",
    "    encoded_text = [vocab.get(token, vocab[\"<unk>\"]) for token in tokens]\n",
    "\n",
    "    # Convert the tokens to tensor and add batch dimension\n",
    "    text_tensor = torch.tensor(encoded_text).unsqueeze(0).to(device)  # Add batch dimension\n",
    "    lengths_tensor = torch.tensor([len(encoded_text)]).to(device)\n",
    "\n",
    "    with torch.no_grad():\n",
    "        prediction = model(text_tensor, lengths_tensor)[:, 0]\n",
    "\n",
    "    # Apply threshold of 0.5 for binary classification\n",
    "    prediction_label = 1 if prediction >= 0.5 else 0\n",
    "    return prediction.item(), prediction_label\n",
    "\n",
    "# List to store prediction results\n",
    "results = []\n",
    "\n",
    "# Iterate over all samples in the test dataset\n",
    "for sample in test_dataset:\n",
    "    comment_text = sample['text']\n",
    "    true_label = sample['label']\n",
    "    predicted_value, predicted_label = predict_comment(comment_text, model, vocab)\n",
    "\n",
    "    # Append the data for each comment\n",
    "    results.append({\n",
    "        \"comment\": comment_text,\n",
    "        \"true_label\": true_label,\n",
    "        \"predicted_value\": predicted_value,\n",
    "        \"predicted_label\": predicted_label\n",
    "    })\n",
    "\n",
    "# Convert results list to a DataFrame\n",
    "results_df = pd.DataFrame(results)\n",
    "\n",
    "# Save the results DataFrame to a CSV file\n",
    "results_df.to_csv(\"predictions.csv\", index=False)\n",
    "\n",
    "print(\"Results saved to predictions.csv\")"
   ]
  },
  {
   "cell_type": "markdown",
   "id": "02aacfd7",
   "metadata": {
    "tags": [
     "papermill-error-cell-tag"
    ]
   },
   "source": [
    "<span id=\"papermill-error-cell\" style=\"color:red; font-family:Helvetica Neue, Helvetica, Arial, sans-serif; font-size:2em;\">Execution using papermill encountered an exception here and stopped:</span>"
   ]
  },
  {
   "cell_type": "code",
   "execution_count": 21,
   "id": "acb12d7b",
   "metadata": {
    "execution": {
     "iopub.execute_input": "2024-11-06T23:44:58.948060Z",
     "iopub.status.busy": "2024-11-06T23:44:58.947897Z",
     "iopub.status.idle": "2024-11-06T23:44:59.336697Z",
     "shell.execute_reply": "2024-11-06T23:44:59.335373Z"
    },
    "papermill": {
     "duration": 0.398812,
     "end_time": "2024-11-06T23:44:59.337280",
     "exception": true,
     "start_time": "2024-11-06T23:44:58.938468",
     "status": "failed"
    },
    "tags": []
   },
   "outputs": [
    {
     "ename": "TypeError",
     "evalue": "'float' object is not iterable",
     "output_type": "error",
     "traceback": [
      "\u001b[0;31m---------------------------------------------------------------------------\u001b[0m",
      "\u001b[0;31mTypeError\u001b[0m                                 Traceback (most recent call last)",
      "Cell \u001b[0;32mIn[21], line 9\u001b[0m\n\u001b[1;32m      7\u001b[0m     texts, labels, lengths \u001b[38;5;241m=\u001b[39m batch\n\u001b[1;32m      8\u001b[0m     predictions, _ \u001b[38;5;241m=\u001b[39m predict_comment(texts, model, vocab)  \u001b[38;5;66;03m# Adjust if predict_comment takes a batch\u001b[39;00m\n\u001b[0;32m----> 9\u001b[0m     \u001b[43mall_preds\u001b[49m\u001b[38;5;241;43m.\u001b[39;49m\u001b[43mextend\u001b[49m\u001b[43m(\u001b[49m\u001b[43mpredictions\u001b[49m\u001b[43m)\u001b[49m\n\u001b[1;32m     10\u001b[0m     all_labels\u001b[38;5;241m.\u001b[39mextend(labels\u001b[38;5;241m.\u001b[39mtolist())\n\u001b[1;32m     12\u001b[0m \u001b[38;5;66;03m# Compute confusion matrix\u001b[39;00m\n",
      "\u001b[0;31mTypeError\u001b[0m: 'float' object is not iterable"
     ]
    }
   ],
   "source": [
    "# Confusion matrix on the validation set\n",
    "all_preds = []\n",
    "all_labels = []\n",
    "\n",
    "# Collect predictions and true labels from the validation set\n",
    "for batch in val_dl:\n",
    "    texts, labels, lengths = batch\n",
    "    predictions, _ = predict_comment(texts, model, vocab)  # Adjust if predict_comment takes a batch\n",
    "    all_preds.extend(predictions)\n",
    "    all_labels.extend(labels.tolist())\n",
    "\n",
    "# Compute confusion matrix\n",
    "conf_matrix = confusion_matrix(all_labels, all_preds)\n",
    "\n",
    "# Plot confusion matrix\n",
    "plt.figure(figsize=(8, 6))\n",
    "sns.heatmap(conf_matrix, annot=True, fmt='d', cmap='Blues', xticklabels=['Negative', 'Positive'], yticklabels=['Negative', 'Positive'])\n",
    "plt.xlabel('Predicted Labels')\n",
    "plt.ylabel('True Labels')\n",
    "plt.title('Confusion Matrix')\n",
    "plt.show()"
   ]
  },
  {
   "cell_type": "code",
   "execution_count": null,
   "id": "3c674009",
   "metadata": {
    "papermill": {
     "duration": null,
     "end_time": null,
     "exception": null,
     "start_time": null,
     "status": "pending"
    },
    "tags": []
   },
   "outputs": [],
   "source": [
    "results_df[results_df['true_label'] != results_df['predicted_label']].to_csv(\"mismatches.csv\")\n",
    "results_df.shape"
   ]
  }
 ],
 "metadata": {
  "kernelspec": {
   "display_name": ".venv",
   "language": "python",
   "name": "python3"
  },
  "language_info": {
   "codemirror_mode": {
    "name": "ipython",
    "version": 3
   },
   "file_extension": ".py",
   "mimetype": "text/x-python",
   "name": "python",
   "nbconvert_exporter": "python",
   "pygments_lexer": "ipython3",
   "version": "3.9.16"
  },
  "papermill": {
   "default_parameters": {},
   "duration": 4178.684232,
   "end_time": "2024-11-06T23:45:00.197853",
   "environment_variables": {},
   "exception": true,
   "input_path": "./classifiers/rnn.ipynb",
   "output_path": "./classifiers/output_notebook.ipynb",
   "parameters": {},
   "start_time": "2024-11-06T22:35:21.513621",
   "version": "2.6.0"
  }
 },
 "nbformat": 4,
 "nbformat_minor": 5
}