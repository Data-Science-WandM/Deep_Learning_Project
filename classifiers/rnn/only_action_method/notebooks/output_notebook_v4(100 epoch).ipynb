{
 "cells": [
  {
   "cell_type": "code",
   "execution_count": 1,
   "id": "b030c2bf",
   "metadata": {
    "execution": {
     "iopub.execute_input": "2024-11-26T06:54:25.830688Z",
     "iopub.status.busy": "2024-11-26T06:54:25.830225Z",
     "iopub.status.idle": "2024-11-26T06:54:27.066554Z",
     "shell.execute_reply": "2024-11-26T06:54:27.064900Z"
    },
    "papermill": {
     "duration": 1.256644,
     "end_time": "2024-11-26T06:54:27.070428",
     "exception": false,
     "start_time": "2024-11-26T06:54:25.813784",
     "status": "completed"
    },
    "tags": []
   },
   "outputs": [
    {
     "name": "stdout",
     "output_type": "stream",
     "text": [
      "Requirement already satisfied: torch in /sciclone/data10/iahewababarand/.venv/lib/python3.9/site-packages (2.5.1)\r\n"
     ]
    },
    {
     "name": "stdout",
     "output_type": "stream",
     "text": [
      "Requirement already satisfied: filelock in /sciclone/data10/iahewababarand/.venv/lib/python3.9/site-packages (from torch) (3.16.1)\r\n",
      "Requirement already satisfied: typing-extensions>=4.8.0 in /sciclone/data10/iahewababarand/.venv/lib/python3.9/site-packages (from torch) (4.12.2)\r\n",
      "Requirement already satisfied: networkx in /sciclone/data10/iahewababarand/.venv/lib/python3.9/site-packages (from torch) (3.2.1)\r\n",
      "Requirement already satisfied: jinja2 in /sciclone/data10/iahewababarand/.venv/lib/python3.9/site-packages (from torch) (3.1.4)\r\n",
      "Requirement already satisfied: fsspec in /sciclone/data10/iahewababarand/.venv/lib/python3.9/site-packages (from torch) (2024.9.0)\r\n",
      "Requirement already satisfied: nvidia-cuda-nvrtc-cu12==12.4.127 in /sciclone/data10/iahewababarand/.venv/lib/python3.9/site-packages (from torch) (12.4.127)\r\n",
      "Requirement already satisfied: nvidia-cuda-runtime-cu12==12.4.127 in /sciclone/data10/iahewababarand/.venv/lib/python3.9/site-packages (from torch) (12.4.127)\r\n",
      "Requirement already satisfied: nvidia-cuda-cupti-cu12==12.4.127 in /sciclone/data10/iahewababarand/.venv/lib/python3.9/site-packages (from torch) (12.4.127)\r\n",
      "Requirement already satisfied: nvidia-cudnn-cu12==9.1.0.70 in /sciclone/data10/iahewababarand/.venv/lib/python3.9/site-packages (from torch) (9.1.0.70)\r\n",
      "Requirement already satisfied: nvidia-cublas-cu12==12.4.5.8 in /sciclone/data10/iahewababarand/.venv/lib/python3.9/site-packages (from torch) (12.4.5.8)\r\n",
      "Requirement already satisfied: nvidia-cufft-cu12==11.2.1.3 in /sciclone/data10/iahewababarand/.venv/lib/python3.9/site-packages (from torch) (11.2.1.3)\r\n",
      "Requirement already satisfied: nvidia-curand-cu12==10.3.5.147 in /sciclone/data10/iahewababarand/.venv/lib/python3.9/site-packages (from torch) (10.3.5.147)\r\n",
      "Requirement already satisfied: nvidia-cusolver-cu12==11.6.1.9 in /sciclone/data10/iahewababarand/.venv/lib/python3.9/site-packages (from torch) (11.6.1.9)\r\n",
      "Requirement already satisfied: nvidia-cusparse-cu12==12.3.1.170 in /sciclone/data10/iahewababarand/.venv/lib/python3.9/site-packages (from torch) (12.3.1.170)\r\n",
      "Requirement already satisfied: nvidia-nccl-cu12==2.21.5 in /sciclone/data10/iahewababarand/.venv/lib/python3.9/site-packages (from torch) (2.21.5)\r\n",
      "Requirement already satisfied: nvidia-nvtx-cu12==12.4.127 in /sciclone/data10/iahewababarand/.venv/lib/python3.9/site-packages (from torch) (12.4.127)\r\n",
      "Requirement already satisfied: nvidia-nvjitlink-cu12==12.4.127 in /sciclone/data10/iahewababarand/.venv/lib/python3.9/site-packages (from torch) (12.4.127)\r\n",
      "Requirement already satisfied: triton==3.1.0 in /sciclone/data10/iahewababarand/.venv/lib/python3.9/site-packages (from torch) (3.1.0)\r\n",
      "Requirement already satisfied: sympy==1.13.1 in /sciclone/data10/iahewababarand/.venv/lib/python3.9/site-packages (from torch) (1.13.1)\r\n",
      "Requirement already satisfied: mpmath<1.4,>=1.1.0 in /sciclone/data10/iahewababarand/.venv/lib/python3.9/site-packages (from sympy==1.13.1->torch) (1.3.0)\r\n"
     ]
    },
    {
     "name": "stdout",
     "output_type": "stream",
     "text": [
      "Requirement already satisfied: MarkupSafe>=2.0 in /sciclone/data10/iahewababarand/.venv/lib/python3.9/site-packages (from jinja2->torch) (3.0.2)\r\n"
     ]
    },
    {
     "name": "stdout",
     "output_type": "stream",
     "text": [
      "Note: you may need to restart the kernel to use updated packages.\n"
     ]
    }
   ],
   "source": [
    "pip install torch"
   ]
  },
  {
   "cell_type": "code",
   "execution_count": 2,
   "id": "ad6e0d8a",
   "metadata": {
    "execution": {
     "iopub.execute_input": "2024-11-26T06:54:27.094471Z",
     "iopub.status.busy": "2024-11-26T06:54:27.094090Z",
     "iopub.status.idle": "2024-11-26T06:54:28.925764Z",
     "shell.execute_reply": "2024-11-26T06:54:28.925209Z"
    },
    "papermill": {
     "duration": 1.842802,
     "end_time": "2024-11-26T06:54:28.927036",
     "exception": false,
     "start_time": "2024-11-26T06:54:27.084234",
     "status": "completed"
    },
    "tags": []
   },
   "outputs": [],
   "source": [
    "import torch\n",
    "import torch.nn as nn\n",
    "import pandas as pd\n",
    "import json\n",
    "from torch.utils.data import TensorDataset, DataLoader, random_split"
   ]
  },
  {
   "cell_type": "code",
   "execution_count": 3,
   "id": "20de829c",
   "metadata": {
    "execution": {
     "iopub.execute_input": "2024-11-26T06:54:28.938360Z",
     "iopub.status.busy": "2024-11-26T06:54:28.937534Z",
     "iopub.status.idle": "2024-11-26T06:54:28.941446Z",
     "shell.execute_reply": "2024-11-26T06:54:28.941044Z"
    },
    "papermill": {
     "duration": 0.010303,
     "end_time": "2024-11-26T06:54:28.942397",
     "exception": false,
     "start_time": "2024-11-26T06:54:28.932094",
     "status": "completed"
    },
    "tags": []
   },
   "outputs": [],
   "source": [
    "def get_data(filename):\n",
    "    \n",
    "    with open(filename, 'r', encoding='utf-8') as file:\n",
    "        data = json.load(file)\n",
    "\n",
    "    df = pd.DataFrame(data)\n",
    "    return df"
   ]
  },
  {
   "cell_type": "code",
   "execution_count": 4,
   "id": "7cc29309",
   "metadata": {
    "execution": {
     "iopub.execute_input": "2024-11-26T06:54:28.952552Z",
     "iopub.status.busy": "2024-11-26T06:54:28.952221Z",
     "iopub.status.idle": "2024-11-26T06:54:37.138970Z",
     "shell.execute_reply": "2024-11-26T06:54:37.138519Z"
    },
    "papermill": {
     "duration": 8.192933,
     "end_time": "2024-11-26T06:54:37.140057",
     "exception": false,
     "start_time": "2024-11-26T06:54:28.947124",
     "status": "completed"
    },
    "tags": []
   },
   "outputs": [],
   "source": [
    "data = get_data('./rnn/only_action_method/output_file.json')"
   ]
  },
  {
   "cell_type": "code",
   "execution_count": 5,
   "id": "4966b68a",
   "metadata": {
    "execution": {
     "iopub.execute_input": "2024-11-26T06:54:37.155265Z",
     "iopub.status.busy": "2024-11-26T06:54:37.154546Z",
     "iopub.status.idle": "2024-11-26T06:54:37.178837Z",
     "shell.execute_reply": "2024-11-26T06:54:37.178477Z"
    },
    "papermill": {
     "duration": 0.03517,
     "end_time": "2024-11-26T06:54:37.179660",
     "exception": false,
     "start_time": "2024-11-26T06:54:37.144490",
     "status": "completed"
    },
    "tags": []
   },
   "outputs": [
    {
     "data": {
      "text/html": [
       "<div>\n",
       "<style scoped>\n",
       "    .dataframe tbody tr th:only-of-type {\n",
       "        vertical-align: middle;\n",
       "    }\n",
       "\n",
       "    .dataframe tbody tr th {\n",
       "        vertical-align: top;\n",
       "    }\n",
       "\n",
       "    .dataframe thead th {\n",
       "        text-align: right;\n",
       "    }\n",
       "</style>\n",
       "<table border=\"1\" class=\"dataframe\">\n",
       "  <thead>\n",
       "    <tr style=\"text-align: right;\">\n",
       "      <th></th>\n",
       "      <th>content_syntactic_blocstring</th>\n",
       "      <th>action_blocstring</th>\n",
       "      <th>changes_list_content_syntactic_</th>\n",
       "      <th>changes_list_action</th>\n",
       "      <th>src</th>\n",
       "      <th>userId</th>\n",
       "      <th>user_class</th>\n",
       "      <th>tweet_count</th>\n",
       "      <th>change_content_syntactic</th>\n",
       "      <th>change_action</th>\n",
       "      <th>change_change_dynamic_score</th>\n",
       "      <th>highest_change_in_content_syntactic</th>\n",
       "      <th>lowest_change_in_content_syntactic</th>\n",
       "      <th>standard_deviation_of_content_syntactic</th>\n",
       "      <th>highest_change_in_action</th>\n",
       "      <th>lowest_change_in_action</th>\n",
       "      <th>standard_deviation_of_action</th>\n",
       "      <th>diversity_action</th>\n",
       "      <th>diversity_content_syntactic</th>\n",
       "      <th>diversity_change_dynamics_score</th>\n",
       "    </tr>\n",
       "  </thead>\n",
       "  <tbody>\n",
       "    <tr>\n",
       "      <th>0</th>\n",
       "      <td>(mmmmmmmmqt)(mmmmmmmmqt)(mmmmmmmmqt)(mmmmmmmmq...</td>\n",
       "      <td>rprp⚀pr□prrprrrprpprprprprprpprprprp□rprprprrr...</td>\n",
       "      <td>[0.683772233983162, 0.6413313282702238, 0.7963...</td>\n",
       "      <td>{'content_syntactic': [0.683772233983162, 0.64...</td>\n",
       "      <td>astroturf</td>\n",
       "      <td>146048090</td>\n",
       "      <td>bot</td>\n",
       "      <td>274</td>\n",
       "      <td>0.452173</td>\n",
       "      <td>0.403716</td>\n",
       "      <td>0.860073</td>\n",
       "      <td>1.0</td>\n",
       "      <td>0.000000</td>\n",
       "      <td>0.337325</td>\n",
       "      <td>1.0</td>\n",
       "      <td>0.000000e+00</td>\n",
       "      <td>0.333447</td>\n",
       "      <td>0.653102</td>\n",
       "      <td>0.652532</td>\n",
       "      <td>0.450906</td>\n",
       "    </tr>\n",
       "    <tr>\n",
       "      <th>1</th>\n",
       "      <td>(mmmmmmmqt)(mmmmmmmqt)(mmmmmmmqt)(mmmmmmmqt)(m...</td>\n",
       "      <td>r□pr□rr□rp⚀r⚀TTTTTTT□r⚀p⚀π□p|⚀rr⚀rr⚀rr□r⚀r|⚀p⚀...</td>\n",
       "      <td>[0.0600874600144512, 0.0, 0.004962809790010847...</td>\n",
       "      <td>{'content_syntactic': [0.0600874600144512, 0.0...</td>\n",
       "      <td>astroturf</td>\n",
       "      <td>797927149856403456</td>\n",
       "      <td>bot</td>\n",
       "      <td>275</td>\n",
       "      <td>0.481471</td>\n",
       "      <td>0.491328</td>\n",
       "      <td>0.586060</td>\n",
       "      <td>1.0</td>\n",
       "      <td>0.000000</td>\n",
       "      <td>0.432201</td>\n",
       "      <td>1.0</td>\n",
       "      <td>2.220446e-16</td>\n",
       "      <td>0.290351</td>\n",
       "      <td>0.707387</td>\n",
       "      <td>0.693840</td>\n",
       "      <td>0.151417</td>\n",
       "    </tr>\n",
       "    <tr>\n",
       "      <th>2</th>\n",
       "      <td>(mmt)(mmt)(qt)(qt)(qt)(mqt)(qt)(t)(qt)(qt)(Em)...</td>\n",
       "      <td>r□r⚀r⚀rr□rrr□r□r⚀rrr⚀r|⚁rrrrr□rrrrrr□rpprrrp□r...</td>\n",
       "      <td>[0.4050577935998917, 0.4777670321329065, 0.013...</td>\n",
       "      <td>{'content_syntactic': [0.4050577935998917, 0.4...</td>\n",
       "      <td>astroturf</td>\n",
       "      <td>1046169889138868225</td>\n",
       "      <td>bot</td>\n",
       "      <td>277</td>\n",
       "      <td>0.431741</td>\n",
       "      <td>0.369664</td>\n",
       "      <td>1.066061</td>\n",
       "      <td>1.0</td>\n",
       "      <td>0.000000</td>\n",
       "      <td>0.435529</td>\n",
       "      <td>1.0</td>\n",
       "      <td>2.220446e-16</td>\n",
       "      <td>0.249736</td>\n",
       "      <td>0.676182</td>\n",
       "      <td>0.644029</td>\n",
       "      <td>0.297367</td>\n",
       "    </tr>\n",
       "    <tr>\n",
       "      <th>3</th>\n",
       "      <td>(mmt)(mmmmmmqt)(mmmmmmmmmqt)(mmt)(mmt)(qt)(mmm...</td>\n",
       "      <td>prrpp□rrrrrrrrrrrrrr□rr□rrr□rrprrrrrrr□prrrrrr...</td>\n",
       "      <td>[0.6288092648051271, 0.7846125524146785, 1.0, ...</td>\n",
       "      <td>{'content_syntactic': [0.6288092648051271, 0.7...</td>\n",
       "      <td>astroturf</td>\n",
       "      <td>1085010463128195073</td>\n",
       "      <td>bot</td>\n",
       "      <td>244</td>\n",
       "      <td>0.183893</td>\n",
       "      <td>0.425183</td>\n",
       "      <td>1.532266</td>\n",
       "      <td>1.0</td>\n",
       "      <td>0.000000</td>\n",
       "      <td>0.365115</td>\n",
       "      <td>1.0</td>\n",
       "      <td>4.622382e-02</td>\n",
       "      <td>0.349031</td>\n",
       "      <td>0.698081</td>\n",
       "      <td>0.620676</td>\n",
       "      <td>0.211830</td>\n",
       "    </tr>\n",
       "    <tr>\n",
       "      <th>4</th>\n",
       "      <td>(mmmmmmmqt)|(Em)|(t)(mmqt)(mt)(mmt)|(qt)(HUqt)...</td>\n",
       "      <td>p|⚁p|⚀p□p□p□p|⚁rrrrrrrrpr□prrprr□rrrprrprrrprp...</td>\n",
       "      <td>[1.0, 1.0, 0.7426748822671673, 0.9264785377906...</td>\n",
       "      <td>{'content_syntactic': [1.0, 1.0, 0.74267488226...</td>\n",
       "      <td>astroturf</td>\n",
       "      <td>1613166488</td>\n",
       "      <td>bot</td>\n",
       "      <td>245</td>\n",
       "      <td>0.812726</td>\n",
       "      <td>0.547337</td>\n",
       "      <td>0.791417</td>\n",
       "      <td>1.0</td>\n",
       "      <td>0.373736</td>\n",
       "      <td>0.207269</td>\n",
       "      <td>1.0</td>\n",
       "      <td>2.220446e-16</td>\n",
       "      <td>0.289094</td>\n",
       "      <td>0.680286</td>\n",
       "      <td>0.766445</td>\n",
       "      <td>0.627025</td>\n",
       "    </tr>\n",
       "  </tbody>\n",
       "</table>\n",
       "</div>"
      ],
      "text/plain": [
       "                        content_syntactic_blocstring  \\\n",
       "0  (mmmmmmmmqt)(mmmmmmmmqt)(mmmmmmmmqt)(mmmmmmmmq...   \n",
       "1  (mmmmmmmqt)(mmmmmmmqt)(mmmmmmmqt)(mmmmmmmqt)(m...   \n",
       "2  (mmt)(mmt)(qt)(qt)(qt)(mqt)(qt)(t)(qt)(qt)(Em)...   \n",
       "3  (mmt)(mmmmmmqt)(mmmmmmmmmqt)(mmt)(mmt)(qt)(mmm...   \n",
       "4  (mmmmmmmqt)|(Em)|(t)(mmqt)(mt)(mmt)|(qt)(HUqt)...   \n",
       "\n",
       "                                   action_blocstring  \\\n",
       "0  rprp⚀pr□prrprrrprpprprprprprpprprprp□rprprprrr...   \n",
       "1  r□pr□rr□rp⚀r⚀TTTTTTT□r⚀p⚀π□p|⚀rr⚀rr⚀rr□r⚀r|⚀p⚀...   \n",
       "2  r□r⚀r⚀rr□rrr□r□r⚀rrr⚀r|⚁rrrrr□rrrrrr□rpprrrp□r...   \n",
       "3  prrpp□rrrrrrrrrrrrrr□rr□rrr□rrprrrrrrr□prrrrrr...   \n",
       "4  p|⚁p|⚀p□p□p□p|⚁rrrrrrrrpr□prrprr□rrrprrprrrprp...   \n",
       "\n",
       "                     changes_list_content_syntactic_  \\\n",
       "0  [0.683772233983162, 0.6413313282702238, 0.7963...   \n",
       "1  [0.0600874600144512, 0.0, 0.004962809790010847...   \n",
       "2  [0.4050577935998917, 0.4777670321329065, 0.013...   \n",
       "3  [0.6288092648051271, 0.7846125524146785, 1.0, ...   \n",
       "4  [1.0, 1.0, 0.7426748822671673, 0.9264785377906...   \n",
       "\n",
       "                                 changes_list_action        src  \\\n",
       "0  {'content_syntactic': [0.683772233983162, 0.64...  astroturf   \n",
       "1  {'content_syntactic': [0.0600874600144512, 0.0...  astroturf   \n",
       "2  {'content_syntactic': [0.4050577935998917, 0.4...  astroturf   \n",
       "3  {'content_syntactic': [0.6288092648051271, 0.7...  astroturf   \n",
       "4  {'content_syntactic': [1.0, 1.0, 0.74267488226...  astroturf   \n",
       "\n",
       "                userId user_class  tweet_count  change_content_syntactic  \\\n",
       "0            146048090        bot          274                  0.452173   \n",
       "1   797927149856403456        bot          275                  0.481471   \n",
       "2  1046169889138868225        bot          277                  0.431741   \n",
       "3  1085010463128195073        bot          244                  0.183893   \n",
       "4           1613166488        bot          245                  0.812726   \n",
       "\n",
       "   change_action  change_change_dynamic_score  \\\n",
       "0       0.403716                     0.860073   \n",
       "1       0.491328                     0.586060   \n",
       "2       0.369664                     1.066061   \n",
       "3       0.425183                     1.532266   \n",
       "4       0.547337                     0.791417   \n",
       "\n",
       "   highest_change_in_content_syntactic  lowest_change_in_content_syntactic  \\\n",
       "0                                  1.0                            0.000000   \n",
       "1                                  1.0                            0.000000   \n",
       "2                                  1.0                            0.000000   \n",
       "3                                  1.0                            0.000000   \n",
       "4                                  1.0                            0.373736   \n",
       "\n",
       "   standard_deviation_of_content_syntactic  highest_change_in_action  \\\n",
       "0                                 0.337325                       1.0   \n",
       "1                                 0.432201                       1.0   \n",
       "2                                 0.435529                       1.0   \n",
       "3                                 0.365115                       1.0   \n",
       "4                                 0.207269                       1.0   \n",
       "\n",
       "   lowest_change_in_action  standard_deviation_of_action  diversity_action  \\\n",
       "0             0.000000e+00                      0.333447          0.653102   \n",
       "1             2.220446e-16                      0.290351          0.707387   \n",
       "2             2.220446e-16                      0.249736          0.676182   \n",
       "3             4.622382e-02                      0.349031          0.698081   \n",
       "4             2.220446e-16                      0.289094          0.680286   \n",
       "\n",
       "   diversity_content_syntactic  diversity_change_dynamics_score  \n",
       "0                     0.652532                         0.450906  \n",
       "1                     0.693840                         0.151417  \n",
       "2                     0.644029                         0.297367  \n",
       "3                     0.620676                         0.211830  \n",
       "4                     0.766445                         0.627025  "
      ]
     },
     "execution_count": 5,
     "metadata": {},
     "output_type": "execute_result"
    }
   ],
   "source": [
    "data.head()"
   ]
  },
  {
   "cell_type": "code",
   "execution_count": 6,
   "id": "1dfcc665",
   "metadata": {
    "execution": {
     "iopub.execute_input": "2024-11-26T06:54:37.189776Z",
     "iopub.status.busy": "2024-11-26T06:54:37.189173Z",
     "iopub.status.idle": "2024-11-26T06:54:38.169895Z",
     "shell.execute_reply": "2024-11-26T06:54:38.168142Z"
    },
    "papermill": {
     "duration": 0.989065,
     "end_time": "2024-11-26T06:54:38.173351",
     "exception": false,
     "start_time": "2024-11-26T06:54:37.184286",
     "status": "completed"
    },
    "tags": []
   },
   "outputs": [
    {
     "name": "stdout",
     "output_type": "stream",
     "text": [
      "Requirement already satisfied: datasets in /sciclone/data10/iahewababarand/.venv/lib/python3.9/site-packages (3.1.0)\r\n"
     ]
    },
    {
     "name": "stdout",
     "output_type": "stream",
     "text": [
      "Requirement already satisfied: filelock in /sciclone/data10/iahewababarand/.venv/lib/python3.9/site-packages (from datasets) (3.16.1)\r\n",
      "Requirement already satisfied: numpy>=1.17 in /sciclone/data10/iahewababarand/.venv/lib/python3.9/site-packages (from datasets) (2.0.2)\r\n",
      "Requirement already satisfied: pyarrow>=15.0.0 in /sciclone/data10/iahewababarand/.venv/lib/python3.9/site-packages (from datasets) (18.0.0)\r\n",
      "Requirement already satisfied: dill<0.3.9,>=0.3.0 in /sciclone/data10/iahewababarand/.venv/lib/python3.9/site-packages (from datasets) (0.3.8)\r\n",
      "Requirement already satisfied: pandas in /sciclone/data10/iahewababarand/.venv/lib/python3.9/site-packages (from datasets) (2.2.3)\r\n",
      "Requirement already satisfied: requests>=2.32.2 in /sciclone/data10/iahewababarand/.venv/lib/python3.9/site-packages (from datasets) (2.32.3)\r\n",
      "Requirement already satisfied: tqdm>=4.66.3 in /sciclone/data10/iahewababarand/.venv/lib/python3.9/site-packages (from datasets) (4.66.6)\r\n",
      "Requirement already satisfied: xxhash in /sciclone/data10/iahewababarand/.venv/lib/python3.9/site-packages (from datasets) (3.5.0)\r\n",
      "Requirement already satisfied: multiprocess<0.70.17 in /sciclone/data10/iahewababarand/.venv/lib/python3.9/site-packages (from datasets) (0.70.16)\r\n",
      "Requirement already satisfied: fsspec<=2024.9.0,>=2023.1.0 in /sciclone/data10/iahewababarand/.venv/lib/python3.9/site-packages (from fsspec[http]<=2024.9.0,>=2023.1.0->datasets) (2024.9.0)\r\n",
      "Requirement already satisfied: aiohttp in /sciclone/data10/iahewababarand/.venv/lib/python3.9/site-packages (from datasets) (3.10.10)\r\n",
      "Requirement already satisfied: huggingface-hub>=0.23.0 in /sciclone/data10/iahewababarand/.venv/lib/python3.9/site-packages (from datasets) (0.26.2)\r\n",
      "Requirement already satisfied: packaging in /sciclone/data10/iahewababarand/.venv/lib/python3.9/site-packages (from datasets) (24.1)\r\n",
      "Requirement already satisfied: pyyaml>=5.1 in /sciclone/data10/iahewababarand/.venv/lib/python3.9/site-packages (from datasets) (6.0.2)\r\n"
     ]
    },
    {
     "name": "stdout",
     "output_type": "stream",
     "text": [
      "Requirement already satisfied: aiohappyeyeballs>=2.3.0 in /sciclone/data10/iahewababarand/.venv/lib/python3.9/site-packages (from aiohttp->datasets) (2.4.3)\r\n",
      "Requirement already satisfied: aiosignal>=1.1.2 in /sciclone/data10/iahewababarand/.venv/lib/python3.9/site-packages (from aiohttp->datasets) (1.3.1)\r\n",
      "Requirement already satisfied: attrs>=17.3.0 in /sciclone/data10/iahewababarand/.venv/lib/python3.9/site-packages (from aiohttp->datasets) (24.2.0)\r\n",
      "Requirement already satisfied: frozenlist>=1.1.1 in /sciclone/data10/iahewababarand/.venv/lib/python3.9/site-packages (from aiohttp->datasets) (1.5.0)\r\n",
      "Requirement already satisfied: multidict<7.0,>=4.5 in /sciclone/data10/iahewababarand/.venv/lib/python3.9/site-packages (from aiohttp->datasets) (6.1.0)\r\n",
      "Requirement already satisfied: yarl<2.0,>=1.12.0 in /sciclone/data10/iahewababarand/.venv/lib/python3.9/site-packages (from aiohttp->datasets) (1.17.1)\r\n",
      "Requirement already satisfied: async-timeout<5.0,>=4.0 in /sciclone/data10/iahewababarand/.venv/lib/python3.9/site-packages (from aiohttp->datasets) (4.0.3)\r\n",
      "Requirement already satisfied: typing-extensions>=3.7.4.3 in /sciclone/data10/iahewababarand/.venv/lib/python3.9/site-packages (from huggingface-hub>=0.23.0->datasets) (4.12.2)\r\n",
      "Requirement already satisfied: charset-normalizer<4,>=2 in /sciclone/data10/iahewababarand/.venv/lib/python3.9/site-packages (from requests>=2.32.2->datasets) (3.4.0)\r\n",
      "Requirement already satisfied: idna<4,>=2.5 in /sciclone/data10/iahewababarand/.venv/lib/python3.9/site-packages (from requests>=2.32.2->datasets) (3.10)\r\n",
      "Requirement already satisfied: urllib3<3,>=1.21.1 in /sciclone/data10/iahewababarand/.venv/lib/python3.9/site-packages (from requests>=2.32.2->datasets) (1.26.20)\r\n",
      "Requirement already satisfied: certifi>=2017.4.17 in /sciclone/data10/iahewababarand/.venv/lib/python3.9/site-packages (from requests>=2.32.2->datasets) (2024.8.30)\r\n"
     ]
    },
    {
     "name": "stdout",
     "output_type": "stream",
     "text": [
      "Requirement already satisfied: python-dateutil>=2.8.2 in /sciclone/data10/iahewababarand/.venv/lib/python3.9/site-packages (from pandas->datasets) (2.9.0.post0)\r\n",
      "Requirement already satisfied: pytz>=2020.1 in /sciclone/data10/iahewababarand/.venv/lib/python3.9/site-packages (from pandas->datasets) (2024.2)\r\n",
      "Requirement already satisfied: tzdata>=2022.7 in /sciclone/data10/iahewababarand/.venv/lib/python3.9/site-packages (from pandas->datasets) (2024.2)\r\n"
     ]
    },
    {
     "name": "stdout",
     "output_type": "stream",
     "text": [
      "Requirement already satisfied: six>=1.5 in /sciclone/data10/iahewababarand/.venv/lib/python3.9/site-packages (from python-dateutil>=2.8.2->pandas->datasets) (1.16.0)\r\n",
      "Requirement already satisfied: propcache>=0.2.0 in /sciclone/data10/iahewababarand/.venv/lib/python3.9/site-packages (from yarl<2.0,>=1.12.0->aiohttp->datasets) (0.2.0)\r\n"
     ]
    },
    {
     "name": "stdout",
     "output_type": "stream",
     "text": [
      "Note: you may need to restart the kernel to use updated packages.\n"
     ]
    }
   ],
   "source": [
    "pip install datasets"
   ]
  },
  {
   "cell_type": "code",
   "execution_count": 7,
   "id": "58c425cf",
   "metadata": {
    "execution": {
     "iopub.execute_input": "2024-11-26T06:54:38.197314Z",
     "iopub.status.busy": "2024-11-26T06:54:38.196981Z",
     "iopub.status.idle": "2024-11-26T06:54:38.854263Z",
     "shell.execute_reply": "2024-11-26T06:54:38.853719Z"
    },
    "papermill": {
     "duration": 0.66835,
     "end_time": "2024-11-26T06:54:38.855176",
     "exception": false,
     "start_time": "2024-11-26T06:54:38.186826",
     "status": "completed"
    },
    "tags": []
   },
   "outputs": [
    {
     "name": "stdout",
     "output_type": "stream",
     "text": [
      "Original class distribution:\n",
      "user_class\n",
      "bot      44457\n",
      "human    39219\n",
      "Name: count, dtype: int64\n",
      "Balanced class distribution:\n",
      "user_class\n",
      "bot      39219\n",
      "human    39219\n",
      "Name: count, dtype: int64\n"
     ]
    }
   ],
   "source": [
    "import pandas as pd\n",
    "from sklearn.utils import shuffle\n",
    "\n",
    "\n",
    "print(\"Original class distribution:\")\n",
    "print(data['user_class'].value_counts())\n",
    "\n",
    "# Separate data by user_class\n",
    "bots = data[data['user_class'] == 'bot']\n",
    "humans = data[data['user_class'] == 'human']\n",
    "\n",
    "# Select the minimum class size\n",
    "min_class_size = min(len(bots), len(humans))\n",
    "\n",
    "# Downsample each class to the minimum class size\n",
    "bots_balanced = bots.sample(n=min_class_size, random_state=1)\n",
    "humans_balanced = humans.sample(n=min_class_size, random_state=1)\n",
    "\n",
    "# Combine the balanced classes\n",
    "balanced_data = pd.concat([bots_balanced, humans_balanced])\n",
    "\n",
    "# Shuffle the data\n",
    "balanced_data = shuffle(balanced_data, random_state=1).reset_index(drop=True)\n",
    "\n",
    "print(\"Balanced class distribution:\")\n",
    "print(balanced_data['user_class'].value_counts())\n",
    "\n",
    "data = balanced_data"
   ]
  },
  {
   "cell_type": "code",
   "execution_count": 8,
   "id": "6cc56804",
   "metadata": {
    "execution": {
     "iopub.execute_input": "2024-11-26T06:54:38.866239Z",
     "iopub.status.busy": "2024-11-26T06:54:38.865532Z",
     "iopub.status.idle": "2024-11-26T06:54:38.870662Z",
     "shell.execute_reply": "2024-11-26T06:54:38.870323Z"
    },
    "papermill": {
     "duration": 0.011353,
     "end_time": "2024-11-26T06:54:38.871450",
     "exception": false,
     "start_time": "2024-11-26T06:54:38.860097",
     "status": "completed"
    },
    "tags": []
   },
   "outputs": [
    {
     "name": "stdout",
     "output_type": "stream",
     "text": [
      "data shape"
     ]
    },
    {
     "name": "stdout",
     "output_type": "stream",
     "text": [
      " (78438, 20)\n",
      "columns Index(['content_syntactic_blocstring', 'action_blocstring',\n",
      "       'changes_list_content_syntactic_', 'changes_list_action', 'src',\n",
      "       'userId', 'user_class', 'tweet_count', 'change_content_syntactic',\n",
      "       'change_action', 'change_change_dynamic_score',\n",
      "       'highest_change_in_content_syntactic',\n",
      "       'lowest_change_in_content_syntactic',\n",
      "       'standard_deviation_of_content_syntactic', 'highest_change_in_action',\n",
      "       'lowest_change_in_action', 'standard_deviation_of_action',\n",
      "       'diversity_action', 'diversity_content_syntactic',\n",
      "       'diversity_change_dynamics_score'],\n",
      "      dtype='object')\n"
     ]
    }
   ],
   "source": [
    "print(\"data shape\", data.shape)\n",
    "print(\"columns\", data.columns)"
   ]
  },
  {
   "cell_type": "code",
   "execution_count": 9,
   "id": "3b46441e",
   "metadata": {
    "execution": {
     "iopub.execute_input": "2024-11-26T06:54:38.881552Z",
     "iopub.status.busy": "2024-11-26T06:54:38.881258Z",
     "iopub.status.idle": "2024-11-26T06:54:38.895605Z",
     "shell.execute_reply": "2024-11-26T06:54:38.895248Z"
    },
    "papermill": {
     "duration": 0.020258,
     "end_time": "2024-11-26T06:54:38.896417",
     "exception": false,
     "start_time": "2024-11-26T06:54:38.876159",
     "status": "completed"
    },
    "tags": []
   },
   "outputs": [],
   "source": [
    "import json\n",
    "import torch\n",
    "from torch.utils.data import DataLoader, Dataset, random_split\n",
    "import pandas as pd\n",
    "\n",
    "class UserDataset(Dataset):\n",
    "    def __init__(self, data):\n",
    "        self.data = data\n",
    "    \n",
    "    def __len__(self):\n",
    "        return len(self.data)\n",
    "    \n",
    "    def __getitem__(self, idx):\n",
    "        text = self.data.loc[idx, 'content_syntactic_blocstring']\n",
    "        label = 1 if self.data.loc[idx, 'user_class'] == 'bot' else 0\n",
    "        return {\n",
    "            'text': text, \n",
    "            'label': label \n",
    "        }\n",
    "\n",
    "dataset = UserDataset(data)\n",
    "\n",
    "train_size = int(0.7 * len(dataset))\n",
    "val_size = int(0.15 * len(dataset))\n",
    "test_size = len(dataset) - train_size - val_size\n",
    "\n",
    "train_dataset, val_dataset, test_dataset = random_split(dataset, [train_size, val_size, test_size])\n",
    "\n",
    "train_loader = DataLoader(train_dataset, batch_size=32, shuffle=True)\n",
    "val_loader = DataLoader(val_dataset, batch_size=32, shuffle=False)\n",
    "test_loader = DataLoader(test_dataset, batch_size=32, shuffle=False)\n",
    "\n",
    "# Example usage: Iterate through the test loader\n",
    "# for batch in val_loader:\n",
    "#     print(batch['text'], batch['label'])\n"
   ]
  },
  {
   "cell_type": "code",
   "execution_count": 10,
   "id": "c994f587",
   "metadata": {
    "execution": {
     "iopub.execute_input": "2024-11-26T06:54:38.906760Z",
     "iopub.status.busy": "2024-11-26T06:54:38.906142Z",
     "iopub.status.idle": "2024-11-26T06:54:39.528784Z",
     "shell.execute_reply": "2024-11-26T06:54:39.528375Z"
    },
    "papermill": {
     "duration": 0.628713,
     "end_time": "2024-11-26T06:54:39.529682",
     "exception": false,
     "start_time": "2024-11-26T06:54:38.900969",
     "status": "completed"
    },
    "tags": []
   },
   "outputs": [
    {
     "name": "stdout",
     "output_type": "stream",
     "text": [
      "Vocab-size: 13\n",
      "vocab {'<pad>': 0, '<unk>': 1, '(': 2, ')': 3, 't': 4, '|': 5, 'H': 6, 'm': 7, 'U': 8, 'q': 9, 'E': 10, '¤': 11, 'φ': 12}\n"
     ]
    }
   ],
   "source": [
    "# Counter: subclass of Python's dictionary used for counting hashable objects, in this case, tokens (words).\n",
    "# OrderedDict: subclass of Python's dictionary that remembers the insertion order of keys. It is used to store tokens in a specific order based on frequency.\n",
    "from collections import Counter, OrderedDict\n",
    "# re: A module for working with regular expressions, used to manipulate and clean text.\n",
    "import re\n",
    "\n",
    "# Token counts and vocab creation\n",
    "# Initializes an empty Counter object to hold the frequency of each token in the dataset.\n",
    "token_counts = Counter()\n",
    "\n",
    "# Define tokenizer\n",
    "def tokenizer(text):\n",
    "\n",
    "    #  replace | with \" \"\n",
    "    # text = text.replace(\"|\", \" \")\n",
    "\n",
    "    return list(text)\n",
    "\n",
    "# Tokenize the training data and populate token_counts\n",
    "for entry in test_dataset:  # Assuming train_dataset is a dataset with 'text'\n",
    "    line = entry['text']\n",
    "    tokens = tokenizer(line)\n",
    "    token_counts.update(tokens)\n",
    "\n",
    "# Sort tokens by frequency\n",
    "# token_counts.items() returns the tokens and their respective counts as a list of tuples (e.g., [(token1, count1), (token2, count2), ...])\n",
    "# key=lambda x: x[1] means that the sorting is based on the count (x[1]), which is the second element of each tuple\n",
    "# reverse=True means that the most frequent tokens appear first in the sorted list.\n",
    "sorted_by_freq_tuples = sorted(token_counts.items(), key=lambda x: x[1], reverse=True)\n",
    "\n",
    "# Create an ordered dictionary for the vocab\n",
    "ordered_dict = OrderedDict(sorted_by_freq_tuples)\n",
    "\n",
    "# The padding token (pad) is used to ensure that all sequences in a batch have the same length.\n",
    "# The unknown token (unk) is used to represent words that are not found in the model's vocabulary (the top 69021 words in your case).\n",
    "# Any word that doesn't appear in the vocabulary is replaced by the unk token during tokenization.\n",
    "# This is critical for handling unseen words during inference, where the model encounters words that were not present in the training data.\n",
    "# Create vocab dictionary with special tokens\n",
    "# Initializes the vocab dictionary with two special tokens\n",
    "vocab = {\"<pad>\": 0, \"<unk>\": 1}\n",
    "\n",
    "for idx, (token, count) in enumerate(ordered_dict.items(), start=2):  # Start from 2 to skip the special tokens\n",
    "    vocab[token] = idx\n",
    "\n",
    "\n",
    "# Print the vocabulary size (should be 69023)\n",
    "print('Vocab-size:', len(vocab))\n",
    "print('vocab', vocab)\n",
    "# --- Rationale:\n",
    "#\n",
    "# By assigning frequent words lower indices, we can optimize memory and computational efficiency.\n",
    "# Words that appear infrequently can either be assigned higher indices (in case we want to keep them) or omitted from the vocabulary entirely."
   ]
  },
  {
   "cell_type": "code",
   "execution_count": 11,
   "id": "beb0932e",
   "metadata": {
    "execution": {
     "iopub.execute_input": "2024-11-26T06:54:39.540818Z",
     "iopub.status.busy": "2024-11-26T06:54:39.540195Z",
     "iopub.status.idle": "2024-11-26T06:54:39.544928Z",
     "shell.execute_reply": "2024-11-26T06:54:39.544590Z"
    },
    "papermill": {
     "duration": 0.010962,
     "end_time": "2024-11-26T06:54:39.545740",
     "exception": false,
     "start_time": "2024-11-26T06:54:39.534778",
     "status": "completed"
    },
    "tags": []
   },
   "outputs": [
    {
     "name": "stdout",
     "output_type": "stream",
     "text": [
      "[2, 7, 9, 4, 3, 2, 4, 3, 2, 10, 6, 6, 4, 3, 2, 4, 3, 5, 2, 8, 4, 3, 2, 6, 9, 4, 3, 5, 2, 6, 9, 4, 3, 2, 10, 6, 7, 4, 3, 5, 2, 9, 4, 3, 5, 2, 6, 6, 9, 4, 3, 5, 2, 9, 4, 3, 2, 6, 6, 4, 3, 2, 7, 9, 4, 3, 2, 6, 4, 3, 5, 2, 6, 6, 9, 4, 3, 2, 6, 8, 4, 3, 2, 8, 4, 3, 5, 2, 9, 4, 3, 5, 2, 9, 4, 3, 5, 2, 6, 6, 9, 4, 3, 2, 4, 3, 5, 2, 6, 6, 7, 9, 4, 3, 5, 2, 8, 8, 4, 3, 5, 2, 9, 4, 3, 5, 2, 6, 9, 4, 3, 5, 2, 8, 3, 2, 4, 3, 5, 2, 9, 4, 3, 2, 9, 4, 3, 5, 2, 6, 6, 4, 3, 5, 2, 6, 7, 9, 4, 3, 2, 9, 4, 3, 2, 9, 4, 3, 2, 4, 3, 5, 2, 7, 9, 4, 3, 2, 7, 7, 7, 7, 7, 7, 7, 7, 9, 4, 3, 5, 2, 6, 6, 9, 4, 3, 5, 2, 8, 4, 3, 5, 2, 9, 4, 3, 5, 2, 6, 4, 3, 5, 2, 10, 6, 4, 3, 5, 2, 9, 4, 3, 5, 2, 6, 6, 6, 6, 6, 6, 9, 4, 3, 2, 9, 4, 3, 5, 2, 9, 4, 3, 5, 2, 4, 3, 2, 6, 7, 9, 4, 3, 2, 9, 4, 3, 5, 2, 6, 6, 9, 4, 3, 5, 2, 7, 7, 7, 7, 7, 7, 7, 7, 9, 4, 3, 5, 2, 7, 9, 4, 3, 2, 7, 7, 4, 3, 2, 6, 7, 9, 4, 3, 2, 6, 6, 6, 9, 4, 3, 2, 7, 9, 4, 3, 2, 6, 8, 4, 3, 5, 2, 7, 4, 3, 2, 7, 7, 7, 9, 4, 3, 2, 9, 4, 3, 2, 6, 6, 9, 4, 3, 2, 9, 4, 3, 2, 9, 4, 3, 2, 9, 4, 3, 2, 4, 3, 2, 7, 7, 7, 7, 7, 7, 7, 7, 9, 4, 3, 5, 2, 6, 9, 4, 3, 5, 2, 7, 7, 7, 7, 7, 7, 7, 7, 9, 4, 3, 5, 2, 9, 4, 3, 5, 2, 6, 9, 4, 3, 2, 8, 4, 3, 5, 2, 9, 4, 3, 5, 2, 9, 4, 3, 2, 10, 10, 7, 4, 3, 2, 7, 7, 9, 4, 3, 5, 2, 9, 4, 3, 2, 9, 4, 3, 5, 2, 4, 3, 5, 2, 6, 7, 9, 4, 3, 2, 10, 3, 2, 10, 6, 4, 3, 5, 2, 9, 4, 3, 2, 8, 4, 3, 5, 2, 6, 9, 4, 3, 5, 2, 9, 4, 3, 5, 2, 7, 7, 7, 4, 3, 5, 2, 6, 7, 7, 9, 4, 3, 5, 2, 10, 6, 3, 5, 2, 6, 8, 4, 3, 5, 2, 9, 4, 3, 2, 10, 6, 4, 3, 5, 2, 9, 4, 3, 5, 2, 6, 4, 3, 2, 6, 8, 4, 3, 2, 6, 6, 9, 4, 3, 5, 2, 6, 6, 9, 4, 3, 2, 9, 4, 3, 2, 7, 8, 4, 3, 2, 9, 4, 3, 2, 9, 4, 3, 5, 2, 6, 6, 7, 7, 9, 4, 3, 5, 2, 9, 4, 3, 5, 2, 4, 3, 5, 2, 9, 4, 3, 5, 2, 4, 3, 5, 2, 8, 4, 3, 5, 2, 6, 9, 4, 3, 2, 6, 9, 4, 3, 5, 2, 9, 4, 3, 2, 9, 4, 3, 2, 4, 3, 5, 2, 4, 3, 5, 2, 6, 6, 6, 6, 6, 9, 4, 3, 2, 7, 9, 4, 3, 5, 2, 7, 4, 3, 2, 10, 4, 3, 5, 2, 4, 3, 5, 2, 6, 6, 4, 3, 5, 2, 6, 6, 9, 4, 3, 2, 9, 4, 3, 5, 2, 4, 3, 2, 4, 3, 5, 2, 6, 6, 7, 9, 4, 3, 2, 7, 9, 4, 3, 2, 4, 3, 2, 7, 9, 4, 3, 5, 2, 7, 9, 4, 3, 2, 9, 4, 3, 2, 7, 4, 3, 2, 8, 4, 3, 5, 2, 7, 9, 4, 3, 5, 2, 6, 9, 4, 3, 5, 2, 9, 4, 3, 2, 6, 6, 6, 9, 4, 3, 2, 10, 6, 6, 6, 4, 3, 2, 9, 4, 3, 5, 2, 6, 6, 9, 4, 3, 5, 2, 7, 9, 4, 3, 2, 7, 9, 4, 3, 2, 9, 4, 3, 2, 7, 9, 4, 3, 2, 10, 4, 3, 5, 2, 10, 4, 3, 2, 6, 7, 9, 4, 3, 2, 9, 4, 3, 2, 8, 4, 3, 2, 9, 4, 3, 5, 2, 8, 4, 3, 2, 9, 4, 3, 2, 9, 4, 3, 2, 9, 4, 3, 2, 6, 6, 7, 9, 4, 3, 5, 2, 9, 4, 3, 2, 6, 6, 9, 4, 3, 2, 8, 4, 3, 2, 9, 4, 3, 5, 2, 9, 4, 3, 2, 6, 6, 6, 9, 4, 3, 2, 6, 6, 9, 4, 3, 5, 2, 7, 9, 4, 3, 2, 10, 6, 4, 3, 5, 2, 9, 4, 3, 5, 2, 6, 6, 9, 4, 3, 2, 4, 3, 2, 8, 4, 3, 2, 7, 9, 4, 3, 2, 6, 9, 4, 3, 2, 10, 4, 3, 2, 10, 6, 4, 3, 2, 8, 4, 3, 5, 2, 6, 6, 9, 4, 3, 5, 2, 6, 9, 4, 3, 2, 9, 4, 3, 2, 9, 4, 3, 5, 2, 9, 4, 3, 5, 2, 7, 9, 4, 3, 2, 6, 6, 9, 4, 3, 2, 9, 4, 3, 2, 7, 9, 4, 3, 2, 7, 4, 3, 5, 2, 7, 9, 4, 3, 2, 9, 4, 3, 2, 7, 7, 4, 3, 5, 2, 6, 9, 4, 3, 5, 2, 7, 7, 7, 9, 4, 3, 2, 7, 7, 4, 3, 5, 2, 9, 4, 3, 5, 2, 9, 4, 3, 5, 2, 9, 4, 3, 5, 2, 9, 4, 3, 5, 2, 7, 9, 4, 3, 2, 8, 4, 3, 2, 9, 4, 3, 5, 2, 6, 6, 9, 4, 3, 5, 2, 9, 4, 3, 2, 10, 4, 3, 2, 6, 9, 4, 3, 2, 10, 7, 4, 3, 2, 7, 9, 4, 3, 2, 7, 4, 3, 2, 6, 9, 4, 3, 5, 2, 7, 4, 3, 2, 6, 9, 4, 3, 2, 7, 9, 4, 3, 5, 2, 6, 9, 4, 3, 5, 2, 6, 9, 4, 3]\n"
     ]
    }
   ],
   "source": [
    "def encode(tokens):\n",
    "    #If the token does not exist in the vocab, the function returns the index of the <unk>\n",
    "    return [vocab.get(token, vocab[\"<unk>\"]) for token in tokens]\n",
    "# Example usage\n",
    "print(encode(list('(mqt)(t)(EHHt)(t)|(Ut)(Hqt)|(Hqt)(EHmt)|(qt)|(HHqt)|(qt)(HHt)(mqt)(Ht)|(HHqt)(HUt)(Ut)|(qt)|(qt)|(HHqt)(t)|(HHmqt)|(UUt)|(qt)|(Hqt)|(U)(t)|(qt)(qt)|(HHt)|(Hmqt)(qt)(qt)(t)|(mqt)(mmmmmmmmqt)|(HHqt)|(Ut)|(qt)|(Ht)|(EHt)|(qt)|(HHHHHHqt)(qt)|(qt)|(t)(Hmqt)(qt)|(HHqt)|(mmmmmmmmqt)|(mqt)(mmt)(Hmqt)(HHHqt)(mqt)(HUt)|(mt)(mmmqt)(qt)(HHqt)(qt)(qt)(qt)(t)(mmmmmmmmqt)|(Hqt)|(mmmmmmmmqt)|(qt)|(Hqt)(Ut)|(qt)|(qt)(EEmt)(mmqt)|(qt)(qt)|(t)|(Hmqt)(E)(EHt)|(qt)(Ut)|(Hqt)|(qt)|(mmmt)|(Hmmqt)|(EH)|(HUt)|(qt)(EHt)|(qt)|(Ht)(HUt)(HHqt)|(HHqt)(qt)(mUt)(qt)(qt)|(HHmmqt)|(qt)|(t)|(qt)|(t)|(Ut)|(Hqt)(Hqt)|(qt)(qt)(t)|(t)|(HHHHHqt)(mqt)|(mt)(Et)|(t)|(HHt)|(HHqt)(qt)|(t)(t)|(HHmqt)(mqt)(t)(mqt)|(mqt)(qt)(mt)(Ut)|(mqt)|(Hqt)|(qt)(HHHqt)(EHHHt)(qt)|(HHqt)|(mqt)(mqt)(qt)(mqt)(Et)|(Et)(Hmqt)(qt)(Ut)(qt)|(Ut)(qt)(qt)(qt)(HHmqt)|(qt)(HHqt)(Ut)(qt)|(qt)(HHHqt)(HHqt)|(mqt)(EHt)|(qt)|(HHqt)(t)(Ut)(mqt)(Hqt)(Et)(EHt)(Ut)|(HHqt)|(Hqt)(qt)(qt)|(qt)|(mqt)(HHqt)(qt)(mqt)(mt)|(mqt)(qt)(mmt)|(Hqt)|(mmmqt)(mmt)|(qt)|(qt)|(qt)|(qt)|(mqt)(Ut)(qt)|(HHqt)|(qt)(Et)(Hqt)(Emt)(mqt)(mt)(Hqt)|(mt)(Hqt)(mqt)|(Hqt)|(Hqt)')))  # Should output something like [11, 7, 35, 457]"
   ]
  },
  {
   "cell_type": "code",
   "execution_count": 12,
   "id": "c01ba186",
   "metadata": {
    "execution": {
     "iopub.execute_input": "2024-11-26T06:54:39.556156Z",
     "iopub.status.busy": "2024-11-26T06:54:39.555874Z",
     "iopub.status.idle": "2024-11-26T06:54:39.700630Z",
     "shell.execute_reply": "2024-11-26T06:54:39.700193Z"
    },
    "papermill": {
     "duration": 0.151129,
     "end_time": "2024-11-26T06:54:39.701709",
     "exception": false,
     "start_time": "2024-11-26T06:54:39.550580",
     "status": "completed"
    },
    "tags": []
   },
   "outputs": [],
   "source": [
    "if not torch.cuda.is_available():\n",
    "    print(\"Warning: this code may be very slow on CPU\")"
   ]
  },
  {
   "cell_type": "code",
   "execution_count": 13,
   "id": "6948569c",
   "metadata": {
    "execution": {
     "iopub.execute_input": "2024-11-26T06:54:39.713032Z",
     "iopub.status.busy": "2024-11-26T06:54:39.712379Z",
     "iopub.status.idle": "2024-11-26T06:54:39.718561Z",
     "shell.execute_reply": "2024-11-26T06:54:39.718212Z"
    },
    "papermill": {
     "duration": 0.01253,
     "end_time": "2024-11-26T06:54:39.719360",
     "exception": false,
     "start_time": "2024-11-26T06:54:39.706830",
     "status": "completed"
    },
    "tags": []
   },
   "outputs": [],
   "source": [
    "import torch\n",
    "import torch.nn as nn\n",
    "import re\n",
    "\n",
    "device = torch.device(\"cuda\" if torch.cuda.is_available() else \"cpu\")\n",
    "\n",
    "# Use the manual vocab creation process from earlier\n",
    "# Assuming `vocab` and `tokenizer` are already defined\n",
    "\n",
    "#text_pipeline = lambda x: [vocab[token] for token in tokenizer(x)]\n",
    "# Updated text pipeline\n",
    "text_pipeline = lambda x: [vocab.get(token, vocab[\"<unk>\"]) for token in tokenizer(x)]\n",
    "\n",
    "label_pipeline = lambda x: float(x)  # Convert to float to match the output\n",
    "\n",
    "# Batch collation function\n",
    "def collate_batch(batch):\n",
    "    label_list, text_list, lengths = [], [], []\n",
    "    for entry in batch:  # Each 'entry' is a dictionary with 'text' and 'label'\n",
    "        _label = entry['label']\n",
    "        _text = entry['text']\n",
    "\n",
    "        # Process labels and text\n",
    "        label_list.append(label_pipeline(_label))  # Convert labels using label_pipeline\n",
    "        processed_text = torch.tensor(text_pipeline(_text), dtype=torch.int64)  # Convert text to indices\n",
    "\n",
    "        # Store processed text and its length\n",
    "        text_list.append(processed_text)\n",
    "        lengths.append(processed_text.size(0))\n",
    "\n",
    "    # Convert lists to tensors and pad sequences\n",
    "    label_list = torch.tensor(label_list)\n",
    "    lengths = torch.tensor(lengths)\n",
    "    padded_text_list = nn.utils.rnn.pad_sequence(text_list, batch_first=True)\n",
    "\n",
    "    return padded_text_list.to(device), label_list.to(device), lengths.to(device)"
   ]
  },
  {
   "cell_type": "code",
   "execution_count": 14,
   "id": "ed2e7c56",
   "metadata": {
    "execution": {
     "iopub.execute_input": "2024-11-26T06:54:39.729504Z",
     "iopub.status.busy": "2024-11-26T06:54:39.729222Z",
     "iopub.status.idle": "2024-11-26T06:54:40.119460Z",
     "shell.execute_reply": "2024-11-26T06:54:40.118978Z"
    },
    "papermill": {
     "duration": 0.396287,
     "end_time": "2024-11-26T06:54:40.120361",
     "exception": false,
     "start_time": "2024-11-26T06:54:39.724074",
     "status": "completed"
    },
    "tags": []
   },
   "outputs": [
    {
     "name": "stdout",
     "output_type": "stream",
     "text": [
      "Text batch: tensor([[ 2,  9,  4,  ...,  0,  0,  0],\n",
      "        [ 2,  6,  6,  ...,  8,  4,  3],\n",
      "        [ 2,  4,  3,  ...,  0,  0,  0],\n",
      "        [ 2, 10,  6,  ...,  0,  0,  0]], device='cuda:0')\n",
      "Label batch: tensor([0., 1., 0., 0.], device='cuda:0')\n",
      "Length batch: tensor([795, 997, 120, 991], device='cuda:0')\n",
      "Text batch shape: torch.Size([4, 997])\n"
     ]
    }
   ],
   "source": [
    "#-----  Example usage with DataLoader -----#\n",
    "## Take a small batch\n",
    "\n",
    "dataloader = DataLoader(train_dataset, batch_size=4, shuffle=False, collate_fn=collate_batch)\n",
    "text_batch, label_batch, length_batch = next(iter(dataloader))\n",
    "\n",
    "# Print the output batch\n",
    "print(\"Text batch:\", text_batch)\n",
    "print(\"Label batch:\", label_batch)\n",
    "print(\"Length batch:\", length_batch)\n",
    "print(\"Text batch shape:\", text_batch.shape)"
   ]
  },
  {
   "cell_type": "code",
   "execution_count": 15,
   "id": "5054d723",
   "metadata": {
    "execution": {
     "iopub.execute_input": "2024-11-26T06:54:40.131795Z",
     "iopub.status.busy": "2024-11-26T06:54:40.131166Z",
     "iopub.status.idle": "2024-11-26T06:54:40.134934Z",
     "shell.execute_reply": "2024-11-26T06:54:40.134602Z"
    },
    "papermill": {
     "duration": 0.010147,
     "end_time": "2024-11-26T06:54:40.135728",
     "exception": false,
     "start_time": "2024-11-26T06:54:40.125581",
     "status": "completed"
    },
    "tags": []
   },
   "outputs": [],
   "source": [
    "## Batching the datasets\n",
    "batch_size = 32\n",
    "\n",
    "train_dl = DataLoader(train_dataset, batch_size=batch_size,\n",
    "                      shuffle=True, collate_fn=collate_batch)\n",
    "val_dl = DataLoader(val_dataset, batch_size=batch_size,\n",
    "                      shuffle=False, collate_fn=collate_batch)\n",
    "test_dl = DataLoader(test_dataset, batch_size=batch_size,\n",
    "                     shuffle=False, collate_fn=collate_batch)"
   ]
  },
  {
   "cell_type": "code",
   "execution_count": 16,
   "id": "3130674a",
   "metadata": {
    "execution": {
     "iopub.execute_input": "2024-11-26T06:54:40.145888Z",
     "iopub.status.busy": "2024-11-26T06:54:40.145609Z",
     "iopub.status.idle": "2024-11-26T06:54:40.170601Z",
     "shell.execute_reply": "2024-11-26T06:54:40.170229Z"
    },
    "papermill": {
     "duration": 0.031027,
     "end_time": "2024-11-26T06:54:40.171436",
     "exception": false,
     "start_time": "2024-11-26T06:54:40.140409",
     "status": "completed"
    },
    "tags": []
   },
   "outputs": [],
   "source": [
    "class RNN(nn.Module):\n",
    "    def __init__(self, vocab_size, embed_dim, rnn_hidden_size, fc_hidden_size):\n",
    "        super().__init__()\n",
    "        self.embedding = nn.Embedding(vocab_size,\n",
    "                                      embed_dim,\n",
    "                                      padding_idx=0)\n",
    "        self.rnn = nn.LSTM(embed_dim, rnn_hidden_size,\n",
    "                           batch_first=True)\n",
    "        self.fc1 = nn.Linear(rnn_hidden_size, fc_hidden_size)\n",
    "        self.relu = nn.ReLU()\n",
    "        self.fc2 = nn.Linear(fc_hidden_size, 1)\n",
    "        self.sigmoid = nn.Sigmoid()\n",
    "\n",
    "    def forward(self, text, lengths):\n",
    "        out = self.embedding(text)\n",
    "        out = nn.utils.rnn.pack_padded_sequence(out, lengths.cpu().numpy(), enforce_sorted=False, batch_first=True)\n",
    "        out, (hidden, cell) = self.rnn(out)\n",
    "        out = hidden[-1, :, :]\n",
    "        out = self.fc1(out)\n",
    "        out = self.relu(out)\n",
    "        out = self.fc2(out)\n",
    "        out = self.sigmoid(out)\n",
    "        return out\n",
    "\n",
    "vocab_size = len(vocab)\n",
    "embed_dim = 20\n",
    "rnn_hidden_size = 64\n",
    "fc_hidden_size = 64\n",
    "\n",
    "torch.manual_seed(1)\n",
    "model = RNN(vocab_size, embed_dim, rnn_hidden_size, fc_hidden_size)\n",
    "model = model.to(device)"
   ]
  },
  {
   "cell_type": "code",
   "execution_count": 17,
   "id": "77a2f300",
   "metadata": {
    "execution": {
     "iopub.execute_input": "2024-11-26T06:54:40.182577Z",
     "iopub.status.busy": "2024-11-26T06:54:40.181966Z",
     "iopub.status.idle": "2024-11-26T06:54:41.132620Z",
     "shell.execute_reply": "2024-11-26T06:54:41.132172Z"
    },
    "papermill": {
     "duration": 0.957463,
     "end_time": "2024-11-26T06:54:41.133696",
     "exception": false,
     "start_time": "2024-11-26T06:54:40.176233",
     "status": "completed"
    },
    "tags": []
   },
   "outputs": [],
   "source": [
    "loss_fn = nn.BCELoss()\n",
    "optimizer = torch.optim.Adam(model.parameters(), lr=0.001)"
   ]
  },
  {
   "cell_type": "code",
   "execution_count": 18,
   "id": "3486e847",
   "metadata": {
    "execution": {
     "iopub.execute_input": "2024-11-26T06:54:41.145144Z",
     "iopub.status.busy": "2024-11-26T06:54:41.144353Z",
     "iopub.status.idle": "2024-11-26T06:54:41.150410Z",
     "shell.execute_reply": "2024-11-26T06:54:41.150059Z"
    },
    "papermill": {
     "duration": 0.012487,
     "end_time": "2024-11-26T06:54:41.151233",
     "exception": false,
     "start_time": "2024-11-26T06:54:41.138746",
     "status": "completed"
    },
    "tags": []
   },
   "outputs": [],
   "source": [
    "def train(dataloader):\n",
    "    model.train()\n",
    "    total_acc, total_loss = 0, 0\n",
    "    for text_batch, label_batch, lengths in dataloader:  # Loop through batches in dataloader\n",
    "        optimizer.zero_grad()\n",
    "        pred = model(text_batch, lengths)[:, 0]\n",
    "        loss = loss_fn(pred, label_batch)\n",
    "        loss.backward()\n",
    "        optimizer.step()\n",
    "        total_acc += ((pred >= 0.5).float() == label_batch).float().sum().item()\n",
    "        total_loss += loss.item() * label_batch.size(0)\n",
    "    return total_acc / len(dataloader.dataset), total_loss / len(dataloader.dataset)\n",
    "\n",
    "def evaluate(dataloader):\n",
    "    model.eval()\n",
    "    total_acc, total_loss = 0, 0\n",
    "    with torch.no_grad():\n",
    "        for text_batch, label_batch, lengths in dataloader:  # Loop through batches in dataloader\n",
    "            pred = model(text_batch, lengths)[:, 0]\n",
    "            loss = loss_fn(pred, label_batch)\n",
    "            total_acc += ((pred >= 0.5).float() == label_batch).float().sum().item()\n",
    "            total_loss += loss.item() * label_batch.size(0)\n",
    "    return total_acc / len(dataloader.dataset), total_loss / len(dataloader.dataset)"
   ]
  },
  {
   "cell_type": "code",
   "execution_count": 19,
   "id": "b3f9bed5",
   "metadata": {
    "execution": {
     "iopub.execute_input": "2024-11-26T06:54:41.161730Z",
     "iopub.status.busy": "2024-11-26T06:54:41.161423Z",
     "iopub.status.idle": "2024-11-26T09:52:51.416467Z",
     "shell.execute_reply": "2024-11-26T09:52:51.416013Z"
    },
    "papermill": {
     "duration": 10690.261424,
     "end_time": "2024-11-26T09:52:51.417572",
     "exception": false,
     "start_time": "2024-11-26T06:54:41.156148",
     "status": "completed"
    },
    "tags": []
   },
   "outputs": [
    {
     "name": "stdout",
     "output_type": "stream",
     "text": [
      "Epoch 1 - accuracy: 0.5657, val_accuracy: 0.4978\n"
     ]
    },
    {
     "name": "stdout",
     "output_type": "stream",
     "text": [
      "Epoch 2 - accuracy: 0.6686, val_accuracy: 0.7717\n"
     ]
    },
    {
     "name": "stdout",
     "output_type": "stream",
     "text": [
      "Epoch 3 - accuracy: 0.7945, val_accuracy: 0.8091\n"
     ]
    },
    {
     "name": "stdout",
     "output_type": "stream",
     "text": [
      "Epoch 4 - accuracy: 0.8178, val_accuracy: 0.8263\n"
     ]
    },
    {
     "name": "stdout",
     "output_type": "stream",
     "text": [
      "Epoch 5 - accuracy: 0.8289, val_accuracy: 0.8246\n"
     ]
    },
    {
     "name": "stdout",
     "output_type": "stream",
     "text": [
      "Epoch 6 - accuracy: 0.8397, val_accuracy: 0.8341\n"
     ]
    },
    {
     "name": "stdout",
     "output_type": "stream",
     "text": [
      "Epoch 7 - accuracy: 0.8449, val_accuracy: 0.8303\n"
     ]
    },
    {
     "name": "stdout",
     "output_type": "stream",
     "text": [
      "Epoch 8 - accuracy: 0.8506, val_accuracy: 0.8455\n"
     ]
    },
    {
     "name": "stdout",
     "output_type": "stream",
     "text": [
      "Epoch 9 - accuracy: 0.8521, val_accuracy: 0.8512\n"
     ]
    },
    {
     "name": "stdout",
     "output_type": "stream",
     "text": [
      "Epoch 10 - accuracy: 0.7446, val_accuracy: 0.6387\n"
     ]
    },
    {
     "name": "stdout",
     "output_type": "stream",
     "text": [
      "Epoch 11 - accuracy: 0.7260, val_accuracy: 0.7697\n"
     ]
    },
    {
     "name": "stdout",
     "output_type": "stream",
     "text": [
      "Epoch 12 - accuracy: 0.7892, val_accuracy: 0.8153\n"
     ]
    },
    {
     "name": "stdout",
     "output_type": "stream",
     "text": [
      "Epoch 13 - accuracy: 0.8317, val_accuracy: 0.8346\n"
     ]
    },
    {
     "name": "stdout",
     "output_type": "stream",
     "text": [
      "Epoch 14 - accuracy: 0.8432, val_accuracy: 0.8340\n"
     ]
    },
    {
     "name": "stdout",
     "output_type": "stream",
     "text": [
      "Epoch 15 - accuracy: 0.8481, val_accuracy: 0.8420\n"
     ]
    },
    {
     "name": "stdout",
     "output_type": "stream",
     "text": [
      "Epoch 16 - accuracy: 0.8527, val_accuracy: 0.8429\n"
     ]
    },
    {
     "name": "stdout",
     "output_type": "stream",
     "text": [
      "Epoch 17 - accuracy: 0.8531, val_accuracy: 0.8438\n"
     ]
    },
    {
     "name": "stdout",
     "output_type": "stream",
     "text": [
      "Epoch 18 - accuracy: 0.8567, val_accuracy: 0.8475\n"
     ]
    },
    {
     "name": "stdout",
     "output_type": "stream",
     "text": [
      "Epoch 19 - accuracy: 0.8579, val_accuracy: 0.8487\n"
     ]
    },
    {
     "name": "stdout",
     "output_type": "stream",
     "text": [
      "Epoch 20 - accuracy: 0.8612, val_accuracy: 0.8534\n"
     ]
    },
    {
     "name": "stdout",
     "output_type": "stream",
     "text": [
      "Epoch 21 - accuracy: 0.8613, val_accuracy: 0.8513\n"
     ]
    },
    {
     "name": "stdout",
     "output_type": "stream",
     "text": [
      "Epoch 22 - accuracy: 0.8621, val_accuracy: 0.8511\n"
     ]
    },
    {
     "name": "stdout",
     "output_type": "stream",
     "text": [
      "Epoch 23 - accuracy: 0.8641, val_accuracy: 0.8539\n"
     ]
    },
    {
     "name": "stdout",
     "output_type": "stream",
     "text": [
      "Epoch 24 - accuracy: 0.8639, val_accuracy: 0.8532\n"
     ]
    },
    {
     "name": "stdout",
     "output_type": "stream",
     "text": [
      "Epoch 25 - accuracy: 0.8637, val_accuracy: 0.8530\n"
     ]
    },
    {
     "name": "stdout",
     "output_type": "stream",
     "text": [
      "Epoch 26 - accuracy: 0.8666, val_accuracy: 0.8575\n"
     ]
    },
    {
     "name": "stdout",
     "output_type": "stream",
     "text": [
      "Epoch 27 - accuracy: 0.8673, val_accuracy: 0.8580\n"
     ]
    },
    {
     "name": "stdout",
     "output_type": "stream",
     "text": [
      "Epoch 28 - accuracy: 0.8683, val_accuracy: 0.8598\n"
     ]
    },
    {
     "name": "stdout",
     "output_type": "stream",
     "text": [
      "Epoch 29 - accuracy: 0.8713, val_accuracy: 0.8613\n"
     ]
    },
    {
     "name": "stdout",
     "output_type": "stream",
     "text": [
      "Epoch 30 - accuracy: 0.8704, val_accuracy: 0.8581\n"
     ]
    },
    {
     "name": "stdout",
     "output_type": "stream",
     "text": [
      "Epoch 31 - accuracy: 0.8717, val_accuracy: 0.8615\n"
     ]
    },
    {
     "name": "stdout",
     "output_type": "stream",
     "text": [
      "Epoch 32 - accuracy: 0.8721, val_accuracy: 0.8643\n"
     ]
    },
    {
     "name": "stdout",
     "output_type": "stream",
     "text": [
      "Epoch 33 - accuracy: 0.8727, val_accuracy: 0.8640\n"
     ]
    },
    {
     "name": "stdout",
     "output_type": "stream",
     "text": [
      "Epoch 34 - accuracy: 0.8735, val_accuracy: 0.8600\n"
     ]
    },
    {
     "name": "stdout",
     "output_type": "stream",
     "text": [
      "Epoch 35 - accuracy: 0.8731, val_accuracy: 0.8663\n"
     ]
    },
    {
     "name": "stdout",
     "output_type": "stream",
     "text": [
      "Epoch 36 - accuracy: 0.8744, val_accuracy: 0.8648\n"
     ]
    },
    {
     "name": "stdout",
     "output_type": "stream",
     "text": [
      "Epoch 37 - accuracy: 0.8747, val_accuracy: 0.8603\n"
     ]
    },
    {
     "name": "stdout",
     "output_type": "stream",
     "text": [
      "Epoch 38 - accuracy: 0.8748, val_accuracy: 0.8632\n"
     ]
    },
    {
     "name": "stdout",
     "output_type": "stream",
     "text": [
      "Epoch 39 - accuracy: 0.8762, val_accuracy: 0.8603\n"
     ]
    },
    {
     "name": "stdout",
     "output_type": "stream",
     "text": [
      "Epoch 40 - accuracy: 0.8765, val_accuracy: 0.8615\n"
     ]
    },
    {
     "name": "stdout",
     "output_type": "stream",
     "text": [
      "Epoch 41 - accuracy: 0.8775, val_accuracy: 0.8639\n"
     ]
    },
    {
     "name": "stdout",
     "output_type": "stream",
     "text": [
      "Epoch 42 - accuracy: 0.8772, val_accuracy: 0.8644\n"
     ]
    },
    {
     "name": "stdout",
     "output_type": "stream",
     "text": [
      "Epoch 43 - accuracy: 0.8788, val_accuracy: 0.8667\n"
     ]
    },
    {
     "name": "stdout",
     "output_type": "stream",
     "text": [
      "Epoch 44 - accuracy: 0.8790, val_accuracy: 0.8633\n"
     ]
    },
    {
     "name": "stdout",
     "output_type": "stream",
     "text": [
      "Epoch 45 - accuracy: 0.8786, val_accuracy: 0.8657\n"
     ]
    },
    {
     "name": "stdout",
     "output_type": "stream",
     "text": [
      "Epoch 46 - accuracy: 0.8771, val_accuracy: 0.8605\n"
     ]
    },
    {
     "name": "stdout",
     "output_type": "stream",
     "text": [
      "Epoch 47 - accuracy: 0.8602, val_accuracy: 0.8595\n"
     ]
    },
    {
     "name": "stdout",
     "output_type": "stream",
     "text": [
      "Epoch 48 - accuracy: 0.8742, val_accuracy: 0.8625\n"
     ]
    },
    {
     "name": "stdout",
     "output_type": "stream",
     "text": [
      "Epoch 49 - accuracy: 0.8777, val_accuracy: 0.8666\n"
     ]
    },
    {
     "name": "stdout",
     "output_type": "stream",
     "text": [
      "Epoch 50 - accuracy: 0.8767, val_accuracy: 0.8665\n"
     ]
    },
    {
     "name": "stdout",
     "output_type": "stream",
     "text": [
      "Epoch 51 - accuracy: 0.8784, val_accuracy: 0.8645\n"
     ]
    },
    {
     "name": "stdout",
     "output_type": "stream",
     "text": [
      "Epoch 52 - accuracy: 0.8808, val_accuracy: 0.8664\n"
     ]
    },
    {
     "name": "stdout",
     "output_type": "stream",
     "text": [
      "Epoch 53 - accuracy: 0.8809, val_accuracy: 0.8667\n"
     ]
    },
    {
     "name": "stdout",
     "output_type": "stream",
     "text": [
      "Epoch 54 - accuracy: 0.8809, val_accuracy: 0.8661\n"
     ]
    },
    {
     "name": "stdout",
     "output_type": "stream",
     "text": [
      "Epoch 55 - accuracy: 0.8804, val_accuracy: 0.8667\n"
     ]
    },
    {
     "name": "stdout",
     "output_type": "stream",
     "text": [
      "Epoch 56 - accuracy: 0.8807, val_accuracy: 0.8662\n"
     ]
    },
    {
     "name": "stdout",
     "output_type": "stream",
     "text": [
      "Epoch 57 - accuracy: 0.8822, val_accuracy: 0.8648\n"
     ]
    },
    {
     "name": "stdout",
     "output_type": "stream",
     "text": [
      "Epoch 58 - accuracy: 0.8819, val_accuracy: 0.8649\n"
     ]
    },
    {
     "name": "stdout",
     "output_type": "stream",
     "text": [
      "Epoch 59 - accuracy: 0.8824, val_accuracy: 0.8655\n"
     ]
    },
    {
     "name": "stdout",
     "output_type": "stream",
     "text": [
      "Epoch 60 - accuracy: 0.8836, val_accuracy: 0.8671\n"
     ]
    },
    {
     "name": "stdout",
     "output_type": "stream",
     "text": [
      "Epoch 61 - accuracy: 0.8839, val_accuracy: 0.8671\n"
     ]
    },
    {
     "name": "stdout",
     "output_type": "stream",
     "text": [
      "Epoch 62 - accuracy: 0.8823, val_accuracy: 0.8671\n"
     ]
    },
    {
     "name": "stdout",
     "output_type": "stream",
     "text": [
      "Epoch 63 - accuracy: 0.8855, val_accuracy: 0.8658\n"
     ]
    },
    {
     "name": "stdout",
     "output_type": "stream",
     "text": [
      "Epoch 64 - accuracy: 0.8847, val_accuracy: 0.8637\n"
     ]
    },
    {
     "name": "stdout",
     "output_type": "stream",
     "text": [
      "Epoch 65 - accuracy: 0.8823, val_accuracy: 0.8647\n"
     ]
    },
    {
     "name": "stdout",
     "output_type": "stream",
     "text": [
      "Epoch 66 - accuracy: 0.8862, val_accuracy: 0.8666\n"
     ]
    },
    {
     "name": "stdout",
     "output_type": "stream",
     "text": [
      "Epoch 67 - accuracy: 0.8864, val_accuracy: 0.8643\n"
     ]
    },
    {
     "name": "stdout",
     "output_type": "stream",
     "text": [
      "Epoch 68 - accuracy: 0.8879, val_accuracy: 0.8648\n"
     ]
    },
    {
     "name": "stdout",
     "output_type": "stream",
     "text": [
      "Epoch 69 - accuracy: 0.8868, val_accuracy: 0.8659\n"
     ]
    },
    {
     "name": "stdout",
     "output_type": "stream",
     "text": [
      "Epoch 70 - accuracy: 0.8862, val_accuracy: 0.8667\n"
     ]
    },
    {
     "name": "stdout",
     "output_type": "stream",
     "text": [
      "Epoch 71 - accuracy: 0.8886, val_accuracy: 0.8663\n"
     ]
    },
    {
     "name": "stdout",
     "output_type": "stream",
     "text": [
      "Epoch 72 - accuracy: 0.8893, val_accuracy: 0.8661\n"
     ]
    },
    {
     "name": "stdout",
     "output_type": "stream",
     "text": [
      "Epoch 73 - accuracy: 0.8883, val_accuracy: 0.8655\n"
     ]
    },
    {
     "name": "stdout",
     "output_type": "stream",
     "text": [
      "Epoch 74 - accuracy: 0.8897, val_accuracy: 0.8665\n"
     ]
    },
    {
     "name": "stdout",
     "output_type": "stream",
     "text": [
      "Epoch 75 - accuracy: 0.8899, val_accuracy: 0.8613\n"
     ]
    },
    {
     "name": "stdout",
     "output_type": "stream",
     "text": [
      "Epoch 76 - accuracy: 0.8897, val_accuracy: 0.8624\n"
     ]
    },
    {
     "name": "stdout",
     "output_type": "stream",
     "text": [
      "Epoch 77 - accuracy: 0.8911, val_accuracy: 0.8639\n"
     ]
    },
    {
     "name": "stdout",
     "output_type": "stream",
     "text": [
      "Epoch 78 - accuracy: 0.8898, val_accuracy: 0.8638\n"
     ]
    },
    {
     "name": "stdout",
     "output_type": "stream",
     "text": [
      "Epoch 79 - accuracy: 0.8901, val_accuracy: 0.8605\n"
     ]
    },
    {
     "name": "stdout",
     "output_type": "stream",
     "text": [
      "Epoch 80 - accuracy: 0.8897, val_accuracy: 0.8637\n"
     ]
    },
    {
     "name": "stdout",
     "output_type": "stream",
     "text": [
      "Epoch 81 - accuracy: 0.8904, val_accuracy: 0.8668\n"
     ]
    },
    {
     "name": "stdout",
     "output_type": "stream",
     "text": [
      "Epoch 82 - accuracy: 0.8925, val_accuracy: 0.8635\n"
     ]
    },
    {
     "name": "stdout",
     "output_type": "stream",
     "text": [
      "Epoch 83 - accuracy: 0.8926, val_accuracy: 0.8610\n"
     ]
    },
    {
     "name": "stdout",
     "output_type": "stream",
     "text": [
      "Epoch 84 - accuracy: 0.8923, val_accuracy: 0.8619\n"
     ]
    },
    {
     "name": "stdout",
     "output_type": "stream",
     "text": [
      "Epoch 85 - accuracy: 0.8921, val_accuracy: 0.8623\n"
     ]
    },
    {
     "name": "stdout",
     "output_type": "stream",
     "text": [
      "Epoch 86 - accuracy: 0.8949, val_accuracy: 0.8623\n"
     ]
    },
    {
     "name": "stdout",
     "output_type": "stream",
     "text": [
      "Epoch 87 - accuracy: 0.8934, val_accuracy: 0.8623\n"
     ]
    },
    {
     "name": "stdout",
     "output_type": "stream",
     "text": [
      "Epoch 88 - accuracy: 0.8893, val_accuracy: 0.8590\n"
     ]
    },
    {
     "name": "stdout",
     "output_type": "stream",
     "text": [
      "Epoch 89 - accuracy: 0.8885, val_accuracy: 0.8646\n"
     ]
    },
    {
     "name": "stdout",
     "output_type": "stream",
     "text": [
      "Epoch 90 - accuracy: 0.8902, val_accuracy: 0.8635\n"
     ]
    },
    {
     "name": "stdout",
     "output_type": "stream",
     "text": [
      "Epoch 91 - accuracy: 0.8927, val_accuracy: 0.8605\n"
     ]
    },
    {
     "name": "stdout",
     "output_type": "stream",
     "text": [
      "Epoch 92 - accuracy: 0.8945, val_accuracy: 0.8642\n"
     ]
    },
    {
     "name": "stdout",
     "output_type": "stream",
     "text": [
      "Epoch 93 - accuracy: 0.8943, val_accuracy: 0.8603\n"
     ]
    },
    {
     "name": "stdout",
     "output_type": "stream",
     "text": [
      "Epoch 94 - accuracy: 0.8960, val_accuracy: 0.8642\n"
     ]
    },
    {
     "name": "stdout",
     "output_type": "stream",
     "text": [
      "Epoch 95 - accuracy: 0.8967, val_accuracy: 0.8626\n"
     ]
    },
    {
     "name": "stdout",
     "output_type": "stream",
     "text": [
      "Epoch 96 - accuracy: 0.8967, val_accuracy: 0.8612\n"
     ]
    },
    {
     "name": "stdout",
     "output_type": "stream",
     "text": [
      "Epoch 97 - accuracy: 0.8942, val_accuracy: 0.8603\n"
     ]
    },
    {
     "name": "stdout",
     "output_type": "stream",
     "text": [
      "Epoch 98 - accuracy: 0.8972, val_accuracy: 0.8643\n"
     ]
    },
    {
     "name": "stdout",
     "output_type": "stream",
     "text": [
      "Epoch 99 - accuracy: 0.8972, val_accuracy: 0.8630\n"
     ]
    },
    {
     "name": "stdout",
     "output_type": "stream",
     "text": [
      "Epoch 100 - accuracy: 0.8991, val_accuracy: 0.8638\n"
     ]
    },
    {
     "data": {
      "image/png": "[encoded data removed]",
      "text/plain": [
       "<Figure size 1400x500 with 2 Axes>"
      ]
     },
     "metadata": {},
     "output_type": "display_data"
    }
   ],
   "source": [
    "import torch\n",
    "import matplotlib.pyplot as plt\n",
    "import seaborn as sns\n",
    "from sklearn.metrics import confusion_matrix\n",
    "import numpy as np\n",
    "\n",
    "# Initialize lists to store training and validation metrics for each epoch\n",
    "train_accuracies = []\n",
    "train_losses = []\n",
    "valid_accuracies = []\n",
    "valid_losses = []\n",
    "\n",
    "num_epochs = 100\n",
    "torch.manual_seed(1)\n",
    "\n",
    "# Training loop with metrics storage\n",
    "for epoch in range(num_epochs):\n",
    "    acc_train, loss_train = train(train_dl)\n",
    "    acc_valid, loss_valid = evaluate(val_dl)\n",
    "    \n",
    "    # Store metrics\n",
    "    train_accuracies.append(acc_train)\n",
    "    train_losses.append(loss_train)\n",
    "    valid_accuracies.append(acc_valid)\n",
    "    valid_losses.append(loss_valid)\n",
    "\n",
    "    print(f'Epoch {epoch + 1} - accuracy: {acc_train:.4f}, val_accuracy: {acc_valid:.4f}')\n",
    "\n",
    "# Plotting training and validation losses\n",
    "plt.figure(figsize=(14, 5))\n",
    "\n",
    "plt.subplot(1, 2, 1)\n",
    "plt.plot(range(1, num_epochs + 1), train_losses, label='Training Loss')\n",
    "plt.plot(range(1, num_epochs + 1), valid_losses, label='Validation Loss')\n",
    "plt.xlabel('Epoch')\n",
    "plt.ylabel('Loss')\n",
    "plt.title('Training and Validation Loss')\n",
    "plt.legend()\n",
    "\n",
    "# Plotting training and validation accuracies\n",
    "plt.subplot(1, 2, 2)\n",
    "plt.plot(range(1, num_epochs + 1), train_accuracies, label='Training Accuracy')\n",
    "plt.plot(range(1, num_epochs + 1), valid_accuracies, label='Validation Accuracy')\n",
    "plt.xlabel('Epoch')\n",
    "plt.ylabel('Accuracy')\n",
    "plt.title('Training and Validation Accuracy')\n",
    "plt.legend()\n",
    "\n",
    "plt.show()"
   ]
  },
  {
   "cell_type": "code",
   "execution_count": 20,
   "id": "d363c8c7",
   "metadata": {
    "execution": {
     "iopub.execute_input": "2024-11-26T09:52:51.459985Z",
     "iopub.status.busy": "2024-11-26T09:52:51.459670Z",
     "iopub.status.idle": "2024-11-26T09:53:00.583432Z",
     "shell.execute_reply": "2024-11-26T09:53:00.582993Z"
    },
    "papermill": {
     "duration": 9.134792,
     "end_time": "2024-11-26T09:53:00.584330",
     "exception": false,
     "start_time": "2024-11-26T09:52:51.449538",
     "status": "completed"
    },
    "tags": []
   },
   "outputs": [
    {
     "name": "stdout",
     "output_type": "stream",
     "text": [
      "test_accuracy: 0.8680\n"
     ]
    }
   ],
   "source": [
    "acc_test, _ = evaluate(test_dl)\n",
    "print(f'test_accuracy: {acc_test:.4f}')"
   ]
  },
  {
   "cell_type": "code",
   "execution_count": 21,
   "id": "4e8ab6bc",
   "metadata": {
    "execution": {
     "iopub.execute_input": "2024-11-26T09:53:00.604426Z",
     "iopub.status.busy": "2024-11-26T09:53:00.604101Z",
     "iopub.status.idle": "2024-11-26T09:54:16.068631Z",
     "shell.execute_reply": "2024-11-26T09:54:16.068021Z"
    },
    "papermill": {
     "duration": 75.475303,
     "end_time": "2024-11-26T09:54:16.069688",
     "exception": false,
     "start_time": "2024-11-26T09:53:00.594385",
     "status": "completed"
    },
    "tags": []
   },
   "outputs": [
    {
     "name": "stdout",
     "output_type": "stream",
     "text": [
      "Results saved to predictions.csv\n"
     ]
    }
   ],
   "source": [
    "import pandas as pd\n",
    "import torch\n",
    "import random\n",
    "\n",
    "# Function to preprocess and predict a single account\n",
    "def predict_comment(text, model, vocab):\n",
    "    model.eval()\n",
    "    # Tokenize and encode the input text using the same tokenizer and vocab as used during training\n",
    "    tokens = tokenizer(text)\n",
    "    encoded_text = [vocab.get(token, vocab[\"<unk>\"]) for token in tokens]\n",
    "\n",
    "    # Convert the tokens to tensor and add batch dimension\n",
    "    text_tensor = torch.tensor(encoded_text).unsqueeze(0).to(device)  # Add batch dimension\n",
    "    lengths_tensor = torch.tensor([len(encoded_text)]).to(device)\n",
    "\n",
    "    with torch.no_grad():\n",
    "        prediction = model(text_tensor, lengths_tensor)[:, 0]\n",
    "\n",
    "    # Apply threshold of 0.5 for binary classification\n",
    "    prediction_label = 1 if prediction >= 0.5 else 0\n",
    "    return prediction.item(), prediction_label\n",
    "\n",
    "# List to store prediction results\n",
    "results = []\n",
    "\n",
    "# Iterate over all samples in the test dataset\n",
    "for sample in test_dataset:\n",
    "    account_string = sample['text']\n",
    "    true_label = sample['label']\n",
    "    predicted_value, predicted_label = predict_comment(account_string, model, vocab)\n",
    "\n",
    "    # Append the data for each comment\n",
    "    results.append({\n",
    "        \"comment\": account_string,\n",
    "        \"true_label\": true_label,\n",
    "        \"predicted_value\": predicted_value,\n",
    "        \"predicted_label\": predicted_label\n",
    "    })\n",
    "\n",
    "# Convert results list to a DataFrame\n",
    "results_df = pd.DataFrame(results)\n",
    "\n",
    "# Save the results DataFrame to a CSV file\n",
    "#given the path from job\n",
    "results_df.to_csv(\"./rnn/only_action_method/results/predictions-content.csv\", index=False)\n",
    "\n",
    "print(\"Results saved to predictions.csv\")"
   ]
  },
  {
   "cell_type": "code",
   "execution_count": 22,
   "id": "8b7f8bc8",
   "metadata": {
    "execution": {
     "iopub.execute_input": "2024-11-26T09:54:16.089493Z",
     "iopub.status.busy": "2024-11-26T09:54:16.089304Z",
     "iopub.status.idle": "2024-11-26T09:55:31.541419Z",
     "shell.execute_reply": "2024-11-26T09:55:31.540493Z"
    },
    "papermill": {
     "duration": 75.462861,
     "end_time": "2024-11-26T09:55:31.542699",
     "exception": false,
     "start_time": "2024-11-26T09:54:16.079838",
     "status": "completed"
    },
    "tags": []
   },
   "outputs": [
    {
     "data": {
      "image/png": "[encoded data removed]",
      "text/plain": [
       "<Figure size 800x600 with 2 Axes>"
      ]
     },
     "metadata": {},
     "output_type": "display_data"
    }
   ],
   "source": [
    "# Confusion matrix on the validation set\n",
    "all_preds = []\n",
    "all_labels = []\n",
    "\n",
    "# Collect predictions and true labels from the validation set\n",
    "for sample in test_dataset:\n",
    "    account_string = sample['text']\n",
    "    true_label = sample['label']\n",
    "    predicted_value, predicted_label = predict_comment(account_string, model, vocab)  # Adjust if predict_comment takes a batch\n",
    "    all_preds.append(predicted_label)\n",
    "    all_labels.append(true_label)\n",
    "\n",
    "# Compute confusion matrix\n",
    "conf_matrix = confusion_matrix(all_labels, all_preds)\n",
    "\n",
    "# Plot confusion matrix\n",
    "plt.figure(figsize=(8, 6))\n",
    "sns.heatmap(conf_matrix, annot=True, fmt='d', cmap='Blues', xticklabels=['Negative', 'Positive'], yticklabels=['Negative', 'Positive'])\n",
    "plt.xlabel('Predicted Labels')\n",
    "plt.ylabel('True Labels')\n",
    "plt.title('Confusion Matrix')\n",
    "plt.show()"
   ]
  },
  {
   "cell_type": "code",
   "execution_count": 23,
   "id": "aeb6adf2",
   "metadata": {
    "execution": {
     "iopub.execute_input": "2024-11-26T09:55:31.562237Z",
     "iopub.status.busy": "2024-11-26T09:55:31.562056Z",
     "iopub.status.idle": "2024-11-26T09:55:31.593956Z",
     "shell.execute_reply": "2024-11-26T09:55:31.593604Z"
    },
    "papermill": {
     "duration": 0.042561,
     "end_time": "2024-11-26T09:55:31.594755",
     "exception": false,
     "start_time": "2024-11-26T09:55:31.552194",
     "status": "completed"
    },
    "tags": []
   },
   "outputs": [
    {
     "data": {
      "text/plain": [
       "(11767, 4)"
      ]
     },
     "execution_count": 23,
     "metadata": {},
     "output_type": "execute_result"
    }
   ],
   "source": [
    "#given the path from job\n",
    "results_df[results_df['true_label'] != results_df['predicted_label']].to_csv(\"./rnn/only_action_method/results/mismatches-content.csv\")\n",
    "results_df.shape"
   ]
  }
 ],
 "metadata": {
  "kernelspec": {
   "display_name": ".venv",
   "language": "python",
   "name": "python3"
  },
  "language_info": {
   "codemirror_mode": {
    "name": "ipython",
    "version": 3
   },
   "file_extension": ".py",
   "mimetype": "text/x-python",
   "name": "python",
   "nbconvert_exporter": "python",
   "pygments_lexer": "ipython3",
   "version": "3.9.16"
  },
  "papermill": {
   "default_parameters": {},
   "duration": 10868.205907,
   "end_time": "2024-11-26T09:55:33.035683",
   "environment_variables": {},
   "exception": null,
   "input_path": "./rnn/only_action_method/rnn-content.ipynb",
   "output_path": "./rnn/only_action_method/notebooks/output_notebook_v4(100 epoch).ipynb",
   "parameters": {},
   "start_time": "2024-11-26T06:54:24.829776",
   "version": "2.6.0"
  }
 },
 "nbformat": 4,
 "nbformat_minor": 5
}