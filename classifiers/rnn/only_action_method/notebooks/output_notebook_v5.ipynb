{
 "cells": [
  {
   "cell_type": "code",
   "execution_count": 1,
   "id": "4372caa6",
   "metadata": {
    "execution": {
     "iopub.execute_input": "2024-11-26T06:05:03.254036Z",
     "iopub.status.busy": "2024-11-26T06:05:03.253432Z",
     "iopub.status.idle": "2024-11-26T06:05:05.267500Z",
     "shell.execute_reply": "2024-11-26T06:05:05.265826Z"
    },
    "papermill": {
     "duration": 2.036166,
     "end_time": "2024-11-26T06:05:05.271685",
     "exception": false,
     "start_time": "2024-11-26T06:05:03.235519",
     "status": "completed"
    },
    "tags": []
   },
   "outputs": [
    {
     "name": "stdout",
     "output_type": "stream",
     "text": [
      "Requirement already satisfied: torch in /sciclone/data10/iahewababarand/.venv/lib/python3.9/site-packages (2.5.1)\r\n",
      "Requirement already satisfied: filelock in /sciclone/data10/iahewababarand/.venv/lib/python3.9/site-packages (from torch) (3.16.1)\r\n",
      "Requirement already satisfied: typing-extensions>=4.8.0 in /sciclone/data10/iahewababarand/.venv/lib/python3.9/site-packages (from torch) (4.12.2)\r\n",
      "Requirement already satisfied: networkx in /sciclone/data10/iahewababarand/.venv/lib/python3.9/site-packages (from torch) (3.2.1)\r\n",
      "Requirement already satisfied: jinja2 in /sciclone/data10/iahewababarand/.venv/lib/python3.9/site-packages (from torch) (3.1.4)\r\n",
      "Requirement already satisfied: fsspec in /sciclone/data10/iahewababarand/.venv/lib/python3.9/site-packages (from torch) (2024.9.0)\r\n",
      "Requirement already satisfied: nvidia-cuda-nvrtc-cu12==12.4.127 in /sciclone/data10/iahewababarand/.venv/lib/python3.9/site-packages (from torch) (12.4.127)\r\n",
      "Requirement already satisfied: nvidia-cuda-runtime-cu12==12.4.127 in /sciclone/data10/iahewababarand/.venv/lib/python3.9/site-packages (from torch) (12.4.127)\r\n",
      "Requirement already satisfied: nvidia-cuda-cupti-cu12==12.4.127 in /sciclone/data10/iahewababarand/.venv/lib/python3.9/site-packages (from torch) (12.4.127)\r\n",
      "Requirement already satisfied: nvidia-cudnn-cu12==9.1.0.70 in /sciclone/data10/iahewababarand/.venv/lib/python3.9/site-packages (from torch) (9.1.0.70)\r\n",
      "Requirement already satisfied: nvidia-cublas-cu12==12.4.5.8 in /sciclone/data10/iahewababarand/.venv/lib/python3.9/site-packages (from torch) (12.4.5.8)\r\n",
      "Requirement already satisfied: nvidia-cufft-cu12==11.2.1.3 in /sciclone/data10/iahewababarand/.venv/lib/python3.9/site-packages (from torch) (11.2.1.3)\r\n",
      "Requirement already satisfied: nvidia-curand-cu12==10.3.5.147 in /sciclone/data10/iahewababarand/.venv/lib/python3.9/site-packages (from torch) (10.3.5.147)\r\n",
      "Requirement already satisfied: nvidia-cusolver-cu12==11.6.1.9 in /sciclone/data10/iahewababarand/.venv/lib/python3.9/site-packages (from torch) (11.6.1.9)\r\n",
      "Requirement already satisfied: nvidia-cusparse-cu12==12.3.1.170 in /sciclone/data10/iahewababarand/.venv/lib/python3.9/site-packages (from torch) (12.3.1.170)\r\n",
      "Requirement already satisfied: nvidia-nccl-cu12==2.21.5 in /sciclone/data10/iahewababarand/.venv/lib/python3.9/site-packages (from torch) (2.21.5)\r\n",
      "Requirement already satisfied: nvidia-nvtx-cu12==12.4.127 in /sciclone/data10/iahewababarand/.venv/lib/python3.9/site-packages (from torch) (12.4.127)\r\n",
      "Requirement already satisfied: nvidia-nvjitlink-cu12==12.4.127 in /sciclone/data10/iahewababarand/.venv/lib/python3.9/site-packages (from torch) (12.4.127)\r\n",
      "Requirement already satisfied: triton==3.1.0 in /sciclone/data10/iahewababarand/.venv/lib/python3.9/site-packages (from torch) (3.1.0)\r\n",
      "Requirement already satisfied: sympy==1.13.1 in /sciclone/data10/iahewababarand/.venv/lib/python3.9/site-packages (from torch) (1.13.1)\r\n"
     ]
    },
    {
     "name": "stdout",
     "output_type": "stream",
     "text": [
      "Requirement already satisfied: mpmath<1.4,>=1.1.0 in /sciclone/data10/iahewababarand/.venv/lib/python3.9/site-packages (from sympy==1.13.1->torch) (1.3.0)\r\n"
     ]
    },
    {
     "name": "stdout",
     "output_type": "stream",
     "text": [
      "Requirement already satisfied: MarkupSafe>=2.0 in /sciclone/data10/iahewababarand/.venv/lib/python3.9/site-packages (from jinja2->torch) (3.0.2)\r\n"
     ]
    },
    {
     "name": "stdout",
     "output_type": "stream",
     "text": [
      "Note: you may need to restart the kernel to use updated packages.\n"
     ]
    }
   ],
   "source": [
    "pip install torch"
   ]
  },
  {
   "cell_type": "code",
   "execution_count": 2,
   "id": "bea25d86",
   "metadata": {
    "execution": {
     "iopub.execute_input": "2024-11-26T06:05:05.293191Z",
     "iopub.status.busy": "2024-11-26T06:05:05.292819Z",
     "iopub.status.idle": "2024-11-26T06:05:08.645017Z",
     "shell.execute_reply": "2024-11-26T06:05:08.643333Z"
    },
    "papermill": {
     "duration": 3.364304,
     "end_time": "2024-11-26T06:05:08.648060",
     "exception": false,
     "start_time": "2024-11-26T06:05:05.283756",
     "status": "completed"
    },
    "tags": []
   },
   "outputs": [],
   "source": [
    "import torch\n",
    "import torch.nn as nn\n",
    "import pandas as pd\n",
    "import json\n",
    "from torch.utils.data import TensorDataset, DataLoader, random_split\n",
    "import re"
   ]
  },
  {
   "cell_type": "code",
   "execution_count": 3,
   "id": "b76bd196",
   "metadata": {
    "execution": {
     "iopub.execute_input": "2024-11-26T06:05:08.667610Z",
     "iopub.status.busy": "2024-11-26T06:05:08.666924Z",
     "iopub.status.idle": "2024-11-26T06:05:08.671824Z",
     "shell.execute_reply": "2024-11-26T06:05:08.671202Z"
    },
    "papermill": {
     "duration": 0.014933,
     "end_time": "2024-11-26T06:05:08.673127",
     "exception": false,
     "start_time": "2024-11-26T06:05:08.658194",
     "status": "completed"
    },
    "tags": []
   },
   "outputs": [],
   "source": [
    "def get_data(filename):\n",
    "    \n",
    "    with open(filename, 'r', encoding='utf-8') as file:\n",
    "        data = json.load(file)\n",
    "\n",
    "    df = pd.DataFrame(data)\n",
    "    return df"
   ]
  },
  {
   "cell_type": "code",
   "execution_count": 4,
   "id": "41b26f75",
   "metadata": {
    "execution": {
     "iopub.execute_input": "2024-11-26T06:05:08.685259Z",
     "iopub.status.busy": "2024-11-26T06:05:08.685056Z",
     "iopub.status.idle": "2024-11-26T06:05:18.329391Z",
     "shell.execute_reply": "2024-11-26T06:05:18.328905Z"
    },
    "papermill": {
     "duration": 9.651656,
     "end_time": "2024-11-26T06:05:18.330489",
     "exception": false,
     "start_time": "2024-11-26T06:05:08.678833",
     "status": "completed"
    },
    "tags": []
   },
   "outputs": [],
   "source": [
    "# data = get_data('output_file.json')\n",
    "data = get_data('./rnn/only_action_method/output_file.json')"
   ]
  },
  {
   "cell_type": "code",
   "execution_count": 5,
   "id": "c8d11612",
   "metadata": {
    "execution": {
     "iopub.execute_input": "2024-11-26T06:05:18.345200Z",
     "iopub.status.busy": "2024-11-26T06:05:18.344516Z",
     "iopub.status.idle": "2024-11-26T06:05:18.368858Z",
     "shell.execute_reply": "2024-11-26T06:05:18.368507Z"
    },
    "papermill": {
     "duration": 0.03469,
     "end_time": "2024-11-26T06:05:18.369666",
     "exception": false,
     "start_time": "2024-11-26T06:05:18.334976",
     "status": "completed"
    },
    "tags": []
   },
   "outputs": [
    {
     "data": {
      "text/html": [
       "<div>\n",
       "<style scoped>\n",
       "    .dataframe tbody tr th:only-of-type {\n",
       "        vertical-align: middle;\n",
       "    }\n",
       "\n",
       "    .dataframe tbody tr th {\n",
       "        vertical-align: top;\n",
       "    }\n",
       "\n",
       "    .dataframe thead th {\n",
       "        text-align: right;\n",
       "    }\n",
       "</style>\n",
       "<table border=\"1\" class=\"dataframe\">\n",
       "  <thead>\n",
       "    <tr style=\"text-align: right;\">\n",
       "      <th></th>\n",
       "      <th>content_syntactic_blocstring</th>\n",
       "      <th>action_blocstring</th>\n",
       "      <th>changes_list_content_syntactic_</th>\n",
       "      <th>changes_list_action</th>\n",
       "      <th>src</th>\n",
       "      <th>userId</th>\n",
       "      <th>user_class</th>\n",
       "      <th>tweet_count</th>\n",
       "      <th>change_content_syntactic</th>\n",
       "      <th>change_action</th>\n",
       "      <th>change_change_dynamic_score</th>\n",
       "      <th>highest_change_in_content_syntactic</th>\n",
       "      <th>lowest_change_in_content_syntactic</th>\n",
       "      <th>standard_deviation_of_content_syntactic</th>\n",
       "      <th>highest_change_in_action</th>\n",
       "      <th>lowest_change_in_action</th>\n",
       "      <th>standard_deviation_of_action</th>\n",
       "      <th>diversity_action</th>\n",
       "      <th>diversity_content_syntactic</th>\n",
       "      <th>diversity_change_dynamics_score</th>\n",
       "    </tr>\n",
       "  </thead>\n",
       "  <tbody>\n",
       "    <tr>\n",
       "      <th>0</th>\n",
       "      <td>(mmmmmmmmqt)(mmmmmmmmqt)(mmmmmmmmqt)(mmmmmmmmq...</td>\n",
       "      <td>rprp⚀pr□prrprrrprpprprprprprpprprprp□rprprprrr...</td>\n",
       "      <td>[0.683772233983162, 0.6413313282702238, 0.7963...</td>\n",
       "      <td>{'content_syntactic': [0.683772233983162, 0.64...</td>\n",
       "      <td>astroturf</td>\n",
       "      <td>146048090</td>\n",
       "      <td>bot</td>\n",
       "      <td>274</td>\n",
       "      <td>0.452173</td>\n",
       "      <td>0.403716</td>\n",
       "      <td>0.860073</td>\n",
       "      <td>1.0</td>\n",
       "      <td>0.000000</td>\n",
       "      <td>0.337325</td>\n",
       "      <td>1.0</td>\n",
       "      <td>0.000000e+00</td>\n",
       "      <td>0.333447</td>\n",
       "      <td>0.653102</td>\n",
       "      <td>0.652532</td>\n",
       "      <td>0.450906</td>\n",
       "    </tr>\n",
       "    <tr>\n",
       "      <th>1</th>\n",
       "      <td>(mmmmmmmqt)(mmmmmmmqt)(mmmmmmmqt)(mmmmmmmqt)(m...</td>\n",
       "      <td>r□pr□rr□rp⚀r⚀TTTTTTT□r⚀p⚀π□p|⚀rr⚀rr⚀rr□r⚀r|⚀p⚀...</td>\n",
       "      <td>[0.0600874600144512, 0.0, 0.004962809790010847...</td>\n",
       "      <td>{'content_syntactic': [0.0600874600144512, 0.0...</td>\n",
       "      <td>astroturf</td>\n",
       "      <td>797927149856403456</td>\n",
       "      <td>bot</td>\n",
       "      <td>275</td>\n",
       "      <td>0.481471</td>\n",
       "      <td>0.491328</td>\n",
       "      <td>0.586060</td>\n",
       "      <td>1.0</td>\n",
       "      <td>0.000000</td>\n",
       "      <td>0.432201</td>\n",
       "      <td>1.0</td>\n",
       "      <td>2.220446e-16</td>\n",
       "      <td>0.290351</td>\n",
       "      <td>0.707387</td>\n",
       "      <td>0.693840</td>\n",
       "      <td>0.151417</td>\n",
       "    </tr>\n",
       "    <tr>\n",
       "      <th>2</th>\n",
       "      <td>(mmt)(mmt)(qt)(qt)(qt)(mqt)(qt)(t)(qt)(qt)(Em)...</td>\n",
       "      <td>r□r⚀r⚀rr□rrr□r□r⚀rrr⚀r|⚁rrrrr□rrrrrr□rpprrrp□r...</td>\n",
       "      <td>[0.4050577935998917, 0.4777670321329065, 0.013...</td>\n",
       "      <td>{'content_syntactic': [0.4050577935998917, 0.4...</td>\n",
       "      <td>astroturf</td>\n",
       "      <td>1046169889138868225</td>\n",
       "      <td>bot</td>\n",
       "      <td>277</td>\n",
       "      <td>0.431741</td>\n",
       "      <td>0.369664</td>\n",
       "      <td>1.066061</td>\n",
       "      <td>1.0</td>\n",
       "      <td>0.000000</td>\n",
       "      <td>0.435529</td>\n",
       "      <td>1.0</td>\n",
       "      <td>2.220446e-16</td>\n",
       "      <td>0.249736</td>\n",
       "      <td>0.676182</td>\n",
       "      <td>0.644029</td>\n",
       "      <td>0.297367</td>\n",
       "    </tr>\n",
       "    <tr>\n",
       "      <th>3</th>\n",
       "      <td>(mmt)(mmmmmmqt)(mmmmmmmmmqt)(mmt)(mmt)(qt)(mmm...</td>\n",
       "      <td>prrpp□rrrrrrrrrrrrrr□rr□rrr□rrprrrrrrr□prrrrrr...</td>\n",
       "      <td>[0.6288092648051271, 0.7846125524146785, 1.0, ...</td>\n",
       "      <td>{'content_syntactic': [0.6288092648051271, 0.7...</td>\n",
       "      <td>astroturf</td>\n",
       "      <td>1085010463128195073</td>\n",
       "      <td>bot</td>\n",
       "      <td>244</td>\n",
       "      <td>0.183893</td>\n",
       "      <td>0.425183</td>\n",
       "      <td>1.532266</td>\n",
       "      <td>1.0</td>\n",
       "      <td>0.000000</td>\n",
       "      <td>0.365115</td>\n",
       "      <td>1.0</td>\n",
       "      <td>4.622382e-02</td>\n",
       "      <td>0.349031</td>\n",
       "      <td>0.698081</td>\n",
       "      <td>0.620676</td>\n",
       "      <td>0.211830</td>\n",
       "    </tr>\n",
       "    <tr>\n",
       "      <th>4</th>\n",
       "      <td>(mmmmmmmqt)|(Em)|(t)(mmqt)(mt)(mmt)|(qt)(HUqt)...</td>\n",
       "      <td>p|⚁p|⚀p□p□p□p|⚁rrrrrrrrpr□prrprr□rrrprrprrrprp...</td>\n",
       "      <td>[1.0, 1.0, 0.7426748822671673, 0.9264785377906...</td>\n",
       "      <td>{'content_syntactic': [1.0, 1.0, 0.74267488226...</td>\n",
       "      <td>astroturf</td>\n",
       "      <td>1613166488</td>\n",
       "      <td>bot</td>\n",
       "      <td>245</td>\n",
       "      <td>0.812726</td>\n",
       "      <td>0.547337</td>\n",
       "      <td>0.791417</td>\n",
       "      <td>1.0</td>\n",
       "      <td>0.373736</td>\n",
       "      <td>0.207269</td>\n",
       "      <td>1.0</td>\n",
       "      <td>2.220446e-16</td>\n",
       "      <td>0.289094</td>\n",
       "      <td>0.680286</td>\n",
       "      <td>0.766445</td>\n",
       "      <td>0.627025</td>\n",
       "    </tr>\n",
       "  </tbody>\n",
       "</table>\n",
       "</div>"
      ],
      "text/plain": [
       "                        content_syntactic_blocstring  \\\n",
       "0  (mmmmmmmmqt)(mmmmmmmmqt)(mmmmmmmmqt)(mmmmmmmmq...   \n",
       "1  (mmmmmmmqt)(mmmmmmmqt)(mmmmmmmqt)(mmmmmmmqt)(m...   \n",
       "2  (mmt)(mmt)(qt)(qt)(qt)(mqt)(qt)(t)(qt)(qt)(Em)...   \n",
       "3  (mmt)(mmmmmmqt)(mmmmmmmmmqt)(mmt)(mmt)(qt)(mmm...   \n",
       "4  (mmmmmmmqt)|(Em)|(t)(mmqt)(mt)(mmt)|(qt)(HUqt)...   \n",
       "\n",
       "                                   action_blocstring  \\\n",
       "0  rprp⚀pr□prrprrrprpprprprprprpprprprp□rprprprrr...   \n",
       "1  r□pr□rr□rp⚀r⚀TTTTTTT□r⚀p⚀π□p|⚀rr⚀rr⚀rr□r⚀r|⚀p⚀...   \n",
       "2  r□r⚀r⚀rr□rrr□r□r⚀rrr⚀r|⚁rrrrr□rrrrrr□rpprrrp□r...   \n",
       "3  prrpp□rrrrrrrrrrrrrr□rr□rrr□rrprrrrrrr□prrrrrr...   \n",
       "4  p|⚁p|⚀p□p□p□p|⚁rrrrrrrrpr□prrprr□rrrprrprrrprp...   \n",
       "\n",
       "                     changes_list_content_syntactic_  \\\n",
       "0  [0.683772233983162, 0.6413313282702238, 0.7963...   \n",
       "1  [0.0600874600144512, 0.0, 0.004962809790010847...   \n",
       "2  [0.4050577935998917, 0.4777670321329065, 0.013...   \n",
       "3  [0.6288092648051271, 0.7846125524146785, 1.0, ...   \n",
       "4  [1.0, 1.0, 0.7426748822671673, 0.9264785377906...   \n",
       "\n",
       "                                 changes_list_action        src  \\\n",
       "0  {'content_syntactic': [0.683772233983162, 0.64...  astroturf   \n",
       "1  {'content_syntactic': [0.0600874600144512, 0.0...  astroturf   \n",
       "2  {'content_syntactic': [0.4050577935998917, 0.4...  astroturf   \n",
       "3  {'content_syntactic': [0.6288092648051271, 0.7...  astroturf   \n",
       "4  {'content_syntactic': [1.0, 1.0, 0.74267488226...  astroturf   \n",
       "\n",
       "                userId user_class  tweet_count  change_content_syntactic  \\\n",
       "0            146048090        bot          274                  0.452173   \n",
       "1   797927149856403456        bot          275                  0.481471   \n",
       "2  1046169889138868225        bot          277                  0.431741   \n",
       "3  1085010463128195073        bot          244                  0.183893   \n",
       "4           1613166488        bot          245                  0.812726   \n",
       "\n",
       "   change_action  change_change_dynamic_score  \\\n",
       "0       0.403716                     0.860073   \n",
       "1       0.491328                     0.586060   \n",
       "2       0.369664                     1.066061   \n",
       "3       0.425183                     1.532266   \n",
       "4       0.547337                     0.791417   \n",
       "\n",
       "   highest_change_in_content_syntactic  lowest_change_in_content_syntactic  \\\n",
       "0                                  1.0                            0.000000   \n",
       "1                                  1.0                            0.000000   \n",
       "2                                  1.0                            0.000000   \n",
       "3                                  1.0                            0.000000   \n",
       "4                                  1.0                            0.373736   \n",
       "\n",
       "   standard_deviation_of_content_syntactic  highest_change_in_action  \\\n",
       "0                                 0.337325                       1.0   \n",
       "1                                 0.432201                       1.0   \n",
       "2                                 0.435529                       1.0   \n",
       "3                                 0.365115                       1.0   \n",
       "4                                 0.207269                       1.0   \n",
       "\n",
       "   lowest_change_in_action  standard_deviation_of_action  diversity_action  \\\n",
       "0             0.000000e+00                      0.333447          0.653102   \n",
       "1             2.220446e-16                      0.290351          0.707387   \n",
       "2             2.220446e-16                      0.249736          0.676182   \n",
       "3             4.622382e-02                      0.349031          0.698081   \n",
       "4             2.220446e-16                      0.289094          0.680286   \n",
       "\n",
       "   diversity_content_syntactic  diversity_change_dynamics_score  \n",
       "0                     0.652532                         0.450906  \n",
       "1                     0.693840                         0.151417  \n",
       "2                     0.644029                         0.297367  \n",
       "3                     0.620676                         0.211830  \n",
       "4                     0.766445                         0.627025  "
      ]
     },
     "execution_count": 5,
     "metadata": {},
     "output_type": "execute_result"
    }
   ],
   "source": [
    "data.head()"
   ]
  },
  {
   "cell_type": "code",
   "execution_count": 6,
   "id": "2d730bc5",
   "metadata": {
    "execution": {
     "iopub.execute_input": "2024-11-26T06:05:18.379223Z",
     "iopub.status.busy": "2024-11-26T06:05:18.378640Z",
     "iopub.status.idle": "2024-11-26T06:05:19.355613Z",
     "shell.execute_reply": "2024-11-26T06:05:19.353837Z"
    },
    "papermill": {
     "duration": 0.984965,
     "end_time": "2024-11-26T06:05:19.359062",
     "exception": false,
     "start_time": "2024-11-26T06:05:18.374097",
     "status": "completed"
    },
    "tags": []
   },
   "outputs": [
    {
     "name": "stdout",
     "output_type": "stream",
     "text": [
      "Requirement already satisfied: datasets in /sciclone/data10/iahewababarand/.venv/lib/python3.9/site-packages (3.1.0)\r\n"
     ]
    },
    {
     "name": "stdout",
     "output_type": "stream",
     "text": [
      "Requirement already satisfied: filelock in /sciclone/data10/iahewababarand/.venv/lib/python3.9/site-packages (from datasets) (3.16.1)\r\n",
      "Requirement already satisfied: numpy>=1.17 in /sciclone/data10/iahewababarand/.venv/lib/python3.9/site-packages (from datasets) (2.0.2)\r\n",
      "Requirement already satisfied: pyarrow>=15.0.0 in /sciclone/data10/iahewababarand/.venv/lib/python3.9/site-packages (from datasets) (18.0.0)\r\n",
      "Requirement already satisfied: dill<0.3.9,>=0.3.0 in /sciclone/data10/iahewababarand/.venv/lib/python3.9/site-packages (from datasets) (0.3.8)\r\n",
      "Requirement already satisfied: pandas in /sciclone/data10/iahewababarand/.venv/lib/python3.9/site-packages (from datasets) (2.2.3)\r\n",
      "Requirement already satisfied: requests>=2.32.2 in /sciclone/data10/iahewababarand/.venv/lib/python3.9/site-packages (from datasets) (2.32.3)\r\n",
      "Requirement already satisfied: tqdm>=4.66.3 in /sciclone/data10/iahewababarand/.venv/lib/python3.9/site-packages (from datasets) (4.66.6)\r\n",
      "Requirement already satisfied: xxhash in /sciclone/data10/iahewababarand/.venv/lib/python3.9/site-packages (from datasets) (3.5.0)\r\n",
      "Requirement already satisfied: multiprocess<0.70.17 in /sciclone/data10/iahewababarand/.venv/lib/python3.9/site-packages (from datasets) (0.70.16)\r\n",
      "Requirement already satisfied: fsspec<=2024.9.0,>=2023.1.0 in /sciclone/data10/iahewababarand/.venv/lib/python3.9/site-packages (from fsspec[http]<=2024.9.0,>=2023.1.0->datasets) (2024.9.0)\r\n",
      "Requirement already satisfied: aiohttp in /sciclone/data10/iahewababarand/.venv/lib/python3.9/site-packages (from datasets) (3.10.10)\r\n",
      "Requirement already satisfied: huggingface-hub>=0.23.0 in /sciclone/data10/iahewababarand/.venv/lib/python3.9/site-packages (from datasets) (0.26.2)\r\n",
      "Requirement already satisfied: packaging in /sciclone/data10/iahewababarand/.venv/lib/python3.9/site-packages (from datasets) (24.1)\r\n",
      "Requirement already satisfied: pyyaml>=5.1 in /sciclone/data10/iahewababarand/.venv/lib/python3.9/site-packages (from datasets) (6.0.2)\r\n"
     ]
    },
    {
     "name": "stdout",
     "output_type": "stream",
     "text": [
      "Requirement already satisfied: aiohappyeyeballs>=2.3.0 in /sciclone/data10/iahewababarand/.venv/lib/python3.9/site-packages (from aiohttp->datasets) (2.4.3)\r\n",
      "Requirement already satisfied: aiosignal>=1.1.2 in /sciclone/data10/iahewababarand/.venv/lib/python3.9/site-packages (from aiohttp->datasets) (1.3.1)\r\n",
      "Requirement already satisfied: attrs>=17.3.0 in /sciclone/data10/iahewababarand/.venv/lib/python3.9/site-packages (from aiohttp->datasets) (24.2.0)\r\n",
      "Requirement already satisfied: frozenlist>=1.1.1 in /sciclone/data10/iahewababarand/.venv/lib/python3.9/site-packages (from aiohttp->datasets) (1.5.0)\r\n",
      "Requirement already satisfied: multidict<7.0,>=4.5 in /sciclone/data10/iahewababarand/.venv/lib/python3.9/site-packages (from aiohttp->datasets) (6.1.0)\r\n",
      "Requirement already satisfied: yarl<2.0,>=1.12.0 in /sciclone/data10/iahewababarand/.venv/lib/python3.9/site-packages (from aiohttp->datasets) (1.17.1)\r\n",
      "Requirement already satisfied: async-timeout<5.0,>=4.0 in /sciclone/data10/iahewababarand/.venv/lib/python3.9/site-packages (from aiohttp->datasets) (4.0.3)\r\n",
      "Requirement already satisfied: typing-extensions>=3.7.4.3 in /sciclone/data10/iahewababarand/.venv/lib/python3.9/site-packages (from huggingface-hub>=0.23.0->datasets) (4.12.2)\r\n",
      "Requirement already satisfied: charset-normalizer<4,>=2 in /sciclone/data10/iahewababarand/.venv/lib/python3.9/site-packages (from requests>=2.32.2->datasets) (3.4.0)\r\n",
      "Requirement already satisfied: idna<4,>=2.5 in /sciclone/data10/iahewababarand/.venv/lib/python3.9/site-packages (from requests>=2.32.2->datasets) (3.10)\r\n",
      "Requirement already satisfied: urllib3<3,>=1.21.1 in /sciclone/data10/iahewababarand/.venv/lib/python3.9/site-packages (from requests>=2.32.2->datasets) (1.26.20)\r\n",
      "Requirement already satisfied: certifi>=2017.4.17 in /sciclone/data10/iahewababarand/.venv/lib/python3.9/site-packages (from requests>=2.32.2->datasets) (2024.8.30)\r\n"
     ]
    },
    {
     "name": "stdout",
     "output_type": "stream",
     "text": [
      "Requirement already satisfied: python-dateutil>=2.8.2 in /sciclone/data10/iahewababarand/.venv/lib/python3.9/site-packages (from pandas->datasets) (2.9.0.post0)\r\n",
      "Requirement already satisfied: pytz>=2020.1 in /sciclone/data10/iahewababarand/.venv/lib/python3.9/site-packages (from pandas->datasets) (2024.2)\r\n",
      "Requirement already satisfied: tzdata>=2022.7 in /sciclone/data10/iahewababarand/.venv/lib/python3.9/site-packages (from pandas->datasets) (2024.2)\r\n",
      "Requirement already satisfied: six>=1.5 in /sciclone/data10/iahewababarand/.venv/lib/python3.9/site-packages (from python-dateutil>=2.8.2->pandas->datasets) (1.16.0)\r\n"
     ]
    },
    {
     "name": "stdout",
     "output_type": "stream",
     "text": [
      "Requirement already satisfied: propcache>=0.2.0 in /sciclone/data10/iahewababarand/.venv/lib/python3.9/site-packages (from yarl<2.0,>=1.12.0->aiohttp->datasets) (0.2.0)\r\n"
     ]
    },
    {
     "name": "stdout",
     "output_type": "stream",
     "text": [
      "Note: you may need to restart the kernel to use updated packages.\n"
     ]
    }
   ],
   "source": [
    "pip install datasets"
   ]
  },
  {
   "cell_type": "code",
   "execution_count": 7,
   "id": "16e97722",
   "metadata": {
    "execution": {
     "iopub.execute_input": "2024-11-26T06:05:19.381004Z",
     "iopub.status.busy": "2024-11-26T06:05:19.380709Z",
     "iopub.status.idle": "2024-11-26T06:05:20.039132Z",
     "shell.execute_reply": "2024-11-26T06:05:20.038681Z"
    },
    "papermill": {
     "duration": 0.668614,
     "end_time": "2024-11-26T06:05:20.040036",
     "exception": false,
     "start_time": "2024-11-26T06:05:19.371422",
     "status": "completed"
    },
    "tags": []
   },
   "outputs": [
    {
     "name": "stdout",
     "output_type": "stream",
     "text": [
      "Original class distribution:\n",
      "user_class\n",
      "bot      44457\n",
      "human    39219\n",
      "Name: count, dtype: int64\n",
      "Balanced class distribution:\n",
      "user_class\n",
      "bot      39219\n",
      "human    39219\n",
      "Name: count, dtype: int64\n"
     ]
    }
   ],
   "source": [
    "import pandas as pd\n",
    "from sklearn.utils import shuffle\n",
    "\n",
    "\n",
    "print(\"Original class distribution:\")\n",
    "print(data['user_class'].value_counts())\n",
    "\n",
    "# Separate data by user_class\n",
    "bots = data[data['user_class'] == 'bot']\n",
    "humans = data[data['user_class'] == 'human']\n",
    "\n",
    "# Select the minimum class size\n",
    "min_class_size = min(len(bots), len(humans))\n",
    "\n",
    "# Downsample each class to the minimum class size\n",
    "bots_balanced = bots.sample(n=min_class_size, random_state=1)\n",
    "humans_balanced = humans.sample(n=min_class_size, random_state=1)\n",
    "\n",
    "# Combine the balanced classes\n",
    "balanced_data = pd.concat([bots_balanced, humans_balanced])\n",
    "\n",
    "# Shuffle the data\n",
    "balanced_data = shuffle(balanced_data, random_state=1).reset_index(drop=True)\n",
    "\n",
    "print(\"Balanced class distribution:\")\n",
    "print(balanced_data['user_class'].value_counts())\n",
    "\n",
    "data = balanced_data"
   ]
  },
  {
   "cell_type": "code",
   "execution_count": 8,
   "id": "ce44cf39",
   "metadata": {
    "execution": {
     "iopub.execute_input": "2024-11-26T06:05:20.050619Z",
     "iopub.status.busy": "2024-11-26T06:05:20.049923Z",
     "iopub.status.idle": "2024-11-26T06:05:20.054113Z",
     "shell.execute_reply": "2024-11-26T06:05:20.053782Z"
    },
    "papermill": {
     "duration": 0.010133,
     "end_time": "2024-11-26T06:05:20.054893",
     "exception": false,
     "start_time": "2024-11-26T06:05:20.044760",
     "status": "completed"
    },
    "tags": []
   },
   "outputs": [
    {
     "name": "stdout",
     "output_type": "stream",
     "text": [
      "data shape (78438, 20)\n",
      "columns Index(['content_syntactic_blocstring', 'action_blocstring',\n",
      "       'changes_list_content_syntactic_', 'changes_list_action', 'src',\n",
      "       'userId', 'user_class', 'tweet_count', 'change_content_syntactic',\n",
      "       'change_action', 'change_change_dynamic_score',\n",
      "       'highest_change_in_content_syntactic',\n",
      "       'lowest_change_in_content_syntactic',\n",
      "       'standard_deviation_of_content_syntactic', 'highest_change_in_action',\n",
      "       'lowest_change_in_action', 'standard_deviation_of_action',\n",
      "       'diversity_action', 'diversity_content_syntactic',\n",
      "       'diversity_change_dynamics_score'],\n",
      "      dtype='object')\n"
     ]
    }
   ],
   "source": [
    "print(\"data shape\", data.shape)\n",
    "print(\"columns\", data.columns)"
   ]
  },
  {
   "cell_type": "code",
   "execution_count": 9,
   "id": "c57005b8",
   "metadata": {
    "execution": {
     "iopub.execute_input": "2024-11-26T06:05:20.064463Z",
     "iopub.status.busy": "2024-11-26T06:05:20.064190Z",
     "iopub.status.idle": "2024-11-26T06:05:20.068602Z",
     "shell.execute_reply": "2024-11-26T06:05:20.068275Z"
    },
    "papermill": {
     "duration": 0.009869,
     "end_time": "2024-11-26T06:05:20.069361",
     "exception": false,
     "start_time": "2024-11-26T06:05:20.059492",
     "status": "completed"
    },
    "tags": []
   },
   "outputs": [],
   "source": [
    "def map_action_to_content(action_string, content_string):\n",
    "    \"\"\"\n",
    "    Maps each valid character in the action string to the corresponding group in the content string,\n",
    "    skipping non-character symbols and formatting the output as specified.\n",
    "\n",
    "    Args:\n",
    "    action_string (str): A string where each character represents an action.\n",
    "    content_string (str): A string containing groups inside parentheses.\n",
    "\n",
    "    Returns:\n",
    "    str: A formatted string where each action is paired with a content group.\n",
    "    \"\"\"\n",
    "    # Parse content_string to extract groups inside parentheses\n",
    "    content_groups = re.findall(r'\\((.*?)\\)', content_string)\n",
    "    \n",
    "    # Valid characters are alphabetic only\n",
    "    valid_actions = [char for char in action_string if char.isalpha()]\n",
    "    \n",
    "    # Pair valid actions with corresponding content groups\n",
    "    concatenated_output = []\n",
    "    for i, char in enumerate(valid_actions):\n",
    "        if i < len(content_groups):  # Ensure no out-of-bound errors\n",
    "            concatenated_output.append(f\"({char} -> {content_groups[i]})\")\n",
    "        else:\n",
    "            break\n",
    "\n",
    "    # Format as groups divided by \"|\"\n",
    "    return \"|\".join(\n",
    "        [\"\".join(concatenated_output[i:i + 4]) for i in range(0, len(concatenated_output), 4)]\n",
    "    )"
   ]
  },
  {
   "cell_type": "code",
   "execution_count": 10,
   "id": "8a8b8f85",
   "metadata": {
    "execution": {
     "iopub.execute_input": "2024-11-26T06:05:20.078642Z",
     "iopub.status.busy": "2024-11-26T06:05:20.078368Z",
     "iopub.status.idle": "2024-11-26T06:05:20.092644Z",
     "shell.execute_reply": "2024-11-26T06:05:20.092310Z"
    },
    "papermill": {
     "duration": 0.019671,
     "end_time": "2024-11-26T06:05:20.093404",
     "exception": false,
     "start_time": "2024-11-26T06:05:20.073733",
     "status": "completed"
    },
    "tags": []
   },
   "outputs": [],
   "source": [
    "import json\n",
    "import torch\n",
    "from torch.utils.data import DataLoader, Dataset, random_split\n",
    "import pandas as pd\n",
    "\n",
    "class UserDataset(Dataset):\n",
    "    def __init__(self, data):\n",
    "        self.data = data\n",
    "    \n",
    "    def __len__(self):\n",
    "        return len(self.data)\n",
    "    \n",
    "    def __getitem__(self, idx):\n",
    "        text = map_action_to_content(self.data.loc[idx, 'action_blocstring'], self.data.loc[idx, 'content_syntactic_blocstring'])\n",
    "        # print(\"action\", self.data.loc[idx, 'action_blocstring'])\n",
    "        # print(\"content\", self.data.loc[idx, 'content_syntactic_blocstring'])\n",
    "        # print(\"text\", text)\n",
    "        label = 1 if self.data.loc[idx, 'user_class'] == 'bot' else 0\n",
    "        return {\n",
    "            'text': text, \n",
    "            'label': label \n",
    "        }\n",
    "\n",
    "dataset = UserDataset(data)\n",
    "\n",
    "train_size = int(0.7 * len(dataset))\n",
    "val_size = int(0.15 * len(dataset))\n",
    "test_size = len(dataset) - train_size - val_size\n",
    "\n",
    "train_dataset, val_dataset, test_dataset = random_split(dataset, [train_size, val_size, test_size])\n",
    "\n",
    "train_loader = DataLoader(train_dataset, batch_size=32, shuffle=True)\n",
    "val_loader = DataLoader(val_dataset, batch_size=32, shuffle=False)\n",
    "test_loader = DataLoader(test_dataset, batch_size=32, shuffle=False)\n",
    "\n",
    "# Example usage: Iterate through the test loader\n",
    "# for batch in val_loader:\n",
    "#     print(batch['text'], batch['label'])\n"
   ]
  },
  {
   "cell_type": "code",
   "execution_count": 11,
   "id": "7475eb0e",
   "metadata": {
    "execution": {
     "iopub.execute_input": "2024-11-26T06:05:20.102967Z",
     "iopub.status.busy": "2024-11-26T06:05:20.102692Z",
     "iopub.status.idle": "2024-11-26T06:05:22.287559Z",
     "shell.execute_reply": "2024-11-26T06:05:22.287065Z"
    },
    "papermill": {
     "duration": 2.190787,
     "end_time": "2024-11-26T06:05:22.288693",
     "exception": false,
     "start_time": "2024-11-26T06:05:20.097906",
     "status": "completed"
    },
    "tags": []
   },
   "outputs": [
    {
     "name": "stdout",
     "output_type": "stream",
     "text": [
      "Vocab-size: 3807\n",
      "vocab {'<pad>': 0, '<unk>': 1, '': 2, 'T -> t': 3, 'p -> t': 4, 'T -> Ut': 5, 'r -> qt': 6, 'r -> t': 7, 'T -> qt': 8, 'r -> Et': 9, 'r -> Ut': 10, 'T -> mt': 11, 'T -> Et': 12, 'p -> mt': 13, 'T -> Ht': 14, 'T -> mUt': 15, 'r -> mqt': 16, 'T -> HUt': 17, 'r -> Hqt': 18, 'r -> Ht': 19, 'T -> E': 20, 'T -> mqt': 21, 'r -> EHt': 22, 'p -> qt': 23, 'r -> mt': 24, 'r -> mUt': 25, 'p -> mmt': 26, 'r -> EUt': 27, 'T -> Hqt': 28, 'r -> mmqt': 29, 'T -> HHUt': 30, 'r -> HUt': 31, 'r -> Emt': 32, 'r -> Hmqt': 33, 'r -> E': 34, 'T -> U': 35, 'T -> UUt': 36, 'r -> HHqt': 37, 'T -> HHt': 38, 'T -> mmt': 39, 'T -> EHt': 40, 'T -> Hmt': 41, 'p -> mqt': 42, 'T -> EUt': 43, 'T -> HHHUt': 44, 'r -> HHHUt': 45, 'r -> EHmt': 46, 'T -> HmUt': 47, 'r -> HHUt': 48, 'r -> EHHt': 49, 'r -> EEt': 50, 'T -> HHHHHUt': 51, 'p -> E': 52, 'p -> Ht': 53, 'π -> t': 54, 'T -> Emt': 55, 'r -> Hmt': 56, 'p -> Et': 57, 'p -> mmmt': 58, 'r -> U': 59, 'r -> HHt': 60, 'T -> mmUt': 61, 'r -> mmmqt': 62, 'π -> qt': 63, 'p -> mmqt': 64, 'T -> HHqt': 65, 'T -> mmqt': 66, 'p -> mmmmmmmqt': 67, 'T -> HHHHUt': 68, 'T -> Hmqt': 69, 'r -> HHHHUt': 70, 'T -> EHUt': 71, 'p -> Ut': 72, 'r -> HmUt': 73, 'r -> HHHqt': 74, 'r -> Uqt': 75, 'r -> mmmmmmmqt': 76, 'r -> EEEEt': 77, 'r -> Hmmqt': 78, 'T -> EHHt': 79, 'r -> mmt': 80, 'T -> HHHt': 81, 'r -> mmUt': 82, 'r -> EHUt': 83, 'T -> HHHHHHUt': 84, 'p -> mmmmmmmmqt': 85, 'r -> HHmqt': 86, 'r -> Emmt': 87, 'T -> HHmUt': 88, 'p -> mmmqt': 89, 'r -> mmmmmmmmqt': 90, 'r -> HHHHqt': 91, 'p -> mmmmt': 92, 'T -> EHmt': 93, 'r -> EHHHt': 94, 'r -> mmmmqt': 95, 'r -> EmUt': 96, 'T -> mmmt': 97, 'r -> HHmUt': 98, 'T -> HHmt': 99, 'r -> HUqt': 100, 'r -> EHHUt': 101, 'r -> EHmmt': 102, 'r -> EHHmt': 103, 'r -> HHHHHUt': 104, 'T -> Hmmt': 105, 'T -> HHHqt': 106, 'r -> HHHt': 107, 'r -> EH': 108, 'T -> EHHHt': 109, 'T -> EHHUt': 110, 'r -> EEEt': 111, 'r -> Hmmt': 112, 'r -> mmmmmmqt': 113, 'T -> mmmUt': 114, 'p -> Em': 115, 'r -> mmmmmqt': 116, 'T -> HHUqt': 117, 'r -> Hmmmqt': 118, 'T -> Uqt': 119, 'p -> Hmt': 120, 'r -> mmmt': 121, 'T -> HHHHt': 122, 'p -> mmmmqt': 123, 'r -> HmmUt': 124, 'p -> mmmmmmqt': 125, 'r -> HHHHHqt': 126, 'p -> Emt': 127, 'r -> HHmt': 128, 'r -> HHmmqt': 129, 'T -> HmmUt': 130, 'T -> EH': 131, 'T -> mmmqt': 132, 'r -> UUt': 133, 'p -> mmmmmt': 134, 'T -> Hmmqt': 135, 'T -> EHHHUt': 136, 'T -> Emmt': 137, 'r -> HHHmqt': 138, 'ρ -> qt': 139, 'r -> ¤Ut': 140, 'T -> H': 141, 'T -> EEt': 142, 'r -> EEHt': 143, 'T -> EmUt': 144, 'r -> HHHHHHqt': 145, 'r -> ¤qt': 146, 'T -> HUqt': 147, 'T -> EHHHHt': 148, 'r -> mmmUt': 149, 'r -> HHmmUt': 150, 'r -> EHmUt': 151, 'T -> HHmqt': 152, 'T -> EHHmt': 153, 'r -> EHHHHt': 154, 'r -> HmUqt': 155, 'r -> EHHHUt': 156, 'r -> EHHHmt': 157, 'p -> mmmmmqt': 158, 'r -> EHHmmt': 159, 'T -> HUUt': 160, 'T -> HHHmUt': 161, 'r -> HHUqt': 162, 'r -> mUqt': 163, 'T -> HU': 164, 'p -> mUt': 165, 'T -> HHHHHHHUt': 166, 'π -> Et': 167, 'r -> EHmmmt': 168, 'r -> HHHmmqt': 169, 'r -> HHHmUt': 170, 'r -> φt': 171, 'r -> Hmmmmqt': 172, 'r -> EEHHt': 173, 'T -> mmmmt': 174, 'r -> HHHHmUt': 175, 'r -> HHHmt': 176, 'T -> UU': 177, 'T -> HHHmt': 178, 'p -> mmmmmmt': 179, 'r -> Emmmt': 180, 'r -> Hmmmt': 181, 'r -> EE': 182, 'T -> EHmmt': 183, 'p -> m': 184, 'r -> EEEEHt': 185, 'p -> U': 186, 'r -> EEHmt': 187, 'r -> mφ': 188, 'r -> HHHHHHHHHUqt': 189, 'T -> mq': 190, 'p -> HHt': 191, 'r -> HHHHHHHqt': 192, 'r -> HHHHHHHHHqt': 193, 'r -> HHHHt': 194, 'r -> EHHmUt': 195, 'T -> Hmmmt': 196, 'T -> HHHHqt': 197, 'r -> mmmmmmmmmqt': 198, 'r -> EmmUt': 199, 'r -> mmmmt': 200, 'T -> EEEEt': 201, 'π -> mt': 202, 'T -> mmmmqt': 203, 'p -> mmmmmmmmmqt': 204, 'r -> ¤t': 205, 'ρ -> t': 206, 'r -> HHHHHHHHHHHUqt': 207, 'T -> EHH': 208, 'r -> HHHHmqt': 209, 'T -> Hq': 210, 'r -> HHHHHHHHqt': 211, 'r -> H': 212, 'r -> HHHHHHUt': 213, 'T -> HHmmUt': 214, 'r -> HHHUqt': 215, 'r -> Em': 216, 'T -> mU': 217, 'p -> Hmmt': 218, 'T -> EHmUt': 219, 'r -> HHHmmt': 220, 'p -> Emmt': 221, 'T -> φt': 222, 'p -> Emm': 223, 'T -> HHmmt': 224, 'p -> H': 225, 'T -> mUUt': 226, 'r -> ¤¤¤Ut': 227, 'T -> HHHUqt': 228, 'r -> HHHH¤t': 229, 'T -> HHHHHt': 230, 'r -> EEmt': 231, 'r -> H¤¤qt': 232, 'r -> HHmmmUt': 233, 'T -> HHHHmUt': 234, 'r -> HmmmUt': 235, 'r -> EHHU': 236, 'ρ -> Et': 237, 'r -> HHHHUqt': 238, 'T -> HHHmqt': 239, 'T -> Hmmmqt': 240, 'π -> Ut': 241, 'r -> mmUqt': 242, 'T -> HHmmqt': 243, 'r -> HHHmmUt': 244, 'r -> HHmmt': 245, 'r -> Hmmmmmqt': 246, 'T -> ¤t': 247, 'r -> EHHmmmt': 248, 'T -> mUqt': 249, 'p -> mmmmmmmt': 250, 'T -> HHHHHHHHUt': 251, 'r -> HHHHHHHHHHqt': 252, 'T -> EEEt': 253, 'r -> EHHHHUt': 254, 'r -> EHHHHHt': 255, 'T -> HmmmUt': 256, 'r -> HHHHHt': 257, 'p -> HUt': 258, 'T -> q': 259, 'r -> Hq': 260, 'r -> EHHHHHUt': 261, 'r -> EEEEmt': 262, 'T -> EU': 263, 'π -> Ht': 264, 'r -> HHmmmt': 265, 'p -> mmmmmmmmt': 266, 'T -> HHHHHqt': 267, 'T -> EHHHmt': 268, 'r -> EHHHHmt': 269, 'r -> HHHHHUqt': 270, 'r -> HHmmmmqt': 271, 'p -> Hqt': 272, 'T -> HHHHHHHt': 273, 'π -> mqt': 274, 'r -> HHHHHmqt': 275, 'r -> HHHHHmUt': 276, 'r -> HHmmmqt': 277, 'r -> HmmUqt': 278, 'π -> mmmmmmmqt': 279, 'T -> HHU': 280, 'r -> EHHH': 281, 'r -> Hmmmmmmqt': 282, 'T -> Eq': 283, 'p -> mm': 284, 'r -> EHHHmmmt': 285, 'r -> EUUt': 286, 'r -> HHHHHHUqt': 287, 'T -> Emmmt': 288, 'r -> Hmmmmt': 289, 'r -> ¤Uqt': 290, 'r -> EHmmUt': 291, 'T -> EEHt': 292, 'r -> HUUt': 293, 'r -> mmmmmt': 294, 'r -> EEEHt': 295, 'r -> EHHHHHHt': 296, 'r -> EEEE': 297, 'r -> E¤t': 298, 'r -> EHmmmmt': 299, 'r -> EEEEHHt': 300, 'r -> EHH': 301, 'r -> EHHHmmt': 302, 'r -> UU': 303, 'π -> Hqt': 304, 'ρ -> mqt': 305, 'T -> HHHU': 306, 'r -> Hm': 307, 'T -> HHHHHmUt': 308, 'π -> E': 309, 'T -> HHHmmUt': 310, 'r -> HHmUqt': 311, 'p -> EHt': 312, 'p -> mmUt': 313, 'T -> EHHH': 314, 'p -> HHmt': 315, 'T -> EHHmmt': 316, 'T -> Eqt': 317, 'T -> mmmmmqt': 318, 'π -> mmqt': 319, 'r -> HHHHmmqt': 320, 'T -> EHHHHUt': 321, 'r -> mmmmmmt': 322, 'T -> mmmmmt': 323, 'p -> HHHmmt': 324, 'T -> EHHHHHt': 325, 'ρ -> Ut': 326, 'r -> EHHHmUt': 327, 'r -> ¤¤Ut': 328, 'T -> HHHHUqt': 329, 'T -> EEEEmt': 330, 'T -> mmmmUt': 331, 'T -> EHHmUt': 332, 'T -> HHHHHHHHHUt': 333, 'T -> mmmmmmmqt': 334, 'T -> EmmUt': 335, 'T -> EEmt': 336, 'r -> Emmmmmt': 337, 'T -> HHHHHHt': 338, 'r -> Hmmmmmmmqt': 339, 'r -> EmmmUt': 340, 'T -> HHHHHHqt': 341, 'T -> Em': 342, 'r -> EU': 343, 'r -> ¤UUt': 344, 'p -> Hmmmt': 345, 'r -> Emmmmt': 346, 'r -> HHmmUqt': 347, 'ρ -> Hqt': 348, 'T -> mmmmmmmmqt': 349, 'π -> mmt': 350, 'r -> HHHmm': 351, 'r -> HHHmmmqt': 352, 'T -> EEEEHt': 353, 'T -> HHHHmt': 354, 'T -> m': 355, 'r -> HHHHHHHHHHUqt': 356, 'T -> EEUt': 357, 'r -> EHHHHHmt': 358, 'T -> Hmmmmt': 359, 'r -> EEEmt': 360, 'T -> Hmmmmqt': 361, 'r -> HHHHHHHHUqt': 362, 'π -> mmmmmmmmqt': 363, 'T -> EHmmmt': 364, 'r -> ¤¤¤¤¤¤¤¤¤Ut': 365, 'r -> HHHHHHt': 366, 'T -> ¤qt': 367, 'T -> HHUUt': 368, 'r -> HHHHHHHUt': 369, 'p -> Hmqt': 370, 'p -> Emmmt': 371, 'r -> EEmmt': 372, 'r -> Emm': 373, 'r -> mmmmUt': 374, 'r -> HHmmmmmqt': 375, 'T -> HHHHmqt': 376, 'r -> EEUt': 377, 'T -> HHHUUt': 378, 'T -> HHHmmt': 379, 'p -> HHHt': 380, 'T -> HHHmmqt': 381, 'r -> HHHHmt': 382, 'r -> mmmmmmmmmmqt': 383, 'T -> mmmmmmqt': 384, 'r -> HHHmmUqt': 385, 'T -> mmmmmmt': 386, 'r -> H¤Ut': 387, 'T -> HHHHHHHqt': 388, 'r -> HU': 389, 'r -> HHHmmmmmqt': 390, 'T -> UUUt': 391, 'p -> Emmm': 392, 'ρ -> E': 393, 'r -> ¤¤¤¤¤¤¤¤¤¤¤qt': 394, 'r -> EHHHHHHHt': 395, 'r -> ¤¤¤¤¤¤¤¤¤¤qt': 396, 'r -> HHU': 397, 'r -> Eqt': 398, 'r -> HHHHHHHHUt': 399, 'r -> EEEEHmt': 400, 'r -> ¤¤qt': 401, 'p -> HHHmt': 402, 'r -> HHUUt': 403, 'r -> mUUt': 404, 'T -> HHmmmUt': 405, 'r -> H¤¤¤qt': 406, 'r -> HHmmUUt': 407, 'ρ -> mUt': 408, 'T -> HHHHU': 409, 'π -> mmmqt': 410, 'T -> EHHHHHHt': 411, 'r -> EEEHHt': 412, 'r -> EEHHHHHHHUt': 413, 'r -> EEEEUt': 414, 'T -> HHmmmt': 415, 'T -> HmUqt': 416, 'T -> EHmmUt': 417, 'r -> H¤qt': 418, 'T -> EHHHHHUt': 419, 'r -> EHHHHmmt': 420, 'r -> mmmmmUt': 421, 'T -> mmUqt': 422, 'p -> mmmmmmmmmmqt': 423, 'p -> mU': 424, 'r -> mmmmmmmmmmmqt': 425, 'r -> EHHHHmm': 426, 'T -> mmmmmmmt': 427, 'T -> HHHHHHHHHHUt': 428, 'T -> HHHHHHHHHHHUt': 429, 'T -> HHmmmqt': 430, 'r -> ¤¤¤¤¤¤¤¤¤¤¤¤qt': 431, 'r -> Eq': 432, 'r -> HHHHHHHHHHHHUqt': 433, 'T -> EEHHt': 434, 'T -> HHHHHU': 435, 'T -> HH': 436, 'p -> Hm': 437, 'p -> ¤t': 438, 'r -> EHHHH': 439, 'r -> EEE': 440, 'r -> mq': 441, 'r -> HHHmUqt': 442, 'T -> EHHHHmt': 443, 'T -> mmmmmUt': 444, 'T -> HHHHHHHHqt': 445, 'T -> Emmmmt': 446, 'T -> mφt': 447, 'r -> HmmmmUt': 448, 'r -> EHHHHHHUt': 449, 'T -> Hm': 450, 'r -> ¤¤¤¤¤¤¤¤¤¤¤¤¤¤t': 451, 'r -> ¤mqt': 452, 'r -> ¤¤¤¤¤¤¤¤qt': 453, 'ρ -> EHt': 454, 'r -> HHmmmmmmqt': 455, 'r -> EHHmmUt': 456, 'r -> ¤¤¤¤¤¤¤¤¤¤¤¤¤¤¤t': 457, 'T -> mmmmmmmmmqt': 458, 'r -> Hmmmmmt': 459, 'r -> HHHHHHHUqt': 460, 'p -> mmm': 461, 'T -> EEEHt': 462, 'r -> HH¤¤qt': 463, 'T -> HHHHHUqt': 464, 'r -> Hmmmmmmmmqt': 465, 'r -> ¤¤¤¤¤¤¤¤¤qt': 466, 'r -> HHHHHHHmqt': 467, 'r -> EEHHHt': 468, 'T -> EE': 469, 'r -> EHHHmmUt': 470, 'T -> HHq': 471, 'r -> EHHHHH': 472, 'p -> HmUt': 473, 'T -> EEEmt': 474, 'T -> HmUUt': 475, 'r -> EEEUt': 476, 'r -> HHHHHHHHHHHqt': 477, 'π -> EHt': 478, 'r -> HH': 479, 'T -> ¤Ut': 480, 'r -> HHHHHmmqt': 481, 'ρ -> HHqt': 482, 'T -> HHHHmmUt': 483, 'r -> mmmmmmmt': 484, 'r -> HHmmmmt': 485, 'T -> HHHHHHmUt': 486, 'T -> Hmmmmmt': 487, 'ρ -> Ht': 488, 'T -> E¤t': 489, 'T -> HHHHHHU': 490, 'p -> mmmmmmmmmt': 491, 'r -> EEEEHHHt': 492, 'r -> HHHHHHmqt': 493, 'p -> Hmmqt': 494, 'r -> EEEHHHt': 495, 'r -> ¤¤¤qt': 496, 'r -> EHHHmmmmt': 497, 'π -> mmmt': 498, 'π -> mmmmmmqt': 499, 'r -> ¤¤UUt': 500, 'T -> EmmmUt': 501, 'T -> HHHHHHHHHHt': 502, 'T -> HHHHHmt': 503, 'p -> HHmmt': 504, 'r -> EHHHHHHHHt': 505, 'r -> m': 506, 'p -> Hmmmmt': 507, 'T -> EHHHmmt': 508, 'r -> HHHHHHHHHUt': 509, 'ρ -> mmmmmmmqt': 510, 'ρ -> mmqt': 511, 'π -> U': 512, 'r -> q': 513, 'r -> EEEEHHHHt': 514, 'r -> EHHmmmmt': 515, 'p -> mmmUt': 516, 'p -> EHmt': 517, 'p -> EEt': 518, 'T -> EEEEHHt': 519, 'r -> HmmmUqt': 520, 'ρ -> Hmqt': 521, 'r -> HHHUUqt': 522, 'π -> EEt': 523, 'r -> mmmUqt': 524, 'r -> E¤Ut': 525, 'r -> mU': 526, 'r -> Emmmmmmt': 527, 'T -> HmmmmUt': 528, 'r -> ¤¤¤¤¤¤¤¤¤¤¤¤¤¤¤¤t': 529, 'r -> HHHHmmUt': 530, 'r -> EEHHHmt': 531, 'p -> HHqt': 532, 'p -> HHUt': 533, 'T -> EEHmt': 534, 'r -> HHHHmmt': 535, 'r -> ¤¤¤¤¤¤¤¤¤¤¤¤¤qt': 536, 'r -> ¤¤¤¤¤Ut': 537, 'ρ -> Emt': 538, 'r -> EEEEHHHHHt': 539, 'ρ -> mmmmmmmmqt': 540, 'r -> ¤mUqt': 541, 'r -> Hmmmmmmmt': 542, 'r -> HHHmmmt': 543, 'p -> q': 544, 'r -> HHH¤mmmmqt': 545, 'T -> EHHHH': 546, 'T -> EHHmmmt': 547, 'r -> mφt': 548, 'r -> HHHHmUqt': 549, 'r -> HHHHHHmUt': 550, 'r -> HHH¤mmmqt': 551, 'T -> mmUUt': 552, 'T -> mmmmmmmmt': 553, 'r -> Hmmmmmmt': 554, 'π -> HHt': 555, 'r -> HHH¤Ut': 556, 'r -> HHHHHHHt': 557, 'T -> EHm': 558, 'r -> HHHmmmmqt': 559, 'r -> ¤¤¤¤¤¤¤¤¤¤¤¤¤t': 560, 'T -> Hmmmmmqt': 561, 'ρ -> EUt': 562, 'r -> ¤¤¤¤¤¤¤¤¤¤Uqt': 563, 'p -> Emmmm': 564, 'r -> ¤¤¤¤¤¤¤¤¤¤¤Uqt': 565, 'r -> EEHHHHt': 566, 'T -> EHHHHHHHt': 567, 'r -> EEEEHHHmt': 568, 'r -> UUqt': 569, 'r -> ¤¤¤¤¤¤¤qt': 570, 'r -> HHHq': 571, 'r -> EHm': 572, 'r -> EHmmmmmt': 573, 'r -> EEEEmmt': 574, 'r -> EEEHmt': 575, 'T -> HmmUqt': 576, 'r -> EHHHHHHmt': 577, 'r -> mmmmmmmmt': 578, 'r -> HHHHU': 579, 'r -> HHHHHmt': 580, 'p -> φ': 581, 'r -> EEHmmt': 582, 'T -> mmmUqt': 583, 'π -> mmmmqt': 584, 'r -> HHq': 585, 'T -> mmq': 586, 'π -> EEEEt': 587, 'T -> HHHHHmqt': 588, 'T -> HHHHHHmt': 589, 'p -> UUt': 590, 'T -> HHmmmmqt': 591, 'r -> H¤t': 592, 'p -> Emmmmt': 593, 'p -> Uqt': 594, 'T -> HHHHHHHmUt': 595, 'T -> HHmUqt': 596, 'r -> ¤¤¤¤¤qt': 597, 'r -> EHHHHmUt': 598, 'r -> HHHmmmmt': 599, 'r -> HHHHmmmmmqt': 600, 'r -> HHHUUt': 601, 'r -> HHHHmmmmqt': 602, 'T -> Hmmmmmmmmt': 603, 'r -> HHHmUUt': 604, 'r -> HHHmmmUt': 605, 'T -> Hmmmmmmt': 606, 'T -> EHHHHHHUt': 607, 'r -> HHHHmmmqt': 608, 'r -> EEHHmt': 609, 'r -> ¤¤¤¤¤¤¤¤¤¤¤¤t': 610, 'T -> HHHHHHHHt': 611, 'p -> EH': 612, 'π -> HHqt': 613, 'T -> HHH': 614, 'p -> HHHHt': 615, 'p -> HHmqt': 616, 'p -> mmU': 617, 'T -> HHmmmmt': 618, 'r -> H¤¤mUqt': 619, 'T -> EEEHHt': 620, 'r -> EHHHHHmUt': 621, 'r -> HHHU': 622, 'T -> EEmmt': 623, 'r -> HH¤qt': 624, 'T -> HHHHmmqt': 625, 'π -> ¤t': 626, 'r -> ¤¤t': 627, 'r -> EHU': 628, 'T -> Hmmmmmmmt': 629, 'ρ -> mt': 630, 'T -> H¤t': 631, 'r -> HH¤mmmmqt': 632, 'r -> ¤¤¤¤¤¤qt': 633, 'r -> Hφqt': 634, 'p -> Hmmmmmt': 635, 'r -> HUUqt': 636, 'r -> ¤¤¤¤qt': 637, 'T -> HHHHHUUt': 638, 'T -> mmmmUqt': 639, 'r -> EHHHHHmmt': 640, 'T -> EEEE': 641, 'r -> EEEEHHmt': 642, 'T -> HHHHmmt': 643, 'r -> Hmmmmmmmmt': 644, 'p -> mmmm': 645, 'p -> Emmmmmt': 646, 'r -> Hφt': 647, 'T -> mmmmmmUt': 648, 'T -> EHHHHHmt': 649, 'r -> H¤UUt': 650, 'r -> mmUUt': 651, 'π -> HHH': 652, 'T -> HHHHHHHHHqt': 653, 'T -> HHHHHHHHHt': 654, 'π -> mUt': 655, 'r -> HHHHHHmq': 656, 'r -> HHmmmmUt': 657, 'r -> EHHHHHH': 658, 'r -> mmmmmmUt': 659, 'r -> ¤mUt': 660, 'r -> EEEmmt': 661, 'r -> EHHHU': 662, 'π -> HUt': 663, 'T -> HmmUUt': 664, 'T -> EEEEHmt': 665, 'r -> HHHHHHHHt': 666, 'r -> HHHφqt': 667, 'r -> HHHHHHHHHt': 668, 'T -> HHHmmmmqt': 669, 'T -> HmU': 670, 'ρ -> EHHt': 671, 'π -> Uqt': 672, 'T -> HHHHHHHU': 673, 'ρ -> mmmqt': 674, 'T -> Hmmmmmmmmmt': 675, 'T -> EEHHHt': 676, 'T -> HHHmmmqt': 677, 'p -> φt': 678, 'r -> Emqt': 679, 'π -> q': 680, 'r -> HH¤¤mqt': 681, 'r -> ¤¤¤¤¤¤¤¤¤¤¤¤Ut': 682, 'T -> Uq': 683, 'r -> EEHHHHHt': 684, 'π -> H': 685, 'ρ -> HHHqt': 686, 'r -> HHHHHHHHmqt': 687, 'T -> HHHHUUt': 688, 'r -> HHH': 689, 'T -> Hmmmmmmmqt': 690, 'p -> Hmm': 691, 'r -> E¤mUt': 692, 'p -> EHHt': 693, 'r -> EHmmmUt': 694, 'r -> Hmmmmmmmm': 695, 'r -> EEEEmUt': 696, 'T -> Hmmmmmmqt': 697, 'p -> HHmmmt': 698, 'r -> mmmmmmmmmt': 699, 'T -> HHHHHHUqt': 700, 'T -> ¤¤t': 701, 'r -> EEmmmt': 702, 'T -> EEEEmmmmmmt': 703, 'T -> EHmmmmt': 704, 'T -> HHHmmmt': 705, 'r -> HH¤Uqt': 706, 'r -> HHmq': 707, 'p -> HHHHUt': 708, 'T -> mmmmmmmmmmqt': 709, 'r -> UUUt': 710, 'r -> Hmmmmmmmmmqt': 711, 'T -> EHHHHHHHHt': 712, 'T -> Emmmmmt': 713, 'π -> mmmmmqt': 714, 'r -> HHHHHHHHHHHHqt': 715, 'r -> HHHHHmmUt': 716, 'T -> HHHHHmmqt': 717, 'π -> mmmmt': 718, 'r -> HHHHHHHHHHUt': 719, 'T -> EHHmmUt': 720, 'p -> Hmmmqt': 721, 'r -> EHHHHHHmmt': 722, 'r -> Hmmmmmmmmmmt': 723, 'r -> HHmmmφqt': 724, 'ρ -> mmmmmmqt': 725, 'T -> HHmUUt': 726, 'T -> EEHHmt': 727, 'r -> mmmmUqt': 728, 'T -> Hmmmmmmmmqt': 729, 'r -> EHHm': 730, 'r -> EHHHHHHHUt': 731, 'r -> EEmUt': 732, 'r -> HmUUt': 733, 'r -> EEH': 734, 'r -> Hmmmmmmmmmt': 735, 'r -> EEEEHHHHmt': 736, 'T -> EEEHHHt': 737, 'r -> ¤¤¤¤¤¤¤¤¤¤¤¤¤¤qt': 738, 'r -> E¤¤t': 739, 'ρ -> EHmt': 740, 'r -> HHH¤Uqt': 741, 'r -> HH¤¤¤¤qt': 742, 'T -> HHHq': 743, 'T -> Hφt': 744, 'r -> ¤mt': 745, 'T -> HHHmUqt': 746, 'r -> HHUUqt': 747, 'r -> EEEEHHHUt': 748, 'T -> UUqt': 749, 'p -> Emmmmmm': 750, 'r -> EEEHHHHt': 751, 'T -> EEEHmt': 752, 'r -> EEEEHmmt': 753, 'T -> EEE': 754, 'T -> EHHHHmmt': 755, 'p -> EUt': 756, 'T -> EHHHHH': 757, 'r -> ¤¤¤¤¤¤¤¤¤¤¤¤¤¤¤¤¤t': 758, 'r -> ¤¤¤¤¤¤¤¤¤¤¤¤¤¤¤qt': 759, 'r -> ¤¤¤¤Ut': 760, 'r -> HmmmmmUt': 761, 'T -> HHHHHHmqt': 762, 'p -> HH': 763, 'T -> UUUUt': 764, 'π -> m': 765, 'T -> HHHmmmUt': 766, 'r -> ¤¤¤¤¤¤¤¤¤¤t': 767, 'ρ -> EmUt': 768, 'r -> HHHHHU': 769, 'T -> mm': 770, 'T -> mφ': 771, 'p -> HHmUt': 772, 'p -> HmmUt': 773, 'r -> EEEEHUt': 774, 'π -> Emt': 775, 'T -> EEEEUt': 776, 'p -> ¤mt': 777, 'T -> HmmmmmUt': 778, 'r -> ¤¤¤¤¤¤¤¤¤¤Ut': 779, 'r -> EEEHHmmt': 780, 'T -> Hmq': 781, 'r -> ¤¤¤¤¤¤¤¤¤¤¤t': 782, 'r -> HHHHHmmmmU': 783, 'T -> EEEEmmt': 784, 'r -> HH¤Ut': 785, 'r -> HH¤mmqt': 786, 'r -> EHHH¤¤¤Ut': 787, 'ρ -> EEt': 788, 'p -> Emmmmm': 789, 'r -> HHHHmmUqt': 790, 'r -> HHHHmmmUt': 791, 'r -> HHHH¤qt': 792, 'r -> Emmm': 793, 'T -> HHmmmmUt': 794, 'r -> ¤¤¤¤¤¤¤¤¤Uqt': 795, 'ρ -> Uqt': 796, 'ρ -> U': 797, 'T -> EHHHmUt': 798, 'π -> EUt': 799, 'r -> mmmmmmmmmmmmqt': 800, 'r -> HHHH¤¤¤¤¤t': 801, 'r -> HHHHHHmt': 802, 'r -> EEEHmmt': 803, 'p -> mq': 804, 'r -> H¤Uqt': 805, 'T -> HHHHHmmUt': 806, 'T -> HHHHHHUUt': 807, 'p -> EEEEt': 808, 'T -> HHHHHHHHHHqt': 809, 'r -> HHmmmmmt': 810, 'p -> mUqt': 811, 'r -> ¤¤¤¤¤¤¤¤¤¤¤¤¤¤¤Ut': 812, 'r -> EEEHHmt': 813, 'ρ -> HHmqt': 814, 'p -> mmmU': 815, 'T -> EEEUt': 816, 'r -> φ': 817, 'p -> HHHUt': 818, 'T -> Emqt': 819, 'r -> H¤¤¤¤¤¤¤¤¤¤qt': 820, 'p -> Hmmmmqt': 821, 'T -> mmmmmmmmmt': 822, 'r -> EEEEH': 823, 'r -> EEEmUt': 824, 'T -> HHHHHHHmmUt': 825, 'r -> EEEHHHHHt': 826, 'ρ -> mmmmmmmmmqt': 827, 'r -> HHHHHHmmUt': 828, 'T -> HHmU': 829, 'T -> EEEEHHHt': 830, 'ρ -> Hmmqt': 831, 'r -> H¤mmmmmqt': 832, 'r -> EmmmmUt': 833, 'r -> HHHHHHHmmqt': 834, 'T -> EEqt': 835, 'r -> EEEEHHHHHHt': 836, 'r -> HHmmmmmmmqt': 837, 'T -> HUU': 838, 'r -> H¤mmmmqt': 839, 'T -> HHHH': 840, 'r -> EEEEHH': 841, 'T -> EHHHmmmt': 842, 'T -> mmmmmUqt': 843, 'r -> qqt': 844, 'r -> EEHUt': 845, 'T -> HHHHHHHHHHHHUt': 846, 'T -> HHm': 847, 'r -> EEHHmmt': 848, 'r -> H¤mqt': 849, 'r -> HH¤mmUt': 850, 'r -> HH¤mmmmmqt': 851, 'r -> HHH¤mUt': 852, 'T -> mmmq': 853, 'r -> HHHHHHHHHmqt': 854, 'r -> HHmmmmmUt': 855, 'r -> EH¤t': 856, 'r -> EHmm': 857, 'r -> HHH¤¤¤¤¤¤¤¤¤qt': 858, 'r -> ¤mmqt': 859, 'r -> HHHH¤mmmmqt': 860, 'T -> EHU': 861, 'r -> ¤¤¤¤¤¤¤¤Ut': 862, 'r -> EHHHmm': 863, 'ρ -> HUt': 864, 'T -> HHHmmUqt': 865, 'r -> EEmmUt': 866, 'T -> EHHHHHH': 867, 'T -> EHmmmUt': 868, 'ρ -> HHUt': 869, 'r -> EEHHUt': 870, 'ρ -> EEEEt': 871, 'r -> EHH¤¤¤mUt': 872, 'T -> mmU': 873, 'r -> HHHHHHHHHHHHHHqt': 874, 'p -> mmmmm': 875, 'T -> EHHm': 876, 'T -> HHHHHHHmqt': 877, 'r -> HHHHHHHHHHHHHqt': 878, 'r -> EHHHHHHHH': 879, 'p -> EE': 880, 'r -> EmUUt': 881, 'π -> EHHt': 882, 'r -> mmmmmmqqt': 883, 'r -> HHHHmmmmmmqt': 884, 'p -> Hmmmmmmt': 885, 'ρ -> HHHHqt': 886, 'r -> HHHHHHU': 887, 'ρ -> EHmUt': 888, 'r -> HHHHHmmt': 889, 'T -> EHHHHHHmt': 890, 'r -> EHHHHHHH': 891, 'r -> HHHHHHmmqt': 892, 'T -> HHHHHHHHHHHt': 893, 'ρ -> EHHHt': 894, 'T -> HHHHHHHHHU': 895, 'T -> HHHHHHHHU': 896, 'ρ -> HmUt': 897, 'p -> UU': 898, 'p -> EEmt': 899, 'T -> EUUt': 900, 'T -> EEHmmt': 901, 'r -> EEHHHHmt': 902, 'r -> EEEEHmmmt': 903, 'ρ -> mmt': 904, 'r -> H¤mUt': 905, 'r -> ¤¤¤¤¤¤¤¤¤¤¤¤¤¤Ut': 906, 'p -> ¤qt': 907, 'T -> Hmmmmmmmmmm': 908, 'r -> EHHHHHHHHHt': 909, 'T -> HHHHHHHHmUt': 910, 'T -> HHHHHHHUUt': 911, 'r -> Emmmm': 912, 'T -> Emm': 913, 'p -> HHHqt': 914, 'T -> HHmmmmmt': 915, 'r -> EEEHHHmt': 916, 'r -> EEEEHHH': 917, 'T -> HHmmUqt': 918, 'T -> EEHHHHt': 919, 'r -> EEEHHHHHHt': 920, 'T -> HHHHHHmmUt': 921, 'T -> EEEEHHmt': 922, 'r -> Emmmmmmmt': 923, 'T -> ¤mt': 924, 'T -> E¤Ut': 925, 'r -> ¤¤¤t': 926, 'ρ -> mmmmqt': 927, 'r -> HmmmmmmUt': 928, 'π -> mm': 929, 'r -> HHH¤mqt': 930, 'p -> mφ': 931, 'p -> HHmmqt': 932, 'r -> HHHHH¤qt': 933, 'T -> mmmmmmmUt': 934, 'r -> HHH¤¤¤Ut': 935, 'T -> Hmm': 936, 'r -> ¤¤¤¤¤¤¤¤¤¤¤¤¤¤¤¤qt': 937, 'r -> E¤¤mUt': 938, 'ρ -> mmUt': 939, 'r -> HHmUUt': 940, 'T -> mmmmmmqqt': 941, 'r -> Hmq': 942, 'r -> E¤mmUt': 943, 'r -> ¤¤¤¤¤¤¤¤Uqt': 944, 'r -> EEEEmmmt': 945, 'r -> HHHH¤Ut': 946, 'r -> EHHHHHHHHHHHHHt': 947, 'r -> HHHHHHHHmUt': 948, 'r -> EHHHHmmUt': 949, 'T -> EEH': 950, 'r -> ¤¤mmmUt': 951, 'r -> HHHH¤mUt': 952, 'r -> HHHHHHHHHHHUt': 953, 'r -> EEEHUt': 954, 'T -> EEEmmt': 955, 'T -> ¤mUt': 956, 'p -> EHmmt': 957, 'p -> qq': 958, 'p -> mmmmUt': 959, 'r -> H¤¤Ut': 960, 'r -> H¤¤¤¤¤¤Ut': 961, 'π -> mmmmmt': 962, 'T -> EHqt': 963, 'p -> mmUqt': 964, 'T -> mmφt': 965, 'T -> HHmmmmmmqt': 966, 'r -> EHHH¤t': 967, 'π -> φt': 968, 'r -> HHHmUUqt': 969, 'T -> H¤qt': 970, 'r -> EHHUUt': 971, 'T -> EHHmmmmt': 972, 'T -> mmmmmmUqt': 973, 'T -> EHHHHHHHHHt': 974, 'r -> EHmmmmmmt': 975, 'π -> HHHt': 976, 'ρ -> mmmmmmmmmmqt': 977, 'r -> H¤mmqt': 978, 'p -> mmmmmmmmmmt': 979, 'r -> EEHHHHHHt': 980, 'r -> EHHHHmmmt': 981, 'T -> ¤¤Ut': 982, 'r -> HHmmmmmmmt': 983, 'T -> EHHUUt': 984, 'r -> HHHHHmUqt': 985, 'r -> EHHHHHHHHHHHt': 986, 'r -> EHHHHHHHU': 987, 'r -> EHHmmmmmt': 988, 'T -> EHUUt': 989, 'T -> HHmmmmmqt': 990, 'r -> EEEHHUt': 991, 'T -> HHmmmmmmt': 992, 'T -> HHHHmmUqt': 993, 'r -> EmmmmmmUt': 994, 'π -> mmmm': 995, 'r -> mmU': 996, 'r -> ¤¤¤¤UUt': 997, 'r -> HH¤¤¤¤¤¤¤¤¤¤¤¤¤¤¤qt': 998, 'T -> HHHHmUqt': 999, 'r -> HmmmmUqt': 1000, 'r -> HHHmmmmmmqt': 1001, 'π -> HHHqt': 1002, 'T -> EHmm': 1003, 'r -> HHH¤qt': 1004, 'p -> qqt': 1005, 'p -> HHHHHt': 1006, 'r -> EEEHmmmt': 1007, 'r -> HHHHHmmmqt': 1008, 'r -> HHHHHHHHHmU': 1009, 'r -> E¤¤¤Ut': 1010, 'π -> mmmmmmmmmqt': 1011, 'T -> mmmmmmmqqt': 1012, 'r -> mmmmmmmqqt': 1013, 'r -> EEHmUt': 1014, 'r -> EHH¤¤¤Ut': 1015, 'p -> EHH': 1016, 'r -> ¤¤¤¤¤¤¤¤¤¤¤Ut': 1017, 'r -> HH¤mqt': 1018, 'p -> Emmmmmmm': 1019, 'r -> EHUUt': 1020, 'T -> HHHHmmmqt': 1021, 'r -> mm': 1022, 'r -> HH¤mt': 1023, 'r -> HHH¤¤¤¤¤¤¤¤¤¤¤qt': 1024, 'T -> Hmmmmmmmmmmt': 1025, 'T -> EHmmmmmt': 1026, 'T -> EHHHm': 1027, 'r -> EHHHHm': 1028, 'r -> EHH¤t': 1029, 'p -> Emmmmmmt': 1030, 'T -> H¤mt': 1031, 'p -> Hmmmmmmqt': 1032, 'r -> ¤¤¤¤¤¤Uqt': 1033, 'T -> ¤¤qt': 1034, 'p -> EEEt': 1035, 'ρ -> Hmmmmqt': 1036, 'T -> HHmmmmmmmt': 1037, 'r -> EEqt': 1038, 'T -> HHHHH': 1039, 'r -> HHHHUUt': 1040, 'T -> HHHHHHHmt': 1041, 'r -> EHHmmmUt': 1042, 'T -> HHHHHmmt': 1043, 'r -> HHHHmmmmt': 1044, 'r -> EEEm': 1045, 'π -> Hmmqt': 1046, 'π -> Hmt': 1047, 'p -> mUUt': 1048, 'ρ -> mUqt': 1049, 'r -> EEE¤t': 1050, 'r -> H¤mmt': 1051, 'ρ -> Emmt': 1052, 'π -> EE': 1053, 'T -> HmmmmmmUt': 1054, 'r -> mmq': 1055, 'r -> HmUUqt': 1056, 'r -> HHHHH¤Ut': 1057, 'T -> Hmmmmmm': 1058, 'π -> mmmmmmt': 1059, 'p -> mmmmmUt': 1060, 'T -> HHHHHmUqt': 1061, 'ρ -> HHHmqt': 1062, 'r -> Eφt': 1063, 'ρ -> HHHHHqt': 1064, 'π -> Hmqt': 1065, 'ρ -> mmmmmqt': 1066, 'p -> EHHmt': 1067, 'T -> EHHHHmUt': 1068, 'r -> EEEEmmmmt': 1069, 'r -> Hmmmmmmmmm': 1070, 'T -> Hmmmmmmmmm': 1071, 'p -> Hmmmmmqt': 1072, 'r -> EEEmmmt': 1073, 'π -> EEEt': 1074, 'r -> EHHmm': 1075, 'T -> EEHHmmt': 1076, 'p -> HHmmmmt': 1077, 'r -> EH¤Ut': 1078, 'T -> Emmmmmmt': 1079, 'ρ -> EHUt': 1080, 'r -> EEHmmmt': 1081, 'ρ -> EHHHHt': 1082, 'π -> mmm': 1083, 'r -> ¤¤Uqt': 1084, 'r -> ¤¤¤Uqt': 1085, 'r -> ¤¤¤UUt': 1086, 'r -> EEEEHHUt': 1087, 'r -> Uφt': 1088, 'r -> EHHHHHHmUt': 1089, 'r -> HHHHHHmUqt': 1090, 'r -> ¤¤¤¤¤¤¤¤¤¤¤¤¤¤¤¤¤¤t': 1091, 'r -> HHH¤¤¤¤¤Ut': 1092, 'r -> EHqt': 1093, 'T -> EEEHHmt': 1094, 'r -> ¤¤¤¤¤¤¤Uqt': 1095, 'ρ -> Hmt': 1096, 'p -> HHm': 1097, 'r -> EEEEHHmmt': 1098, 'r -> HHHHHHHU': 1099, 'r -> HHHmmmmUqt': 1100, 'p -> ¤¤t': 1101, 'r -> mmmmmUqt': 1102, 'r -> EHHHm': 1103, 'r -> EmmUUt': 1104, 'r -> ¤¤¤¤t': 1105, 'r -> Hmmmmmmmmmm': 1106, 'r -> EEHHHUt': 1107, 'r -> HmmUUt': 1108, 'T -> EEHHHHHt': 1109, 'π -> EEEE': 1110, 'T -> EmmmmUt': 1111, 'r -> EHHHHHmmmmt': 1112, 'r -> HHHφt': 1113, 'T -> HHHmmU': 1114, 'ρ -> EH': 1115, 'T -> EHHHHHmmt': 1116, 'r -> HHHHHHHHHHHmqt': 1117, 'r -> HHmUUqt': 1118, 'T -> HHUUqt': 1119, 'r -> HHmU': 1120, 'T -> EHHHU': 1121, 'r -> EHHHHHHHHHmU': 1122, 'p -> mφt': 1123, 'T -> Hmmmmmmm': 1124, 'r -> EEEH': 1125, 'p -> EHHHt': 1126, 'ρ -> EHHUt': 1127, 'r -> Hmm': 1128, 'r -> EHmmmmmmmt': 1129, 'T -> EEEEqt': 1130, 'T -> HmmmUqt': 1131, 'p -> mmmmmmmmmmmqt': 1132, 'r -> HHHmmmmmmU': 1133, 'p -> HHmmmmmqt': 1134, 'r -> HHHm': 1135, 'π -> EEHt': 1136, 'ρ -> UUt': 1137, 'r -> EHmmmmUt': 1138, 'T -> Hφ': 1139, 'r -> EEm': 1140, 'r -> HHHHH¤¤¤¤¤¤¤¤¤¤¤¤¤t': 1141, 'r -> ¤¤¤¤¤¤¤¤¤¤¤¤Uqt': 1142, 'r -> HH¤mUt': 1143, 'ρ -> HHt': 1144, 'π -> Emmt': 1145, 'T -> Hmφt': 1146, 'T -> EEEEHHHmt': 1147, 'r -> HHHmmmmUt': 1148, 'r -> HHHHHH¤t': 1149, 'T -> HHHmmmmt': 1150, 'T -> HHmmmmmmmmt': 1151, 'r -> Emmmmmmmmt': 1152, 'r -> HHφqt': 1153, 'T -> HHHmUUt': 1154, 'p -> EHm': 1155, 'T -> ¤mqt': 1156, 'r -> ¤¤¤¤¤¤¤¤¤t': 1157, 'r -> ¤mmmmmmmqt': 1158, 'r -> mUUqt': 1159, 'T -> EEEmmmt': 1160, 'r -> ¤¤mqt': 1161, 'π -> ¤qt': 1162, 'T -> EEEEHmmt': 1163, 'r -> HHHHHHHHHHt': 1164, 'T -> HHHmmUUt': 1165, 'T -> HHHHmmmUt': 1166, 'r -> ¤mmUt': 1167, 'p -> mmq': 1168, 'ρ -> φt': 1169, 'T -> HHHHHHHUqt': 1170, 'π -> HHUt': 1171, 'r -> Hmφt': 1172, 'ρ -> HUUt': 1173, 'p -> HHHmm': 1174, 'r -> EHHHHHHHmt': 1175, 'r -> HHHHHHHmU': 1176, 'r -> HHHHHHHHHHmqt': 1177, 'T -> Eφt': 1178, 'r -> ¤mUUqt': 1179, 'r -> H¤mmUUt': 1180, 'r -> EHHHHHHHHHHt': 1181, 'ρ -> EHHHUt': 1182, 'r -> EHHHUUt': 1183, 'T -> EEmmmt': 1184, 'r -> HHH¤¤¤¤¤¤¤¤¤¤¤¤¤t': 1185, 'r -> HH¤¤¤¤Ut': 1186, 'r -> HHmmmUqt': 1187, 'r -> EHmmm': 1188, 'T -> mmmmmmq': 1189, 'T -> HH¤t': 1190, 'ρ -> HHmmqt': 1191, 'T -> HHHHq': 1192, 'r -> HHHHHHHmUt': 1193, 'p -> EEEE': 1194, 'T -> EEEHmmt': 1195, 'π -> Em': 1196, 'T -> ¤¤¤qt': 1197, 'T -> HHHHHHUUqt': 1198, 'T -> HHHHHHHHHHU': 1199, 'r -> ¤q': 1200, 'T -> ¤q': 1201, 'r -> HHHHHUUt': 1202, 'r -> HmmmmmmmUt': 1203, 'r -> mmφt': 1204, 'T -> EEHH': 1205, 'T -> EEEEmUt': 1206, 'T -> Emmmmm': 1207, 'r -> HHHHHHHHHmmqt': 1208, 'T -> mmmmmmmmU': 1209, 'p -> HHH': 1210, 'T -> HHmmU': 1211, 'T -> EHHHHUUt': 1212, 'r -> EE¤¤t': 1213, 'r -> EEH¤¤¤¤¤¤¤¤¤¤mt': 1214, 'r -> H¤¤¤¤¤¤¤¤¤¤¤mt': 1215, 'r -> EE¤mt': 1216, 'r -> HHHHHmmUqt': 1217, 'p -> HHHHmt': 1218, 'r -> ¤¤¤¤¤¤¤t': 1219, 'r -> HHHHHHmmmmqt': 1220, 'ρ -> HHHt': 1221, 'T -> EEEEHUt': 1222, 'r -> HHmmmmmmt': 1223, 'T -> EEHHHmt': 1224, 'r -> ¤¤¤¤¤¤t': 1225, 'T -> mmmmU': 1226, 'p -> Hmmmmmmmmt': 1227, 'r -> EHHHHHHHHmt': 1228, 'T -> mmmmmq': 1229, 'T -> HHHHHHHHHHHqt': 1230, 'r -> UUUqt': 1231, 'r -> EEHH': 1232, 'ρ -> Hmmmmmqt': 1233, 'r -> EEHHHHHmt': 1234, 'r -> Uq': 1235, 'r -> HHH¤¤¤¤¤qt': 1236, 'r -> E¤¤Ut': 1237, 'T -> EEHUt': 1238, 'T -> EHHU': 1239, 'p -> Hmmmm': 1240, 'p -> mqq': 1241, 'T -> mmmmmmmmmmmqt': 1242, 'T -> mmmmq': 1243, 'T -> E¤¤t': 1244, 'ρ -> HHH': 1245, 'ρ -> EHHmt': 1246, 'p -> mmmmmU': 1247, 'r -> HHφt': 1248, 'T -> Emmm': 1249, 'ρ -> Hmmmqt': 1250, 'T -> HHHm': 1251, 'r -> mmmUUt': 1252, 'r -> ¤¤¤¤¤¤¤¤¤¤¤¤¤¤¤¤¤¤¤t': 1253, 'r -> HHHH¤¤mUqt': 1254, 'r -> EEHHHHHmmt': 1255, 'T -> HHHHHHHHUUt': 1256, 'r -> EEEEHmUt': 1257, 'T -> EHHmmU': 1258, 'T -> EHHHmmUt': 1259, 'T -> ¤U': 1260, 'T -> HHHHmmmmqt': 1261, 'r -> EEEmmmmt': 1262, 'T -> HHHUUqt': 1263, 'π -> HHHmmt': 1264, 'p -> HHHHHHt': 1265, 'π -> qqt': 1266, 'π -> EEE': 1267, 'r -> ¤¤¤¤¤¤¤¤mmqt': 1268, 'r -> EHHHH¤¤t': 1269, 'r -> HHH¤¤¤Uqt': 1270, 'r -> ¤¤¤¤¤¤¤¤¤¤¤mt': 1271, 'r -> HH¤mmmUt': 1272, 'T -> HHHHmU': 1273, 'r -> HH¤¤¤¤¤¤¤¤¤¤¤¤¤¤t': 1274, 'T -> HHmmUUt': 1275, 'r -> ¤¤¤¤¤¤¤¤¤¤¤¤¤¤¤¤¤qt': 1276, 'r -> H¤¤¤¤¤¤¤¤¤qt': 1277, 'r -> EEmmmmt': 1278, 'r -> EEEEqt': 1279, 'p -> mmmmmm': 1280, 'r -> mUUUt': 1281, 'ρ -> ¤t': 1282, 'π -> EHHmt': 1283, 'T -> mmmUUt': 1284, 'T -> HHHHHq': 1285, 'T -> EHHHHHHHH': 1286, 'T -> HUUqt': 1287, 'r -> EEEEHHmmmt': 1288, 'p -> EmUt': 1289, 'r -> HHHHmU': 1290, 'r -> UUUUt': 1291, 'r -> E¤': 1292, 'p -> ¤': 1293, 'T -> HHHHHHHHHHHHqt': 1294, 'T -> Uφt': 1295, 'r -> ¤¤¤mUt': 1296, 'r -> HH¤t': 1297, 'r -> HHH¤¤qt': 1298, 'r -> Hφ': 1299, 'r -> Emmmmmmm': 1300, 'p -> HHHmmmt': 1301, 'T -> EEEEmmmt': 1302, 'p -> HHmmUt': 1303, 'r -> EHH¤mt': 1304, 'p -> Hmmmmmmmt': 1305, 'r -> H¤mt': 1306, 'ρ -> EEEt': 1307, 'π -> mmmmmmm': 1308, 'T -> HHHHHHHHHHHHHHHUt': 1309, 'T -> HHHHHHHHHmt': 1310, 'T -> EHHHHHHHHHHt': 1311, 'T -> HHHHmmmt': 1312, 'r -> Emmmmmmmm': 1313, 'r -> HHHHH¤¤¤¤qt': 1314, 'π -> qq': 1315, 'π -> EH': 1316, 'T -> HHHHHHH': 1317, 'r -> ¤¤¤¤¤¤¤¤¤¤¤¤¤¤¤¤¤Ut': 1318, 'r -> ¤¤¤¤¤¤¤¤¤¤¤¤¤¤¤¤Ut': 1319, 'r -> HHH¤¤¤¤¤¤¤¤¤¤¤¤¤qt': 1320, 'ρ -> EEEEHHHHHt': 1321, 'T -> EHmmm': 1322, 'r -> HHHHH': 1323, 'r -> HHHH¤¤¤¤¤¤¤¤¤¤qt': 1324, 'r -> HHHH¤¤¤¤¤¤¤¤¤¤¤¤t': 1325, 'T -> HHHHHHHHHHHHHHUt': 1326, 'T -> HHHHHHHHHHHHHUt': 1327, 'T -> HUUUt': 1328, 'p -> EEE': 1329, 'p -> HHHmqt': 1330, 'r -> ¤¤¤¤¤¤¤Ut': 1331, 'T -> EEEEHHHHt': 1332, 'p -> Hmmm': 1333, 'r -> EEHHHHHHHt': 1334, 'ρ -> EHHHHHt': 1335, 'ρ -> HHHUqt': 1336, 'T -> mmmU': 1337, 'T -> ¤¤¤Ut': 1338, 'T -> H¤Ut': 1339, 'T -> EHHHmm': 1340, 'T -> EHHHHHHHmt': 1341, 'T -> UUUqt': 1342, 'r -> HHHHHHHHHHHHHmqt': 1343, 'r -> mmmmmmUqt': 1344, 'ρ -> EU': 1345, 'ρ -> HmUqt': 1346, 'r -> EHHmUUt': 1347, 'r -> EEEEHHHHHHHt': 1348, 'T -> EHHHHHHH': 1349, 'T -> Emmmm': 1350, 'r -> HHHHHHHHU': 1351, 'r -> HmmUUqt': 1352, 'T -> EEq': 1353, 'r -> HHHHHHHHHHHHUt': 1354, 'r -> EHHHHHHHHUt': 1355, 'π -> HHmt': 1356, 'p -> Hmmmmmm': 1357, 'T -> HHHHHHHHmqt': 1358, 'r -> Emmmmm': 1359, 'T -> HHHHHHHHHmUt': 1360, 'T -> Hmmmmmmmmmqt': 1361, 'r -> EEEE¤t': 1362, 'T -> HHHHHHHHmmUt': 1363, 'π -> mmU': 1364, 'r -> HHHHq': 1365, 'p -> mmφt': 1366, 'r -> EmmmmmU': 1367, 'p -> HHHmUt': 1368, 'r -> HHHHmmmt': 1369, 'π -> EHHHt': 1370, 'p -> HHmmmqt': 1371, 'r -> E¤¤¤¤¤¤¤¤¤¤¤¤¤¤t': 1372, 'ρ -> HHHHmqt': 1373, 'ρ -> HHHUt': 1374, 'T -> EEEEH': 1375, 'π -> HHUqt': 1376, 'p -> HmmmUt': 1377, 'T -> HHHmmmmUt': 1378, 'r -> HHH¤¤¤¤Ut': 1379, 'r -> HHHH¤¤¤qt': 1380, 'r -> HH¤¤¤¤¤¤¤¤¤t': 1381, 'r -> ¤¤¤¤¤¤¤¤¤¤¤¤¤¤¤¤¤¤¤¤¤t': 1382, 'r -> E¤¤¤¤¤¤¤¤¤t': 1383, 'r -> HHHHHmUUt': 1384, 'p -> Hmmmmmmmmmt': 1385, 'r -> EEHHHHHHmt': 1386, 'T -> EHHHHHHHUt': 1387, 'r -> HHHHUUqt': 1388, 'ρ -> HHUqt': 1389, 'T -> EEEmUt': 1390, 'r -> EHHmmmmmmt': 1391, 'T -> HmmU': 1392, 'T -> EEEH': 1393, 'r -> HHHHHH': 1394, 'r -> HHHH¤Uqt': 1395, 'π -> mmmUt': 1396, 'π -> mmUt': 1397, 'r -> ¤mmmqt': 1398, 'r -> Emmmmmm': 1399, 'r -> HHHHHHHHHHφ': 1400, 'r -> H¤¤¤¤¤Ut': 1401, 'π -> E¤t': 1402, 'T -> E¤': 1403, 'r -> EEHHmmmt': 1404, 'r -> EHH¤mUt': 1405, 'T -> HHmmmmmUt': 1406, 'r -> ¤φt': 1407, 'r -> HHHHHH¤Ut': 1408, 'r -> mmmmmmmmmUt': 1409, 'r -> EHHHHHHH¤t': 1410, 'r -> HHHH¤¤¤mUqt': 1411, 'π -> HHHHqt': 1412, 'p -> Hmmmmm': 1413, 'r -> HHHHHHHmmUt': 1414, 'r -> HHHmmmmmt': 1415, 'r -> HHHmq': 1416, 'r -> mmmq': 1417, 'ρ -> EmmUt': 1418, 'r -> qq': 1419, 'T -> HHHHmmmmt': 1420, 'T -> HHHHHHHHHHmt': 1421, 'T -> HHHHHHHHHHHHt': 1422, 'T -> Hmmmmmmmmmmmt': 1423, 'T -> HmmmmmmmUt': 1424, 'r -> EHHHmmmm': 1425, 'π -> EHUt': 1426, 'T -> EEHHUt': 1427, 'p -> EU': 1428, 'T -> EEEEHHmmt': 1429, 'π -> mmmmm': 1430, 'T -> HHHmU': 1431, 'π -> mmmmmmmt': 1432, 'r -> HH¤¤¤¤¤¤¤¤¤¤¤qt': 1433, 'r -> Hmmmmm': 1434, 'r -> mmm': 1435, 'T -> HHmφt': 1436, 'T -> HHHHHH': 1437, 'T -> EHHHmmmmt': 1438, 'r -> HHH¤¤¤mqt': 1439, 'r -> HHHHHH¤¤¤¤¤¤¤¤¤t': 1440, 'r -> HHH¤¤¤¤¤¤¤¤¤¤t': 1441, 'r -> HHHHH¤¤¤¤Ut': 1442, 'r -> EHHHmmm': 1443, 'r -> H¤¤¤¤¤qt': 1444, 'r -> EHmmmmm': 1445, 'p -> mmmmmmmmmm': 1446, 'ρ -> EEmt': 1447, 'T -> EEEqt': 1448, 'p -> EEm': 1449, 'p -> mmmmU': 1450, 'T -> HHHHHHmmqt': 1451, 'r -> HHHHHHHmUqt': 1452, 'r -> ¤¤¤¤¤t': 1453, 'r -> H¤¤¤¤¤¤¤¤¤¤¤t': 1454, 'T -> HHHHHmmmqt': 1455, 'T -> mmmφ': 1456, 'T -> ¤mmt': 1457, 'r -> ¤¤¤¤¤¤¤¤¤¤¤¤¤Uqt': 1458, 'r -> ¤¤¤¤¤¤Ut': 1459, 'r -> EEEEHHHmmt': 1460, 'T -> EH¤t': 1461, 'r -> HHHH¤¤¤¤¤¤¤¤¤¤¤¤¤¤¤¤¤t': 1462, 'r -> ¤U': 1463, 'p -> mmmmmmm': 1464, 'T -> EEHHHmmt': 1465, 'π -> Emmmm': 1466, 'ρ -> HUqt': 1467, 'r -> EHHHHHHHHH': 1468, 'p -> EHHHHt': 1469, 'r -> HHHHHH¤qt': 1470, 'ρ -> HHmmmqt': 1471, 'p -> mmmmmmmmm': 1472, 'r -> HHHHHHUUt': 1473, 'r -> EHmmmm': 1474, 'T -> ¤¤¤t': 1475, 'p -> HUUt': 1476, 'r -> HHHHHHmmmqt': 1477, 'r -> E¤¤¤t': 1478, 'r -> EHHHHHmmmt': 1479, 'T -> E¤¤¤t': 1480, 'T -> EEmUt': 1481, 'r -> HHHHH¤¤qt': 1482, 'r -> mmmmq': 1483, 'ρ -> Em': 1484, 'r -> EEq': 1485, 'p -> HHHm': 1486, 'r -> HHHmmm': 1487, 'r -> HHHHHHHHHHHHt': 1488, 'r -> EHmmmmmm': 1489, 'T -> HHHHHHHHHHHU': 1490, 'p -> HU': 1491, 'T -> EEEE¤t': 1492, 'r -> HHmmmmmmUt': 1493, 'T -> UUUUUt': 1494, 'T -> HHHHHHmmt': 1495, 'r -> HHHHHHHHHmUt': 1496, 'r -> mmmmmmmUt': 1497, 'r -> EHHH¤¤¤¤¤t': 1498, 'ρ -> EHHmmt': 1499, 'π -> UUt': 1500, 'π -> EEEHt': 1501, 'r -> mmmmU': 1502, 'r -> H¤¤¤¤¤¤¤¤¤¤¤¤¤qt': 1503, 'r -> ¤¤¤¤¤¤¤¤t': 1504, 'T -> Hmmmmmmmmmmm': 1505, 'ρ -> mmUqt': 1506, 'ρ -> EEEEmt': 1507, 'r -> HHHHHHmmmUt': 1508, 'ρ -> HHHHHHHqt': 1509, 'ρ -> HHHHHHqt': 1510, 'T -> EEHmUt': 1511, 'π -> HHmmt': 1512, 'T -> EEHHH': 1513, 'r -> HHHHHHHHHHHt': 1514, 'r -> HHHHHHH¤qt': 1515, 'r -> ¤mmmmmqt': 1516, 'T -> EHHHHmmmt': 1517, 'r -> HHHH¤¤qt': 1518, 'p -> ¤mmmt': 1519, 'T -> ¤mmUt': 1520, 'r -> H¤¤¤¤¤¤¤¤¤¤¤¤¤¤¤¤t': 1521, 'r -> H¤¤¤¤¤¤¤¤¤¤¤¤¤¤¤¤¤¤¤¤t': 1522, 'r -> ¤mmmmmmqt': 1523, 'T -> EE¤t': 1524, 'T -> HHHφt': 1525, 'r -> EmmmmmUt': 1526, 'T -> EHHHHmmUt': 1527, 'T -> EHHHHHHHHUt': 1528, 'T -> EHHHmmm': 1529, 'r -> H¤¤¤¤¤¤¤qt': 1530, 'r -> HH¤UUt': 1531, 'r -> ¤¤¤¤Uqt': 1532, 'T -> EHq': 1533, 'r -> HHHHHmmmUt': 1534, 'T -> EHHHHHHmmt': 1535, 'π -> Hmmt': 1536, 'T -> Emmmmmmm': 1537, 'p -> EEmmt': 1538, 'r -> HHHHHHHH¤qt': 1539, 'T -> HHHmmmmmt': 1540, 'π -> HHHHHt': 1541, 'r -> qUt': 1542, 'r -> HHH¤¤¤¤¤¤qt': 1543, 'T -> HHmmmmmmmmmt': 1544, 'π -> mmq': 1545, 'T -> EEEHUt': 1546, 'r -> EEHmmmmt': 1547, 'p -> mqqt': 1548, 'p -> mmmUqt': 1549, 'r -> Hmmmmmm': 1550, 'T -> EHHHHHmmmt': 1551, 'r -> EEEEHHmUt': 1552, 'T -> Hmmq': 1553, 'r -> HHH¤¤¤qt': 1554, 'r -> HHHmU': 1555, 'T -> EmUUt': 1556, 'T -> EEEEHH': 1557, 'r -> H¤¤mmqt': 1558, 'π -> mmmmmmmmmmqt': 1559, 'T -> ¤¤U': 1560, 'T -> EEEHHHHt': 1561, 'π -> mmmU': 1562, 'r -> HHmmmmUqt': 1563, 'r -> EHHHHHHHHU': 1564, 'r -> EEHHHHmmt': 1565, 'T -> EHHHHHHHHH': 1566, 'r -> Hmmmmmmmmmmm': 1567, 'r -> HHHH¤¤¤¤¤¤qt': 1568, 'T -> mmφ': 1569, 'r -> EHHHHHmmmm': 1570, 'π -> φ': 1571, 'T -> EHHHHm': 1572, 'T -> HHHHHφ': 1573, 'r -> EHHHHU': 1574, 'r -> HHHHmmmmUt': 1575, 'T -> Emmqt': 1576, 'r -> HHHHH¤¤¤¤¤¤¤¤¤¤¤¤t': 1577, 'ρ -> HHHHHUt': 1578, 'p -> Emmmmmmmm': 1579, 'p -> EHHmmmt': 1580, 'r -> ¤¤¤¤¤¤¤¤¤¤¤¤¤¤¤U': 1581, 'r -> HHHHHHHH': 1582, 'π -> HH': 1583, 'T -> EEEEm': 1584, 'r -> EHHqt': 1585, 'r -> UUU': 1586, 'r -> HHHmmmmmmmmt': 1587, 'T -> H¤Uqt': 1588, 'T -> Hmmmmm': 1589, 'T -> Hmmmmmmmm': 1590, 'r -> HHmmmmmmmm': 1591, 'r -> EEEEHHHHUt': 1592, 'r -> EEEEHHHHHmt': 1593, 'T -> EHmmmmmmt': 1594, 'ρ -> HHHHUt': 1595, 'r -> HHmmmmmmmmt': 1596, 'π -> EHHHHt': 1597, 'T -> EEHHHHHHt': 1598, 'T -> EEEHHHHHt': 1599, 'p -> EHmmmt': 1600, 'p -> mUUqt': 1601, 'T -> EEEEHHHHmt': 1602, 'r -> HmmmmmmmmUt': 1603, 'r -> ¤mmmUqt': 1604, 'r -> HH¤¤¤¤¤¤Uqt': 1605, 'T -> mmmmmmmq': 1606, 'r -> UUUUqt': 1607, 'p -> Emmmmmmmt': 1608, 'r -> HH¤¤Ut': 1609, 'r -> HHHHHH¤¤qt': 1610, 'r -> HH¤¤¤¤¤¤Ut': 1611, 'r -> HHHH': 1612, 'T -> EH¤Ut': 1613, 'r -> E¤¤¤¤t': 1614, 'r -> HH¤¤¤¤¤¤¤¤qt': 1615, 'π -> mmmmmm': 1616, 'p -> mmmq': 1617, 'r -> HHHH¤mt': 1618, 'r -> H¤¤Uqt': 1619, 'r -> EE¤t': 1620, 'r -> HHHHHHmmt': 1621, 'r -> HmmmmUUt': 1622, 'T -> mUUUt': 1623, 'p -> ¤mmqt': 1624, 'r -> E¤mt': 1625, 'r -> EHHHHHHHHHHH': 1626, 'T -> EEm': 1627, 'ρ -> EEHt': 1628, 'p -> EEEEmt': 1629, 'π -> Hmmmmqt': 1630, 'r -> ¤¤mmUt': 1631, 'r -> H¤¤¤¤¤¤¤¤¤¤¤¤¤¤¤¤qt': 1632, 'p -> mmmmmmmm': 1633, 'r -> EEEHHmmmt': 1634, 'T -> mmmmmmmmq': 1635, 'T -> EHHHHmm': 1636, 'T -> HHHHHHHHHHmUt': 1637, 'T -> ¤mmqt': 1638, 'p -> HHUqt': 1639, 'T -> HHUUUqt': 1640, 'p -> HHHmmqt': 1641, 'r -> HHHHHHmmUqt': 1642, 'r -> mmmU': 1643, 'T -> HHHHHHHHHH': 1644, 'T -> HHHHHHHHHUUt': 1645, 'p -> ¤mqt': 1646, 'T -> EHHmm': 1647, 'T -> HHHHHmU': 1648, 'T -> HHHHHHHHHHHHHHHHUt': 1649, 'T -> EEEHHmmt': 1650, 'p -> mmmφ': 1651, 'r -> EHHHHHmmUt': 1652, 'r -> HHHHHHHHHHU': 1653, 'T -> EEEHmmmt': 1654, 'π -> EU': 1655, 'T -> EHHqt': 1656, 'ρ -> HHHmmmqt': 1657, 'p -> EEHt': 1658, 'T -> HHHHHHHmmqt': 1659, 'r -> HHHHHHHHmmU': 1660, 'T -> EEmmmmt': 1661, 'p -> φφt': 1662, 'ρ -> Hmmmmmmqt': 1663, 'r -> EHHmmm': 1664, 'T -> HHHHmUUt': 1665, 'ρ -> EHmmt': 1666, 'ρ -> mmmUt': 1667, 'T -> EEHHHHHHHt': 1668, 'T -> EHmqt': 1669, 'T -> Hmmm': 1670, 'r -> mmmmmmm': 1671, 'r -> EEHHHmmt': 1672, 'r -> EEmmmmmt': 1673, 'T -> Emmmmmm': 1674, 'r -> HHHmUU': 1675, 'p -> HHmmmmqt': 1676, 'π -> E¤Ut': 1677, 'T -> Eφ': 1678, 'r -> EHHHmmmUt': 1679, 'r -> HHH¤¤¤¤qt': 1680, 'p -> mmqq': 1681, 'r -> HHHHHHHmmmmt': 1682, 'r -> Hmmmmmmmmmmmqt': 1683, 'T -> HHHφ': 1684, 'r -> EUUUt': 1685, 'r -> HHHHHφqt': 1686, 'p -> mmUUt': 1687, 'T -> HHHHHmmUqt': 1688, 'r -> HHHHH¤¤¤¤¤¤¤¤¤¤qt': 1689, 'r -> HH¤¤¤¤¤¤¤¤¤¤¤t': 1690, 'p -> HHHHmqt': 1691, 'p -> mmφ': 1692, 'T -> EHHHHHUUt': 1693, 'p -> EHHmmt': 1694, 'r -> H¤¤¤¤¤¤¤¤¤¤¤¤¤¤qt': 1695, 'r -> ¤¤¤¤¤Uqt': 1696, 'r -> HHHHH¤¤¤¤¤¤¤¤¤¤¤¤¤¤t': 1697, 'r -> HHHHHH¤¤¤qt': 1698, 'r -> HH¤¤¤¤¤¤¤¤¤¤t': 1699, 'T -> HHHHmmmmUt': 1700, 'p -> mmmφt': 1701, 'T -> qqt': 1702, 'r -> EH¤¤¤¤¤¤¤¤¤¤¤¤t': 1703, 'r -> ¤¤¤¤¤UUt': 1704, 'T -> HHUUUt': 1705, 'r -> HHmmmmmmmmm': 1706, 'T -> HHmmmmmmmmm': 1707, 'r -> EEEHHHHmt': 1708, 'p -> H¤t': 1709, 'T -> HHHHHmUUt': 1710, 'r -> HHHHHHHHHHHHU': 1711, 'T -> mmmmmmmφ': 1712, 'r -> EHHHHUUt': 1713, 'T -> HHHHHmmmUt': 1714, 'T -> mUUqt': 1715, 'T -> HHHHHHHHmt': 1716, 'r -> EHHH¤¤¤¤Ut': 1717, 'ρ -> HHHHHmqt': 1718, 'r -> ¤¤¤¤¤¤¤¤¤¤¤¤¤¤¤¤¤¤¤qt': 1719, 'r -> HH¤¤¤¤¤¤¤t': 1720, 'T -> mmmφt': 1721, 'p -> ¤mmt': 1722, 'T -> ¤mmmt': 1723, 'T -> E¤mt': 1724, 'r -> H¤¤¤¤Ut': 1725, 'r -> HH¤¤¤¤¤¤¤qt': 1726, 'r -> H¤mmmmmmmqt': 1727, 'ρ -> EHHmmmt': 1728, 'ρ -> HHmmmmqt': 1729, 'r -> ¤mmmmqt': 1730, 'p -> Hmmmmmmmqt': 1731, 'r -> H¤¤¤¤¤¤¤¤¤¤¤¤¤¤¤¤¤qt': 1732, 'r -> EEHmmmmmt': 1733, 'r -> mmmmmmmmUt': 1734, 'r -> mmmmmmmmmmt': 1735, 'T -> HHHHHHHHH': 1736, 'r -> Hmmm': 1737, 'r -> HHH¤¤Ut': 1738, 'r -> H¤mUUt': 1739, 'r -> HH¤¤¤¤¤¤¤¤¤¤¤¤t': 1740, 'r -> EEEHmUt': 1741, 'r -> Hmmq': 1742, 'p -> EHUt': 1743, 'r -> HHHHHHq': 1744, 'r -> mmmmmmmmm': 1745, 'T -> EEEEmmmmmt': 1746, 'r -> EHHHHHHHmmt': 1747, 'ρ -> ¤qt': 1748, 'T -> HH¤qt': 1749, 'r -> H¤¤mqt': 1750, 'r -> E¤¤¤¤¤t': 1751, 'r -> HH¤¤¤¤¤¤¤¤¤¤qt': 1752, 'r -> EEHHHHHmUt': 1753, 'r -> HHHHHHHHHH': 1754, 'ρ -> EHHHmt': 1755, 'r -> HHHHHHHHHHmUt': 1756, 'ρ -> HHmUt': 1757, 'T -> HHHmmmmmmt': 1758, 'r -> EEHHH': 1759, 'T -> ¤Uqt': 1760, 'π -> mmmmmmmmt': 1761, 'ρ -> mmmUqt': 1762, 'π -> EHmt': 1763, 'T -> HHHHHHHHHHHHU': 1764, 'r -> EEEHHHHmmt': 1765, 'T -> HHHmmmmmqt': 1766, 'r -> HHHHHHH': 1767, 'r -> EEEHmmmmt': 1768, 'r -> EEEEHmmmmt': 1769, 'r -> EEEEmmmmmt': 1770, 'r -> EEEEmmUt': 1771, 'T -> EEEEHHHHHt': 1772, 'ρ -> EHH': 1773, 'T -> mmmmmmmmmmt': 1774, 'r -> EEEU': 1775, 'T -> HHmmmmmmmqt': 1776, 'p -> EHHHmm': 1777, 'r -> EEEEHHmmmmt': 1778, 'r -> HH¤¤¤¤¤¤¤¤¤¤¤¤¤t': 1779, 'T -> EHHHHHHHHmt': 1780, 'T -> HHHHmmmmmmqt': 1781, 'r -> EUqt': 1782, 'p -> qφt': 1783, 'T -> HHHHHHHHHmmUt': 1784, 'r -> H¤¤¤¤UUt': 1785, 'T -> EEEHHHHHHHt': 1786, 'r -> EEHHHHUt': 1787, 'ρ -> EEHHt': 1788, 'ρ -> HHHHHHHHqt': 1789, 'r -> EEU': 1790, 'π -> mU': 1791, 'T -> EHmmmmUt': 1792, 'p -> mmmmmmmmmmmmmmqt': 1793, 'r -> E¤¤¤¤¤¤¤¤¤¤¤¤t': 1794, 'r -> HHHmmmmmmt': 1795, 'T -> HHHHHHHUUqt': 1796, 'r -> HHHH¤mmUt': 1797, 'r -> EHHHmmmmm': 1798, 'T -> HHHHHHHHmmqt': 1799, 'r -> Emmmmmmmmm': 1800, 'T -> E¤¤Ut': 1801, 'T -> EEE¤t': 1802, 'T -> EHHHHU': 1803, 'T -> mmmmqqt': 1804, 'T -> EHHHHHmUt': 1805, 'r -> HHHHHHUUqt': 1806, 'π -> mmmmmmmmm': 1807, 'r -> HHHmφt': 1808, 'r -> HHHHHHHHHU': 1809, 'T -> HHHHUU': 1810, 'p -> mmmmmmU': 1811, 'π -> HHHmmmqt': 1812, 'r -> EHHHHHHmm': 1813, 'T -> HUUUqt': 1814, 'r -> HHHφ': 1815, 'ρ -> mU': 1816, 'T -> HHHmφt': 1817, 'r -> EEEHHHmmt': 1818, 'r -> ¤¤¤¤¤¤¤¤¤¤¤¤¤¤¤¤¤¤qt': 1819, 'r -> H¤¤¤Ut': 1820, 'r -> H¤¤¤mmqt': 1821, 'r -> E¤¤mt': 1822, 'r -> H¤¤¤¤¤¤¤¤¤¤¤¤¤¤t': 1823, 'r -> HHH¤¤¤¤¤¤¤¤¤¤¤¤qt': 1824, 'T -> EEHHHUt': 1825, 'r -> EHHH¤¤t': 1826, 'ρ -> Emmmmt': 1827, 'p -> EHHH': 1828, 'ρ -> HH¤t': 1829, 'T -> EEEEHmmmmt': 1830, 'r -> EEEHHHHHmt': 1831, 'r -> EEHHHHHHHmt': 1832, 'ρ -> Hmmmmmmmmqt': 1833, 'r -> mmmmmmφqt': 1834, 'T -> EEmmmmmt': 1835, 'T -> HHHUU': 1836, 'r -> EHHHHHHHHmmt': 1837, 'T -> HmUUUt': 1838, 'ρ -> EEEHt': 1839, 'T -> mmm': 1840, 'r -> EEEEHHHHHUt': 1841, 'r -> HHHH¤¤¤¤¤¤¤¤¤¤¤qt': 1842, 'ρ -> HHHmmqt': 1843, 'p -> EHHUt': 1844, 'r -> H¤¤¤¤¤¤¤¤¤¤¤qt': 1845, 'r -> ¤mmUqt': 1846, 'r -> EHHHHmmmmt': 1847, 'r -> Hmmmmmmmmmmmm': 1848, 'r -> EEEEm': 1849, 'T -> EEHHHHHmmt': 1850, 'p -> mmqqt': 1851, 'r -> HHHHHHHHH¤qt': 1852, 'T -> EHHH¤Ut': 1853, 'T -> Emq': 1854, 'r -> HHHmmmmmmmqt': 1855, 'p -> E¤t': 1856, 'T -> HHφ': 1857, 'ρ -> H': 1858, 'π -> φφ': 1859, 'r -> HmU': 1860, 'π -> Emmmt': 1861, 'r -> ¤¤¤mqt': 1862, 'r -> mmmmmm': 1863, 'T -> HHHHHHmmmUt': 1864, 'r -> ¤¤mUt': 1865, 'ρ -> Emmmmmt': 1866, 'r -> H¤¤¤¤¤¤¤¤¤¤¤¤¤¤¤¤¤t': 1867, 'r -> H¤¤¤¤¤¤¤¤¤¤¤¤¤¤Ut': 1868, 'T -> HHHHHHHH': 1869, 'ρ -> mmmt': 1870, 'ρ -> EHHmUt': 1871, 'p -> ¤¤qt': 1872, 'r -> EHHHHHHHHHH': 1873, 'r -> HHHHmUUt': 1874, 'r -> mmmm': 1875, 'r -> H¤¤¤mUt': 1876, 'r -> ¤mmmt': 1877, 'r -> Hmmmm': 1878, 'r -> EH¤¤¤Ut': 1879, 'r -> HHmφt': 1880, 'π -> HUqt': 1881, 'π -> HmUt': 1882, 'π -> Hmmmt': 1883, 'p -> EHmm': 1884, 'T -> mmmmmqqt': 1885, 'r -> HHHH¤¤¤¤¤¤Ut': 1886, 'T -> HH¤mt': 1887, 'r -> HHH¤¤¤¤¤t': 1888, 'r -> HHHH¤¤¤¤Ut': 1889, 'r -> H¤¤mUt': 1890, 'r -> H¤mUqt': 1891, 'r -> E¤¤¤¤¤¤¤¤¤¤t': 1892, 'π -> HHmqt': 1893, 'π -> HHmmqt': 1894, 'π -> HHmmmmmqt': 1895, 'r -> HH¤¤¤¤¤¤¤¤¤¤¤¤¤¤¤t': 1896, 'r -> HHHH¤¤mUt': 1897, 'r -> HHHmmmmmUt': 1898, 'ρ -> EHHHHHHt': 1899, 'r -> HHHHHHHHHUUt': 1900, 'T -> HHH¤t': 1901, 'r -> HHHH¤mqt': 1902, 'T -> EEHHHHHH': 1903, 'T -> HHHHmmmmmt': 1904, 'p -> EHmUt': 1905, 'T -> HHHHmmmmmqt': 1906, 'T -> HHHHHHmmmqt': 1907, 'π -> Hφt': 1908, 'T -> HHHHHHHHHHHHHHHHHUt': 1909, 'r -> EEEEUUt': 1910, 'T -> HHHHHmmmmqt': 1911, 'p -> mmmmφt': 1912, 'p -> EHmmmmt': 1913, 'T -> mmmmmmmUqt': 1914, 'T -> HHHHHHq': 1915, 'T -> EmU': 1916, 'T -> EHmmmmm': 1917, 'π -> mUqt': 1918, 'p -> HHHH': 1919, 'π -> EEEEHH': 1920, 'ρ -> HHmmmmmqt': 1921, 'ρ -> EHHH': 1922, 'p -> EmmUt': 1923, 'p -> Hq': 1924, 'ρ -> mmmmmmmmmmmqt': 1925, 'r -> HHmmmmmmU': 1926, 'r -> ¤Uφt': 1927, 'ρ -> EEEEHHt': 1928, 'r -> HHHHHmmmmmqt': 1929, 'p -> HmmmmUt': 1930, 'r -> HHHHHq': 1931, 'p -> EEEmmmmt': 1932, 'r -> EEEHHHHHHHt': 1933, 'π -> Hmmmqt': 1934, 'p -> HHHmmmqt': 1935, 'p -> HHHHHqt': 1936, 'T -> HHmmmmmmmm': 1937, 'r -> HHm': 1938, 'T -> HHHHHHmUqt': 1939, 'r -> EEHHmmUt': 1940, 'ρ -> EE': 1941, 'r -> HHHH¤¤¤¤qt': 1942, 'T -> EEmmUt': 1943, 'T -> HHφt': 1944, 'r -> mmmmm': 1945, 'r -> HHmmU': 1946, 'T -> EEEEHHH': 1947, 'T -> EHHmmmmmt': 1948, 'T -> mmmmmmmmmmmt': 1949, 'T -> EEEEHmmmt': 1950, 'p -> EEEEmmt': 1951, 'ρ -> HHHmmt': 1952, 'p -> HHmm': 1953, 'r -> mmUUUUt': 1954, 'r -> HHHHHHHHHHH': 1955, 'T -> EEEHHHmmt': 1956, 'r -> E¤¤¤¤¤¤¤¤¤¤¤¤¤t': 1957, 'r -> EHHHmmmmmt': 1958, 'p -> HHHHqt': 1959, 'r -> mqqt': 1960, 'T -> EHHHHHm': 1961, 'T -> HHHmmmmmmmm': 1962, 'T -> HHHUUUt': 1963, 'T -> HHmmq': 1964, 'r -> EEEHHφt': 1965, 'T -> EE¤Ut': 1966, 'r -> EEHHHHHH': 1967, 'r -> ¤¤¤¤¤¤¤¤¤¤¤¤¤¤¤¤¤¤¤¤qt': 1968, 'π -> HHHHt': 1969, 'T -> EEEEHHHHmmmt': 1970, 'r -> EEUUt': 1971, 'r -> HHHHHHHH¤¤¤¤qt': 1972, 'r -> HHHHHHH¤¤¤¤qt': 1973, 'r -> HHHHHH¤¤¤¤¤¤qt': 1974, 'r -> HHHHH¤¤¤¤¤qt': 1975, 'r -> HHHHHH¤¤¤¤qt': 1976, 'r -> HHHHHHH¤¤qt': 1977, 'r -> HHHH¤¤¤¤¤qt': 1978, 'T -> mUU': 1979, 'T -> Emmmmmmmt': 1980, 'r -> HHmmmmmmm': 1981, 'r -> EEmmmmmmt': 1982, 'ρ -> HHmt': 1983, 'T -> ¤¤¤¤¤Ut': 1984, 'π -> EEH': 1985, 'T -> EEU': 1986, 'p -> EEEEHmt': 1987, 'r -> mmφ': 1988, 'T -> EHHHHHHm': 1989, 'r -> EHHHHmmm': 1990, 'r -> EEEmmmmmt': 1991, 'r -> EEEEHHHHmUt': 1992, 'p -> mmmmmmmmmφ': 1993, 'T -> EHmmmm': 1994, 'T -> EEEHHH': 1995, 'T -> EHHmmmUt': 1996, 'T -> EHHHmqt': 1997, 'p -> HHHHHHqt': 1998, 'r -> E¤¤¤¤¤¤¤¤¤¤¤¤¤¤¤t': 1999, 'r -> EHHHH¤¤¤¤t': 2000, 'r -> HHH¤¤¤¤¤¤¤¤¤¤¤¤¤¤t': 2001, 'r -> HHH¤t': 2002, 'ρ -> EEH': 2003, 'r -> mmUUqt': 2004, 'T -> mmmmmmU': 2005, 'r -> mmmmmmU': 2006, 'T -> HHHHHHHHHHHHHt': 2007, 'r -> EEφt': 2008, 'r -> mmmmUUt': 2009, 'T -> HmmmUUt': 2010, 'T -> mmmmmmmmmmmmmqt': 2011, 'T -> EHHHmmmmmt': 2012, 'r -> mmmφt': 2013, 'r -> EEEmmmUt': 2014, 'r -> HHH¤¤¤¤¤¤¤¤¤¤¤¤¤¤¤t': 2015, 'r -> EEEEHHHHHmmmm': 2016, 'r -> EEEHHH': 2017, 'r -> H¤¤UUUt': 2018, 'r -> HH¤¤¤¤¤qt': 2019, 'T -> HHH¤Uqt': 2020, 'r -> HHmmmmmm': 2021, 'r -> EEEHHHHHHmt': 2022, 'T -> HHmmmmm': 2023, 'π -> HHHHHH': 2024, 'T -> HHHHφt': 2025, 'p -> EEEEmmmt': 2026, 'π -> HHHHHHqt': 2027, 'r -> EEHHHH': 2028, 'r -> EEEEHHHHHHmt': 2029, 'ρ -> HHHHHHHHHHqt': 2030, 'ρ -> UUqt': 2031, 'T -> HHHHHUU': 2032, 'r -> HmmU': 2033, 'p -> UUUt': 2034, 'T -> qUt': 2035, 'r -> ¤mmmmmUqt': 2036, 'r -> ¤mmmmUqt': 2037, 'ρ -> HHHHHUqt': 2038, 'T -> HHmmm': 2039, 'p -> HmmmmmmUt': 2040, 'r -> H¤¤¤¤¤¤¤¤¤¤¤¤Ut': 2041, 'r -> HHH¤¤¤¤¤¤¤¤¤t': 2042, 'p -> Hmmmmmmmm': 2043, 'r -> mUφt': 2044, 'r -> HHHHHUU': 2045, 'r -> HHHHHH¤Uqt': 2046, 'r -> HHHHHH¤¤¤¤¤qt': 2047, 'T -> Hmmmmmmmmmmmm': 2048, 'T -> ¤φt': 2049, 'T -> ¤¤mqt': 2050, 'T -> H¤mqt': 2051, 'T -> H¤¤Ut': 2052, 'T -> ¤¤¤¤qt': 2053, 'T -> ¤¤mUt': 2054, 'r -> ¤¤¤¤¤¤¤¤¤mUt': 2055, 'r -> HH¤¤¤¤¤¤¤¤¤¤¤¤¤qt': 2056, 'r -> ¤¤¤¤¤¤¤¤UUt': 2057, 'T -> EHH¤t': 2058, 'p -> ¤¤¤¤t': 2059, 'r -> EEEEHmmUt': 2060, 'r -> HHHHHHHH¤¤¤¤¤¤¤¤t': 2061, 'r -> HHHHHHHH¤q': 2062, 'T -> HHUU': 2063, 'T -> HHHHHmmmmt': 2064, 'r -> EHUUUt': 2065, 'r -> H¤¤¤¤qt': 2066, 'ρ -> H¤t': 2067, 'r -> E¤mmt': 2068, 'r -> EHH¤Ut': 2069, 'r -> EHH¤¤Ut': 2070, 'π -> ¤¤t': 2071, 'r -> EEEHmmUt': 2072, 'r -> HH¤¤¤qt': 2073, 'r -> HH¤¤¤¤Uqt': 2074, 'r -> HHHHH¤mt': 2075, 'r -> H¤¤¤¤¤¤¤¤¤¤¤¤¤Ut': 2076, 'r -> E¤¤¤¤¤¤¤¤¤¤¤¤¤¤¤¤¤¤t': 2077, 'π -> Emmm': 2078, 'p -> EEmmmt': 2079, 'T -> H¤¤t': 2080, 'π -> H¤qt': 2081, 'r -> HHHHHHHHmmqt': 2082, 'r -> EEEmmUt': 2083, 'r -> EEEq': 2084, 'r -> ¤mmt': 2085, 'r -> ¤¤mmqt': 2086, 'r -> mmmmmmmmmmmmmmqt': 2087, 'r -> H¤¤¤¤¤¤¤¤¤¤¤¤¤¤¤qt': 2088, 'ρ -> EHmmmmmt': 2089, 'T -> Hmmφt': 2090, 'T -> HHHHHHHHHHHH': 2091, 'r -> HHHHHHHUUt': 2092, 'T -> EEHmmmmmt': 2093, 'ρ -> EHmmUt': 2094, 'T -> HHmmmmmmmmmmt': 2095, 'r -> EHHHmUUt': 2096, 'T -> mmmmmφt': 2097, 'r -> HHHHHHmU': 2098, 'T -> mmmmmmm': 2099, 'r -> EEHmmUt': 2100, 'r -> EHHmmmmm': 2101, 'r -> HHHHHHmmmmmqt': 2102, 'T -> HHmmmm': 2103, 'r -> EEEHHHHHHHUt': 2104, 'r -> HHHHHH¤¤Ut': 2105, 'T -> H¤¤qt': 2106, 'r -> H¤¤¤¤¤¤¤¤¤¤¤Ut': 2107, 'T -> HHHHmmU': 2108, 'r -> H¤¤¤t': 2109, 'r -> HHHH¤mUqt': 2110, 'r -> HHH¤¤¤¤mUqt': 2111, 'r -> H¤¤¤mUqt': 2112, 'T -> EEEEHHmmmt': 2113, 'r -> HHH¤mt': 2114, 'T -> Emmmmmmmm': 2115, 'r -> EEEEHHHH': 2116, 'π -> EHmUt': 2117, 'ρ -> mmmmmmmqqt': 2118, 'ρ -> HHHHHmUt': 2119, 'r -> E¤¤¤¤¤¤t': 2120, 'r -> HHH¤¤mmqt': 2121, 'r -> mmUUUt': 2122, 'r -> HHH¤¤mqt': 2123, 'r -> HHH¤¤¤¤¤¤¤qt': 2124, 'π -> Emm': 2125, 'r -> EHHHHHU': 2126, 'T -> EHHmmmU': 2127, 'ρ -> m': 2128, 'r -> EEHHHHmUt': 2129, 'T -> EHHHHHHHmUt': 2130, 'T -> EEEHHHHmt': 2131, 'p -> EHmmmmmt': 2132, 'π -> EHmmmmt': 2133, 'T -> HHHHHHHHHHHHHU': 2134, 'r -> EHHHHHHHHHmt': 2135, 'ρ -> mφt': 2136, 'r -> mmmmmmmm': 2137, 'T -> HmmmU': 2138, 'ρ -> EEEEHt': 2139, 'r -> Eφ': 2140, 'r -> Hmmmmφt': 2141, 'T -> mmmmφ': 2142, 'p -> HHHHmUt': 2143, 'p -> EEEm': 2144, 'ρ -> EEEE': 2145, 'r -> H¤¤¤¤¤¤¤¤¤¤¤¤¤¤¤¤¤¤qt': 2146, 'T -> ¤¤¤¤t': 2147, 'r -> EH¤mt': 2148, 'π -> EHH': 2149, 'ρ -> HmmUqt': 2150, 'ρ -> HHHHHHHHmqt': 2151, 'T -> HHHHφ': 2152, 'T -> HH¤Ut': 2153, 'p -> HHHHHHHHHHHHHt': 2154, 'r -> HH¤mUUt': 2155, 'r -> HHHHH¤Uqt': 2156, 'r -> HHH¤¤¤¤¤¤¤¤¤¤¤t': 2157, 'r -> Hmmmmmmm': 2158, 'r -> E¤¤¤¤¤¤¤¤¤¤¤¤¤¤¤¤t': 2159, 'T -> EEHHHHmmt': 2160, 'p -> EHHm': 2161, 'π -> HHHUt': 2162, 'T -> HUq': 2163, 'r -> HHmmφt': 2164, 'T -> EmmmUUt': 2165, 'r -> EEEEHHHHmmt': 2166, 'r -> EHmmmmmmm': 2167, 'p -> EmU': 2168, 'r -> EEEEmmmqt': 2169, 'r -> HHmmmmmmmmqt': 2170, 'r -> HH¤¤¤¤¤¤¤¤¤¤¤¤¤¤qt': 2171, 'r -> HHHH¤¤¤mqt': 2172, 'r -> mmmUUqt': 2173, 'T -> mmmmmU': 2174, 'T -> HHHHHHHHHHHmt': 2175, 'r -> mmmmmmmmmm': 2176, 'r -> EEEHHHUt': 2177, 'ρ -> HHmUqt': 2178, 'p -> mqφ': 2179, 'ρ -> HHHHHt': 2180, 'T -> EHHHHHHHHHHHt': 2181, 'r -> HHHmmmUqt': 2182, 'r -> HHHHHHHHHHHHHHHqt': 2183, 'r -> EEEHHHmmmt': 2184, 'r -> EEEHHmUt': 2185, 'p -> HUqt': 2186, 'T -> HHmmmUqt': 2187, 'T -> EEEEmmmmt': 2188, 'T -> EEEHHHHH': 2189, 'π -> HmmUt': 2190, 'T -> HHHHUUUt': 2191, 'r -> HHHHH¤¤Ut': 2192, 'T -> mqUt': 2193, 'p -> HHHHHHHHHHUt': 2194, 'r -> ¤¤¤¤¤¤¤¤¤¤¤¤mt': 2195, 'r -> HHH¤¤¤mt': 2196, 'r -> ¤¤¤¤¤¤¤¤¤¤¤¤¤¤mqt': 2197, 'p -> mmmmUqt': 2198, 'p -> mmφφ': 2199, 'ρ -> HHHHmmqt': 2200, 'ρ -> HHUUt': 2201, 'r -> EHmqt': 2202, 'r -> mmmmmq': 2203, 'p -> HHHHm': 2204, 'r -> EUU': 2205, 'T -> HmmmmUqt': 2206, 'r -> HmmmmmmmU': 2207, 'r -> EHHHHHmm': 2208, 'T -> ¤': 2209, 'p -> EEEmmt': 2210, 'T -> HHHHHHHHHHHHHHm': 2211, 'r -> HHHHmmmmmmt': 2212, 'r -> HHHHmmmmmmmm': 2213, 'ρ -> Hmmt': 2214, 'r -> EEEEHHHHH': 2215, 'r -> H¤mmmqt': 2216, 'r -> HH¤¤¤¤¤¤qt': 2217, 'r -> HHHmmmm': 2218, 'r -> HHHHHHHHmt': 2219, 'T -> EmmmmmU': 2220, 'T -> mmmmmφ': 2221, 'p -> HHmmmmmt': 2222, 'T -> ¤¤¤¤¤t': 2223, 'r -> E¤¤¤¤¤¤¤¤Ut': 2224, 'T -> ¤¤q': 2225, 'r -> EEHHHm': 2226, 'π -> EEEEHHt': 2227, 'r -> mmmmmmmφ': 2228, 'T -> HHmmmmmmmU': 2229, 'T -> HHHHmmmmmmm': 2230, 'r -> EHHHmU': 2231, 'T -> HHHHH¤t': 2232, 'T -> HHHH¤t': 2233, 'r -> HHHHHmmmt': 2234, 'r -> mmmmmmmmU': 2235, 'p -> mmmmmmmmU': 2236, 'T -> EHHHUUt': 2237, 'r -> HHHHHUUqt': 2238, 'r -> E¤¤¤mt': 2239, 'r -> HHHmmU': 2240, 'r -> mqq': 2241, 'T -> EHHHHHHHHmmt': 2242, 'T -> EEEEq': 2243, 'r -> EEEEHHHmUUt': 2244, 'π -> mmφ': 2245, 'p -> HHHHHHHHmqt': 2246, 'p -> mUU': 2247, 'r -> E¤¤¤¤Ut': 2248, 'r -> HHHH¤¤¤¤¤Ut': 2249, 'p -> mmmqq': 2250, 'π -> mmφt': 2251, 'r -> EHHHHHUUt': 2252, 'π -> mφt': 2253, 'ρ -> EHHHHHHHt': 2254, 'r -> EHHH¤Ut': 2255, 'r -> EEEEHmmmmmmt': 2256, 'r -> EmmmmU': 2257, 'r -> mmmmmqq': 2258, 'r -> EEHmmmUt': 2259, 'π -> mmmmUt': 2260, 'p -> EEHHmt': 2261, 'r -> EHmUUt': 2262, 'T -> HHHHHHmU': 2263, 'r -> EEEHmmmmm': 2264, 'r -> EHHHHHHHmm': 2265, 'p -> Eqt': 2266, 'ρ -> mmmmmmmt': 2267, 'r -> HHHHHH¤¤¤¤¤¤¤¤¤¤¤t': 2268, 'r -> H¤¤¤¤¤¤¤¤¤¤¤¤¤¤¤t': 2269, 'r -> HH¤¤mUqt': 2270, 'r -> ¤¤¤¤¤¤U': 2271, 'T -> EHHHHmmmmt': 2272, 'r -> HHmmmmm': 2273, 'π -> UUqt': 2274, 'r -> EEHHHHHUt': 2275, 'π -> EEEUt': 2276, 'p -> HmUUt': 2277, 'r -> EHHmqt': 2278, 'T -> HHHHUUqt': 2279, 'π -> EEEEmmt': 2280, 'T -> EEEEHHHmmt': 2281, 'T -> EEEEHmmmmmt': 2282, 'r -> HHHH¤¤¤¤¤¤¤¤¤¤¤¤¤¤qt': 2283, 'r -> HHHHHH¤¤¤¤¤¤¤¤¤¤¤': 2284, 'r -> HHHHH¤¤¤¤¤Ut': 2285, 'r -> EEHHHmUt': 2286, 'r -> EEEEHHU': 2287, 'p -> HHUUt': 2288, 'ρ -> EEHHHt': 2289, 'r -> HHHH¤¤¤¤¤¤¤¤¤¤¤¤¤mmt': 2290, 'r -> HHHHHHHHHmt': 2291, 'r -> EEHHHHmmmt': 2292, 'p -> HHmmmmmmmmt': 2293, 'p -> EEmm': 2294, 'r -> EEHHHHHHHmmt': 2295, 'T -> EEEHHHHHHt': 2296, 'ρ -> EHHHHUt': 2297, 'p -> H¤¤t': 2298, 'r -> EEEEHHHHHHHmt': 2299, 'p -> HHHHHmmt': 2300, 'ρ -> HHH¤qt': 2301, 'π -> Hmmmmmqt': 2302, 'π -> HHHHHHHHHUt': 2303, 'ρ -> HHHHHHHHHUt': 2304, 'r -> EHHHHmU': 2305, 'T -> HHmmmq': 2306, 'π -> EEEEmmm': 2307, 'r -> HHHHHHHHmUqt': 2308, 'r -> EEHHHHHHHHHHt': 2309, 'p -> EHHHHHt': 2310, 'T -> EEEHmUt': 2311, 'π -> EHHmmt': 2312, 'T -> mmmmmmφqt': 2313, 'p -> mmmmmmmmmmmt': 2314, 'r -> EEEEmmmmmmt': 2315, 'ρ -> EHHHmmt': 2316, 'π -> EEmt': 2317, 'r -> EHHmmmmUt': 2318, 'π -> HU': 2319, 'T -> HmUφt': 2320, 'r -> E¤¤¤¤¤¤¤¤¤¤¤Ut': 2321, 'r -> H¤¤UUt': 2322, 'T -> HHmm': 2323, 'r -> HHH¤mmqt': 2324, 'r -> HHHH¤UUt': 2325, 'r -> HH¤¤¤¤¤¤t': 2326, 'r -> HHHHHmmmmqt': 2327, 'r -> HHUUUt': 2328, 'r -> EHHHHHHHHHHHHUt': 2329, 'r -> HHHHH¤t': 2330, 'r -> EHHHH¤t': 2331, 'r -> HHHH¤¤Ut': 2332, 'p -> ¤¤mt': 2333, 'T -> ¤¤mmmt': 2334, 'T -> HH¤mqt': 2335, 'T -> H¤¤¤qt': 2336, 'r -> mmmmmmmmUUt': 2337, 'r -> ¤¤¤¤¤¤¤¤¤¤mUt': 2338, 'r -> HHH¤¤¤¤¤¤¤¤t': 2339, 'r -> EEEEHHmm': 2340, 'p -> EHmU': 2341, 'r -> EEEHHHHUt': 2342, 'T -> EEHHmmmt': 2343, 'T -> E¤qt': 2344, 'r -> H¤¤¤¤¤¤¤¤¤¤¤¤¤¤¤¤¤mt': 2345, 'r -> H¤¤¤¤¤¤¤Uqt': 2346, 'r -> EHHHHHm': 2347, 'r -> EH¤¤t': 2348, 'r -> ¤¤¤¤¤¤mqt': 2349, 'π -> ¤Ut': 2350, 'r -> EH¤¤¤¤Ut': 2351, 'T -> EEEmmmmt': 2352, 'π -> H¤t': 2353, 'p -> E¤mt': 2354, 'π -> ¤¤qt': 2355, 'p -> H¤qt': 2356, 'p -> ¤mmmmt': 2357, 'r -> EEHU': 2358, 'r -> HHHmmmU': 2359, 'r -> ¤¤¤¤¤¤¤¤¤mqt': 2360, 'p -> ¤¤mmt': 2361, 'T -> ¤mmmUt': 2362, 'r -> HHHHHHHHHHHHHHU': 2363, 'T -> HHmmmφt': 2364, 'T -> EHUqt': 2365, 'r -> HHHHHHHH¤¤¤¤¤¤t': 2366, 'r -> ¤¤UUUt': 2367, 'r -> HH¤¤¤¤¤Ut': 2368, 'r -> EHHφt': 2369, 'r -> HHHmmUUt': 2370, 'ρ -> EHU': 2371, 'r -> EEmm': 2372, 'r -> EEEEHHHHHHHUt': 2373, 'T -> mmmmmmmmm': 2374, 'T -> HHmmmmmmmUt': 2375, 'T -> mmmmmmmm': 2376, 'T -> HHmUUUt': 2377, 'r -> H¤¤t': 2378, 'T -> HHHmmmmmmqt': 2379, 'r -> EEEHHHHU': 2380, 'r -> HHHH¤mmqt': 2381, 'T -> HH¤¤mqt': 2382, 'T -> HHHH¤mqt': 2383, 'T -> HHHH¤qt': 2384, 'ρ -> HHHH¤mqt': 2385, 'ρ -> H¤¤qt': 2386, 'T -> EHH¤Ut': 2387, 'ρ -> HH¤qt': 2388, 'ρ -> EHH¤Ut': 2389, 'ρ -> HH¤mt': 2390, 'r -> HHHHHHHH¤¤¤¤¤¤¤¤': 2391, 'r -> HH¤¤¤¤¤¤¤¤¤¤¤¤¤¤mmqt': 2392, 'r -> ¤¤¤¤¤¤¤¤¤¤¤¤¤Ut': 2393, 'r -> HHHHmmU': 2394, 'r -> EEHHHHHHHHmt': 2395, 'r -> H¤¤¤¤¤mUt': 2396, 'r -> EHHHmqt': 2397, 'r -> Uφ': 2398, 'r -> EEEHHHHmUt': 2399, 'r -> HH¤¤¤¤¤¤¤¤¤¤¤¤¤¤¤¤t': 2400, 'T -> mmmmφt': 2401, 'ρ -> HmmUt': 2402, 'p -> Hφt': 2403, 'r -> HHH¤¤¤¤¤¤¤¤¤¤qt': 2404, 'r -> ¤mmmmmmUqt': 2405, 'r -> HHHH¤¤¤¤¤¤¤¤¤¤t': 2406, 'r -> HHHH¤¤mqt': 2407, 'r -> HH¤¤¤¤¤¤¤¤¤¤¤¤¤¤¤¤¤t': 2408, 'T -> H¤¤¤t': 2409, 'ρ -> ¤mt': 2410, 'ρ -> ¤mqt': 2411, 'ρ -> ¤¤t': 2412, 'r -> HmmmU': 2413, 'π -> Hmmmmmmt': 2414, 'r -> HHHHHHHHHφt': 2415, 'T -> HH¤mmqt': 2416, 'r -> EEEEHHHmUt': 2417, 'T -> EUqt': 2418, 'r -> EHHmmU': 2419, 'T -> EHHmU': 2420, 'T -> EHHHmU': 2421, 'T -> mmmmmmmmUt': 2422, 'T -> EHHmmmmUt': 2423, 'T -> HHHHHHHHHmmqt': 2424, 'T -> mUφt': 2425, 'r -> EEEEHmmmmmt': 2426, 'T -> HHHHHHHHHHHHHHHHHHUt': 2427, 'T -> HHHHHHHHHHHHHHHHHHHHUt': 2428, 'T -> HHHHHHHmmmmqt': 2429, 'T -> EEEHHHHHHHHmt': 2430, 'T -> EEEHm': 2431, 'T -> E¤mUt': 2432, 'π -> ¤mqt': 2433, 'r -> HHHHHHmUUt': 2434, 'r -> EEEEHmm': 2435, 'p -> HHmmmmmmt': 2436, 'r -> EEEHH': 2437, 'ρ -> EHmmmmt': 2438, 'r -> HUUUt': 2439, 'T -> EHφt': 2440, 'ρ -> EEEEHmmt': 2441, 'π -> EEHH': 2442, 'T -> HHHmmmmmmmt': 2443, 'r -> HHmmmq': 2444, 'ρ -> EEEHHt': 2445, 'ρ -> EEEEHmmmt': 2446, 'T -> mmmmmmmmmU': 2447, 'T -> EEEHH': 2448, 'ρ -> EEHHHHHHt': 2449, 'r -> mmmmmU': 2450, 'r -> EHHHHHHmmmt': 2451, 'r -> ¤¤φt': 2452, 'p -> HHmmmmmmmt': 2453, 'r -> HHHHHHHHHHHHHHHHHqt': 2454, 'p -> ¤¤mqt': 2455, 'p -> mmmmmmUt': 2456, 'r -> E¤¤¤¤¤¤¤¤¤¤¤¤¤mt': 2457, 'r -> HHHHHHHH¤¤¤¤¤¤': 2458, 'r -> HHHHH¤¤¤Ut': 2459, 'r -> HH¤¤mUt': 2460, 'r -> HHHHHHH¤¤¤¤¤¤t': 2461, 'r -> HH¤¤¤mqt': 2462, 'r -> HHHHHH¤¤¤¤¤¤¤¤¤¤¤qt': 2463, 'ρ -> mmmmmmqqt': 2464, 'r -> EEEEHHm': 2465, 'r -> EHHHHHHU': 2466, 'π -> Emmmmmm': 2467, 'T -> HHHHHHHHHHHHHHH': 2468, 'T -> mmmmUUt': 2469, 'T -> mmUUqt': 2470, 'T -> Hmmmmmmq': 2471, 'T -> EEHHHHmt': 2472, 'r -> Emmqt': 2473, 'r -> EEHHmmmmt': 2474, 'p -> EHHHmmm': 2475, 'T -> HHHHHHHHHmqt': 2476, 'T -> EHHHHHHHHHH': 2477, 'π -> HHHHHHHH': 2478, 'T -> HHHmmmUqt': 2479, 'r -> HmmmmmmmmmU': 2480, 'r -> H¤¤¤¤¤¤qt': 2481, 'T -> HHHHHHmUUt': 2482, 'ρ -> EmmmUt': 2483, 'r -> HH¤¤¤¤¤t': 2484, 'T -> HHHHHHmmU': 2485, 'p -> HHHHHHHHHHt': 2486, 'T -> HHHHHHHmmt': 2487, 'T -> HHHHHHHHmmt': 2488, 'T -> EEEEHm': 2489, 'T -> HHHHHHmmmt': 2490, 'r -> ¤¤¤¤¤¤¤¤¤¤¤¤¤¤¤¤¤¤¤¤t': 2491, 'r -> E¤UUt': 2492, 'r -> E¤¤¤¤¤¤¤¤t': 2493, 'r -> EEEEHU': 2494, 'T -> HHmq': 2495, 'π -> mmmmmmφ': 2496, 'π -> EHHHH': 2497, 'π -> EEEEHHHHHt': 2498, 'T -> EEEEHHHHHHt': 2499, 'T -> Hmmmmmmmmmmmmt': 2500, 'r -> EEEmmmmmmt': 2501, 'r -> HHHHHmmmmt': 2502, 'T -> HHmmmmmmq': 2503, 'r -> EEmUUUt': 2504, 'T -> EEEEmmUt': 2505, 'π -> Hmmmmmmm': 2506, 'p -> EHHmm': 2507, 'r -> Hmmmmq': 2508, 'r -> HmmmmmmUqt': 2509, 'ρ -> HU': 2510, 'p -> ¤¤¤t': 2511, 'r -> HHHHHHHHHHHHHHHHHHHqt': 2512, 'T -> HHHHHHHHUqt': 2513, 'r -> EEHHmUt': 2514, 'r -> HHHHH¤¤¤¤¤¤Ut': 2515, 'r -> HHH¤': 2516, 'r -> H¤¤¤¤¤¤¤¤¤Uqt': 2517, 'r -> H¤mmUt': 2518, 'r -> HHHmmmmmUqt': 2519, 'p -> EHU': 2520, 'r -> HHmm': 2521, 'p -> mmmmmmmmmmmmmqt': 2522, 'r -> EHHmmmm': 2523, 'T -> EEEEHHHHHHm': 2524, 'T -> EEEEHHHHHH': 2525, 'T -> EEEHHHHHH': 2526, 'T -> EEEEHHHHHm': 2527, 'T -> EEEEHHHHHHHH': 2528, 'T -> EEEHHHHHHm': 2529, 'T -> EEEEHHHHH': 2530, 'T -> EHHHHHHHHHHH': 2531, 'π -> mqqt': 2532, 'T -> EHmmmmmm': 2533, 'r -> HHHHHHHHq': 2534, 'r -> EHHHqt': 2535, 'ρ -> EEEEHHHmt': 2536, 'T -> HHHmmm': 2537, 'r -> H¤¤¤¤¤¤¤¤qt': 2538, 'T -> EEEEHU': 2539, 'π -> EEEH': 2540, 'p -> Hmmmmmmmmqt': 2541, 'p -> EHmmmm': 2542, 'p -> HHmmmmmm': 2543, 'r -> EHHmU': 2544, 'r -> HHHUUUqt': 2545, 'r -> EEHmmqt': 2546, 'p -> EHHmmmmt': 2547, 'T -> HHHHHmmmt': 2548, 'π -> EmUt': 2549, 'p -> φφ': 2550, 'ρ -> UU': 2551, 'π -> HHHHHHHHHHqt': 2552, 'r -> EEEEmm': 2553, 'r -> HHHHHHHHH': 2554, 'T -> EH¤¤¤t': 2555, 'r -> HHHHHHHHH¤¤¤¤qt': 2556, 'r -> H¤¤¤¤¤t': 2557, 'r -> E¤¤¤mUt': 2558, 'r -> ¤¤mt': 2559, 'r -> HH¤¤t': 2560, 'r -> EHHHHHHHHHHHHt': 2561, 'T -> HHHHm': 2562, 'T -> EHmmqt': 2563, 'π -> Hmmmmmt': 2564, 'T -> HHH¤Ut': 2565, 'T -> Emmmmmmmmm': 2566, 'ρ -> Emmmmmmmmm': 2567, 'T -> Emmmmmmmmt': 2568, 'p -> HHHHHHmmmt': 2569, 'p -> HHHHHHHmmt': 2570, 'π -> EEEE¤t': 2571, 'π -> EE¤t': 2572, 'r -> EEHHUUt': 2573, 'p -> Emmmmmmmmm': 2574, 'T -> EEHmmmt': 2575, 'ρ -> HHmmUt': 2576, 'r -> EEmmmmmmmt': 2577, 'T -> mmmmm': 2578, 'T -> HmmmmmU': 2579, 'p -> HHHUUt': 2580, 'p -> EHHHmt': 2581, 'T -> HHHHmq': 2582, 'T -> EHHHHHHU': 2583, 'ρ -> EEHH': 2584, 'ρ -> Emmmt': 2585, 'p -> UUqt': 2586, 'T -> mmmm': 2587, 'T -> EEHmmmmt': 2588, 'p -> Hqqt': 2589, 'p -> HHHUqt': 2590, 'T -> EEHm': 2591, 'p -> HHHHHHHHqt': 2592, 'ρ -> HHHmt': 2593, 'T -> EHmUUt': 2594, 'T -> EHHHHHU': 2595, 'r -> HHH¤¤¤¤¤¤¤¤¤Ut': 2596, 'π -> HHHHmmmqt': 2597, 'T -> HHHHHm': 2598, 'r -> HHHmmmmmmmm': 2599, 'T -> HHHHmmmmmmt': 2600, 'r -> HHHHm': 2601, 'T -> EHmU': 2602, 'T -> Hmmmm': 2603, 'r -> Hmmφt': 2604, 'ρ -> Hmmmmt': 2605, 'r -> EHHHHHHHm': 2606, 'r -> mmmmmφqt': 2607, 'T -> HHHHHHHq': 2608, 'r -> HHHH¤¤¤¤¤¤¤¤¤¤¤¤¤qt': 2609, 'r -> HHHHHHHH¤¤¤¤Ut': 2610, 'r -> HHHHHH¤mqt': 2611, 'r -> HHHHHHH¤¤¤¤¤qt': 2612, 'r -> HHHHHH¤¤¤Ut': 2613, 'r -> HHHHHHH¤Ut': 2614, 'r -> HHHHHHHH¤¤¤¤¤qt': 2615, 'r -> HHHHH¤mqt': 2616, 'r -> HHHHH¤¤¤qt': 2617, 'r -> HH¤¤¤¤mqt': 2618, 'r -> HHHH¤¤¤mmqt': 2619, 'r -> EHHHH¤¤¤Ut': 2620, 'r -> HHH¤¤Uqt': 2621, 'r -> HHHmmmmm': 2622, 'p -> HHHmmmmt': 2623, 'p -> HHHmmmmmt': 2624, 'T -> HHHHHHHHHHHHH': 2625, 'ρ -> HHHHmmmqt': 2626, 'T -> HH¤¤t': 2627, 'ρ -> HHHmφt': 2628, 'T -> Hmmmmq': 2629, 'r -> mmqqqt': 2630, 'r -> HH¤¤¤¤¤¤¤¤¤qt': 2631, 'r -> HHHH¤¤¤¤¤¤¤¤¤t': 2632, 'r -> HHHHHHHHHHHH': 2633, 'r -> EHHHHHHHmUt': 2634, 'r -> HHHH¤¤¤¤t': 2635, 'r -> ¤¤¤¤¤¤¤¤¤': 2636, 'π -> Emmmmmt': 2637, 'r -> EHHmmmmmU': 2638, 'r -> HHHUUUt': 2639, 'p -> EEEEmm': 2640, 'T -> EEHHm': 2641, 'r -> EHHmmmmmmmt': 2642, 'r -> φqt': 2643, 'p -> EEEEmmmmt': 2644, 'p -> HHHmmm': 2645, 'T -> EEEEUUt': 2646, 'p -> HmU': 2647, 'T -> EmmmmmUt': 2648, 'p -> mmmmmqq': 2649, 'r -> HHHHHHHHHHq': 2650, 'ρ -> mmmmmmt': 2651, 'r -> HHHHHHHHHHHHHHHHqt': 2652, 'r -> HHHH¤¤¤Ut': 2653, 'p -> EEHmt': 2654, 'p -> EEEmt': 2655, 'r -> EEEEHHHHHHH': 2656, 'r -> EEEmm': 2657, 'r -> HHHHHHHHHHHHHHHHH': 2658, 'r -> EEEEHHmUUt': 2659, 'r -> HHHHHHHHHHHmUt': 2660, 'ρ -> mmmmUqt': 2661, 'r -> HHHmmmmq': 2662, 'T -> HH¤¤¤¤mUqt': 2663, 'p -> HHHHHmmqt': 2664, 'r -> HHUφt': 2665, 'r -> EEEEHHHmmmt': 2666, 'ρ -> EHmmmt': 2667, 'r -> EEHm': 2668, 'r -> HHHHmm': 2669, 'r -> HHmmmφt': 2670, 'ρ -> HHHHHHHmqt': 2671, 'r -> ¤¤¤¤¤¤¤¤¤¤¤¤¤¤¤¤¤¤¤¤¤¤t': 2672, 'r -> E¤¤¤¤¤Ut': 2673, 'r -> E¤¤¤¤¤¤¤Ut': 2674, 'r -> E¤¤¤¤¤¤Ut': 2675, 'T -> EEEHHHHUt': 2676, 'r -> HHH¤¤¤¤¤¤¤¤¤¤¤¤¤¤¤¤t': 2677, 'r -> EHHHHHH¤¤t': 2678, 'p -> qφ': 2679, 'ρ -> Hφ': 2680, 'r -> EHHHHHHHHm': 2681, 'ρ -> mUUt': 2682, 'T -> EmmmmmmUt': 2683, 'p -> HHHHHHHt': 2684, 'p -> mmmmmmmU': 2685, 'p -> EEEEHt': 2686, 'r -> EH¤mUt': 2687, 'p -> EEEHHt': 2688, 'r -> EHmmmmmUt': 2689, 'p -> HHHHHHHHt': 2690, 'r -> HHHHHHHHmmt': 2691, 'r -> HH¤UUqt': 2692, 'T -> ¤¤¤¤Ut': 2693, 'T -> ¤UUt': 2694, 'π -> HHHHHqt': 2695, 'T -> H¤mUt': 2696, 'π -> EEEEHHHt': 2697, 'ρ -> Hφt': 2698, 'r -> HHHHH¤mUt': 2699, 'r -> HHH¤¤UU': 2700, 'T -> HHHmq': 2701, 'ρ -> HHHHHHHHHHHqt': 2702, 'r -> EEHmmmmmmt': 2703, 'r -> HHHHmq': 2704, 'r -> EHHmφt': 2705, 'π -> HHmmmmmmmqt': 2706, 'r -> HHH¤¤¤¤mUt': 2707, 'T -> EEφ': 2708, 'π -> HHmmmqt': 2709, 'r -> EHHHmmmmmmt': 2710, 'p -> mmmqqt': 2711, 'p -> H¤¤¤Ut': 2712, 'π -> EEEEHHmt': 2713, 'T -> HHHHHmmmmU': 2714, 'T -> EEEHHHH': 2715, 'T -> HHHmmmmUqt': 2716, 'r -> ¤¤¤¤¤¤¤¤¤¤¤¤¤¤¤¤¤¤U': 2717, 'r -> HHHHH¤¤¤¤¤¤': 2718, 'r -> HHHH¤¤¤¤¤¤¤¤¤Ut': 2719, 'r -> EHHH¤¤¤¤¤¤t': 2720, 'r -> EHH¤¤¤¤¤¤t': 2721, 'r -> HH¤¤¤¤¤¤¤¤¤¤¤¤¤¤Ut': 2722, 'r -> HHmmmm': 2723, 'p -> EEEEHHHmt': 2724, 'T -> EHHmqt': 2725, 'T -> EEEHHHHHmmmt': 2726, 'π -> HHHmmm': 2727, 'r -> E¤¤¤¤¤¤¤t': 2728, 'r -> HHHHHHH¤¤¤¤¤¤': 2729, 'r -> HHH¤¤¤mUt': 2730, 'r -> HHHHHHH¤t': 2731, 'T -> EEEEHHU': 2732, 'T -> EEHHHmUt': 2733, 'T -> EEEEHHHHHmmmmt': 2734, 'T -> EEEEHHHHHmmmm': 2735, 'r -> EEEEHHHHHHHHHHHUt': 2736, 'T -> EEEm': 2737, 'r -> H¤¤mmmqt': 2738, 'T -> HH¤Uqt': 2739, 'p -> EmmmmmUt': 2740, 'r -> HHmmmmmmmmmm': 2741, 'T -> EEHHqt': 2742, 'p -> mmmmmmUqt': 2743, 'p -> EHHmmm': 2744, 'r -> EEHHHHHHHHHHHmt': 2745, 'T -> Hmφ': 2746, 'p -> HHHHmmmmmm': 2747, 'T -> EEHU': 2748, 'r -> HHmmmUUt': 2749, 'π -> EHHHHUt': 2750, 'p -> HHH¤qt': 2751, 'p -> Emmmmmmmmmm': 2752, 'π -> mmmmmmmUt': 2753, 'p -> HHHHHUt': 2754, 'T -> HHHmmmmmmmmt': 2755, 'p -> Emmmmmmmmmt': 2756, 'r -> Emmmmmmmmmt': 2757, 'r -> EEEHHHHHHHHmt': 2758, 'r -> EEEEHHUUUU': 2759, 'T -> HHHmmmU': 2760, 'T -> HHHHmmmU': 2761, 'T -> HHmmmmmmmq': 2762, 'ρ -> HUUqt': 2763, 'r -> EEEHHHmUt': 2764, 'r -> EHHHHHHHHHHmmt': 2765, 'r -> EEEmmmmUt': 2766, 'T -> mmUφt': 2767, 'p -> HUU': 2768, 'r -> HHHHH¤¤¤¤¤¤¤qt': 2769, 'p -> HHHHHUqt': 2770, 'ρ -> HHHHUqt': 2771, 'r -> EHHHHHφt': 2772, 'p -> EEEEUt': 2773, 'r -> HHHHHHmφt': 2774, 'T -> Emφt': 2775, 'r -> qφt': 2776, 'r -> HHH¤¤¤¤¤Uqt': 2777, 'r -> HHHHH¤UUt': 2778, 'r -> H¤φt': 2779, 'r -> HH¤¤¤¤¤¤¤¤¤¤¤¤Ut': 2780, 'T -> EEEEHHHHmmmmt': 2781, 'ρ -> HHmφt': 2782, 'r -> EHHHHHHHHHHHUt': 2783, 'r -> EUUUU': 2784, 'r -> EHH¤¤¤¤¤¤¤¤¤¤Ut': 2785, 'r -> HHHHHHHHmmmmqt': 2786, 'r -> mmUqqt': 2787, 'p -> ¤¤m': 2788, 'T -> ¤¤¤mUt': 2789, 'T -> E¤¤¤¤¤Ut': 2790, 'T -> EH¤¤mt': 2791, 'T -> ¤mmmqt': 2792, 'T -> ¤¤¤¤mmt': 2793, 'T -> HH¤¤¤Ut': 2794, 'T -> ¤¤¤¤mqt': 2795, 'T -> HHHHHHmq': 2796, 'ρ -> Uq': 2797, 'r -> EEEHHmm': 2798, 'π -> ¤¤¤¤¤¤¤Ut': 2799, 'π -> Hmmmmmmqt': 2800, 'r -> ¤mm': 2801, 'r -> HHHHHHHHHHHHHUt': 2802, 'T -> EHHHHHHHHHUt': 2803, 'r -> HHφ': 2804, 'r -> EH¤mmmmt': 2805, 'r -> HHH¤UUt': 2806, 'r -> HH¤¤mmUqt': 2807, 'r -> HH¤¤UUt': 2808, 'r -> HHHHH¤¤¤¤¤U': 2809, 'r -> HUU': 2810, 'ρ -> ¤¤¤¤¤¤¤¤¤¤¤¤t': 2811, 'p -> HHHHHHmUt': 2812, 'r -> H¤¤¤¤¤¤¤Ut': 2813, 'r -> HHH¤¤¤¤t': 2814, 'r -> HH¤¤¤¤t': 2815, 'r -> EHHH¤mmt': 2816, 'r -> EEEH¤t': 2817, 'T -> HHH¤¤Ut': 2818, 'r -> EHHHH¤mmt': 2819, 'T -> EHHHHHHHHHHHHt': 2820, 'π -> E¤¤t': 2821, 'r -> EEEH¤¤mt': 2822, 'r -> ¤¤¤¤q': 2823, 'T -> E¤¤¤¤t': 2824, 'π -> H¤¤mqt': 2825, 'T -> ¤¤¤q': 2826, 'T -> ¤¤¤¤¤¤¤¤mmmqt': 2827, 'r -> H¤¤φt': 2828, 'ρ -> H¤¤mqt': 2829, 'r -> HHH¤¤¤¤¤mUt': 2830, 'r -> ¤UUqt': 2831, 'r -> EEHHHmmUt': 2832, 'π -> H¤¤t': 2833, 'p -> ¤mmmmqt': 2834, 'r -> EHHHHHHHHHHm': 2835, 'r -> EEmmmUt': 2836, 'p -> EEEEHHmt': 2837, 'p -> EEHHHHmm': 2838, 'r -> mqqqt': 2839, 'r -> EEEEHm': 2840, 'r -> HHHHHHHHmmUqt': 2841, 'T -> ¤¤mmqt': 2842, 'π -> ¤mt': 2843, 'p -> ¤¤mmUUt': 2844, 'r -> ¤¤mmUUt': 2845, 'r -> ¤mmmUt': 2846, 'p -> ¤¤mmqt': 2847, 'r -> E¤Uφt': 2848, 'r -> HHHHHmmmmmmqt': 2849, 'ρ -> mmmφ': 2850, 'π -> Hmq': 2851, 'T -> HHHmmφ': 2852, 'T -> HHHHHHHHmmm': 2853, 'r -> ¤¤¤φt': 2854, 'r -> HHHH¤¤Uqt': 2855, 'r -> HHHH¤¤¤¤¤¤¤¤¤¤¤¤¤t': 2856, 'r -> HHHHHH¤¤¤¤¤¤¤¤t': 2857, 'r -> HHH¤¤¤¤¤¤¤¤¤¤¤¤¤¤qt': 2858, 'r -> Hqqt': 2859, 'p -> mmmmmmφ': 2860, 'r -> EHφt': 2861, 'ρ -> EHHHHmm': 2862, 'T -> E¤mmmmUt': 2863, 'r -> HHHHHHHHHHHm': 2864, 'T -> HmUUqt': 2865, 'T -> HHHHHmmmmmmUt': 2866, 'ρ -> mφ': 2867, 'ρ -> EEEmUt': 2868, 'r -> EHmmmqt': 2869, 'r -> EHHHHmmmmmt': 2870, 'p -> EHHHmmt': 2871, 'p -> HHmmmmmmUt': 2872, 'T -> HHmmmmmmUt': 2873, 'T -> mmmmmm': 2874, 'T -> HHHHmmmmmUt': 2875, 'p -> HHUUUUt': 2876, 'r -> EEEEHHHHHU': 2877, 'r -> EEEEHHHHHHUt': 2878, 'r -> EHHHHHH¤t': 2879, 'T -> HHH¤mqt': 2880, 'T -> HHHHH¤¤¤qt': 2881, 'T -> HHH¤¤qt': 2882, 'T -> HHHH¤mmqt': 2883, 'T -> HHHHH¤Uqt': 2884, 'T -> HHHH¤mUqt': 2885, 'ρ -> HHH¤mqt': 2886, 'ρ -> HH¤¤mqt': 2887, 'ρ -> HHHHH¤¤¤qt': 2888, 'ρ -> HHHH¤qt': 2889, 'ρ -> HHH¤¤qt': 2890, 'ρ -> HHHH¤mmqt': 2891, 'ρ -> HHH¤Uqt': 2892, 'ρ -> HHHHH¤Uqt': 2893, 'ρ -> HHHH¤mUqt': 2894, 'ρ -> HH¤mqt': 2895, 'ρ -> EHH¤t': 2896, 'ρ -> EHHH¤Ut': 2897, 'r -> H¤mUUUt': 2898, 'r -> E¤¤¤¤¤¤¤¤¤¤¤¤Ut': 2899, 'r -> ¤UU': 2900, 'ρ -> EHHmmUt': 2901, 'r -> H¤¤¤¤¤¤¤¤¤¤¤': 2902, 'r -> ¤¤¤¤mqt': 2903, 'r -> HHH¤¤¤¤¤mUqt': 2904, 'r -> H¤¤¤¤¤¤¤¤mUt': 2905, 'r -> HH¤¤¤¤¤mUt': 2906, 'r -> ¤¤¤¤¤¤¤¤¤¤mUqt': 2907, 'π -> qφ': 2908, 'r -> EEHmU': 2909, 'r -> EEEHHmmmUt': 2910, 'T -> EEEHHm': 2911, 'r -> EEEHHm': 2912, 'ρ -> EEHHHHHmmt': 2913, 'p -> HHHHmmmmm': 2914, 'p -> HHHmmmmm': 2915, 'r -> EEEEU': 2916, 'T -> EEEEmmmmmmmU': 2917, 'r -> ¤¤¤¤¤¤UUt': 2918, 'r -> ¤mmUUt': 2919, 'r -> ¤¤¤¤¤¤¤mqt': 2920, 'r -> H¤¤¤¤¤¤¤¤Ut': 2921, 'r -> HHHHH¤¤¤¤¤¤¤¤t': 2922, 'r -> HH¤¤¤¤mt': 2923, 'r -> HHH¤¤¤¤¤¤¤t': 2924, 'r -> HH¤¤¤¤¤¤mUt': 2925, 'p -> EEmmmmmt': 2926, 'r -> EHUq': 2927, 'π -> HHHHHHt': 2928, 'T -> HHHmmmmmm': 2929, 'T -> HHmmmmmmmmmmmt': 2930, 'r -> HHmmmmmmmmmmmt': 2931, 'π -> Hmmmmmm': 2932, 'p -> HHmmUUt': 2933, 'ρ -> EHHHHHHHHt': 2934, 'r -> HHHH¤¤¤¤¤¤¤¤¤¤¤¤¤¤t': 2935, 'r -> ¤¤¤¤¤¤¤¤¤¤¤¤¤mt': 2936, 'r -> HHHHHHH¤¤¤¤¤¤¤¤': 2937, 'r -> HHHHH¤¤¤¤¤¤¤¤¤qt': 2938, 'T -> H¤¤¤Ut': 2939, 'r -> HHHHHHHHHHHUUt': 2940, 'r -> HHHHHHHHUUt': 2941, 'p -> ¤¤¤¤¤t': 2942, 'ρ -> ¤¤¤¤¤t': 2943, 'p -> ¤¤¤mmmt': 2944, 'π -> ¤mmmt': 2945, 'p -> ¤mmmqt': 2946, 'T -> ¤mU': 2947, 'ρ -> ¤mU': 2948, 'p -> EEEHmmt': 2949, 'T -> H¤mmmmqt': 2950, 'T -> ¤¤¤¤q': 2951, 'T -> E¤¤¤¤¤t': 2952, 'r -> EHH¤': 2953, 'T -> E¤¤¤¤¤¤¤t': 2954, 'p -> E¤': 2955, 'T -> ¤¤¤¤¤Uqt': 2956, 'T -> ¤¤¤¤¤¤¤¤¤¤t': 2957, 'T -> ¤¤¤¤¤¤¤¤¤¤¤¤t': 2958, 'T -> ¤¤¤¤¤¤¤¤¤¤¤¤¤¤¤¤t': 2959, 'p -> EHmmmUt': 2960, 'T -> EEEHHHmt': 2961, 'T -> HHmUUqt': 2962, 'ρ -> HHHHmmUt': 2963, 'r -> EHHHHHHmU': 2964, 'r -> EEHHHHHHHHt': 2965, 'π -> EEmm': 2966, 'T -> EEHHHHHm': 2967, 'r -> HHHHHHHHHHHHHH': 2968, 'ρ -> Emmmmmmt': 2969, 'p -> HHmmm': 2970, 'ρ -> EHHHHHUt': 2971, 'T -> EHHHHHHHHHmt': 2972, 'π -> EHm': 2973, 'p -> HHHHHHHqt': 2974, 'π -> mmmφqt': 2975, 'r -> EHmmUUt': 2976, 'T -> EHHmUUt': 2977, 'r -> HHHmmφt': 2978, 'ρ -> HHHHHmmmmqt': 2979, 'T -> EEHHHHmmmmt': 2980, 'T -> EHHHHHHmmmt': 2981, 'T -> EEEEHHHHHHHmmm': 2982, 'r -> EEHmmmmmmmt': 2983, 'π -> ¤mmUt': 2984, 'T -> EEEEHHHH': 2985, 'ρ -> HHU': 2986, 'ρ -> EHmm': 2987, 'T -> EEEEHmUt': 2988, 'π -> mmmφ': 2989, 'T -> EEEEmmmUt': 2990, 'r -> mmmmmmmmφt': 2991, 'r -> HφUqt': 2992, 'T -> EEHHHHHmt': 2993, 'r -> EEEEmmm': 2994, 'π -> EEEEHmm': 2995, 'T -> EHmmmmmUt': 2996, 'r -> mmmmqqt': 2997, 'r -> EEEEHHHHHHHHHmt': 2998, 'ρ -> HHmmmmmmqt': 2999, 'T -> HHHHHHm': 3000, 'T -> HmmmUφ': 3001, 'r -> EmUqt': 3002, 'r -> mφφt': 3003, 'π -> EEEEHHH': 3004, 'π -> EEEEHHHH': 3005, 'T -> HHmmmmUqt': 3006, 'r -> EEmmmmmm': 3007, 'π -> Hmm': 3008, 'T -> HHHHH¤qt': 3009, 'p -> HHHHHHUt': 3010, 'p -> HHHHHmUt': 3011, 'T -> EH¤¤t': 3012, 'T -> ¤¤¤mqt': 3013, 'T -> HHHHHHHHHHHHHHHHHH': 3014, 'r -> EHHmmmmmm': 3015, 'p -> ¤m': 3016, 'p -> ¤mmm': 3017, 'ρ -> mmmmUt': 3018, 'T -> EEEEHHmUt': 3019, 'ρ -> EEEEHHmUt': 3020, 'ρ -> EEHUt': 3021, 'r -> EHHHHHmmm': 3022, 'p -> H¤¤¤¤¤¤mmmt': 3023, 'r -> H¤¤¤¤¤¤t': 3024, 'p -> mmUUUqt': 3025, 'p -> Hmmmmmmmmmmmt': 3026, 'T -> HqU': 3027, 'T -> HHHHHHHHUU': 3028, 'ρ -> EEEEHmt': 3029, 'ρ -> EEEEHHHt': 3030, 'p -> Eqq': 3031, 'r -> HHHHmmmφt': 3032, 'r -> EHH¤¤mUt': 3033, 'r -> HHHHHHHH¤¤¤¤¤¤¤': 3034, 'r -> ¤mUUt': 3035, 'r -> HHHHH¤mmmmqt': 3036, 'T -> EHHHHmU': 3037, 'π -> HHHHHHHmmqt': 3038, 'p -> HHHHHHHmmqt': 3039, 'p -> φqt': 3040, 'r -> EEHHHmmm': 3041, 'ρ -> Hmmmt': 3042, 'T -> HHHUq': 3043, 'r -> qqUt': 3044, 'r -> HHqUt': 3045, 'ρ -> mmmmmmUqt': 3046, 'p -> EHHHHHHmt': 3047, 'r -> HHHHmmmmmmmmt': 3048, 'p -> EEHHt': 3049, 'p -> EHHHHHmt': 3050, 'r -> HHmUUUt': 3051, 'π -> HHHHHmm': 3052, 'π -> Hm': 3053, 'T -> HmmmmmUqt': 3054, 'ρ -> HmmmmmUqt': 3055, 'r -> EHHHHHHHHHUt': 3056, 'r -> HmmmmU': 3057, 'ρ -> mmmmmmmmmt': 3058, 'π -> HHHHmmmmt': 3059, 'T -> Hmmmmmmφ': 3060, 'π -> mmUUqt': 3061, 'T -> EEEEHHm': 3062, 'T -> EEHHmmmmt': 3063, 'r -> H¤¤¤¤¤¤¤¤¤¤¤¤¤¤¤¤¤¤¤qt': 3064, 'T -> mmmUUqt': 3065, 'p -> HHHHmmqt': 3066, 'r -> φφt': 3067, 'r -> φφ': 3068, 'π -> HmmmUt': 3069, 'π -> H¤mmt': 3070, 'T -> ¤mφt': 3071, 'T -> ¤¤mt': 3072, 'r -> ¤¤¤¤¤¤¤¤mUt': 3073, 'r -> H¤¤¤¤¤¤¤¤¤¤¤¤¤mmqt': 3074, 'ρ -> HHmmt': 3075, 'p -> EEEEmmmmmm': 3076, 'T -> EHmmmmmmmmt': 3077, 'T -> HmmmmmmmmmU': 3078, 'r -> H¤¤¤q': 3079, 'r -> EH¤¤¤¤¤t': 3080, 'ρ -> qφt': 3081, 'T -> HHmmmUUt': 3082, 'p -> mUUUt': 3083, 'T -> HHHHHHHmUqt': 3084, 'T -> HHHmUUUt': 3085, 'T -> HHmmmmmU': 3086, 'r -> E¤¤¤¤¤¤¤¤¤¤¤¤¤¤¤¤¤t': 3087, 'r -> HH¤¤¤mmqt': 3088, 'r -> HHH¤¤¤¤UUt': 3089, 'r -> H¤¤¤¤¤¤¤¤¤¤¤¤¤¤¤¤¤¤t': 3090, 'r -> ¤mUqqt': 3091, 'r -> H¤¤¤¤¤¤¤¤Uqt': 3092, 'r -> H¤mmmUUqt': 3093, 'T -> HHHHHmmU': 3094, 'T -> HHHHHHHHHmU': 3095, 'T -> HHmmmU': 3096, 'T -> HHHHHHHHHHHHHHt': 3097, 'T -> HHHHHHHHHmmt': 3098, 'r -> HmmUUUt': 3099, 'ρ -> EHHHHHmmt': 3100, 'T -> EmmU': 3101, 'ρ -> mmmmmmmmt': 3102, 'r -> HH¤¤¤¤¤¤¤¤¤¤Ut': 3103, 'r -> HH¤¤¤¤¤¤¤¤¤Ut': 3104, 'r -> HHH¤mUUt': 3105, 'r -> E¤¤¤¤¤mmt': 3106, 'r -> EHmmqt': 3107, 'π -> EEEHHHHt': 3108, 'π -> EEHHHHHt': 3109, 'π -> EEHHHHHHHt': 3110, 'r -> UUUUUt': 3111, 'r -> mmmmmmmq': 3112, 'ρ -> EHHUUt': 3113, 'T -> EEEEU': 3114, 'T -> HHHHHHHHHHHHHHHHHHHHHt': 3115, 'ρ -> EEmmt': 3116, 'p -> HHHHmmm': 3117, 'r -> EHHHmmmmmU': 3118, 'r -> EEHHmmU': 3119, 'ρ -> EEEEmUt': 3120, 'ρ -> Hq': 3121, 'T -> HHmmmmmmmmqt': 3122, 'T -> EmmmmU': 3123, 'T -> EEmm': 3124, 'T -> HHmmmmU': 3125, 'r -> EmU': 3126, 'r -> EHmU': 3127, 'r -> EEUU': 3128, 'r -> EHmmmφt': 3129, 'T -> mmmmmmmmmmmmmmmt': 3130, 'T -> mmmmmmmmmmmmmmmmm': 3131, 'T -> mmmmmmmmmmmmt': 3132, 'π -> mUUqt': 3133, 'T -> EHHHHHHHHHHHHHt': 3134, 'T -> HHHHmmmq': 3135, 'T -> mmmmmmmmmmmmqt': 3136, 'T -> Hmmmmmq': 3137, 'p -> EHHHHHHH': 3138, 'p -> HHHHHHHHH': 3139, 'p -> HmmU': 3140, 'T -> HHHHHHHHHHHHHqt': 3141, 'r -> EEEEmmmmUt': 3142, 'p -> mmmmmmq': 3143, 'p -> mmφqt': 3144, 'T -> EEEHHUt': 3145, 'r -> EH¤¤¤¤¤Ut': 3146, 'ρ -> Eqt': 3147, 'T -> HHHHHHHHHHHHHHHHHHHqt': 3148, 'r -> HHHHHHHHHHHmt': 3149, 'p -> mmmmmq': 3150, 'r -> HH¤¤¤¤¤¤¤¤¤¤Uqt': 3151, 'r -> HH¤¤¤¤UUt': 3152, 'r -> EHHHHH¤¤t': 3153, 'r -> HHH¤¤¤¤¤¤¤¤¤¤¤¤¤¤Ut': 3154, 'r -> H¤': 3155, 'r -> EHmmmmmmmmt': 3156, 'ρ -> HmUUqt': 3157, 'T -> mmmmmmφt': 3158, 'π -> mmmmUqt': 3159, 'ρ -> EEEEEEEEmmmmt': 3160, 'r -> mmmmmmmmmmmmmqt': 3161, 'T -> EEEEHHHHHHHHHm': 3162, 'T -> EEEEHHHHHHHm': 3163, 'T -> EEEEHHHHHHHHHmt': 3164, 'T -> EEHHHHHHHH': 3165, 'T -> EEEEHHHHHHmt': 3166, 'T -> EEEEHHHHHHmm': 3167, 'T -> EEEHHHHHHmm': 3168, 'T -> EHHHHHmm': 3169, 'T -> EEEHHHHHHHHHHHt': 3170, 'T -> EEEHHHHHm': 3171, 'T -> EEEEHHHHHHHHH': 3172, 'p -> EHHHH': 3173, 'T -> mmmmmmmmUqt': 3174, 'T -> EEEUUt': 3175, 'r -> EHHHUqt': 3176, 'T -> EEHmm': 3177, 'r -> ¤qqt': 3178, 'r -> HHHHHHHmmmt': 3179, 'ρ -> HHHmmmmmqt': 3180, 'T -> HHHHHHHHHHmqt': 3181, 'ρ -> HHmmmmUt': 3182, 'r -> HHHHHHHHHHHHHHHHHt': 3183, 'r -> EHHHHHHHmmm': 3184, 'r -> HH¤mmt': 3185, 'r -> HHHHHHHHmmmqt': 3186, 'r -> EHHHHmmUUt': 3187, 'r -> EEEEHUqt': 3188, 'r -> HHHHHHHHHmmUt': 3189, 'r -> EEEEφt': 3190, 'r -> EEHq': 3191, 'T -> EHHHmmmUt': 3192, 'r -> HmmmUUt': 3193, 'r -> EEEEHHHHHHHHmt': 3194, 'π -> HHHHmt': 3195, 'r -> HHHHmUU': 3196, 'T -> mmmmmmmmmmUqt': 3197, 'r -> EHmmmmmU': 3198, 'p -> Hmmmmmmm': 3199, 'r -> EEHHHmmmt': 3200, 'r -> EEHHHU': 3201, 'T -> HHHHHHHHHHHmqt': 3202, 'r -> EHHHHHHHHmUUt': 3203, 'T -> EEEHHHHHHmt': 3204, 'r -> ¤¤mmmqt': 3205, 'T -> HHHHHUUqt': 3206, 'p -> HHHHHHHUt': 3207, 'π -> Emmmmmmmt': 3208, 'p -> mmφφt': 3209, 'p -> Hmmmφφt': 3210, 'T -> HHHH¤mmUt': 3211, 'π -> mmmqq': 3212, 'p -> mmmmφφ': 3213, 'r -> EHH¤¤t': 3214, 'ρ -> HHHHHUUt': 3215, 'ρ -> Emmm': 3216, 'T -> mmmmmmmmmUt': 3217, 'T -> E¤mmUt': 3218, 'π -> EEEEUt': 3219, 'π -> EEEEHt': 3220, 'π -> EEEHHt': 3221, 'r -> HUUUqt': 3222, 'r -> ¤¤¤¤¤¤¤mUqt': 3223, 'p -> HHmmmmmmmmmt': 3224, 'r -> mmmmmmmmmmmt': 3225, 'T -> mmmmmφqt': 3226, 'T -> EEmmmmmmm': 3227, 'T -> EHHHUUUt': 3228, 'r -> HHH¤¤mUqt': 3229, 'r -> EHHHHHHH¤¤¤t': 3230, 'r -> HH¤¤¤¤¤mt': 3231, 'r -> ¤¤¤¤¤¤¤¤¤¤¤¤¤¤¤¤¤¤¤¤¤¤¤¤¤¤¤¤': 3232, 'r -> HHHHHHH¤¤¤¤t': 3233, 'r -> HHHHH¤mmt': 3234, 'r -> H¤mmmt': 3235, 'p -> HHHHHHH': 3236, 'r -> EHmUqt': 3237, 'T -> EHHmmmmmm': 3238, 'r -> HHHHφ': 3239, 'ρ -> HHHHHHHmmqt': 3240, 'ρ -> E¤t': 3241, 'p -> Hmφt': 3242, 'π -> E¤¤Ut': 3243, 'ρ -> Emmmmmmm': 3244, 'T -> EEEHHHmmmt': 3245, 'T -> mmqUt': 3246, 'T -> mmmmmUUt': 3247, 'T -> EEE¤Ut': 3248, 'r -> EEE¤¤¤¤Ut': 3249, 'T -> E¤¤¤¤Ut': 3250, 'π -> ¤U': 3251, 'r -> EE¤Ut': 3252, 'T -> ¤Uφt': 3253, 'π -> EEE¤t': 3254, 'π -> EE¤': 3255, 'p -> HHHHHmt': 3256, 'T -> HHHHHHHHHHHHHHHHqt': 3257, 'T -> EEHHHHHHmmmm': 3258, 'r -> HHHHHmU': 3259, 'r -> EEEEHHHHHmUt': 3260, 'r -> HHHmmmq': 3261, 'r -> EEHHHHHHHHm': 3262, 'r -> EE¤¤¤¤¤¤¤¤¤¤¤¤¤¤¤¤t': 3263, 'r -> ¤¤¤¤¤¤¤¤¤¤¤¤¤¤¤¤¤¤¤¤¤¤qt': 3264, 'r -> HHHH¤¤¤¤¤¤¤¤qt': 3265, 'ρ -> Hmmmmmmt': 3266, 'ρ -> Emm': 3267, 'T -> HHmmφt': 3268, 'p -> EUUt': 3269, 'ρ -> mmmmmt': 3270, 'r -> EHHHHHH¤Ut': 3271, 'r -> HHH¤mUqt': 3272, 'r -> HHHHHHHHHHHHHHHt': 3273, 'ρ -> EHHHm': 3274, 'π -> EEEHHHH': 3275, 'T -> EEHHHHUt': 3276, 'r -> HUUUUt': 3277, 'T -> EHHmmmmm': 3278, 'T -> EHHmmmm': 3279, 'ρ -> EHHmmmm': 3280, 'r -> EEEEHmmmUt': 3281, 'π -> EHHUUt': 3282, 'r -> HHHHqUqt': 3283, 'r -> EEEmmmm': 3284, 'p -> EEEmmm': 3285, 'T -> EEEEφt': 3286, 'r -> HHHHHHHHHHHHHHHHt': 3287, 'T -> ¤¤¤¤¤¤¤¤t': 3288, 'T -> H¤¤¤¤t': 3289, 'T -> ¤¤¤¤¤¤t': 3290, 'T -> EE¤¤t': 3291, 'r -> EUq': 3292, 'T -> HHmmmmmmmmmmqt': 3293, 'ρ -> HHmmmmmmmmmmqt': 3294, 'T -> EEmmmmUt': 3295, 'π -> EHHHmmt': 3296, 'T -> EEEHHmmmmt': 3297, 'p -> EEEmmmt': 3298, 'T -> EmUqt': 3299, 'p -> EEEEH': 3300, 'r -> EEEEHHHHmmmt': 3301, 'p -> EHHHm': 3302, 'p -> EHmmm': 3303, 'T -> H¤φ': 3304, 'T -> EHHHHHHHHU': 3305, 'T -> HHHHHHHHHHHHHm': 3306, 'r -> EEEqt': 3307, 'π -> EEmmt': 3308, 'r -> EEEHHHHHHHHH¤t': 3309, 'T -> EEHqt': 3310, 'r -> H¤¤¤Uqt': 3311, 'r -> HHHmmmmmmUt': 3312, 'T -> EEmU': 3313, 'p -> EmmmU': 3314, 'p -> HHHHHmmmmt': 3315, 'r -> ¤¤¤¤¤¤¤¤¤¤¤¤mUt': 3316, 'r -> EEHHHHHHUt': 3317, 'r -> EEEHHHHHHHHHHHHHt': 3318, 'T -> HHHHHHHmU': 3319, 'r -> EHmmq': 3320, 'p -> EEHHHHHmmt': 3321, 'r -> HHHHHHH¤¤mqt': 3322, 'r -> HHHHHHHHH¤¤Ut': 3323, 'r -> HH¤¤¤mUt': 3324, 'r -> HHHHHHH¤¤¤Ut': 3325, 'r -> HHH¤mmUqt': 3326, 'r -> HHHHHHHHH¤¤mqt': 3327, 'r -> HHHHHHHHHH¤mqt': 3328, 'r -> HHHHHHH¤¤¤¤¤¤qt': 3329, 'r -> HHHHHHHH¤¤mUt': 3330, 'r -> HHHHHHHHH¤¤¤¤¤qt': 3331, 'r -> HHHHHHH¤¤¤¤mqt': 3332, 'r -> HHHHHH¤¤¤¤¤mmqt': 3333, 'r -> HHHHH¤¤¤¤Uqt': 3334, 'r -> HHHHHH¤¤¤¤¤¤¤Ut': 3335, 'r -> HHHHHH¤¤¤mqt': 3336, 'r -> HHHHHHH¤¤¤qt': 3337, 'r -> HHHHH¤¤¤¤mqt': 3338, 'p -> HHHmmmm': 3339, 'r -> EHHHHHHHHHHHHHHHt': 3340, 'r -> EEHHHHU': 3341, 'r -> EEHHmm': 3342, 'r -> HHHmmmmmmmt': 3343, 'r -> EHmmmmmmmU': 3344, 'T -> UUU': 3345, 'p -> mmqUt': 3346, 'p -> EHHHHmmmt': 3347, 'p -> EEEEm': 3348, 'r -> ¤mq': 3349, 'T -> EEUUt': 3350, 'T -> mmUUUt': 3351, 'r -> mmmmmφ': 3352, 'p -> HHHφt': 3353, 'p -> HHHmmUt': 3354, 'T -> EEEH¤mt': 3355, 'p -> EEEHmt': 3356, 'T -> EEEHq': 3357, 'p -> HHmmmmm': 3358, 'r -> E¤¤¤¤¤¤Uqt': 3359, 'T -> E¤¤¤¤¤¤t': 3360, 'r -> H¤¤¤¤¤¤¤¤¤': 3361, 'r -> Eqqt': 3362, 'π -> mmqqqt': 3363, 'T -> EEEHmm': 3364, 'r -> HHHUφt': 3365, 'r -> Emmmφt': 3366, 'r -> EEEEHHHmmmmt': 3367, 'p -> ¤¤¤¤mUt': 3368, 'r -> ¤¤¤q': 3369, 'r -> ¤¤q': 3370, 'p -> ¤¤¤mqt': 3371, 'p -> HHHHmmt': 3372, 'r -> ¤UUUt': 3373, 'p -> EHHHmUt': 3374, 'T -> EEHHHHHHHHt': 3375, 'r -> EHHHHHHHHHHHH': 3376, 'T -> EH¤': 3377, 'T -> Hmmmmmmmmmmmmm': 3378, 'T -> HHHHmmmmmm': 3379, 'r -> HHHHmmmmmmm': 3380, 'r -> HHHHHHmmmmU': 3381, 'r -> H¤¤mmUt': 3382, 'r -> ¤¤mmmmqt': 3383, 'r -> EE¤¤Ut': 3384, 'r -> H¤¤¤mqt': 3385, 'T -> HHH¤qt': 3386, 'r -> EH¤¤¤¤t': 3387, 'r -> EH¤¤¤¤¤¤Ut': 3388, 'r -> ¤¤¤¤mmmqt': 3389, 'r -> ¤mmmmt': 3390, 'T -> EEEEHHmmmmt': 3391, 'T -> HHHHHHHHHHHmUt': 3392, 'ρ -> HHHUUt': 3393, 'ρ -> HHHHHHHHHqt': 3394, 'ρ -> EHHHHHHHmUt': 3395, 'ρ -> HHHHHHHUqt': 3396, 'T -> EEEEmmmmmm': 3397, 'T -> EEmmmmmmmt': 3398, 'T -> EEφt': 3399, 'r -> HH¤¤¤¤¤¤mUqt': 3400, 'r -> HHH¤¤¤mUqt': 3401, 'r -> ¤¤¤¤¤¤¤¤mUqt': 3402, 'ρ -> EmUUt': 3403, 'p -> HmUqt': 3404, 'ρ -> EHHHmUt': 3405, 'p -> HHHHmmmUt': 3406, 'T -> EHHHmmmm': 3407, 'T -> HHHH¤¤¤¤¤t': 3408, 'r -> EHHHHHHHHHmm': 3409, 'T -> EEHHHmmm': 3410, 'r -> HHmmq': 3411, 'ρ -> HHHmUt': 3412, 'r -> EEEEHHHmmUt': 3413, 'T -> HHHmmmmmUqt': 3414, 'ρ -> mmmmmmUt': 3415, 'T -> mmmmmmmφqt': 3416, 'T -> HHHHHmmmmmmq': 3417, 'r -> HHHHHmmmmmmq': 3418, 'p -> HHHHHHmt': 3419, 'ρ -> EHmmmmUt': 3420, 'p -> mUUUU': 3421, 'r -> HHHHHHHmmt': 3422, 'r -> HHHHHmmmm': 3423, 'T -> EHHHHHHUUt': 3424, 'p -> HHHmmmmmmmmt': 3425, 'T -> EEEEHmmmmmUt': 3426, 'π -> mmmmmmmmmm': 3427, 'r -> HHHHHHHHHHHHHU': 3428, 'p -> mmmmq': 3429, 'π -> EEHHHt': 3430, 'p -> HH¤¤¤¤mt': 3431, 'r -> EHHHHHHHmmmt': 3432, 'p -> HHHH¤qt': 3433, 'π -> HH¤¤¤¤mt': 3434, 'r -> ¤¤U': 3435, 'r -> EEE¤¤¤t': 3436, 'p -> HH¤t': 3437, 'r -> H¤¤¤¤¤¤¤t': 3438, 'π -> HHHH¤¤¤¤¤t': 3439, 'r -> EH¤¤¤¤¤¤¤t': 3440, 'T -> HHHHHHHHHHHHHHU': 3441, 'π -> Hmmφt': 3442, 'T -> HHHHHHHHH¤qt': 3443, 'T -> EHHHHH¤t': 3444, 'r -> EEHUUt': 3445, 'r -> EEHHHHHHmmUUt': 3446, 'r -> EmmmmmmU': 3447, 'ρ -> Hmmmmmt': 3448, 'r -> HHHHHHHHHHHHHt': 3449, 'r -> EEEHHHm': 3450, 'T -> EHHHHHHHHHHmt': 3451, 'T -> EEHHHHHHHHHHmt': 3452, 'r -> HmmmmmUqt': 3453, 'ρ -> HmmmmUqt': 3454, 'p -> Hmqqt': 3455, 'T -> HHHHHHHHHHHHHHHHHHt': 3456, 'T -> EEEmmmmmmt': 3457, 'p -> EEEmmmmm': 3458, 'r -> HHHHmmmmmt': 3459, 'p -> Emqt': 3460, 'r -> HHHHH¤¤¤¤¤¤¤¤¤¤¤qt': 3461, 'r -> HHHHHHH¤¤¤¤¤¤¤t': 3462, 'r -> HHHH¤¤¤¤¤¤¤¤¤¤¤¤¤¤¤¤t': 3463, 'r -> HH¤mmmt': 3464, 'r -> ¤¤¤¤¤¤¤¤¤mt': 3465, 'π -> mmUqt': 3466, 'p -> EHHmmmm': 3467, 'r -> HHHHφt': 3468, 'r -> Uqqt': 3469, 'r -> HHHHHHHHHmmmqt': 3470, 'T -> EEmmqt': 3471, 'π -> EEEHmmt': 3472, 'π -> EEHmt': 3473, 'T -> HHH¤mUqt': 3474, 'r -> HHHHmmq': 3475, 'π -> EHHHHHH': 3476, 'π -> HHHmmmmmmmqt': 3477, 'T -> EHHHHHHmmmmt': 3478, 'T -> EHHHHHmmmmt': 3479, 'π -> EEHmUt': 3480, 'ρ -> HHHHt': 3481, 'r -> HHHHHHmmφt': 3482, 'π -> EEEHH': 3483, 'T -> EHHmmm': 3484, 'ρ -> mmφt': 3485, 'r -> HHHHHHHHHHHHH': 3486, 'r -> E¤mmmt': 3487, 'ρ -> HmmmUqt': 3488, 'π -> HmmmUqt': 3489, 'r -> HHHHmmmmU': 3490, 'r -> HHHHHHHUUUt': 3491, 'T -> HHHmmmmq': 3492, 'r -> EH¤¤Ut': 3493, 'r -> HHHHHHHHHHHHHHHHHHHHHH': 3494, 'r -> EEEEHHHHm': 3495, 'r -> EEEHHHHm': 3496, 'r -> EEEEHHHHHm': 3497, 'p -> HHHHUUt': 3498, 'T -> EHmmmqt': 3499, 'T -> Emmmmq': 3500, 'T -> Emmmq': 3501, 'T -> Emmq': 3502, 'T -> Emmmqt': 3503, 'T -> H¤¤¤mqt': 3504, 'T -> HHHHH¤¤¤¤¤qt': 3505, 'r -> H¤¤¤¤¤¤mmmt': 3506, 'ρ -> HH¤¤¤¤mUqt': 3507, 'r -> H¤¤¤¤¤¤¤¤mqt': 3508, 'T -> H¤¤¤¤¤¤¤¤mqt': 3509, 'r -> ¤¤¤mmmmUt': 3510, 'r -> ¤¤¤mmqt': 3511, 'r -> mmqqt': 3512, 'T -> H¤¤mmqt': 3513, 'r -> ¤': 3514, 'r -> qUUt': 3515, 'T -> HHmmqUt': 3516, 'T -> EHHHHmmm': 3517, 'ρ -> EEEHHmmt': 3518, 'π -> mUUt': 3519, 'r -> EHHHHHHHHHHHHHU': 3520, 'p -> Hqφt': 3521, 'π -> Hqqt': 3522, 'r -> EEH¤¤¤¤¤¤¤mt': 3523, 'r -> EEEHmmmmmmmm': 3524, 'r -> EEEmqt': 3525, 'π -> EmmmUt': 3526, 'π -> EEmmm': 3527, 'T -> HHHHHHHHHUqt': 3528, 'r -> HUφt': 3529, 'π -> mmmmmmmm': 3530, 'r -> HqU': 3531, 'ρ -> EEHHmmt': 3532, 'π -> mmmmmmmU': 3533, 'T -> mmmmmmmφt': 3534, 'T -> EEHHHHHUt': 3535, 'p -> EEEEqt': 3536, 'p -> HHHUUUt': 3537, 'π -> Emmmmmmt': 3538, 'p -> UUU': 3539, 'r -> EEHmmmmUt': 3540, 'π -> HHHHHHHmqt': 3541, 'r -> ¤¤¤¤¤¤¤¤¤¤¤¤¤¤¤¤¤¤¤¤¤¤¤t': 3542, 'r -> E¤¤¤¤¤¤¤¤¤Ut': 3543, 'r -> ¤¤¤¤¤¤¤¤¤¤¤¤¤¤¤¤¤¤¤¤U': 3544, 'r -> ¤¤¤¤¤¤mUt': 3545, 'r -> EEEHHHmmUt': 3546, 'r -> HHHHHmUUqt': 3547, 'r -> EHHHHHHHHHHHHHH': 3548, 'r -> HHHHHHHHHHHHHHH': 3549, 'r -> HHHUU': 3550, 'p -> HHU': 3551, 'r -> HHHHHHHH¤¤¤¤¤¤¤¤¤': 3552, 'r -> HH¤¤¤¤¤¤¤Uqt': 3553, 'p -> mmmmmmmmmmU': 3554, 'T -> EEEmmUt': 3555, 'T -> HHmmmmmUqt': 3556, 'r -> HHmmmmmUqt': 3557, 'ρ -> HHmmmmmUqt': 3558, 'p -> mmqφ': 3559, 'ρ -> mqqt': 3560, 'r -> EHH¤¤¤¤Ut': 3561, 'r -> EHHHUU': 3562, 'r -> EEEHHHHHHHHHH': 3563, 'r -> HHHHHHHmmmqt': 3564, 'p -> EEUt': 3565, 'p -> EEHUt': 3566, 'r -> EEEHHHHHHUU': 3567, 'ρ -> EHHHmmUt': 3568, 'ρ -> EEHHmt': 3569, 'T -> H¤mmqt': 3570, 'r -> mmmmmmmU': 3571, 'p -> HHHHHHHmm': 3572, 'p -> HHHHHHm': 3573, 'p -> HHHHHm': 3574, 'r -> ¤¤¤¤¤mqt': 3575, 'r -> ¤¤¤¤¤¤¤U': 3576, 'p -> EHHHHHHHH': 3577, 'T -> EEEHHmmmt': 3578, 'p -> EHHHHHm': 3579, 'p -> Emmmmmmmmt': 3580, 'T -> EHHHHHHHHHHHH': 3581, 'r -> HHHHHHUU': 3582, 'π -> Emmmmm': 3583, 'T -> EEEEHHHHmmt': 3584, 'r -> ¤¤¤¤φ': 3585, 'r -> EEEHHH¤¤¤t': 3586, 'π -> mmmmmmφqt': 3587, 'p -> HHHHHHHUUt': 3588, 'r -> HHHmmmUUqt': 3589, 'r -> HHHmmUUqt': 3590, 'r -> HHHHmmUUqt': 3591, 'T -> φUt': 3592, 'T -> EEEEmU': 3593, 'r -> HHHHHHHHHHHHHHφ': 3594, 'T -> EHHmmmmmmt': 3595, 'r -> HUq': 3596, 'T -> mmmmmmmmφt': 3597, 'T -> EEEEHHHHHHHHHt': 3598, 'ρ -> HHHHHHHt': 3599, 'ρ -> HHHHHHHHHmt': 3600, 'ρ -> EHHHHHHHHHt': 3601, 'ρ -> HHHHHHHHHHt': 3602, 'ρ -> HHHHHHmmmmmmt': 3603, 'ρ -> EHHHHHHHHHHt': 3604, 'ρ -> HHHHHHmmmt': 3605, 'ρ -> HHHHHHmmmmmt': 3606, 'ρ -> HHHHHHHmUt': 3607, 'ρ -> HHHHHHHHUUt': 3608, 'r -> HHHHHHHHHHUU': 3609, 'ρ -> Hmmmmmmmmmqt': 3610, 'T -> EEEEHHUt': 3611, 'r -> HHHHHmq': 3612, 'r -> EHHH¤¤¤¤¤¤¤¤t': 3613, 'p -> HHHHH': 3614, 'T -> HHHmm': 3615, 'T -> mmmmUUUt': 3616, 'ρ -> mmmmmmq': 3617, 'T -> EHHHHHHHHHHHHH': 3618, 'p -> mmmmUUqt': 3619, 'ρ -> HHHmmmmUt': 3620, 'r -> HHHHHHHH¤UUt': 3621, 'r -> HHHH¤¤¤t': 3622, 'r -> HHH¤¤¤t': 3623, 'r -> EEHHH¤t': 3624, 'r -> HH¤¤¤t': 3625, 'T -> HHHHHHHHHHH': 3626, 'π -> HHHmUt': 3627, 'π -> HHHHmmUt': 3628, 'ρ -> mmmmmmφ': 3629, 'p -> EEEEmmmmmmmm': 3630, 'r -> EEmmmmmmmm': 3631, 'T -> EEHHHHHHHHH': 3632, 'T -> ¤¤¤¤¤¤¤Ut': 3633, 'T -> ¤UUUt': 3634, 'r -> EHHHq': 3635, 'T -> EEHHHHHHHHHHt': 3636, 'ρ -> HHHUUqt': 3637, 'T -> mUUUqt': 3638, 'r -> φUt': 3639, 'π -> HHHmmmmqt': 3640, 'π -> HHqqt': 3641, 'π -> HHHqqt': 3642, 'π -> EHqt': 3643, 'T -> mqqt': 3644, 'r -> ¤¤¤¤¤¤¤¤¤¤¤¤¤¤¤¤¤¤Ut': 3645, 'r -> H¤¤¤UUt': 3646, 'r -> HHHHHH¤¤¤¤¤¤t': 3647, 'r -> HHHHHH¤¤¤¤¤¤¤t': 3648, 'r -> HH¤¤¤¤¤¤¤Ut': 3649, 'r -> HHHHHHH¤¤¤¤¤¤¤¤¤t': 3650, 'π -> mmmq': 3651, 'r -> mUU': 3652, 'T -> EEEφt': 3653, 'r -> EEEHHHH': 3654, 'T -> EHHHHmUUt': 3655, 'T -> mmφqt': 3656, 'π -> mq': 3657, 'r -> Hmmmmmmmq': 3658, 'ρ -> HHHHHHHHHHmqt': 3659, 'T -> HHHHHHHHHHHHHHHHHHHH': 3660, 'r -> HHHHHHHHHHHHHHt': 3661, 'r -> EHHHHHHHHHHUt': 3662, 'T -> mmmmmmmmmmmU': 3663, 'T -> HmmmmmmU': 3664, 'T -> EEHHmmmmmmt': 3665, 'π -> EEEEHmmmt': 3666, 'p -> EEEEmmmmmmm': 3667, 'r -> EmmU': 3668, 'r -> EEEHHHHHHHHHt': 3669, 'r -> EEEEHHHHHHHHt': 3670, 'p -> Emq': 3671, 'p -> HHHHmmmmmmt': 3672, 'T -> mmmmmmmmqqt': 3673, 'r -> mmmmmmmmqqt': 3674, 'p -> EEH': 3675, 'π -> HHHHHHmmmmqt': 3676, 'r -> HHHHHHm': 3677, 'ρ -> HHHHHHmmqt': 3678, 'r -> EEmmmmUt': 3679, 'r -> EEEEHHHHHHHmm': 3680, 'r -> EmmUUUt': 3681, 'r -> HHHHHmmmUqt': 3682, 'r -> HHHHHHHHHHqqt': 3683, 'r -> HHHHHHHHHHHHHHHHHHqt': 3684, 'π -> mmmmmUt': 3685, 'π -> HHmmmmqt': 3686, 'π -> HHmmmmmmqt': 3687, 'r -> ¤φ': 3688, 'r -> H¤¤¤¤¤¤¤¤¤¤¤¤¤¤¤mqt': 3689, 'r -> HHHHH¤¤¤¤¤¤¤¤¤¤¤¤¤qt': 3690, 'r -> HHH¤mmUt': 3691, 'r -> HHHHHH¤¤¤¤¤¤¤¤¤¤¤¤¤t': 3692, 'r -> HH¤mUqt': 3693, 'r -> HH¤¤¤¤¤Uqt': 3694, 'r -> HHHHH¤¤¤¤¤¤t': 3695, 'r -> HHH¤¤¤¤¤¤¤¤¤¤¤¤t': 3696, 'r -> HHH¤¤¤¤¤¤¤¤qt': 3697, 'T -> EEEEmmmmmmmmt': 3698, 'T -> φ': 3699, 'T -> HH¤¤¤t': 3700, 'r -> EEEHHHHHHHHHHHHHHmt': 3701, 'r -> EEEEq': 3702, 'r -> EEEHHHHHHU': 3703, 'T -> HHHHHφt': 3704, 'r -> mmUq': 3705, 'r -> EHmmmUUt': 3706, 'T -> HHHHHHmmmm': 3707, 'π -> Eqt': 3708, 'r -> HqUUqt': 3709, 'T -> HHHHHmmmmmqt': 3710, 'ρ -> Hmmmmmmmqt': 3711, 'p -> mmmmmmmφt': 3712, 'π -> H¤Ut': 3713, 'T -> HH¤¤¤qt': 3714, 'r -> HHHmmmmmm': 3715, 'T -> HHHHHHHHHHHHHH': 3716, 'T -> HHHHHHUU': 3717, 'r -> HHHHH¤¤¤t': 3718, 'r -> HHHH¤¤¤¤¤¤¤¤¤mqt': 3719, 'r -> HHHHHHH¤Uqt': 3720, 'r -> HH¤¤¤Ut': 3721, 'r -> HHH¤¤¤¤¤¤¤Ut': 3722, 'r -> HHHHH¤¤¤¤¤¤¤¤¤¤¤¤qt': 3723, 'T -> EHHHmmmmm': 3724, 'p -> EHHmmUt': 3725, 'T -> EEEEmm': 3726, 'ρ -> mmmmt': 3727, 'T -> EHHHHHmmmm': 3728, 'T -> EHHHHmmmmm': 3729, 'r -> φUqt': 3730, 'r -> EEHHHHHHHH¤¤t': 3731, 'r -> HHHH¤¤mmqt': 3732, 'r -> HHHHHH¤¤mqt': 3733, 'r -> ¤¤¤¤mUqt': 3734, 'r -> EEHHHmmmmmt': 3735, 'r -> mqqqqt': 3736, 'p -> EHmmUt': 3737, 'r -> EEEHHmmUt': 3738, 'p -> EEmmmmt': 3739, 'p -> EEEEmmmm': 3740, 'ρ -> Emmmm': 3741, 'r -> HH¤¤¤¤¤¤¤¤¤¤¤¤¤¤¤¤qt': 3742, 'π -> Hmmmmm': 3743, 'T -> HHHHHmmm': 3744, 'π -> φφt': 3745, 'π -> EHHH': 3746, 'r -> HHmmmmU': 3747, 'π -> HHHHmmqt': 3748, 'T -> HHHHmmq': 3749, 'T -> EEHHHH': 3750, 'r -> HHHHHmmUUt': 3751, 'ρ -> mmU': 3752, 'r -> mφqt': 3753, 'T -> HmUU': 3754, 'r -> mmmmφt': 3755, 'ρ -> HHHq': 3756, 'T -> EEEEHmm': 3757, 'p -> Eq': 3758, 'r -> EHHHHHHHHmUt': 3759, 'T -> ¤¤¤¤¤mUt': 3760, 'π -> EEHHt': 3761, 'T -> EHHHHHmU': 3762, 'T -> HmmmmmmmmUt': 3763, 'T -> Hmmmmmmmmmmmqt': 3764, 'T -> Hmmmmmmmmmmqt': 3765, 'r -> Hmmmmmmmmmmqt': 3766, 'ρ -> Emmmmmmmm': 3767, 'r -> EEHHmmmm': 3768, 'r -> mmUUUqt': 3769, 'p -> HHHHHHmmqt': 3770, 'T -> EUUUt': 3771, 'T -> HHmmmmmmm': 3772, 'p -> HHHHHHHmt': 3773, 'ρ -> EEUt': 3774, 'r -> HH¤U': 3775, 'ρ -> mmmmm': 3776, 'p -> ¤U': 3777, 'T -> EHHmmmmmmm': 3778, 'r -> EHHHmmmmU': 3779, 'ρ -> HHHHmt': 3780, 'r -> HHmmmmmmmq': 3781, 'p -> HHHHmm': 3782, 'r -> qφ': 3783, 'p -> HHHHHHHmqt': 3784, 'r -> HHmmmmmmmUt': 3785, 'r -> HHHHHHHmt': 3786, 'ρ -> ¤mmmt': 3787, 'r -> HH¤¤mmUt': 3788, 'r -> HH¤mmmqt': 3789, 'p -> H¤mmmqt': 3790, 'ρ -> H¤mmmqt': 3791, 'r -> HHHHH¤mmmt': 3792, 'ρ -> EHHHHHHmt': 3793, 'p -> EEEHHmt': 3794, 'π -> HHHHHHHHHHmmmmqt': 3795, 'π -> HHHHHHHHmqt': 3796, 'π -> HHHHHHHHmmqt': 3797, 'p -> HHHHHHHHmmmmmqt': 3798, 'p -> HHHHHHHmmmmmqt': 3799, 'ρ -> HHHHHHHHHHmmmmqt': 3800, 'ρ -> HHHHHHHHmmqt': 3801, 'π -> HHHHHHHHHmmmmqt': 3802, 'π -> HHHHHHHqt': 3803, 'p -> HHHHHHHHHHHHqt': 3804, 'π -> HHHHHmmqt': 3805, 'π -> HHHHHHHmmmmmmqt': 3806}\n"
     ]
    }
   ],
   "source": [
    "# Counter: subclass of Python's dictionary used for counting hashable objects, in this case, tokens (words).\n",
    "# OrderedDict: subclass of Python's dictionary that remembers the insertion order of keys. It is used to store tokens in a specific order based on frequency.\n",
    "from collections import Counter, OrderedDict\n",
    "# re: A module for working with regular expressions, used to manipulate and clean text.\n",
    "import re\n",
    "\n",
    "# Token counts and vocab creation\n",
    "# Initializes an empty Counter object to hold the frequency of each token in the dataset.\n",
    "token_counts = Counter()\n",
    "\n",
    "# Define tokenizer\n",
    "def tokenizer(text):\n",
    "\n",
    "    #  replace | with \" \"\n",
    "    # text = text.replace(\"|\", \" \")\n",
    "    tokens = re.findall(r'\\((.*?)\\)|\\|', text)\n",
    "    return tokens\n",
    "\n",
    "# Tokenize the training data and populate token_counts\n",
    "for entry in test_dataset:  # Assuming train_dataset is a dataset with 'text'\n",
    "    line = entry['text']\n",
    "    tokens = tokenizer(line)\n",
    "    token_counts.update(tokens)\n",
    "\n",
    "# Sort tokens by frequency\n",
    "# token_counts.items() returns the tokens and their respective counts as a list of tuples (e.g., [(token1, count1), (token2, count2), ...])\n",
    "# key=lambda x: x[1] means that the sorting is based on the count (x[1]), which is the second element of each tuple\n",
    "# reverse=True means that the most frequent tokens appear first in the sorted list.\n",
    "sorted_by_freq_tuples = sorted(token_counts.items(), key=lambda x: x[1], reverse=True)\n",
    "\n",
    "# Create an ordered dictionary for the vocab\n",
    "ordered_dict = OrderedDict(sorted_by_freq_tuples)\n",
    "\n",
    "# The padding token (pad) is used to ensure that all sequences in a batch have the same length.\n",
    "# The unknown token (unk) is used to represent words that are not found in the model's vocabulary (the top 69021 words in your case).\n",
    "# Any word that doesn't appear in the vocabulary is replaced by the unk token during tokenization.\n",
    "# This is critical for handling unseen words during inference, where the model encounters words that were not present in the training data.\n",
    "# Create vocab dictionary with special tokens\n",
    "# Initializes the vocab dictionary with two special tokens\n",
    "vocab = {\"<pad>\": 0, \"<unk>\": 1}\n",
    "\n",
    "for idx, (token, count) in enumerate(ordered_dict.items(), start=2):  # Start from 2 to skip the special tokens\n",
    "    vocab[token] = idx\n",
    "\n",
    "\n",
    "# Print the vocabulary size (should be 69023)\n",
    "print('Vocab-size:', len(vocab))\n",
    "print('vocab', vocab)\n",
    "# --- Rationale:\n",
    "#\n",
    "# By assigning frequent words lower indices, we can optimize memory and computational efficiency.\n",
    "# Words that appear infrequently can either be assigned higher indices (in case we want to keep them) or omitted from the vocabulary entirely."
   ]
  },
  {
   "cell_type": "code",
   "execution_count": 12,
   "id": "6d32c610",
   "metadata": {
    "execution": {
     "iopub.execute_input": "2024-11-26T06:05:22.300605Z",
     "iopub.status.busy": "2024-11-26T06:05:22.300421Z",
     "iopub.status.idle": "2024-11-26T06:05:22.305294Z",
     "shell.execute_reply": "2024-11-26T06:05:22.304921Z"
    },
    "papermill": {
     "duration": 0.012082,
     "end_time": "2024-11-26T06:05:22.306563",
     "exception": false,
     "start_time": "2024-11-26T06:05:22.294481",
     "status": "completed"
    },
    "tags": []
   },
   "outputs": [
    {
     "name": "stdout",
     "output_type": "stream",
     "text": [
      "[34, 22, 4, 7, 2, 9, 6, 9, 8, 2, 3, 111, 7, 9, 2, 26, 4, 6, 6, 2, 9, 7, 3, 6, 2, 6, 3, 8, 7, 2, 3, 6, 6, 6, 2, 6, 34, 6, 8, 2, 3, 8, 8, 3, 2, 111, 34, 295, 8, 2, 9, 3, 3, 9, 2, 3, 7, 10, 7, 2, 9, 9, 50, 8, 2, 6, 3, 7, 6, 2, 3, 8, 9, 77, 2, 8, 3, 3, 3, 2, 54, 3, 3, 22, 2, 6, 7, 3, 7, 2, 7, 3, 54, 3, 2, 6, 3, 3, 3, 2, 3, 9, 3, 7, 2, 7, 6, 7, 262, 2, 3, 3, 86, 6, 2, 9, 46, 18, 49, 2, 6, 7, 9, 6, 2, 3, 3, 32, 8, 2, 8, 6, 7, 34, 2, 3, 9, 3, 6, 2, 8, 3, 6, 3, 2, 9, 3, 83, 4, 2, 4, 3, 3, 7, 2, 4, 7, 3, 7, 2, 49, 6, 6, 7, 2, 6, 8, 6, 9, 2, 6, 6, 9, 3, 2, 3, 3, 7, 4, 2, 4, 4, 7, 3, 2, 4, 6, 6, 9, 2, 6, 12, 3, 6, 2, 8, 54, 54, 50, 2, 3, 3, 4, 4, 2, 4, 3, 3, 4, 2, 3, 54, 3, 4, 2, 9, 6, 4, 4, 2, 4, 4, 18, 49, 2, 18, 9, 4, 18, 2, 9, 6, 9, 3, 2, 3, 7, 3, 7, 2, 3, 3, 3, 54, 2, 50, 3, 4, 3, 2, 18, 8, 4, 6, 2, 6, 6, 4, 206, 2, 206, 3, 7]\n"
     ]
    }
   ],
   "source": [
    "# action r⚀r|⚀pr|⚁r□r⚀r|⚁T|⚁T|⚁r|⚁r⚀r|⚁pp|⚀r|⚁r|⚀r⚀r|⚁T|⚁r|⚁r|⚁T⚀T□r|⚁T|⚁rrr|⚁rr□r|⚁T|⚁T□T□T|⚁T|⚁r|⚁r|⚁r⚀Tr|⚁T|⚁T|⚁r|□T⚀r□r|⚁r|⚁r|⚁rr|⚀Tr⚀T□r|⚁r⚀T|⚁T|⚁rr|⚁T□T⚀T|⚀T⚀π⚀T|⚁T|⚁r□r|⚁r|⚁T|⚁rr|⚁Tπ|⚁Tr|⚀TT□T⚀T□rT|⚁r⚀r⚀r|⚁r|⚁r|⚁T⚀T|⚀r|⚁r□r□r□r⚀r|⚀r|⚁r⚀r⚀r|⚀T|⚁T|⚁r|⚁T|⚁T|⚁r|⚀r|⚁rT|⚀r|⚁T|⚁r□T□T□r|⚁T|⚂r|⚁T|⚁r|⚀p□p|⚁T|⚁T□rp|⚁r|⚁T|⚀rr|⚁r⚀rr|□r□Tr|⚁r|⚁r|⚁r|⚁r|⚀T⚀T□T⚀rppp⚀r|⚀T|⚁pr|⚁r|⚁r⚀r|⚁T|⚁T|⚁r|⚁T⚀π⚀π|⚀r|⚁T|⚁T|⚁p⚀pp|⚁T|⚀T|⚁p|⚁T⚀π⚀T|⚀p|⚁r|⚁r⚀p□ppp|⚀rr□r⚀rp|⚁r|⚁rr|⚁r|⚁T|⚀T⚀r□T⚀r|⚁T|⚁T⚀T⚀π|⚁r|⚁T□p|⚀T|⚁r|⚁T⚀p|⚁r|⚁r⚀r|⚀p□ρρ□T|⚁r\n",
    "\n",
    "# content (E)(EHt)|(t)(t)|(Et)(qt)(Et)|(qt)|(t)|(EEEt)|(t)(Et)|(mmt)(t)|(qt)|(qt)|(Et)(t)|(t)|(qt)|(qt)|(t)(qt)(t)|(t)|(qt)(qt)(qt)|(qt)(E)(qt)|(qt)|(t)(qt)(qt)|(t)|(EEEt)|(E)|(EEEHt)(qt)(Et)|(t)|(t)|(Et)|(t)(t)(Ut)|(t)|(Et)|(Et)(EEt)|(qt)(qt)(t)(t)|(qt)(t)|(qt)|(Et)(EEEEt)|(qt)(t)(t)|(t)(t)(t)|(t)|(EHt)(qt)|(t)|(t)|(t)(t)|(t)(t)|(t)(qt)|(t)(t)(t)(t)(Et)(t)|(t)(t)(qt)|(t)|(EEEEmt)|(t)(t)|(HHmqt)|(qt)(Et)(EHmt)(Hqt)(EHHt)|(qt)|(t)(Et)(qt)|(t)|(t)|(Emt)|(qt)|(qt)|(qt)|(t)|(E)(t)|(Et)|(t)|(qt)(qt)(t)(qt)|(t)|(Et)|(t)|(EHUt)|(t)(t)|(t)|(t)(t)(t)|(t)|(t)|(t)(EHHt)|(qt)(qt)(t)|(qt)(qt)(qt)|(Et)|(qt)|(qt)|(Et)|(t)(t)(t)(t)(t)(t)(t)(t)|(t)|(t)(qt)|(qt)|(Et)(qt)|(Et)|(t)|(qt)|(qt)(t)(t)|(EEt)|(t)|(t)|(t)(t)(t)|(t)|(t)|(t)|(t)(t)(t)|(t)|(Et)|(qt)(t)(t)(t)(t)|(Hqt)(EHHt)(Hqt)(Et)(t)|(Hqt)|(Et)(qt)|(Et)|(t)|(t)(t)(t)(t)|(t)|(t)(t)(t)|(EEt)|(t)(t)|(t)|(Hqt)|(qt)(t)|(qt)|(qt)(qt)|(t)(t)(t)(t)|(t)\n",
    "\n",
    "# text (r -> E)(r -> EHt)(p -> t)(r -> t)|(r -> Et)(r -> qt)(r -> Et)(T -> qt)|(T -> t)(r -> EEEt)(r -> t)(r -> Et)|(p -> mmt)(p -> t)(r -> qt)(r -> qt)|(r -> Et)(r -> t)(T -> t)(r -> qt)|(r -> qt)(T -> t)(T -> qt)(r -> t)|(T -> t)(r -> qt)(r -> qt)(r -> qt)|(r -> qt)(r -> E)(r -> qt)(T -> qt)|(T -> t)(T -> qt)(T -> qt)(T -> t)|(r -> EEEt)(r -> E)(r -> EEEHt)(T -> qt)|(r -> Et)(T -> t)(T -> t)(r -> Et)|(T -> t)(r -> t)(r -> Ut)(r -> t)|(r -> Et)(r -> Et)(r -> EEt)(T -> qt)|(r -> qt)(T -> t)(r -> t)(r -> qt)|(T -> t)(T -> qt)(r -> Et)(r -> EEEEt)|(T -> qt)(T -> t)(T -> t)(T -> t)|(π -> t)(T -> t)(T -> t)(r -> EHt)|(r -> qt)(r -> t)(T -> t)(r -> t)|(r -> t)(T -> t)(π -> t)(T -> t)|(r -> qt)(T -> t)(T -> t)(T -> t)|(T -> t)(r -> Et)(T -> t)(r -> t)|(r -> t)(r -> qt)(r -> t)(r -> EEEEmt)|(T -> t)(T -> t)(r -> HHmqt)(r -> qt)|(r -> Et)(r -> EHmt)(r -> Hqt)(r -> EHHt)|(r -> qt)(r -> t)(r -> Et)(r -> qt)|(T -> t)(T -> t)(r -> Emt)(T -> qt)|(T -> qt)(r -> qt)(r -> t)(r -> E)|(T -> t)(r -> Et)(T -> t)(r -> qt)|(T -> qt)(T -> t)(r -> qt)(T -> t)|(r -> Et)(T -> t)(r -> EHUt)(p -> t)|(p -> t)(T -> t)(T -> t)(r -> t)|(p -> t)(r -> t)(T -> t)(r -> t)|(r -> EHHt)(r -> qt)(r -> qt)(r -> t)|(r -> qt)(T -> qt)(r -> qt)(r -> Et)|(r -> qt)(r -> qt)(r -> Et)(T -> t)|(T -> t)(T -> t)(r -> t)(p -> t)|(p -> t)(p -> t)(r -> t)(T -> t)|(p -> t)(r -> qt)(r -> qt)(r -> Et)|(r -> qt)(T -> Et)(T -> t)(r -> qt)|(T -> qt)(π -> t)(π -> t)(r -> EEt)|(T -> t)(T -> t)(p -> t)(p -> t)|(p -> t)(T -> t)(T -> t)(p -> t)|(T -> t)(π -> t)(T -> t)(p -> t)|(r -> Et)(r -> qt)(p -> t)(p -> t)|(p -> t)(p -> t)(r -> Hqt)(r -> EHHt)|(r -> Hqt)(r -> Et)(p -> t)(r -> Hqt)|(r -> Et)(r -> qt)(r -> Et)(T -> t)|(T -> t)(r -> t)(T -> t)(r -> t)|(T -> t)(T -> t)(T -> t)(π -> t)|(r -> EEt)(T -> t)(p -> t)(T -> t)|(r -> Hqt)(T -> qt)(p -> t)(r -> qt)|(r -> qt)(r -> qt)(p -> t)(ρ -> t)|(ρ -> t)(T -> t)(r -> t)\n",
    "\n",
    "\n",
    "def encode(tokens):\n",
    "    #If the token does not exist in the vocab, the function returns the index of the <unk>\n",
    "    return [vocab.get(token, vocab[\"<unk>\"]) for token in tokens]\n",
    "# Example usage\n",
    "print(encode(tokenizer('(r -> E)(r -> EHt)(p -> t)(r -> t)|(r -> Et)(r -> qt)(r -> Et)(T -> qt)|(T -> t)(r -> EEEt)(r -> t)(r -> Et)|(p -> mmt)(p -> t)(r -> qt)(r -> qt)|(r -> Et)(r -> t)(T -> t)(r -> qt)|(r -> qt)(T -> t)(T -> qt)(r -> t)|(T -> t)(r -> qt)(r -> qt)(r -> qt)|(r -> qt)(r -> E)(r -> qt)(T -> qt)|(T -> t)(T -> qt)(T -> qt)(T -> t)|(r -> EEEt)(r -> E)(r -> EEEHt)(T -> qt)|(r -> Et)(T -> t)(T -> t)(r -> Et)|(T -> t)(r -> t)(r -> Ut)(r -> t)|(r -> Et)(r -> Et)(r -> EEt)(T -> qt)|(r -> qt)(T -> t)(r -> t)(r -> qt)|(T -> t)(T -> qt)(r -> Et)(r -> EEEEt)|(T -> qt)(T -> t)(T -> t)(T -> t)|(π -> t)(T -> t)(T -> t)(r -> EHt)|(r -> qt)(r -> t)(T -> t)(r -> t)|(r -> t)(T -> t)(π -> t)(T -> t)|(r -> qt)(T -> t)(T -> t)(T -> t)|(T -> t)(r -> Et)(T -> t)(r -> t)|(r -> t)(r -> qt)(r -> t)(r -> EEEEmt)|(T -> t)(T -> t)(r -> HHmqt)(r -> qt)|(r -> Et)(r -> EHmt)(r -> Hqt)(r -> EHHt)|(r -> qt)(r -> t)(r -> Et)(r -> qt)|(T -> t)(T -> t)(r -> Emt)(T -> qt)|(T -> qt)(r -> qt)(r -> t)(r -> E)|(T -> t)(r -> Et)(T -> t)(r -> qt)|(T -> qt)(T -> t)(r -> qt)(T -> t)|(r -> Et)(T -> t)(r -> EHUt)(p -> t)|(p -> t)(T -> t)(T -> t)(r -> t)|(p -> t)(r -> t)(T -> t)(r -> t)|(r -> EHHt)(r -> qt)(r -> qt)(r -> t)|(r -> qt)(T -> qt)(r -> qt)(r -> Et)|(r -> qt)(r -> qt)(r -> Et)(T -> t)|(T -> t)(T -> t)(r -> t)(p -> t)|(p -> t)(p -> t)(r -> t)(T -> t)|(p -> t)(r -> qt)(r -> qt)(r -> Et)|(r -> qt)(T -> Et)(T -> t)(r -> qt)|(T -> qt)(π -> t)(π -> t)(r -> EEt)|(T -> t)(T -> t)(p -> t)(p -> t)|(p -> t)(T -> t)(T -> t)(p -> t)|(T -> t)(π -> t)(T -> t)(p -> t)|(r -> Et)(r -> qt)(p -> t)(p -> t)|(p -> t)(p -> t)(r -> Hqt)(r -> EHHt)|(r -> Hqt)(r -> Et)(p -> t)(r -> Hqt)|(r -> Et)(r -> qt)(r -> Et)(T -> t)|(T -> t)(r -> t)(T -> t)(r -> t)|(T -> t)(T -> t)(T -> t)(π -> t)|(r -> EEt)(T -> t)(p -> t)(T -> t)|(r -> Hqt)(T -> qt)(p -> t)(r -> qt)|(r -> qt)(r -> qt)(p -> t)(ρ -> t)|(ρ -> t)(T -> t)(r -> t)')))  # Should output something like [11, 7, 35, 457]"
   ]
  },
  {
   "cell_type": "code",
   "execution_count": 13,
   "id": "4c3d453f",
   "metadata": {
    "execution": {
     "iopub.execute_input": "2024-11-26T06:05:22.318177Z",
     "iopub.status.busy": "2024-11-26T06:05:22.318022Z",
     "iopub.status.idle": "2024-11-26T06:05:22.428317Z",
     "shell.execute_reply": "2024-11-26T06:05:22.427898Z"
    },
    "papermill": {
     "duration": 0.117208,
     "end_time": "2024-11-26T06:05:22.429209",
     "exception": false,
     "start_time": "2024-11-26T06:05:22.312001",
     "status": "completed"
    },
    "tags": []
   },
   "outputs": [],
   "source": [
    "if not torch.cuda.is_available():\n",
    "    print(\"Warning: this code may be very slow on CPU\")"
   ]
  },
  {
   "cell_type": "code",
   "execution_count": 14,
   "id": "9d30526d",
   "metadata": {
    "execution": {
     "iopub.execute_input": "2024-11-26T06:05:22.441827Z",
     "iopub.status.busy": "2024-11-26T06:05:22.441181Z",
     "iopub.status.idle": "2024-11-26T06:05:22.447262Z",
     "shell.execute_reply": "2024-11-26T06:05:22.446925Z"
    },
    "papermill": {
     "duration": 0.013071,
     "end_time": "2024-11-26T06:05:22.448072",
     "exception": false,
     "start_time": "2024-11-26T06:05:22.435001",
     "status": "completed"
    },
    "tags": []
   },
   "outputs": [],
   "source": [
    "import torch\n",
    "import torch.nn as nn\n",
    "import re\n",
    "\n",
    "device = torch.device(\"cuda\" if torch.cuda.is_available() else \"cpu\")\n",
    "\n",
    "# Use the manual vocab creation process from earlier\n",
    "# Assuming `vocab` and `tokenizer` are already defined\n",
    "\n",
    "#text_pipeline = lambda x: [vocab[token] for token in tokenizer(x)]\n",
    "# Updated text pipeline\n",
    "text_pipeline = lambda x: [vocab.get(token, vocab[\"<unk>\"]) for token in tokenizer(x)]\n",
    "\n",
    "label_pipeline = lambda x: float(x)  # Convert to float to match the output\n",
    "\n",
    "# Batch collation function\n",
    "def collate_batch(batch):\n",
    "    label_list, text_list, lengths = [], [], []\n",
    "    for entry in batch:  # Each 'entry' is a dictionary with 'text' and 'label'\n",
    "        _label = entry['label']\n",
    "        _text = entry['text']\n",
    "\n",
    "        # Process labels and text\n",
    "        label_list.append(label_pipeline(_label))  # Convert labels using label_pipeline\n",
    "        processed_text = torch.tensor(text_pipeline(_text), dtype=torch.int64)  # Convert text to indices\n",
    "\n",
    "        # Store processed text and its length\n",
    "        text_list.append(processed_text)\n",
    "        lengths.append(processed_text.size(0))\n",
    "\n",
    "    # Convert lists to tensors and pad sequences\n",
    "    label_list = torch.tensor(label_list)\n",
    "    lengths = torch.tensor(lengths)\n",
    "    padded_text_list = nn.utils.rnn.pad_sequence(text_list, batch_first=True)\n",
    "\n",
    "    return padded_text_list.to(device), label_list.to(device), lengths.to(device)"
   ]
  },
  {
   "cell_type": "code",
   "execution_count": 15,
   "id": "93f8ce02",
   "metadata": {
    "execution": {
     "iopub.execute_input": "2024-11-26T06:05:22.459708Z",
     "iopub.status.busy": "2024-11-26T06:05:22.459413Z",
     "iopub.status.idle": "2024-11-26T06:05:22.830773Z",
     "shell.execute_reply": "2024-11-26T06:05:22.830273Z"
    },
    "papermill": {
     "duration": 0.378159,
     "end_time": "2024-11-26T06:05:22.831680",
     "exception": false,
     "start_time": "2024-11-26T06:05:22.453521",
     "status": "completed"
    },
    "tags": []
   },
   "outputs": [
    {
     "name": "stdout",
     "output_type": "stream",
     "text": [
      "Text batch: tensor([[  5,   5,   5,  ...,  10, 170,  30],\n",
      "        [ 12,  20, 108,  ...,   0,   0,   0],\n",
      "        [  3,   7,   3,  ...,   0,   0,   0],\n",
      "        [  3,   3,   3,  ...,   0,   0,   0]], device='cuda:0')\n",
      "Label batch: tensor([1., 1., 1., 1.], device='cuda:0')\n",
      "Length batch: tensor([263, 104, 227, 151], device='cuda:0')\n",
      "Text batch shape: torch.Size([4, 263])\n"
     ]
    }
   ],
   "source": [
    "#-----  Example usage with DataLoader -----#\n",
    "## Take a small batch\n",
    "\n",
    "dataloader = DataLoader(train_dataset, batch_size=4, shuffle=False, collate_fn=collate_batch)\n",
    "text_batch, label_batch, length_batch = next(iter(dataloader))\n",
    "\n",
    "# Print the output batch\n",
    "print(\"Text batch:\", text_batch)\n",
    "print(\"Label batch:\", label_batch)\n",
    "print(\"Length batch:\", length_batch)\n",
    "print(\"Text batch shape:\", text_batch.shape)"
   ]
  },
  {
   "cell_type": "code",
   "execution_count": 16,
   "id": "11015fab",
   "metadata": {
    "execution": {
     "iopub.execute_input": "2024-11-26T06:05:22.846298Z",
     "iopub.status.busy": "2024-11-26T06:05:22.845670Z",
     "iopub.status.idle": "2024-11-26T06:05:22.849405Z",
     "shell.execute_reply": "2024-11-26T06:05:22.849072Z"
    },
    "papermill": {
     "duration": 0.010956,
     "end_time": "2024-11-26T06:05:22.850202",
     "exception": false,
     "start_time": "2024-11-26T06:05:22.839246",
     "status": "completed"
    },
    "tags": []
   },
   "outputs": [],
   "source": [
    "## Batching the datasets\n",
    "batch_size = 32\n",
    "\n",
    "train_dl = DataLoader(train_dataset, batch_size=batch_size,\n",
    "                      shuffle=True, collate_fn=collate_batch)\n",
    "val_dl = DataLoader(val_dataset, batch_size=batch_size,\n",
    "                      shuffle=False, collate_fn=collate_batch)\n",
    "test_dl = DataLoader(test_dataset, batch_size=batch_size,\n",
    "                     shuffle=False, collate_fn=collate_batch)"
   ]
  },
  {
   "cell_type": "code",
   "execution_count": 17,
   "id": "6f5a1052",
   "metadata": {
    "execution": {
     "iopub.execute_input": "2024-11-26T06:05:22.862261Z",
     "iopub.status.busy": "2024-11-26T06:05:22.861982Z",
     "iopub.status.idle": "2024-11-26T06:05:22.887384Z",
     "shell.execute_reply": "2024-11-26T06:05:22.887043Z"
    },
    "papermill": {
     "duration": 0.032183,
     "end_time": "2024-11-26T06:05:22.888188",
     "exception": false,
     "start_time": "2024-11-26T06:05:22.856005",
     "status": "completed"
    },
    "tags": []
   },
   "outputs": [],
   "source": [
    "class RNN(nn.Module):\n",
    "    def __init__(self, vocab_size, embed_dim, rnn_hidden_size, fc_hidden_size):\n",
    "        super().__init__()\n",
    "        self.embedding = nn.Embedding(vocab_size,\n",
    "                                      embed_dim,\n",
    "                                      padding_idx=0)\n",
    "        self.rnn = nn.LSTM(embed_dim, rnn_hidden_size,\n",
    "                           batch_first=True)\n",
    "        self.fc1 = nn.Linear(rnn_hidden_size, fc_hidden_size)\n",
    "        self.relu = nn.ReLU()\n",
    "        self.fc2 = nn.Linear(fc_hidden_size, 1)\n",
    "        self.sigmoid = nn.Sigmoid()\n",
    "\n",
    "    def forward(self, text, lengths):\n",
    "        out = self.embedding(text)\n",
    "        out = nn.utils.rnn.pack_padded_sequence(out, lengths.cpu().numpy(), enforce_sorted=False, batch_first=True)\n",
    "        out, (hidden, cell) = self.rnn(out)\n",
    "        out = hidden[-1, :, :]\n",
    "        out = self.fc1(out)\n",
    "        out = self.relu(out)\n",
    "        out = self.fc2(out)\n",
    "        out = self.sigmoid(out)\n",
    "        return out\n",
    "\n",
    "vocab_size = len(vocab)\n",
    "embed_dim = 20\n",
    "rnn_hidden_size = 64\n",
    "fc_hidden_size = 64\n",
    "\n",
    "torch.manual_seed(1)\n",
    "model = RNN(vocab_size, embed_dim, rnn_hidden_size, fc_hidden_size)\n",
    "model = model.to(device)"
   ]
  },
  {
   "cell_type": "code",
   "execution_count": 18,
   "id": "d1bbd692",
   "metadata": {
    "execution": {
     "iopub.execute_input": "2024-11-26T06:05:22.900459Z",
     "iopub.status.busy": "2024-11-26T06:05:22.899886Z",
     "iopub.status.idle": "2024-11-26T06:05:23.853707Z",
     "shell.execute_reply": "2024-11-26T06:05:23.853275Z"
    },
    "papermill": {
     "duration": 0.96101,
     "end_time": "2024-11-26T06:05:23.854816",
     "exception": false,
     "start_time": "2024-11-26T06:05:22.893806",
     "status": "completed"
    },
    "tags": []
   },
   "outputs": [],
   "source": [
    "loss_fn = nn.BCELoss()\n",
    "optimizer = torch.optim.Adam(model.parameters(), lr=0.001)"
   ]
  },
  {
   "cell_type": "code",
   "execution_count": 19,
   "id": "5a2f0943",
   "metadata": {
    "execution": {
     "iopub.execute_input": "2024-11-26T06:05:23.885987Z",
     "iopub.status.busy": "2024-11-26T06:05:23.884972Z",
     "iopub.status.idle": "2024-11-26T06:05:23.893523Z",
     "shell.execute_reply": "2024-11-26T06:05:23.892948Z"
    },
    "papermill": {
     "duration": 0.034093,
     "end_time": "2024-11-26T06:05:23.894887",
     "exception": false,
     "start_time": "2024-11-26T06:05:23.860794",
     "status": "completed"
    },
    "tags": []
   },
   "outputs": [],
   "source": [
    "def train(dataloader):\n",
    "    model.train()\n",
    "    total_acc, total_loss = 0, 0\n",
    "    for text_batch, label_batch, lengths in dataloader:  # Loop through batches in dataloader\n",
    "        optimizer.zero_grad()\n",
    "        pred = model(text_batch, lengths)[:, 0]\n",
    "        loss = loss_fn(pred, label_batch)\n",
    "        loss.backward()\n",
    "        optimizer.step()\n",
    "        total_acc += ((pred >= 0.5).float() == label_batch).float().sum().item()\n",
    "        total_loss += loss.item() * label_batch.size(0)\n",
    "    return total_acc / len(dataloader.dataset), total_loss / len(dataloader.dataset)\n",
    "\n",
    "def evaluate(dataloader):\n",
    "    model.eval()\n",
    "    total_acc, total_loss = 0, 0\n",
    "    with torch.no_grad():\n",
    "        for text_batch, label_batch, lengths in dataloader:  # Loop through batches in dataloader\n",
    "            pred = model(text_batch, lengths)[:, 0]\n",
    "            loss = loss_fn(pred, label_batch)\n",
    "            total_acc += ((pred >= 0.5).float() == label_batch).float().sum().item()\n",
    "            total_loss += loss.item() * label_batch.size(0)\n",
    "    return total_acc / len(dataloader.dataset), total_loss / len(dataloader.dataset)"
   ]
  },
  {
   "cell_type": "code",
   "execution_count": 20,
   "id": "3cba6eda",
   "metadata": {
    "execution": {
     "iopub.execute_input": "2024-11-26T06:05:23.910282Z",
     "iopub.status.busy": "2024-11-26T06:05:23.909987Z",
     "iopub.status.idle": "2024-11-26T06:13:00.419953Z",
     "shell.execute_reply": "2024-11-26T06:13:00.419514Z"
    },
    "papermill": {
     "duration": 456.518065,
     "end_time": "2024-11-26T06:13:00.420806",
     "exception": false,
     "start_time": "2024-11-26T06:05:23.902741",
     "status": "completed"
    },
    "tags": []
   },
   "outputs": [
    {
     "name": "stdout",
     "output_type": "stream",
     "text": [
      "Epoch 1 - accuracy: 0.7597, val_accuracy: 0.8258\n"
     ]
    },
    {
     "name": "stdout",
     "output_type": "stream",
     "text": [
      "Epoch 2 - accuracy: 0.8394, val_accuracy: 0.8507\n"
     ]
    },
    {
     "name": "stdout",
     "output_type": "stream",
     "text": [
      "Epoch 3 - accuracy: 0.8521, val_accuracy: 0.8556\n"
     ]
    },
    {
     "name": "stdout",
     "output_type": "stream",
     "text": [
      "Epoch 4 - accuracy: 0.8602, val_accuracy: 0.8626\n"
     ]
    },
    {
     "name": "stdout",
     "output_type": "stream",
     "text": [
      "Epoch 5 - accuracy: 0.8639, val_accuracy: 0.8678\n"
     ]
    },
    {
     "name": "stdout",
     "output_type": "stream",
     "text": [
      "Epoch 6 - accuracy: 0.8689, val_accuracy: 0.8671\n"
     ]
    },
    {
     "name": "stdout",
     "output_type": "stream",
     "text": [
      "Epoch 7 - accuracy: 0.8692, val_accuracy: 0.8631\n"
     ]
    },
    {
     "name": "stdout",
     "output_type": "stream",
     "text": [
      "Epoch 8 - accuracy: 0.8717, val_accuracy: 0.8705\n"
     ]
    },
    {
     "name": "stdout",
     "output_type": "stream",
     "text": [
      "Epoch 9 - accuracy: 0.8741, val_accuracy: 0.8726\n"
     ]
    },
    {
     "name": "stdout",
     "output_type": "stream",
     "text": [
      "Epoch 10 - accuracy: 0.8772, val_accuracy: 0.8722\n"
     ]
    },
    {
     "data": {
      "image/png": "[encoded data removed]",
      "text/plain": [
       "<Figure size 1400x500 with 2 Axes>"
      ]
     },
     "metadata": {},
     "output_type": "display_data"
    }
   ],
   "source": [
    "import torch\n",
    "import matplotlib.pyplot as plt\n",
    "import seaborn as sns\n",
    "from sklearn.metrics import confusion_matrix\n",
    "import numpy as np\n",
    "\n",
    "# Initialize lists to store training and validation metrics for each epoch\n",
    "train_accuracies = []\n",
    "train_losses = []\n",
    "valid_accuracies = []\n",
    "valid_losses = []\n",
    "\n",
    "num_epochs = 10\n",
    "torch.manual_seed(1)\n",
    "\n",
    "# Training loop with metrics storage\n",
    "for epoch in range(num_epochs):\n",
    "    acc_train, loss_train = train(train_dl)\n",
    "    acc_valid, loss_valid = evaluate(val_dl)\n",
    "    \n",
    "    # Store metrics\n",
    "    train_accuracies.append(acc_train)\n",
    "    train_losses.append(loss_train)\n",
    "    valid_accuracies.append(acc_valid)\n",
    "    valid_losses.append(loss_valid)\n",
    "\n",
    "    print(f'Epoch {epoch + 1} - accuracy: {acc_train:.4f}, val_accuracy: {acc_valid:.4f}')\n",
    "\n",
    "# Plotting training and validation losses\n",
    "plt.figure(figsize=(14, 5))\n",
    "\n",
    "plt.subplot(1, 2, 1)\n",
    "plt.plot(range(1, num_epochs + 1), train_losses, label='Training Loss')\n",
    "plt.plot(range(1, num_epochs + 1), valid_losses, label='Validation Loss')\n",
    "plt.xlabel('Epoch')\n",
    "plt.ylabel('Loss')\n",
    "plt.title('Training and Validation Loss')\n",
    "plt.legend()\n",
    "\n",
    "# Plotting training and validation accuracies\n",
    "plt.subplot(1, 2, 2)\n",
    "plt.plot(range(1, num_epochs + 1), train_accuracies, label='Training Accuracy')\n",
    "plt.plot(range(1, num_epochs + 1), valid_accuracies, label='Validation Accuracy')\n",
    "plt.xlabel('Epoch')\n",
    "plt.ylabel('Accuracy')\n",
    "plt.title('Training and Validation Accuracy')\n",
    "plt.legend()\n",
    "\n",
    "plt.show()"
   ]
  },
  {
   "cell_type": "code",
   "execution_count": 21,
   "id": "4c369bed",
   "metadata": {
    "execution": {
     "iopub.execute_input": "2024-11-26T06:13:00.435799Z",
     "iopub.status.busy": "2024-11-26T06:13:00.435121Z",
     "iopub.status.idle": "2024-11-26T06:13:05.209728Z",
     "shell.execute_reply": "2024-11-26T06:13:05.209319Z"
    },
    "papermill": {
     "duration": 4.782681,
     "end_time": "2024-11-26T06:13:05.210598",
     "exception": false,
     "start_time": "2024-11-26T06:13:00.427917",
     "status": "completed"
    },
    "tags": []
   },
   "outputs": [
    {
     "name": "stdout",
     "output_type": "stream",
     "text": [
      "test_accuracy: 0.8695\n"
     ]
    }
   ],
   "source": [
    "acc_test, _ = evaluate(test_dl)\n",
    "print(f'test_accuracy: {acc_test:.4f}')"
   ]
  },
  {
   "cell_type": "code",
   "execution_count": 22,
   "id": "98376797",
   "metadata": {
    "execution": {
     "iopub.execute_input": "2024-11-26T06:13:05.226198Z",
     "iopub.status.busy": "2024-11-26T06:13:05.225601Z",
     "iopub.status.idle": "2024-11-26T06:13:44.182829Z",
     "shell.execute_reply": "2024-11-26T06:13:44.182255Z"
    },
    "papermill": {
     "duration": 38.965985,
     "end_time": "2024-11-26T06:13:44.184174",
     "exception": false,
     "start_time": "2024-11-26T06:13:05.218189",
     "status": "completed"
    },
    "tags": []
   },
   "outputs": [
    {
     "name": "stdout",
     "output_type": "stream",
     "text": [
      "Results saved to predictions.csv\n"
     ]
    }
   ],
   "source": [
    "import pandas as pd\n",
    "import torch\n",
    "import random\n",
    "\n",
    "# Function to preprocess and predict a single account\n",
    "def predict_comment(text, model, vocab):\n",
    "    model.eval()\n",
    "    # Tokenize and encode the input text using the same tokenizer and vocab as used during training\n",
    "    tokens = tokenizer(text)\n",
    "    encoded_text = [vocab.get(token, vocab[\"<unk>\"]) for token in tokens]\n",
    "\n",
    "    # Convert the tokens to tensor and add batch dimension\n",
    "    text_tensor = torch.tensor(encoded_text).unsqueeze(0).to(device)  # Add batch dimension\n",
    "    lengths_tensor = torch.tensor([len(encoded_text)]).to(device)\n",
    "\n",
    "    with torch.no_grad():\n",
    "        prediction = model(text_tensor, lengths_tensor)[:, 0]\n",
    "\n",
    "    # Apply threshold of 0.5 for binary classification\n",
    "    prediction_label = 1 if prediction >= 0.5 else 0\n",
    "    return prediction.item(), prediction_label\n",
    "\n",
    "# List to store prediction results\n",
    "results = []\n",
    "\n",
    "# Iterate over all samples in the test dataset\n",
    "for sample in test_dataset:\n",
    "    account_string = sample['text']\n",
    "    true_label = sample['label']\n",
    "    predicted_value, predicted_label = predict_comment(account_string, model, vocab)\n",
    "\n",
    "    # Append the data for each comment\n",
    "    results.append({\n",
    "        \"comment\": account_string,\n",
    "        \"true_label\": true_label,\n",
    "        \"predicted_value\": predicted_value,\n",
    "        \"predicted_label\": predicted_label\n",
    "    })\n",
    "\n",
    "# Convert results list to a DataFrame\n",
    "results_df = pd.DataFrame(results)\n",
    "\n",
    "# Save the results DataFrame to a CSV file\n",
    "#given the path from job\n",
    "results_df.to_csv(\"./rnn/only_action_method/results/predictions.csv\", index=False)\n",
    "\n",
    "print(\"Results saved to predictions.csv\")"
   ]
  },
  {
   "cell_type": "code",
   "execution_count": 23,
   "id": "b10d2a51",
   "metadata": {
    "execution": {
     "iopub.execute_input": "2024-11-26T06:13:44.199893Z",
     "iopub.status.busy": "2024-11-26T06:13:44.199713Z",
     "iopub.status.idle": "2024-11-26T06:14:23.037833Z",
     "shell.execute_reply": "2024-11-26T06:14:23.037319Z"
    },
    "papermill": {
     "duration": 38.846696,
     "end_time": "2024-11-26T06:14:23.039173",
     "exception": false,
     "start_time": "2024-11-26T06:13:44.192477",
     "status": "completed"
    },
    "tags": []
   },
   "outputs": [
    {
     "data": {
      "image/png": "[encoded data removed]",
      "text/plain": [
       "<Figure size 800x600 with 2 Axes>"
      ]
     },
     "metadata": {},
     "output_type": "display_data"
    }
   ],
   "source": [
    "# Confusion matrix on the validation set\n",
    "all_preds = []\n",
    "all_labels = []\n",
    "\n",
    "# Collect predictions and true labels from the validation set\n",
    "for sample in test_dataset:\n",
    "    account_string = sample['text']\n",
    "    true_label = sample['label']\n",
    "    predicted_value, predicted_label = predict_comment(account_string, model, vocab)  # Adjust if predict_comment takes a batch\n",
    "    all_preds.append(predicted_label)\n",
    "    all_labels.append(true_label)\n",
    "\n",
    "# Compute confusion matrix\n",
    "conf_matrix = confusion_matrix(all_labels, all_preds)\n",
    "\n",
    "# Plot confusion matrix\n",
    "plt.figure(figsize=(8, 6))\n",
    "sns.heatmap(conf_matrix, annot=True, fmt='d', cmap='Blues', xticklabels=['Negative', 'Positive'], yticklabels=['Negative', 'Positive'])\n",
    "plt.xlabel('Predicted Labels')\n",
    "plt.ylabel('True Labels')\n",
    "plt.title('Confusion Matrix')\n",
    "plt.show()"
   ]
  },
  {
   "cell_type": "code",
   "execution_count": 24,
   "id": "a4cadccf",
   "metadata": {
    "execution": {
     "iopub.execute_input": "2024-11-26T06:14:23.054391Z",
     "iopub.status.busy": "2024-11-26T06:14:23.054090Z",
     "iopub.status.idle": "2024-11-26T06:14:23.104012Z",
     "shell.execute_reply": "2024-11-26T06:14:23.103671Z"
    },
    "papermill": {
     "duration": 0.058386,
     "end_time": "2024-11-26T06:14:23.104806",
     "exception": false,
     "start_time": "2024-11-26T06:14:23.046420",
     "status": "completed"
    },
    "tags": []
   },
   "outputs": [
    {
     "data": {
      "text/plain": [
       "(11767, 4)"
      ]
     },
     "execution_count": 24,
     "metadata": {},
     "output_type": "execute_result"
    }
   ],
   "source": [
    "#given the path from job\n",
    "results_df[results_df['true_label'] != results_df['predicted_label']].to_csv(\"./rnn/only_action_method/results/mismatches.csv\")\n",
    "results_df.shape"
   ]
  }
 ],
 "metadata": {
  "kernelspec": {
   "display_name": ".venv",
   "language": "python",
   "name": "python3"
  },
  "language_info": {
   "codemirror_mode": {
    "name": "ipython",
    "version": 3
   },
   "file_extension": ".py",
   "mimetype": "text/x-python",
   "name": "python",
   "nbconvert_exporter": "python",
   "pygments_lexer": "ipython3",
   "version": "3.9.16"
  },
  "papermill": {
   "default_parameters": {},
   "duration": 563.459931,
   "end_time": "2024-11-26T06:14:24.939886",
   "environment_variables": {},
   "exception": null,
   "input_path": "./rnn/only_action_method/rnn.ipynb",
   "output_path": "./rnn/only_action_method/notebooks/output_notebook_v5.ipynb",
   "parameters": {},
   "start_time": "2024-11-26T06:05:01.479955",
   "version": "2.6.0"
  }
 },
 "nbformat": 4,
 "nbformat_minor": 5
}